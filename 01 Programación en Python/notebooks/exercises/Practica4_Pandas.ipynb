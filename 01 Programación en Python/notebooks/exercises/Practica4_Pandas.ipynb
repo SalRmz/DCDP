{
 "cells": [
  {
   "cell_type": "markdown",
   "metadata": {},
   "source": [
    "<a href=\"https://colab.research.google.com/github/DCDPUAEM/DCDP/blob/main/01%20Programaci%C3%B3n%20en%20Python/notebooks/exercises/Practica4_Pandas.ipynb\" target=\"_parent\"><img src=\"https://colab.research.google.com/assets/colab-badge.svg\" alt=\"Open In Colab\"/></a>"
   ]
  },
  {
   "cell_type": "code",
   "execution_count": 2,
   "metadata": {},
   "outputs": [],
   "source": [
    "import numpy as np\n",
    "import pandas as pd \n",
    "import matplotlib.pyplot as plt\n",
    "import seaborn as sns"
   ]
  },
  {
   "cell_type": "markdown",
   "metadata": {},
   "source": [
    "### __Data set de vinos del mundo__\n",
    "\n",
    "Esta es una versión reducida de la base de datos [winemag-data](https://gist.github.com/clairehq/79acab35be50eaf1c383948ed3fd1129), que contiene una reseña en inglés sobre una gran cantidad de vinos del mundo."
   ]
  },
  {
   "cell_type": "markdown",
   "metadata": {},
   "source": [
    "### __Descripción de los campos__\n",
    "\n",
    " - **country**: El país de donde proviene el vino\n",
    " - **description** : Algunas frases de un sommelier que describen el sabor, olor, apariencia, sensación, etc. del vino.\n",
    " - **designation**: La denominación. El viñedo dentro de la bodega de donde proceden las uvas que elaboraron el vino.\n",
    " - **points**: la cantidad de puntos que WineEnthusiast calificó al vino en una escala del 1 al 100 (aunque dicen que solo publican reseñas de vinos con una puntuación> = 80).\n",
    " - **price**: El costo de una botella de vino.\n",
    " - **province**: La provincia o estado de donde proviene el vino\n",
    " - **region_1**: el área de cultivo de vino en una provincia o estado (es decir, Napa)\n",
    " - **region_2**: a veces hay regiones más específicas, especificadas dentro de un área de cultivo del vino (es decir, Rutherford dentro del Valle de Napa), pero este valor a veces puede estar en blanco.\n",
    " - **taster_name**: nombre de la persona que probó y revisó el vino.\n",
    " - **taster_twitter_handle**: identificador de Twitter para la persona que probó y revisó el vino.\n",
    " - **title**: el título de la reseña de vinos, que a menudo contiene la cosecha si está interesado en extraer esa característica.\n",
    " - **variety**: la variedad: el tipo de uva utilizada para elaborar el vino (es decir, Pinot Noir).\n",
    " - **winery**: la bodega que hizo el vino."
   ]
  },
  {
   "cell_type": "markdown",
   "metadata": {},
   "source": [
    "### TEST"
   ]
  },
  {
   "cell_type": "code",
   "execution_count": 3,
   "metadata": {},
   "outputs": [
    {
     "name": "stdout",
     "output_type": "stream",
     "text": [
      "  % Total    % Received % Xferd  Average Speed   Time    Time     Time  Current\n",
      "                                 Dload  Upload   Total   Spent    Left  Speed\n",
      "100 23.2M  100 23.2M    0     0  2890k      0  0:00:08  0:00:08 --:--:-- 5877k\n"
     ]
    }
   ],
   "source": [
    "# Fetch the dataset using the raw GitHub URL.\n",
    "!curl --remote-name \\\n",
    "     -H 'Accept: application/vnd.github.v3.raw' \\\n",
    "     --location https://raw.githubusercontent.com/DCDPUAEM/DCDP/main/01%20Programaci%C3%B3n%20en%20Python/data/winemag-data-less.csv"
   ]
  },
  {
   "cell_type": "code",
   "execution_count": 4,
   "metadata": {},
   "outputs": [
    {
     "name": "stdout",
     "output_type": "stream",
     "text": [
      "<class 'pandas.core.frame.DataFrame'>\n",
      "RangeIndex: 59995 entries, 0 to 59994\n",
      "Data columns (total 14 columns):\n",
      " #   Column                 Non-Null Count  Dtype  \n",
      "---  ------                 --------------  -----  \n",
      " 0   Unnamed: 0             59995 non-null  int64  \n",
      " 1   country                59964 non-null  object \n",
      " 2   description            59995 non-null  object \n",
      " 3   designation            42728 non-null  object \n",
      " 4   points                 59995 non-null  int64  \n",
      " 5   price                  55750 non-null  float64\n",
      " 6   province               59964 non-null  object \n",
      " 7   region_1               50163 non-null  object \n",
      " 8   region_2               23068 non-null  object \n",
      " 9   taster_name            47586 non-null  object \n",
      " 10  taster_twitter_handle  45381 non-null  object \n",
      " 11  title                  59995 non-null  object \n",
      " 12  variety                59995 non-null  object \n",
      " 13  winery                 59995 non-null  object \n",
      "dtypes: float64(1), int64(2), object(11)\n",
      "memory usage: 6.4+ MB\n",
      "None\n"
     ]
    },
    {
     "data": {
      "text/html": [
       "<div>\n",
       "<style scoped>\n",
       "    .dataframe tbody tr th:only-of-type {\n",
       "        vertical-align: middle;\n",
       "    }\n",
       "\n",
       "    .dataframe tbody tr th {\n",
       "        vertical-align: top;\n",
       "    }\n",
       "\n",
       "    .dataframe thead th {\n",
       "        text-align: right;\n",
       "    }\n",
       "</style>\n",
       "<table border=\"1\" class=\"dataframe\">\n",
       "  <thead>\n",
       "    <tr style=\"text-align: right;\">\n",
       "      <th></th>\n",
       "      <th>Unnamed: 0</th>\n",
       "      <th>country</th>\n",
       "      <th>description</th>\n",
       "      <th>designation</th>\n",
       "      <th>points</th>\n",
       "      <th>price</th>\n",
       "      <th>province</th>\n",
       "      <th>region_1</th>\n",
       "      <th>region_2</th>\n",
       "      <th>taster_name</th>\n",
       "      <th>taster_twitter_handle</th>\n",
       "      <th>title</th>\n",
       "      <th>variety</th>\n",
       "      <th>winery</th>\n",
       "    </tr>\n",
       "  </thead>\n",
       "  <tbody>\n",
       "    <tr>\n",
       "      <th>0</th>\n",
       "      <td>0</td>\n",
       "      <td>Italy</td>\n",
       "      <td>Aromas include tropical fruit, broom, brimston...</td>\n",
       "      <td>Vulkà Bianco</td>\n",
       "      <td>87</td>\n",
       "      <td>NaN</td>\n",
       "      <td>Sicily &amp; Sardinia</td>\n",
       "      <td>Etna</td>\n",
       "      <td>NaN</td>\n",
       "      <td>Kerin O’Keefe</td>\n",
       "      <td>@kerinokeefe</td>\n",
       "      <td>Nicosia 2013 Vulkà Bianco  (Etna)</td>\n",
       "      <td>White Blend</td>\n",
       "      <td>Nicosia</td>\n",
       "    </tr>\n",
       "    <tr>\n",
       "      <th>1</th>\n",
       "      <td>1</td>\n",
       "      <td>Portugal</td>\n",
       "      <td>This is ripe and fruity, a wine that is smooth...</td>\n",
       "      <td>Avidagos</td>\n",
       "      <td>87</td>\n",
       "      <td>15.0</td>\n",
       "      <td>Douro</td>\n",
       "      <td>NaN</td>\n",
       "      <td>NaN</td>\n",
       "      <td>Roger Voss</td>\n",
       "      <td>@vossroger</td>\n",
       "      <td>Quinta dos Avidagos 2011 Avidagos Red (Douro)</td>\n",
       "      <td>Portuguese Red</td>\n",
       "      <td>Quinta dos Avidagos</td>\n",
       "    </tr>\n",
       "    <tr>\n",
       "      <th>2</th>\n",
       "      <td>2</td>\n",
       "      <td>US</td>\n",
       "      <td>Tart and snappy, the flavors of lime flesh and...</td>\n",
       "      <td>NaN</td>\n",
       "      <td>87</td>\n",
       "      <td>14.0</td>\n",
       "      <td>Oregon</td>\n",
       "      <td>Willamette Valley</td>\n",
       "      <td>Willamette Valley</td>\n",
       "      <td>Paul Gregutt</td>\n",
       "      <td>@paulgwine</td>\n",
       "      <td>Rainstorm 2013 Pinot Gris (Willamette Valley)</td>\n",
       "      <td>Pinot Gris</td>\n",
       "      <td>Rainstorm</td>\n",
       "    </tr>\n",
       "  </tbody>\n",
       "</table>\n",
       "</div>"
      ],
      "text/plain": [
       "   Unnamed: 0   country                                        description  \\\n",
       "0           0     Italy  Aromas include tropical fruit, broom, brimston...   \n",
       "1           1  Portugal  This is ripe and fruity, a wine that is smooth...   \n",
       "2           2        US  Tart and snappy, the flavors of lime flesh and...   \n",
       "\n",
       "    designation  points  price           province           region_1  \\\n",
       "0  Vulkà Bianco      87    NaN  Sicily & Sardinia               Etna   \n",
       "1      Avidagos      87   15.0              Douro                NaN   \n",
       "2           NaN      87   14.0             Oregon  Willamette Valley   \n",
       "\n",
       "            region_2    taster_name taster_twitter_handle  \\\n",
       "0                NaN  Kerin O’Keefe          @kerinokeefe   \n",
       "1                NaN     Roger Voss            @vossroger   \n",
       "2  Willamette Valley   Paul Gregutt           @paulgwine    \n",
       "\n",
       "                                           title         variety  \\\n",
       "0              Nicosia 2013 Vulkà Bianco  (Etna)     White Blend   \n",
       "1  Quinta dos Avidagos 2011 Avidagos Red (Douro)  Portuguese Red   \n",
       "2  Rainstorm 2013 Pinot Gris (Willamette Valley)      Pinot Gris   \n",
       "\n",
       "                winery  \n",
       "0              Nicosia  \n",
       "1  Quinta dos Avidagos  \n",
       "2            Rainstorm  "
      ]
     },
     "execution_count": 4,
     "metadata": {},
     "output_type": "execute_result"
    }
   ],
   "source": [
    "# leemos el dataframe usando read_csv\n",
    "df = pd.read_csv(\"winemag-data-less.csv\")\n",
    "print(df.info())\n",
    "df.head(3)"
   ]
  },
  {
   "cell_type": "code",
   "execution_count": 5,
   "metadata": {},
   "outputs": [
    {
     "data": {
      "text/html": [
       "<div>\n",
       "<style scoped>\n",
       "    .dataframe tbody tr th:only-of-type {\n",
       "        vertical-align: middle;\n",
       "    }\n",
       "\n",
       "    .dataframe tbody tr th {\n",
       "        vertical-align: top;\n",
       "    }\n",
       "\n",
       "    .dataframe thead th {\n",
       "        text-align: right;\n",
       "    }\n",
       "</style>\n",
       "<table border=\"1\" class=\"dataframe\">\n",
       "  <thead>\n",
       "    <tr style=\"text-align: right;\">\n",
       "      <th></th>\n",
       "      <th>country</th>\n",
       "      <th>description</th>\n",
       "      <th>designation</th>\n",
       "      <th>points</th>\n",
       "      <th>price</th>\n",
       "      <th>province</th>\n",
       "      <th>region_1</th>\n",
       "      <th>region_2</th>\n",
       "      <th>taster_name</th>\n",
       "      <th>taster_twitter_handle</th>\n",
       "      <th>title</th>\n",
       "      <th>variety</th>\n",
       "      <th>winery</th>\n",
       "    </tr>\n",
       "  </thead>\n",
       "  <tbody>\n",
       "    <tr>\n",
       "      <th>0</th>\n",
       "      <td>Italy</td>\n",
       "      <td>Aromas include tropical fruit, broom, brimston...</td>\n",
       "      <td>Vulkà Bianco</td>\n",
       "      <td>87</td>\n",
       "      <td>NaN</td>\n",
       "      <td>Sicily &amp; Sardinia</td>\n",
       "      <td>Etna</td>\n",
       "      <td>NaN</td>\n",
       "      <td>Kerin O’Keefe</td>\n",
       "      <td>@kerinokeefe</td>\n",
       "      <td>Nicosia 2013 Vulkà Bianco  (Etna)</td>\n",
       "      <td>White Blend</td>\n",
       "      <td>Nicosia</td>\n",
       "    </tr>\n",
       "    <tr>\n",
       "      <th>1</th>\n",
       "      <td>Portugal</td>\n",
       "      <td>This is ripe and fruity, a wine that is smooth...</td>\n",
       "      <td>Avidagos</td>\n",
       "      <td>87</td>\n",
       "      <td>15.0</td>\n",
       "      <td>Douro</td>\n",
       "      <td>NaN</td>\n",
       "      <td>NaN</td>\n",
       "      <td>Roger Voss</td>\n",
       "      <td>@vossroger</td>\n",
       "      <td>Quinta dos Avidagos 2011 Avidagos Red (Douro)</td>\n",
       "      <td>Portuguese Red</td>\n",
       "      <td>Quinta dos Avidagos</td>\n",
       "    </tr>\n",
       "    <tr>\n",
       "      <th>2</th>\n",
       "      <td>US</td>\n",
       "      <td>Tart and snappy, the flavors of lime flesh and...</td>\n",
       "      <td>NaN</td>\n",
       "      <td>87</td>\n",
       "      <td>14.0</td>\n",
       "      <td>Oregon</td>\n",
       "      <td>Willamette Valley</td>\n",
       "      <td>Willamette Valley</td>\n",
       "      <td>Paul Gregutt</td>\n",
       "      <td>@paulgwine</td>\n",
       "      <td>Rainstorm 2013 Pinot Gris (Willamette Valley)</td>\n",
       "      <td>Pinot Gris</td>\n",
       "      <td>Rainstorm</td>\n",
       "    </tr>\n",
       "  </tbody>\n",
       "</table>\n",
       "</div>"
      ],
      "text/plain": [
       "    country                                        description   designation  \\\n",
       "0     Italy  Aromas include tropical fruit, broom, brimston...  Vulkà Bianco   \n",
       "1  Portugal  This is ripe and fruity, a wine that is smooth...      Avidagos   \n",
       "2        US  Tart and snappy, the flavors of lime flesh and...           NaN   \n",
       "\n",
       "   points  price           province           region_1           region_2  \\\n",
       "0      87    NaN  Sicily & Sardinia               Etna                NaN   \n",
       "1      87   15.0              Douro                NaN                NaN   \n",
       "2      87   14.0             Oregon  Willamette Valley  Willamette Valley   \n",
       "\n",
       "     taster_name taster_twitter_handle  \\\n",
       "0  Kerin O’Keefe          @kerinokeefe   \n",
       "1     Roger Voss            @vossroger   \n",
       "2   Paul Gregutt           @paulgwine    \n",
       "\n",
       "                                           title         variety  \\\n",
       "0              Nicosia 2013 Vulkà Bianco  (Etna)     White Blend   \n",
       "1  Quinta dos Avidagos 2011 Avidagos Red (Douro)  Portuguese Red   \n",
       "2  Rainstorm 2013 Pinot Gris (Willamette Valley)      Pinot Gris   \n",
       "\n",
       "                winery  \n",
       "0              Nicosia  \n",
       "1  Quinta dos Avidagos  \n",
       "2            Rainstorm  "
      ]
     },
     "execution_count": 5,
     "metadata": {},
     "output_type": "execute_result"
    }
   ],
   "source": [
    "#Tiremos la columna Unnamed\n",
    "df.drop('Unnamed: 0',axis=1,inplace=True)\n",
    "df.head(3)"
   ]
  },
  {
   "cell_type": "markdown",
   "metadata": {},
   "source": [
    "### __Veamos cuantas reseñas de vinos mexicanos tenemos.__"
   ]
  },
  {
   "cell_type": "markdown",
   "metadata": {},
   "source": [
    "#### &#9758; Construye una nueva Tabla con las reseñas de vinos mexicanos. \n",
    "- Quédate **sólo** con las siguientes columnas: `['country','winery','variety','description','points','price']`\n",
    "- Haz que el índice se reinicie en 0.\n",
    "- Guarda este DataFrame en la variable vinosMX."
   ]
  },
  {
   "cell_type": "code",
   "execution_count": 6,
   "metadata": {},
   "outputs": [
    {
     "data": {
      "text/html": [
       "<div>\n",
       "<style scoped>\n",
       "    .dataframe tbody tr th:only-of-type {\n",
       "        vertical-align: middle;\n",
       "    }\n",
       "\n",
       "    .dataframe tbody tr th {\n",
       "        vertical-align: top;\n",
       "    }\n",
       "\n",
       "    .dataframe thead th {\n",
       "        text-align: right;\n",
       "    }\n",
       "</style>\n",
       "<table border=\"1\" class=\"dataframe\">\n",
       "  <thead>\n",
       "    <tr style=\"text-align: right;\">\n",
       "      <th></th>\n",
       "      <th>country</th>\n",
       "      <th>winery</th>\n",
       "      <th>variety</th>\n",
       "      <th>description</th>\n",
       "      <th>points</th>\n",
       "      <th>price</th>\n",
       "    </tr>\n",
       "  </thead>\n",
       "  <tbody>\n",
       "    <tr>\n",
       "      <th>0</th>\n",
       "      <td>Mexico</td>\n",
       "      <td>L.A. Cetto</td>\n",
       "      <td>Nebbiolo</td>\n",
       "      <td>The color is appropriately light, the aromas a...</td>\n",
       "      <td>88</td>\n",
       "      <td>18.0</td>\n",
       "    </tr>\n",
       "    <tr>\n",
       "      <th>1</th>\n",
       "      <td>Mexico</td>\n",
       "      <td>Monte Xanic</td>\n",
       "      <td>Sauvignon Blanc</td>\n",
       "      <td>Sauvignon Blanc is, in general, one of Baja's ...</td>\n",
       "      <td>87</td>\n",
       "      <td>15.0</td>\n",
       "    </tr>\n",
       "    <tr>\n",
       "      <th>2</th>\n",
       "      <td>Mexico</td>\n",
       "      <td>L.A. Cetto</td>\n",
       "      <td>Cabernet Sauvignon</td>\n",
       "      <td>Aromas of mature Cabernet: cassis, tobacco lea...</td>\n",
       "      <td>87</td>\n",
       "      <td>18.0</td>\n",
       "    </tr>\n",
       "    <tr>\n",
       "      <th>3</th>\n",
       "      <td>Mexico</td>\n",
       "      <td>Cava Aragon</td>\n",
       "      <td>Nebbiolo</td>\n",
       "      <td>While this is fiery on the nose, you also get ...</td>\n",
       "      <td>88</td>\n",
       "      <td>27.0</td>\n",
       "    </tr>\n",
       "    <tr>\n",
       "      <th>4</th>\n",
       "      <td>Mexico</td>\n",
       "      <td>L.A. Cetto</td>\n",
       "      <td>Petite Sirah</td>\n",
       "      <td>Dark and earthy, slightly pruny and alcoholic,...</td>\n",
       "      <td>83</td>\n",
       "      <td>8.0</td>\n",
       "    </tr>\n",
       "    <tr>\n",
       "      <th>5</th>\n",
       "      <td>Mexico</td>\n",
       "      <td>Hacienda La Lomita</td>\n",
       "      <td>Rosé</td>\n",
       "      <td>Oxidized cherry and strawberry aromas settle o...</td>\n",
       "      <td>83</td>\n",
       "      <td>21.0</td>\n",
       "    </tr>\n",
       "    <tr>\n",
       "      <th>6</th>\n",
       "      <td>Mexico</td>\n",
       "      <td>Monte Xanic</td>\n",
       "      <td>Cabernet Franc</td>\n",
       "      <td>With aromas of salsa, chili peppers and tomato...</td>\n",
       "      <td>86</td>\n",
       "      <td>39.0</td>\n",
       "    </tr>\n",
       "    <tr>\n",
       "      <th>7</th>\n",
       "      <td>Mexico</td>\n",
       "      <td>Tres Valles</td>\n",
       "      <td>Sauvignon Blanc</td>\n",
       "      <td>Mild hints of tropical fruit are less than con...</td>\n",
       "      <td>84</td>\n",
       "      <td>15.0</td>\n",
       "    </tr>\n",
       "    <tr>\n",
       "      <th>8</th>\n",
       "      <td>Mexico</td>\n",
       "      <td>Unión de Productores del Valle (UPVG)</td>\n",
       "      <td>Red Blend</td>\n",
       "      <td>This odd blend of Barbera, Cabernet Sauvignon,...</td>\n",
       "      <td>83</td>\n",
       "      <td>22.0</td>\n",
       "    </tr>\n",
       "    <tr>\n",
       "      <th>9</th>\n",
       "      <td>Mexico</td>\n",
       "      <td>Monte Xanic</td>\n",
       "      <td>Red Blend</td>\n",
       "      <td>This Cabernet blend is one of Baja's best reds...</td>\n",
       "      <td>90</td>\n",
       "      <td>56.0</td>\n",
       "    </tr>\n",
       "    <tr>\n",
       "      <th>10</th>\n",
       "      <td>Mexico</td>\n",
       "      <td>Vinicola Fraternidad</td>\n",
       "      <td>Rosé</td>\n",
       "      <td>This is fairly hard and fiery on the nose. The...</td>\n",
       "      <td>82</td>\n",
       "      <td>25.0</td>\n",
       "    </tr>\n",
       "    <tr>\n",
       "      <th>11</th>\n",
       "      <td>Mexico</td>\n",
       "      <td>Vinos Magbel</td>\n",
       "      <td>Merlot</td>\n",
       "      <td>Fiery, punchy aromas of red berries and herbac...</td>\n",
       "      <td>82</td>\n",
       "      <td>30.0</td>\n",
       "    </tr>\n",
       "    <tr>\n",
       "      <th>12</th>\n",
       "      <td>Mexico</td>\n",
       "      <td>Möebius</td>\n",
       "      <td>Muscatel</td>\n",
       "      <td>Tropical aromas of lychee and green banana are...</td>\n",
       "      <td>87</td>\n",
       "      <td>19.0</td>\n",
       "    </tr>\n",
       "    <tr>\n",
       "      <th>13</th>\n",
       "      <td>Mexico</td>\n",
       "      <td>Vinicola Urbana</td>\n",
       "      <td>Red Blend</td>\n",
       "      <td>This blend of Tempranillo and Grenache is grit...</td>\n",
       "      <td>87</td>\n",
       "      <td>33.0</td>\n",
       "    </tr>\n",
       "    <tr>\n",
       "      <th>14</th>\n",
       "      <td>Mexico</td>\n",
       "      <td>Vena Cava</td>\n",
       "      <td>Red Blend</td>\n",
       "      <td>This five-grape blend is heavy, oaky and green...</td>\n",
       "      <td>84</td>\n",
       "      <td>27.0</td>\n",
       "    </tr>\n",
       "    <tr>\n",
       "      <th>15</th>\n",
       "      <td>Mexico</td>\n",
       "      <td>Monte Xanic</td>\n",
       "      <td>Sauvignon Blanc</td>\n",
       "      <td>Here's a true Sauvignon Blanc with spunky gree...</td>\n",
       "      <td>86</td>\n",
       "      <td>13.0</td>\n",
       "    </tr>\n",
       "    <tr>\n",
       "      <th>16</th>\n",
       "      <td>Mexico</td>\n",
       "      <td>Viñas de Garza</td>\n",
       "      <td>Red Blend</td>\n",
       "      <td>The bouquet on this blend of Cab, Zin, Merlot ...</td>\n",
       "      <td>87</td>\n",
       "      <td>58.0</td>\n",
       "    </tr>\n",
       "    <tr>\n",
       "      <th>17</th>\n",
       "      <td>Mexico</td>\n",
       "      <td>L.A. Cetto</td>\n",
       "      <td>Chardonnay</td>\n",
       "      <td>Yeasty aromas are suggestive of vanilla wafer ...</td>\n",
       "      <td>83</td>\n",
       "      <td>13.0</td>\n",
       "    </tr>\n",
       "    <tr>\n",
       "      <th>18</th>\n",
       "      <td>Mexico</td>\n",
       "      <td>Vinisterra</td>\n",
       "      <td>Red Blend</td>\n",
       "      <td>Cascabel means “rattlesnake,” and this one bit...</td>\n",
       "      <td>87</td>\n",
       "      <td>49.0</td>\n",
       "    </tr>\n",
       "    <tr>\n",
       "      <th>19</th>\n",
       "      <td>Mexico</td>\n",
       "      <td>Cava Maciel</td>\n",
       "      <td>Chardonnay</td>\n",
       "      <td>This was my top Mexican white wine from a rece...</td>\n",
       "      <td>88</td>\n",
       "      <td>22.0</td>\n",
       "    </tr>\n",
       "    <tr>\n",
       "      <th>20</th>\n",
       "      <td>Mexico</td>\n",
       "      <td>L.A. Cetto</td>\n",
       "      <td>Nebbiolo</td>\n",
       "      <td>Hard-topped aromas of raspberry and cherry alo...</td>\n",
       "      <td>85</td>\n",
       "      <td>23.0</td>\n",
       "    </tr>\n",
       "    <tr>\n",
       "      <th>21</th>\n",
       "      <td>Mexico</td>\n",
       "      <td>L.A. Cetto</td>\n",
       "      <td>Nebbiolo</td>\n",
       "      <td>This earthy, dark, well-balanced Nebbiolo shar...</td>\n",
       "      <td>88</td>\n",
       "      <td>20.0</td>\n",
       "    </tr>\n",
       "    <tr>\n",
       "      <th>22</th>\n",
       "      <td>Mexico</td>\n",
       "      <td>Rincón de Guadalupe</td>\n",
       "      <td>Red Blend</td>\n",
       "      <td>Sweet, earthy and dry smelling, with tobacco a...</td>\n",
       "      <td>88</td>\n",
       "      <td>26.0</td>\n",
       "    </tr>\n",
       "    <tr>\n",
       "      <th>23</th>\n",
       "      <td>Mexico</td>\n",
       "      <td>Vena Cava</td>\n",
       "      <td>Cabernet Sauvignon</td>\n",
       "      <td>Initially this Cab smells grassy and downright...</td>\n",
       "      <td>83</td>\n",
       "      <td>27.0</td>\n",
       "    </tr>\n",
       "    <tr>\n",
       "      <th>24</th>\n",
       "      <td>Mexico</td>\n",
       "      <td>Tres Valles</td>\n",
       "      <td>Red Blend</td>\n",
       "      <td>Kuwal is a Tempranillo-led blend that's ripe a...</td>\n",
       "      <td>89</td>\n",
       "      <td>31.0</td>\n",
       "    </tr>\n",
       "    <tr>\n",
       "      <th>25</th>\n",
       "      <td>Mexico</td>\n",
       "      <td>Viñas de Garza</td>\n",
       "      <td>Red Blend</td>\n",
       "      <td>A world-class wine regardless of origin, this ...</td>\n",
       "      <td>92</td>\n",
       "      <td>54.0</td>\n",
       "    </tr>\n",
       "    <tr>\n",
       "      <th>26</th>\n",
       "      <td>Mexico</td>\n",
       "      <td>L.A. Cetto</td>\n",
       "      <td>Chardonnay</td>\n",
       "      <td>Smells crisp and pineapple-y and tastes of tar...</td>\n",
       "      <td>84</td>\n",
       "      <td>10.0</td>\n",
       "    </tr>\n",
       "    <tr>\n",
       "      <th>27</th>\n",
       "      <td>Mexico</td>\n",
       "      <td>Hacienda La Lomita</td>\n",
       "      <td>Sauvignon Blanc-Chenin Blanc</td>\n",
       "      <td>Like most good Baja whites, this is done in a ...</td>\n",
       "      <td>86</td>\n",
       "      <td>22.0</td>\n",
       "    </tr>\n",
       "    <tr>\n",
       "      <th>28</th>\n",
       "      <td>Mexico</td>\n",
       "      <td>La Lomita</td>\n",
       "      <td>Bordeaux-style Red Blend</td>\n",
       "      <td>Roasted berry, dry oak, bacon, leather, graphi...</td>\n",
       "      <td>88</td>\n",
       "      <td>40.0</td>\n",
       "    </tr>\n",
       "    <tr>\n",
       "      <th>29</th>\n",
       "      <td>Mexico</td>\n",
       "      <td>Monte Xanic</td>\n",
       "      <td>Cabernet Sauvignon-Merlot</td>\n",
       "      <td>Most Monte Xanic wines are well made and fall ...</td>\n",
       "      <td>86</td>\n",
       "      <td>23.0</td>\n",
       "    </tr>\n",
       "  </tbody>\n",
       "</table>\n",
       "</div>"
      ],
      "text/plain": [
       "   country                                 winery  \\\n",
       "0   Mexico                             L.A. Cetto   \n",
       "1   Mexico                            Monte Xanic   \n",
       "2   Mexico                             L.A. Cetto   \n",
       "3   Mexico                            Cava Aragon   \n",
       "4   Mexico                             L.A. Cetto   \n",
       "5   Mexico                     Hacienda La Lomita   \n",
       "6   Mexico                            Monte Xanic   \n",
       "7   Mexico                            Tres Valles   \n",
       "8   Mexico  Unión de Productores del Valle (UPVG)   \n",
       "9   Mexico                            Monte Xanic   \n",
       "10  Mexico                   Vinicola Fraternidad   \n",
       "11  Mexico                           Vinos Magbel   \n",
       "12  Mexico                                Möebius   \n",
       "13  Mexico                        Vinicola Urbana   \n",
       "14  Mexico                              Vena Cava   \n",
       "15  Mexico                            Monte Xanic   \n",
       "16  Mexico                         Viñas de Garza   \n",
       "17  Mexico                             L.A. Cetto   \n",
       "18  Mexico                             Vinisterra   \n",
       "19  Mexico                            Cava Maciel   \n",
       "20  Mexico                             L.A. Cetto   \n",
       "21  Mexico                             L.A. Cetto   \n",
       "22  Mexico                    Rincón de Guadalupe   \n",
       "23  Mexico                              Vena Cava   \n",
       "24  Mexico                            Tres Valles   \n",
       "25  Mexico                         Viñas de Garza   \n",
       "26  Mexico                             L.A. Cetto   \n",
       "27  Mexico                     Hacienda La Lomita   \n",
       "28  Mexico                              La Lomita   \n",
       "29  Mexico                            Monte Xanic   \n",
       "\n",
       "                         variety  \\\n",
       "0                       Nebbiolo   \n",
       "1                Sauvignon Blanc   \n",
       "2             Cabernet Sauvignon   \n",
       "3                       Nebbiolo   \n",
       "4                   Petite Sirah   \n",
       "5                           Rosé   \n",
       "6                 Cabernet Franc   \n",
       "7                Sauvignon Blanc   \n",
       "8                      Red Blend   \n",
       "9                      Red Blend   \n",
       "10                          Rosé   \n",
       "11                        Merlot   \n",
       "12                      Muscatel   \n",
       "13                     Red Blend   \n",
       "14                     Red Blend   \n",
       "15               Sauvignon Blanc   \n",
       "16                     Red Blend   \n",
       "17                    Chardonnay   \n",
       "18                     Red Blend   \n",
       "19                    Chardonnay   \n",
       "20                      Nebbiolo   \n",
       "21                      Nebbiolo   \n",
       "22                     Red Blend   \n",
       "23            Cabernet Sauvignon   \n",
       "24                     Red Blend   \n",
       "25                     Red Blend   \n",
       "26                    Chardonnay   \n",
       "27  Sauvignon Blanc-Chenin Blanc   \n",
       "28      Bordeaux-style Red Blend   \n",
       "29     Cabernet Sauvignon-Merlot   \n",
       "\n",
       "                                          description  points  price  \n",
       "0   The color is appropriately light, the aromas a...      88   18.0  \n",
       "1   Sauvignon Blanc is, in general, one of Baja's ...      87   15.0  \n",
       "2   Aromas of mature Cabernet: cassis, tobacco lea...      87   18.0  \n",
       "3   While this is fiery on the nose, you also get ...      88   27.0  \n",
       "4   Dark and earthy, slightly pruny and alcoholic,...      83    8.0  \n",
       "5   Oxidized cherry and strawberry aromas settle o...      83   21.0  \n",
       "6   With aromas of salsa, chili peppers and tomato...      86   39.0  \n",
       "7   Mild hints of tropical fruit are less than con...      84   15.0  \n",
       "8   This odd blend of Barbera, Cabernet Sauvignon,...      83   22.0  \n",
       "9   This Cabernet blend is one of Baja's best reds...      90   56.0  \n",
       "10  This is fairly hard and fiery on the nose. The...      82   25.0  \n",
       "11  Fiery, punchy aromas of red berries and herbac...      82   30.0  \n",
       "12  Tropical aromas of lychee and green banana are...      87   19.0  \n",
       "13  This blend of Tempranillo and Grenache is grit...      87   33.0  \n",
       "14  This five-grape blend is heavy, oaky and green...      84   27.0  \n",
       "15  Here's a true Sauvignon Blanc with spunky gree...      86   13.0  \n",
       "16  The bouquet on this blend of Cab, Zin, Merlot ...      87   58.0  \n",
       "17  Yeasty aromas are suggestive of vanilla wafer ...      83   13.0  \n",
       "18  Cascabel means “rattlesnake,” and this one bit...      87   49.0  \n",
       "19  This was my top Mexican white wine from a rece...      88   22.0  \n",
       "20  Hard-topped aromas of raspberry and cherry alo...      85   23.0  \n",
       "21  This earthy, dark, well-balanced Nebbiolo shar...      88   20.0  \n",
       "22  Sweet, earthy and dry smelling, with tobacco a...      88   26.0  \n",
       "23  Initially this Cab smells grassy and downright...      83   27.0  \n",
       "24  Kuwal is a Tempranillo-led blend that's ripe a...      89   31.0  \n",
       "25  A world-class wine regardless of origin, this ...      92   54.0  \n",
       "26  Smells crisp and pineapple-y and tastes of tar...      84   10.0  \n",
       "27  Like most good Baja whites, this is done in a ...      86   22.0  \n",
       "28  Roasted berry, dry oak, bacon, leather, graphi...      88   40.0  \n",
       "29  Most Monte Xanic wines are well made and fall ...      86   23.0  "
      ]
     },
     "execution_count": 6,
     "metadata": {},
     "output_type": "execute_result"
    }
   ],
   "source": [
    "\"\"\"\n",
    "SECUENCIA:\n",
    "1. Ubicar todos los registros de México usando indexación booleana\n",
    "2. De este DataFrame resultante, extraer solamente las columnas solicitadas.\n",
    "3. Reiniciar el índice usando reset_index()\n",
    "4. Tirar (drop) la nueva columna index \n",
    "5. Asignar el resultado de este proceso a la variable vinosMX\n",
    "\"\"\"\n",
    "# TU CODIGO\n",
    "# 1. Ubicar todos los registros de México usando indexación booleana\n",
    "vinosMX = df[df['country']=='Mexico']\n",
    "\n",
    "# 2. De este DataFrame resultante, extraer solamente las columnas solicitadas.\n",
    "vinosMX = vinosMX[['country','winery','variety','description','points','price']]\n",
    "\n",
    "# 3. Reiniciar el índice usando reset_index()\n",
    "vinosMX = vinosMX.reset_index()\n",
    "\n",
    "# 4. Tirar (drop) la nueva columna index \n",
    "vinosMX = vinosMX.drop('index',axis=1)\n",
    "vinosMX"
   ]
  },
  {
   "cell_type": "markdown",
   "metadata": {},
   "source": [
    "### __Veamos cuantas reseñas de vinos por país tenemos.__\n",
    "\n",
    "#### &#9758; Muestra en una gráfica de barras la distribución del número de reseñas por país (_top 10_). "
   ]
  },
  {
   "cell_type": "markdown",
   "metadata": {},
   "source": [
    "#### Puedes auxiliarte con alguna de estos métodos de Pandas:\n",
    " - [pandas.DataFrame.count](https://pandas.pydata.org/pandas-docs/stable/reference/api/pandas.DataFrame.count.html)\n",
    " - [pandas.Series.value_counts](https://pandas.pydata.org/pandas-docs/stable/reference/api/pandas.Series.value_counts.html)\n",
    " - [pandas.Series.index](https://pandas.pydata.org/pandas-docs/stable/reference/api/pandas.Series.index.html)\n",
    " - [pandas.Series.values](https://pandas.pydata.org/pandas-docs/stable/reference/api/pandas.Series.values.html)"
   ]
  },
  {
   "cell_type": "code",
   "execution_count": 7,
   "metadata": {},
   "outputs": [
    {
     "name": "stdout",
     "output_type": "stream",
     "text": [
      "<class 'pandas.core.series.Series'>\n"
     ]
    },
    {
     "data": {
      "image/png": "[encoded data removed]",
      "text/plain": [
       "<Figure size 1152x504 with 1 Axes>"
      ]
     },
     "metadata": {
      "needs_background": "light"
     },
     "output_type": "display_data"
    }
   ],
   "source": [
    "\"\"\"\n",
    "SECUENCIA:\n",
    "1. Ubicar el nombre de la columna de país\n",
    "2. Sobre esta columna, obtener la Serie correspondiente\n",
    "3. Hacer un conteo de los valores únicos sobre esta Serie\n",
    "\n",
    "4. X en la gráfica de barras son los países (índice de la Serie)\n",
    "5. Y en la gráfica de barras son los conteos por país (values de la Serie)\n",
    "6. Usar Seaborn para graficar el diagrama de barras\n",
    "7. Rotular la gráfica y los ejes\n",
    "\"\"\"\n",
    "# 1. Ubicar el nombre de la columna de país\n",
    "# 2. Sobre esta columna, obtener la Serie correspondiente\n",
    "# 3. Hacer un conteo de los valores únicos sobre esta Serie\n",
    "conteos=df.country.value_counts()\n",
    "\n",
    "# 4. X en la gráfica de barras son los países (índice de la Serie)\n",
    "# 5. Y en la gráfica de barras son los conteos por país (values de la Serie)\n",
    "x = conteos.index\n",
    "y = conteos.values\n",
    "\n",
    "#print(conteos.index)\n",
    "#print(conteos.values)\n",
    "print(type(conteos))\n",
    "\n",
    "plt.figure(figsize=(16,7))\n",
    "sns.barplot(x=x[:10],y=y[:10])\n",
    "\n",
    "# En una sola línea:\n",
    "#sns.barplot(df.country.value_counts().index[:10], df.country.value_counts().values[:10])\n",
    "\n",
    "plt.xlabel(\"Países\")\n",
    "plt.ylabel(\"Número de vinos\")\n",
    "plt.title(\"Reseñas por país (Top 10)\")\n",
    "\n",
    "plt.show()"
   ]
  },
  {
   "cell_type": "markdown",
   "metadata": {},
   "source": [
    "### __Veamos ahora cuál es el precio promedio por cada país.__"
   ]
  },
  {
   "cell_type": "markdown",
   "metadata": {},
   "source": [
    "#### &#9758; Muestra en una gráfica de barras el precio promedio por país, en orden descendente (_top 10_). \n",
    "\n",
    "Puedes consultar:\n",
    " - [pandas.DataFrame.groupby](https://pandas.pydata.org/pandas-docs/stable/reference/api/pandas.DataFrame.groupby.html)\n",
    "\n",
    "#### &#9758; ¿Cuál sería el precio promedio por variedad? \n",
    "\n",
    "🙂 __Escribe la secuencia de pasos que tendrías que realizar.__\n",
    "\n",
    "Agrupar los datos del dataframe por país y luego aggregar los datos usando el promedio del precio"
   ]
  },
  {
   "cell_type": "code",
   "execution_count": 8,
   "metadata": {},
   "outputs": [
    {
     "data": {
      "image/png": "[encoded data removed]",
      "text/plain": [
       "<Figure size 1152x504 with 1 Axes>"
      ]
     },
     "metadata": {
      "needs_background": "light"
     },
     "output_type": "display_data"
    }
   ],
   "source": [
    "\"\"\"\n",
    "SECUENCIA:\n",
    "\n",
    "\"\"\"\n",
    "promedios = df.groupby(\"country\")[\"price\"].mean().sort_values(ascending=False)\n",
    "\n",
    "x = promedios.index\n",
    "y = promedios.values\n",
    "\n",
    "#print(promedios)\n",
    "#print(x)\n",
    "#print(y)\n",
    "\n",
    "plt.figure(figsize=(16,7))\n",
    "\n",
    "sns.barplot(x=x[:10], y=y[:10])\n",
    "\n",
    "plt.xlabel(\"País\")\n",
    "plt.ylabel(\"Precio promedio (Dólares)\")\n",
    "plt.title(\"Precio promedio (Top 10)\")\n",
    "\n",
    "plt.show()"
   ]
  },
  {
   "cell_type": "markdown",
   "metadata": {},
   "source": [
    "#### Agregando anotaciones a nuestros gráficos\n",
    "\n",
    "Es posible agregar información a nuestros gráficos, en forma de texto, o dibujos (e.g. flechas, líneas, círculos, etc.). Para ello, se utiliza la anotación (annotate) de ejes (axes). Detallar aquí cómo funciona nos llevaría mucho tiempo. Puedes consultar la documentación en estas ligas:\n",
    "\n",
    "- [matplotlib.Artist](https://matplotlib.org/3.3.3/api/artist_api.html#matplotlib.artist.Artist)\n",
    "    - [Artist tutorial](https://matplotlib.org/3.3.3/tutorials/intermediate/artists.html)\n",
    "- [matplotlib.axes](https://matplotlib.org/3.3.3/api/axes_api.html#matplotlib.axes.Axes)\n",
    "- [matplotlib.patches.Patch](https://matplotlib.org/3.3.3/api/axes_api.html#matplotlib.axes.Axes)\n",
    "- [matplotlib.patches.Rectangle](https://matplotlib.org/3.1.1/api/_as_gen/matplotlib.patches.Rectangle.html)\n",
    "- [matplotlib.pyplot.annotate](https://matplotlib.org/3.3.3/api/_as_gen/matplotlib.pyplot.annotate.html)"
   ]
  },
  {
   "cell_type": "code",
   "execution_count": 9,
   "metadata": {},
   "outputs": [
    {
     "data": {
      "image/png": "[encoded data removed]",
      "text/plain": [
       "<Figure size 1152x504 with 1 Axes>"
      ]
     },
     "metadata": {
      "needs_background": "light"
     },
     "output_type": "display_data"
    }
   ],
   "source": [
    "plt.clf()\n",
    "plt.cla()\n",
    "plt.close()\n",
    "\n",
    "#Definimos el tamaño del canvas\n",
    "plt.figure(figsize=(16,7))\n",
    "\n",
    "# la variable \"ax\" (axes) contiene la información  del gráfico de barras.\n",
    "# En particular, contiene todo lo relativo a los parches (rectángulos) del barplot.\n",
    "ax = sns.barplot(x=x[:10], y=y[:10])\n",
    "\n",
    "# Recorremos cada rectángulo\n",
    "for p in ax.patches:\n",
    "    ax.annotate(\"%.2f\" % p.get_height(),\\\n",
    "                (p.get_x() + p.get_width() / 2., p.get_height()),\\\n",
    "                ha='center', va='center', fontsize=11, color='blue',\\\n",
    "                xytext=(0, 10),\\\n",
    "                textcoords='offset points')\n",
    "    \n",
    "plt.show()"
   ]
  },
  {
   "cell_type": "markdown",
   "metadata": {},
   "source": [
    "### __Ahora queremos darnos una idea de cuáles podrían ser los países cuyos vinos tienen una mejor razón calidad-precio en promedio.__\n",
    "\n",
    "#### &#9758; Muestra en una gráfica de barras la razón puntos/precio promedio por país, en orden descendente (_top 10_). Muestra los valores de la razón sobre cada barra. \n",
    "\n",
    "✋ __Recuerda que si divides entre 0 o Nan obtendrás inf o nan__\n",
    " \n",
    "🙂 __Escribe la secuencia de pasos que tendrías que realizar.__"
   ]
  },
  {
   "cell_type": "code",
   "execution_count": 10,
   "metadata": {},
   "outputs": [
    {
     "data": {
      "image/png": "[encoded data removed]",
      "text/plain": [
       "<Figure size 576x288 with 1 Axes>"
      ]
     },
     "metadata": {
      "needs_background": "light"
     },
     "output_type": "display_data"
    }
   ],
   "source": [
    "plt.figure(figsize=(8,4))\n",
    "sns.boxplot(x=df.points)\n",
    "plt.title(\"Boxplot del puntaje (calidad)\")\n",
    "plt.show()"
   ]
  },
  {
   "cell_type": "markdown",
   "metadata": {},
   "source": [
    "## Respuesta (Salomon)\n",
    "1. Eliminar las filas donde no tenemos precio\n",
    "2. Añadir una columna donde pongamos la razón de calidad/precio\n",
    "3. Agrupar por país y calcular el promedio de esa nueva columna calidad/precio"
   ]
  },
  {
   "cell_type": "code",
   "execution_count": 11,
   "metadata": {},
   "outputs": [
    {
     "name": "stdout",
     "output_type": "stream",
     "text": [
      "country\n",
      "Ukraine                   9.400000\n",
      "Romania                   8.549444\n",
      "Bulgaria                  7.375277\n",
      "India                     7.162500\n",
      "Bosnia and Herzegovina    6.538462\n",
      "Moldova                   6.325976\n",
      "Armenia                   6.214286\n",
      "Peru                      5.714683\n",
      "Chile                     5.669034\n",
      "Macedonia                 5.630556\n",
      "Cyprus                    5.595364\n",
      "Georgia                   5.575287\n",
      "Portugal                  5.525146\n",
      "Slovakia                  5.437500\n",
      "Argentina                 5.258749\n",
      "South Africa              4.980779\n",
      "Spain                     4.940111\n",
      "Greece                    4.791164\n",
      "Morocco                   4.656111\n",
      "Serbia                    4.346813\n",
      "Slovenia                  4.324394\n",
      "Czech Republic            4.227778\n",
      "Croatia                   4.191445\n",
      "Australia                 4.181806\n",
      "New Zealand               4.174391\n",
      "Uruguay                   4.170199\n",
      "Brazil                    4.161562\n",
      "Luxembourg                4.037002\n",
      "Mexico                    4.009545\n",
      "Turkey                    3.902639\n",
      "France                    3.789939\n",
      "Austria                   3.752652\n",
      "Germany                   3.741639\n",
      "Lebanon                   3.739465\n",
      "Israel                    3.634548\n",
      "Hungary                   3.493417\n",
      "Italy                     3.486585\n",
      "US                        3.335386\n",
      "Canada                    3.102893\n",
      "England                   1.895134\n",
      "Switzerland               1.574178\n",
      "Name: pointsPriceRatio, dtype: float64\n"
     ]
    },
    {
     "data": {
      "image/png": "[encoded data removed]",
      "text/plain": [
       "<Figure size 1152x504 with 1 Axes>"
      ]
     },
     "metadata": {
      "needs_background": "light"
     },
     "output_type": "display_data"
    }
   ],
   "source": [
    "#print(df.isna().sum(axis=0))\n",
    "df_clean = df[df.price.notna()].copy()\n",
    "#print('----- df_clean -----')\n",
    "#print(df_clean.isna().sum(axis=0))\n",
    "\n",
    "df_clean['pointsPriceRatio'] = df_clean.points / df_clean.price\n",
    "\n",
    "#print(df_clean[['pointsPriceRatio','points','price']].sort_values(by='pointsPriceRatio',ascending=False))\n",
    "\n",
    "calidadPrecio = df_clean.groupby(['country']).agg('pointsPriceRatio').mean().sort_values(ascending=False)\n",
    "\n",
    "print(calidadPrecio)\n",
    "\n",
    "x = calidadPrecio.index\n",
    "y = calidadPrecio.values\n",
    "\n",
    "plt.clf()\n",
    "plt.cla()\n",
    "plt.close()\n",
    "\n",
    "#Definimos el tamaño del canvas\n",
    "plt.figure(figsize=(16,7))\n",
    "\n",
    "# la variable \"ax\" (axes) contiene la información  del gráfico de barras.\n",
    "# En particular, contiene todo lo relativo a los parches (rectángulos) del barplot.\n",
    "ax = sns.barplot(x=x[:10], y=y[:10])\n",
    "\n",
    "# Recorremos cada rectángulo\n",
    "for p in ax.patches:\n",
    "    ax.annotate(\"%.2f\" % p.get_height(),\\\n",
    "                (p.get_x() + p.get_width() / 2., p.get_height()),\\\n",
    "                ha='center', va='center', fontsize=11, color='blue',\\\n",
    "                xytext=(0, 10),\\\n",
    "                textcoords='offset points')\n",
    "\n",
    "plt.xlabel(\"País\")\n",
    "plt.xticks(rotation= 45, ha=\"right\")\n",
    "plt.ylabel(\"Razón Puntos/Precio\")\n",
    "plt.title(\"Mejor razón calidad/precio por país (Top 10)\")        \n",
    "    \n",
    "plt.show()"
   ]
  },
  {
   "cell_type": "code",
   "execution_count": 102,
   "metadata": {},
   "outputs": [
    {
     "data": {
      "image/png": "[encoded data removed]",
      "text/plain": [
       "<Figure size 720x360 with 1 Axes>"
      ]
     },
     "metadata": {
      "needs_background": "light"
     },
     "output_type": "display_data"
    }
   ],
   "source": [
    "\"\"\"\n",
    "SECUENCIA:\n",
    "\n",
    "\"\"\"\n",
    "plt.figure(figsize=(10,5))\n",
    "\n",
    "### TU CODIGO AQUI ##\n",
    "promedios = df.groupby(\"country\")[\"price\"].mean().sort_values(ascending=False)\n",
    "\n",
    "#####################\n",
    "\n",
    "plt.title(\"Mejor razón calidad/precio por país (Top 10)\")\n",
    "plt.xlabel(\"País\")\n",
    "plt.xticks(rotation= 45, ha=\"right\")\n",
    "plt.ylabel(\"Razón Puntos/Precio\")\n",
    "\n",
    "for p in ax.patches:\n",
    "    ax.annotate(\"%.2f\" % p.get_height(), (p.get_x() + p.get_width() / 2., p.get_height()),\n",
    "                 ha='center', va='center', fontsize=11, color='gray', xytext=(0, 10),\n",
    "                 textcoords='offset points')\n",
    "plt.show()"
   ]
  },
  {
   "cell_type": "markdown",
   "metadata": {},
   "source": [
    "### __¿Qué vinos tienen la mejor puntuación y a qué países pertenecen?__\n",
    "\n",
    "#### &#9758; Muestra en una gráfica de pastel la proporción de los países que tienen los 20 mejores vinos; es decir, los primeros 20 de mayor puntaje.  "
   ]
  },
  {
   "cell_type": "code",
   "execution_count": null,
   "metadata": {},
   "outputs": [],
   "source": [
    "#TU CODIGO\n"
   ]
  },
  {
   "cell_type": "markdown",
   "metadata": {},
   "source": [
    "### __¿Cuáles son las 10 variedades de uva más abundantes y en qué proporción?__\n",
    "\n",
    "#### &#9758; Da una solución utilizando sólo dos líneas de código"
   ]
  },
  {
   "cell_type": "code",
   "execution_count": null,
   "metadata": {},
   "outputs": [],
   "source": [
    "#TU CODIGO\n",
    "variedades = #<COMPLETA>"
   ]
  },
  {
   "cell_type": "markdown",
   "metadata": {},
   "source": [
    "### __¿Cuáles son las 20 bodegas más mencionadas y en qué proporción?__\n",
    "\n",
    "#### &#9758; Da una solución utilizando sólo dos líneas de código"
   ]
  },
  {
   "cell_type": "code",
   "execution_count": null,
   "metadata": {},
   "outputs": [],
   "source": [
    "#TU CODIGO\n",
    "bodegas = #<COMPLETA>\n"
   ]
  },
  {
   "cell_type": "markdown",
   "metadata": {},
   "source": [
    "### __Vamos ahora a construir una nueva tabla de información__\n",
    "\n",
    "#### &#9758; Construye una tabla que muestre país, variedad de uva, bodega, y valores de puntuación y precio.\n",
    "- Considera las 10 variedades de uva y las 20 bodegas más importantes.\n",
    "- Haz una tabla con estos datos y sólo los valores de país, bodega, variedad, puntuación y precio correspondientes.\n",
    "- Agrega una columna con el valor de puntos/precio\n",
    "- Cambia el nombre de la bodega para que éste incluya su país de origen.\n",
    "- Ordena los datos por nombre de país, variedad y bodega (orden ascendente)."
   ]
  },
  {
   "cell_type": "code",
   "execution_count": null,
   "metadata": {},
   "outputs": [],
   "source": [
    "#TU CODIGO\n",
    "p_v = #<COMPLETA>  #nuevo dataFrame que vamos a construir y luego observar\n"
   ]
  },
  {
   "cell_type": "markdown",
   "metadata": {},
   "source": [
    "#### &#9758; Observa la relación puntos-precio por país"
   ]
  },
  {
   "cell_type": "code",
   "execution_count": null,
   "metadata": {},
   "outputs": [],
   "source": [
    "sns.relplot(x=\"points\", y=\"price\", hue=\"country\", col='country',kind=\"line\", data=p_v)"
   ]
  },
  {
   "cell_type": "markdown",
   "metadata": {},
   "source": [
    "#### &#9758; Observa las distribuciones por pares en función de la variedad de uva."
   ]
  },
  {
   "cell_type": "code",
   "execution_count": null,
   "metadata": {},
   "outputs": [],
   "source": [
    "sns.pairplot(p_v, hue=\"variety\",height=3,palette='rocket')"
   ]
  },
  {
   "cell_type": "markdown",
   "metadata": {},
   "source": [
    "#### &#9758; Observa las distribuciones por pares en función del país."
   ]
  },
  {
   "cell_type": "code",
   "execution_count": null,
   "metadata": {},
   "outputs": [],
   "source": [
    "#TU CODIGO\n"
   ]
  },
  {
   "cell_type": "markdown",
   "metadata": {},
   "source": [
    "#### &#9758; Observa las distribuciones por pares en función de la bodega."
   ]
  },
  {
   "cell_type": "code",
   "execution_count": null,
   "metadata": {},
   "outputs": [],
   "source": [
    "#TU CODIGO\n"
   ]
  },
  {
   "cell_type": "markdown",
   "metadata": {},
   "source": [
    "#### &#9758; Observa las distribuciones (scatter) de precio por variedad de uva."
   ]
  },
  {
   "cell_type": "code",
   "execution_count": null,
   "metadata": {},
   "outputs": [],
   "source": [
    "#TU CODIGO\n"
   ]
  },
  {
   "cell_type": "markdown",
   "metadata": {},
   "source": [
    "#### &#9758; Observa las distribuciones (scatter) de precio por bodega."
   ]
  },
  {
   "cell_type": "code",
   "execution_count": null,
   "metadata": {},
   "outputs": [],
   "source": [
    "#TU CODIGO\n"
   ]
  },
  {
   "cell_type": "markdown",
   "metadata": {},
   "source": [
    "#### &#9758; Observa las distribuciones (scatter) de puntos/precio por bodega."
   ]
  },
  {
   "cell_type": "code",
   "execution_count": null,
   "metadata": {},
   "outputs": [],
   "source": [
    "#TU CODIGO\n"
   ]
  },
  {
   "cell_type": "markdown",
   "metadata": {},
   "source": [
    "#### &#9758; Observa las distribuciones (scatter) de puntos/precio por país."
   ]
  },
  {
   "cell_type": "code",
   "execution_count": null,
   "metadata": {},
   "outputs": [],
   "source": [
    "#TU CODIGO\n"
   ]
  },
  {
   "cell_type": "markdown",
   "metadata": {},
   "source": [
    "### __Agrega los datos de México a esta última tabla de información__\n",
    "\n",
    "#### &#9758; Une la tabla de vinosMX a la tabla p_v\n",
    "- Asegúrate de __no agregar__ la columna de descripción "
   ]
  },
  {
   "cell_type": "code",
   "execution_count": null,
   "metadata": {},
   "outputs": [],
   "source": [
    "#TU CODIGO\n",
    "df3 = #<COMPLETA> # nuevo dataFrame que contiene la unión de las tablas"
   ]
  },
  {
   "cell_type": "markdown",
   "metadata": {},
   "source": [
    "#### &#9758; Calcula los valores de points/price para los vinos de México\n",
    "- TIP: Usa el método apply sobre `df3[['points','price','points/price']]`"
   ]
  },
  {
   "cell_type": "code",
   "execution_count": null,
   "metadata": {},
   "outputs": [],
   "source": [
    "# TU CODIGO\n"
   ]
  },
  {
   "cell_type": "markdown",
   "metadata": {},
   "source": [
    "#### &#9758; Observa la relación puntos-precio por país"
   ]
  },
  {
   "cell_type": "code",
   "execution_count": null,
   "metadata": {},
   "outputs": [],
   "source": [
    "sns.relplot(x=\"points\", y=\"price\", hue=\"country\", col='country',kind=\"line\", data=df3)"
   ]
  },
  {
   "cell_type": "markdown",
   "metadata": {},
   "source": [
    "#### &#9758; Observa las distribuciones por pares en función del país.\n",
    "- Construye una tabla auxiliar \"mx_top\", donde los datos de México (en df3) aparezcan al final de la tabla mx_top."
   ]
  },
  {
   "cell_type": "code",
   "execution_count": null,
   "metadata": {},
   "outputs": [],
   "source": [
    "mx_top = #<COMPLETA>\n",
    "sns.pairplot(mx_top, hue=\"country\",height=3,palette='bright')"
   ]
  },
  {
   "cell_type": "markdown",
   "metadata": {},
   "source": [
    "#### &#9758; Observa las distribuciones (scatter) de puntos por país."
   ]
  },
  {
   "cell_type": "code",
   "execution_count": null,
   "metadata": {},
   "outputs": [],
   "source": [
    "plt.figure(figsize=(10,5))\n",
    "sns.stripplot(x=\"country\", y=\"points\", data=df3,dodge=True,palette='deep',marker='*',size=8)\n",
    "plt.xticks(rotation= 45, ha=\"right\")"
   ]
  },
  {
   "cell_type": "markdown",
   "metadata": {},
   "source": [
    "#### &#9758; Observa las distribuciones (scatter) de precios por bodega."
   ]
  },
  {
   "cell_type": "code",
   "execution_count": null,
   "metadata": {},
   "outputs": [],
   "source": [
    "plt.figure(figsize=(10,5))\n",
    "sns.stripplot(x=\"winery\", y=\"price\", data=df3,dodge=True,palette='rocket',marker='*',size=8)\n",
    "plt.xticks(rotation= 45, ha=\"right\")"
   ]
  },
  {
   "cell_type": "markdown",
   "metadata": {},
   "source": [
    "#### &#9758; Observa las distribuciones (scatter) de puntos/precio por bodega.\n",
    "- Dibuja una línea que marque el promedio de todos los datos\n",
    "- Dibuja marcas ubicadando los valores promedio por cada bodega (TIP: usa `groupby` sobre país y bodega para calcular primero los valores promedio)"
   ]
  },
  {
   "cell_type": "code",
   "execution_count": null,
   "metadata": {},
   "outputs": [],
   "source": [
    "medias = #<COMPLETA>\n",
    "\n",
    "# TU CODIGO\n"
   ]
  },
  {
   "cell_type": "markdown",
   "metadata": {},
   "source": [
    "#### &#9758; Si consideramos la proporción de los países con mejor relación puntos/precio, ¿cómo queda México?\n",
    "- Usa un gráfico de pastel"
   ]
  },
  {
   "cell_type": "code",
   "execution_count": null,
   "metadata": {},
   "outputs": [],
   "source": [
    "# TU CODIGO\n"
   ]
  }
 ],
 "metadata": {
  "kernelspec": {
   "display_name": "Python 3 (ipykernel)",
   "language": "python",
   "name": "python3"
  },
  "language_info": {
   "codemirror_mode": {
    "name": "ipython",
    "version": 3
   },
   "file_extension": ".py",
   "mimetype": "text/x-python",
   "name": "python",
   "nbconvert_exporter": "python",
   "pygments_lexer": "ipython3",
   "version": "3.9.12"
  }
 },
 "nbformat": 4,
 "nbformat_minor": 4
}
