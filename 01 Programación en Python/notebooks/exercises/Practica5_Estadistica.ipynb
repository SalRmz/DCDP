{
 "cells": [
  {
   "cell_type": "markdown",
   "id": "402379da",
   "metadata": {},
   "source": [
    "<a href=\"https://colab.research.google.com/github/DCDPUAEM/DCDP/blob/main/01%20Programaci%C3%B3n%20en%20Python/notebooks/exercises/Practica5_Estadistica.ipynb\" target=\"_parent\"><img src=\"https://colab.research.google.com/assets/colab-badge.svg\" alt=\"Open In Colab\"/></a>"
   ]
  },
  {
   "cell_type": "markdown",
   "id": "021fd760",
   "metadata": {},
   "source": [
    "----\n",
    "\n",
    "<h1><center>Monte Carlo</center></h1>\n",
    "    \n",
    "    \n",
    "El algoritmo se basa en el muestreo aleatorio repetido en un intento de determinar la probabilidad. Esto significa simular un evento con entradas aleatorias un gran número de veces para obtener su estimación. \n",
    "    \n",
    "Las simulaciones Monte Carlo se pueden utilizar en una amplia gama de campos que van desde la economía, el juego, la ingeniería, la energía y cualquier otro campo intermedio. Por lo tanto, no importa en qué campo profesional se encuentre, es algo excelente que debe conocer.\n",
    "\n",
    "---\n",
    "\n",
    "Al aprender a construir simulaciones Monte Carlo, es mejor comenzar con un modelo básico para comprender los fundamentos. La forma más fácil y común de hacerlo es con juegos simples, por lo que utilizaremos un juego de dados en este caso. \n",
    "\n",
    "Probablemente haya escuchado el dicho, \"la casa siempre gana\", así que para este ejemplo, la casa (típicamente un casino) tendrá una ventaja, y mostraremos lo que eso significa para las posibles ganancias del jugador.\n",
    "\n"
   ]
  },
  {
   "cell_type": "markdown",
   "id": "fb65b5aa",
   "metadata": {},
   "source": [
    "## El juego de dados\n",
    "\n",
    "Nuestro juego simple involucrará dos dados de seis caras. P\n",
    "\n",
    "ara ganar, el jugador debe sacar el mismo número en ambos dados. \n",
    "\n",
    "Un dado de seis caras tiene seis resultados posibles (1, 2, 3, 4, 5 y 6). Con dos dados, ahora hay 36 resultados posibles (1 y 1, 1 y 2, 1 y 3, etc., o 6 x 6 = 36 posibilidades). \n",
    "\n",
    "En este juego, la casa tiene más oportunidades de ganar (30 resultados frente a los 6 resultados del jugador), lo que significa que la casa tiene bastante ventaja.\n",
    "\n",
    "---\n",
    "\n",
    "Digamos que nuestro jugador comienza con un saldo de 1,000 y está preparado para perderlo todo, por lo que apuesta 1 en cada tirada (lo que significa que se tiran ambos dados) y decide jugar 1,000 tiradas. Debido a que la casa es tan generosa, ofrecen pagar 4 veces la apuesta del jugador cuando el jugador gana. \n",
    "\n",
    "Por ejemplo, si el jugador gana la primera tirada, su saldo aumenta en $4 y finaliza la ronda con un saldo de 1,004. Si milagrosamente lograban una racha de 1000 victorias, podrían irse a casa con 5000. Si perdía todas las rondas, podrían irse a casa sin nada. No es una mala relación riesgo-recompensa… o tal vez lo sea."
   ]
  },
  {
   "cell_type": "code",
   "execution_count": 2,
   "id": "881ca87f",
   "metadata": {},
   "outputs": [],
   "source": [
    "# Importando paqueterias\n",
    "import matplotlib.pyplot as plt\n",
    "import random"
   ]
  },
  {
   "cell_type": "markdown",
   "id": "a35ab824",
   "metadata": {},
   "source": [
    "Ahora, debemos definir nuestra función que genere valores entre 1 y 6 para ambos dados. Podemos auxiliarnos con la funcion *random.randinit()*\n",
    "\n",
    "Tomando en consideración la condición de que si el dado 1 es identico al dado 2, tendremos un resultado positivo en la apuesta, caso contrario, tendremos una derrota."
   ]
  },
  {
   "cell_type": "code",
   "execution_count": 104,
   "id": "840caf24",
   "metadata": {},
   "outputs": [
    {
     "data": {
      "text/plain": [
       "0"
      ]
     },
     "execution_count": 104,
     "metadata": {},
     "output_type": "execute_result"
    }
   ],
   "source": [
    "# Creando funcion de lanzamiento de dados\n",
    "def roll_dice():\n",
    "    same_num = 0\n",
    "    roll1 = random.randint(1,6)\n",
    "    roll2 = random.randint(1,6)\n",
    "    #print(roll1,roll2)\n",
    "    if roll1 == roll2:\n",
    "        same_num = 1\n",
    "    return same_num\n",
    "roll_dice()\n",
    "\n"
   ]
  },
  {
   "cell_type": "markdown",
   "id": "f95ce69b",
   "metadata": {},
   "source": [
    "Cada simulación Monte Carlo requerirá que sepa cuáles son sus entradas y qué información está buscando obtener. \n",
    "\n",
    "En esta práctica, ya definimos cuáles son nuestras entradas cuando describimos el juego. **Dijimos que nuestra cantidad de tiradas por juego es 1,000, y la cantidad que el jugador apostará en cada tirada es $1**. \n",
    "\n",
    "Además de nuestras variables de entrada, necesitamos definir cuántas veces queremos simular el juego. Podemos usar la variable num_simulations como nuestro conteo de simulación de Monte Carlo. Cuanto más alto hagamos este número, más precisa será la probabilidad predicha de su valor real.\n",
    "\n",
    "La cantidad de variables que podemos rastrear generalmente aumenta con la complejidad de un proyecto, por lo que es importante precisar sobre qué información deseamos trabajar. \n",
    "\n",
    "Para este caso, realizaremos un seguimiento de la probabilidad de ganar (ganancias por juego divididas por el número total de tiradas) y el saldo final para cada simulación (o juego). Estos se inicializan como listas y se actualizarán al final de cada juego."
   ]
  },
  {
   "cell_type": "code",
   "execution_count": 102,
   "id": "306cf845",
   "metadata": {},
   "outputs": [],
   "source": [
    "# Entradas\n",
    "num_simulations = 10000 #Valor dado\n",
    "max_num_rolls = 1000\n",
    "bet = 1\n",
    "\n",
    "# Seguimiento\n",
    "win_probability = [0]\n",
    "end_balance = [0]"
   ]
  },
  {
   "cell_type": "markdown",
   "id": "495fffd3",
   "metadata": {},
   "source": [
    "### Configuración de la figura\n",
    "\n",
    "El siguiente paso es configurar nuestra figura antes de ejecutar la simulación. Al hacer esto antes de la simulación, nos permite agregar líneas a nuestra figura después de cada juego. Luego, una vez que hayamos ejecutado todas las simulaciones, podemos mostrar la gráfica para mostrar nuestros resultados."
   ]
  },
  {
   "cell_type": "code",
   "execution_count": 101,
   "id": "9a7cfe7b",
   "metadata": {},
   "outputs": [
    {
     "data": {
      "text/plain": [
       "(1000.0, 1.0)"
      ]
     },
     "execution_count": 101,
     "metadata": {},
     "output_type": "execute_result"
    },
    {
     "data": {
      "image/png": "[encoded data removed]",
      "text/plain": [
       "<Figure size 1152x504 with 1 Axes>"
      ]
     },
     "metadata": {
      "needs_background": "light"
     },
     "output_type": "display_data"
    }
   ],
   "source": [
    "# Creando figura para los ejemplos de simulacion\n",
    "fig = plt.figure(figsize=(16,7))\n",
    "plt.xlabel(\"Tirada\")\n",
    "plt.ylabel(\"Balance\")\n",
    "#plt.#<COMPLETA>\n",
    "plt.xlim(max_num_rolls)"
   ]
  },
  {
   "cell_type": "markdown",
   "id": "00195b53",
   "metadata": {},
   "source": [
    "En el siguiente código, tenemos un bucle for externo que itera a través de nuestro número predefinido de simulaciones (10 000 simulaciones) y un bucle while anidado que ejecuta cada juego (1000 tiradas). \n",
    "\n",
    "Antes de comenzar cada ciclo while, inicializamos el saldo del jugador como $1,000 (como una lista para fines de trazado) y un conteo de tiradas y ganancias.\n",
    "\n",
    "    * Nuestro bucle while simulará el juego durante 1000 tiradas. Dentro de este bucle, lanzamos los dados y usamos la variable booleana devuelta por roll_dice() para determinar el resultado. Si los dados son del mismo número, agregamos 4 veces la apuesta a la lista de saldo y agregamos una ganancia al conteo de ganancias. Si los dados son diferentes, restamos la apuesta de la lista de saldo. Al final de cada lanzamiento, agregamos un conteo a nuestra lista num_rolls.\n",
    "\n",
    "Una vez que el número de lanzamientos llega a 1000, podemos calcular la probabilidad de ganar del jugador como el número de ganancias dividido por el número total de lanzamientos. \n",
    "\n",
    "También podemos almacenar el saldo final del juego completo en la variable de seguimiento end_balance. Finalmente, podemos trazar las variables num_rolls y balance para agregar una línea a la figura que definimos anteriormente."
   ]
  },
  {
   "cell_type": "code",
   "execution_count": null,
   "id": "ea2cb46e",
   "metadata": {},
   "outputs": [],
   "source": [
    "# For para ejecutar todas las simulaciones deseadas\n",
    "for i in range(num_simulations):\n",
    "    balance = 1000\n",
    "    num_rolls = [0]\n",
    "    num_wins = [0]\n",
    "    \n",
    "    while num_rolls[-1] < max_num_rolls:\n",
    "        #num_wins = num_wins + roll_dice()\n",
    "        num_wins.append( num_wins[-1] + roll_dice() )\n",
    "        num_rolls.append(num_rolls[-1] + 1)# Store tracking variables and add line to figure\n",
    "        \n",
    "    win_probability.append(num_wins[-1]/num_rolls[-1])\n",
    "    end_balance.append(num_wins[-1])\n",
    "    plt.plot(num_rolls,num_wins)"
   ]
  },
  {
   "cell_type": "code",
   "execution_count": 16,
   "id": "36cb8cd3",
   "metadata": {},
   "outputs": [
    {
     "name": "stdout",
     "output_type": "stream",
     "text": [
      "Promedio de victorias despues de 10000 simulaciones: 0.16654541364658582\n",
      "Saldo promedio despues de 10000 simulaciones: $832.7270682329417\n"
     ]
    }
   ],
   "source": [
    "# Probabilidad promedio de victoria y saldo final\n",
    "overall_win_probability = #<COMPLETA>\n",
    "overall_end_balance = #<COMPLETA>\n",
    "print(\"Promedio de victorias despues de \" + str(#<COMPLETA>) + \" simulaciones: \" + str(#<COMPLETA>))\n",
    "print(\"Saldo promedio despues de \" + str(#<COMPLETA>) + \" simulaciones: $\" + str(#<COMPLETA>))"
   ]
  },
  {
   "cell_type": "markdown",
   "id": "820b26b1",
   "metadata": {},
   "source": [
    "## Desafio complementario\n",
    "\n",
    "Ahora, realiza el mismo procedimiento pero mostrando los \n",
    "resultados para 10, 100, 1000 y 10000 lanzamientos, considerando 200, 2000 y 20000 simulaciones.\n",
    "\n",
    "Como bien sabemos, cada que gana el individuo, la casa le pagaba 4 veces el valor de la apuesta.\n",
    "Ahora, si gana, le pagaran 6 veces mas de lo apostado, siempre y cuando el individuo apueste de 3 en 3.\n",
    "\n",
    "El monto inicial sería ahora de 800. ¿Cuánta diferencia existe entre los resultados obtenidos para cada escenario?\n",
    "¿En cuales se tiene un porcentaje mayor de victoria? \n",
    "\n",
    "Grafica estos resultados utilizando graficas de pastel y de barras y realiza una comparación entre ellos. "
   ]
  },
  {
   "cell_type": "code",
   "execution_count": null,
   "id": "192145e0",
   "metadata": {},
   "outputs": [],
   "source": []
  },
  {
   "cell_type": "code",
   "execution_count": null,
   "id": "21199ed4",
   "metadata": {},
   "outputs": [],
   "source": []
  },
  {
   "cell_type": "code",
   "execution_count": null,
   "id": "bc407730",
   "metadata": {},
   "outputs": [],
   "source": []
  },
  {
   "cell_type": "markdown",
   "id": "6c769190",
   "metadata": {},
   "source": [
    "## ¿Qué es web scrapping?\n",
    "\n",
    "Es una técnica para recuperar grandes cantidades de datos de Internet.\n",
    "\n",
    "-----\n",
    "\n",
    "Existen diferentes técnicas como Scrappy, BeautifulSoup, etc. La librería más común es BeautifulSoup. \n",
    "\n",
    "Extrae la página Html de cualquier sitio web. Los datos almacenados por web Scrapping son un formato no estructurado. Convertimos los datos no estructurados en estructurados para el análisis y la exploración de datos.\n",
    "\n",
    "------\n",
    "\n",
    "### Bibliotecas utilizadas para Web Scraping\n",
    "\n",
    "Como sabemos, Python se usa para varias aplicaciones y existen diferentes bibliotecas para diferentes propósitos. En nuestra demostración adicional, usaremos las siguientes bibliotecas:\n",
    "\n",
    "   * BeautifulSoup: Beautiful Soup es un paquete de Python para analizar documentos HTML y XML. Crea árboles de análisis que son útiles para extraer los datos fácilmente.\n",
    "   * Pandas: Pandas es una biblioteca que se utiliza para la manipulación y el análisis de datos. Se utiliza para extraer los datos y almacenarlos en el formato deseado.\n",
    "   * Utilice matplotlib y seaborn para la visualización de datos"
   ]
  },
  {
   "cell_type": "markdown",
   "id": "3be573ae",
   "metadata": {},
   "source": [
    "------\n",
    "### ¿Cómo funciona el Web Scraping?\n",
    "\n",
    "Cuando ejecuta el código para web scraping, se envía una solicitud a la URL que ha mencionado. Como respuesta a la solicitud, el servidor envía los datos y le permite leer la página HTML o XML. Luego, el código analiza la página HTML o XML, encuentra los datos y los extrae.\n",
    "\n",
    "Para extraer datos utilizando web scraping con Python, debe seguir estos pasos básicos:\n",
    "\n",
    "   * Busque la URL que desea raspar\n",
    "   * Inspecciona la página\n",
    "   * Encuentra los datos que quieres extraer\n",
    "   * Escribe el codigo\n",
    "   * Ejecute el código y extraiga los datos\n",
    "   * Almacene los datos en el formato requerido\n",
    "\n",
    "------"
   ]
  },
  {
   "cell_type": "markdown",
   "id": "2d694b98",
   "metadata": {},
   "source": [
    "-------\n",
    "\n",
    "### Datos del sitio web de Flipkart\n",
    "\n",
    "Para comprobar cuál debería ser el precio óptimo de nuestro producto, estos precios pueden variar mucho. Entonces, vamos a mostrar cómo podemos obtener información relacionada con un producto en particular (computadora portátil).\n",
    "\n",
    "Primero, importemos todas las bibliotecas necesarias:"
   ]
  },
  {
   "cell_type": "code",
   "execution_count": 22,
   "id": "db3bbf38",
   "metadata": {},
   "outputs": [],
   "source": [
    "import requests\n",
    "import pandas as pd\n",
    "import numpy as np\n",
    "import matplotlib.pyplot as plt\n",
    "import seaborn as sns\n",
    "from bs4 import BeautifulSoup"
   ]
  },
  {
   "cell_type": "markdown",
   "id": "9e96d512",
   "metadata": {},
   "source": [
    "Los datos que extraemos son datos no estructurados. Por eso, crearemos listas vacías para almacenarlas de forma estructurada"
   ]
  },
  {
   "cell_type": "code",
   "execution_count": 23,
   "id": "f6382fe1",
   "metadata": {},
   "outputs": [],
   "source": [
    "name=[]\n",
    "prices=[]\n",
    "ratings=[]\n",
    "df = pd.DataFrame()"
   ]
  },
  {
   "cell_type": "markdown",
   "id": "21968e56",
   "metadata": {},
   "source": [
    "## Paso 1: busque la URL\n",
    "\n",
    "Para este ejemplo, vamos a **raspar** (Scrap) el sitio web de **Flipkart** para extraer el nombre, el precio y la calificación de las computadoras portátiles. La URL de esta página es:\n",
    "\n",
    "[Flipkart](https://www.flipkart.com/search?q=laptops&otracker=search&otracker1=search&marketplace=FLIPKART&as-show=on&as=off&as-pos=1&as-type=HISTORY.)"
   ]
  },
  {
   "cell_type": "code",
   "execution_count": 24,
   "id": "53620f7a",
   "metadata": {},
   "outputs": [],
   "source": [
    "url = \"https://www.flipkart.com/search?q=laptops&otracker=search&otracker1=search&marketplace=FLIPKART&as-show=on&as=off&as-pos=1&as-type=HISTORY.\""
   ]
  },
  {
   "cell_type": "code",
   "execution_count": 26,
   "id": "ec13972e",
   "metadata": {},
   "outputs": [
    {
     "data": {
      "text/plain": [
       "<Response [200]>"
      ]
     },
     "execution_count": 26,
     "metadata": {},
     "output_type": "execute_result"
    }
   ],
   "source": [
    "#<COMPLETA>"
   ]
  },
  {
   "cell_type": "markdown",
   "id": "ce24cdb8",
   "metadata": {},
   "source": [
    "### Paso 2: inspección de la página\n",
    "\n",
    "Los datos suelen estar anidados en etiquetas. Entonces, inspeccionamos la página para ver, bajo qué etiqueta están anidados los datos que queremos raspar. Para inspeccionar la página, simplemente haga clic derecho en el elemento y haga clic en \"Inspeccionar\" (o F12)."
   ]
  },
  {
   "cell_type": "markdown",
   "id": "c4bf4b19",
   "metadata": {},
   "source": [
    "![img](https://miro.medium.com/max/571/0*TF2VBxPanqhxb-hY.png)"
   ]
  },
  {
   "cell_type": "markdown",
   "id": "fc839c2c",
   "metadata": {},
   "source": [
    "### Paso 3: busque los datos que desea extraer\n",
    "\n",
    "Extraemos el nombre, precio y calificación que están anidados en la etiqueta \"div\" respectivamente.\n",
    "\n",
    "Por lo general, nos confundiremos sobre qué etiqueta necesitamos copiar para esta computadora portátil. Podemos usar https://webformatter.com/ para filtrar la etiqueta por el nombre, el precio y la calificación, y podemos copiar fácilmente con esta herramienta.\n",
    "\n",
    "Ahora que hemos escrito el código para abrir la URL, es hora de extraer los datos del sitio web. Como se mencionó anteriormente, los datos que queremos extraer están anidados en etiquetas <div>. Entonces, encontraremos las etiquetas div con esos respectivos nombres de clase, extraeremos y almacenaremos los datos en una variable. Consulte el código a continuación:"
   ]
  },
  {
   "cell_type": "code",
   "execution_count": 27,
   "id": "3e6eb521",
   "metadata": {},
   "outputs": [],
   "source": [
    "soup = BeautifulSoup(#<COMPLETA>)"
   ]
  },
  {
   "cell_type": "code",
   "execution_count": 28,
   "id": "5f6c7e80",
   "metadata": {},
   "outputs": [
    {
     "data": {
      "text/plain": [
       "24"
      ]
     },
     "execution_count": 28,
     "metadata": {},
     "output_type": "execute_result"
    }
   ],
   "source": [
    "#<COMPLETA>.find_all(\"div\", {\"class\":\"_13oc-S\"})\n",
    "#<COMPLETA>"
   ]
  },
  {
   "cell_type": "code",
   "execution_count": 29,
   "id": "8c6f472f",
   "metadata": {
    "scrolled": true
   },
   "outputs": [
    {
     "data": {
      "text/plain": [
       "<div class=\"_13oc-S\"><div data-id=\"COMGG63HGDTFCCGW\" style=\"width:100%\"><div class=\"_2kHMtA\"><div class=\"_2tfzpE\"><span>Ad</span></div><a class=\"_1fQZEK\" href=\"/hp-15s-intel-core-i5-12th-gen-8-gb-512-gb-ssd-windows-11-home-15s-fq5111tu-thin-light-laptop/p/itmbecf654716fd5?pid=COMGG63HGDTFCCGW&amp;lid=LSTCOMGG63HGDTFCCGWLETTA9&amp;marketplace=FLIPKART&amp;q=laptops&amp;store=6bo%2Fb5g&amp;srno=s_1_1&amp;otracker=search&amp;otracker1=search&amp;fm=organic&amp;iid=en_4x8Mvc7TY%2FEo3Dlk8BtfBBc%2FXL2PD%2BxLz%2FLhXMk8yg2YnOITy2WpyGJjEv8IIWShInkWRR%2FEvC4og1mB8obwcw%3D%3D&amp;ppt=None&amp;ppn=None&amp;ssid=wxjbxgkhr40000001677123691029&amp;qH=c06ea84a1e3dc3c6\" rel=\"noopener noreferrer\" target=\"_blank\"><div class=\"MIXNux\"><div class=\"_2QcLo-\"><div><div class=\"CXW8mj\" style=\"height:200px;width:200px\"><img alt=\"HP 15s Intel Core i5 12th Gen - (8 GB/512 GB SSD/Windows 11 Home) 15s-fq5111TU Thin and Light Laptop\" class=\"_396cs4\" loading=\"eager\" src=\"https://rukminim1.flixcart.com/image/312/312/xif0q/computer/y/6/4/-original-imagkqwzbryf6sp7.jpeg?q=70\"/></div></div></div><div class=\"_3wLduG\"><div class=\"_3PzNI-\"><span class=\"f3A4_V\"><label class=\"_2iDkf8\"><input class=\"_30VH1S\" readonly=\"\" type=\"checkbox\"/><div class=\"_24_Dny\"></div></label></span><label class=\"_6Up2sF\"><span>Add to Compare</span></label></div></div><div class=\"_2hVSre _3nq8ih\"><div class=\"_36FSn5\"><svg class=\"_1l0elc\" height=\"16\" viewbox=\"0 0 20 16\" width=\"16\" xmlns=\"http://www.w3.org/2000/svg\"><path class=\"eX72wL\" d=\"M8.695 16.682C4.06 12.382 1 9.536 1 6.065 1 3.219 3.178 1 5.95 1c1.566 0 3.069.746 4.05 1.915C10.981 1.745 12.484 1 14.05 1 16.822 1 19 3.22 19 6.065c0 3.471-3.06 6.316-7.695 10.617L10 17.897l-1.305-1.215z\" fill=\"#2874F0\" fill-rule=\"evenodd\" opacity=\".9\" stroke=\"#FFF\"></path></svg></div></div></div><div class=\"_3pLy-c row\"><div class=\"col col-7-12\"><div class=\"_4rR01T\">HP 15s Intel Core i5 12th Gen - (8 GB/512 GB SSD/Windows 11 Home) 15s-fq5111TU Thin and Light Laptop</div><div class=\"gUuXy-\"><span class=\"_1lRcqv\" id=\"productRating_LSTCOMGG63HGDTFCCGWLETTA9_COMGG63HGDTFCCGW_\"><div class=\"_3LWZlK\">4.2<img class=\"_1wB99o\" src=\"data:image/svg+xml;base64,PHN2ZyB4bWxucz0iaHR0cDovL3d3dy53My5vcmcvMjAwMC9zdmciIHdpZHRoPSIxMyIgaGVpZ2h0PSIxMiI+PHBhdGggZmlsbD0iI0ZGRiIgZD0iTTYuNSA5LjQzOWwtMy42NzQgMi4yMy45NC00LjI2LTMuMjEtMi44ODMgNC4yNTQtLjQwNEw2LjUuMTEybDEuNjkgNC4wMSA0LjI1NC40MDQtMy4yMSAyLjg4Mi45NCA0LjI2eiIvPjwvc3ZnPg==\"/></div></span><span class=\"_2_R_DZ\"><span><span>2,020 Ratings </span><span class=\"_13vcmD\">&amp;</span><span> 167 Reviews</span></span></span></div><div class=\"fMghEO\"><ul class=\"_1xgFaf\"><li class=\"rgWa7D\">Intel Core i5 Processor (12th Gen)</li><li class=\"rgWa7D\">8 GB DDR4 RAM</li><li class=\"rgWa7D\">64 bit Windows 11 Operating System</li><li class=\"rgWa7D\">512 GB SSD</li><li class=\"rgWa7D\">39.62 cm (15.6 inch) Display</li><li class=\"rgWa7D\">1 Year Onsite Warranty</li></ul></div></div><div class=\"col col-5-12 nlI3QM\"><div class=\"_3tbKJL\"><div class=\"_25b18c\"><div class=\"_30jeq3 _1_WHN1\">₹59,999</div><div class=\"_3I9_wc _27UcVY\">₹<!-- -->70,235</div><div class=\"_3Ay6Sb\"><span>14% off</span></div></div><div class=\"_3tcB5a p8ucoS\"><div><div class=\"_2Tpdn3\" style=\"color:#000000;font-size:12px;font-weight:400\">Free delivery</div></div></div></div><div class=\"_13J9qT\"><img height=\"21\" src=\"//static-assets-web.flixcart.com/fk-p-linchpin-web/fk-cp-zion/img/fa_62673a.png\"/></div><div class=\"_2ZdXDB\"><div class=\"_3xFhiH\"><div class=\"_2Tpdn3 _18hQoS\" style=\"color:#000000;font-size:14px;font-style:normal;font-weight:400\">Upto </div><div class=\"_2Tpdn3 _18hQoS\" style=\"color:#000000;font-size:14px;font-style:normal;font-weight:700\">₹17,300</div><div class=\"_2Tpdn3 _18hQoS\" style=\"color:#000000;font-size:14px;font-style:normal;font-weight:400\"> Off on Exchange</div></div></div><div class=\"_2ZdXDB\"><div class=\"_3xFhiH\"><div class=\"_2Tpdn3 _18hQoS\" style=\"color:#000000;font-size:12px;font-weight:400\">No Cost EMI from ₹10,000/month</div></div></div></div></div></a></div></div></div>"
      ]
     },
     "execution_count": 29,
     "metadata": {},
     "output_type": "execute_result"
    }
   ],
   "source": [
    "box=main_box[0]\n",
    "box"
   ]
  },
  {
   "cell_type": "code",
   "execution_count": 30,
   "id": "2be8bcee",
   "metadata": {},
   "outputs": [],
   "source": [
    "title = box.find('div', {'class':'_4rR01T'}).text.strip()\n",
    "rating = box.find('div', {'class':'_3LWZlK'}).text.strip()\n",
    "price = box.find('div', {'class':'_30jeq3 _1_WHN1'}).text.replace('₹','').strip()"
   ]
  },
  {
   "cell_type": "code",
   "execution_count": 31,
   "id": "38b07a2c",
   "metadata": {},
   "outputs": [
    {
     "name": "stdout",
     "output_type": "stream",
     "text": [
      "HP 15s Intel Core i5 12th Gen - (8 GB/512 GB SSD/Windows 11 Home) 15s-fq5111TU Thin and Light Laptop 59,999 4.2\n"
     ]
    }
   ],
   "source": [
    "print(title,price,rating)"
   ]
  },
  {
   "cell_type": "code",
   "execution_count": 46,
   "id": "9daa5d05",
   "metadata": {},
   "outputs": [],
   "source": [
    "data_list=[]\n",
    "for box in main_box:\n",
    "    temp_dict={}\n",
    "    if not box.find('div', {'class':'_3LWZlK'}):\n",
    "        temp_dict['rating'] = \"unknown\"\n",
    "    else:\n",
    "        temp_dict['rating'] = box.find('div', {'class':'_3LWZlK'}).text.strip()  \n",
    "    #<COMPLETA>\n",
    "    data_list.append(temp_dict)"
   ]
  },
  {
   "cell_type": "code",
   "execution_count": 125,
   "id": "5f676837",
   "metadata": {},
   "outputs": [
    {
     "data": {
      "text/plain": [
       "[{'rating': '4.2',\n",
       "  'title': 'HP 15s Intel Core i5 12th Gen - (8 GB/512 GB SSD/Windows 11 Home) 15s-fq5111TU Thin and Light Laptop',\n",
       "  'price': '59,999'},\n",
       " {'rating': '4.2',\n",
       "  'title': 'HP 14s Intel Core i3 11th Gen - (8 GB/256 GB SSD/Windows 11 Home) 14s - dy2507TU Thin and Light Laptop',\n",
       "  'price': '37,990'},\n",
       " {'rating': '4.4',\n",
       "  'title': 'ASUS TUF Gaming F15 Core i5 10th Gen - (8 GB/512 GB SSD/Windows 11 Home/4 GB Graphics/NVIDIA GeForce G...',\n",
       "  'price': '49,990'},\n",
       " {'rating': '4.7',\n",
       "  'title': 'APPLE 2020 Macbook Air M1 - (8 GB/256 GB SSD/Mac OS Big Sur) MGN63HN/A',\n",
       "  'price': '86,990'},\n",
       " {'rating': '4.3',\n",
       "  'title': 'ASUS VivoBook 15 (2022) Core i3 10th Gen - (8 GB/512 GB SSD/Windows 11 Home) X515JA-EJ362WS | X515JA-E...',\n",
       "  'price': '33,990'},\n",
       " {'rating': '3.9',\n",
       "  'title': 'Lenovo Athlon Dual Core - (4 GB/256 GB SSD/DOS) E41-55 45-2 Laptop',\n",
       "  'price': '18,990'},\n",
       " {'rating': '4.1',\n",
       "  'title': 'RedmiBook Pro Core i5 11th Gen - (8 GB/512 GB SSD/Windows 11 Home) Thin and Light Laptop',\n",
       "  'price': '38,990'},\n",
       " {'rating': '4.2',\n",
       "  'title': 'HP 15s Intel Core i3 12th Gen - (8 GB/512 GB SSD/Windows 11 Home) 15s-fq5007TU Thin and Light Laptop',\n",
       "  'price': '44,990'},\n",
       " {'rating': '4',\n",
       "  'title': 'Lenovo V15 G2 Core i3 11th Gen - (8 GB/512 GB SSD/Windows 11 Home) V15 ITL G2 Laptop',\n",
       "  'price': '33,999'},\n",
       " {'rating': '4.1',\n",
       "  'title': 'ASUS VivoBook 14 (2021) Celeron Dual Core - (4 GB/256 GB SSD/Windows 11 Home) X415MA-BV011W Thin and L...',\n",
       "  'price': '23,990'},\n",
       " {'rating': '4.4',\n",
       "  'title': 'ASUS TUF Gaming A17 with 90Whr Battery Ryzen 5 Hexa Core AMD R5-4600H - (8 GB/512 GB SSD/Windows 11 Ho...',\n",
       "  'price': '63,990'},\n",
       " {'rating': 'unknown',\n",
       "  'title': 'HP Laptop Core i3 11th Gen - (8 GB/512 GB SSD/Windows 11 Home) 15s-fq2717TU Thin and Light Laptop',\n",
       "  'price': '39,990'},\n",
       " {'rating': '4.3',\n",
       "  'title': 'HP Ryzen 5 Hexa Core 5500U - (16 GB/512 GB SSD/Windows 11 Home) 15s- eq2182AU Thin and Light Laptop',\n",
       "  'price': '49,123'},\n",
       " {'rating': '4.7',\n",
       "  'title': 'APPLE 2020 Macbook Air M1 - (8 GB/256 GB SSD/Mac OS Big Sur) MGN93HN/A',\n",
       "  'price': '86,990'},\n",
       " {'rating': '4.3',\n",
       "  'title': 'HP Intel Core i5 11th Gen - (8 GB/512 GB SSD/Windows 11 Home) 15s- fr4000TU Thin and Light Laptop',\n",
       "  'price': '52,990'},\n",
       " {'rating': '4.2',\n",
       "  'title': 'HP Ryzen 5 Hexa Core 5500U - (8 GB/512 GB SSD/Windows 11 Home) 14s-fq1092au Thin and Light Laptop',\n",
       "  'price': '47,990'},\n",
       " {'rating': '4.1',\n",
       "  'title': 'DELL Vostro Core i3 11th Gen - (8 GB/1 TB HDD/256 GB SSD/Windows 11 Home) Vostro 3510 Thin and Light L...',\n",
       "  'price': '39,990'},\n",
       " {'rating': '4.1',\n",
       "  'title': 'ASUS Core i7 11th Gen - (16 GB/512 GB SSD/Windows 11 Home) X515EA-EJ701WS Thin and Light Laptop',\n",
       "  'price': '56,990'},\n",
       " {'rating': '4.4',\n",
       "  'title': 'realme Book (Slim) Core i3 11th Gen - (8 GB/256 GB SSD/Windows 10 Home) RMNB1001 Thin and Light Laptop',\n",
       "  'price': '36,990'},\n",
       " {'rating': '4.3',\n",
       "  'title': 'HP 15s Intel Core i3 11th Gen - (8 GB/512 GB SSD/Windows 11 Home) 15s-fr2511TU Thin and Light Laptop',\n",
       "  'price': '40,950'},\n",
       " {'rating': '4.2',\n",
       "  'title': 'HP Pavilion Ryzen 5 Hexa Core 5625U - (8 GB/512 GB SSD/Windows 11 Home) 14-EC1003AU Thin and Light Lap...',\n",
       "  'price': '53,990'},\n",
       " {'rating': '4.2',\n",
       "  'title': 'acer Aspire 3 Ryzen 3 Dual Core 3250U - (8 GB/256 GB SSD/Windows 11 Home) A315-23 Laptop',\n",
       "  'price': '26,990'},\n",
       " {'rating': '4.3',\n",
       "  'title': 'Lenovo IdeaPad 3 Core i3 11th Gen - (8 GB/512 GB SSD/Windows 11 Home) 82H801L7IN | 82H802FJIN | 82H802...',\n",
       "  'price': '38,699'},\n",
       " {'rating': '4.2',\n",
       "  'title': 'HP 14s Intel Core i5 12th Gen - (16 GB/512 GB SSD/Windows 11 Home) 14s - dy5005TU Thin and Light Lapto...',\n",
       "  'price': '61,400'}]"
      ]
     },
     "execution_count": 125,
     "metadata": {},
     "output_type": "execute_result"
    }
   ],
   "source": [
    "data_list"
   ]
  },
  {
   "cell_type": "markdown",
   "id": "2272e7c5",
   "metadata": {},
   "source": [
    "### Paso 4: Crear un dataframe y guardar los datos en csv\n",
    "\n",
    "Después de extraer los datos, es posible que desee almacenarlos en un formato. Este formato varía según sus necesidades. Para este ejemplo, almacenaremos los datos extraídos en formato CSV (valores separados por comas). Para hacer esto, agregaré las siguientes líneas a mi código:"
   ]
  },
  {
   "cell_type": "code",
   "execution_count": 50,
   "id": "1e1e8742",
   "metadata": {},
   "outputs": [
    {
     "data": {
      "text/html": [
       "<div>\n",
       "<style scoped>\n",
       "    .dataframe tbody tr th:only-of-type {\n",
       "        vertical-align: middle;\n",
       "    }\n",
       "\n",
       "    .dataframe tbody tr th {\n",
       "        vertical-align: top;\n",
       "    }\n",
       "\n",
       "    .dataframe thead th {\n",
       "        text-align: right;\n",
       "    }\n",
       "</style>\n",
       "<table border=\"1\" class=\"dataframe\">\n",
       "  <thead>\n",
       "    <tr style=\"text-align: right;\">\n",
       "      <th></th>\n",
       "      <th>rating</th>\n",
       "      <th>title</th>\n",
       "      <th>price</th>\n",
       "    </tr>\n",
       "  </thead>\n",
       "  <tbody>\n",
       "    <tr>\n",
       "      <th>0</th>\n",
       "      <td>4.2</td>\n",
       "      <td>HP 15s Intel Core i5 12th Gen - (8 GB/512 GB S...</td>\n",
       "      <td>59,999</td>\n",
       "    </tr>\n",
       "    <tr>\n",
       "      <th>1</th>\n",
       "      <td>4.2</td>\n",
       "      <td>HP 14s Intel Core i3 11th Gen - (8 GB/256 GB S...</td>\n",
       "      <td>37,990</td>\n",
       "    </tr>\n",
       "    <tr>\n",
       "      <th>2</th>\n",
       "      <td>4.4</td>\n",
       "      <td>ASUS TUF Gaming F15 Core i5 10th Gen - (8 GB/5...</td>\n",
       "      <td>49,990</td>\n",
       "    </tr>\n",
       "    <tr>\n",
       "      <th>3</th>\n",
       "      <td>4.7</td>\n",
       "      <td>APPLE 2020 Macbook Air M1 - (8 GB/256 GB SSD/M...</td>\n",
       "      <td>86,990</td>\n",
       "    </tr>\n",
       "    <tr>\n",
       "      <th>4</th>\n",
       "      <td>4.3</td>\n",
       "      <td>ASUS VivoBook 15 (2022) Core i3 10th Gen - (8 ...</td>\n",
       "      <td>33,990</td>\n",
       "    </tr>\n",
       "  </tbody>\n",
       "</table>\n",
       "</div>"
      ],
      "text/plain": [
       "  rating                                              title   price\n",
       "0    4.2  HP 15s Intel Core i5 12th Gen - (8 GB/512 GB S...  59,999\n",
       "1    4.2  HP 14s Intel Core i3 11th Gen - (8 GB/256 GB S...  37,990\n",
       "2    4.4  ASUS TUF Gaming F15 Core i5 10th Gen - (8 GB/5...  49,990\n",
       "3    4.7  APPLE 2020 Macbook Air M1 - (8 GB/256 GB SSD/M...  86,990\n",
       "4    4.3  ASUS VivoBook 15 (2022) Core i3 10th Gen - (8 ...  33,990"
      ]
     },
     "execution_count": 50,
     "metadata": {},
     "output_type": "execute_result"
    }
   ],
   "source": [
    "#<COMPLETA>"
   ]
  },
  {
   "cell_type": "markdown",
   "id": "e4a18a21",
   "metadata": {},
   "source": [
    "### Paso 5: Un poco de EDA y visualización de este archivo"
   ]
  },
  {
   "cell_type": "code",
   "execution_count": 51,
   "id": "6f2da64c",
   "metadata": {},
   "outputs": [
    {
     "name": "stdout",
     "output_type": "stream",
     "text": [
      "<class 'pandas.core.frame.DataFrame'>\n",
      "RangeIndex: 24 entries, 0 to 23\n",
      "Data columns (total 3 columns):\n",
      " #   Column  Non-Null Count  Dtype \n",
      "---  ------  --------------  ----- \n",
      " 0   rating  24 non-null     object\n",
      " 1   title   24 non-null     object\n",
      " 2   price   24 non-null     object\n",
      "dtypes: object(3)\n",
      "memory usage: 704.0+ bytes\n"
     ]
    }
   ],
   "source": [
    "#<COMPLETA>"
   ]
  },
  {
   "cell_type": "code",
   "execution_count": 97,
   "id": "99f0448e",
   "metadata": {},
   "outputs": [],
   "source": [
    "#<COMPLETA> | Crea una copia auxiliar llamada laptop_df"
   ]
  },
  {
   "cell_type": "markdown",
   "id": "2b11361d",
   "metadata": {},
   "source": [
    "Quiero dividir el título debido a todas las especificaciones y nombres de portátiles en una fila.\n",
    "\n",
    "Lo dividiremos en diferentes columnas por separado usando la opción split ()"
   ]
  },
  {
   "cell_type": "code",
   "execution_count": 98,
   "id": "3086a6d7",
   "metadata": {},
   "outputs": [
    {
     "name": "stderr",
     "output_type": "stream",
     "text": [
      "C:\\Users\\beyon\\AppData\\Local\\Temp\\ipykernel_16568\\2258798354.py:1: FutureWarning: Columnar iteration over characters will be deprecated in future releases.\n",
      "  laptop_df['model'], laptop_df['spec'] = laptop_df['title'].str.split('-', 1).str\n"
     ]
    },
    {
     "data": {
      "text/html": [
       "<div>\n",
       "<style scoped>\n",
       "    .dataframe tbody tr th:only-of-type {\n",
       "        vertical-align: middle;\n",
       "    }\n",
       "\n",
       "    .dataframe tbody tr th {\n",
       "        vertical-align: top;\n",
       "    }\n",
       "\n",
       "    .dataframe thead th {\n",
       "        text-align: right;\n",
       "    }\n",
       "</style>\n",
       "<table border=\"1\" class=\"dataframe\">\n",
       "  <thead>\n",
       "    <tr style=\"text-align: right;\">\n",
       "      <th></th>\n",
       "      <th>rating</th>\n",
       "      <th>price</th>\n",
       "      <th>model</th>\n",
       "      <th>spec</th>\n",
       "    </tr>\n",
       "  </thead>\n",
       "  <tbody>\n",
       "    <tr>\n",
       "      <th>0</th>\n",
       "      <td>4.2</td>\n",
       "      <td>59,999</td>\n",
       "      <td>HP 15s Intel Core i5 12th Gen</td>\n",
       "      <td>(8 GB/512 GB SSD/Windows 11 Home) 15s-fq5111T...</td>\n",
       "    </tr>\n",
       "    <tr>\n",
       "      <th>1</th>\n",
       "      <td>4.2</td>\n",
       "      <td>37,990</td>\n",
       "      <td>HP 14s Intel Core i3 11th Gen</td>\n",
       "      <td>(8 GB/256 GB SSD/Windows 11 Home) 14s - dy250...</td>\n",
       "    </tr>\n",
       "    <tr>\n",
       "      <th>2</th>\n",
       "      <td>4.4</td>\n",
       "      <td>49,990</td>\n",
       "      <td>ASUS TUF Gaming F15 Core i5 10th Gen</td>\n",
       "      <td>(8 GB/512 GB SSD/Windows 11 Home/4 GB Graphic...</td>\n",
       "    </tr>\n",
       "    <tr>\n",
       "      <th>3</th>\n",
       "      <td>4.7</td>\n",
       "      <td>86,990</td>\n",
       "      <td>APPLE 2020 Macbook Air M1</td>\n",
       "      <td>(8 GB/256 GB SSD/Mac OS Big Sur) MGN63HN/A</td>\n",
       "    </tr>\n",
       "    <tr>\n",
       "      <th>4</th>\n",
       "      <td>4.3</td>\n",
       "      <td>33,990</td>\n",
       "      <td>ASUS VivoBook 15 (2022) Core i3 10th Gen</td>\n",
       "      <td>(8 GB/512 GB SSD/Windows 11 Home) X515JA-EJ36...</td>\n",
       "    </tr>\n",
       "  </tbody>\n",
       "</table>\n",
       "</div>"
      ],
      "text/plain": [
       "  rating   price                                      model  \\\n",
       "0    4.2  59,999             HP 15s Intel Core i5 12th Gen    \n",
       "1    4.2  37,990             HP 14s Intel Core i3 11th Gen    \n",
       "2    4.4  49,990      ASUS TUF Gaming F15 Core i5 10th Gen    \n",
       "3    4.7  86,990                 APPLE 2020 Macbook Air M1    \n",
       "4    4.3  33,990  ASUS VivoBook 15 (2022) Core i3 10th Gen    \n",
       "\n",
       "                                                spec  \n",
       "0   (8 GB/512 GB SSD/Windows 11 Home) 15s-fq5111T...  \n",
       "1   (8 GB/256 GB SSD/Windows 11 Home) 14s - dy250...  \n",
       "2   (8 GB/512 GB SSD/Windows 11 Home/4 GB Graphic...  \n",
       "3         (8 GB/256 GB SSD/Mac OS Big Sur) MGN63HN/A  \n",
       "4   (8 GB/512 GB SSD/Windows 11 Home) X515JA-EJ36...  "
      ]
     },
     "execution_count": 98,
     "metadata": {},
     "output_type": "execute_result"
    }
   ],
   "source": [
    "laptop_df['model'], laptop_df['spec'] = laptop_df['title'].str.split('-', 1).str\n",
    "del laptop_df['title']\n",
    "laptop_df.head()"
   ]
  },
  {
   "cell_type": "markdown",
   "id": "bc468605",
   "metadata": {},
   "source": [
    "Usamos esta opción dividida (split \"-\") para separar del título y crear una columna separada como modelo y especificación y eliminar el título"
   ]
  },
  {
   "cell_type": "code",
   "execution_count": 99,
   "id": "5aa3456e",
   "metadata": {},
   "outputs": [
    {
     "name": "stderr",
     "output_type": "stream",
     "text": [
      "C:\\Users\\beyon\\AppData\\Local\\Temp\\ipykernel_16568\\1151749628.py:1: FutureWarning: Columnar iteration over characters will be deprecated in future releases.\n",
      "  laptop_df['RAM'], laptop_df['HDD'] = laptop_df['spec'].str.split('(', 1).str\n"
     ]
    },
    {
     "data": {
      "text/html": [
       "<div>\n",
       "<style scoped>\n",
       "    .dataframe tbody tr th:only-of-type {\n",
       "        vertical-align: middle;\n",
       "    }\n",
       "\n",
       "    .dataframe tbody tr th {\n",
       "        vertical-align: top;\n",
       "    }\n",
       "\n",
       "    .dataframe thead th {\n",
       "        text-align: right;\n",
       "    }\n",
       "</style>\n",
       "<table border=\"1\" class=\"dataframe\">\n",
       "  <thead>\n",
       "    <tr style=\"text-align: right;\">\n",
       "      <th></th>\n",
       "      <th>rating</th>\n",
       "      <th>price</th>\n",
       "      <th>model</th>\n",
       "      <th>RAM</th>\n",
       "      <th>HDD</th>\n",
       "    </tr>\n",
       "  </thead>\n",
       "  <tbody>\n",
       "    <tr>\n",
       "      <th>0</th>\n",
       "      <td>4.2</td>\n",
       "      <td>59,999</td>\n",
       "      <td>HP 15s Intel Core i5 12th Gen</td>\n",
       "      <td></td>\n",
       "      <td>8 GB/512 GB SSD/Windows 11 Home) 15s-fq5111TU ...</td>\n",
       "    </tr>\n",
       "    <tr>\n",
       "      <th>1</th>\n",
       "      <td>4.2</td>\n",
       "      <td>37,990</td>\n",
       "      <td>HP 14s Intel Core i3 11th Gen</td>\n",
       "      <td></td>\n",
       "      <td>8 GB/256 GB SSD/Windows 11 Home) 14s - dy2507T...</td>\n",
       "    </tr>\n",
       "    <tr>\n",
       "      <th>2</th>\n",
       "      <td>4.4</td>\n",
       "      <td>49,990</td>\n",
       "      <td>ASUS TUF Gaming F15 Core i5 10th Gen</td>\n",
       "      <td></td>\n",
       "      <td>8 GB/512 GB SSD/Windows 11 Home/4 GB Graphics/...</td>\n",
       "    </tr>\n",
       "    <tr>\n",
       "      <th>3</th>\n",
       "      <td>4.7</td>\n",
       "      <td>86,990</td>\n",
       "      <td>APPLE 2020 Macbook Air M1</td>\n",
       "      <td></td>\n",
       "      <td>8 GB/256 GB SSD/Mac OS Big Sur) MGN63HN/A</td>\n",
       "    </tr>\n",
       "    <tr>\n",
       "      <th>4</th>\n",
       "      <td>4.3</td>\n",
       "      <td>33,990</td>\n",
       "      <td>ASUS VivoBook 15 (2022) Core i3 10th Gen</td>\n",
       "      <td></td>\n",
       "      <td>8 GB/512 GB SSD/Windows 11 Home) X515JA-EJ362W...</td>\n",
       "    </tr>\n",
       "  </tbody>\n",
       "</table>\n",
       "</div>"
      ],
      "text/plain": [
       "  rating   price                                      model RAM  \\\n",
       "0    4.2  59,999             HP 15s Intel Core i5 12th Gen        \n",
       "1    4.2  37,990             HP 14s Intel Core i3 11th Gen        \n",
       "2    4.4  49,990      ASUS TUF Gaming F15 Core i5 10th Gen        \n",
       "3    4.7  86,990                 APPLE 2020 Macbook Air M1        \n",
       "4    4.3  33,990  ASUS VivoBook 15 (2022) Core i3 10th Gen        \n",
       "\n",
       "                                                 HDD  \n",
       "0  8 GB/512 GB SSD/Windows 11 Home) 15s-fq5111TU ...  \n",
       "1  8 GB/256 GB SSD/Windows 11 Home) 14s - dy2507T...  \n",
       "2  8 GB/512 GB SSD/Windows 11 Home/4 GB Graphics/...  \n",
       "3          8 GB/256 GB SSD/Mac OS Big Sur) MGN63HN/A  \n",
       "4  8 GB/512 GB SSD/Windows 11 Home) X515JA-EJ362W...  "
      ]
     },
     "execution_count": 99,
     "metadata": {},
     "output_type": "execute_result"
    }
   ],
   "source": [
    "#<COMPLETA>"
   ]
  },
  {
   "cell_type": "code",
   "execution_count": 100,
   "id": "7b339353",
   "metadata": {},
   "outputs": [
    {
     "name": "stderr",
     "output_type": "stream",
     "text": [
      "C:\\Users\\beyon\\AppData\\Local\\Temp\\ipykernel_16568\\4028741044.py:1: FutureWarning: Columnar iteration over characters will be deprecated in future releases.\n",
      "  laptop_df['RAM'], laptop_df['Hard disk'] = laptop_df['HDD'].str.split('/', 1).str\n"
     ]
    },
    {
     "data": {
      "text/html": [
       "<div>\n",
       "<style scoped>\n",
       "    .dataframe tbody tr th:only-of-type {\n",
       "        vertical-align: middle;\n",
       "    }\n",
       "\n",
       "    .dataframe tbody tr th {\n",
       "        vertical-align: top;\n",
       "    }\n",
       "\n",
       "    .dataframe thead th {\n",
       "        text-align: right;\n",
       "    }\n",
       "</style>\n",
       "<table border=\"1\" class=\"dataframe\">\n",
       "  <thead>\n",
       "    <tr style=\"text-align: right;\">\n",
       "      <th></th>\n",
       "      <th>rating</th>\n",
       "      <th>price</th>\n",
       "      <th>model</th>\n",
       "      <th>RAM</th>\n",
       "      <th>Hard disk</th>\n",
       "    </tr>\n",
       "  </thead>\n",
       "  <tbody>\n",
       "    <tr>\n",
       "      <th>0</th>\n",
       "      <td>4.2</td>\n",
       "      <td>59,999</td>\n",
       "      <td>HP 15s Intel Core i5 12th Gen</td>\n",
       "      <td>8 GB</td>\n",
       "      <td>512 GB SSD/Windows 11 Home) 15s-fq5111TU Thin ...</td>\n",
       "    </tr>\n",
       "    <tr>\n",
       "      <th>1</th>\n",
       "      <td>4.2</td>\n",
       "      <td>37,990</td>\n",
       "      <td>HP 14s Intel Core i3 11th Gen</td>\n",
       "      <td>8 GB</td>\n",
       "      <td>256 GB SSD/Windows 11 Home) 14s - dy2507TU Thi...</td>\n",
       "    </tr>\n",
       "    <tr>\n",
       "      <th>2</th>\n",
       "      <td>4.4</td>\n",
       "      <td>49,990</td>\n",
       "      <td>ASUS TUF Gaming F15 Core i5 10th Gen</td>\n",
       "      <td>8 GB</td>\n",
       "      <td>512 GB SSD/Windows 11 Home/4 GB Graphics/NVIDI...</td>\n",
       "    </tr>\n",
       "    <tr>\n",
       "      <th>3</th>\n",
       "      <td>4.7</td>\n",
       "      <td>86,990</td>\n",
       "      <td>APPLE 2020 Macbook Air M1</td>\n",
       "      <td>8 GB</td>\n",
       "      <td>256 GB SSD/Mac OS Big Sur) MGN63HN/A</td>\n",
       "    </tr>\n",
       "    <tr>\n",
       "      <th>4</th>\n",
       "      <td>4.3</td>\n",
       "      <td>33,990</td>\n",
       "      <td>ASUS VivoBook 15 (2022) Core i3 10th Gen</td>\n",
       "      <td>8 GB</td>\n",
       "      <td>512 GB SSD/Windows 11 Home) X515JA-EJ362WS | X...</td>\n",
       "    </tr>\n",
       "  </tbody>\n",
       "</table>\n",
       "</div>"
      ],
      "text/plain": [
       "  rating   price                                      model   RAM  \\\n",
       "0    4.2  59,999             HP 15s Intel Core i5 12th Gen   8 GB   \n",
       "1    4.2  37,990             HP 14s Intel Core i3 11th Gen   8 GB   \n",
       "2    4.4  49,990      ASUS TUF Gaming F15 Core i5 10th Gen   8 GB   \n",
       "3    4.7  86,990                 APPLE 2020 Macbook Air M1   8 GB   \n",
       "4    4.3  33,990  ASUS VivoBook 15 (2022) Core i3 10th Gen   8 GB   \n",
       "\n",
       "                                           Hard disk  \n",
       "0  512 GB SSD/Windows 11 Home) 15s-fq5111TU Thin ...  \n",
       "1  256 GB SSD/Windows 11 Home) 14s - dy2507TU Thi...  \n",
       "2  512 GB SSD/Windows 11 Home/4 GB Graphics/NVIDI...  \n",
       "3               256 GB SSD/Mac OS Big Sur) MGN63HN/A  \n",
       "4  512 GB SSD/Windows 11 Home) X515JA-EJ362WS | X...  "
      ]
     },
     "execution_count": 100,
     "metadata": {},
     "output_type": "execute_result"
    }
   ],
   "source": [
    "#<COMPLETA>"
   ]
  },
  {
   "cell_type": "markdown",
   "id": "f6850788",
   "metadata": {},
   "source": [
    "Continuemos hasta conseguir lo siguiente..."
   ]
  },
  {
   "cell_type": "code",
   "execution_count": 101,
   "id": "0428f08e",
   "metadata": {},
   "outputs": [
    {
     "name": "stderr",
     "output_type": "stream",
     "text": [
      "C:\\Users\\beyon\\AppData\\Local\\Temp\\ipykernel_16568\\4099446987.py:1: FutureWarning: Columnar iteration over characters will be deprecated in future releases.\n",
      "  laptop_df['Storage'], laptop_df['OS'] = laptop_df['Hard disk'].str.split('/', 1).str\n"
     ]
    },
    {
     "data": {
      "text/html": [
       "<div>\n",
       "<style scoped>\n",
       "    .dataframe tbody tr th:only-of-type {\n",
       "        vertical-align: middle;\n",
       "    }\n",
       "\n",
       "    .dataframe tbody tr th {\n",
       "        vertical-align: top;\n",
       "    }\n",
       "\n",
       "    .dataframe thead th {\n",
       "        text-align: right;\n",
       "    }\n",
       "</style>\n",
       "<table border=\"1\" class=\"dataframe\">\n",
       "  <thead>\n",
       "    <tr style=\"text-align: right;\">\n",
       "      <th></th>\n",
       "      <th>rating</th>\n",
       "      <th>price</th>\n",
       "      <th>model</th>\n",
       "      <th>RAM</th>\n",
       "      <th>Storage</th>\n",
       "      <th>OS</th>\n",
       "    </tr>\n",
       "  </thead>\n",
       "  <tbody>\n",
       "    <tr>\n",
       "      <th>0</th>\n",
       "      <td>4.2</td>\n",
       "      <td>59,999</td>\n",
       "      <td>HP 15s Intel Core i5 12th Gen</td>\n",
       "      <td>8 GB</td>\n",
       "      <td>512 GB SSD</td>\n",
       "      <td>Windows 11 Home) 15s-fq5111TU Thin and Light L...</td>\n",
       "    </tr>\n",
       "    <tr>\n",
       "      <th>1</th>\n",
       "      <td>4.2</td>\n",
       "      <td>37,990</td>\n",
       "      <td>HP 14s Intel Core i3 11th Gen</td>\n",
       "      <td>8 GB</td>\n",
       "      <td>256 GB SSD</td>\n",
       "      <td>Windows 11 Home) 14s - dy2507TU Thin and Light...</td>\n",
       "    </tr>\n",
       "    <tr>\n",
       "      <th>2</th>\n",
       "      <td>4.4</td>\n",
       "      <td>49,990</td>\n",
       "      <td>ASUS TUF Gaming F15 Core i5 10th Gen</td>\n",
       "      <td>8 GB</td>\n",
       "      <td>512 GB SSD</td>\n",
       "      <td>Windows 11 Home/4 GB Graphics/NVIDIA GeForce G...</td>\n",
       "    </tr>\n",
       "    <tr>\n",
       "      <th>3</th>\n",
       "      <td>4.7</td>\n",
       "      <td>86,990</td>\n",
       "      <td>APPLE 2020 Macbook Air M1</td>\n",
       "      <td>8 GB</td>\n",
       "      <td>256 GB SSD</td>\n",
       "      <td>Mac OS Big Sur) MGN63HN/A</td>\n",
       "    </tr>\n",
       "    <tr>\n",
       "      <th>4</th>\n",
       "      <td>4.3</td>\n",
       "      <td>33,990</td>\n",
       "      <td>ASUS VivoBook 15 (2022) Core i3 10th Gen</td>\n",
       "      <td>8 GB</td>\n",
       "      <td>512 GB SSD</td>\n",
       "      <td>Windows 11 Home) X515JA-EJ362WS | X515JA-E...</td>\n",
       "    </tr>\n",
       "  </tbody>\n",
       "</table>\n",
       "</div>"
      ],
      "text/plain": [
       "  rating   price                                      model   RAM     Storage  \\\n",
       "0    4.2  59,999             HP 15s Intel Core i5 12th Gen   8 GB  512 GB SSD   \n",
       "1    4.2  37,990             HP 14s Intel Core i3 11th Gen   8 GB  256 GB SSD   \n",
       "2    4.4  49,990      ASUS TUF Gaming F15 Core i5 10th Gen   8 GB  512 GB SSD   \n",
       "3    4.7  86,990                 APPLE 2020 Macbook Air M1   8 GB  256 GB SSD   \n",
       "4    4.3  33,990  ASUS VivoBook 15 (2022) Core i3 10th Gen   8 GB  512 GB SSD   \n",
       "\n",
       "                                                  OS  \n",
       "0  Windows 11 Home) 15s-fq5111TU Thin and Light L...  \n",
       "1  Windows 11 Home) 14s - dy2507TU Thin and Light...  \n",
       "2  Windows 11 Home/4 GB Graphics/NVIDIA GeForce G...  \n",
       "3                          Mac OS Big Sur) MGN63HN/A  \n",
       "4      Windows 11 Home) X515JA-EJ362WS | X515JA-E...  "
      ]
     },
     "execution_count": 101,
     "metadata": {},
     "output_type": "execute_result"
    }
   ],
   "source": [
    "#<COMPLETA>"
   ]
  },
  {
   "cell_type": "code",
   "execution_count": 102,
   "id": "e080186a",
   "metadata": {},
   "outputs": [
    {
     "name": "stderr",
     "output_type": "stream",
     "text": [
      "C:\\Users\\beyon\\AppData\\Local\\Temp\\ipykernel_16568\\1256590561.py:1: FutureWarning: Columnar iteration over characters will be deprecated in future releases.\n",
      "  laptop_df['System'], laptop_df['Other_Info'] = laptop_df['OS'].str.split(')', 1).str\n"
     ]
    },
    {
     "data": {
      "text/html": [
       "<div>\n",
       "<style scoped>\n",
       "    .dataframe tbody tr th:only-of-type {\n",
       "        vertical-align: middle;\n",
       "    }\n",
       "\n",
       "    .dataframe tbody tr th {\n",
       "        vertical-align: top;\n",
       "    }\n",
       "\n",
       "    .dataframe thead th {\n",
       "        text-align: right;\n",
       "    }\n",
       "</style>\n",
       "<table border=\"1\" class=\"dataframe\">\n",
       "  <thead>\n",
       "    <tr style=\"text-align: right;\">\n",
       "      <th></th>\n",
       "      <th>rating</th>\n",
       "      <th>price</th>\n",
       "      <th>model</th>\n",
       "      <th>RAM</th>\n",
       "      <th>Storage</th>\n",
       "      <th>System</th>\n",
       "      <th>Other_Info</th>\n",
       "    </tr>\n",
       "  </thead>\n",
       "  <tbody>\n",
       "    <tr>\n",
       "      <th>0</th>\n",
       "      <td>4.2</td>\n",
       "      <td>59,999</td>\n",
       "      <td>HP 15s Intel Core i5 12th Gen</td>\n",
       "      <td>8 GB</td>\n",
       "      <td>512 GB SSD</td>\n",
       "      <td>Windows 11 Home</td>\n",
       "      <td>15s-fq5111TU Thin and Light Laptop</td>\n",
       "    </tr>\n",
       "    <tr>\n",
       "      <th>1</th>\n",
       "      <td>4.2</td>\n",
       "      <td>37,990</td>\n",
       "      <td>HP 14s Intel Core i3 11th Gen</td>\n",
       "      <td>8 GB</td>\n",
       "      <td>256 GB SSD</td>\n",
       "      <td>Windows 11 Home</td>\n",
       "      <td>14s - dy2507TU Thin and Light Laptop</td>\n",
       "    </tr>\n",
       "    <tr>\n",
       "      <th>2</th>\n",
       "      <td>4.4</td>\n",
       "      <td>49,990</td>\n",
       "      <td>ASUS TUF Gaming F15 Core i5 10th Gen</td>\n",
       "      <td>8 GB</td>\n",
       "      <td>512 GB SSD</td>\n",
       "      <td>Windows 11 Home/4 GB Graphics/NVIDIA GeForce G...</td>\n",
       "      <td>NaN</td>\n",
       "    </tr>\n",
       "    <tr>\n",
       "      <th>3</th>\n",
       "      <td>4.7</td>\n",
       "      <td>86,990</td>\n",
       "      <td>APPLE 2020 Macbook Air M1</td>\n",
       "      <td>8 GB</td>\n",
       "      <td>256 GB SSD</td>\n",
       "      <td>Mac OS Big Sur</td>\n",
       "      <td>MGN63HN/A</td>\n",
       "    </tr>\n",
       "    <tr>\n",
       "      <th>4</th>\n",
       "      <td>4.3</td>\n",
       "      <td>33,990</td>\n",
       "      <td>ASUS VivoBook 15 (2022) Core i3 10th Gen</td>\n",
       "      <td>8 GB</td>\n",
       "      <td>512 GB SSD</td>\n",
       "      <td>Windows 11 Home</td>\n",
       "      <td>X515JA-EJ362WS | X515JA-E...</td>\n",
       "    </tr>\n",
       "  </tbody>\n",
       "</table>\n",
       "</div>"
      ],
      "text/plain": [
       "  rating   price                                      model   RAM     Storage  \\\n",
       "0    4.2  59,999             HP 15s Intel Core i5 12th Gen   8 GB  512 GB SSD   \n",
       "1    4.2  37,990             HP 14s Intel Core i3 11th Gen   8 GB  256 GB SSD   \n",
       "2    4.4  49,990      ASUS TUF Gaming F15 Core i5 10th Gen   8 GB  512 GB SSD   \n",
       "3    4.7  86,990                 APPLE 2020 Macbook Air M1   8 GB  256 GB SSD   \n",
       "4    4.3  33,990  ASUS VivoBook 15 (2022) Core i3 10th Gen   8 GB  512 GB SSD   \n",
       "\n",
       "                                              System  \\\n",
       "0                                    Windows 11 Home   \n",
       "1                                    Windows 11 Home   \n",
       "2  Windows 11 Home/4 GB Graphics/NVIDIA GeForce G...   \n",
       "3                                     Mac OS Big Sur   \n",
       "4                                    Windows 11 Home   \n",
       "\n",
       "                              Other_Info  \n",
       "0     15s-fq5111TU Thin and Light Laptop  \n",
       "1   14s - dy2507TU Thin and Light Laptop  \n",
       "2                                    NaN  \n",
       "3                              MGN63HN/A  \n",
       "4           X515JA-EJ362WS | X515JA-E...  "
      ]
     },
     "execution_count": 102,
     "metadata": {},
     "output_type": "execute_result"
    }
   ],
   "source": [
    "#<COMPLETA>"
   ]
  },
  {
   "cell_type": "markdown",
   "id": "50f56746",
   "metadata": {},
   "source": [
    "### Paso 6: Identificación de valores perdidos\n",
    "\n",
    "Los métodos isnull () y notnull () son las formas más comunes de identificar valores perdidos.\n",
    "\n",
    "Mientras maneja los datos faltantes, primero debe identificar las filas y columnas que contienen los valores faltantes, contar el número de valores faltantes y luego decidir cómo desea tratarlos.\n",
    "\n",
    "Es importante que trate los valores faltantes en cada columna por separado, en lugar de implementar una única solución (por ejemplo, reemplazar los NaN por la media de una columna) para todas las columnas.\n",
    "\n",
    "isnull () devuelve un valor booleano (Verdadero / Falso) que luego se puede usar para encontrar las filas o columnas que contienen valores perdidos."
   ]
  },
  {
   "cell_type": "code",
   "execution_count": 103,
   "id": "ff34a05f",
   "metadata": {},
   "outputs": [
    {
     "data": {
      "text/html": [
       "<div>\n",
       "<style scoped>\n",
       "    .dataframe tbody tr th:only-of-type {\n",
       "        vertical-align: middle;\n",
       "    }\n",
       "\n",
       "    .dataframe tbody tr th {\n",
       "        vertical-align: top;\n",
       "    }\n",
       "\n",
       "    .dataframe thead th {\n",
       "        text-align: right;\n",
       "    }\n",
       "</style>\n",
       "<table border=\"1\" class=\"dataframe\">\n",
       "  <thead>\n",
       "    <tr style=\"text-align: right;\">\n",
       "      <th></th>\n",
       "      <th>rating</th>\n",
       "      <th>price</th>\n",
       "      <th>model</th>\n",
       "      <th>RAM</th>\n",
       "      <th>Storage</th>\n",
       "      <th>System</th>\n",
       "      <th>Other_Info</th>\n",
       "    </tr>\n",
       "  </thead>\n",
       "  <tbody>\n",
       "    <tr>\n",
       "      <th>0</th>\n",
       "      <td>False</td>\n",
       "      <td>False</td>\n",
       "      <td>False</td>\n",
       "      <td>False</td>\n",
       "      <td>False</td>\n",
       "      <td>False</td>\n",
       "      <td>False</td>\n",
       "    </tr>\n",
       "    <tr>\n",
       "      <th>1</th>\n",
       "      <td>False</td>\n",
       "      <td>False</td>\n",
       "      <td>False</td>\n",
       "      <td>False</td>\n",
       "      <td>False</td>\n",
       "      <td>False</td>\n",
       "      <td>False</td>\n",
       "    </tr>\n",
       "    <tr>\n",
       "      <th>2</th>\n",
       "      <td>False</td>\n",
       "      <td>False</td>\n",
       "      <td>False</td>\n",
       "      <td>False</td>\n",
       "      <td>False</td>\n",
       "      <td>False</td>\n",
       "      <td>True</td>\n",
       "    </tr>\n",
       "    <tr>\n",
       "      <th>3</th>\n",
       "      <td>False</td>\n",
       "      <td>False</td>\n",
       "      <td>False</td>\n",
       "      <td>False</td>\n",
       "      <td>False</td>\n",
       "      <td>False</td>\n",
       "      <td>False</td>\n",
       "    </tr>\n",
       "    <tr>\n",
       "      <th>4</th>\n",
       "      <td>False</td>\n",
       "      <td>False</td>\n",
       "      <td>False</td>\n",
       "      <td>False</td>\n",
       "      <td>False</td>\n",
       "      <td>False</td>\n",
       "      <td>False</td>\n",
       "    </tr>\n",
       "    <tr>\n",
       "      <th>5</th>\n",
       "      <td>False</td>\n",
       "      <td>False</td>\n",
       "      <td>False</td>\n",
       "      <td>False</td>\n",
       "      <td>False</td>\n",
       "      <td>False</td>\n",
       "      <td>False</td>\n",
       "    </tr>\n",
       "    <tr>\n",
       "      <th>6</th>\n",
       "      <td>False</td>\n",
       "      <td>False</td>\n",
       "      <td>False</td>\n",
       "      <td>False</td>\n",
       "      <td>False</td>\n",
       "      <td>False</td>\n",
       "      <td>False</td>\n",
       "    </tr>\n",
       "    <tr>\n",
       "      <th>7</th>\n",
       "      <td>False</td>\n",
       "      <td>False</td>\n",
       "      <td>False</td>\n",
       "      <td>False</td>\n",
       "      <td>False</td>\n",
       "      <td>False</td>\n",
       "      <td>False</td>\n",
       "    </tr>\n",
       "    <tr>\n",
       "      <th>8</th>\n",
       "      <td>False</td>\n",
       "      <td>False</td>\n",
       "      <td>False</td>\n",
       "      <td>False</td>\n",
       "      <td>False</td>\n",
       "      <td>False</td>\n",
       "      <td>False</td>\n",
       "    </tr>\n",
       "    <tr>\n",
       "      <th>9</th>\n",
       "      <td>False</td>\n",
       "      <td>False</td>\n",
       "      <td>False</td>\n",
       "      <td>False</td>\n",
       "      <td>False</td>\n",
       "      <td>False</td>\n",
       "      <td>False</td>\n",
       "    </tr>\n",
       "    <tr>\n",
       "      <th>10</th>\n",
       "      <td>False</td>\n",
       "      <td>False</td>\n",
       "      <td>False</td>\n",
       "      <td>False</td>\n",
       "      <td>False</td>\n",
       "      <td>False</td>\n",
       "      <td>True</td>\n",
       "    </tr>\n",
       "    <tr>\n",
       "      <th>11</th>\n",
       "      <td>False</td>\n",
       "      <td>False</td>\n",
       "      <td>False</td>\n",
       "      <td>False</td>\n",
       "      <td>False</td>\n",
       "      <td>False</td>\n",
       "      <td>False</td>\n",
       "    </tr>\n",
       "    <tr>\n",
       "      <th>12</th>\n",
       "      <td>False</td>\n",
       "      <td>False</td>\n",
       "      <td>False</td>\n",
       "      <td>False</td>\n",
       "      <td>False</td>\n",
       "      <td>False</td>\n",
       "      <td>False</td>\n",
       "    </tr>\n",
       "    <tr>\n",
       "      <th>13</th>\n",
       "      <td>False</td>\n",
       "      <td>False</td>\n",
       "      <td>False</td>\n",
       "      <td>False</td>\n",
       "      <td>False</td>\n",
       "      <td>False</td>\n",
       "      <td>False</td>\n",
       "    </tr>\n",
       "    <tr>\n",
       "      <th>14</th>\n",
       "      <td>False</td>\n",
       "      <td>False</td>\n",
       "      <td>False</td>\n",
       "      <td>False</td>\n",
       "      <td>False</td>\n",
       "      <td>False</td>\n",
       "      <td>False</td>\n",
       "    </tr>\n",
       "    <tr>\n",
       "      <th>15</th>\n",
       "      <td>False</td>\n",
       "      <td>False</td>\n",
       "      <td>False</td>\n",
       "      <td>False</td>\n",
       "      <td>False</td>\n",
       "      <td>False</td>\n",
       "      <td>False</td>\n",
       "    </tr>\n",
       "    <tr>\n",
       "      <th>16</th>\n",
       "      <td>False</td>\n",
       "      <td>False</td>\n",
       "      <td>False</td>\n",
       "      <td>False</td>\n",
       "      <td>False</td>\n",
       "      <td>False</td>\n",
       "      <td>False</td>\n",
       "    </tr>\n",
       "    <tr>\n",
       "      <th>17</th>\n",
       "      <td>False</td>\n",
       "      <td>False</td>\n",
       "      <td>False</td>\n",
       "      <td>False</td>\n",
       "      <td>False</td>\n",
       "      <td>False</td>\n",
       "      <td>False</td>\n",
       "    </tr>\n",
       "    <tr>\n",
       "      <th>18</th>\n",
       "      <td>False</td>\n",
       "      <td>False</td>\n",
       "      <td>False</td>\n",
       "      <td>False</td>\n",
       "      <td>False</td>\n",
       "      <td>False</td>\n",
       "      <td>False</td>\n",
       "    </tr>\n",
       "    <tr>\n",
       "      <th>19</th>\n",
       "      <td>False</td>\n",
       "      <td>False</td>\n",
       "      <td>False</td>\n",
       "      <td>False</td>\n",
       "      <td>False</td>\n",
       "      <td>False</td>\n",
       "      <td>False</td>\n",
       "    </tr>\n",
       "    <tr>\n",
       "      <th>20</th>\n",
       "      <td>False</td>\n",
       "      <td>False</td>\n",
       "      <td>False</td>\n",
       "      <td>False</td>\n",
       "      <td>False</td>\n",
       "      <td>False</td>\n",
       "      <td>False</td>\n",
       "    </tr>\n",
       "    <tr>\n",
       "      <th>21</th>\n",
       "      <td>False</td>\n",
       "      <td>False</td>\n",
       "      <td>False</td>\n",
       "      <td>False</td>\n",
       "      <td>False</td>\n",
       "      <td>False</td>\n",
       "      <td>False</td>\n",
       "    </tr>\n",
       "    <tr>\n",
       "      <th>22</th>\n",
       "      <td>False</td>\n",
       "      <td>False</td>\n",
       "      <td>False</td>\n",
       "      <td>False</td>\n",
       "      <td>False</td>\n",
       "      <td>False</td>\n",
       "      <td>False</td>\n",
       "    </tr>\n",
       "    <tr>\n",
       "      <th>23</th>\n",
       "      <td>False</td>\n",
       "      <td>False</td>\n",
       "      <td>False</td>\n",
       "      <td>False</td>\n",
       "      <td>False</td>\n",
       "      <td>False</td>\n",
       "      <td>False</td>\n",
       "    </tr>\n",
       "  </tbody>\n",
       "</table>\n",
       "</div>"
      ],
      "text/plain": [
       "    rating  price  model    RAM  Storage  System  Other_Info\n",
       "0    False  False  False  False    False   False       False\n",
       "1    False  False  False  False    False   False       False\n",
       "2    False  False  False  False    False   False        True\n",
       "3    False  False  False  False    False   False       False\n",
       "4    False  False  False  False    False   False       False\n",
       "5    False  False  False  False    False   False       False\n",
       "6    False  False  False  False    False   False       False\n",
       "7    False  False  False  False    False   False       False\n",
       "8    False  False  False  False    False   False       False\n",
       "9    False  False  False  False    False   False       False\n",
       "10   False  False  False  False    False   False        True\n",
       "11   False  False  False  False    False   False       False\n",
       "12   False  False  False  False    False   False       False\n",
       "13   False  False  False  False    False   False       False\n",
       "14   False  False  False  False    False   False       False\n",
       "15   False  False  False  False    False   False       False\n",
       "16   False  False  False  False    False   False       False\n",
       "17   False  False  False  False    False   False       False\n",
       "18   False  False  False  False    False   False       False\n",
       "19   False  False  False  False    False   False       False\n",
       "20   False  False  False  False    False   False       False\n",
       "21   False  False  False  False    False   False       False\n",
       "22   False  False  False  False    False   False       False\n",
       "23   False  False  False  False    False   False       False"
      ]
     },
     "execution_count": 103,
     "metadata": {},
     "output_type": "execute_result"
    }
   ],
   "source": [
    "#<COMPLETA>"
   ]
  },
  {
   "cell_type": "markdown",
   "id": "7c7bb487",
   "metadata": {},
   "source": [
    "### Identificación de valores perdidos en columnas\n",
    "\n",
    "Primero calculemos el número total de valores faltantes en el marco de datos. Puede calcular el número de valores perdidos en cada columna mediante df.isnull().Sum()"
   ]
  },
  {
   "cell_type": "code",
   "execution_count": 104,
   "id": "f6cc693a",
   "metadata": {},
   "outputs": [
    {
     "data": {
      "text/plain": [
       "rating        0\n",
       "price         0\n",
       "model         0\n",
       "RAM           0\n",
       "Storage       0\n",
       "System        0\n",
       "Other_Info    2\n",
       "dtype: int64"
      ]
     },
     "execution_count": 104,
     "metadata": {},
     "output_type": "execute_result"
    }
   ],
   "source": [
    "#<COMPLETA>"
   ]
  },
  {
   "cell_type": "code",
   "execution_count": 105,
   "id": "3a17df21",
   "metadata": {},
   "outputs": [
    {
     "data": {
      "text/plain": [
       "22"
      ]
     },
     "execution_count": 105,
     "metadata": {},
     "output_type": "execute_result"
    }
   ],
   "source": [
    "#<COMPLETA>"
   ]
  },
  {
   "cell_type": "code",
   "execution_count": 106,
   "id": "237bfbca",
   "metadata": {},
   "outputs": [
    {
     "data": {
      "text/plain": [
       "HP Ryzen 5 Hexa Core 5500U                                         2\n",
       "APPLE 2020 Macbook Air M1                                          2\n",
       "HP 15s Intel Core i5 12th Gen                                      1\n",
       "Lenovo IdeaPad 3 Core i3 11th Gen                                  1\n",
       "acer Aspire 3 Ryzen 3 Dual Core 3250U                              1\n",
       "HP Pavilion Ryzen 5 Hexa Core 5625U                                1\n",
       "HP 15s Intel Core i3 11th Gen                                      1\n",
       "realme Book (Slim) Core i3 11th Gen                                1\n",
       "ASUS Core i7 11th Gen                                              1\n",
       "DELL Vostro Core i3 11th Gen                                       1\n",
       "HP Intel Core i5 11th Gen                                          1\n",
       "HP Laptop Core i3 11th Gen                                         1\n",
       "HP 14s Intel Core i3 11th Gen                                      1\n",
       "ASUS TUF Gaming A17 with 90Whr Battery Ryzen 5 Hexa Core AMD R5    1\n",
       "ASUS VivoBook 14 (2021) Celeron Dual Core                          1\n",
       "Lenovo V15 G2 Core i3 11th Gen                                     1\n",
       "HP 15s Intel Core i3 12th Gen                                      1\n",
       "RedmiBook Pro Core i5 11th Gen                                     1\n",
       "Lenovo Athlon Dual Core                                            1\n",
       "ASUS VivoBook 15 (2022) Core i3 10th Gen                           1\n",
       "ASUS TUF Gaming F15 Core i5 10th Gen                               1\n",
       "HP 14s Intel Core i5 12th Gen                                      1\n",
       "Name: model, dtype: int64"
      ]
     },
     "execution_count": 106,
     "metadata": {},
     "output_type": "execute_result"
    }
   ],
   "source": [
    "#<COMPLETA>"
   ]
  },
  {
   "cell_type": "code",
   "execution_count": 107,
   "id": "7092179b",
   "metadata": {},
   "outputs": [
    {
     "data": {
      "text/html": [
       "<div>\n",
       "<style scoped>\n",
       "    .dataframe tbody tr th:only-of-type {\n",
       "        vertical-align: middle;\n",
       "    }\n",
       "\n",
       "    .dataframe tbody tr th {\n",
       "        vertical-align: top;\n",
       "    }\n",
       "\n",
       "    .dataframe thead th {\n",
       "        text-align: right;\n",
       "    }\n",
       "</style>\n",
       "<table border=\"1\" class=\"dataframe\">\n",
       "  <thead>\n",
       "    <tr style=\"text-align: right;\">\n",
       "      <th></th>\n",
       "      <th>rating</th>\n",
       "      <th>price</th>\n",
       "      <th>model</th>\n",
       "      <th>RAM</th>\n",
       "      <th>Storage</th>\n",
       "      <th>System</th>\n",
       "      <th>Other_Info</th>\n",
       "    </tr>\n",
       "  </thead>\n",
       "  <tbody>\n",
       "    <tr>\n",
       "      <th>count</th>\n",
       "      <td>24</td>\n",
       "      <td>24</td>\n",
       "      <td>24</td>\n",
       "      <td>24</td>\n",
       "      <td>24</td>\n",
       "      <td>24</td>\n",
       "      <td>22</td>\n",
       "    </tr>\n",
       "    <tr>\n",
       "      <th>unique</th>\n",
       "      <td>8</td>\n",
       "      <td>22</td>\n",
       "      <td>22</td>\n",
       "      <td>3</td>\n",
       "      <td>3</td>\n",
       "      <td>7</td>\n",
       "      <td>22</td>\n",
       "    </tr>\n",
       "    <tr>\n",
       "      <th>top</th>\n",
       "      <td>4.2</td>\n",
       "      <td>39,990</td>\n",
       "      <td>HP Ryzen 5 Hexa Core 5500U</td>\n",
       "      <td>8 GB</td>\n",
       "      <td>512 GB SSD</td>\n",
       "      <td>Windows 11 Home</td>\n",
       "      <td>15s-fq5111TU Thin and Light Laptop</td>\n",
       "    </tr>\n",
       "    <tr>\n",
       "      <th>freq</th>\n",
       "      <td>7</td>\n",
       "      <td>2</td>\n",
       "      <td>2</td>\n",
       "      <td>19</td>\n",
       "      <td>16</td>\n",
       "      <td>17</td>\n",
       "      <td>1</td>\n",
       "    </tr>\n",
       "  </tbody>\n",
       "</table>\n",
       "</div>"
      ],
      "text/plain": [
       "       rating   price                        model   RAM     Storage  \\\n",
       "count      24      24                           24    24          24   \n",
       "unique      8      22                           22     3           3   \n",
       "top       4.2  39,990  HP Ryzen 5 Hexa Core 5500U   8 GB  512 GB SSD   \n",
       "freq        7       2                            2    19          16   \n",
       "\n",
       "                 System                           Other_Info  \n",
       "count                24                                   22  \n",
       "unique                7                                   22  \n",
       "top     Windows 11 Home   15s-fq5111TU Thin and Light Laptop  \n",
       "freq                 17                                    1  "
      ]
     },
     "execution_count": 107,
     "metadata": {},
     "output_type": "execute_result"
    }
   ],
   "source": [
    "#<COMPLETA>"
   ]
  },
  {
   "cell_type": "code",
   "execution_count": 108,
   "id": "c6842b3b",
   "metadata": {},
   "outputs": [
    {
     "data": {
      "text/plain": [
       "rating        object\n",
       "price         object\n",
       "model         object\n",
       "RAM           object\n",
       "Storage       object\n",
       "System        object\n",
       "Other_Info    object\n",
       "dtype: object"
      ]
     },
     "execution_count": 108,
     "metadata": {},
     "output_type": "execute_result"
    }
   ],
   "source": [
    "#<COMPLETA>"
   ]
  },
  {
   "cell_type": "markdown",
   "id": "ebdb4ce6",
   "metadata": {},
   "source": [
    "Modifiquemos la columna de precio y rating para que sean de tipo numerico"
   ]
  },
  {
   "cell_type": "code",
   "execution_count": 109,
   "id": "5e980e9c",
   "metadata": {},
   "outputs": [],
   "source": [
    "#<COMPLETA>"
   ]
  },
  {
   "cell_type": "code",
   "execution_count": 110,
   "id": "ff9e5e97",
   "metadata": {},
   "outputs": [
    {
     "data": {
      "text/html": [
       "<div>\n",
       "<style scoped>\n",
       "    .dataframe tbody tr th:only-of-type {\n",
       "        vertical-align: middle;\n",
       "    }\n",
       "\n",
       "    .dataframe tbody tr th {\n",
       "        vertical-align: top;\n",
       "    }\n",
       "\n",
       "    .dataframe thead th {\n",
       "        text-align: right;\n",
       "    }\n",
       "</style>\n",
       "<table border=\"1\" class=\"dataframe\">\n",
       "  <thead>\n",
       "    <tr style=\"text-align: right;\">\n",
       "      <th></th>\n",
       "      <th>rating</th>\n",
       "      <th>price</th>\n",
       "    </tr>\n",
       "  </thead>\n",
       "  <tbody>\n",
       "    <tr>\n",
       "      <th>count</th>\n",
       "      <td>24.000000</td>\n",
       "      <td>24.000000</td>\n",
       "    </tr>\n",
       "    <tr>\n",
       "      <th>mean</th>\n",
       "      <td>4.075000</td>\n",
       "      <td>46957.916667</td>\n",
       "    </tr>\n",
       "    <tr>\n",
       "      <th>std</th>\n",
       "      <td>0.887228</td>\n",
       "      <td>16899.183834</td>\n",
       "    </tr>\n",
       "    <tr>\n",
       "      <th>min</th>\n",
       "      <td>0.000000</td>\n",
       "      <td>18990.000000</td>\n",
       "    </tr>\n",
       "    <tr>\n",
       "      <th>25%</th>\n",
       "      <td>4.100000</td>\n",
       "      <td>37740.000000</td>\n",
       "    </tr>\n",
       "    <tr>\n",
       "      <th>50%</th>\n",
       "      <td>4.200000</td>\n",
       "      <td>42970.000000</td>\n",
       "    </tr>\n",
       "    <tr>\n",
       "      <th>75%</th>\n",
       "      <td>4.300000</td>\n",
       "      <td>54740.000000</td>\n",
       "    </tr>\n",
       "    <tr>\n",
       "      <th>max</th>\n",
       "      <td>4.700000</td>\n",
       "      <td>86990.000000</td>\n",
       "    </tr>\n",
       "  </tbody>\n",
       "</table>\n",
       "</div>"
      ],
      "text/plain": [
       "          rating         price\n",
       "count  24.000000     24.000000\n",
       "mean    4.075000  46957.916667\n",
       "std     0.887228  16899.183834\n",
       "min     0.000000  18990.000000\n",
       "25%     4.100000  37740.000000\n",
       "50%     4.200000  42970.000000\n",
       "75%     4.300000  54740.000000\n",
       "max     4.700000  86990.000000"
      ]
     },
     "execution_count": 110,
     "metadata": {},
     "output_type": "execute_result"
    }
   ],
   "source": [
    "#<COMPLETA>"
   ]
  },
  {
   "cell_type": "code",
   "execution_count": 111,
   "id": "b2e4d201",
   "metadata": {},
   "outputs": [
    {
     "data": {
      "text/plain": [
       "rating        float64\n",
       "price         float64\n",
       "model          object\n",
       "RAM            object\n",
       "Storage        object\n",
       "System         object\n",
       "Other_Info     object\n",
       "dtype: object"
      ]
     },
     "execution_count": 111,
     "metadata": {},
     "output_type": "execute_result"
    }
   ],
   "source": [
    "#<COMPLETA>"
   ]
  },
  {
   "cell_type": "markdown",
   "id": "fdc4819c",
   "metadata": {},
   "source": [
    "Ahora necesitamos filtrar las mejores computadoras portátiles con buenas especificaciones, precio y calificación de la lista.\n",
    "\n",
    "Muestra los siguientes resultados:\n",
    " * Laptops en rating <= 4\n",
    " * Laptops con rating >= 3.5 y un precio entre 30 y 40 mil $"
   ]
  },
  {
   "cell_type": "code",
   "execution_count": 112,
   "id": "61153844",
   "metadata": {},
   "outputs": [
    {
     "data": {
      "text/html": [
       "<div>\n",
       "<style scoped>\n",
       "    .dataframe tbody tr th:only-of-type {\n",
       "        vertical-align: middle;\n",
       "    }\n",
       "\n",
       "    .dataframe tbody tr th {\n",
       "        vertical-align: top;\n",
       "    }\n",
       "\n",
       "    .dataframe thead th {\n",
       "        text-align: right;\n",
       "    }\n",
       "</style>\n",
       "<table border=\"1\" class=\"dataframe\">\n",
       "  <thead>\n",
       "    <tr style=\"text-align: right;\">\n",
       "      <th></th>\n",
       "      <th>rating</th>\n",
       "      <th>price</th>\n",
       "      <th>model</th>\n",
       "      <th>RAM</th>\n",
       "      <th>Storage</th>\n",
       "      <th>System</th>\n",
       "      <th>Other_Info</th>\n",
       "    </tr>\n",
       "  </thead>\n",
       "  <tbody>\n",
       "    <tr>\n",
       "      <th>5</th>\n",
       "      <td>3.9</td>\n",
       "      <td>18990.0</td>\n",
       "      <td>Lenovo Athlon Dual Core</td>\n",
       "      <td>4 GB</td>\n",
       "      <td>256 GB SSD</td>\n",
       "      <td>DOS</td>\n",
       "      <td>E41-55 45-2 Laptop</td>\n",
       "    </tr>\n",
       "    <tr>\n",
       "      <th>8</th>\n",
       "      <td>4.0</td>\n",
       "      <td>33999.0</td>\n",
       "      <td>Lenovo V15 G2 Core i3 11th Gen</td>\n",
       "      <td>8 GB</td>\n",
       "      <td>512 GB SSD</td>\n",
       "      <td>Windows 11 Home</td>\n",
       "      <td>V15 ITL G2 Laptop</td>\n",
       "    </tr>\n",
       "    <tr>\n",
       "      <th>11</th>\n",
       "      <td>0.0</td>\n",
       "      <td>39990.0</td>\n",
       "      <td>HP Laptop Core i3 11th Gen</td>\n",
       "      <td>8 GB</td>\n",
       "      <td>512 GB SSD</td>\n",
       "      <td>Windows 11 Home</td>\n",
       "      <td>15s-fq2717TU Thin and Light Laptop</td>\n",
       "    </tr>\n",
       "  </tbody>\n",
       "</table>\n",
       "</div>"
      ],
      "text/plain": [
       "    rating    price                            model   RAM     Storage  \\\n",
       "5      3.9  18990.0         Lenovo Athlon Dual Core   4 GB  256 GB SSD   \n",
       "8      4.0  33999.0  Lenovo V15 G2 Core i3 11th Gen   8 GB  512 GB SSD   \n",
       "11     0.0  39990.0      HP Laptop Core i3 11th Gen   8 GB  512 GB SSD   \n",
       "\n",
       "             System                           Other_Info  \n",
       "5               DOS                   E41-55 45-2 Laptop  \n",
       "8   Windows 11 Home                    V15 ITL G2 Laptop  \n",
       "11  Windows 11 Home   15s-fq2717TU Thin and Light Laptop  "
      ]
     },
     "execution_count": 112,
     "metadata": {},
     "output_type": "execute_result"
    }
   ],
   "source": [
    "#<COMPLETA>"
   ]
  },
  {
   "cell_type": "code",
   "execution_count": 115,
   "id": "2a495589",
   "metadata": {},
   "outputs": [
    {
     "data": {
      "text/html": [
       "<div>\n",
       "<style scoped>\n",
       "    .dataframe tbody tr th:only-of-type {\n",
       "        vertical-align: middle;\n",
       "    }\n",
       "\n",
       "    .dataframe tbody tr th {\n",
       "        vertical-align: top;\n",
       "    }\n",
       "\n",
       "    .dataframe thead th {\n",
       "        text-align: right;\n",
       "    }\n",
       "</style>\n",
       "<table border=\"1\" class=\"dataframe\">\n",
       "  <thead>\n",
       "    <tr style=\"text-align: right;\">\n",
       "      <th></th>\n",
       "      <th>rating</th>\n",
       "      <th>price</th>\n",
       "      <th>model</th>\n",
       "      <th>RAM</th>\n",
       "      <th>Storage</th>\n",
       "      <th>System</th>\n",
       "      <th>Other_Info</th>\n",
       "    </tr>\n",
       "  </thead>\n",
       "  <tbody>\n",
       "    <tr>\n",
       "      <th>1</th>\n",
       "      <td>4.2</td>\n",
       "      <td>37990.0</td>\n",
       "      <td>HP 14s Intel Core i3 11th Gen</td>\n",
       "      <td>8 GB</td>\n",
       "      <td>256 GB SSD</td>\n",
       "      <td>Windows 11 Home</td>\n",
       "      <td>14s - dy2507TU Thin and Light Laptop</td>\n",
       "    </tr>\n",
       "    <tr>\n",
       "      <th>4</th>\n",
       "      <td>4.3</td>\n",
       "      <td>33990.0</td>\n",
       "      <td>ASUS VivoBook 15 (2022) Core i3 10th Gen</td>\n",
       "      <td>8 GB</td>\n",
       "      <td>512 GB SSD</td>\n",
       "      <td>Windows 11 Home</td>\n",
       "      <td>X515JA-EJ362WS | X515JA-E...</td>\n",
       "    </tr>\n",
       "    <tr>\n",
       "      <th>6</th>\n",
       "      <td>4.1</td>\n",
       "      <td>38990.0</td>\n",
       "      <td>RedmiBook Pro Core i5 11th Gen</td>\n",
       "      <td>8 GB</td>\n",
       "      <td>512 GB SSD</td>\n",
       "      <td>Windows 11 Home</td>\n",
       "      <td>Thin and Light Laptop</td>\n",
       "    </tr>\n",
       "    <tr>\n",
       "      <th>8</th>\n",
       "      <td>4.0</td>\n",
       "      <td>33999.0</td>\n",
       "      <td>Lenovo V15 G2 Core i3 11th Gen</td>\n",
       "      <td>8 GB</td>\n",
       "      <td>512 GB SSD</td>\n",
       "      <td>Windows 11 Home</td>\n",
       "      <td>V15 ITL G2 Laptop</td>\n",
       "    </tr>\n",
       "    <tr>\n",
       "      <th>16</th>\n",
       "      <td>4.1</td>\n",
       "      <td>39990.0</td>\n",
       "      <td>DELL Vostro Core i3 11th Gen</td>\n",
       "      <td>8 GB</td>\n",
       "      <td>1 TB HDD</td>\n",
       "      <td>256 GB SSD/Windows 11 Home</td>\n",
       "      <td>Vostro 3510 Thin and Light L...</td>\n",
       "    </tr>\n",
       "    <tr>\n",
       "      <th>18</th>\n",
       "      <td>4.4</td>\n",
       "      <td>36990.0</td>\n",
       "      <td>realme Book (Slim) Core i3 11th Gen</td>\n",
       "      <td>8 GB</td>\n",
       "      <td>256 GB SSD</td>\n",
       "      <td>Windows 10 Home</td>\n",
       "      <td>RMNB1001 Thin and Light Laptop</td>\n",
       "    </tr>\n",
       "    <tr>\n",
       "      <th>22</th>\n",
       "      <td>4.3</td>\n",
       "      <td>38699.0</td>\n",
       "      <td>Lenovo IdeaPad 3 Core i3 11th Gen</td>\n",
       "      <td>8 GB</td>\n",
       "      <td>512 GB SSD</td>\n",
       "      <td>Windows 11 Home</td>\n",
       "      <td>82H801L7IN | 82H802FJIN | 82H802...</td>\n",
       "    </tr>\n",
       "  </tbody>\n",
       "</table>\n",
       "</div>"
      ],
      "text/plain": [
       "    rating    price                                      model   RAM  \\\n",
       "1      4.2  37990.0             HP 14s Intel Core i3 11th Gen   8 GB   \n",
       "4      4.3  33990.0  ASUS VivoBook 15 (2022) Core i3 10th Gen   8 GB   \n",
       "6      4.1  38990.0            RedmiBook Pro Core i5 11th Gen   8 GB   \n",
       "8      4.0  33999.0            Lenovo V15 G2 Core i3 11th Gen   8 GB   \n",
       "16     4.1  39990.0              DELL Vostro Core i3 11th Gen   8 GB   \n",
       "18     4.4  36990.0       realme Book (Slim) Core i3 11th Gen   8 GB   \n",
       "22     4.3  38699.0         Lenovo IdeaPad 3 Core i3 11th Gen   8 GB   \n",
       "\n",
       "       Storage                      System  \\\n",
       "1   256 GB SSD             Windows 11 Home   \n",
       "4   512 GB SSD             Windows 11 Home   \n",
       "6   512 GB SSD             Windows 11 Home   \n",
       "8   512 GB SSD             Windows 11 Home   \n",
       "16    1 TB HDD  256 GB SSD/Windows 11 Home   \n",
       "18  256 GB SSD             Windows 10 Home   \n",
       "22  512 GB SSD             Windows 11 Home   \n",
       "\n",
       "                               Other_Info  \n",
       "1    14s - dy2507TU Thin and Light Laptop  \n",
       "4            X515JA-EJ362WS | X515JA-E...  \n",
       "6                   Thin and Light Laptop  \n",
       "8                       V15 ITL G2 Laptop  \n",
       "16        Vostro 3510 Thin and Light L...  \n",
       "18         RMNB1001 Thin and Light Laptop  \n",
       "22    82H801L7IN | 82H802FJIN | 82H802...  "
      ]
     },
     "execution_count": 115,
     "metadata": {},
     "output_type": "execute_result"
    }
   ],
   "source": [
    "#<COMPLETA>"
   ]
  },
  {
   "cell_type": "markdown",
   "id": "c3220365",
   "metadata": {},
   "source": [
    "---------\n",
    "\n",
    "### Visualización de los datos"
   ]
  },
  {
   "cell_type": "code",
   "execution_count": 117,
   "id": "8f25f9bd",
   "metadata": {},
   "outputs": [],
   "source": [
    "#<COMPLETA>"
   ]
  },
  {
   "cell_type": "markdown",
   "id": "29c22216",
   "metadata": {},
   "source": [
    "Realizaremos una gráfica de barras de precio vs rating"
   ]
  },
  {
   "cell_type": "code",
   "execution_count": 120,
   "id": "90ac0325",
   "metadata": {},
   "outputs": [
    {
     "data": {
      "image/png": "[encoded data removed]",
      "text/plain": [
       "<Figure size 2000x1000 with 1 Axes>"
      ]
     },
     "metadata": {},
     "output_type": "display_data"
    }
   ],
   "source": [
    "#<COMPLETA>"
   ]
  },
  {
   "cell_type": "code",
   "execution_count": 121,
   "id": "bf167255",
   "metadata": {},
   "outputs": [
    {
     "data": {
      "text/plain": [
       "Text(0.5, 1.0, 'Calificación vs Precio')"
      ]
     },
     "execution_count": 121,
     "metadata": {},
     "output_type": "execute_result"
    },
    {
     "data": {
      "image/png": "[encoded data removed]",
      "text/plain": [
       "<Figure size 2000x1000 with 1 Axes>"
      ]
     },
     "metadata": {},
     "output_type": "display_data"
    }
   ],
   "source": [
    "#<COMPLETA>"
   ]
  },
  {
   "cell_type": "markdown",
   "id": "5d18631d",
   "metadata": {},
   "source": [
    "Podemos concluir a partir de aquí que los productos con precios más altos tienen calificaciones más altas hasta cierto punto."
   ]
  },
  {
   "cell_type": "code",
   "execution_count": 123,
   "id": "bde1c60a",
   "metadata": {},
   "outputs": [
    {
     "data": {
      "text/plain": [
       "Text(0.5, 1.0, 'Box plot')"
      ]
     },
     "execution_count": 123,
     "metadata": {},
     "output_type": "execute_result"
    },
    {
     "data": {
      "image/png": "[encoded data removed]",
      "text/plain": [
       "<Figure size 640x480 with 1 Axes>"
      ]
     },
     "metadata": {},
     "output_type": "display_data"
    }
   ],
   "source": [
    "#<COMPLETA>"
   ]
  },
  {
   "cell_type": "markdown",
   "id": "d9b6c1f2",
   "metadata": {},
   "source": [
    "## ¿Les ha salido algún discordante visual a ustedes?"
   ]
  },
  {
   "cell_type": "code",
   "execution_count": 124,
   "id": "ff672d54",
   "metadata": {},
   "outputs": [
    {
     "data": {
      "text/html": [
       "<div>\n",
       "<style scoped>\n",
       "    .dataframe tbody tr th:only-of-type {\n",
       "        vertical-align: middle;\n",
       "    }\n",
       "\n",
       "    .dataframe tbody tr th {\n",
       "        vertical-align: top;\n",
       "    }\n",
       "\n",
       "    .dataframe thead th {\n",
       "        text-align: right;\n",
       "    }\n",
       "</style>\n",
       "<table border=\"1\" class=\"dataframe\">\n",
       "  <thead>\n",
       "    <tr style=\"text-align: right;\">\n",
       "      <th></th>\n",
       "      <th>rating</th>\n",
       "      <th>price</th>\n",
       "      <th>model</th>\n",
       "      <th>RAM</th>\n",
       "      <th>Storage</th>\n",
       "      <th>System</th>\n",
       "      <th>Other_Info</th>\n",
       "    </tr>\n",
       "  </thead>\n",
       "  <tbody>\n",
       "    <tr>\n",
       "      <th>3</th>\n",
       "      <td>4.7</td>\n",
       "      <td>86990.0</td>\n",
       "      <td>APPLE 2020 Macbook Air M1</td>\n",
       "      <td>8 GB</td>\n",
       "      <td>256 GB SSD</td>\n",
       "      <td>Mac OS Big Sur</td>\n",
       "      <td>MGN63HN/A</td>\n",
       "    </tr>\n",
       "    <tr>\n",
       "      <th>10</th>\n",
       "      <td>4.4</td>\n",
       "      <td>63990.0</td>\n",
       "      <td>ASUS TUF Gaming A17 with 90Whr Battery Ryzen 5...</td>\n",
       "      <td>8 GB</td>\n",
       "      <td>512 GB SSD</td>\n",
       "      <td>Windows 11 Ho...</td>\n",
       "      <td>NaN</td>\n",
       "    </tr>\n",
       "    <tr>\n",
       "      <th>13</th>\n",
       "      <td>4.7</td>\n",
       "      <td>86990.0</td>\n",
       "      <td>APPLE 2020 Macbook Air M1</td>\n",
       "      <td>8 GB</td>\n",
       "      <td>256 GB SSD</td>\n",
       "      <td>Mac OS Big Sur</td>\n",
       "      <td>MGN93HN/A</td>\n",
       "    </tr>\n",
       "    <tr>\n",
       "      <th>23</th>\n",
       "      <td>4.2</td>\n",
       "      <td>61400.0</td>\n",
       "      <td>HP 14s Intel Core i5 12th Gen</td>\n",
       "      <td>16 GB</td>\n",
       "      <td>512 GB SSD</td>\n",
       "      <td>Windows 11 Home</td>\n",
       "      <td>14s - dy5005TU Thin and Light Lapto...</td>\n",
       "    </tr>\n",
       "  </tbody>\n",
       "</table>\n",
       "</div>"
      ],
      "text/plain": [
       "    rating    price                                              model    RAM  \\\n",
       "3      4.7  86990.0                         APPLE 2020 Macbook Air M1    8 GB   \n",
       "10     4.4  63990.0  ASUS TUF Gaming A17 with 90Whr Battery Ryzen 5...   8 GB   \n",
       "13     4.7  86990.0                         APPLE 2020 Macbook Air M1    8 GB   \n",
       "23     4.2  61400.0                     HP 14s Intel Core i5 12th Gen   16 GB   \n",
       "\n",
       "       Storage            System                               Other_Info  \n",
       "3   256 GB SSD    Mac OS Big Sur                                MGN63HN/A  \n",
       "10  512 GB SSD  Windows 11 Ho...                                      NaN  \n",
       "13  256 GB SSD    Mac OS Big Sur                                MGN93HN/A  \n",
       "23  512 GB SSD   Windows 11 Home   14s - dy5005TU Thin and Light Lapto...  "
      ]
     },
     "execution_count": 124,
     "metadata": {},
     "output_type": "execute_result"
    }
   ],
   "source": [
    "#<COMPLETA>"
   ]
  },
  {
   "cell_type": "markdown",
   "id": "77359996",
   "metadata": {},
   "source": [
    "### ¿Para ustedes, cuáles fueron las computadoras más caras?"
   ]
  },
  {
   "cell_type": "code",
   "execution_count": null,
   "id": "4e5dfba8",
   "metadata": {},
   "outputs": [],
   "source": []
  }
 ],
 "metadata": {
  "kernelspec": {
   "display_name": "Python 3 (ipykernel)",
   "language": "python",
   "name": "python3"
  },
  "language_info": {
   "codemirror_mode": {
    "name": "ipython",
    "version": 3
   },
   "file_extension": ".py",
   "mimetype": "text/x-python",
   "name": "python",
   "nbconvert_exporter": "python",
   "pygments_lexer": "ipython3",
   "version": "3.9.12"
  }
 },
 "nbformat": 4,
 "nbformat_minor": 5
}
