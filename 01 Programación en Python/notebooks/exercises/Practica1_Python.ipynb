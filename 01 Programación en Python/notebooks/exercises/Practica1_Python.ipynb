{
 "cells": [
  {
   "cell_type": "markdown",
   "metadata": {
    "colab_type": "text",
    "id": "view-in-github"
   },
   "source": [
    "<a href=\"https://colab.research.google.com/github/DCDPUAEM/DCDP/blob/main/01%20Programaci%C3%B3n%20en%20Python/notebooks/exercises/Practica1_Python.ipynb\" target=\"_parent\"><img src=\"https://colab.research.google.com/assets/colab-badge.svg\" alt=\"Open In Colab\"/></a>"
   ]
  },
  {
   "cell_type": "markdown",
   "metadata": {
    "id": "4zMzLuXxBDdY"
   },
   "source": [
    "# Ejercicios bases de Python"
   ]
  },
  {
   "cell_type": "markdown",
   "metadata": {
    "id": "HAY8IBC4dM62"
   },
   "source": [
    "## Estructuras, asignación y funciones"
   ]
  },
  {
   "cell_type": "markdown",
   "metadata": {
    "id": "5OKzkyU6_1kB"
   },
   "source": [
    "### 1. Creando una agenda \n",
    "\n",
    "Utiliza los conceptos básicos de python para crear una agenda telefónica. Deberás completar las funciones crear_agenda, agregar_contacto, eliminimar_contacto y buscar_contacto que se encuentran en las siguientes celdas.\n",
    "\n",
    "* ```crear_agenda()```, esta función devuelve una nueva agenda vacía, elige el tipo de dato que creas adecuado para este proposito.\n",
    "* ```agregar_contacto(agenda, nombre, numero)```, esta función debe permitir agregar un nuevo contacto a la agenda, además si un contacto ya existe con el nombre recibido entonces debes almacenar su nuevo numero sin eliminar el anterior.\n",
    "* ```buscar_contacto(agenda, nombre)```, esta función debe de regresar el o los números registados de un contacto, si el contacto no existe entonces imprimer el mensaje \"Contacto no encontrado en la agenda\".\n",
    "* ```eliminar_contacto(agenda, nombre)```, esta función permite eliminar a un contacto de la agenda, si el contacto no existe entonces imprimer el mensaje \"Contacto no encontrado en la agenda\"."
   ]
  },
  {
   "cell_type": "code",
   "execution_count": 1,
   "metadata": {
    "id": "EJAb9gnbzhA4"
   },
   "outputs": [],
   "source": [
    "def crear_agenda():\n",
    "    agenda = {}\n",
    "    return agenda"
   ]
  },
  {
   "cell_type": "code",
   "execution_count": 45,
   "metadata": {
    "id": "QjsW0Y_M_x4j"
   },
   "outputs": [],
   "source": [
    "def agregar_contacto(agenda, nombre, numero):\n",
    "    \"\"\"\n",
    "    Tip:\n",
    "    Primero debes comprobar si existe el contacto\n",
    "    si no existe entonces crea uno nuevo y guarda\n",
    "    su nombre y numero\"\"\"\n",
    "    \n",
    "    if agenda.get(nombre):\n",
    "        print('el contacto de ',nombre,' ya existe. añadiendo número...',end='')\n",
    "        if numero in agenda[nombre]:\n",
    "            print('el número ya existe para el contacto.')\n",
    "        else:\n",
    "            agenda[nombre].append(numero)\n",
    "            print('número añadido para el contacto.')\n",
    "    else:\n",
    "        agenda[nombre] = []\n",
    "        agenda[nombre].append(numero)\n",
    "        print('el contacto de ',nombre,' ha sido añadido a la agenda')\n",
    "    return agenda"
   ]
  },
  {
   "cell_type": "code",
   "execution_count": 46,
   "metadata": {
    "id": "CkJpO_BtzhA5"
   },
   "outputs": [
    {
     "name": "stdout",
     "output_type": "stream",
     "text": [
      "el contacto de  Javier  ha sido añadido a la agenda\n",
      "el contacto de  Diego  ha sido añadido a la agenda\n",
      "el contacto de  Javier  ya existe. añadiendo número...número añadido para el contacto.\n",
      "el contacto de  Javier  ya existe. añadiendo número...número añadido para el contacto.\n"
     ]
    }
   ],
   "source": [
    "agenda = crear_agenda()\n",
    "agenda = agregar_contacto(agenda, \"Javier\", \"1234567890\")\n",
    "# más contactos\n",
    "agenda = agregar_contacto(agenda, \"Diego\", \"418438970781\")\n",
    "agenda = agregar_contacto(agenda, \"Javier\", \"1234567891\")\n",
    "agenda = agregar_contacto(agenda, \"Javier\", \"1234567892\")\n",
    "\n"
   ]
  },
  {
   "cell_type": "code",
   "execution_count": 58,
   "metadata": {
    "id": "-xhGm-CXzhA7"
   },
   "outputs": [],
   "source": [
    "def buscar_contacto(agenda, nombre):\n",
    "    \"\"\"\n",
    "    Busca el contacto en la agenda, imprime su nombre y numero\n",
    "    Si tiene mas de un numero, imprime todos\n",
    "    Si el contacto no existe, imprime \"Contacto no encontrado en la agenda\"\n",
    "    \"\"\"\n",
    "    \n",
    "    if agenda.get(nombre):\n",
    "        print(nombre,' : ',end='')\n",
    "        for i in agenda.get(nombre): print(i,end=', ')\n",
    "        print()\n",
    "    else:\n",
    "        print(nombre, ': contacto no encontrado en la agenda.')\n",
    "    \n",
    "    "
   ]
  },
  {
   "cell_type": "code",
   "execution_count": 59,
   "metadata": {
    "id": "FzG19KdxzhA7"
   },
   "outputs": [
    {
     "name": "stdout",
     "output_type": "stream",
     "text": [
      "Javier  : 1234567890, 1234567891, 1234567892, 0987654321, \n",
      "el contacto de  Javier  ya existe. añadiendo número...el número ya existe para el contacto.\n",
      "Javier  : 1234567890, 1234567891, 1234567892, 0987654321, \n",
      "José : contacto no encontrado en la agenda.\n"
     ]
    }
   ],
   "source": [
    "buscar_contacto(agenda, \"Javier\")\n",
    "agenda = agregar_contacto(agenda, \"Javier\", \"0987654321\")\n",
    "buscar_contacto(agenda, \"Javier\")\n",
    "#####\n",
    "buscar_contacto(agenda, \"José\")"
   ]
  },
  {
   "cell_type": "code",
   "execution_count": 67,
   "metadata": {
    "id": "9c7BfxoZzhA7"
   },
   "outputs": [],
   "source": [
    "def eliminar_contacto(agenda, nombre):\n",
    "    \"\"\"\n",
    "    Elimina el contacto de la agenda\n",
    "    si el contacto no existe imprime \"Contacto no encontrado en la agenda\"\n",
    "    \"\"\"\n",
    "    if agenda.get(nombre):\n",
    "        del agenda[nombre]\n",
    "        print(nombre, ': contacto eliminado.')\n",
    "    else:\n",
    "\n",
    "        print('Contacto no encontrado en la agenda')\n",
    "    \n",
    "    return agenda"
   ]
  },
  {
   "cell_type": "code",
   "execution_count": 69,
   "metadata": {
    "id": "RkNtzllbBirX"
   },
   "outputs": [
    {
     "name": "stdout",
     "output_type": "stream",
     "text": [
      "Diego : contacto eliminado.\n"
     ]
    }
   ],
   "source": [
    "agenda = eliminar_contacto(agenda,\"Diego\")"
   ]
  },
  {
   "cell_type": "markdown",
   "metadata": {
    "id": "3nzzkH6EA88D"
   },
   "source": [
    "# Ejercicios estadística"
   ]
  },
  {
   "cell_type": "markdown",
   "metadata": {
    "id": "e5g5CAaOc01h"
   },
   "source": [
    "### Función suma\n",
    "\n",
    "$$\n",
    "    suma(a) = \\sum_{i=1}^{n}a_i\n",
    "$$"
   ]
  },
  {
   "cell_type": "code",
   "execution_count": 79,
   "metadata": {
    "id": "RxWbpZ42c07g"
   },
   "outputs": [],
   "source": [
    "def suma(x):\n",
    "    suma = 0\n",
    "    \n",
    "    for i in x:\n",
    "        suma = suma + i\n",
    "    \n",
    "    return suma"
   ]
  },
  {
   "cell_type": "code",
   "execution_count": 80,
   "metadata": {
    "id": "mdiLISG-zhA-"
   },
   "outputs": [],
   "source": [
    "assert suma([1, 2, 3, 4, 5]) == 15\n",
    "assert suma([34.2, .8, 3, 2, 1]) == 41\n",
    "\n"
   ]
  },
  {
   "cell_type": "markdown",
   "metadata": {
    "id": "Hc30xEPMc1QC"
   },
   "source": [
    "### Función promedio.\n",
    "\n",
    "$$\n",
    "\t\\bar{x} = \\dfrac{\\sum_{i=1}^{n}x_i}{n}\n",
    "$$"
   ]
  },
  {
   "cell_type": "code",
   "execution_count": 84,
   "metadata": {
    "id": "2KyU6PyCc1VM"
   },
   "outputs": [],
   "source": [
    "def promedio(x):\n",
    "    promedio = 0\n",
    "    \n",
    "    promedio = suma(x)/len(x)\n",
    "    \n",
    "    return promedio"
   ]
  },
  {
   "cell_type": "code",
   "execution_count": 85,
   "metadata": {
    "id": "7GM2YpXVzhBA"
   },
   "outputs": [],
   "source": [
    "assert promedio([1, 2, 3, 4, 5]) == 3, \"Error en promedio\""
   ]
  },
  {
   "cell_type": "markdown",
   "metadata": {
    "id": "ImMoE5w4c1of"
   },
   "source": [
    "### Función varianza.\n",
    "$$\n",
    "\\sigma^2 = \\frac{1}{n} \\sum_{i=1}^{n}(x_i - \\bar{x})^2\n",
    "$$"
   ]
  },
  {
   "cell_type": "code",
   "execution_count": 101,
   "metadata": {
    "id": "h0w2PHhLc1tG"
   },
   "outputs": [],
   "source": [
    "\n",
    "def var(x):\n",
    "    var = 0\n",
    "\n",
    "    # varianza de población\n",
    "    mean = promedio(x)\n",
    "    numerador = suma([ (i - mean)**2 for i in x])\n",
    "    denominador = len(x)\n",
    "    var = numerador/denominador\n",
    "    \n",
    "    return var"
   ]
  },
  {
   "cell_type": "code",
   "execution_count": 103,
   "metadata": {
    "id": "puEjtv4OzhBA"
   },
   "outputs": [],
   "source": [
    "assert var([1, 2, 3, 4, 5]) == 2, \"Error en var\""
   ]
  },
  {
   "cell_type": "markdown",
   "metadata": {
    "id": "fxxJeFhbA9Cq"
   },
   "source": [
    "# Ejercicios álgebra lineal"
   ]
  },
  {
   "cell_type": "markdown",
   "metadata": {
    "id": "6dXp-owNeqP9"
   },
   "source": [
    "## Vectores con listas"
   ]
  },
  {
   "cell_type": "markdown",
   "metadata": {
    "id": "9Du0_NsNc81H"
   },
   "source": [
    "### Ones"
   ]
  },
  {
   "cell_type": "markdown",
   "metadata": {
    "id": "DKp9wDLPEZdz"
   },
   "source": [
    "Completa la función ones1D que recibe como parámetros un entero $n$ y retorna una lista de tamaño $n$ con todos sus elementos con el valor $1$.\n",
    "\n",
    "Ejemplo:\n",
    "\n",
    "```\n",
    ">>> ones(5)\n",
    "[1, 1, 1, 1, 1]\n",
    "```\n",
    "\n"
   ]
  },
  {
   "cell_type": "code",
   "execution_count": 109,
   "metadata": {
    "id": "l4j5ka46EulY"
   },
   "outputs": [
    {
     "data": {
      "text/plain": [
       "[1, 1, 1, 1, 1]"
      ]
     },
     "execution_count": 109,
     "metadata": {},
     "output_type": "execute_result"
    }
   ],
   "source": [
    "def ones_1d(n):\n",
    "    ones_list = [1]*n\n",
    "    return ones_list  \n",
    "ones_1d(5)"
   ]
  },
  {
   "cell_type": "markdown",
   "metadata": {
    "id": "TBYV7LYqdSJo"
   },
   "source": [
    "Ejecuta la siguiente celda para comprobar la función ones1D:"
   ]
  },
  {
   "cell_type": "code",
   "execution_count": 110,
   "metadata": {
    "id": "QUlEotVIdRno"
   },
   "outputs": [
    {
     "name": "stdout",
     "output_type": "stream",
     "text": [
      "La funcion es correcta\n"
     ]
    }
   ],
   "source": [
    "assert len(ones_1d(10)) == 10 and  ones_1d(3).count(1) == 3 and sum(ones_1d(5)) == 5  , \"error en la funcion ones_1d\"\n",
    "print(\"La funcion es correcta\")"
   ]
  },
  {
   "cell_type": "markdown",
   "metadata": {
    "id": "b8SaUCdYzhBC"
   },
   "source": [
    "### Ones 2D"
   ]
  },
  {
   "cell_type": "markdown",
   "metadata": {
    "id": "lxOMWQXXEZp3"
   },
   "source": [
    "Completa la función ones_2d que recibe como parámetros un entero $n$ y un entero $m$ y retorna una lista con $n$ sub-listas cada una de tamaño $m$ con todos sus elementos con el valor 1. En otras palabras, una matriz $n \\times m$ con sus elementos iniciados con valor $1$.\n",
    "\n",
    "Ejemplo:\n",
    "\n",
    "\n",
    "\n",
    "```\n",
    ">>> ones_2d(2, 3)\n",
    "[[1, 1, 1], [1, 1, 1]]\n",
    "```\n",
    "\n"
   ]
  },
  {
   "cell_type": "code",
   "execution_count": 114,
   "metadata": {
    "id": "-xfFmttxFRCw"
   },
   "outputs": [
    {
     "data": {
      "text/plain": [
       "[[1, 1, 1], [1, 1, 1]]"
      ]
     },
     "execution_count": 114,
     "metadata": {},
     "output_type": "execute_result"
    }
   ],
   "source": [
    "def ones_2d(m, n):\n",
    "    ones_ll = [ones_1d(n) for i in range(m)]\n",
    "    return ones_ll\n",
    "ones_2d(2, 3)"
   ]
  },
  {
   "cell_type": "markdown",
   "metadata": {
    "id": "yugjWXI9eI4P"
   },
   "source": [
    "Ejecuta la siguiente celda para comprobar la función ones2D:"
   ]
  },
  {
   "cell_type": "code",
   "execution_count": 116,
   "metadata": {
    "id": "i7sZXWsveJBC"
   },
   "outputs": [
    {
     "name": "stdout",
     "output_type": "stream",
     "text": [
      "La funcion es correcta\n"
     ]
    }
   ],
   "source": [
    "assert len(ones_2d(2, 3)) == 2 and len(ones_2d(2, 3)[0]) == 3 and sum([x_i for sl in ones_2d(3, 2) for x_i in sl]) == 6 , \"error en la funcion ones_2d\"\n",
    "print(\"La funcion es correcta\")"
   ]
  },
  {
   "cell_type": "markdown",
   "metadata": {
    "id": "EwVykdiYzhBD"
   },
   "source": [
    "### Producto punto (inner)"
   ]
  },
  {
   "cell_type": "markdown",
   "metadata": {
    "id": "xy0p5QxEzhBE"
   },
   "source": [
    "Completa la función ones_2d que recibe como parametros dos listas a, b de la misma longitúd y retorna el producto punto de ambos.\n",
    "\n",
    "El producto punto está definido como:\n",
    "\n",
    "$$a = [a_1 a_2 ... a_n] \\: y \\: b = [b_1 b_2 ... b_n]$$\n",
    "\n",
    "$$\n",
    "a \\cdot b = a_1*b_1 + a_2*b_2 + \\dots + a_n*b_n\n",
    "$$"
   ]
  },
  {
   "cell_type": "code",
   "execution_count": 133,
   "metadata": {
    "id": "OvNCcnXLBBc0"
   },
   "outputs": [
    {
     "data": {
      "text/plain": [
       "14"
      ]
     },
     "execution_count": 133,
     "metadata": {},
     "output_type": "execute_result"
    }
   ],
   "source": [
    "def inner(a, b):\n",
    "    punto = []\n",
    "    for i,j in zip(a,b):\n",
    "        punto.append(i*j)\n",
    "    return suma(punto)\n",
    "inner([1,2,3],[1,2,3])"
   ]
  },
  {
   "cell_type": "code",
   "execution_count": 134,
   "metadata": {
    "id": "-fDkDjKczhBE"
   },
   "outputs": [
    {
     "name": "stdout",
     "output_type": "stream",
     "text": [
      "Correcto\n"
     ]
    }
   ],
   "source": [
    "assert inner([1, 2, 3], [1, 2 ,3]) == 14, \"Error en inner\"\n",
    "print(\"Correcto\")"
   ]
  },
  {
   "cell_type": "markdown",
   "metadata": {
    "id": "6B7dwCC7eqnL"
   },
   "source": [
    "## Matrices con listas de listas"
   ]
  },
  {
   "cell_type": "markdown",
   "metadata": {
    "id": "l36RNkUqexzU"
   },
   "source": [
    "### Matriz identidad\n",
    "$$\n",
    "\tI_{ij} = \\begin{cases}\n",
    "\t\t1 & i=j\\\\\n",
    "\t\t0 & i \\neq j\\\\\n",
    "\t\\end{cases}\n",
    "$$"
   ]
  },
  {
   "cell_type": "code",
   "execution_count": 138,
   "metadata": {},
   "outputs": [
    {
     "data": {
      "text/plain": [
       "[0, 1]"
      ]
     },
     "execution_count": 138,
     "metadata": {},
     "output_type": "execute_result"
    }
   ],
   "source": [
    "\n",
    "[i for i in range(2)]"
   ]
  },
  {
   "cell_type": "code",
   "execution_count": 146,
   "metadata": {
    "id": "afcnX6E_eqvP"
   },
   "outputs": [
    {
     "name": "stdout",
     "output_type": "stream",
     "text": [
      "[[1, 0, 0], [0, 1, 0], [0, 0, 1]]\n"
     ]
    }
   ],
   "source": [
    "def eye(n):\n",
    "    '''\n",
    "    Esta funcion debe regresar la matriz identidad de tamano nxn\n",
    "    '''\n",
    "    I = []\n",
    "    for i in range(n):\n",
    "        line = n*[0]\n",
    "        line[i] = 1\n",
    "        I.append(line)\n",
    "    return I\n",
    "print(eye(3))"
   ]
  },
  {
   "cell_type": "code",
   "execution_count": 147,
   "metadata": {
    "id": "aGgCGhqrzhBF"
   },
   "outputs": [],
   "source": [
    "assert eye(2) == [[1, 0], [0, 1]], \"Error en eye\""
   ]
  },
  {
   "cell_type": "markdown",
   "metadata": {
    "id": "jLXu_k7CfCqF"
   },
   "source": [
    "### Matriz transpuesta\n",
    "\n",
    "$$C = A^T \\Leftrightarrow c_{ij} = a{ji}$$\n",
    "\n",
    "Por ejemplo, si:\n",
    "\t$$\n",
    "\tA = \\begin{bmatrix}\n",
    "\ta_{11} & a_{12}  \\\\\n",
    "\ta_{21} & a_{22}  \\\\\n",
    "\ta_{31} & a_{32}  \\\\\n",
    "\t\\end{bmatrix}\n",
    "\t$$\n",
    "\tentonces\n",
    "\t$$\n",
    "\tA^T = \\begin{bmatrix}\n",
    "\ta_{11} & a_{21} & a_{31} \\\\\n",
    "\ta_{12} & a_{22} & a_{32} \\\\\n",
    "\t\\end{bmatrix}\n",
    "\t$$"
   ]
  },
  {
   "cell_type": "code",
   "execution_count": 152,
   "metadata": {},
   "outputs": [
    {
     "data": {
      "text/plain": [
       "<zip at 0x7f100a9f4bc0>"
      ]
     },
     "execution_count": 152,
     "metadata": {},
     "output_type": "execute_result"
    }
   ],
   "source": [
    "a=[1,2,3]\n",
    "b=[4,5,6]\n",
    "c=[7,8,9]\n",
    "zip(a,b,c)"
   ]
  },
  {
   "cell_type": "code",
   "execution_count": 182,
   "metadata": {
    "id": "zKWY09JhfEfa"
   },
   "outputs": [
    {
     "name": "stdout",
     "output_type": "stream",
     "text": [
      "[[1, 3, 5], [2, 4, 6]]\n"
     ]
    }
   ],
   "source": [
    "def traspose(A):\n",
    "    '''\n",
    "    Esta funcion debe regresar la transpuesta de A\n",
    "    '''\n",
    "    A_t = []\n",
    "    for i in range(len(A[0])):\n",
    "        newRow = []\n",
    "        for j in range(len(A)):\n",
    "            newRow.append(A[j][i])\n",
    "        A_t.append(newRow)\n",
    "    return A_t\n",
    "\n",
    "print(traspose([[1, 2], [3, 4], [5, 6]]))"
   ]
  },
  {
   "cell_type": "code",
   "execution_count": 183,
   "metadata": {
    "id": "bl1lclWhzhBF"
   },
   "outputs": [],
   "source": [
    "assert traspose([[1, 2], [3, 4], [5, 6]]) == [[1, 3, 5], [2, 4, 6]], \"Error en traspose\""
   ]
  },
  {
   "cell_type": "markdown",
   "metadata": {
    "id": "YnYXfNmizhBF"
   },
   "source": [
    "### Valida multiplicación\n",
    "\n",
    "```True``` si\n",
    "$$A \\qquad es \\qquad mxn$$\n",
    "y\n",
    "$$B \\qquad es \\qquad nxp$$\n",
    "```False``` en otro caso"
   ]
  },
  {
   "cell_type": "code",
   "execution_count": 200,
   "metadata": {
    "id": "QS3a6v3CzhBG"
   },
   "outputs": [
    {
     "data": {
      "text/plain": [
       "True"
      ]
     },
     "execution_count": 200,
     "metadata": {},
     "output_type": "execute_result"
    }
   ],
   "source": [
    "def validate_mat_mul(A, B):\n",
    "    DEBUG = False\n",
    "    val = False\n",
    "        \n",
    "    if DEBUG:\n",
    "        print( 'A: ', len(A) , 'x', len(A[0]))\n",
    "        print( 'B: ', len(B) , 'x', len(A[0]))\n",
    "    \n",
    "    val = len(A[0]) == len(B)\n",
    "        \n",
    "    return val\n",
    "\n",
    "validate_mat_mul([[1, 2], [3, 4]], [[5, 6], [7, 8]])"
   ]
  },
  {
   "cell_type": "code",
   "execution_count": 201,
   "metadata": {
    "id": "5bhyeBnMzhBG"
   },
   "outputs": [],
   "source": [
    "assert validate_mat_mul([[1, 2], [3, 4]], [[5, 6], [7, 8]]) and \\\n",
    "validate_mat_mul([[1, 2], [3, 4], [5, 6]], [[1, 2, 3], [4, 5, 6]]) and \\\n",
    "not validate_mat_mul([[1, 2, 3], [4, 5, 6], [7, 8, 9]], [[1, 2], [3, 4]]), \"Error en validate_mat_mul\""
   ]
  },
  {
   "cell_type": "markdown",
   "metadata": {
    "id": "RY2TgoGye3pV"
   },
   "source": [
    "### Multiplicación de matrices\n",
    "\n",
    "Si $A \\in \\mathbb{R}^{m \\times n}$ y $B \\in \\mathbb{R}^{n \\times p}$ entonces:\n",
    "$$\n",
    "C = A B \\in \\mathbb{R}^{m \\times p}\\Leftrightarrow c_{ij} = \\sum_{k=1}^{n}a_{ik} b_{kj}\n",
    "$$"
   ]
  },
  {
   "cell_type": "code",
   "execution_count": 294,
   "metadata": {
    "id": "DxFQFm51e-A1"
   },
   "outputs": [
    {
     "name": "stdout",
     "output_type": "stream",
     "text": [
      "[[6, 6], [14, 14], [22, 22]]\n"
     ]
    }
   ],
   "source": [
    "def mat_mul(A, B):\n",
    "    if validate_mat_mul(A,B):\n",
    "        \n",
    "        DEBUG=False\n",
    "        \n",
    "        if DEBUG:\n",
    "            print( 'A: ', len(A) , 'x', len(A[0]))\n",
    "            print( 'B: ', len(B) , 'x', len(A[0]))\n",
    "        \n",
    "        # crear matriz del tamaño correcto:\n",
    "        #C = [ len(B[0])*[None] ] * len(A) # <- this does not work because they are not individual instances\n",
    "        C = [[ None for i in range(len(B[0])) ] for j in range(len(A))]\n",
    "\n",
    "        for i in range(len(A)):\n",
    "            for j in range(len(B[0])):\n",
    "                C[i][j] = inner( A[i] , [ B[j][p] for p in range(len(B))])\n",
    "    else:\n",
    "        print('las matrices no cumplen las condiciones de multiplicación')\n",
    "        return None\n",
    "    return C\n",
    "    \n",
    "print(mat_mul([[1, 2], [3, 4], [5, 6]], [[2, 2], [2, 2]])        )\n"
   ]
  },
  {
   "cell_type": "code",
   "execution_count": 295,
   "metadata": {
    "id": "C_Z-q0k7zhBH"
   },
   "outputs": [],
   "source": [
    "assert mat_mul([[1, 2], [3, 4], [5, 6]], [[2, 2], [2, 2]]) == [[6, 6], [14, 14], [22, 22]], \"Error en mat_mul\""
   ]
  },
  {
   "cell_type": "code",
   "execution_count": null,
   "metadata": {},
   "outputs": [],
   "source": []
  }
 ],
 "metadata": {
  "colab": {
   "collapsed_sections": [],
   "include_colab_link": true,
   "name": "Ejercicios.ipynb",
   "provenance": []
  },
  "kernelspec": {
   "display_name": "Python 3 (ipykernel)",
   "language": "python",
   "name": "python3"
  },
  "language_info": {
   "codemirror_mode": {
    "name": "ipython",
    "version": 3
   },
   "file_extension": ".py",
   "mimetype": "text/x-python",
   "name": "python",
   "nbconvert_exporter": "python",
   "pygments_lexer": "ipython3",
   "version": "3.9.12"
  }
 },
 "nbformat": 4,
 "nbformat_minor": 4
}
