{
 "cells": [
  {
   "cell_type": "markdown",
   "metadata": {
    "colab_type": "text",
    "id": "view-in-github"
   },
   "source": [
    "<a href=\"https://colab.research.google.com/github/DCDPUAEM/DCDP/blob/main/01%20Programaci%C3%B3n%20en%20Python/notebooks/exercises/Practica3_Pandas.ipynb\" target=\"_parent\"><img src=\"https://colab.research.google.com/assets/colab-badge.svg\" alt=\"Open In Colab\"/></a>"
   ]
  },
  {
   "cell_type": "markdown",
   "metadata": {},
   "source": [
    "## Salomon Ramírez"
   ]
  },
  {
   "cell_type": "markdown",
   "metadata": {
    "id": "U27yy_exrI8z"
   },
   "source": [
    "# Analizando las estadísticas de jugadores de futbol con Pandas.\n",
    "\n",
    "![FIFA](https://upload.wikimedia.org/wikipedia/commons/thumb/a/aa/FIFA_logo_without_slogan.svg/1200px-FIFA_logo_without_slogan.svg.png)\n",
    "\n",
    "En esta notebook, utilizarás Pandas para analizar datos de jugadores de futbol (soccer). Los datos se encuentran en forma tabular e incluyen información relevante de jugadores de futbol de todo el mundo.\n",
    "\n",
    "---\n",
    "\n",
    "\n",
    "Cada fila en el conjunto de datos contiene información sobre el jugador:\n",
    "* Información personal: Nombre, nacionalidad, , edad, altura, peso y pierna preferida al jugar.\n",
    "* Información como jugador: Nombre del equipo en el que juega (Club), número de playera, posición en el campo (abreviada), valor comercial y salario.\n",
    "* Información sobre sus habilidades como jugador (0-100): Overall, Potential, Shooting, Defense, Passing, Physical, Control, Mental y GoalKeeping.\n",
    "\n",
    "\n",
    "Durante la notebook llevarás a cabo tareas de tratamiento y análisis exploratorio de datos comunmente realizadas. Buscarás información que podría resultar útil para las organizaciones.\n",
    "\n",
    "\n",
    "\n",
    "---\n",
    "\n",
    "\n",
    "\n",
    "Recuerda que puedes acudir a la [documentación de Pandas](https://pandas.pydata.org/pandas-docs/stable/reference/index.html) o a la notebook de Pandas del diplomado en ciencia de datos.\n",
    "\n"
   ]
  },
  {
   "cell_type": "markdown",
   "metadata": {
    "id": "YK63u5jI9TkW"
   },
   "source": [
    "Primero, importa Pandas en tu notebook:"
   ]
  },
  {
   "cell_type": "code",
   "execution_count": 1,
   "metadata": {
    "id": "3N4heqrqrFiv"
   },
   "outputs": [],
   "source": [
    "# pandas usando el alias pd\n",
    "import pandas as pd"
   ]
  },
  {
   "cell_type": "markdown",
   "metadata": {
    "id": "iWSmUVFgrJxA"
   },
   "source": [
    "Ejecuta la siguiente celda para cargar el conjunto de datos desde el repositorio en github a la máquina en colab."
   ]
  },
  {
   "cell_type": "code",
   "execution_count": 2,
   "metadata": {
    "id": "4touD7BqrOmJ"
   },
   "outputs": [
    {
     "name": "stdout",
     "output_type": "stream",
     "text": [
      "  % Total    % Received % Xferd  Average Speed   Time    Time     Time  Current\n",
      "                                 Dload  Upload   Total   Spent    Left  Speed\n",
      "100 1955k  100 1955k    0     0   340k      0  0:00:05  0:00:05 --:--:--  449k    0    0     0      0      0 --:--:--  0:00:01 --:--:--     0\n"
     ]
    }
   ],
   "source": [
    "# Fetch the dataset using the raw GitHub URL.\n",
    "!curl --remote-name \\\n",
    "     -H 'Accept: application/vnd.github.v3.raw' \\\n",
    "     --location https://raw.githubusercontent.com/DCDPUAEM/DCDP/main/01%20Programaci%C3%B3n%20en%20Python/data/fifa/players.csv"
   ]
  },
  {
   "cell_type": "markdown",
   "metadata": {
    "id": "p5y0gMcxsRzY"
   },
   "source": [
    "Veamos las primeras líneas del archivo usando un comando de linux en la celda de colab:"
   ]
  },
  {
   "cell_type": "code",
   "execution_count": 3,
   "metadata": {
    "id": "-9y9q8fxsSCl"
   },
   "outputs": [
    {
     "name": "stdout",
     "output_type": "stream",
     "text": [
      "ID,Name,Nationality,Club,Jersey Number,Value,Wage,Age,Height,Weight,Preferred Foot,Position,Overall,Potential,Shooting,Defense,Passing,Physical,Control,Mental,GoalKeeping\r\n",
      "158023,L. Messi,Argentina,FC Barcelona,10.0,€110.5M,€565K,31,5'7,159lbs,Left,RF,94,94,86,41,87,80,96,95,11\r\n",
      "20801,Cristiano Ronaldo,Portugal,Juventus,7.0,€77M,€405K,33,6'2,183lbs,Right,ST,94,94,88,41,81,86,84,91,12\r\n",
      "190871,Neymar Jr,Brazil,Paris Saint-Germain,10.0,€118.5M,€290K,26,5'9,150lbs,Right,LW,92,93,81,42,80,79,92,92,12\r\n",
      "193080,De Gea,Spain,Manchester United,1.0,€72M,€260K,27,6'4,168lbs,Right,GK,91,93,21,18,39,56,34,75,89\r\n"
     ]
    }
   ],
   "source": [
    "!head -n 5 players.csv"
   ]
  },
  {
   "cell_type": "markdown",
   "metadata": {
    "id": "2llZPBeYr5EW"
   },
   "source": [
    "## Carga el conjunto de datos FIFA usando pandas"
   ]
  },
  {
   "cell_type": "code",
   "execution_count": 4,
   "metadata": {
    "id": "qpE38xDqr4xX"
   },
   "outputs": [
    {
     "data": {
      "text/html": [
       "<div>\n",
       "<style scoped>\n",
       "    .dataframe tbody tr th:only-of-type {\n",
       "        vertical-align: middle;\n",
       "    }\n",
       "\n",
       "    .dataframe tbody tr th {\n",
       "        vertical-align: top;\n",
       "    }\n",
       "\n",
       "    .dataframe thead th {\n",
       "        text-align: right;\n",
       "    }\n",
       "</style>\n",
       "<table border=\"1\" class=\"dataframe\">\n",
       "  <thead>\n",
       "    <tr style=\"text-align: right;\">\n",
       "      <th></th>\n",
       "      <th>ID</th>\n",
       "      <th>Name</th>\n",
       "      <th>Nationality</th>\n",
       "      <th>Club</th>\n",
       "      <th>Jersey Number</th>\n",
       "      <th>Value</th>\n",
       "      <th>Wage</th>\n",
       "      <th>Age</th>\n",
       "      <th>Height</th>\n",
       "      <th>Weight</th>\n",
       "      <th>...</th>\n",
       "      <th>Position</th>\n",
       "      <th>Overall</th>\n",
       "      <th>Potential</th>\n",
       "      <th>Shooting</th>\n",
       "      <th>Defense</th>\n",
       "      <th>Passing</th>\n",
       "      <th>Physical</th>\n",
       "      <th>Control</th>\n",
       "      <th>Mental</th>\n",
       "      <th>GoalKeeping</th>\n",
       "    </tr>\n",
       "  </thead>\n",
       "  <tbody>\n",
       "    <tr>\n",
       "      <th>0</th>\n",
       "      <td>158023</td>\n",
       "      <td>L. Messi</td>\n",
       "      <td>Argentina</td>\n",
       "      <td>FC Barcelona</td>\n",
       "      <td>10.0</td>\n",
       "      <td>€110.5M</td>\n",
       "      <td>€565K</td>\n",
       "      <td>31</td>\n",
       "      <td>5'7</td>\n",
       "      <td>159lbs</td>\n",
       "      <td>...</td>\n",
       "      <td>RF</td>\n",
       "      <td>94</td>\n",
       "      <td>94</td>\n",
       "      <td>86.0</td>\n",
       "      <td>41.0</td>\n",
       "      <td>87.0</td>\n",
       "      <td>80.0</td>\n",
       "      <td>96.0</td>\n",
       "      <td>95.0</td>\n",
       "      <td>11.0</td>\n",
       "    </tr>\n",
       "    <tr>\n",
       "      <th>1</th>\n",
       "      <td>20801</td>\n",
       "      <td>Cristiano Ronaldo</td>\n",
       "      <td>Portugal</td>\n",
       "      <td>Juventus</td>\n",
       "      <td>7.0</td>\n",
       "      <td>€77M</td>\n",
       "      <td>€405K</td>\n",
       "      <td>33</td>\n",
       "      <td>6'2</td>\n",
       "      <td>183lbs</td>\n",
       "      <td>...</td>\n",
       "      <td>ST</td>\n",
       "      <td>94</td>\n",
       "      <td>94</td>\n",
       "      <td>88.0</td>\n",
       "      <td>41.0</td>\n",
       "      <td>81.0</td>\n",
       "      <td>86.0</td>\n",
       "      <td>84.0</td>\n",
       "      <td>91.0</td>\n",
       "      <td>12.0</td>\n",
       "    </tr>\n",
       "    <tr>\n",
       "      <th>2</th>\n",
       "      <td>190871</td>\n",
       "      <td>Neymar Jr</td>\n",
       "      <td>Brazil</td>\n",
       "      <td>Paris Saint-Germain</td>\n",
       "      <td>10.0</td>\n",
       "      <td>€118.5M</td>\n",
       "      <td>€290K</td>\n",
       "      <td>26</td>\n",
       "      <td>5'9</td>\n",
       "      <td>150lbs</td>\n",
       "      <td>...</td>\n",
       "      <td>LW</td>\n",
       "      <td>92</td>\n",
       "      <td>93</td>\n",
       "      <td>81.0</td>\n",
       "      <td>42.0</td>\n",
       "      <td>80.0</td>\n",
       "      <td>79.0</td>\n",
       "      <td>92.0</td>\n",
       "      <td>92.0</td>\n",
       "      <td>12.0</td>\n",
       "    </tr>\n",
       "    <tr>\n",
       "      <th>3</th>\n",
       "      <td>193080</td>\n",
       "      <td>De Gea</td>\n",
       "      <td>Spain</td>\n",
       "      <td>Manchester United</td>\n",
       "      <td>1.0</td>\n",
       "      <td>€72M</td>\n",
       "      <td>€260K</td>\n",
       "      <td>27</td>\n",
       "      <td>6'4</td>\n",
       "      <td>168lbs</td>\n",
       "      <td>...</td>\n",
       "      <td>GK</td>\n",
       "      <td>91</td>\n",
       "      <td>93</td>\n",
       "      <td>21.0</td>\n",
       "      <td>18.0</td>\n",
       "      <td>39.0</td>\n",
       "      <td>56.0</td>\n",
       "      <td>34.0</td>\n",
       "      <td>75.0</td>\n",
       "      <td>89.0</td>\n",
       "    </tr>\n",
       "    <tr>\n",
       "      <th>4</th>\n",
       "      <td>192985</td>\n",
       "      <td>K. De Bruyne</td>\n",
       "      <td>Belgium</td>\n",
       "      <td>Manchester City</td>\n",
       "      <td>7.0</td>\n",
       "      <td>€102M</td>\n",
       "      <td>€355K</td>\n",
       "      <td>27</td>\n",
       "      <td>5'11</td>\n",
       "      <td>154lbs</td>\n",
       "      <td>...</td>\n",
       "      <td>RCM</td>\n",
       "      <td>91</td>\n",
       "      <td>92</td>\n",
       "      <td>81.0</td>\n",
       "      <td>65.0</td>\n",
       "      <td>92.0</td>\n",
       "      <td>77.0</td>\n",
       "      <td>85.0</td>\n",
       "      <td>91.0</td>\n",
       "      <td>11.0</td>\n",
       "    </tr>\n",
       "  </tbody>\n",
       "</table>\n",
       "<p>5 rows × 21 columns</p>\n",
       "</div>"
      ],
      "text/plain": [
       "       ID               Name Nationality                 Club  Jersey Number  \\\n",
       "0  158023           L. Messi   Argentina         FC Barcelona           10.0   \n",
       "1   20801  Cristiano Ronaldo    Portugal             Juventus            7.0   \n",
       "2  190871          Neymar Jr      Brazil  Paris Saint-Germain           10.0   \n",
       "3  193080             De Gea       Spain    Manchester United            1.0   \n",
       "4  192985       K. De Bruyne     Belgium      Manchester City            7.0   \n",
       "\n",
       "     Value   Wage  Age Height  Weight  ... Position Overall  Potential  \\\n",
       "0  €110.5M  €565K   31    5'7  159lbs  ...       RF      94         94   \n",
       "1     €77M  €405K   33    6'2  183lbs  ...       ST      94         94   \n",
       "2  €118.5M  €290K   26    5'9  150lbs  ...       LW      92         93   \n",
       "3     €72M  €260K   27    6'4  168lbs  ...       GK      91         93   \n",
       "4    €102M  €355K   27   5'11  154lbs  ...      RCM      91         92   \n",
       "\n",
       "   Shooting  Defense  Passing  Physical  Control  Mental  GoalKeeping  \n",
       "0      86.0     41.0     87.0      80.0     96.0    95.0         11.0  \n",
       "1      88.0     41.0     81.0      86.0     84.0    91.0         12.0  \n",
       "2      81.0     42.0     80.0      79.0     92.0    92.0         12.0  \n",
       "3      21.0     18.0     39.0      56.0     34.0    75.0         89.0  \n",
       "4      81.0     65.0     92.0      77.0     85.0    91.0         11.0  \n",
       "\n",
       "[5 rows x 21 columns]"
      ]
     },
     "execution_count": 4,
     "metadata": {},
     "output_type": "execute_result"
    }
   ],
   "source": [
    "# leer el dataframe usando read_csv\n",
    "fifa_df = pd.read_csv(\"players.csv\", sep=',', header=0)\n",
    "# mostrar los primeros elementos con head\n",
    "fifa_df.head()"
   ]
  },
  {
   "cell_type": "markdown",
   "metadata": {
    "id": "45oYL86ST8RO"
   },
   "source": [
    "## Características del dataset"
   ]
  },
  {
   "cell_type": "markdown",
   "metadata": {
    "id": "NnVgDmdSdZQk"
   },
   "source": [
    "¿Qué tipos de datos contiene nuestro dataframe?"
   ]
  },
  {
   "cell_type": "code",
   "execution_count": 5,
   "metadata": {
    "id": "1kzDpxYK0EvY"
   },
   "outputs": [
    {
     "name": "stdout",
     "output_type": "stream",
     "text": [
      "ID int64\n",
      "Name object\n",
      "Nationality object\n",
      "Club object\n",
      "Jersey Number float64\n",
      "Value object\n",
      "Wage object\n",
      "Age int64\n",
      "Height object\n",
      "Weight object\n",
      "Preferred Foot object\n",
      "Position object\n",
      "Overall int64\n",
      "Potential int64\n",
      "Shooting float64\n",
      "Defense float64\n",
      "Passing float64\n",
      "Physical float64\n",
      "Control float64\n",
      "Mental float64\n",
      "GoalKeeping float64\n"
     ]
    }
   ],
   "source": [
    "for name, t in zip(fifa_df.columns, fifa_df.dtypes):\n",
    "  print(name, t)"
   ]
  },
  {
   "cell_type": "markdown",
   "metadata": {
    "id": "GWsJyCIMtscZ"
   },
   "source": [
    "¿Qué tamaño tiene nuestro dataset?\n",
    "\n",
    "Utiliza el método ```shape``` para conocer el número de filas y columnas en el dataframe."
   ]
  },
  {
   "cell_type": "code",
   "execution_count": 6,
   "metadata": {
    "id": "d3qNHHbAtxNp"
   },
   "outputs": [
    {
     "name": "stdout",
     "output_type": "stream",
     "text": [
      "Filas: 18207\n",
      "Columnas: 21\n"
     ]
    }
   ],
   "source": [
    "m,n = fifa_df.shape\n",
    "print(\"Filas:\", m)\n",
    "print(\"Columnas:\", n)"
   ]
  },
  {
   "cell_type": "code",
   "execution_count": 7,
   "metadata": {
    "id": "yjcIL89FuA0u"
   },
   "outputs": [],
   "source": [
    "assert m == 18207 and n == 21, \"Error en las dimensiones\""
   ]
  },
  {
   "cell_type": "markdown",
   "metadata": {
    "id": "xk3ES367UKfQ"
   },
   "source": [
    "### Estadísticas generales del dataset.\n",
    "\n",
    "Usa ```describre()``` para mostrar las estadísticas generales de las columnas numéricas en el dataframe."
   ]
  },
  {
   "cell_type": "code",
   "execution_count": 8,
   "metadata": {
    "id": "QKmF6WUUUKuM"
   },
   "outputs": [
    {
     "data": {
      "text/html": [
       "<div>\n",
       "<style scoped>\n",
       "    .dataframe tbody tr th:only-of-type {\n",
       "        vertical-align: middle;\n",
       "    }\n",
       "\n",
       "    .dataframe tbody tr th {\n",
       "        vertical-align: top;\n",
       "    }\n",
       "\n",
       "    .dataframe thead th {\n",
       "        text-align: right;\n",
       "    }\n",
       "</style>\n",
       "<table border=\"1\" class=\"dataframe\">\n",
       "  <thead>\n",
       "    <tr style=\"text-align: right;\">\n",
       "      <th></th>\n",
       "      <th>ID</th>\n",
       "      <th>Jersey Number</th>\n",
       "      <th>Age</th>\n",
       "      <th>Overall</th>\n",
       "      <th>Potential</th>\n",
       "      <th>Shooting</th>\n",
       "      <th>Defense</th>\n",
       "      <th>Passing</th>\n",
       "      <th>Physical</th>\n",
       "      <th>Control</th>\n",
       "      <th>Mental</th>\n",
       "      <th>GoalKeeping</th>\n",
       "    </tr>\n",
       "  </thead>\n",
       "  <tbody>\n",
       "    <tr>\n",
       "      <th>count</th>\n",
       "      <td>18207.000000</td>\n",
       "      <td>18147.000000</td>\n",
       "      <td>18207.000000</td>\n",
       "      <td>18207.000000</td>\n",
       "      <td>18207.000000</td>\n",
       "      <td>18159.000000</td>\n",
       "      <td>18159.000000</td>\n",
       "      <td>18159.000000</td>\n",
       "      <td>18159.000000</td>\n",
       "      <td>18159.000000</td>\n",
       "      <td>18159.000000</td>\n",
       "      <td>18159.000000</td>\n",
       "    </tr>\n",
       "    <tr>\n",
       "      <th>mean</th>\n",
       "      <td>214298.338606</td>\n",
       "      <td>19.546096</td>\n",
       "      <td>25.122206</td>\n",
       "      <td>66.238699</td>\n",
       "      <td>71.307299</td>\n",
       "      <td>47.736274</td>\n",
       "      <td>47.459001</td>\n",
       "      <td>53.710612</td>\n",
       "      <td>64.344512</td>\n",
       "      <td>59.236357</td>\n",
       "      <td>57.958974</td>\n",
       "      <td>16.468087</td>\n",
       "    </tr>\n",
       "    <tr>\n",
       "      <th>std</th>\n",
       "      <td>29965.244204</td>\n",
       "      <td>15.947765</td>\n",
       "      <td>4.669943</td>\n",
       "      <td>6.908930</td>\n",
       "      <td>6.136496</td>\n",
       "      <td>15.621702</td>\n",
       "      <td>17.314439</td>\n",
       "      <td>15.113052</td>\n",
       "      <td>9.839120</td>\n",
       "      <td>15.156389</td>\n",
       "      <td>9.933340</td>\n",
       "      <td>17.002775</td>\n",
       "    </tr>\n",
       "    <tr>\n",
       "      <th>min</th>\n",
       "      <td>16.000000</td>\n",
       "      <td>1.000000</td>\n",
       "      <td>16.000000</td>\n",
       "      <td>46.000000</td>\n",
       "      <td>48.000000</td>\n",
       "      <td>7.000000</td>\n",
       "      <td>7.000000</td>\n",
       "      <td>8.000000</td>\n",
       "      <td>22.000000</td>\n",
       "      <td>12.000000</td>\n",
       "      <td>25.000000</td>\n",
       "      <td>1.000000</td>\n",
       "    </tr>\n",
       "    <tr>\n",
       "      <th>25%</th>\n",
       "      <td>200315.500000</td>\n",
       "      <td>8.000000</td>\n",
       "      <td>21.000000</td>\n",
       "      <td>62.000000</td>\n",
       "      <td>67.000000</td>\n",
       "      <td>39.000000</td>\n",
       "      <td>35.000000</td>\n",
       "      <td>46.000000</td>\n",
       "      <td>60.000000</td>\n",
       "      <td>54.000000</td>\n",
       "      <td>51.000000</td>\n",
       "      <td>10.000000</td>\n",
       "    </tr>\n",
       "    <tr>\n",
       "      <th>50%</th>\n",
       "      <td>221759.000000</td>\n",
       "      <td>17.000000</td>\n",
       "      <td>25.000000</td>\n",
       "      <td>66.000000</td>\n",
       "      <td>71.000000</td>\n",
       "      <td>50.000000</td>\n",
       "      <td>52.000000</td>\n",
       "      <td>57.000000</td>\n",
       "      <td>66.000000</td>\n",
       "      <td>63.000000</td>\n",
       "      <td>58.000000</td>\n",
       "      <td>11.000000</td>\n",
       "    </tr>\n",
       "    <tr>\n",
       "      <th>75%</th>\n",
       "      <td>236529.500000</td>\n",
       "      <td>26.000000</td>\n",
       "      <td>28.000000</td>\n",
       "      <td>71.000000</td>\n",
       "      <td>75.000000</td>\n",
       "      <td>59.000000</td>\n",
       "      <td>61.000000</td>\n",
       "      <td>64.000000</td>\n",
       "      <td>71.000000</td>\n",
       "      <td>69.000000</td>\n",
       "      <td>65.000000</td>\n",
       "      <td>12.000000</td>\n",
       "    </tr>\n",
       "    <tr>\n",
       "      <th>max</th>\n",
       "      <td>246620.000000</td>\n",
       "      <td>99.000000</td>\n",
       "      <td>45.000000</td>\n",
       "      <td>94.000000</td>\n",
       "      <td>95.000000</td>\n",
       "      <td>88.000000</td>\n",
       "      <td>86.000000</td>\n",
       "      <td>92.000000</td>\n",
       "      <td>89.000000</td>\n",
       "      <td>96.000000</td>\n",
       "      <td>95.000000</td>\n",
       "      <td>89.000000</td>\n",
       "    </tr>\n",
       "  </tbody>\n",
       "</table>\n",
       "</div>"
      ],
      "text/plain": [
       "                  ID  Jersey Number           Age       Overall     Potential  \\\n",
       "count   18207.000000   18147.000000  18207.000000  18207.000000  18207.000000   \n",
       "mean   214298.338606      19.546096     25.122206     66.238699     71.307299   \n",
       "std     29965.244204      15.947765      4.669943      6.908930      6.136496   \n",
       "min        16.000000       1.000000     16.000000     46.000000     48.000000   \n",
       "25%    200315.500000       8.000000     21.000000     62.000000     67.000000   \n",
       "50%    221759.000000      17.000000     25.000000     66.000000     71.000000   \n",
       "75%    236529.500000      26.000000     28.000000     71.000000     75.000000   \n",
       "max    246620.000000      99.000000     45.000000     94.000000     95.000000   \n",
       "\n",
       "           Shooting       Defense       Passing      Physical       Control  \\\n",
       "count  18159.000000  18159.000000  18159.000000  18159.000000  18159.000000   \n",
       "mean      47.736274     47.459001     53.710612     64.344512     59.236357   \n",
       "std       15.621702     17.314439     15.113052      9.839120     15.156389   \n",
       "min        7.000000      7.000000      8.000000     22.000000     12.000000   \n",
       "25%       39.000000     35.000000     46.000000     60.000000     54.000000   \n",
       "50%       50.000000     52.000000     57.000000     66.000000     63.000000   \n",
       "75%       59.000000     61.000000     64.000000     71.000000     69.000000   \n",
       "max       88.000000     86.000000     92.000000     89.000000     96.000000   \n",
       "\n",
       "             Mental   GoalKeeping  \n",
       "count  18159.000000  18159.000000  \n",
       "mean      57.958974     16.468087  \n",
       "std        9.933340     17.002775  \n",
       "min       25.000000      1.000000  \n",
       "25%       51.000000     10.000000  \n",
       "50%       58.000000     11.000000  \n",
       "75%       65.000000     12.000000  \n",
       "max       95.000000     89.000000  "
      ]
     },
     "execution_count": 8,
     "metadata": {},
     "output_type": "execute_result"
    }
   ],
   "source": [
    "fifa_df.describe()"
   ]
  },
  {
   "cell_type": "markdown",
   "metadata": {
    "id": "M7gI3AUceQxn"
   },
   "source": [
    "## Tratamiento de datos\n"
   ]
  },
  {
   "cell_type": "markdown",
   "metadata": {
    "id": "lY9Wx2ZVjLfE"
   },
   "source": [
    "### Datos faltantes\n",
    "\n",
    "Antes de poder hacer transformaciones y operaciones en los datos, es importante identificar la posible existencia de datos faltantes. El método ```isna()``` de pandas, permite obtener un dataframe booleano que identifica entradas faltantes. \n",
    "\n",
    "Usémos ```isna()```, ```sum(axis=0)``` y ```to_frame().T``` para resumir el resultado de datos faltantes como un conteo por columnas:"
   ]
  },
  {
   "cell_type": "code",
   "execution_count": 9,
   "metadata": {
    "id": "4V_yaO_lOKnv"
   },
   "outputs": [
    {
     "data": {
      "text/html": [
       "<div>\n",
       "<style scoped>\n",
       "    .dataframe tbody tr th:only-of-type {\n",
       "        vertical-align: middle;\n",
       "    }\n",
       "\n",
       "    .dataframe tbody tr th {\n",
       "        vertical-align: top;\n",
       "    }\n",
       "\n",
       "    .dataframe thead th {\n",
       "        text-align: right;\n",
       "    }\n",
       "</style>\n",
       "<table border=\"1\" class=\"dataframe\">\n",
       "  <thead>\n",
       "    <tr style=\"text-align: right;\">\n",
       "      <th></th>\n",
       "      <th>ID</th>\n",
       "      <th>Name</th>\n",
       "      <th>Nationality</th>\n",
       "      <th>Club</th>\n",
       "      <th>Jersey Number</th>\n",
       "      <th>Value</th>\n",
       "      <th>Wage</th>\n",
       "      <th>Age</th>\n",
       "      <th>Height</th>\n",
       "      <th>Weight</th>\n",
       "      <th>...</th>\n",
       "      <th>Position</th>\n",
       "      <th>Overall</th>\n",
       "      <th>Potential</th>\n",
       "      <th>Shooting</th>\n",
       "      <th>Defense</th>\n",
       "      <th>Passing</th>\n",
       "      <th>Physical</th>\n",
       "      <th>Control</th>\n",
       "      <th>Mental</th>\n",
       "      <th>GoalKeeping</th>\n",
       "    </tr>\n",
       "  </thead>\n",
       "  <tbody>\n",
       "    <tr>\n",
       "      <th>0</th>\n",
       "      <td>0</td>\n",
       "      <td>0</td>\n",
       "      <td>0</td>\n",
       "      <td>241</td>\n",
       "      <td>60</td>\n",
       "      <td>0</td>\n",
       "      <td>0</td>\n",
       "      <td>0</td>\n",
       "      <td>48</td>\n",
       "      <td>48</td>\n",
       "      <td>...</td>\n",
       "      <td>60</td>\n",
       "      <td>0</td>\n",
       "      <td>0</td>\n",
       "      <td>48</td>\n",
       "      <td>48</td>\n",
       "      <td>48</td>\n",
       "      <td>48</td>\n",
       "      <td>48</td>\n",
       "      <td>48</td>\n",
       "      <td>48</td>\n",
       "    </tr>\n",
       "  </tbody>\n",
       "</table>\n",
       "<p>1 rows × 21 columns</p>\n",
       "</div>"
      ],
      "text/plain": [
       "   ID  Name  Nationality  Club  Jersey Number  Value  Wage  Age  Height  \\\n",
       "0   0     0            0   241             60      0     0    0      48   \n",
       "\n",
       "   Weight  ...  Position  Overall  Potential  Shooting  Defense  Passing  \\\n",
       "0      48  ...        60        0          0        48       48       48   \n",
       "\n",
       "   Physical  Control  Mental  GoalKeeping  \n",
       "0        48       48      48           48  \n",
       "\n",
       "[1 rows x 21 columns]"
      ]
     },
     "execution_count": 9,
     "metadata": {},
     "output_type": "execute_result"
    }
   ],
   "source": [
    "fifa_df.isna().sum(axis=0).to_frame().T"
   ]
  },
  {
   "cell_type": "markdown",
   "metadata": {
    "id": "sqr4xWue_fyB"
   },
   "source": [
    "Una manera de tratar con datos faltantes, es eliminar las filas que contienen uno o más datos faltantes, dejando solo registros completos.\n",
    "\n",
    "Ya que para nuestro conjunto de datos la cantidad de faltantes es mínima, podemos usar esta estrategia.\n",
    "\n",
    "Completa la siguiente celda para eliminar filas (```axis=0```) que contengan algún dato faltante (```dropna```):"
   ]
  },
  {
   "cell_type": "code",
   "execution_count": 10,
   "metadata": {
    "id": "3mPe2ufH_RF0"
   },
   "outputs": [],
   "source": [
    "t_df = fifa_df.dropna(axis=0,how='any')"
   ]
  },
  {
   "cell_type": "markdown",
   "metadata": {
    "id": "8uCtFmp1_wsC"
   },
   "source": [
    "Verifica que no hay más datos faltantes:"
   ]
  },
  {
   "cell_type": "code",
   "execution_count": 11,
   "metadata": {
    "id": "RvgIwrck_vFw"
   },
   "outputs": [
    {
     "data": {
      "text/html": [
       "<div>\n",
       "<style scoped>\n",
       "    .dataframe tbody tr th:only-of-type {\n",
       "        vertical-align: middle;\n",
       "    }\n",
       "\n",
       "    .dataframe tbody tr th {\n",
       "        vertical-align: top;\n",
       "    }\n",
       "\n",
       "    .dataframe thead th {\n",
       "        text-align: right;\n",
       "    }\n",
       "</style>\n",
       "<table border=\"1\" class=\"dataframe\">\n",
       "  <thead>\n",
       "    <tr style=\"text-align: right;\">\n",
       "      <th></th>\n",
       "      <th>ID</th>\n",
       "      <th>Name</th>\n",
       "      <th>Nationality</th>\n",
       "      <th>Club</th>\n",
       "      <th>Jersey Number</th>\n",
       "      <th>Value</th>\n",
       "      <th>Wage</th>\n",
       "      <th>Age</th>\n",
       "      <th>Height</th>\n",
       "      <th>Weight</th>\n",
       "      <th>...</th>\n",
       "      <th>Position</th>\n",
       "      <th>Overall</th>\n",
       "      <th>Potential</th>\n",
       "      <th>Shooting</th>\n",
       "      <th>Defense</th>\n",
       "      <th>Passing</th>\n",
       "      <th>Physical</th>\n",
       "      <th>Control</th>\n",
       "      <th>Mental</th>\n",
       "      <th>GoalKeeping</th>\n",
       "    </tr>\n",
       "  </thead>\n",
       "  <tbody>\n",
       "    <tr>\n",
       "      <th>0</th>\n",
       "      <td>0</td>\n",
       "      <td>0</td>\n",
       "      <td>0</td>\n",
       "      <td>0</td>\n",
       "      <td>0</td>\n",
       "      <td>0</td>\n",
       "      <td>0</td>\n",
       "      <td>0</td>\n",
       "      <td>0</td>\n",
       "      <td>0</td>\n",
       "      <td>...</td>\n",
       "      <td>0</td>\n",
       "      <td>0</td>\n",
       "      <td>0</td>\n",
       "      <td>0</td>\n",
       "      <td>0</td>\n",
       "      <td>0</td>\n",
       "      <td>0</td>\n",
       "      <td>0</td>\n",
       "      <td>0</td>\n",
       "      <td>0</td>\n",
       "    </tr>\n",
       "  </tbody>\n",
       "</table>\n",
       "<p>1 rows × 21 columns</p>\n",
       "</div>"
      ],
      "text/plain": [
       "   ID  Name  Nationality  Club  Jersey Number  Value  Wage  Age  Height  \\\n",
       "0   0     0            0     0              0      0     0    0       0   \n",
       "\n",
       "   Weight  ...  Position  Overall  Potential  Shooting  Defense  Passing  \\\n",
       "0       0  ...         0        0          0         0        0        0   \n",
       "\n",
       "   Physical  Control  Mental  GoalKeeping  \n",
       "0         0        0       0            0  \n",
       "\n",
       "[1 rows x 21 columns]"
      ]
     },
     "execution_count": 11,
     "metadata": {},
     "output_type": "execute_result"
    }
   ],
   "source": [
    "empty_columns = t_df.isna().sum(axis=0).to_frame().T\n",
    "empty_columns"
   ]
  },
  {
   "cell_type": "code",
   "execution_count": 12,
   "metadata": {
    "id": "mnwBq3J1-jp1"
   },
   "outputs": [],
   "source": [
    "assert empty_columns.values.sum() == 0, \"Error, aun hay datos faltantes\""
   ]
  },
  {
   "cell_type": "markdown",
   "metadata": {
    "id": "oiKIUMTTAvVX"
   },
   "source": [
    "Finalmente, reemplazar el dataframe original por el nuevo sin elementos faltantes."
   ]
  },
  {
   "cell_type": "code",
   "execution_count": 13,
   "metadata": {
    "id": "0U8cSIyJAvpA"
   },
   "outputs": [],
   "source": [
    "fifa_df = t_df"
   ]
  },
  {
   "cell_type": "markdown",
   "metadata": {
    "id": "-JYl7aVLjHkH"
   },
   "source": [
    "### Transformaciones\n",
    "\n",
    "Las celdas fueron inferidas como tipo ```object``` por pandas. Algunas de éstas contienen datos numéricos que podrían ser útiles para el análisis. \n",
    "\n",
    "Por ejemplo, las columnas ```Wage``` y ```Value``` contienen datos sobre el salario y el valor en el mercado de cada jugador. Ambas columnas contienen el signo de la moneda (€) al inicio y al final pueden contener la abreviación de cantidades (K miles, M millones). \n",
    "\n",
    "Debemos realizar un tratamiento de datos en tales columnas para poder usarlas de manera numérica."
   ]
  },
  {
   "cell_type": "markdown",
   "metadata": {
    "id": "maMPRPAzxbqX"
   },
   "source": [
    "Primero, confirmemos que solo tenemos casos donde las cantidades terminan en K, M o sin abreviaturas. Usemos funciones de agregación.\n",
    "\n",
    "Contemos las veces que aparecen los distintos caracteres al final de los registros en la columna ```Wage```:"
   ]
  },
  {
   "cell_type": "code",
   "execution_count": 14,
   "metadata": {
    "id": "VPojzkU5s_iJ"
   },
   "outputs": [
    {
     "name": "stdout",
     "output_type": "stream",
     "text": [
      "caracteres al principio de las cifras:\n",
      "['€']\n",
      "se observa que todas comienzan con la cifra de euro\n",
      "\n",
      "caracteres al final de las cifras:\n",
      "['K']\n",
      "se observa que todas terminan con K\n",
      "\n"
     ]
    },
    {
     "data": {
      "text/html": [
       "<div>\n",
       "<style scoped>\n",
       "    .dataframe tbody tr th:only-of-type {\n",
       "        vertical-align: middle;\n",
       "    }\n",
       "\n",
       "    .dataframe tbody tr th {\n",
       "        vertical-align: top;\n",
       "    }\n",
       "\n",
       "    .dataframe thead th {\n",
       "        text-align: right;\n",
       "    }\n",
       "</style>\n",
       "<table border=\"1\" class=\"dataframe\">\n",
       "  <thead>\n",
       "    <tr style=\"text-align: right;\">\n",
       "      <th></th>\n",
       "      <th>Wage</th>\n",
       "    </tr>\n",
       "    <tr>\n",
       "      <th>Wage</th>\n",
       "      <th></th>\n",
       "    </tr>\n",
       "  </thead>\n",
       "  <tbody>\n",
       "    <tr>\n",
       "      <th>K</th>\n",
       "      <td>17918</td>\n",
       "    </tr>\n",
       "  </tbody>\n",
       "</table>\n",
       "</div>"
      ],
      "text/plain": [
       "       Wage\n",
       "Wage       \n",
       "K     17918"
      ]
     },
     "execution_count": 14,
     "metadata": {},
     "output_type": "execute_result"
    }
   ],
   "source": [
    "#fifa_df[[\"Wage\"]].groupby(fifa_df.Wage.str[-1]).count()\n",
    "\n",
    "print(\"caracteres al principio de las cifras:\")\n",
    "print(fifa_df.Wage.str[0].unique())\n",
    "print(\"se observa que todas comienzan con la cifra de euro\")\n",
    "print()\n",
    "\n",
    "# así podemos ver qué sufijos usa Value (el 0 no sería un sufijo sino parte de la cifra):\n",
    "print(\"caracteres al final de las cifras:\")\n",
    "print(fifa_df.Wage.str[-1].unique())\n",
    "print(\"se observa que todas terminan con K\")\n",
    "print()\n",
    "\n",
    "\n",
    "fifa_df[[\"Wage\"]].groupby(fifa_df.Wage.str[-1]).count()"
   ]
  },
  {
   "cell_type": "markdown",
   "metadata": {
    "id": "aOrZkbQru0_0"
   },
   "source": [
    "Contemos las veces que aparecen los distintos caracteres al final de los registros en la columna ```Value```:"
   ]
  },
  {
   "cell_type": "code",
   "execution_count": 15,
   "metadata": {
    "id": "y1GjUZ4Gti1d"
   },
   "outputs": [
    {
     "name": "stdout",
     "output_type": "stream",
     "text": [
      "caracteres al principio de las cifras:\n",
      "['€']\n",
      "se observa que todas comienzan con la cifra de euro\n",
      "\n",
      "caracteres al final de las cifras:\n",
      "['M' '0' 'K']\n",
      "\n"
     ]
    },
    {
     "data": {
      "text/html": [
       "<div>\n",
       "<style scoped>\n",
       "    .dataframe tbody tr th:only-of-type {\n",
       "        vertical-align: middle;\n",
       "    }\n",
       "\n",
       "    .dataframe tbody tr th {\n",
       "        vertical-align: top;\n",
       "    }\n",
       "\n",
       "    .dataframe thead th {\n",
       "        text-align: right;\n",
       "    }\n",
       "</style>\n",
       "<table border=\"1\" class=\"dataframe\">\n",
       "  <thead>\n",
       "    <tr style=\"text-align: right;\">\n",
       "      <th></th>\n",
       "      <th>Value</th>\n",
       "    </tr>\n",
       "    <tr>\n",
       "      <th>Value</th>\n",
       "      <th></th>\n",
       "    </tr>\n",
       "  </thead>\n",
       "  <tbody>\n",
       "    <tr>\n",
       "      <th>0</th>\n",
       "      <td>11</td>\n",
       "    </tr>\n",
       "    <tr>\n",
       "      <th>K</th>\n",
       "      <td>11060</td>\n",
       "    </tr>\n",
       "    <tr>\n",
       "      <th>M</th>\n",
       "      <td>6847</td>\n",
       "    </tr>\n",
       "  </tbody>\n",
       "</table>\n",
       "</div>"
      ],
      "text/plain": [
       "       Value\n",
       "Value       \n",
       "0         11\n",
       "K      11060\n",
       "M       6847"
      ]
     },
     "execution_count": 15,
     "metadata": {},
     "output_type": "execute_result"
    }
   ],
   "source": [
    "print(\"caracteres al principio de las cifras:\")\n",
    "print(fifa_df.Value.str[0].unique())\n",
    "print(\"se observa que todas comienzan con la cifra de euro\")\n",
    "print()\n",
    "\n",
    "# así podemos ver qué sufijos usa Value (el 0 no sería un sufijo sino parte de la cifra):\n",
    "print(\"caracteres al final de las cifras:\")\n",
    "print(fifa_df.Value.str[-1].unique())\n",
    "print()\n",
    "\n",
    "\n",
    "\n",
    "fifa_df[[\"Value\"]].groupby(fifa_df.Value.str[-1]).count()"
   ]
  },
  {
   "cell_type": "code",
   "execution_count": 16,
   "metadata": {
    "id": "0Ar7f3NmeTWu"
   },
   "outputs": [],
   "source": [
    "def currency_to_numeric(currency):\n",
    "  \"\"\"\n",
    "  La funcion recibe valores monetarios en un objeto de texto, los tranforma:\n",
    "  1- Elimina el simbolo de la moneda al inicio de la cadena\n",
    "  2- Extrae el caracter adicional al final de la cadena que indica el\n",
    "     multiplo de la cantidad (abreviatura). No siempre hay un simbolo.\n",
    "  3- Usa el valor para devolver la cantidad en numero (multiplica por el valor).\n",
    "  Ej: 250K pasa a 250000\n",
    "  ya que\n",
    "  1K = 1000\n",
    "  1M = 1000000\n",
    "  Sin letra solo parte numerica\n",
    "  \"\"\"\n",
    "  # el multiplo de K o M\n",
    "  symbols = {\"K\": 1000, \"M\": 1000000}\n",
    "  # Actualiza el valor de numeric con la cantidad en currency\n",
    "  numeric = 0.0\n",
    "\n",
    "  # con este diccionario podríamos implementar conversión de moneda:\n",
    "  curr_symbols = {\"€\": 1, \"$\": 1}\n",
    "  moneda = None\n",
    "  multiplier = None\n",
    "  tmpCurrency = currency\n",
    "\n",
    "  for currency_symbol in curr_symbols.keys():\n",
    "    if currency_symbol in  currency:\n",
    "        moneda = currency_symbol\n",
    "        tmpCurrency = tmpCurrency.replace(moneda,'')\n",
    "\n",
    "  for mutiplier_symbol in symbols.keys():\n",
    "    if mutiplier_symbol in currency:\n",
    "        multiplier = mutiplier_symbol\n",
    "        tmpCurrency = tmpCurrency.replace(multiplier,'')\n",
    "\n",
    "  #print(currency, tmpCurrency, moneda, multiplier)\n",
    "        \n",
    "  if multiplier:\n",
    "    tmpCurrency = float(tmpCurrency) * symbols[multiplier]\n",
    "    \n",
    "  if moneda:\n",
    "    tmpCurrency = float(tmpCurrency) * curr_symbols[moneda]\n",
    "  \n",
    "  return tmpCurrency"
   ]
  },
  {
   "cell_type": "markdown",
   "metadata": {
    "id": "fvCFRq0shNl_"
   },
   "source": [
    "Prueba tu función:"
   ]
  },
  {
   "cell_type": "code",
   "execution_count": 17,
   "metadata": {
    "id": "LpevNclWhMBm"
   },
   "outputs": [
    {
     "data": {
      "text/plain": [
       "20.0"
      ]
     },
     "execution_count": 17,
     "metadata": {},
     "output_type": "execute_result"
    }
   ],
   "source": [
    "currency_to_numeric(\"$20\")"
   ]
  },
  {
   "cell_type": "code",
   "execution_count": 18,
   "metadata": {
    "id": "Ti7YRyBRzzuk"
   },
   "outputs": [],
   "source": [
    "assert currency_to_numeric(\"$20\") == 20.0 and currency_to_numeric(\"$50K\") == 50*10.0**3 and currency_to_numeric(\"$10M\") == 10*10.0**6, \"Error\""
   ]
  },
  {
   "cell_type": "markdown",
   "metadata": {
    "id": "2qhnh9vLhQSf"
   },
   "source": [
    "Cambia las columnas ```Wage``` y ```Value``` a numéricos usando ```currency_to_numeric``` elemento por elemento con ```applymap```:"
   ]
  },
  {
   "cell_type": "code",
   "execution_count": 19,
   "metadata": {
    "id": "Md4hPL9ohZXS"
   },
   "outputs": [
    {
     "data": {
      "text/html": [
       "<div>\n",
       "<style scoped>\n",
       "    .dataframe tbody tr th:only-of-type {\n",
       "        vertical-align: middle;\n",
       "    }\n",
       "\n",
       "    .dataframe tbody tr th {\n",
       "        vertical-align: top;\n",
       "    }\n",
       "\n",
       "    .dataframe thead th {\n",
       "        text-align: right;\n",
       "    }\n",
       "</style>\n",
       "<table border=\"1\" class=\"dataframe\">\n",
       "  <thead>\n",
       "    <tr style=\"text-align: right;\">\n",
       "      <th></th>\n",
       "      <th>ID</th>\n",
       "      <th>Name</th>\n",
       "      <th>Nationality</th>\n",
       "      <th>Club</th>\n",
       "      <th>Jersey Number</th>\n",
       "      <th>Value</th>\n",
       "      <th>Wage</th>\n",
       "      <th>Age</th>\n",
       "      <th>Height</th>\n",
       "      <th>Weight</th>\n",
       "      <th>...</th>\n",
       "      <th>Position</th>\n",
       "      <th>Overall</th>\n",
       "      <th>Potential</th>\n",
       "      <th>Shooting</th>\n",
       "      <th>Defense</th>\n",
       "      <th>Passing</th>\n",
       "      <th>Physical</th>\n",
       "      <th>Control</th>\n",
       "      <th>Mental</th>\n",
       "      <th>GoalKeeping</th>\n",
       "    </tr>\n",
       "  </thead>\n",
       "  <tbody>\n",
       "    <tr>\n",
       "      <th>0</th>\n",
       "      <td>158023</td>\n",
       "      <td>L. Messi</td>\n",
       "      <td>Argentina</td>\n",
       "      <td>FC Barcelona</td>\n",
       "      <td>10.0</td>\n",
       "      <td>110500000.0</td>\n",
       "      <td>565000.0</td>\n",
       "      <td>31</td>\n",
       "      <td>5'7</td>\n",
       "      <td>159lbs</td>\n",
       "      <td>...</td>\n",
       "      <td>RF</td>\n",
       "      <td>94</td>\n",
       "      <td>94</td>\n",
       "      <td>86.0</td>\n",
       "      <td>41.0</td>\n",
       "      <td>87.0</td>\n",
       "      <td>80.0</td>\n",
       "      <td>96.0</td>\n",
       "      <td>95.0</td>\n",
       "      <td>11.0</td>\n",
       "    </tr>\n",
       "    <tr>\n",
       "      <th>1</th>\n",
       "      <td>20801</td>\n",
       "      <td>Cristiano Ronaldo</td>\n",
       "      <td>Portugal</td>\n",
       "      <td>Juventus</td>\n",
       "      <td>7.0</td>\n",
       "      <td>77000000.0</td>\n",
       "      <td>405000.0</td>\n",
       "      <td>33</td>\n",
       "      <td>6'2</td>\n",
       "      <td>183lbs</td>\n",
       "      <td>...</td>\n",
       "      <td>ST</td>\n",
       "      <td>94</td>\n",
       "      <td>94</td>\n",
       "      <td>88.0</td>\n",
       "      <td>41.0</td>\n",
       "      <td>81.0</td>\n",
       "      <td>86.0</td>\n",
       "      <td>84.0</td>\n",
       "      <td>91.0</td>\n",
       "      <td>12.0</td>\n",
       "    </tr>\n",
       "    <tr>\n",
       "      <th>2</th>\n",
       "      <td>190871</td>\n",
       "      <td>Neymar Jr</td>\n",
       "      <td>Brazil</td>\n",
       "      <td>Paris Saint-Germain</td>\n",
       "      <td>10.0</td>\n",
       "      <td>118500000.0</td>\n",
       "      <td>290000.0</td>\n",
       "      <td>26</td>\n",
       "      <td>5'9</td>\n",
       "      <td>150lbs</td>\n",
       "      <td>...</td>\n",
       "      <td>LW</td>\n",
       "      <td>92</td>\n",
       "      <td>93</td>\n",
       "      <td>81.0</td>\n",
       "      <td>42.0</td>\n",
       "      <td>80.0</td>\n",
       "      <td>79.0</td>\n",
       "      <td>92.0</td>\n",
       "      <td>92.0</td>\n",
       "      <td>12.0</td>\n",
       "    </tr>\n",
       "    <tr>\n",
       "      <th>3</th>\n",
       "      <td>193080</td>\n",
       "      <td>De Gea</td>\n",
       "      <td>Spain</td>\n",
       "      <td>Manchester United</td>\n",
       "      <td>1.0</td>\n",
       "      <td>72000000.0</td>\n",
       "      <td>260000.0</td>\n",
       "      <td>27</td>\n",
       "      <td>6'4</td>\n",
       "      <td>168lbs</td>\n",
       "      <td>...</td>\n",
       "      <td>GK</td>\n",
       "      <td>91</td>\n",
       "      <td>93</td>\n",
       "      <td>21.0</td>\n",
       "      <td>18.0</td>\n",
       "      <td>39.0</td>\n",
       "      <td>56.0</td>\n",
       "      <td>34.0</td>\n",
       "      <td>75.0</td>\n",
       "      <td>89.0</td>\n",
       "    </tr>\n",
       "    <tr>\n",
       "      <th>4</th>\n",
       "      <td>192985</td>\n",
       "      <td>K. De Bruyne</td>\n",
       "      <td>Belgium</td>\n",
       "      <td>Manchester City</td>\n",
       "      <td>7.0</td>\n",
       "      <td>102000000.0</td>\n",
       "      <td>355000.0</td>\n",
       "      <td>27</td>\n",
       "      <td>5'11</td>\n",
       "      <td>154lbs</td>\n",
       "      <td>...</td>\n",
       "      <td>RCM</td>\n",
       "      <td>91</td>\n",
       "      <td>92</td>\n",
       "      <td>81.0</td>\n",
       "      <td>65.0</td>\n",
       "      <td>92.0</td>\n",
       "      <td>77.0</td>\n",
       "      <td>85.0</td>\n",
       "      <td>91.0</td>\n",
       "      <td>11.0</td>\n",
       "    </tr>\n",
       "  </tbody>\n",
       "</table>\n",
       "<p>5 rows × 21 columns</p>\n",
       "</div>"
      ],
      "text/plain": [
       "       ID               Name Nationality                 Club  Jersey Number  \\\n",
       "0  158023           L. Messi   Argentina         FC Barcelona           10.0   \n",
       "1   20801  Cristiano Ronaldo    Portugal             Juventus            7.0   \n",
       "2  190871          Neymar Jr      Brazil  Paris Saint-Germain           10.0   \n",
       "3  193080             De Gea       Spain    Manchester United            1.0   \n",
       "4  192985       K. De Bruyne     Belgium      Manchester City            7.0   \n",
       "\n",
       "         Value      Wage  Age Height  Weight  ... Position Overall  Potential  \\\n",
       "0  110500000.0  565000.0   31    5'7  159lbs  ...       RF      94         94   \n",
       "1   77000000.0  405000.0   33    6'2  183lbs  ...       ST      94         94   \n",
       "2  118500000.0  290000.0   26    5'9  150lbs  ...       LW      92         93   \n",
       "3   72000000.0  260000.0   27    6'4  168lbs  ...       GK      91         93   \n",
       "4  102000000.0  355000.0   27   5'11  154lbs  ...      RCM      91         92   \n",
       "\n",
       "   Shooting  Defense  Passing  Physical  Control  Mental  GoalKeeping  \n",
       "0      86.0     41.0     87.0      80.0     96.0    95.0         11.0  \n",
       "1      88.0     41.0     81.0      86.0     84.0    91.0         12.0  \n",
       "2      81.0     42.0     80.0      79.0     92.0    92.0         12.0  \n",
       "3      21.0     18.0     39.0      56.0     34.0    75.0         89.0  \n",
       "4      81.0     65.0     92.0      77.0     85.0    91.0         11.0  \n",
       "\n",
       "[5 rows x 21 columns]"
      ]
     },
     "execution_count": 19,
     "metadata": {},
     "output_type": "execute_result"
    }
   ],
   "source": [
    "fifa_df[[\"Wage\", \"Value\"]] = fifa_df[[\"Wage\", \"Value\"]].applymap(currency_to_numeric)\n",
    "fifa_df.head()"
   ]
  },
  {
   "cell_type": "markdown",
   "metadata": {
    "id": "sWhWdHIr4x7O"
   },
   "source": [
    "### Suplementando la información\n",
    "\n",
    "En el set de datos, tenemos una columna ```Position``` que indica la posición en la que el jugador se desempeña en el campo. Algo que podrás notar, es que originalmente la posición está de manera abreviada, si no conoces las abreviaturas, será complicado saber en qué posición juega cada jugador. \n",
    "\n",
    "\n",
    "Para solucionar esto, usémos otro set de datos para cambiar de abreviatura a algo más descriptivo, pero manteniendo la abreviatura.\n",
    "\n",
    "La siguiente imágen muestra las posiciónes más comunes en el campo:\n",
    "![Posiciones de juego](https://raw.githubusercontent.com/jhermosillo/DIPLOMADO_CDP/main/01%20Programaci%C3%B3n%20en%20Python/images/SoccerFieldPositions.png)\n"
   ]
  },
  {
   "cell_type": "markdown",
   "metadata": {
    "id": "juf6Sw6i64es"
   },
   "source": [
    "Vamos a utilizar un nuevo set de datos que contiene la abreviatura de cada posición (```Abbreviation```) y su significado (```Full```).\n",
    "\n",
    "Carga el archivo desde github a colab con la siguiente celda:"
   ]
  },
  {
   "cell_type": "code",
   "execution_count": 20,
   "metadata": {
    "id": "EpicEmIrAl7M"
   },
   "outputs": [
    {
     "name": "stdout",
     "output_type": "stream",
     "text": [
      "  % Total    % Received % Xferd  Average Speed   Time    Time     Time  Current\n",
      "                                 Dload  Upload   Total   Spent    Left  Speed\n",
      "100   772  100   772    0     0    140      0  0:00:05  0:00:05 --:--:--   155\n"
     ]
    }
   ],
   "source": [
    "# Fetch the dataset using the raw GitHub URL.\n",
    "!curl --remote-name \\\n",
    "     -H 'Accept: application/vnd.github.v3.raw' \\\n",
    "     --location https://raw.githubusercontent.com/DCDPUAEM/DCDP/main/01%20Programaci%C3%B3n%20en%20Python/data/fifa/positions.csv"
   ]
  },
  {
   "cell_type": "markdown",
   "metadata": {
    "id": "_8WhqOUzBxI0"
   },
   "source": [
    "Ejecuta la siguiente celda para crear y ver el nuevo dataframe con los datos de las posiciones:"
   ]
  },
  {
   "cell_type": "code",
   "execution_count": 21,
   "metadata": {
    "id": "fEuD-qyI4yWj"
   },
   "outputs": [
    {
     "data": {
      "text/html": [
       "<div>\n",
       "<style scoped>\n",
       "    .dataframe tbody tr th:only-of-type {\n",
       "        vertical-align: middle;\n",
       "    }\n",
       "\n",
       "    .dataframe tbody tr th {\n",
       "        vertical-align: top;\n",
       "    }\n",
       "\n",
       "    .dataframe thead th {\n",
       "        text-align: right;\n",
       "    }\n",
       "</style>\n",
       "<table border=\"1\" class=\"dataframe\">\n",
       "  <thead>\n",
       "    <tr style=\"text-align: right;\">\n",
       "      <th></th>\n",
       "      <th>Abbreviation</th>\n",
       "      <th>Full</th>\n",
       "    </tr>\n",
       "  </thead>\n",
       "  <tbody>\n",
       "    <tr>\n",
       "      <th>0</th>\n",
       "      <td>GK</td>\n",
       "      <td>Goalkeeper</td>\n",
       "    </tr>\n",
       "    <tr>\n",
       "      <th>1</th>\n",
       "      <td>SW</td>\n",
       "      <td>Sweeper</td>\n",
       "    </tr>\n",
       "    <tr>\n",
       "      <th>2</th>\n",
       "      <td>CB</td>\n",
       "      <td>Center Back</td>\n",
       "    </tr>\n",
       "    <tr>\n",
       "      <th>3</th>\n",
       "      <td>LCB</td>\n",
       "      <td>Left Center Back</td>\n",
       "    </tr>\n",
       "    <tr>\n",
       "      <th>4</th>\n",
       "      <td>RCB</td>\n",
       "      <td>Right Center Back</td>\n",
       "    </tr>\n",
       "  </tbody>\n",
       "</table>\n",
       "</div>"
      ],
      "text/plain": [
       "  Abbreviation               Full\n",
       "0           GK         Goalkeeper\n",
       "1           SW            Sweeper\n",
       "2           CB        Center Back\n",
       "3          LCB   Left Center Back\n",
       "4          RCB  Right Center Back"
      ]
     },
     "execution_count": 21,
     "metadata": {},
     "output_type": "execute_result"
    }
   ],
   "source": [
    "positions_df = pd.read_csv(\"positions.csv\", header=0, skipinitialspace=True)\n",
    "positions_df.head()"
   ]
  },
  {
   "cell_type": "markdown",
   "metadata": {
    "id": "ZC62QetW7Ier"
   },
   "source": [
    "Utiliza el nuevo dataframe para actualizar la columna ```Position``` en el dataframe de jugadores por la posición descriptiva + abreviada.\n",
    "\n",
    "Primero, debemos de *unir* ambos dataframes, ambos comparten una columna (pero tienen diferentes nombre) la posición abreviada.\n",
    "\n",
    "Utiliza un método de pandas para unir el dataframe ```fifa_df``` con ```positions_df```.\n",
    "\n",
    "*Tip: Queremos unir cada fila de la **izquierda** (cada jugador) con una sola fila de la **derecha** (su posición completa en el campo).*"
   ]
  },
  {
   "cell_type": "code",
   "execution_count": 22,
   "metadata": {
    "id": "1UsLj_dY7UUG"
   },
   "outputs": [],
   "source": [
    "merged_df = fifa_df.merge(positions_df,how='inner',left_on='Position',right_on='Abbreviation')"
   ]
  },
  {
   "cell_type": "code",
   "execution_count": 23,
   "metadata": {
    "id": "andWs45D6jV5"
   },
   "outputs": [
    {
     "data": {
      "text/html": [
       "<div>\n",
       "<style scoped>\n",
       "    .dataframe tbody tr th:only-of-type {\n",
       "        vertical-align: middle;\n",
       "    }\n",
       "\n",
       "    .dataframe tbody tr th {\n",
       "        vertical-align: top;\n",
       "    }\n",
       "\n",
       "    .dataframe thead th {\n",
       "        text-align: right;\n",
       "    }\n",
       "</style>\n",
       "<table border=\"1\" class=\"dataframe\">\n",
       "  <thead>\n",
       "    <tr style=\"text-align: right;\">\n",
       "      <th></th>\n",
       "      <th>ID</th>\n",
       "      <th>Name</th>\n",
       "      <th>Nationality</th>\n",
       "      <th>Club</th>\n",
       "      <th>Jersey Number</th>\n",
       "      <th>Value</th>\n",
       "      <th>Wage</th>\n",
       "      <th>Age</th>\n",
       "      <th>Height</th>\n",
       "      <th>Weight</th>\n",
       "      <th>...</th>\n",
       "      <th>Potential</th>\n",
       "      <th>Shooting</th>\n",
       "      <th>Defense</th>\n",
       "      <th>Passing</th>\n",
       "      <th>Physical</th>\n",
       "      <th>Control</th>\n",
       "      <th>Mental</th>\n",
       "      <th>GoalKeeping</th>\n",
       "      <th>Abbreviation</th>\n",
       "      <th>Full</th>\n",
       "    </tr>\n",
       "  </thead>\n",
       "  <tbody>\n",
       "    <tr>\n",
       "      <th>0</th>\n",
       "      <td>158023</td>\n",
       "      <td>L. Messi</td>\n",
       "      <td>Argentina</td>\n",
       "      <td>FC Barcelona</td>\n",
       "      <td>10.0</td>\n",
       "      <td>110500000.0</td>\n",
       "      <td>565000.0</td>\n",
       "      <td>31</td>\n",
       "      <td>5'7</td>\n",
       "      <td>159lbs</td>\n",
       "      <td>...</td>\n",
       "      <td>94</td>\n",
       "      <td>86.0</td>\n",
       "      <td>41.0</td>\n",
       "      <td>87.0</td>\n",
       "      <td>80.0</td>\n",
       "      <td>96.0</td>\n",
       "      <td>95.0</td>\n",
       "      <td>11.0</td>\n",
       "      <td>RF</td>\n",
       "      <td>Right Forward</td>\n",
       "    </tr>\n",
       "    <tr>\n",
       "      <th>1</th>\n",
       "      <td>175943</td>\n",
       "      <td>D. Mertens</td>\n",
       "      <td>Belgium</td>\n",
       "      <td>Napoli</td>\n",
       "      <td>14.0</td>\n",
       "      <td>45000000.0</td>\n",
       "      <td>135000.0</td>\n",
       "      <td>31</td>\n",
       "      <td>5'7</td>\n",
       "      <td>134lbs</td>\n",
       "      <td>...</td>\n",
       "      <td>87</td>\n",
       "      <td>74.0</td>\n",
       "      <td>46.0</td>\n",
       "      <td>78.0</td>\n",
       "      <td>77.0</td>\n",
       "      <td>91.0</td>\n",
       "      <td>84.0</td>\n",
       "      <td>8.0</td>\n",
       "      <td>RF</td>\n",
       "      <td>Right Forward</td>\n",
       "    </tr>\n",
       "    <tr>\n",
       "      <th>2</th>\n",
       "      <td>172114</td>\n",
       "      <td>D. Valeri</td>\n",
       "      <td>Argentina</td>\n",
       "      <td>Portland Timbers</td>\n",
       "      <td>8.0</td>\n",
       "      <td>11500000.0</td>\n",
       "      <td>12000.0</td>\n",
       "      <td>32</td>\n",
       "      <td>5'10</td>\n",
       "      <td>165lbs</td>\n",
       "      <td>...</td>\n",
       "      <td>80</td>\n",
       "      <td>79.0</td>\n",
       "      <td>46.0</td>\n",
       "      <td>78.0</td>\n",
       "      <td>69.0</td>\n",
       "      <td>78.0</td>\n",
       "      <td>82.0</td>\n",
       "      <td>12.0</td>\n",
       "      <td>RF</td>\n",
       "      <td>Right Forward</td>\n",
       "    </tr>\n",
       "    <tr>\n",
       "      <th>3</th>\n",
       "      <td>150516</td>\n",
       "      <td>L. Podolski</td>\n",
       "      <td>Germany</td>\n",
       "      <td>Vissel Kobe</td>\n",
       "      <td>10.0</td>\n",
       "      <td>6500000.0</td>\n",
       "      <td>11000.0</td>\n",
       "      <td>33</td>\n",
       "      <td>6'0</td>\n",
       "      <td>183lbs</td>\n",
       "      <td>...</td>\n",
       "      <td>78</td>\n",
       "      <td>80.0</td>\n",
       "      <td>49.0</td>\n",
       "      <td>73.0</td>\n",
       "      <td>73.0</td>\n",
       "      <td>75.0</td>\n",
       "      <td>78.0</td>\n",
       "      <td>11.0</td>\n",
       "      <td>RF</td>\n",
       "      <td>Right Forward</td>\n",
       "    </tr>\n",
       "    <tr>\n",
       "      <th>4</th>\n",
       "      <td>201313</td>\n",
       "      <td>C. Ciano</td>\n",
       "      <td>Italy</td>\n",
       "      <td>Frosinone</td>\n",
       "      <td>28.0</td>\n",
       "      <td>6500000.0</td>\n",
       "      <td>17000.0</td>\n",
       "      <td>28</td>\n",
       "      <td>5'9</td>\n",
       "      <td>161lbs</td>\n",
       "      <td>...</td>\n",
       "      <td>75</td>\n",
       "      <td>70.0</td>\n",
       "      <td>32.0</td>\n",
       "      <td>72.0</td>\n",
       "      <td>72.0</td>\n",
       "      <td>77.0</td>\n",
       "      <td>72.0</td>\n",
       "      <td>9.0</td>\n",
       "      <td>RF</td>\n",
       "      <td>Right Forward</td>\n",
       "    </tr>\n",
       "  </tbody>\n",
       "</table>\n",
       "<p>5 rows × 23 columns</p>\n",
       "</div>"
      ],
      "text/plain": [
       "       ID         Name Nationality              Club  Jersey Number  \\\n",
       "0  158023     L. Messi   Argentina      FC Barcelona           10.0   \n",
       "1  175943   D. Mertens     Belgium            Napoli           14.0   \n",
       "2  172114    D. Valeri   Argentina  Portland Timbers            8.0   \n",
       "3  150516  L. Podolski     Germany       Vissel Kobe           10.0   \n",
       "4  201313     C. Ciano       Italy         Frosinone           28.0   \n",
       "\n",
       "         Value      Wage  Age Height  Weight  ... Potential Shooting  Defense  \\\n",
       "0  110500000.0  565000.0   31    5'7  159lbs  ...        94     86.0     41.0   \n",
       "1   45000000.0  135000.0   31    5'7  134lbs  ...        87     74.0     46.0   \n",
       "2   11500000.0   12000.0   32   5'10  165lbs  ...        80     79.0     46.0   \n",
       "3    6500000.0   11000.0   33    6'0  183lbs  ...        78     80.0     49.0   \n",
       "4    6500000.0   17000.0   28    5'9  161lbs  ...        75     70.0     32.0   \n",
       "\n",
       "   Passing  Physical  Control  Mental  GoalKeeping  Abbreviation  \\\n",
       "0     87.0      80.0     96.0    95.0         11.0            RF   \n",
       "1     78.0      77.0     91.0    84.0          8.0            RF   \n",
       "2     78.0      69.0     78.0    82.0         12.0            RF   \n",
       "3     73.0      73.0     75.0    78.0         11.0            RF   \n",
       "4     72.0      72.0     77.0    72.0          9.0            RF   \n",
       "\n",
       "            Full  \n",
       "0  Right Forward  \n",
       "1  Right Forward  \n",
       "2  Right Forward  \n",
       "3  Right Forward  \n",
       "4  Right Forward  \n",
       "\n",
       "[5 rows x 23 columns]"
      ]
     },
     "execution_count": 23,
     "metadata": {},
     "output_type": "execute_result"
    }
   ],
   "source": [
    "merged_df.head()"
   ]
  },
  {
   "cell_type": "code",
   "execution_count": 24,
   "metadata": {
    "id": "AGYWwD_9C_17"
   },
   "outputs": [
    {
     "name": "stdout",
     "output_type": "stream",
     "text": [
      "La union de ambos dataframes contiene  23  columnas\n"
     ]
    }
   ],
   "source": [
    "assert len(merged_df.columns) == 23, \"Error\"\n",
    "print(\"La union de ambos dataframes contiene \", len(merged_df.columns), \" columnas\")"
   ]
  },
  {
   "cell_type": "markdown",
   "metadata": {
    "id": "WEZT4Via5wL_"
   },
   "source": [
    "Usemos la nueva columna ```Full``` para actualizar la columna ```Position``` para que contenga el significado y abreviatura de la posición:\n",
    "\n",
    "```merged_df[\"Full\"] + \" (\" + merged_df[\"Position\"] +\")\"```"
   ]
  },
  {
   "cell_type": "code",
   "execution_count": 25,
   "metadata": {
    "id": "KVKr0Zry5wcb"
   },
   "outputs": [],
   "source": [
    "merged_df[\"Position\"] = merged_df[\"Full\"] + \" (\" + merged_df[\"Position\"] +\")\""
   ]
  },
  {
   "cell_type": "markdown",
   "metadata": {
    "id": "QXnqnZK6GL9k"
   },
   "source": [
    "Muestra la columna actualizada:"
   ]
  },
  {
   "cell_type": "code",
   "execution_count": 26,
   "metadata": {
    "id": "MpKl_59uGLcI"
   },
   "outputs": [
    {
     "data": {
      "text/plain": [
       "0    Right Forward (RF)\n",
       "1    Right Forward (RF)\n",
       "2    Right Forward (RF)\n",
       "Name: Position, dtype: object"
      ]
     },
     "execution_count": 26,
     "metadata": {},
     "output_type": "execute_result"
    }
   ],
   "source": [
    "merged_df[\"Position\"].head(3)"
   ]
  },
  {
   "cell_type": "markdown",
   "metadata": {
    "id": "xmeIYYIa5nq5"
   },
   "source": [
    "Ahora, tenemos algunas columnas adicionales que ya no son útiles.\n",
    "\n",
    "Eliminemos las columnas ```Abbreviation``` y ```Full``` del dataframe usando ```drop()```:"
   ]
  },
  {
   "cell_type": "code",
   "execution_count": 27,
   "metadata": {
    "id": "_pAUfr7M5oU-"
   },
   "outputs": [],
   "source": [
    "merged_df = merged_df.drop([\"Abbreviation\", \"Full\"], axis=1)"
   ]
  },
  {
   "cell_type": "code",
   "execution_count": 28,
   "metadata": {
    "id": "K4Qqvacs68Ri"
   },
   "outputs": [
    {
     "data": {
      "text/html": [
       "<div>\n",
       "<style scoped>\n",
       "    .dataframe tbody tr th:only-of-type {\n",
       "        vertical-align: middle;\n",
       "    }\n",
       "\n",
       "    .dataframe tbody tr th {\n",
       "        vertical-align: top;\n",
       "    }\n",
       "\n",
       "    .dataframe thead th {\n",
       "        text-align: right;\n",
       "    }\n",
       "</style>\n",
       "<table border=\"1\" class=\"dataframe\">\n",
       "  <thead>\n",
       "    <tr style=\"text-align: right;\">\n",
       "      <th></th>\n",
       "      <th>ID</th>\n",
       "      <th>Name</th>\n",
       "      <th>Nationality</th>\n",
       "      <th>Club</th>\n",
       "      <th>Jersey Number</th>\n",
       "      <th>Value</th>\n",
       "      <th>Wage</th>\n",
       "      <th>Age</th>\n",
       "      <th>Height</th>\n",
       "      <th>Weight</th>\n",
       "      <th>...</th>\n",
       "      <th>Position</th>\n",
       "      <th>Overall</th>\n",
       "      <th>Potential</th>\n",
       "      <th>Shooting</th>\n",
       "      <th>Defense</th>\n",
       "      <th>Passing</th>\n",
       "      <th>Physical</th>\n",
       "      <th>Control</th>\n",
       "      <th>Mental</th>\n",
       "      <th>GoalKeeping</th>\n",
       "    </tr>\n",
       "  </thead>\n",
       "  <tbody>\n",
       "    <tr>\n",
       "      <th>0</th>\n",
       "      <td>158023</td>\n",
       "      <td>L. Messi</td>\n",
       "      <td>Argentina</td>\n",
       "      <td>FC Barcelona</td>\n",
       "      <td>10.0</td>\n",
       "      <td>110500000.0</td>\n",
       "      <td>565000.0</td>\n",
       "      <td>31</td>\n",
       "      <td>5'7</td>\n",
       "      <td>159lbs</td>\n",
       "      <td>...</td>\n",
       "      <td>Right Forward (RF)</td>\n",
       "      <td>94</td>\n",
       "      <td>94</td>\n",
       "      <td>86.0</td>\n",
       "      <td>41.0</td>\n",
       "      <td>87.0</td>\n",
       "      <td>80.0</td>\n",
       "      <td>96.0</td>\n",
       "      <td>95.0</td>\n",
       "      <td>11.0</td>\n",
       "    </tr>\n",
       "    <tr>\n",
       "      <th>1</th>\n",
       "      <td>175943</td>\n",
       "      <td>D. Mertens</td>\n",
       "      <td>Belgium</td>\n",
       "      <td>Napoli</td>\n",
       "      <td>14.0</td>\n",
       "      <td>45000000.0</td>\n",
       "      <td>135000.0</td>\n",
       "      <td>31</td>\n",
       "      <td>5'7</td>\n",
       "      <td>134lbs</td>\n",
       "      <td>...</td>\n",
       "      <td>Right Forward (RF)</td>\n",
       "      <td>87</td>\n",
       "      <td>87</td>\n",
       "      <td>74.0</td>\n",
       "      <td>46.0</td>\n",
       "      <td>78.0</td>\n",
       "      <td>77.0</td>\n",
       "      <td>91.0</td>\n",
       "      <td>84.0</td>\n",
       "      <td>8.0</td>\n",
       "    </tr>\n",
       "    <tr>\n",
       "      <th>2</th>\n",
       "      <td>172114</td>\n",
       "      <td>D. Valeri</td>\n",
       "      <td>Argentina</td>\n",
       "      <td>Portland Timbers</td>\n",
       "      <td>8.0</td>\n",
       "      <td>11500000.0</td>\n",
       "      <td>12000.0</td>\n",
       "      <td>32</td>\n",
       "      <td>5'10</td>\n",
       "      <td>165lbs</td>\n",
       "      <td>...</td>\n",
       "      <td>Right Forward (RF)</td>\n",
       "      <td>80</td>\n",
       "      <td>80</td>\n",
       "      <td>79.0</td>\n",
       "      <td>46.0</td>\n",
       "      <td>78.0</td>\n",
       "      <td>69.0</td>\n",
       "      <td>78.0</td>\n",
       "      <td>82.0</td>\n",
       "      <td>12.0</td>\n",
       "    </tr>\n",
       "  </tbody>\n",
       "</table>\n",
       "<p>3 rows × 21 columns</p>\n",
       "</div>"
      ],
      "text/plain": [
       "       ID        Name Nationality              Club  Jersey Number  \\\n",
       "0  158023    L. Messi   Argentina      FC Barcelona           10.0   \n",
       "1  175943  D. Mertens     Belgium            Napoli           14.0   \n",
       "2  172114   D. Valeri   Argentina  Portland Timbers            8.0   \n",
       "\n",
       "         Value      Wage  Age Height  Weight  ...            Position Overall  \\\n",
       "0  110500000.0  565000.0   31    5'7  159lbs  ...  Right Forward (RF)      94   \n",
       "1   45000000.0  135000.0   31    5'7  134lbs  ...  Right Forward (RF)      87   \n",
       "2   11500000.0   12000.0   32   5'10  165lbs  ...  Right Forward (RF)      80   \n",
       "\n",
       "   Potential  Shooting  Defense  Passing  Physical  Control  Mental  \\\n",
       "0         94      86.0     41.0     87.0      80.0     96.0    95.0   \n",
       "1         87      74.0     46.0     78.0      77.0     91.0    84.0   \n",
       "2         80      79.0     46.0     78.0      69.0     78.0    82.0   \n",
       "\n",
       "   GoalKeeping  \n",
       "0         11.0  \n",
       "1          8.0  \n",
       "2         12.0  \n",
       "\n",
       "[3 rows x 21 columns]"
      ]
     },
     "execution_count": 28,
     "metadata": {},
     "output_type": "execute_result"
    }
   ],
   "source": [
    "merged_df.head(3)"
   ]
  },
  {
   "cell_type": "code",
   "execution_count": 29,
   "metadata": {
    "id": "YII9iv1PG3Ux"
   },
   "outputs": [],
   "source": [
    "assert len(merged_df.columns) == 21, \"Error\""
   ]
  },
  {
   "cell_type": "markdown",
   "metadata": {
    "id": "zAUeeSXvxU6g"
   },
   "source": [
    "Asignemos al dataframe original ```fifa_df``` el nuevo dataframe con el tratamiento de datos ya realizado:"
   ]
  },
  {
   "cell_type": "code",
   "execution_count": 30,
   "metadata": {
    "id": "mFz5iU9SxScb"
   },
   "outputs": [
    {
     "data": {
      "text/html": [
       "<div>\n",
       "<style scoped>\n",
       "    .dataframe tbody tr th:only-of-type {\n",
       "        vertical-align: middle;\n",
       "    }\n",
       "\n",
       "    .dataframe tbody tr th {\n",
       "        vertical-align: top;\n",
       "    }\n",
       "\n",
       "    .dataframe thead th {\n",
       "        text-align: right;\n",
       "    }\n",
       "</style>\n",
       "<table border=\"1\" class=\"dataframe\">\n",
       "  <thead>\n",
       "    <tr style=\"text-align: right;\">\n",
       "      <th></th>\n",
       "      <th>ID</th>\n",
       "      <th>Name</th>\n",
       "      <th>Nationality</th>\n",
       "      <th>Club</th>\n",
       "      <th>Jersey Number</th>\n",
       "      <th>Value</th>\n",
       "      <th>Wage</th>\n",
       "      <th>Age</th>\n",
       "      <th>Height</th>\n",
       "      <th>Weight</th>\n",
       "      <th>...</th>\n",
       "      <th>Position</th>\n",
       "      <th>Overall</th>\n",
       "      <th>Potential</th>\n",
       "      <th>Shooting</th>\n",
       "      <th>Defense</th>\n",
       "      <th>Passing</th>\n",
       "      <th>Physical</th>\n",
       "      <th>Control</th>\n",
       "      <th>Mental</th>\n",
       "      <th>GoalKeeping</th>\n",
       "    </tr>\n",
       "  </thead>\n",
       "  <tbody>\n",
       "    <tr>\n",
       "      <th>0</th>\n",
       "      <td>158023</td>\n",
       "      <td>L. Messi</td>\n",
       "      <td>Argentina</td>\n",
       "      <td>FC Barcelona</td>\n",
       "      <td>10.0</td>\n",
       "      <td>110500000.0</td>\n",
       "      <td>565000.0</td>\n",
       "      <td>31</td>\n",
       "      <td>5'7</td>\n",
       "      <td>159lbs</td>\n",
       "      <td>...</td>\n",
       "      <td>Right Forward (RF)</td>\n",
       "      <td>94</td>\n",
       "      <td>94</td>\n",
       "      <td>86.0</td>\n",
       "      <td>41.0</td>\n",
       "      <td>87.0</td>\n",
       "      <td>80.0</td>\n",
       "      <td>96.0</td>\n",
       "      <td>95.0</td>\n",
       "      <td>11.0</td>\n",
       "    </tr>\n",
       "    <tr>\n",
       "      <th>1</th>\n",
       "      <td>175943</td>\n",
       "      <td>D. Mertens</td>\n",
       "      <td>Belgium</td>\n",
       "      <td>Napoli</td>\n",
       "      <td>14.0</td>\n",
       "      <td>45000000.0</td>\n",
       "      <td>135000.0</td>\n",
       "      <td>31</td>\n",
       "      <td>5'7</td>\n",
       "      <td>134lbs</td>\n",
       "      <td>...</td>\n",
       "      <td>Right Forward (RF)</td>\n",
       "      <td>87</td>\n",
       "      <td>87</td>\n",
       "      <td>74.0</td>\n",
       "      <td>46.0</td>\n",
       "      <td>78.0</td>\n",
       "      <td>77.0</td>\n",
       "      <td>91.0</td>\n",
       "      <td>84.0</td>\n",
       "      <td>8.0</td>\n",
       "    </tr>\n",
       "    <tr>\n",
       "      <th>2</th>\n",
       "      <td>172114</td>\n",
       "      <td>D. Valeri</td>\n",
       "      <td>Argentina</td>\n",
       "      <td>Portland Timbers</td>\n",
       "      <td>8.0</td>\n",
       "      <td>11500000.0</td>\n",
       "      <td>12000.0</td>\n",
       "      <td>32</td>\n",
       "      <td>5'10</td>\n",
       "      <td>165lbs</td>\n",
       "      <td>...</td>\n",
       "      <td>Right Forward (RF)</td>\n",
       "      <td>80</td>\n",
       "      <td>80</td>\n",
       "      <td>79.0</td>\n",
       "      <td>46.0</td>\n",
       "      <td>78.0</td>\n",
       "      <td>69.0</td>\n",
       "      <td>78.0</td>\n",
       "      <td>82.0</td>\n",
       "      <td>12.0</td>\n",
       "    </tr>\n",
       "    <tr>\n",
       "      <th>3</th>\n",
       "      <td>150516</td>\n",
       "      <td>L. Podolski</td>\n",
       "      <td>Germany</td>\n",
       "      <td>Vissel Kobe</td>\n",
       "      <td>10.0</td>\n",
       "      <td>6500000.0</td>\n",
       "      <td>11000.0</td>\n",
       "      <td>33</td>\n",
       "      <td>6'0</td>\n",
       "      <td>183lbs</td>\n",
       "      <td>...</td>\n",
       "      <td>Right Forward (RF)</td>\n",
       "      <td>78</td>\n",
       "      <td>78</td>\n",
       "      <td>80.0</td>\n",
       "      <td>49.0</td>\n",
       "      <td>73.0</td>\n",
       "      <td>73.0</td>\n",
       "      <td>75.0</td>\n",
       "      <td>78.0</td>\n",
       "      <td>11.0</td>\n",
       "    </tr>\n",
       "    <tr>\n",
       "      <th>4</th>\n",
       "      <td>201313</td>\n",
       "      <td>C. Ciano</td>\n",
       "      <td>Italy</td>\n",
       "      <td>Frosinone</td>\n",
       "      <td>28.0</td>\n",
       "      <td>6500000.0</td>\n",
       "      <td>17000.0</td>\n",
       "      <td>28</td>\n",
       "      <td>5'9</td>\n",
       "      <td>161lbs</td>\n",
       "      <td>...</td>\n",
       "      <td>Right Forward (RF)</td>\n",
       "      <td>75</td>\n",
       "      <td>75</td>\n",
       "      <td>70.0</td>\n",
       "      <td>32.0</td>\n",
       "      <td>72.0</td>\n",
       "      <td>72.0</td>\n",
       "      <td>77.0</td>\n",
       "      <td>72.0</td>\n",
       "      <td>9.0</td>\n",
       "    </tr>\n",
       "  </tbody>\n",
       "</table>\n",
       "<p>5 rows × 21 columns</p>\n",
       "</div>"
      ],
      "text/plain": [
       "       ID         Name Nationality              Club  Jersey Number  \\\n",
       "0  158023     L. Messi   Argentina      FC Barcelona           10.0   \n",
       "1  175943   D. Mertens     Belgium            Napoli           14.0   \n",
       "2  172114    D. Valeri   Argentina  Portland Timbers            8.0   \n",
       "3  150516  L. Podolski     Germany       Vissel Kobe           10.0   \n",
       "4  201313     C. Ciano       Italy         Frosinone           28.0   \n",
       "\n",
       "         Value      Wage  Age Height  Weight  ...            Position Overall  \\\n",
       "0  110500000.0  565000.0   31    5'7  159lbs  ...  Right Forward (RF)      94   \n",
       "1   45000000.0  135000.0   31    5'7  134lbs  ...  Right Forward (RF)      87   \n",
       "2   11500000.0   12000.0   32   5'10  165lbs  ...  Right Forward (RF)      80   \n",
       "3    6500000.0   11000.0   33    6'0  183lbs  ...  Right Forward (RF)      78   \n",
       "4    6500000.0   17000.0   28    5'9  161lbs  ...  Right Forward (RF)      75   \n",
       "\n",
       "   Potential  Shooting  Defense  Passing  Physical  Control  Mental  \\\n",
       "0         94      86.0     41.0     87.0      80.0     96.0    95.0   \n",
       "1         87      74.0     46.0     78.0      77.0     91.0    84.0   \n",
       "2         80      79.0     46.0     78.0      69.0     78.0    82.0   \n",
       "3         78      80.0     49.0     73.0      73.0     75.0    78.0   \n",
       "4         75      70.0     32.0     72.0      72.0     77.0    72.0   \n",
       "\n",
       "   GoalKeeping  \n",
       "0         11.0  \n",
       "1          8.0  \n",
       "2         12.0  \n",
       "3         11.0  \n",
       "4          9.0  \n",
       "\n",
       "[5 rows x 21 columns]"
      ]
     },
     "execution_count": 30,
     "metadata": {},
     "output_type": "execute_result"
    }
   ],
   "source": [
    "fifa_df = merged_df\n",
    "fifa_df.head()"
   ]
  },
  {
   "cell_type": "markdown",
   "metadata": {
    "id": "11welP4cjgmM"
   },
   "source": [
    "## Análisis exploratorio\n",
    "\n",
    "En esta sección, utilizarás distintos métodos de los dataframes de pandas para generar un análisis exploratorio. En un análisis exploratorio, se busca explorar, resumir y entender los datos."
   ]
  },
  {
   "cell_type": "markdown",
   "metadata": {
    "id": "KDx_7ASLlnL7"
   },
   "source": [
    "### Jugadores con el mayor valor comercial y jugadores mejores pagados"
   ]
  },
  {
   "cell_type": "markdown",
   "metadata": {
    "id": "Ms3vFmAo15eW"
   },
   "source": [
    "Muestra el **Top 3** de jugadores con mayor valor (```Value```) en el mercado."
   ]
  },
  {
   "cell_type": "code",
   "execution_count": 31,
   "metadata": {
    "id": "XJAgwUc2J9y8"
   },
   "outputs": [
    {
     "data": {
      "text/html": [
       "<div>\n",
       "<style scoped>\n",
       "    .dataframe tbody tr th:only-of-type {\n",
       "        vertical-align: middle;\n",
       "    }\n",
       "\n",
       "    .dataframe tbody tr th {\n",
       "        vertical-align: top;\n",
       "    }\n",
       "\n",
       "    .dataframe thead th {\n",
       "        text-align: right;\n",
       "    }\n",
       "</style>\n",
       "<table border=\"1\" class=\"dataframe\">\n",
       "  <thead>\n",
       "    <tr style=\"text-align: right;\">\n",
       "      <th></th>\n",
       "      <th>ID</th>\n",
       "      <th>Name</th>\n",
       "      <th>Nationality</th>\n",
       "      <th>Club</th>\n",
       "      <th>Jersey Number</th>\n",
       "      <th>Value</th>\n",
       "      <th>Wage</th>\n",
       "      <th>Age</th>\n",
       "      <th>Height</th>\n",
       "      <th>Weight</th>\n",
       "      <th>...</th>\n",
       "      <th>Position</th>\n",
       "      <th>Overall</th>\n",
       "      <th>Potential</th>\n",
       "      <th>Shooting</th>\n",
       "      <th>Defense</th>\n",
       "      <th>Passing</th>\n",
       "      <th>Physical</th>\n",
       "      <th>Control</th>\n",
       "      <th>Mental</th>\n",
       "      <th>GoalKeeping</th>\n",
       "    </tr>\n",
       "  </thead>\n",
       "  <tbody>\n",
       "    <tr>\n",
       "      <th>2146</th>\n",
       "      <td>190871</td>\n",
       "      <td>Neymar Jr</td>\n",
       "      <td>Brazil</td>\n",
       "      <td>Paris Saint-Germain</td>\n",
       "      <td>10.0</td>\n",
       "      <td>118500000.0</td>\n",
       "      <td>290000.0</td>\n",
       "      <td>26</td>\n",
       "      <td>5'9</td>\n",
       "      <td>150lbs</td>\n",
       "      <td>...</td>\n",
       "      <td>Left Wing (LW)</td>\n",
       "      <td>92</td>\n",
       "      <td>93</td>\n",
       "      <td>81.0</td>\n",
       "      <td>42.0</td>\n",
       "      <td>80.0</td>\n",
       "      <td>79.0</td>\n",
       "      <td>92.0</td>\n",
       "      <td>92.0</td>\n",
       "      <td>12.0</td>\n",
       "    </tr>\n",
       "    <tr>\n",
       "      <th>0</th>\n",
       "      <td>158023</td>\n",
       "      <td>L. Messi</td>\n",
       "      <td>Argentina</td>\n",
       "      <td>FC Barcelona</td>\n",
       "      <td>10.0</td>\n",
       "      <td>110500000.0</td>\n",
       "      <td>565000.0</td>\n",
       "      <td>31</td>\n",
       "      <td>5'7</td>\n",
       "      <td>159lbs</td>\n",
       "      <td>...</td>\n",
       "      <td>Right Forward (RF)</td>\n",
       "      <td>94</td>\n",
       "      <td>94</td>\n",
       "      <td>86.0</td>\n",
       "      <td>41.0</td>\n",
       "      <td>87.0</td>\n",
       "      <td>80.0</td>\n",
       "      <td>96.0</td>\n",
       "      <td>95.0</td>\n",
       "      <td>11.0</td>\n",
       "    </tr>\n",
       "    <tr>\n",
       "      <th>4512</th>\n",
       "      <td>192985</td>\n",
       "      <td>K. De Bruyne</td>\n",
       "      <td>Belgium</td>\n",
       "      <td>Manchester City</td>\n",
       "      <td>7.0</td>\n",
       "      <td>102000000.0</td>\n",
       "      <td>355000.0</td>\n",
       "      <td>27</td>\n",
       "      <td>5'11</td>\n",
       "      <td>154lbs</td>\n",
       "      <td>...</td>\n",
       "      <td>Right Center Midfield (RCM)</td>\n",
       "      <td>91</td>\n",
       "      <td>92</td>\n",
       "      <td>81.0</td>\n",
       "      <td>65.0</td>\n",
       "      <td>92.0</td>\n",
       "      <td>77.0</td>\n",
       "      <td>85.0</td>\n",
       "      <td>91.0</td>\n",
       "      <td>11.0</td>\n",
       "    </tr>\n",
       "  </tbody>\n",
       "</table>\n",
       "<p>3 rows × 21 columns</p>\n",
       "</div>"
      ],
      "text/plain": [
       "          ID          Name Nationality                 Club  Jersey Number  \\\n",
       "2146  190871     Neymar Jr      Brazil  Paris Saint-Germain           10.0   \n",
       "0     158023      L. Messi   Argentina         FC Barcelona           10.0   \n",
       "4512  192985  K. De Bruyne     Belgium      Manchester City            7.0   \n",
       "\n",
       "            Value      Wage  Age Height  Weight  ...  \\\n",
       "2146  118500000.0  290000.0   26    5'9  150lbs  ...   \n",
       "0     110500000.0  565000.0   31    5'7  159lbs  ...   \n",
       "4512  102000000.0  355000.0   27   5'11  154lbs  ...   \n",
       "\n",
       "                         Position Overall  Potential  Shooting  Defense  \\\n",
       "2146               Left Wing (LW)      92         93      81.0     42.0   \n",
       "0              Right Forward (RF)      94         94      86.0     41.0   \n",
       "4512  Right Center Midfield (RCM)      91         92      81.0     65.0   \n",
       "\n",
       "      Passing  Physical  Control  Mental  GoalKeeping  \n",
       "2146     80.0      79.0     92.0    92.0         12.0  \n",
       "0        87.0      80.0     96.0    95.0         11.0  \n",
       "4512     92.0      77.0     85.0    91.0         11.0  \n",
       "\n",
       "[3 rows x 21 columns]"
      ]
     },
     "execution_count": 31,
     "metadata": {},
     "output_type": "execute_result"
    }
   ],
   "source": [
    "fifa_df.sort_values(by='Value', ascending=False).head(3)"
   ]
  },
  {
   "cell_type": "markdown",
   "metadata": {
    "id": "BWtWBTdz1yix"
   },
   "source": [
    "Muestra el **Top 3** de jugadores mejores pagados en el mundo (Salarios más altos, ```Wage```)."
   ]
  },
  {
   "cell_type": "code",
   "execution_count": 32,
   "metadata": {
    "id": "1yaixbRm1lgg"
   },
   "outputs": [
    {
     "data": {
      "text/html": [
       "<div>\n",
       "<style scoped>\n",
       "    .dataframe tbody tr th:only-of-type {\n",
       "        vertical-align: middle;\n",
       "    }\n",
       "\n",
       "    .dataframe tbody tr th {\n",
       "        vertical-align: top;\n",
       "    }\n",
       "\n",
       "    .dataframe thead th {\n",
       "        text-align: right;\n",
       "    }\n",
       "</style>\n",
       "<table border=\"1\" class=\"dataframe\">\n",
       "  <thead>\n",
       "    <tr style=\"text-align: right;\">\n",
       "      <th></th>\n",
       "      <th>ID</th>\n",
       "      <th>Name</th>\n",
       "      <th>Nationality</th>\n",
       "      <th>Club</th>\n",
       "      <th>Jersey Number</th>\n",
       "      <th>Value</th>\n",
       "      <th>Wage</th>\n",
       "      <th>Age</th>\n",
       "      <th>Height</th>\n",
       "      <th>Weight</th>\n",
       "      <th>...</th>\n",
       "      <th>Position</th>\n",
       "      <th>Overall</th>\n",
       "      <th>Potential</th>\n",
       "      <th>Shooting</th>\n",
       "      <th>Defense</th>\n",
       "      <th>Passing</th>\n",
       "      <th>Physical</th>\n",
       "      <th>Control</th>\n",
       "      <th>Mental</th>\n",
       "      <th>GoalKeeping</th>\n",
       "    </tr>\n",
       "  </thead>\n",
       "  <tbody>\n",
       "    <tr>\n",
       "      <th>0</th>\n",
       "      <td>158023</td>\n",
       "      <td>L. Messi</td>\n",
       "      <td>Argentina</td>\n",
       "      <td>FC Barcelona</td>\n",
       "      <td>10.0</td>\n",
       "      <td>110500000.0</td>\n",
       "      <td>565000.0</td>\n",
       "      <td>31</td>\n",
       "      <td>5'7</td>\n",
       "      <td>159lbs</td>\n",
       "      <td>...</td>\n",
       "      <td>Right Forward (RF)</td>\n",
       "      <td>94</td>\n",
       "      <td>94</td>\n",
       "      <td>86.0</td>\n",
       "      <td>41.0</td>\n",
       "      <td>87.0</td>\n",
       "      <td>80.0</td>\n",
       "      <td>96.0</td>\n",
       "      <td>95.0</td>\n",
       "      <td>11.0</td>\n",
       "    </tr>\n",
       "    <tr>\n",
       "      <th>4914</th>\n",
       "      <td>176580</td>\n",
       "      <td>L. Suárez</td>\n",
       "      <td>Uruguay</td>\n",
       "      <td>FC Barcelona</td>\n",
       "      <td>9.0</td>\n",
       "      <td>80000000.0</td>\n",
       "      <td>455000.0</td>\n",
       "      <td>31</td>\n",
       "      <td>6'0</td>\n",
       "      <td>190lbs</td>\n",
       "      <td>...</td>\n",
       "      <td>Right Side (RS)</td>\n",
       "      <td>91</td>\n",
       "      <td>91</td>\n",
       "      <td>86.0</td>\n",
       "      <td>56.0</td>\n",
       "      <td>74.0</td>\n",
       "      <td>81.0</td>\n",
       "      <td>87.0</td>\n",
       "      <td>87.0</td>\n",
       "      <td>31.0</td>\n",
       "    </tr>\n",
       "    <tr>\n",
       "      <th>4513</th>\n",
       "      <td>177003</td>\n",
       "      <td>L. Modrić</td>\n",
       "      <td>Croatia</td>\n",
       "      <td>Real Madrid</td>\n",
       "      <td>10.0</td>\n",
       "      <td>67000000.0</td>\n",
       "      <td>420000.0</td>\n",
       "      <td>32</td>\n",
       "      <td>5'8</td>\n",
       "      <td>146lbs</td>\n",
       "      <td>...</td>\n",
       "      <td>Right Center Midfield (RCM)</td>\n",
       "      <td>91</td>\n",
       "      <td>91</td>\n",
       "      <td>76.0</td>\n",
       "      <td>74.0</td>\n",
       "      <td>89.0</td>\n",
       "      <td>79.0</td>\n",
       "      <td>92.0</td>\n",
       "      <td>89.0</td>\n",
       "      <td>10.0</td>\n",
       "    </tr>\n",
       "  </tbody>\n",
       "</table>\n",
       "<p>3 rows × 21 columns</p>\n",
       "</div>"
      ],
      "text/plain": [
       "          ID       Name Nationality          Club  Jersey Number        Value  \\\n",
       "0     158023   L. Messi   Argentina  FC Barcelona           10.0  110500000.0   \n",
       "4914  176580  L. Suárez     Uruguay  FC Barcelona            9.0   80000000.0   \n",
       "4513  177003  L. Modrić     Croatia   Real Madrid           10.0   67000000.0   \n",
       "\n",
       "          Wage  Age Height  Weight  ...                     Position Overall  \\\n",
       "0     565000.0   31    5'7  159lbs  ...           Right Forward (RF)      94   \n",
       "4914  455000.0   31    6'0  190lbs  ...              Right Side (RS)      91   \n",
       "4513  420000.0   32    5'8  146lbs  ...  Right Center Midfield (RCM)      91   \n",
       "\n",
       "      Potential  Shooting  Defense  Passing  Physical  Control  Mental  \\\n",
       "0            94      86.0     41.0     87.0      80.0     96.0    95.0   \n",
       "4914         91      86.0     56.0     74.0      81.0     87.0    87.0   \n",
       "4513         91      76.0     74.0     89.0      79.0     92.0    89.0   \n",
       "\n",
       "      GoalKeeping  \n",
       "0            11.0  \n",
       "4914         31.0  \n",
       "4513         10.0  \n",
       "\n",
       "[3 rows x 21 columns]"
      ]
     },
     "execution_count": 32,
     "metadata": {},
     "output_type": "execute_result"
    }
   ],
   "source": [
    "fifa_df.sort_values(by='Wage', ascending=False).head(3)"
   ]
  },
  {
   "cell_type": "markdown",
   "metadata": {
    "id": "cpSEn-FJjwtT"
   },
   "source": [
    "### Potencial por alcanzar\n",
    "\n",
    "Utiliza operaciones Crea una nueva columna que  muestre el potencial por alcanzar ```Potential left``` de cada jugador en el conjunto de datos. El potencial por alcanzar puede ser calculado mediante ```Potential - Overall```."
   ]
  },
  {
   "cell_type": "code",
   "execution_count": 33,
   "metadata": {
    "id": "1fD4LDMJj14v"
   },
   "outputs": [
    {
     "data": {
      "text/html": [
       "<div>\n",
       "<style scoped>\n",
       "    .dataframe tbody tr th:only-of-type {\n",
       "        vertical-align: middle;\n",
       "    }\n",
       "\n",
       "    .dataframe tbody tr th {\n",
       "        vertical-align: top;\n",
       "    }\n",
       "\n",
       "    .dataframe thead th {\n",
       "        text-align: right;\n",
       "    }\n",
       "</style>\n",
       "<table border=\"1\" class=\"dataframe\">\n",
       "  <thead>\n",
       "    <tr style=\"text-align: right;\">\n",
       "      <th></th>\n",
       "      <th>ID</th>\n",
       "      <th>Name</th>\n",
       "      <th>Nationality</th>\n",
       "      <th>Club</th>\n",
       "      <th>Jersey Number</th>\n",
       "      <th>Value</th>\n",
       "      <th>Wage</th>\n",
       "      <th>Age</th>\n",
       "      <th>Height</th>\n",
       "      <th>Weight</th>\n",
       "      <th>...</th>\n",
       "      <th>Overall</th>\n",
       "      <th>Potential</th>\n",
       "      <th>Shooting</th>\n",
       "      <th>Defense</th>\n",
       "      <th>Passing</th>\n",
       "      <th>Physical</th>\n",
       "      <th>Control</th>\n",
       "      <th>Mental</th>\n",
       "      <th>GoalKeeping</th>\n",
       "      <th>Potential left</th>\n",
       "    </tr>\n",
       "  </thead>\n",
       "  <tbody>\n",
       "    <tr>\n",
       "      <th>0</th>\n",
       "      <td>158023</td>\n",
       "      <td>L. Messi</td>\n",
       "      <td>Argentina</td>\n",
       "      <td>FC Barcelona</td>\n",
       "      <td>10.0</td>\n",
       "      <td>110500000.0</td>\n",
       "      <td>565000.0</td>\n",
       "      <td>31</td>\n",
       "      <td>5'7</td>\n",
       "      <td>159lbs</td>\n",
       "      <td>...</td>\n",
       "      <td>94</td>\n",
       "      <td>94</td>\n",
       "      <td>86.0</td>\n",
       "      <td>41.0</td>\n",
       "      <td>87.0</td>\n",
       "      <td>80.0</td>\n",
       "      <td>96.0</td>\n",
       "      <td>95.0</td>\n",
       "      <td>11.0</td>\n",
       "      <td>0</td>\n",
       "    </tr>\n",
       "    <tr>\n",
       "      <th>1</th>\n",
       "      <td>175943</td>\n",
       "      <td>D. Mertens</td>\n",
       "      <td>Belgium</td>\n",
       "      <td>Napoli</td>\n",
       "      <td>14.0</td>\n",
       "      <td>45000000.0</td>\n",
       "      <td>135000.0</td>\n",
       "      <td>31</td>\n",
       "      <td>5'7</td>\n",
       "      <td>134lbs</td>\n",
       "      <td>...</td>\n",
       "      <td>87</td>\n",
       "      <td>87</td>\n",
       "      <td>74.0</td>\n",
       "      <td>46.0</td>\n",
       "      <td>78.0</td>\n",
       "      <td>77.0</td>\n",
       "      <td>91.0</td>\n",
       "      <td>84.0</td>\n",
       "      <td>8.0</td>\n",
       "      <td>0</td>\n",
       "    </tr>\n",
       "    <tr>\n",
       "      <th>2</th>\n",
       "      <td>172114</td>\n",
       "      <td>D. Valeri</td>\n",
       "      <td>Argentina</td>\n",
       "      <td>Portland Timbers</td>\n",
       "      <td>8.0</td>\n",
       "      <td>11500000.0</td>\n",
       "      <td>12000.0</td>\n",
       "      <td>32</td>\n",
       "      <td>5'10</td>\n",
       "      <td>165lbs</td>\n",
       "      <td>...</td>\n",
       "      <td>80</td>\n",
       "      <td>80</td>\n",
       "      <td>79.0</td>\n",
       "      <td>46.0</td>\n",
       "      <td>78.0</td>\n",
       "      <td>69.0</td>\n",
       "      <td>78.0</td>\n",
       "      <td>82.0</td>\n",
       "      <td>12.0</td>\n",
       "      <td>0</td>\n",
       "    </tr>\n",
       "    <tr>\n",
       "      <th>3</th>\n",
       "      <td>150516</td>\n",
       "      <td>L. Podolski</td>\n",
       "      <td>Germany</td>\n",
       "      <td>Vissel Kobe</td>\n",
       "      <td>10.0</td>\n",
       "      <td>6500000.0</td>\n",
       "      <td>11000.0</td>\n",
       "      <td>33</td>\n",
       "      <td>6'0</td>\n",
       "      <td>183lbs</td>\n",
       "      <td>...</td>\n",
       "      <td>78</td>\n",
       "      <td>78</td>\n",
       "      <td>80.0</td>\n",
       "      <td>49.0</td>\n",
       "      <td>73.0</td>\n",
       "      <td>73.0</td>\n",
       "      <td>75.0</td>\n",
       "      <td>78.0</td>\n",
       "      <td>11.0</td>\n",
       "      <td>0</td>\n",
       "    </tr>\n",
       "    <tr>\n",
       "      <th>4</th>\n",
       "      <td>201313</td>\n",
       "      <td>C. Ciano</td>\n",
       "      <td>Italy</td>\n",
       "      <td>Frosinone</td>\n",
       "      <td>28.0</td>\n",
       "      <td>6500000.0</td>\n",
       "      <td>17000.0</td>\n",
       "      <td>28</td>\n",
       "      <td>5'9</td>\n",
       "      <td>161lbs</td>\n",
       "      <td>...</td>\n",
       "      <td>75</td>\n",
       "      <td>75</td>\n",
       "      <td>70.0</td>\n",
       "      <td>32.0</td>\n",
       "      <td>72.0</td>\n",
       "      <td>72.0</td>\n",
       "      <td>77.0</td>\n",
       "      <td>72.0</td>\n",
       "      <td>9.0</td>\n",
       "      <td>0</td>\n",
       "    </tr>\n",
       "  </tbody>\n",
       "</table>\n",
       "<p>5 rows × 22 columns</p>\n",
       "</div>"
      ],
      "text/plain": [
       "       ID         Name Nationality              Club  Jersey Number  \\\n",
       "0  158023     L. Messi   Argentina      FC Barcelona           10.0   \n",
       "1  175943   D. Mertens     Belgium            Napoli           14.0   \n",
       "2  172114    D. Valeri   Argentina  Portland Timbers            8.0   \n",
       "3  150516  L. Podolski     Germany       Vissel Kobe           10.0   \n",
       "4  201313     C. Ciano       Italy         Frosinone           28.0   \n",
       "\n",
       "         Value      Wage  Age Height  Weight  ... Overall Potential  Shooting  \\\n",
       "0  110500000.0  565000.0   31    5'7  159lbs  ...      94        94      86.0   \n",
       "1   45000000.0  135000.0   31    5'7  134lbs  ...      87        87      74.0   \n",
       "2   11500000.0   12000.0   32   5'10  165lbs  ...      80        80      79.0   \n",
       "3    6500000.0   11000.0   33    6'0  183lbs  ...      78        78      80.0   \n",
       "4    6500000.0   17000.0   28    5'9  161lbs  ...      75        75      70.0   \n",
       "\n",
       "   Defense  Passing  Physical  Control  Mental  GoalKeeping  Potential left  \n",
       "0     41.0     87.0      80.0     96.0    95.0         11.0               0  \n",
       "1     46.0     78.0      77.0     91.0    84.0          8.0               0  \n",
       "2     46.0     78.0      69.0     78.0    82.0         12.0               0  \n",
       "3     49.0     73.0      73.0     75.0    78.0         11.0               0  \n",
       "4     32.0     72.0      72.0     77.0    72.0          9.0               0  \n",
       "\n",
       "[5 rows x 22 columns]"
      ]
     },
     "execution_count": 33,
     "metadata": {},
     "output_type": "execute_result"
    }
   ],
   "source": [
    "fifa_df[\"Potential left\"] = fifa_df[\"Potential\"] - fifa_df[\"Overall\"]\n",
    "fifa_df.head()"
   ]
  },
  {
   "cell_type": "markdown",
   "metadata": {
    "id": "NwYgtvlTmKnq"
   },
   "source": [
    "### Jóvenes promesa\n",
    "\n",
    "Utiliza las funciones de Pandas para encontrar el **top 5** de jugadores \"promesa\" menores de 22 años. Ordena ascendentemente el dataframe según el potencial (```Potential```), potencial por alcanzar (```Potential left```) y su nivel (```Overall ```) actual."
   ]
  },
  {
   "cell_type": "code",
   "execution_count": 34,
   "metadata": {
    "id": "5IFX49Jern6K"
   },
   "outputs": [
    {
     "data": {
      "text/html": [
       "<div>\n",
       "<style scoped>\n",
       "    .dataframe tbody tr th:only-of-type {\n",
       "        vertical-align: middle;\n",
       "    }\n",
       "\n",
       "    .dataframe tbody tr th {\n",
       "        vertical-align: top;\n",
       "    }\n",
       "\n",
       "    .dataframe thead th {\n",
       "        text-align: right;\n",
       "    }\n",
       "</style>\n",
       "<table border=\"1\" class=\"dataframe\">\n",
       "  <thead>\n",
       "    <tr style=\"text-align: right;\">\n",
       "      <th></th>\n",
       "      <th>ID</th>\n",
       "      <th>Name</th>\n",
       "      <th>Nationality</th>\n",
       "      <th>Club</th>\n",
       "      <th>Jersey Number</th>\n",
       "      <th>Value</th>\n",
       "      <th>Wage</th>\n",
       "      <th>Age</th>\n",
       "      <th>Height</th>\n",
       "      <th>Weight</th>\n",
       "      <th>...</th>\n",
       "      <th>Overall</th>\n",
       "      <th>Potential</th>\n",
       "      <th>Shooting</th>\n",
       "      <th>Defense</th>\n",
       "      <th>Passing</th>\n",
       "      <th>Physical</th>\n",
       "      <th>Control</th>\n",
       "      <th>Mental</th>\n",
       "      <th>GoalKeeping</th>\n",
       "      <th>Potential left</th>\n",
       "    </tr>\n",
       "  </thead>\n",
       "  <tbody>\n",
       "    <tr>\n",
       "      <th>16380</th>\n",
       "      <td>241657</td>\n",
       "      <td>D. Horton</td>\n",
       "      <td>England</td>\n",
       "      <td>Lincoln City</td>\n",
       "      <td>33.0</td>\n",
       "      <td>40000.0</td>\n",
       "      <td>1000.0</td>\n",
       "      <td>18</td>\n",
       "      <td>6'1</td>\n",
       "      <td>179lbs</td>\n",
       "      <td>...</td>\n",
       "      <td>48</td>\n",
       "      <td>55</td>\n",
       "      <td>36.0</td>\n",
       "      <td>47.0</td>\n",
       "      <td>46.0</td>\n",
       "      <td>60.0</td>\n",
       "      <td>50.0</td>\n",
       "      <td>44.0</td>\n",
       "      <td>12.0</td>\n",
       "      <td>7</td>\n",
       "    </tr>\n",
       "    <tr>\n",
       "      <th>10017</th>\n",
       "      <td>233945</td>\n",
       "      <td>Wu Wei</td>\n",
       "      <td>China PR</td>\n",
       "      <td>Tianjin Quanjian FC</td>\n",
       "      <td>2.0</td>\n",
       "      <td>60000.0</td>\n",
       "      <td>2000.0</td>\n",
       "      <td>21</td>\n",
       "      <td>6'1</td>\n",
       "      <td>176lbs</td>\n",
       "      <td>...</td>\n",
       "      <td>52</td>\n",
       "      <td>56</td>\n",
       "      <td>41.0</td>\n",
       "      <td>52.0</td>\n",
       "      <td>44.0</td>\n",
       "      <td>68.0</td>\n",
       "      <td>53.0</td>\n",
       "      <td>50.0</td>\n",
       "      <td>9.0</td>\n",
       "      <td>4</td>\n",
       "    </tr>\n",
       "    <tr>\n",
       "      <th>4502</th>\n",
       "      <td>225510</td>\n",
       "      <td>D. Mackay</td>\n",
       "      <td>Scotland</td>\n",
       "      <td>Kilmarnock</td>\n",
       "      <td>13.0</td>\n",
       "      <td>30000.0</td>\n",
       "      <td>1000.0</td>\n",
       "      <td>21</td>\n",
       "      <td>6'3</td>\n",
       "      <td>179lbs</td>\n",
       "      <td>...</td>\n",
       "      <td>49</td>\n",
       "      <td>56</td>\n",
       "      <td>20.0</td>\n",
       "      <td>17.0</td>\n",
       "      <td>21.0</td>\n",
       "      <td>43.0</td>\n",
       "      <td>29.0</td>\n",
       "      <td>31.0</td>\n",
       "      <td>48.0</td>\n",
       "      <td>7</td>\n",
       "    </tr>\n",
       "    <tr>\n",
       "      <th>2119</th>\n",
       "      <td>225468</td>\n",
       "      <td>M. Bloomfield</td>\n",
       "      <td>England</td>\n",
       "      <td>Hamilton Academical FC</td>\n",
       "      <td>16.0</td>\n",
       "      <td>50000.0</td>\n",
       "      <td>3000.0</td>\n",
       "      <td>21</td>\n",
       "      <td>5'11</td>\n",
       "      <td>165lbs</td>\n",
       "      <td>...</td>\n",
       "      <td>51</td>\n",
       "      <td>57</td>\n",
       "      <td>44.0</td>\n",
       "      <td>21.0</td>\n",
       "      <td>35.0</td>\n",
       "      <td>61.0</td>\n",
       "      <td>54.0</td>\n",
       "      <td>48.0</td>\n",
       "      <td>13.0</td>\n",
       "      <td>6</td>\n",
       "    </tr>\n",
       "    <tr>\n",
       "      <th>16325</th>\n",
       "      <td>245401</td>\n",
       "      <td>Lee Dong Hee</td>\n",
       "      <td>Korea Republic</td>\n",
       "      <td>Jeju United FC</td>\n",
       "      <td>42.0</td>\n",
       "      <td>50000.0</td>\n",
       "      <td>1000.0</td>\n",
       "      <td>21</td>\n",
       "      <td>5'11</td>\n",
       "      <td>159lbs</td>\n",
       "      <td>...</td>\n",
       "      <td>51</td>\n",
       "      <td>57</td>\n",
       "      <td>36.0</td>\n",
       "      <td>39.0</td>\n",
       "      <td>51.0</td>\n",
       "      <td>57.0</td>\n",
       "      <td>56.0</td>\n",
       "      <td>54.0</td>\n",
       "      <td>9.0</td>\n",
       "      <td>6</td>\n",
       "    </tr>\n",
       "    <tr>\n",
       "      <th>...</th>\n",
       "      <td>...</td>\n",
       "      <td>...</td>\n",
       "      <td>...</td>\n",
       "      <td>...</td>\n",
       "      <td>...</td>\n",
       "      <td>...</td>\n",
       "      <td>...</td>\n",
       "      <td>...</td>\n",
       "      <td>...</td>\n",
       "      <td>...</td>\n",
       "      <td>...</td>\n",
       "      <td>...</td>\n",
       "      <td>...</td>\n",
       "      <td>...</td>\n",
       "      <td>...</td>\n",
       "      <td>...</td>\n",
       "      <td>...</td>\n",
       "      <td>...</td>\n",
       "      <td>...</td>\n",
       "      <td>...</td>\n",
       "      <td>...</td>\n",
       "    </tr>\n",
       "    <tr>\n",
       "      <th>31</th>\n",
       "      <td>230666</td>\n",
       "      <td>Gabriel Jesus</td>\n",
       "      <td>Brazil</td>\n",
       "      <td>Manchester City</td>\n",
       "      <td>33.0</td>\n",
       "      <td>41000000.0</td>\n",
       "      <td>130000.0</td>\n",
       "      <td>21</td>\n",
       "      <td>5'9</td>\n",
       "      <td>161lbs</td>\n",
       "      <td>...</td>\n",
       "      <td>83</td>\n",
       "      <td>92</td>\n",
       "      <td>74.0</td>\n",
       "      <td>43.0</td>\n",
       "      <td>69.0</td>\n",
       "      <td>83.0</td>\n",
       "      <td>87.0</td>\n",
       "      <td>82.0</td>\n",
       "      <td>10.0</td>\n",
       "      <td>9</td>\n",
       "    </tr>\n",
       "    <tr>\n",
       "      <th>14654</th>\n",
       "      <td>231443</td>\n",
       "      <td>O. Dembélé</td>\n",
       "      <td>France</td>\n",
       "      <td>FC Barcelona</td>\n",
       "      <td>11.0</td>\n",
       "      <td>40000000.0</td>\n",
       "      <td>155000.0</td>\n",
       "      <td>21</td>\n",
       "      <td>5'10</td>\n",
       "      <td>148lbs</td>\n",
       "      <td>...</td>\n",
       "      <td>83</td>\n",
       "      <td>92</td>\n",
       "      <td>71.0</td>\n",
       "      <td>44.0</td>\n",
       "      <td>75.0</td>\n",
       "      <td>77.0</td>\n",
       "      <td>86.0</td>\n",
       "      <td>80.0</td>\n",
       "      <td>10.0</td>\n",
       "      <td>9</td>\n",
       "    </tr>\n",
       "    <tr>\n",
       "      <th>2170</th>\n",
       "      <td>238794</td>\n",
       "      <td>Vinícius Júnior</td>\n",
       "      <td>Brazil</td>\n",
       "      <td>Real Madrid</td>\n",
       "      <td>28.0</td>\n",
       "      <td>17500000.0</td>\n",
       "      <td>66000.0</td>\n",
       "      <td>17</td>\n",
       "      <td>5'9</td>\n",
       "      <td>161lbs</td>\n",
       "      <td>...</td>\n",
       "      <td>77</td>\n",
       "      <td>92</td>\n",
       "      <td>67.0</td>\n",
       "      <td>35.0</td>\n",
       "      <td>61.0</td>\n",
       "      <td>81.0</td>\n",
       "      <td>81.0</td>\n",
       "      <td>71.0</td>\n",
       "      <td>7.0</td>\n",
       "      <td>15</td>\n",
       "    </tr>\n",
       "    <tr>\n",
       "      <th>2553</th>\n",
       "      <td>230621</td>\n",
       "      <td>G. Donnarumma</td>\n",
       "      <td>Italy</td>\n",
       "      <td>Milan</td>\n",
       "      <td>22.0</td>\n",
       "      <td>29000000.0</td>\n",
       "      <td>23000.0</td>\n",
       "      <td>19</td>\n",
       "      <td>6'5</td>\n",
       "      <td>198lbs</td>\n",
       "      <td>...</td>\n",
       "      <td>82</td>\n",
       "      <td>93</td>\n",
       "      <td>16.0</td>\n",
       "      <td>18.0</td>\n",
       "      <td>23.0</td>\n",
       "      <td>54.0</td>\n",
       "      <td>31.0</td>\n",
       "      <td>64.0</td>\n",
       "      <td>81.0</td>\n",
       "      <td>11</td>\n",
       "    </tr>\n",
       "    <tr>\n",
       "      <th>10876</th>\n",
       "      <td>231747</td>\n",
       "      <td>K. Mbappé</td>\n",
       "      <td>France</td>\n",
       "      <td>Paris Saint-Germain</td>\n",
       "      <td>10.0</td>\n",
       "      <td>81000000.0</td>\n",
       "      <td>100000.0</td>\n",
       "      <td>19</td>\n",
       "      <td>5'10</td>\n",
       "      <td>161lbs</td>\n",
       "      <td>...</td>\n",
       "      <td>88</td>\n",
       "      <td>95</td>\n",
       "      <td>76.0</td>\n",
       "      <td>45.0</td>\n",
       "      <td>77.0</td>\n",
       "      <td>85.0</td>\n",
       "      <td>88.0</td>\n",
       "      <td>85.0</td>\n",
       "      <td>8.0</td>\n",
       "      <td>7</td>\n",
       "    </tr>\n",
       "  </tbody>\n",
       "</table>\n",
       "<p>4716 rows × 22 columns</p>\n",
       "</div>"
      ],
      "text/plain": [
       "           ID             Name     Nationality                    Club  \\\n",
       "16380  241657        D. Horton         England            Lincoln City   \n",
       "10017  233945           Wu Wei        China PR     Tianjin Quanjian FC   \n",
       "4502   225510        D. Mackay        Scotland              Kilmarnock   \n",
       "2119   225468    M. Bloomfield         England  Hamilton Academical FC   \n",
       "16325  245401     Lee Dong Hee  Korea Republic          Jeju United FC   \n",
       "...       ...              ...             ...                     ...   \n",
       "31     230666    Gabriel Jesus          Brazil         Manchester City   \n",
       "14654  231443       O. Dembélé          France            FC Barcelona   \n",
       "2170   238794  Vinícius Júnior          Brazil             Real Madrid   \n",
       "2553   230621    G. Donnarumma           Italy                   Milan   \n",
       "10876  231747        K. Mbappé          France     Paris Saint-Germain   \n",
       "\n",
       "       Jersey Number       Value      Wage  Age Height  Weight  ... Overall  \\\n",
       "16380           33.0     40000.0    1000.0   18    6'1  179lbs  ...      48   \n",
       "10017            2.0     60000.0    2000.0   21    6'1  176lbs  ...      52   \n",
       "4502            13.0     30000.0    1000.0   21    6'3  179lbs  ...      49   \n",
       "2119            16.0     50000.0    3000.0   21   5'11  165lbs  ...      51   \n",
       "16325           42.0     50000.0    1000.0   21   5'11  159lbs  ...      51   \n",
       "...              ...         ...       ...  ...    ...     ...  ...     ...   \n",
       "31              33.0  41000000.0  130000.0   21    5'9  161lbs  ...      83   \n",
       "14654           11.0  40000000.0  155000.0   21   5'10  148lbs  ...      83   \n",
       "2170            28.0  17500000.0   66000.0   17    5'9  161lbs  ...      77   \n",
       "2553            22.0  29000000.0   23000.0   19    6'5  198lbs  ...      82   \n",
       "10876           10.0  81000000.0  100000.0   19   5'10  161lbs  ...      88   \n",
       "\n",
       "      Potential  Shooting  Defense  Passing  Physical  Control  Mental  \\\n",
       "16380        55      36.0     47.0     46.0      60.0     50.0    44.0   \n",
       "10017        56      41.0     52.0     44.0      68.0     53.0    50.0   \n",
       "4502         56      20.0     17.0     21.0      43.0     29.0    31.0   \n",
       "2119         57      44.0     21.0     35.0      61.0     54.0    48.0   \n",
       "16325        57      36.0     39.0     51.0      57.0     56.0    54.0   \n",
       "...         ...       ...      ...      ...       ...      ...     ...   \n",
       "31           92      74.0     43.0     69.0      83.0     87.0    82.0   \n",
       "14654        92      71.0     44.0     75.0      77.0     86.0    80.0   \n",
       "2170         92      67.0     35.0     61.0      81.0     81.0    71.0   \n",
       "2553         93      16.0     18.0     23.0      54.0     31.0    64.0   \n",
       "10876        95      76.0     45.0     77.0      85.0     88.0    85.0   \n",
       "\n",
       "       GoalKeeping  Potential left  \n",
       "16380         12.0               7  \n",
       "10017          9.0               4  \n",
       "4502          48.0               7  \n",
       "2119          13.0               6  \n",
       "16325          9.0               6  \n",
       "...            ...             ...  \n",
       "31            10.0               9  \n",
       "14654         10.0               9  \n",
       "2170           7.0              15  \n",
       "2553          81.0              11  \n",
       "10876          8.0               7  \n",
       "\n",
       "[4716 rows x 22 columns]"
      ]
     },
     "execution_count": 34,
     "metadata": {},
     "output_type": "execute_result"
    }
   ],
   "source": [
    "fifa_df[fifa_df.Age<22].sort_values(by=['Potential', 'Potential left', 'Overall'])#[['Name','Age','Potential', 'Potential left', 'Overall']]"
   ]
  },
  {
   "cell_type": "markdown",
   "metadata": {
    "id": "vrWYwyCwKfV2"
   },
   "source": [
    "### Mejor defensa en el mundo\n",
    "\n",
    "Encuentra al jugador con el mayor puntaje en la columna ```Defense```:\n",
    "\n",
    "*Tip: utiliza el método ```idxmax``` para encontrar la fila donde se encuentra el mejor defensa. Después usa el índice para acceder a los datos de la fila.*"
   ]
  },
  {
   "cell_type": "code",
   "execution_count": 35,
   "metadata": {
    "id": "ZYv8MVn4Kfxg"
   },
   "outputs": [
    {
     "name": "stdout",
     "output_type": "stream",
     "text": [
      "7910\n"
     ]
    },
    {
     "data": {
      "text/plain": [
       "Name                               N. Kanté\n",
       "Club                                Chelsea\n",
       "Defense                                86.0\n",
       "Position    Left Defensive Midfielder (LDM)\n",
       "Name: 7910, dtype: object"
      ]
     },
     "execution_count": 35,
     "metadata": {},
     "output_type": "execute_result"
    }
   ],
   "source": [
    "idx = fifa_df.Defense.idxmax()\n",
    "print(idx)\n",
    "fifa_df[[\"Name\", \"Club\", \"Defense\", \"Position\"]].iloc[idx]"
   ]
  },
  {
   "cell_type": "markdown",
   "metadata": {
    "id": "kgertLU4k6d1"
   },
   "source": [
    "### Porcentaje pie preferido\n",
    "\n",
    "Calcula el porcentaje mundial de jugadores que prefieren utilizar su pierna derecha para controlar el balón y el porcentaje que prefiere utilizar la pierna izquierda.\n",
    "\n",
    "*Tip: El método ```value_counts()``` de objetos Series podría resultarte particularmente útil para esta tarea.*"
   ]
  },
  {
   "cell_type": "code",
   "execution_count": 36,
   "metadata": {
    "id": "sfV8mP74mIv6"
   },
   "outputs": [
    {
     "data": {
      "text/html": [
       "<div>\n",
       "<style scoped>\n",
       "    .dataframe tbody tr th:only-of-type {\n",
       "        vertical-align: middle;\n",
       "    }\n",
       "\n",
       "    .dataframe tbody tr th {\n",
       "        vertical-align: top;\n",
       "    }\n",
       "\n",
       "    .dataframe thead th {\n",
       "        text-align: right;\n",
       "    }\n",
       "</style>\n",
       "<table border=\"1\" class=\"dataframe\">\n",
       "  <thead>\n",
       "    <tr style=\"text-align: right;\">\n",
       "      <th></th>\n",
       "      <th>Preferred Foot %</th>\n",
       "    </tr>\n",
       "  </thead>\n",
       "  <tbody>\n",
       "    <tr>\n",
       "      <th>Right</th>\n",
       "      <td>76.77</td>\n",
       "    </tr>\n",
       "    <tr>\n",
       "      <th>Left</th>\n",
       "      <td>23.23</td>\n",
       "    </tr>\n",
       "  </tbody>\n",
       "</table>\n",
       "</div>"
      ],
      "text/plain": [
       "       Preferred Foot %\n",
       "Right             76.77\n",
       "Left              23.23"
      ]
     },
     "execution_count": 36,
     "metadata": {},
     "output_type": "execute_result"
    }
   ],
   "source": [
    "pd.DataFrame(fifa_df['Preferred Foot'].value_counts(normalize='True').mul(100).round(2)).rename(columns={\"Preferred Foot\": \"Preferred Foot %\"})"
   ]
  },
  {
   "cell_type": "markdown",
   "metadata": {
    "id": "Bd0Gcj0YkitL"
   },
   "source": [
    "### Equipos con mayor talento promedio\n",
    "\n",
    "Utiliza funciones de agregación y de agrupamiento para obtener a los equipos con el mejor promedio de nivel (```Overall```) entre sus jugadores."
   ]
  },
  {
   "cell_type": "code",
   "execution_count": 37,
   "metadata": {
    "id": "R2m3dzbemJSc"
   },
   "outputs": [
    {
     "data": {
      "text/html": [
       "<div>\n",
       "<style scoped>\n",
       "    .dataframe tbody tr th:only-of-type {\n",
       "        vertical-align: middle;\n",
       "    }\n",
       "\n",
       "    .dataframe tbody tr th {\n",
       "        vertical-align: top;\n",
       "    }\n",
       "\n",
       "    .dataframe thead th {\n",
       "        text-align: right;\n",
       "    }\n",
       "</style>\n",
       "<table border=\"1\" class=\"dataframe\">\n",
       "  <thead>\n",
       "    <tr style=\"text-align: right;\">\n",
       "      <th></th>\n",
       "      <th>Potential</th>\n",
       "    </tr>\n",
       "    <tr>\n",
       "      <th>Club</th>\n",
       "      <th></th>\n",
       "    </tr>\n",
       "  </thead>\n",
       "  <tbody>\n",
       "    <tr>\n",
       "      <th>FC Barcelona</th>\n",
       "      <td>2815</td>\n",
       "    </tr>\n",
       "    <tr>\n",
       "      <th>Real Madrid</th>\n",
       "      <td>2793</td>\n",
       "    </tr>\n",
       "    <tr>\n",
       "      <th>Manchester City</th>\n",
       "      <td>2769</td>\n",
       "    </tr>\n",
       "    <tr>\n",
       "      <th>Manchester United</th>\n",
       "      <td>2728</td>\n",
       "    </tr>\n",
       "    <tr>\n",
       "      <th>Chelsea</th>\n",
       "      <td>2727</td>\n",
       "    </tr>\n",
       "    <tr>\n",
       "      <th>...</th>\n",
       "      <td>...</td>\n",
       "    </tr>\n",
       "    <tr>\n",
       "      <th>Ceará Sporting Club</th>\n",
       "      <td>1354</td>\n",
       "    </tr>\n",
       "    <tr>\n",
       "      <th>Dalkurd FF</th>\n",
       "      <td>1337</td>\n",
       "    </tr>\n",
       "    <tr>\n",
       "      <th>Sligo Rovers</th>\n",
       "      <td>1242</td>\n",
       "    </tr>\n",
       "    <tr>\n",
       "      <th>Derry City</th>\n",
       "      <td>1186</td>\n",
       "    </tr>\n",
       "    <tr>\n",
       "      <th>Limerick FC</th>\n",
       "      <td>1164</td>\n",
       "    </tr>\n",
       "  </tbody>\n",
       "</table>\n",
       "<p>651 rows × 1 columns</p>\n",
       "</div>"
      ],
      "text/plain": [
       "                     Potential\n",
       "Club                          \n",
       "FC Barcelona              2815\n",
       "Real Madrid               2793\n",
       "Manchester City           2769\n",
       "Manchester United         2728\n",
       "Chelsea                   2727\n",
       "...                        ...\n",
       "Ceará Sporting Club       1354\n",
       "Dalkurd FF                1337\n",
       "Sligo Rovers              1242\n",
       "Derry City                1186\n",
       "Limerick FC               1164\n",
       "\n",
       "[651 rows x 1 columns]"
      ]
     },
     "execution_count": 37,
     "metadata": {},
     "output_type": "execute_result"
    }
   ],
   "source": [
    "pd.DataFrame(fifa_df.groupby('Club').aggregate('Potential').sum()).sort_values(by='Potential',ascending=False)\n"
   ]
  },
  {
   "cell_type": "markdown",
   "metadata": {
    "id": "sGpOyoqskqAX"
   },
   "source": [
    "### Equipos con más costosos (valor comercial)\n",
    "\n",
    "Utiliza funciones de agregación y agrupamiento para encontrar el valor total de de cada club, esto es, la suma de los valores individuales de los jugadores de los Club.\n",
    "\n",
    "Ordena de manera descendente para mostrar los clubs más costosos del mundo."
   ]
  },
  {
   "cell_type": "code",
   "execution_count": 38,
   "metadata": {
    "id": "bncX7I0jmJ0K"
   },
   "outputs": [
    {
     "data": {
      "text/html": [
       "<div>\n",
       "<style scoped>\n",
       "    .dataframe tbody tr th:only-of-type {\n",
       "        vertical-align: middle;\n",
       "    }\n",
       "\n",
       "    .dataframe tbody tr th {\n",
       "        vertical-align: top;\n",
       "    }\n",
       "\n",
       "    .dataframe thead th {\n",
       "        text-align: right;\n",
       "    }\n",
       "</style>\n",
       "<table border=\"1\" class=\"dataframe\">\n",
       "  <thead>\n",
       "    <tr style=\"text-align: right;\">\n",
       "      <th></th>\n",
       "      <th>Value</th>\n",
       "    </tr>\n",
       "    <tr>\n",
       "      <th>Club</th>\n",
       "      <th></th>\n",
       "    </tr>\n",
       "  </thead>\n",
       "  <tbody>\n",
       "    <tr>\n",
       "      <th>Real Madrid</th>\n",
       "      <td>874425000.0</td>\n",
       "    </tr>\n",
       "    <tr>\n",
       "      <th>FC Barcelona</th>\n",
       "      <td>852600000.0</td>\n",
       "    </tr>\n",
       "    <tr>\n",
       "      <th>Manchester City</th>\n",
       "      <td>786555000.0</td>\n",
       "    </tr>\n",
       "    <tr>\n",
       "      <th>Juventus</th>\n",
       "      <td>704475000.0</td>\n",
       "    </tr>\n",
       "    <tr>\n",
       "      <th>FC Bayern München</th>\n",
       "      <td>679025000.0</td>\n",
       "    </tr>\n",
       "    <tr>\n",
       "      <th>...</th>\n",
       "      <td>...</td>\n",
       "    </tr>\n",
       "    <tr>\n",
       "      <th>Sligo Rovers</th>\n",
       "      <td>3295000.0</td>\n",
       "    </tr>\n",
       "    <tr>\n",
       "      <th>Bohemian FC</th>\n",
       "      <td>3195000.0</td>\n",
       "    </tr>\n",
       "    <tr>\n",
       "      <th>Derry City</th>\n",
       "      <td>2795000.0</td>\n",
       "    </tr>\n",
       "    <tr>\n",
       "      <th>Limerick FC</th>\n",
       "      <td>2040000.0</td>\n",
       "    </tr>\n",
       "    <tr>\n",
       "      <th>Bray Wanderers</th>\n",
       "      <td>1930000.0</td>\n",
       "    </tr>\n",
       "  </tbody>\n",
       "</table>\n",
       "<p>651 rows × 1 columns</p>\n",
       "</div>"
      ],
      "text/plain": [
       "                         Value\n",
       "Club                          \n",
       "Real Madrid        874425000.0\n",
       "FC Barcelona       852600000.0\n",
       "Manchester City    786555000.0\n",
       "Juventus           704475000.0\n",
       "FC Bayern München  679025000.0\n",
       "...                        ...\n",
       "Sligo Rovers         3295000.0\n",
       "Bohemian FC          3195000.0\n",
       "Derry City           2795000.0\n",
       "Limerick FC          2040000.0\n",
       "Bray Wanderers       1930000.0\n",
       "\n",
       "[651 rows x 1 columns]"
      ]
     },
     "execution_count": 38,
     "metadata": {},
     "output_type": "execute_result"
    }
   ],
   "source": [
    "pd.DataFrame(fifa_df.groupby('Club').aggregate('Value').sum()).sort_values(by='Value',ascending=False)"
   ]
  },
  {
   "cell_type": "markdown",
   "metadata": {
    "id": "7AthXgs1l8hn"
   },
   "source": [
    "### ¿Qué equipos tienen más mexicanos?\n",
    "\n",
    "Muestra un top 5 de equipos con más jugadores mexicanos en el mundo."
   ]
  },
  {
   "cell_type": "markdown",
   "metadata": {
    "id": "bcyrdPV0p6_0"
   },
   "source": [
    "Primero, crea un dataframe que contiene unicamente jugadores mexicanos:\n",
    "\n",
    "*Tip: Filtra el dataframe usando ```Nationality==Mexico```*."
   ]
  },
  {
   "cell_type": "code",
   "execution_count": 39,
   "metadata": {
    "id": "3rvkuvn0rKkR"
   },
   "outputs": [
    {
     "data": {
      "text/html": [
       "<div>\n",
       "<style scoped>\n",
       "    .dataframe tbody tr th:only-of-type {\n",
       "        vertical-align: middle;\n",
       "    }\n",
       "\n",
       "    .dataframe tbody tr th {\n",
       "        vertical-align: top;\n",
       "    }\n",
       "\n",
       "    .dataframe thead th {\n",
       "        text-align: right;\n",
       "    }\n",
       "</style>\n",
       "<table border=\"1\" class=\"dataframe\">\n",
       "  <thead>\n",
       "    <tr style=\"text-align: right;\">\n",
       "      <th></th>\n",
       "      <th>ID</th>\n",
       "      <th>Name</th>\n",
       "      <th>Nationality</th>\n",
       "      <th>Club</th>\n",
       "      <th>Jersey Number</th>\n",
       "      <th>Value</th>\n",
       "      <th>Wage</th>\n",
       "      <th>Age</th>\n",
       "      <th>Height</th>\n",
       "      <th>Weight</th>\n",
       "      <th>...</th>\n",
       "      <th>Overall</th>\n",
       "      <th>Potential</th>\n",
       "      <th>Shooting</th>\n",
       "      <th>Defense</th>\n",
       "      <th>Passing</th>\n",
       "      <th>Physical</th>\n",
       "      <th>Control</th>\n",
       "      <th>Mental</th>\n",
       "      <th>GoalKeeping</th>\n",
       "      <th>Potential left</th>\n",
       "    </tr>\n",
       "  </thead>\n",
       "  <tbody>\n",
       "    <tr>\n",
       "      <th>77</th>\n",
       "      <td>178224</td>\n",
       "      <td>J. Hernández</td>\n",
       "      <td>Mexico</td>\n",
       "      <td>West Ham United</td>\n",
       "      <td>17.0</td>\n",
       "      <td>12000000.0</td>\n",
       "      <td>90000.0</td>\n",
       "      <td>30</td>\n",
       "      <td>5'9</td>\n",
       "      <td>161lbs</td>\n",
       "      <td>...</td>\n",
       "      <td>79</td>\n",
       "      <td>79</td>\n",
       "      <td>71.0</td>\n",
       "      <td>37.0</td>\n",
       "      <td>62.0</td>\n",
       "      <td>72.0</td>\n",
       "      <td>76.0</td>\n",
       "      <td>77.0</td>\n",
       "      <td>12.0</td>\n",
       "      <td>0</td>\n",
       "    </tr>\n",
       "    <tr>\n",
       "      <th>250</th>\n",
       "      <td>192930</td>\n",
       "      <td>A. Pulido</td>\n",
       "      <td>Mexico</td>\n",
       "      <td>Guadalajara</td>\n",
       "      <td>9.0</td>\n",
       "      <td>6500000.0</td>\n",
       "      <td>35000.0</td>\n",
       "      <td>27</td>\n",
       "      <td>5'10</td>\n",
       "      <td>168lbs</td>\n",
       "      <td>...</td>\n",
       "      <td>74</td>\n",
       "      <td>75</td>\n",
       "      <td>68.0</td>\n",
       "      <td>40.0</td>\n",
       "      <td>63.0</td>\n",
       "      <td>75.0</td>\n",
       "      <td>70.0</td>\n",
       "      <td>68.0</td>\n",
       "      <td>11.0</td>\n",
       "      <td>1</td>\n",
       "    </tr>\n",
       "    <tr>\n",
       "      <th>391</th>\n",
       "      <td>224151</td>\n",
       "      <td>H. Martín</td>\n",
       "      <td>Mexico</td>\n",
       "      <td>Club América</td>\n",
       "      <td>21.0</td>\n",
       "      <td>4000000.0</td>\n",
       "      <td>41000.0</td>\n",
       "      <td>25</td>\n",
       "      <td>5'10</td>\n",
       "      <td>161lbs</td>\n",
       "      <td>...</td>\n",
       "      <td>72</td>\n",
       "      <td>75</td>\n",
       "      <td>66.0</td>\n",
       "      <td>40.0</td>\n",
       "      <td>64.0</td>\n",
       "      <td>75.0</td>\n",
       "      <td>73.0</td>\n",
       "      <td>69.0</td>\n",
       "      <td>10.0</td>\n",
       "      <td>3</td>\n",
       "    </tr>\n",
       "  </tbody>\n",
       "</table>\n",
       "<p>3 rows × 22 columns</p>\n",
       "</div>"
      ],
      "text/plain": [
       "         ID          Name Nationality             Club  Jersey Number  \\\n",
       "77   178224  J. Hernández      Mexico  West Ham United           17.0   \n",
       "250  192930     A. Pulido      Mexico      Guadalajara            9.0   \n",
       "391  224151     H. Martín      Mexico     Club América           21.0   \n",
       "\n",
       "          Value     Wage  Age Height  Weight  ... Overall Potential  Shooting  \\\n",
       "77   12000000.0  90000.0   30    5'9  161lbs  ...      79        79      71.0   \n",
       "250   6500000.0  35000.0   27   5'10  168lbs  ...      74        75      68.0   \n",
       "391   4000000.0  41000.0   25   5'10  161lbs  ...      72        75      66.0   \n",
       "\n",
       "     Defense  Passing  Physical  Control  Mental  GoalKeeping  Potential left  \n",
       "77      37.0     62.0      72.0     76.0    77.0         12.0               0  \n",
       "250     40.0     63.0      75.0     70.0    68.0         11.0               1  \n",
       "391     40.0     64.0      75.0     73.0    69.0         10.0               3  \n",
       "\n",
       "[3 rows x 22 columns]"
      ]
     },
     "execution_count": 39,
     "metadata": {},
     "output_type": "execute_result"
    }
   ],
   "source": [
    "players_mx_df = fifa_df[fifa_df.Nationality=='Mexico']\n",
    "\n",
    "players_mx_df.head(3)\n",
    "\n",
    "###players_mx_df = fifa_df[fifa_df.Nationality=='Mexico'].groupby('Club').aggregate('Name').count()\n",
    "###players_mx_df = fifa_df[fifa_df.Nationality=='Mexico'].groupby('Club').aggregate( {'Name': [(\"Mexicans\",\"count\")] }  )#.sort_values(by='Mexicans')\n",
    "#players_mx_df = fifa_df[fifa_df.Nationality=='Mexico'].groupby('Club').count().sort_values(by='Name', ascending=False).rename(columns={\"Name\": \"Mexicans\"})[['Mexicans']]\n"
   ]
  },
  {
   "cell_type": "markdown",
   "metadata": {
    "id": "GOeknoZwpxSQ"
   },
   "source": [
    "Agrupa por el nombre del club y cuenta:"
   ]
  },
  {
   "cell_type": "code",
   "execution_count": 40,
   "metadata": {
    "id": "1RN0-mwMJVXI"
   },
   "outputs": [
    {
     "data": {
      "text/html": [
       "<div>\n",
       "<style scoped>\n",
       "    .dataframe tbody tr th:only-of-type {\n",
       "        vertical-align: middle;\n",
       "    }\n",
       "\n",
       "    .dataframe tbody tr th {\n",
       "        vertical-align: top;\n",
       "    }\n",
       "\n",
       "    .dataframe thead th {\n",
       "        text-align: right;\n",
       "    }\n",
       "</style>\n",
       "<table border=\"1\" class=\"dataframe\">\n",
       "  <thead>\n",
       "    <tr style=\"text-align: right;\">\n",
       "      <th></th>\n",
       "      <th>Mexicans</th>\n",
       "    </tr>\n",
       "    <tr>\n",
       "      <th>Club</th>\n",
       "      <th></th>\n",
       "    </tr>\n",
       "  </thead>\n",
       "  <tbody>\n",
       "    <tr>\n",
       "      <th>Guadalajara</th>\n",
       "      <td>29</td>\n",
       "    </tr>\n",
       "    <tr>\n",
       "      <th>U.N.A.M.</th>\n",
       "      <td>21</td>\n",
       "    </tr>\n",
       "    <tr>\n",
       "      <th>Club Atlas</th>\n",
       "      <td>20</td>\n",
       "    </tr>\n",
       "    <tr>\n",
       "      <th>Club Necaxa</th>\n",
       "      <td>20</td>\n",
       "    </tr>\n",
       "    <tr>\n",
       "      <th>Querétaro</th>\n",
       "      <td>19</td>\n",
       "    </tr>\n",
       "    <tr>\n",
       "      <th>Tigres U.A.N.L.</th>\n",
       "      <td>19</td>\n",
       "    </tr>\n",
       "    <tr>\n",
       "      <th>Tiburones Rojos de Veracruz</th>\n",
       "      <td>18</td>\n",
       "    </tr>\n",
       "    <tr>\n",
       "      <th>Club América</th>\n",
       "      <td>18</td>\n",
       "    </tr>\n",
       "    <tr>\n",
       "      <th>Club León</th>\n",
       "      <td>18</td>\n",
       "    </tr>\n",
       "    <tr>\n",
       "      <th>Puebla FC</th>\n",
       "      <td>18</td>\n",
       "    </tr>\n",
       "    <tr>\n",
       "      <th>Pachuca</th>\n",
       "      <td>18</td>\n",
       "    </tr>\n",
       "    <tr>\n",
       "      <th>Monarcas Morelia</th>\n",
       "      <td>17</td>\n",
       "    </tr>\n",
       "    <tr>\n",
       "      <th>Deportivo Toluca</th>\n",
       "      <td>17</td>\n",
       "    </tr>\n",
       "    <tr>\n",
       "      <th>Monterrey</th>\n",
       "      <td>16</td>\n",
       "    </tr>\n",
       "    <tr>\n",
       "      <th>Cruz Azul</th>\n",
       "      <td>16</td>\n",
       "    </tr>\n",
       "    <tr>\n",
       "      <th>Club Tijuana</th>\n",
       "      <td>16</td>\n",
       "    </tr>\n",
       "    <tr>\n",
       "      <th>Lobos BUAP</th>\n",
       "      <td>16</td>\n",
       "    </tr>\n",
       "    <tr>\n",
       "      <th>Santos Laguna</th>\n",
       "      <td>15</td>\n",
       "    </tr>\n",
       "    <tr>\n",
       "      <th>CD Everton de Viña del Mar</th>\n",
       "      <td>4</td>\n",
       "    </tr>\n",
       "    <tr>\n",
       "      <th>PSV</th>\n",
       "      <td>2</td>\n",
       "    </tr>\n",
       "    <tr>\n",
       "      <th>Boyacá Chicó FC</th>\n",
       "      <td>2</td>\n",
       "    </tr>\n",
       "    <tr>\n",
       "      <th>FC Porto</th>\n",
       "      <td>2</td>\n",
       "    </tr>\n",
       "    <tr>\n",
       "      <th>LA Galaxy</th>\n",
       "      <td>2</td>\n",
       "    </tr>\n",
       "    <tr>\n",
       "      <th>Eintracht Frankfurt</th>\n",
       "      <td>2</td>\n",
       "    </tr>\n",
       "    <tr>\n",
       "      <th>Standard de Liège</th>\n",
       "      <td>1</td>\n",
       "    </tr>\n",
       "    <tr>\n",
       "      <th>Real Sociedad</th>\n",
       "      <td>1</td>\n",
       "    </tr>\n",
       "    <tr>\n",
       "      <th>Vancouver Whitecaps FC</th>\n",
       "      <td>1</td>\n",
       "    </tr>\n",
       "    <tr>\n",
       "      <th>Villarreal CF</th>\n",
       "      <td>1</td>\n",
       "    </tr>\n",
       "    <tr>\n",
       "      <th>Seattle Sounders FC</th>\n",
       "      <td>1</td>\n",
       "    </tr>\n",
       "    <tr>\n",
       "      <th>West Ham United</th>\n",
       "      <td>1</td>\n",
       "    </tr>\n",
       "    <tr>\n",
       "      <th>Royal Antwerp FC</th>\n",
       "      <td>1</td>\n",
       "    </tr>\n",
       "    <tr>\n",
       "      <th>Atlético Huila</th>\n",
       "      <td>1</td>\n",
       "    </tr>\n",
       "    <tr>\n",
       "      <th>Real Salt Lake</th>\n",
       "      <td>1</td>\n",
       "    </tr>\n",
       "    <tr>\n",
       "      <th>Real Oviedo</th>\n",
       "      <td>1</td>\n",
       "    </tr>\n",
       "    <tr>\n",
       "      <th>Real Betis</th>\n",
       "      <td>1</td>\n",
       "    </tr>\n",
       "    <tr>\n",
       "      <th>RC Celta</th>\n",
       "      <td>1</td>\n",
       "    </tr>\n",
       "    <tr>\n",
       "      <th>Los Angeles FC</th>\n",
       "      <td>1</td>\n",
       "    </tr>\n",
       "    <tr>\n",
       "      <th>La Equidad</th>\n",
       "      <td>1</td>\n",
       "    </tr>\n",
       "    <tr>\n",
       "      <th>Fenerbahçe SK</th>\n",
       "      <td>1</td>\n",
       "    </tr>\n",
       "    <tr>\n",
       "      <th>FC Groningen</th>\n",
       "      <td>1</td>\n",
       "    </tr>\n",
       "    <tr>\n",
       "      <th>FC Dallas</th>\n",
       "      <td>1</td>\n",
       "    </tr>\n",
       "    <tr>\n",
       "      <th>Chicago Fire</th>\n",
       "      <td>1</td>\n",
       "    </tr>\n",
       "    <tr>\n",
       "      <th>CD Feirense</th>\n",
       "      <td>1</td>\n",
       "    </tr>\n",
       "    <tr>\n",
       "      <th>Wolverhampton Wanderers</th>\n",
       "      <td>1</td>\n",
       "    </tr>\n",
       "  </tbody>\n",
       "</table>\n",
       "</div>"
      ],
      "text/plain": [
       "                             Mexicans\n",
       "Club                                 \n",
       "Guadalajara                        29\n",
       "U.N.A.M.                           21\n",
       "Club Atlas                         20\n",
       "Club Necaxa                        20\n",
       "Querétaro                          19\n",
       "Tigres U.A.N.L.                    19\n",
       "Tiburones Rojos de Veracruz        18\n",
       "Club América                       18\n",
       "Club León                          18\n",
       "Puebla FC                          18\n",
       "Pachuca                            18\n",
       "Monarcas Morelia                   17\n",
       "Deportivo Toluca                   17\n",
       "Monterrey                          16\n",
       "Cruz Azul                          16\n",
       "Club Tijuana                       16\n",
       "Lobos BUAP                         16\n",
       "Santos Laguna                      15\n",
       "CD Everton de Viña del Mar          4\n",
       "PSV                                 2\n",
       "Boyacá Chicó FC                     2\n",
       "FC Porto                            2\n",
       "LA Galaxy                           2\n",
       "Eintracht Frankfurt                 2\n",
       "Standard de Liège                   1\n",
       "Real Sociedad                       1\n",
       "Vancouver Whitecaps FC              1\n",
       "Villarreal CF                       1\n",
       "Seattle Sounders FC                 1\n",
       "West Ham United                     1\n",
       "Royal Antwerp FC                    1\n",
       "Atlético Huila                      1\n",
       "Real Salt Lake                      1\n",
       "Real Oviedo                         1\n",
       "Real Betis                          1\n",
       "RC Celta                            1\n",
       "Los Angeles FC                      1\n",
       "La Equidad                          1\n",
       "Fenerbahçe SK                       1\n",
       "FC Groningen                        1\n",
       "FC Dallas                           1\n",
       "Chicago Fire                        1\n",
       "CD Feirense                         1\n",
       "Wolverhampton Wanderers             1"
      ]
     },
     "execution_count": 40,
     "metadata": {},
     "output_type": "execute_result"
    }
   ],
   "source": [
    "players_mx_df.groupby('Club').count().sort_values(by='Name', ascending=False).rename(columns={\"Name\": \"Mexicans\"})[['Mexicans']]"
   ]
  },
  {
   "cell_type": "markdown",
   "metadata": {
    "id": "f5Vi_hQCbyDL"
   },
   "source": [
    "## Visualización\n",
    "\n",
    "Utiliza las opciones de visualización de Pandas."
   ]
  },
  {
   "cell_type": "markdown",
   "metadata": {
    "id": "gIE5S2l6kQaL"
   },
   "source": [
    "### Histograma de las edades de los jugadores de futbol\n",
    "\n",
    "Selecciona la columna ``Age``` del dataframe ```fifa_df``` y muestra el histograma usando las opciones de visualización de Pandas:"
   ]
  },
  {
   "cell_type": "code",
   "execution_count": 41,
   "metadata": {
    "id": "6zlGLD6Yb8XQ"
   },
   "outputs": [
    {
     "data": {
      "text/plain": [
       "<AxesSubplot: ylabel='Frequency'>"
      ]
     },
     "execution_count": 41,
     "metadata": {},
     "output_type": "execute_result"
    },
    {
     "data": {
      "image/png": "[encoded data removed]",
      "text/plain": [
       "<Figure size 432x288 with 1 Axes>"
      ]
     },
     "metadata": {
      "needs_background": "light"
     },
     "output_type": "display_data"
    }
   ],
   "source": [
    "fifa_df['Age'].plot.hist(bins=10)\n"
   ]
  },
  {
   "cell_type": "markdown",
   "metadata": {
    "id": "K-ZhgvfWR_rT"
   },
   "source": [
    "### Gráfica de Pie (Preferred Foot)\n",
    "\n",
    "Selecciónes el conteo de valores del pie preferido (columna ```Preferred Foot```) y muestra la información mediante una gráfica de Pie:"
   ]
  },
  {
   "cell_type": "code",
   "execution_count": 42,
   "metadata": {
    "id": "wT4II3U_R_51"
   },
   "outputs": [
    {
     "data": {
      "text/plain": [
       "<AxesSubplot: ylabel='Preferred Foot'>"
      ]
     },
     "execution_count": 42,
     "metadata": {},
     "output_type": "execute_result"
    },
    {
     "data": {
      "image/png": "[encoded data removed]",
      "text/plain": [
       "<Figure size 432x288 with 1 Axes>"
      ]
     },
     "metadata": {},
     "output_type": "display_data"
    }
   ],
   "source": [
    "fifa_df['Preferred Foot'].value_counts().plot.pie()"
   ]
  },
  {
   "cell_type": "markdown",
   "metadata": {
    "id": "88Quw6tnb88P"
   },
   "source": [
    "### Gráfica de dispersión Edad vs Potential left\n",
    "\n",
    "Ahora, utiliza una gráfica de dispersión para visualizar el comportamiento del potencial por alcanzar (```Potential left```) de acuerdo a las edades de los jugadores:\n",
    "\n",
    "*Tip: La gráfica debe mostrar la edad en un eje y el potencial por alcanzar en el otro.*"
   ]
  },
  {
   "cell_type": "code",
   "execution_count": 43,
   "metadata": {
    "id": "A8oJxUi5kc8B",
    "scrolled": true
   },
   "outputs": [
    {
     "data": {
      "text/plain": [
       "<AxesSubplot: xlabel='Age', ylabel='Potential left'>"
      ]
     },
     "execution_count": 43,
     "metadata": {},
     "output_type": "execute_result"
    },
    {
     "data": {
      "image/png": "[encoded data removed]",
      "text/plain": [
       "<Figure size 432x288 with 2 Axes>"
      ]
     },
     "metadata": {
      "needs_background": "light"
     },
     "output_type": "display_data"
    }
   ],
   "source": [
    "# <completa>.plot.scatter(<completa>)\n",
    "fifa_df.plot.scatter('Age','Potential left',c='Potential left',colormap='viridis')"
   ]
  },
  {
   "cell_type": "markdown",
   "metadata": {
    "id": "SSr_il5HRx5A"
   },
   "source": [
    "¿Qué otras variables o mezcla de variables sería interesante visualizar?\n",
    "\n",
    "Height vs Goallkeeping no puede dar nociones de las mejores alturas para seleccionar un portero.\n",
    "Se observa que son mejores mientras más altos\n",
    "\n",
    "Preferred Foot vs GoalKeeping para ver si hay alguna relación entre el pie que usan los porteros y su calidad como porteros.\n",
    "Se observa que hay mejores porteros que usan el pie derecho.\n",
    "\n",
    "Weight vs Value. Veamos si hay alguna relación entre estas dos variables en los delanteros.\n",
    "Se observa que los delanteros más ligeros por lo general tienen más valor (probablemente son más veloces).\n"
   ]
  },
  {
   "cell_type": "code",
   "execution_count": 44,
   "metadata": {},
   "outputs": [
    {
     "name": "stderr",
     "output_type": "stream",
     "text": [
      "/mnt/LENG/dev/anaconda3/envs/training9/lib/python3.9/site-packages/pandas/plotting/_matplotlib/core.py:1114: UserWarning: No data for colormapping provided via 'c'. Parameters 'cmap' will be ignored\n",
      "  scatter = ax.scatter(\n",
      "/mnt/LENG/dev/anaconda3/envs/training9/lib/python3.9/site-packages/pandas/plotting/_matplotlib/core.py:1114: UserWarning: No data for colormapping provided via 'c'. Parameters 'cmap' will be ignored\n",
      "  scatter = ax.scatter(\n",
      "/mnt/LENG/dev/anaconda3/envs/training9/lib/python3.9/site-packages/pandas/plotting/_matplotlib/core.py:1114: UserWarning: No data for colormapping provided via 'c'. Parameters 'cmap' will be ignored\n",
      "  scatter = ax.scatter(\n"
     ]
    },
    {
     "data": {
      "text/plain": [
       "<AxesSubplot: xlabel='Value', ylabel='Weight'>"
      ]
     },
     "execution_count": 44,
     "metadata": {},
     "output_type": "execute_result"
    },
    {
     "data": {
      "image/png": "[encoded data removed]",
      "text/plain": [
       "<Figure size 432x288 with 1 Axes>"
      ]
     },
     "metadata": {
      "needs_background": "light"
     },
     "output_type": "display_data"
    },
    {
     "data": {
      "image/png": "[encoded data removed]",
      "text/plain": [
       "<Figure size 432x288 with 1 Axes>"
      ]
     },
     "metadata": {
      "needs_background": "light"
     },
     "output_type": "display_data"
    },
    {
     "data": {
      "image/png": "[encoded data removed]",
      "text/plain": [
       "<Figure size 432x288 with 1 Axes>"
      ]
     },
     "metadata": {
      "needs_background": "light"
     },
     "output_type": "display_data"
    }
   ],
   "source": [
    "fifa_df[(fifa_df.Position==\"Goalkeeper (GK)\")].plot.scatter('GoalKeeping','Height',c=None)\n",
    "fifa_df[(fifa_df.Position==\"Goalkeeper (GK)\")].plot.scatter('Preferred Foot','GoalKeeping',c=None)\n",
    "fifa_df[(fifa_df.Position==\"Striker (ST)\")].plot.scatter('Value','Weight')\n"
   ]
  },
  {
   "cell_type": "markdown",
   "metadata": {
    "id": "8NCzkort1t2j"
   },
   "source": [
    "# Desafío Adicional\n",
    "\n",
    "En la práctica con Numpy, creaste un modelo para identificar imágenes de dígitos escritos a mano. \n",
    "\n",
    "Para este nuevo conjunto de datos, ¿podrías usar una metodología similar para encontrar la posición en el campo de un jugador solamente usando los valores de su habilidades? \n",
    "\n",
    "Skills: ```Shooting \tDefense \tPassing \tPhysical \tControl \tMental \tGoalKeeping```"
   ]
  },
  {
   "cell_type": "code",
   "execution_count": 45,
   "metadata": {
    "id": "HTOqsnGF1u7E"
   },
   "outputs": [
    {
     "name": "stdout",
     "output_type": "stream",
     "text": [
      "0          Right Forward (RF)\n",
      "1          Right Forward (RF)\n",
      "2          Right Forward (RF)\n",
      "3          Right Forward (RF)\n",
      "4          Right Forward (RF)\n",
      "                 ...         \n",
      "17913    Left Wing Back (LWB)\n",
      "17914    Left Wing Back (LWB)\n",
      "17915    Left Wing Back (LWB)\n",
      "17916    Left Wing Back (LWB)\n",
      "17917    Left Wing Back (LWB)\n",
      "Name: Position, Length: 17918, dtype: object\n"
     ]
    },
    {
     "data": {
      "text/html": [
       "<div>\n",
       "<style scoped>\n",
       "    .dataframe tbody tr th:only-of-type {\n",
       "        vertical-align: middle;\n",
       "    }\n",
       "\n",
       "    .dataframe tbody tr th {\n",
       "        vertical-align: top;\n",
       "    }\n",
       "\n",
       "    .dataframe thead th {\n",
       "        text-align: right;\n",
       "    }\n",
       "</style>\n",
       "<table border=\"1\" class=\"dataframe\">\n",
       "  <thead>\n",
       "    <tr style=\"text-align: right;\">\n",
       "      <th></th>\n",
       "      <th>Shooting</th>\n",
       "      <th>Defense</th>\n",
       "      <th>Passing</th>\n",
       "      <th>Physical</th>\n",
       "      <th>Control</th>\n",
       "      <th>Mental</th>\n",
       "      <th>GoalKeeping</th>\n",
       "    </tr>\n",
       "  </thead>\n",
       "  <tbody>\n",
       "    <tr>\n",
       "      <th>0</th>\n",
       "      <td>86.0</td>\n",
       "      <td>41.0</td>\n",
       "      <td>87.0</td>\n",
       "      <td>80.0</td>\n",
       "      <td>96.0</td>\n",
       "      <td>95.0</td>\n",
       "      <td>11.0</td>\n",
       "    </tr>\n",
       "    <tr>\n",
       "      <th>1</th>\n",
       "      <td>74.0</td>\n",
       "      <td>46.0</td>\n",
       "      <td>78.0</td>\n",
       "      <td>77.0</td>\n",
       "      <td>91.0</td>\n",
       "      <td>84.0</td>\n",
       "      <td>8.0</td>\n",
       "    </tr>\n",
       "    <tr>\n",
       "      <th>2</th>\n",
       "      <td>79.0</td>\n",
       "      <td>46.0</td>\n",
       "      <td>78.0</td>\n",
       "      <td>69.0</td>\n",
       "      <td>78.0</td>\n",
       "      <td>82.0</td>\n",
       "      <td>12.0</td>\n",
       "    </tr>\n",
       "    <tr>\n",
       "      <th>3</th>\n",
       "      <td>80.0</td>\n",
       "      <td>49.0</td>\n",
       "      <td>73.0</td>\n",
       "      <td>73.0</td>\n",
       "      <td>75.0</td>\n",
       "      <td>78.0</td>\n",
       "      <td>11.0</td>\n",
       "    </tr>\n",
       "    <tr>\n",
       "      <th>4</th>\n",
       "      <td>70.0</td>\n",
       "      <td>32.0</td>\n",
       "      <td>72.0</td>\n",
       "      <td>72.0</td>\n",
       "      <td>77.0</td>\n",
       "      <td>72.0</td>\n",
       "      <td>9.0</td>\n",
       "    </tr>\n",
       "    <tr>\n",
       "      <th>...</th>\n",
       "      <td>...</td>\n",
       "      <td>...</td>\n",
       "      <td>...</td>\n",
       "      <td>...</td>\n",
       "      <td>...</td>\n",
       "      <td>...</td>\n",
       "      <td>...</td>\n",
       "    </tr>\n",
       "    <tr>\n",
       "      <th>17913</th>\n",
       "      <td>36.0</td>\n",
       "      <td>51.0</td>\n",
       "      <td>52.0</td>\n",
       "      <td>71.0</td>\n",
       "      <td>63.0</td>\n",
       "      <td>43.0</td>\n",
       "      <td>11.0</td>\n",
       "    </tr>\n",
       "    <tr>\n",
       "      <th>17914</th>\n",
       "      <td>48.0</td>\n",
       "      <td>46.0</td>\n",
       "      <td>55.0</td>\n",
       "      <td>67.0</td>\n",
       "      <td>66.0</td>\n",
       "      <td>51.0</td>\n",
       "      <td>8.0</td>\n",
       "    </tr>\n",
       "    <tr>\n",
       "      <th>17915</th>\n",
       "      <td>30.0</td>\n",
       "      <td>49.0</td>\n",
       "      <td>34.0</td>\n",
       "      <td>67.0</td>\n",
       "      <td>43.0</td>\n",
       "      <td>38.0</td>\n",
       "      <td>10.0</td>\n",
       "    </tr>\n",
       "    <tr>\n",
       "      <th>17916</th>\n",
       "      <td>32.0</td>\n",
       "      <td>53.0</td>\n",
       "      <td>41.0</td>\n",
       "      <td>65.0</td>\n",
       "      <td>59.0</td>\n",
       "      <td>44.0</td>\n",
       "      <td>11.0</td>\n",
       "    </tr>\n",
       "    <tr>\n",
       "      <th>17917</th>\n",
       "      <td>28.0</td>\n",
       "      <td>47.0</td>\n",
       "      <td>39.0</td>\n",
       "      <td>70.0</td>\n",
       "      <td>58.0</td>\n",
       "      <td>45.0</td>\n",
       "      <td>10.0</td>\n",
       "    </tr>\n",
       "  </tbody>\n",
       "</table>\n",
       "<p>17918 rows × 7 columns</p>\n",
       "</div>"
      ],
      "text/plain": [
       "       Shooting  Defense  Passing  Physical  Control  Mental  GoalKeeping\n",
       "0          86.0     41.0     87.0      80.0     96.0    95.0         11.0\n",
       "1          74.0     46.0     78.0      77.0     91.0    84.0          8.0\n",
       "2          79.0     46.0     78.0      69.0     78.0    82.0         12.0\n",
       "3          80.0     49.0     73.0      73.0     75.0    78.0         11.0\n",
       "4          70.0     32.0     72.0      72.0     77.0    72.0          9.0\n",
       "...         ...      ...      ...       ...      ...     ...          ...\n",
       "17913      36.0     51.0     52.0      71.0     63.0    43.0         11.0\n",
       "17914      48.0     46.0     55.0      67.0     66.0    51.0          8.0\n",
       "17915      30.0     49.0     34.0      67.0     43.0    38.0         10.0\n",
       "17916      32.0     53.0     41.0      65.0     59.0    44.0         11.0\n",
       "17917      28.0     47.0     39.0      70.0     58.0    45.0         10.0\n",
       "\n",
       "[17918 rows x 7 columns]"
      ]
     },
     "execution_count": 45,
     "metadata": {},
     "output_type": "execute_result"
    }
   ],
   "source": [
    "# Slicing:\n",
    "\n",
    "y=fifa_df['Position']\n",
    "#X = fifa_df.iloc[:,14:21]\n",
    "# o bien:\n",
    "X = fifa_df[['Shooting','Defense','Passing','Physical','Control','Mental','GoalKeeping']]\n",
    "print(y)\n",
    "X\n"
   ]
  },
  {
   "cell_type": "code",
   "execution_count": 46,
   "metadata": {},
   "outputs": [
    {
     "name": "stdout",
     "output_type": "stream",
     "text": [
      "                                     Shooting    Defense    Passing  \\\n",
      "Right Forward (RF)                  66.875000  43.625000  68.312500   \n",
      "Striker (ST)                        58.704225  33.600000  49.437559   \n",
      "Left Wing (LW)                      57.360963  39.387701  59.780749   \n",
      "Goalkeeper (GK)                     15.380522  14.323293  22.441265   \n",
      "Right Center Midfield (RCM)         58.000000  60.811370  66.142119   \n",
      "Left Forward (LF)                   65.800000  44.000000  69.533333   \n",
      "Right Side (RS)                     62.253731  37.507463  54.646766   \n",
      "Right Center Back (RCB)             42.342025  61.849693  52.161043   \n",
      "Left Center Midfield (LCM)          58.349614  59.832905  66.341902   \n",
      "Center Back (CB)                    39.440707  57.958381  47.750285   \n",
      "Left Defensive Midfielder (LDM)     55.506276  62.748954  64.912134   \n",
      "Central Attacking Midfielder (CAM)  58.210970  44.566456  63.239451   \n",
      "Central Defensive Midfielder (CDM)  50.778846  61.333333  61.315171   \n",
      "Left Side (LS)                      62.757282  37.519417  55.912621   \n",
      "Left Center Back (LCB)              42.695447  61.927786  53.284144   \n",
      "Right Midfielder (RM)               55.871634  43.453321  61.163375   \n",
      "Left Attacking Midfielder (LAM)     62.476190  40.238095  68.285714   \n",
      "Left Midfielder (LM)                56.477901  43.394107  61.589319   \n",
      "Left Back (LB)                      47.332567  61.746360  60.037548   \n",
      "Right Defensive Midfielder (RDM)    55.426829  63.682927  65.008130   \n",
      "Right Wing (RW)                     57.287671  39.126027  60.326027   \n",
      "Central Midfield (CM)               52.965142  55.779956  62.090777   \n",
      "Right Back (RB)                     45.956625  62.031546  59.787855   \n",
      "Right Attacking Midfielder (RAM)    62.095238  46.238095  67.714286   \n",
      "Center Forward (CF)                 59.270270  35.932432  57.432432   \n",
      "Right Wing Back (RWB)               46.402299  59.482759  59.275862   \n",
      "Left Wing Back (LWB)                49.192308  61.153846  61.358974   \n",
      "\n",
      "                                     Physical    Control     Mental  \\\n",
      "Right Forward (RF)                  71.062500  73.750000  70.562500   \n",
      "Striker (ST)                        66.998122  63.394836  58.792958   \n",
      "Left Wing (LW)                      69.208556  70.590909  60.871658   \n",
      "Goalkeeper (GK)                     44.127510  25.601908  47.028112   \n",
      "Right Center Midfield (RCM)         68.485788  68.418605  66.434109   \n",
      "Left Forward (LF)                   73.733333  77.666667  70.800000   \n",
      "Right Side (RS)                     70.457711  66.925373  63.039801   \n",
      "Right Center Back (RCB)             62.914110  52.124233  56.340491   \n",
      "Left Center Midfield (LCM)          68.485861  69.043702  66.568123   \n",
      "Center Back (CB)                    61.099202  49.531927  51.751425   \n",
      "Left Defensive Midfielder (LDM)     66.744770  66.246862  65.171548   \n",
      "Central Attacking Midfielder (CAM)  66.476793  69.940928  63.670886   \n",
      "Central Defensive Midfielder (CDM)  65.305556  63.266026  61.259615   \n",
      "Left Side (LS)                      69.839806  67.223301  63.718447   \n",
      "Left Center Back (LCB)              63.262166  53.058085  56.555730   \n",
      "Right Midfielder (RM)               69.807899  69.447038  60.617594   \n",
      "Left Attacking Midfielder (LAM)     69.904762  73.857143  70.142857   \n",
      "Left Midfielder (LM)                69.804788  69.961326  60.949355   \n",
      "Left Back (LB)                      69.247510  64.360920  57.204598   \n",
      "Right Defensive Midfielder (RDM)    67.711382  66.081301  65.617886   \n",
      "Right Wing (RW)                     69.246575  70.742466  60.964384   \n",
      "Central Midfield (CM)               65.426289  65.816993  61.179375   \n",
      "Right Back (RB)                     69.716877  64.189274  57.250000   \n",
      "Right Attacking Midfielder (RAM)    69.809524  74.761905  70.380952   \n",
      "Center Forward (CF)                 68.445946  70.081081  62.148649   \n",
      "Right Wing Back (RWB)               69.804598  64.080460  56.448276   \n",
      "Left Wing Back (LWB)                70.897436  65.602564  58.910256   \n",
      "\n",
      "                                    GoalKeeping  \n",
      "Right Forward (RF)                    10.687500  \n",
      "Striker (ST)                          10.507981  \n",
      "Left Wing (LW)                        10.387701  \n",
      "Goalkeeper (GK)                       63.721386  \n",
      "Right Center Midfield (RCM)           10.643411  \n",
      "Left Forward (LF)                     10.800000  \n",
      "Right Side (RS)                       10.800995  \n",
      "Right Center Back (RCB)               10.639571  \n",
      "Left Center Midfield (LCM)            10.524422  \n",
      "Center Back (CB)                      10.505701  \n",
      "Left Defensive Midfielder (LDM)       10.669456  \n",
      "Central Attacking Midfielder (CAM)    10.489451  \n",
      "Central Defensive Midfielder (CDM)    10.577991  \n",
      "Left Side (LS)                        10.543689  \n",
      "Left Center Back (LCB)                10.599686  \n",
      "Right Midfielder (RM)                 10.555655  \n",
      "Left Attacking Midfielder (LAM)       10.666667  \n",
      "Left Midfielder (LM)                  10.511050  \n",
      "Left Back (LB)                        10.503448  \n",
      "Right Defensive Midfielder (RDM)      10.926829  \n",
      "Right Wing (RW)                       10.424658  \n",
      "Central Midfield (CM)                 10.433551  \n",
      "Right Back (RB)                       10.530757  \n",
      "Right Attacking Midfielder (RAM)      10.571429  \n",
      "Center Forward (CF)                    9.878378  \n",
      "Right Wing Back (RWB)                 10.459770  \n",
      "Left Wing Back (LWB)                  10.500000  \n"
     ]
    },
    {
     "data": {
      "text/plain": [
       "0          Right Forward (RF)\n",
       "1          Right Forward (RF)\n",
       "2          Right Forward (RF)\n",
       "3          Right Forward (RF)\n",
       "4          Right Forward (RF)\n",
       "                 ...         \n",
       "17913    Left Wing Back (LWB)\n",
       "17914    Left Wing Back (LWB)\n",
       "17915    Left Wing Back (LWB)\n",
       "17916    Left Wing Back (LWB)\n",
       "17917    Left Wing Back (LWB)\n",
       "Name: Position, Length: 17918, dtype: object"
      ]
     },
     "execution_count": 46,
     "metadata": {},
     "output_type": "execute_result"
    }
   ],
   "source": [
    "# Creando el set representativo:\n",
    "\n",
    "def class_means(X, y):\n",
    "  \"\"\"\n",
    "  Calcula el arreglo promedio (representativo) de cada clase\n",
    "  \"\"\"\n",
    "  # Numero de ejemplos (filas)\n",
    "  m = X.shape[0]\n",
    "  # Numero de features (columnas)\n",
    "  n = X.shape[1]\n",
    "  # Clases distintas en el set\n",
    "  ulabels = y.unique()\n",
    "  # Numero de clases\n",
    "  classes = ulabels.size\n",
    "\n",
    "  # Rellena means con el arreglo promedio de cada clase\n",
    "  #means = pd.empty((classes, n))\n",
    "  means = []\n",
    "\n",
    "  for i in range(classes):\n",
    "    item = X[ y==ulabels[i] ].mean(axis=0)\n",
    "    means.append(item)\n",
    "    #print('appended mean for: ',ulabels[i])\n",
    "\n",
    "  return pd.DataFrame(means,index=ulabels,columns=X.columns)\n",
    "\n",
    "#yR = X.mean(axis=0)\n",
    "class_representatives = class_means(X, y)\n",
    "print(class_representatives)\n",
    "y"
   ]
  },
  {
   "cell_type": "code",
   "execution_count": 47,
   "metadata": {},
   "outputs": [],
   "source": [
    "# función para distancia euclidiana\n",
    "import numpy as np\n",
    "def euclidean_distance(P, Q):\n",
    "  \"\"\"\n",
    "  Calcula la distancia euclidiana entre los elementos de P y Q\n",
    "  \"\"\"\n",
    "  #print(P.shape,type(P))\n",
    "  #print(Q.shape,type(Q))\n",
    "\n",
    "  if P.shape[0] != Q.shape[0]:\n",
    "        raise Exception(\"Dimmensions mismatch\") \n",
    "  \n",
    "  e_distance = np.sqrt((P.sub(Q,axis=0)).pow(2).sum())\n",
    "\n",
    "  return e_distance"
   ]
  },
  {
   "cell_type": "code",
   "execution_count": 48,
   "metadata": {},
   "outputs": [
    {
     "data": {
      "text/plain": [
       "68.94993743628768"
      ]
     },
     "execution_count": 48,
     "metadata": {},
     "output_type": "execute_result"
    }
   ],
   "source": [
    "# prueba de la función de distancia euclidiana\n",
    "euclidean_distance(class_representatives.loc['Striker (ST)'], X.iloc[0])\n",
    "\n"
   ]
  },
  {
   "cell_type": "code",
   "execution_count": 49,
   "metadata": {},
   "outputs": [
    {
     "data": {
      "text/plain": [
       "0                      Left Forward (LF)\n",
       "1                      Left Forward (LF)\n",
       "2                      Left Forward (LF)\n",
       "3                     Right Forward (RF)\n",
       "4        Left Attacking Midfielder (LAM)\n",
       "                      ...               \n",
       "17913              Right Wing Back (RWB)\n",
       "17914              Right Midfielder (RM)\n",
       "17915                   Center Back (CB)\n",
       "17916                   Center Back (CB)\n",
       "17917                   Center Back (CB)\n",
       "Length: 17918, dtype: object"
      ]
     },
     "execution_count": 49,
     "metadata": {},
     "output_type": "execute_result"
    }
   ],
   "source": [
    "def closest_point(X, representatives):\n",
    "  \"\"\"\n",
    "  Devuelve un arreglo con la etiqueta del elemento mas cercano\n",
    "  para cada ejemplo en X\n",
    "\n",
    "  X -  el arreglo con los ejemplos\n",
    "  representatives - el arreglo con los elementos representativos de cada clase\n",
    "  \"\"\"\n",
    "  # Numero de ejemplos (filas)\n",
    "  m = X.shape[0]\n",
    "  # Numero de features (columnas)\n",
    "  n = X.shape[1]\n",
    "  # Numero de clases\n",
    "  classes = representatives.shape[0]\n",
    "\n",
    "  best = []\n",
    "   \n",
    "  for i in range(m):\n",
    "    closest = euclidean_distance(representatives.T,X.iloc[i] ).idxmin()\n",
    "    #print('----->',closest)\n",
    "    best.append( closest)\n",
    "  \n",
    "  return pd.Series(best)\n",
    "\n",
    "y_pred = closest_point(X, class_representatives)\n",
    "y_pred"
   ]
  },
  {
   "cell_type": "code",
   "execution_count": 50,
   "metadata": {},
   "outputs": [
    {
     "name": "stdout",
     "output_type": "stream",
     "text": [
      "La exactitud del modelo es del:  32.07 %\n"
     ]
    }
   ],
   "source": [
    "fifa_df['ModelPrediction'] = y_pred\n",
    "fifa_df[['Position','ModelPrediction']]\n",
    "fifa_df['PredictionSuccess'] = fifa_df.Position==fifa_df.ModelPrediction\n",
    "fifa_df[['Position','ModelPrediction','PredictionSuccess']]\n",
    "\n",
    "accurracy = ((fifa_df.PredictionSuccess.sum()/fifa_df.shape[0])*100).round(2)\n",
    "print('La exactitud del modelo es del: ',accurracy,'%')\n"
   ]
  },
  {
   "cell_type": "markdown",
   "metadata": {},
   "source": [
    "## La exactitud del modelo es del:  32.07 %"
   ]
  },
  {
   "cell_type": "code",
   "execution_count": null,
   "metadata": {},
   "outputs": [],
   "source": []
  }
 ],
 "metadata": {
  "colab": {
   "collapsed_sections": [],
   "include_colab_link": true,
   "name": "Practica3_Pandas.ipynb",
   "provenance": []
  },
  "kernelspec": {
   "display_name": "Python 3 (ipykernel)",
   "language": "python",
   "name": "python3"
  },
  "language_info": {
   "codemirror_mode": {
    "name": "ipython",
    "version": 3
   },
   "file_extension": ".py",
   "mimetype": "text/x-python",
   "name": "python",
   "nbconvert_exporter": "python",
   "pygments_lexer": "ipython3",
   "version": "3.9.12"
  }
 },
 "nbformat": 4,
 "nbformat_minor": 4
}
