{
 "cells": [
  {
   "cell_type": "markdown",
   "id": "d34812c0-674a-4f47-baad-96b58f88aa8d",
   "metadata": {},
   "source": [
    "<a target=\"_blank\" href=\"https://colab.research.google.com/github/SalRmz/DCDP/blob/main/01%20Programaci%C3%B3n%20en%20Python/notebooks/proyecto01/death_and_pollution.ipynb\">\n",
    "  <img src=\"https://colab.research.google.com/assets/colab-badge.svg\" alt=\"Open In Colab\"/>\n",
    "</a>"
   ]
  },
  {
   "cell_type": "markdown",
   "id": "3942d3c2-be9e-4490-9dd3-aa31f95e1735",
   "metadata": {},
   "source": [
    "# Muertes y Contaminación en México 2019-2022\n",
    "\n",
    "## Equipo 6\n",
    "- Javier De La Rosa Mondragón\n",
    "- Julio Pinzón\n",
    "- Luis Fernando Merino\n",
    "- Salomón Rmz\n",
    "\n",
    "## Datasets disponibles en:\n",
    "https://drive.google.com/drive/folders/1ha2rOZAKgukpHgsFbBi2vnnuWlItuc_S?usp=sharing\n",
    "\n",
    "![Contaminación](./contaminacion-monterrey-696x392.jpg)\n",
    "\n",
    "\n"
   ]
  },
  {
   "cell_type": "markdown",
   "id": "5fcecd49-99c9-4fdf-a188-8a012a10a713",
   "metadata": {},
   "source": [
    "## Resumen de los sets de datos\n",
    "### Mexico Hourly Air Pollution (2010-2021)\n",
    "Este set de datos incluye tres archivos:\n",
    "    - Hourly Stations: cada fila son mediciones de una estación en cierta hora (de un día en particular)\n",
    "    - Daily Stations: cada fila son los promedios por día de las mediciones de una estación en un cierto día\n",
    "    - Stations: datos de cada una las estaciones pero muy incompletos, afortunadamente incluye las coordenadas para cada estación\n",
    "    \n",
    "#### Fuente:\n",
    "- https://www.kaggle.com/datasets/elianaj/mexico-air-quality-dataset?select=stations_daily.csv\n",
    "    \n",
    "### Deaths in Mexico\n",
    "Este set es un solo archivo de registros de defunciones. Cada fila es una defunción ocurrida en cierto día, su causa, el código del estado donde ocurrió.\n",
    "\n",
    "#### Fuentes:\n",
    "- http://www.dgis.salud.gob.mx/contenidos/basesdedatos/da_defunciones_gobmx.html\n",
    "- https://www.kaggle.com/datasets/tavoglc/mortality-in-mexico    \n",
    "\n",
    "### Catálogo Único de Claves de Áreas Geoestadísticas Estatales, Municipales y Localidades\n",
    "(Dataset auxiliar)\n",
    "Este dataset del INEGI contiene información del los códigos de los estados del país y áreas geoestadísticas, e incluye las coodernadas geográficas de cada una de dichas áreas.\n",
    "Con esta información es posible completar las tablas de estaciones del set de contaminación (usando las coordenadas de cada estación), así como añadir el nombre del estado a los registros de defunciones del set de muertes.\n",
    "#### Fuente:\n",
    "- https://www.inegi.org.mx/app/ageeml/\n"
   ]
  },
  {
   "cell_type": "markdown",
   "id": "feb8c956-be91-40cd-a375-1f8f2bee6d76",
   "metadata": {},
   "source": [
    "## Objetivo\n",
    "Crearemos un set de datos consolidado que combine los datos diarios de muertes por enfermedades respiratorias y niveles de contaminación de partículas PM10 y PM2.5 durante los años 2019 a 2022. Veremos los datos de las 5 entidades con más muertes por enfermedades de vias respiratorias en el periodo 2019-2022 que incluye periodos de pre-pandemia y pandemia de COVID-19."
   ]
  },
  {
   "cell_type": "code",
   "execution_count": 1,
   "id": "cd82ce57",
   "metadata": {},
   "outputs": [],
   "source": [
    "# importamos las bibliotecas requeridas\n",
    "import pandas as pd\n",
    "\n",
    "# visualización:\n",
    "import matplotlib.pyplot as plt\n",
    "import seaborn as sns\n",
    "\n",
    "# auxiliares\n",
    "import datetime"
   ]
  },
  {
   "cell_type": "markdown",
   "id": "9f064f8b",
   "metadata": {},
   "source": [
    "## Dataset de muertes en México"
   ]
  },
  {
   "cell_type": "code",
   "execution_count": 2,
   "id": "ad04b353",
   "metadata": {},
   "outputs": [
    {
     "data": {
      "text/plain": [
       "(2773923, 10)"
      ]
     },
     "execution_count": 2,
     "metadata": {},
     "output_type": "execute_result"
    }
   ],
   "source": [
    "## Lectura de datos del dataset\n",
    "muertesDf = pd.read_csv(\"./data/deaths_mexico/defunciones.csv\")\n",
    "## Impresion de dimensiones\n",
    "muertesDf.shape"
   ]
  },
  {
   "cell_type": "code",
   "execution_count": 3,
   "id": "5d4f4be8",
   "metadata": {},
   "outputs": [
    {
     "name": "stdout",
     "output_type": "stream",
     "text": [
      "<class 'pandas.core.frame.DataFrame'>\n",
      "RangeIndex: 2773923 entries, 0 to 2773922\n",
      "Data columns (total 5 columns):\n",
      " #   Column          Dtype \n",
      "---  ------          ----- \n",
      " 0   date            object\n",
      " 1   gr_lismex       object\n",
      " 2   gr_lismex_name  object\n",
      " 3   ent_ocurr       int64 \n",
      " 4   causa_def       object\n",
      "dtypes: int64(1), object(4)\n",
      "memory usage: 105.8+ MB\n",
      "None\n"
     ]
    }
   ],
   "source": [
    "# como nos nos interesan todos los campos, descartaremos los que no necesitamos ()\n",
    "muertesDf.drop(['Unnamed: 0','tod','tod_float','tod_norm','mes_ocurr'], axis=1, inplace=True)\n",
    "# mostramos la información con tipos de datos\n",
    "print(muertesDf.info())"
   ]
  },
  {
   "cell_type": "code",
   "execution_count": 4,
   "id": "5369832d",
   "metadata": {},
   "outputs": [
    {
     "name": "stdout",
     "output_type": "stream",
     "text": [
      "0    2020-01-22\n",
      "1    2020-01-04\n",
      "2    2020-01-15\n",
      "3    2020-01-23\n",
      "4    2020-01-20\n",
      "Name: date, dtype: object\n",
      "0   2020-01-22\n",
      "1   2020-01-04\n",
      "2   2020-01-15\n",
      "3   2020-01-23\n",
      "4   2020-01-20\n",
      "Name: date, dtype: datetime64[ns]\n"
     ]
    }
   ],
   "source": [
    "# vemos que date tiene tipo object (string) y como manipularemos fechas, convirtámoslo a datetime de pandas\n",
    "print(muertesDf.date.head())\n",
    "muertesDf.date = pd.to_datetime(muertesDf.date)\n",
    "print(muertesDf.date.head())"
   ]
  },
  {
   "cell_type": "code",
   "execution_count": 5,
   "id": "89abe8e8-bb1a-41e5-9b70-1d809eba9099",
   "metadata": {},
   "outputs": [
    {
     "name": "stdout",
     "output_type": "stream",
     "text": [
      "rango de fechas de los datos de muertes en Mexico:\n",
      "2019-01-01  -  2021-12-31\n"
     ]
    }
   ],
   "source": [
    "# veremos las fechas de inicio y fin de nuestros datos de muertes en México\n",
    "print('rango de fechas de los datos de muertes en Mexico:')\n",
    "muertes_inicio = muertesDf.date.min()\n",
    "muertes_fin = muertesDf.date.max()\n",
    "print(muertes_inicio.strftime('%Y-%m-%d'), ' - ',muertes_fin.strftime('%Y-%m-%d'))"
   ]
  },
  {
   "cell_type": "code",
   "execution_count": 6,
   "id": "98cc8349",
   "metadata": {},
   "outputs": [
    {
     "data": {
      "text/plain": [
       "<AxesSubplot: xlabel='Fecha', ylabel='Número de muertes'>"
      ]
     },
     "execution_count": 6,
     "metadata": {},
     "output_type": "execute_result"
    },
    {
     "data": {
      "image/png": "[encoded data removed]",
      "text/plain": [
       "<Figure size 1080x288 with 1 Axes>"
      ]
     },
     "metadata": {
      "needs_background": "light"
     },
     "output_type": "display_data"
    }
   ],
   "source": [
    "# podemos ver la distribución de las muertes (en todos los estados y por todas las causas):\n",
    "fig, axs = plt.subplots(figsize=(15, 4))\n",
    "plt.xlabel(\"Fecha\")\n",
    "plt.ylabel(\"Número de muertes\")\n",
    "data=muertesDf.groupby('date').ent_ocurr.size().to_frame() \n",
    "sns.lineplot(data=data, x=data.index, y=data.ent_ocurr)"
   ]
  },
  {
   "cell_type": "code",
   "execution_count": 7,
   "id": "187f9f59-f53d-49d0-83c6-3f501f5cacd4",
   "metadata": {},
   "outputs": [
    {
     "data": {
      "text/html": [
       "<div>\n",
       "<style scoped>\n",
       "    .dataframe tbody tr th:only-of-type {\n",
       "        vertical-align: middle;\n",
       "    }\n",
       "\n",
       "    .dataframe tbody tr th {\n",
       "        vertical-align: top;\n",
       "    }\n",
       "\n",
       "    .dataframe thead th {\n",
       "        text-align: right;\n",
       "    }\n",
       "</style>\n",
       "<table border=\"1\" class=\"dataframe\">\n",
       "  <thead>\n",
       "    <tr style=\"text-align: right;\">\n",
       "      <th></th>\n",
       "      <th>millones de muertes</th>\n",
       "    </tr>\n",
       "  </thead>\n",
       "  <tbody>\n",
       "    <tr>\n",
       "      <th>2019</th>\n",
       "      <td>0.702926</td>\n",
       "    </tr>\n",
       "    <tr>\n",
       "      <th>2020</th>\n",
       "      <td>1.022835</td>\n",
       "    </tr>\n",
       "    <tr>\n",
       "      <th>2021</th>\n",
       "      <td>1.031558</td>\n",
       "    </tr>\n",
       "  </tbody>\n",
       "</table>\n",
       "</div>"
      ],
      "text/plain": [
       "      millones de muertes\n",
       "2019             0.702926\n",
       "2020             1.022835\n",
       "2021             1.031558"
      ]
     },
     "execution_count": 7,
     "metadata": {},
     "output_type": "execute_result"
    }
   ],
   "source": [
    "# podemos comprar nuestros datos con\n",
    "muertes2019 = muertesDf[(muertesDf.date>datetime.datetime(2019,1,1)) & (muertesDf.date<datetime.datetime(2019,12,31))].shape[0]/1000000\n",
    "muertes2020 = muertesDf[(muertesDf.date>datetime.datetime(2020,1,1)) & (muertesDf.date<datetime.datetime(2020,12,31))].shape[0]/1000000\n",
    "muertes2021 = muertesDf[(muertesDf.date>datetime.datetime(2021,1,1)) & (muertesDf.date<datetime.datetime(2021,12,31))].shape[0]/1000000\n",
    "tablaMuertesXanio = pd.DataFrame(index=['2019','2020','2021'],columns=['millones de muertes'],data=[muertes2019,muertes2020,muertes2021])\n",
    "tablaMuertesXanio\n",
    "#tablaMuertesXanio.iloc[:,1]\n",
    "# comparar con https://www.inegi.org.mx/temas/mortalidad/"
   ]
  },
  {
   "cell_type": "code",
   "execution_count": 8,
   "id": "90b392eb-1dfb-4faf-a603-f5df9a18f3d0",
   "metadata": {},
   "outputs": [
    {
     "data": {
      "text/plain": [
       "2309"
      ]
     },
     "execution_count": 8,
     "metadata": {},
     "output_type": "execute_result"
    }
   ],
   "source": [
    "import datetime\n",
    "#type(muertesDf.iloc[1].ent_ocurr)\n",
    "muertesDf.loc[ (muertesDf.date==datetime.datetime(2021,4,1))].shape[0]#.to_csv('./aux_outs/raro.csv')"
   ]
  },
  {
   "cell_type": "code",
   "execution_count": 9,
   "id": "847bb189-50d6-4860-9466-dc295aa6e853",
   "metadata": {},
   "outputs": [
    {
     "data": {
      "text/plain": [
       "1      24978\n",
       "2      84049\n",
       "3      13503\n",
       "4      17908\n",
       "5      65265\n",
       "6      17734\n",
       "7     100005\n",
       "8      93059\n",
       "9     320119\n",
       "10     34511\n",
       "11    141025\n",
       "12     66006\n",
       "13     58617\n",
       "14    177608\n",
       "15    317345\n",
       "16    102293\n",
       "17     51366\n",
       "18     23762\n",
       "19    104987\n",
       "20     89841\n",
       "21    158499\n",
       "22     44709\n",
       "23     28983\n",
       "24     64826\n",
       "25     62026\n",
       "26     69387\n",
       "27     55408\n",
       "28     73141\n",
       "29     29665\n",
       "30    198863\n",
       "31     50537\n",
       "32     33898\n",
       "Name: ent_ocurr, dtype: int64"
      ]
     },
     "execution_count": 9,
     "metadata": {},
     "output_type": "execute_result"
    }
   ],
   "source": [
    "# trabajaremos con los 5 estados con más muertes por enfermedades respiratorias, veamos los códigos que usan para cada estado:\n",
    "muertesDf.ent_ocurr.value_counts().sort_index()"
   ]
  },
  {
   "cell_type": "markdown",
   "id": "3f7c4318-2d26-4b0d-8b76-e073bb1b08cc",
   "metadata": {},
   "source": [
    "Aquí se observa que el código corresponde al lugar en un orden alfabético para los nombres de estados. Más adelante agregaremos el nombre de los estados a esta tabla."
   ]
  },
  {
   "cell_type": "code",
   "execution_count": 10,
   "id": "fb40b33f",
   "metadata": {
    "scrolled": true
   },
   "outputs": [
    {
     "data": {
      "text/html": [
       "<div>\n",
       "<style scoped>\n",
       "    .dataframe tbody tr th:only-of-type {\n",
       "        vertical-align: middle;\n",
       "    }\n",
       "\n",
       "    .dataframe tbody tr th {\n",
       "        vertical-align: top;\n",
       "    }\n",
       "\n",
       "    .dataframe thead th {\n",
       "        text-align: right;\n",
       "    }\n",
       "</style>\n",
       "<table border=\"1\" class=\"dataframe\">\n",
       "  <thead>\n",
       "    <tr style=\"text-align: right;\">\n",
       "      <th></th>\n",
       "      <th>gr_lismex_name</th>\n",
       "      <th>gr_lismex</th>\n",
       "      <th>count</th>\n",
       "    </tr>\n",
       "  </thead>\n",
       "  <tbody>\n",
       "    <tr>\n",
       "      <th>0</th>\n",
       "      <td>Enfermedades víricas</td>\n",
       "      <td>6</td>\n",
       "      <td>436340</td>\n",
       "    </tr>\n",
       "    <tr>\n",
       "      <th>1</th>\n",
       "      <td>Enfermedades isquémicas del corazón</td>\n",
       "      <td>28</td>\n",
       "      <td>431251</td>\n",
       "    </tr>\n",
       "    <tr>\n",
       "      <th>2</th>\n",
       "      <td>Enfermedades endocrinas y metabólicas</td>\n",
       "      <td>20</td>\n",
       "      <td>407892</td>\n",
       "    </tr>\n",
       "    <tr>\n",
       "      <th>3</th>\n",
       "      <td>Otras enfermedades del aparato respiratorio</td>\n",
       "      <td>33</td>\n",
       "      <td>240501</td>\n",
       "    </tr>\n",
       "    <tr>\n",
       "      <th>4</th>\n",
       "      <td>Enfermedades de otras partes del aparato diges...</td>\n",
       "      <td>35</td>\n",
       "      <td>205535</td>\n",
       "    </tr>\n",
       "    <tr>\n",
       "      <th>5</th>\n",
       "      <td>Enfermedades cerebrovasculares</td>\n",
       "      <td>30</td>\n",
       "      <td>103476</td>\n",
       "    </tr>\n",
       "    <tr>\n",
       "      <th>6</th>\n",
       "      <td>Agresiones</td>\n",
       "      <td>E55</td>\n",
       "      <td>89457</td>\n",
       "    </tr>\n",
       "    <tr>\n",
       "      <th>7</th>\n",
       "      <td>Enfermedades hipertensivas</td>\n",
       "      <td>27</td>\n",
       "      <td>85999</td>\n",
       "    </tr>\n",
       "    <tr>\n",
       "      <th>8</th>\n",
       "      <td>Tumores malignos de los órganos digestivos</td>\n",
       "      <td>9</td>\n",
       "      <td>83640</td>\n",
       "    </tr>\n",
       "    <tr>\n",
       "      <th>9</th>\n",
       "      <td>Enfermedades del aparato urinario</td>\n",
       "      <td>38</td>\n",
       "      <td>71003</td>\n",
       "    </tr>\n",
       "  </tbody>\n",
       "</table>\n",
       "</div>"
      ],
      "text/plain": [
       "                                      gr_lismex_name gr_lismex   count\n",
       "0                               Enfermedades víricas         6  436340\n",
       "1                Enfermedades isquémicas del corazón        28  431251\n",
       "2              Enfermedades endocrinas y metabólicas        20  407892\n",
       "3        Otras enfermedades del aparato respiratorio        33  240501\n",
       "4  Enfermedades de otras partes del aparato diges...        35  205535\n",
       "5                     Enfermedades cerebrovasculares        30  103476\n",
       "6                                         Agresiones       E55   89457\n",
       "7                         Enfermedades hipertensivas        27   85999\n",
       "8         Tumores malignos de los órganos digestivos         9   83640\n",
       "9                  Enfermedades del aparato urinario        38   71003"
      ]
     },
     "execution_count": 10,
     "metadata": {},
     "output_type": "execute_result"
    }
   ],
   "source": [
    "# vamos a obtener una tabla con las diferentes causas de muerte y su código y también el número\n",
    "# de casos de cada categoría en orden descendiente\n",
    "causasMuerte = muertesDf.groupby(['gr_lismex_name','gr_lismex']).size().sort_values(ascending=False).reset_index().rename(columns={0:'count'})\n",
    "causasMuerte.to_csv('./aux_outs/causas.csv')\n",
    "causasMuerte.head(10)\n",
    "\n",
    "# los datos muestran que las enfermedades víricas son las causas más cómunes. también vemos que las causas\n",
    "# no naturales tienen una letra E al inicio del código"
   ]
  },
  {
   "cell_type": "code",
   "execution_count": 11,
   "id": "bbde38d7",
   "metadata": {},
   "outputs": [
    {
     "data": {
      "text/html": [
       "<div>\n",
       "<style scoped>\n",
       "    .dataframe tbody tr th:only-of-type {\n",
       "        vertical-align: middle;\n",
       "    }\n",
       "\n",
       "    .dataframe tbody tr th {\n",
       "        vertical-align: top;\n",
       "    }\n",
       "\n",
       "    .dataframe thead th {\n",
       "        text-align: right;\n",
       "    }\n",
       "</style>\n",
       "<table border=\"1\" class=\"dataframe\">\n",
       "  <thead>\n",
       "    <tr style=\"text-align: right;\">\n",
       "      <th></th>\n",
       "      <th>gr_lismex_name</th>\n",
       "      <th>gr_lismex</th>\n",
       "      <th>count</th>\n",
       "    </tr>\n",
       "  </thead>\n",
       "  <tbody>\n",
       "    <tr>\n",
       "      <th>6</th>\n",
       "      <td>Agresiones</td>\n",
       "      <td>E55</td>\n",
       "      <td>89457</td>\n",
       "    </tr>\n",
       "    <tr>\n",
       "      <th>12</th>\n",
       "      <td>Accidentes de transporte</td>\n",
       "      <td>E49</td>\n",
       "      <td>38610</td>\n",
       "    </tr>\n",
       "    <tr>\n",
       "      <th>13</th>\n",
       "      <td>Otros accidentes, incluso los efectos tardíos</td>\n",
       "      <td>E51</td>\n",
       "      <td>38247</td>\n",
       "    </tr>\n",
       "    <tr>\n",
       "      <th>23</th>\n",
       "      <td>Lesiones autoinfligidas intencionalmente</td>\n",
       "      <td>E54</td>\n",
       "      <td>20016</td>\n",
       "    </tr>\n",
       "    <tr>\n",
       "      <th>29</th>\n",
       "      <td>Otra violencia</td>\n",
       "      <td>E56</td>\n",
       "      <td>14244</td>\n",
       "    </tr>\n",
       "    <tr>\n",
       "      <th>34</th>\n",
       "      <td>Caídas</td>\n",
       "      <td>E50</td>\n",
       "      <td>5508</td>\n",
       "    </tr>\n",
       "    <tr>\n",
       "      <th>37</th>\n",
       "      <td>Envenenamiento accidental por, y exposición a ...</td>\n",
       "      <td>E53</td>\n",
       "      <td>3265</td>\n",
       "    </tr>\n",
       "    <tr>\n",
       "      <th>42</th>\n",
       "      <td>Exposición al humo, fuego y llamas</td>\n",
       "      <td>E52</td>\n",
       "      <td>1600</td>\n",
       "    </tr>\n",
       "    <tr>\n",
       "      <th>45</th>\n",
       "      <td>Contratiempos durante la atención medica, reac...</td>\n",
       "      <td>E58</td>\n",
       "      <td>735</td>\n",
       "    </tr>\n",
       "    <tr>\n",
       "      <th>47</th>\n",
       "      <td>Drogas, medicamentos y sustancias biológicas c...</td>\n",
       "      <td>E57</td>\n",
       "      <td>488</td>\n",
       "    </tr>\n",
       "  </tbody>\n",
       "</table>\n",
       "</div>"
      ],
      "text/plain": [
       "                                       gr_lismex_name gr_lismex  count\n",
       "6                                          Agresiones       E55  89457\n",
       "12                           Accidentes de transporte       E49  38610\n",
       "13      Otros accidentes, incluso los efectos tardíos       E51  38247\n",
       "23           Lesiones autoinfligidas intencionalmente       E54  20016\n",
       "29                                     Otra violencia       E56  14244\n",
       "34                                             Caídas       E50   5508\n",
       "37  Envenenamiento accidental por, y exposición a ...       E53   3265\n",
       "42                 Exposición al humo, fuego y llamas       E52   1600\n",
       "45  Contratiempos durante la atención medica, reac...       E58    735\n",
       "47  Drogas, medicamentos y sustancias biológicas c...       E57    488"
      ]
     },
     "execution_count": 11,
     "metadata": {},
     "output_type": "execute_result"
    }
   ],
   "source": [
    "# Podemos ver que hay códigos de causa de muerque que comienzan con la letra E\n",
    "causasMuerte[causasMuerte.gr_lismex.str[0]=='E'].sort_values(by='count', ascending=False).head(10)\n",
    "# (parece que las que comienzan con E son causas no naturales)"
   ]
  },
  {
   "cell_type": "code",
   "execution_count": 12,
   "id": "eb6eec9f",
   "metadata": {},
   "outputs": [
    {
     "data": {
      "text/html": [
       "<div>\n",
       "<style scoped>\n",
       "    .dataframe tbody tr th:only-of-type {\n",
       "        vertical-align: middle;\n",
       "    }\n",
       "\n",
       "    .dataframe tbody tr th {\n",
       "        vertical-align: top;\n",
       "    }\n",
       "\n",
       "    .dataframe thead th {\n",
       "        text-align: right;\n",
       "    }\n",
       "</style>\n",
       "<table border=\"1\" class=\"dataframe\">\n",
       "  <thead>\n",
       "    <tr style=\"text-align: right;\">\n",
       "      <th></th>\n",
       "      <th>gr_lismex_name</th>\n",
       "      <th>gr_lismex</th>\n",
       "      <th>count</th>\n",
       "    </tr>\n",
       "  </thead>\n",
       "  <tbody>\n",
       "    <tr>\n",
       "      <th>3</th>\n",
       "      <td>Otras enfermedades del aparato respiratorio</td>\n",
       "      <td>33</td>\n",
       "      <td>240501</td>\n",
       "    </tr>\n",
       "    <tr>\n",
       "      <th>11</th>\n",
       "      <td>Enfermedades de la circulación pulmonar y otra...</td>\n",
       "      <td>29</td>\n",
       "      <td>47564</td>\n",
       "    </tr>\n",
       "    <tr>\n",
       "      <th>20</th>\n",
       "      <td>Tumor maligno de órganos respiratorios e intra...</td>\n",
       "      <td>10</td>\n",
       "      <td>22516</td>\n",
       "    </tr>\n",
       "    <tr>\n",
       "      <th>33</th>\n",
       "      <td>Tuberculosis</td>\n",
       "      <td>2</td>\n",
       "      <td>6253</td>\n",
       "    </tr>\n",
       "    <tr>\n",
       "      <th>46</th>\n",
       "      <td>Infecciones y otras enfermedades de las vías r...</td>\n",
       "      <td>32</td>\n",
       "      <td>724</td>\n",
       "    </tr>\n",
       "  </tbody>\n",
       "</table>\n",
       "</div>"
      ],
      "text/plain": [
       "                                       gr_lismex_name gr_lismex   count\n",
       "3         Otras enfermedades del aparato respiratorio        33  240501\n",
       "11  Enfermedades de la circulación pulmonar y otra...        29   47564\n",
       "20  Tumor maligno de órganos respiratorios e intra...        10   22516\n",
       "33                                       Tuberculosis         2    6253\n",
       "46  Infecciones y otras enfermedades de las vías r...        32     724"
      ]
     },
     "execution_count": 12,
     "metadata": {},
     "output_type": "execute_result"
    }
   ],
   "source": [
    "# las causas de muerte que nos interesan son las relacionadas al sistema respiratorio. intentemos filtrarlas:\n",
    "causasMuerte[causasMuerte.gr_lismex_name.str.contains('resp|tuber|pulm',case=False)==True]"
   ]
  },
  {
   "cell_type": "code",
   "execution_count": 13,
   "id": "18bc7378-da94-4dbb-8eff-1d3d4805fdb4",
   "metadata": {},
   "outputs": [],
   "source": [
    "muertesDf_resp = muertesDf[muertesDf.gr_lismex_name.str.contains('resp|tuber|pulm',case=False)==True]\n",
    "#muertesDf['eq6_respiratoria'] = False\n",
    "#muertesDf.loc[muertesDf.gr_lismex_name.str.contains('resp|tuber|pulm',case=False), 'eq6_respiratoria'] = True"
   ]
  },
  {
   "cell_type": "code",
   "execution_count": 14,
   "id": "c2398b10-0ca5-4600-ab32-63e3c391bb5b",
   "metadata": {},
   "outputs": [
    {
     "data": {
      "text/plain": [
       "ent_ocurr\n",
       "9     35392\n",
       "15    32852\n",
       "14    25510\n",
       "30    19822\n",
       "21    17185\n",
       "dtype: int64"
      ]
     },
     "execution_count": 14,
     "metadata": {},
     "output_type": "execute_result"
    }
   ],
   "source": [
    "# ahora filtraremos para los estados que tuvieron más muertes en total en el periodo de muestreo\n",
    "muertesDf_resp.groupby('ent_ocurr').size().sort_values(ascending=False).head(5)\n",
    "# vemos que son las entidades 9,15,14,30 y 21"
   ]
  },
  {
   "cell_type": "markdown",
   "id": "5313cfd4-2af8-44b8-a076-0895d8f68d4b",
   "metadata": {},
   "source": [
    "Ahora prepararemos los datos de estados y municipio que usaremos para completar la tablas provenientes de muertesDf y otras tablas más adelante"
   ]
  },
  {
   "cell_type": "markdown",
   "id": "6f5fb9b8",
   "metadata": {},
   "source": [
    "## Mapeo de entidades y municipios\n",
    "El dataset de muertes incluye datos de la entidad donde ocurrió cada una codificada con enteros en el rango 1-32. Podemos mapear esto para incluir el nombre de la entidad.\n",
    "\n",
    "En la siguiente URL del gobierno de México encontramos un PDF con la información que requerimos para tener los nombre de la entidad y municipio:\n",
    "- https://www.gob.mx/cms/uploads/attachment/file/58177/Municipios_Fommur_5298b1898b.pdf \n",
    "\n",
    "INEGI, por otra parte prporciona este recurso que además incluye datos de áreas geoestadśiticas de todo el país:\n",
    "- Catálogo Único de Claves de Áreas Geoestadísticas Estatales, Municipales y Localidades: https://www.inegi.org.mx/app/ageeml/#\n"
   ]
  },
  {
   "cell_type": "code",
   "execution_count": 15,
   "id": "7fd43093",
   "metadata": {},
   "outputs": [
    {
     "name": "stdout",
     "output_type": "stream",
     "text": [
      "<class 'pandas.core.frame.DataFrame'>\n",
      "RangeIndex: 300128 entries, 0 to 300127\n",
      "Data columns (total 20 columns):\n",
      " #   Column                        Non-Null Count   Dtype  \n",
      "---  ------                        --------------   -----  \n",
      " 0   MAPA                          300128 non-null  int64  \n",
      " 1   Estatus                       0 non-null       float64\n",
      " 2   CVE_ENT                       300128 non-null  int64  \n",
      " 3   NOM_ENT                       300128 non-null  object \n",
      " 4   NOM_ABR                       300128 non-null  object \n",
      " 5   CVE_MUN                       300128 non-null  int64  \n",
      " 6   NOM_MUN                       300128 non-null  object \n",
      " 7   CVE_LOC                       300128 non-null  int64  \n",
      " 8   NOM_LOC                       300128 non-null  object \n",
      " 9   AMBITO                        300128 non-null  object \n",
      " 10  LATITUD                       300128 non-null  object \n",
      " 11  LONGITUD                      300128 non-null  object \n",
      " 12  LAT_DECIMAL                   300128 non-null  float64\n",
      " 13  LON_DECIMAL                   300128 non-null  float64\n",
      " 14  ALTITUD                       300128 non-null  int64  \n",
      " 15  CVE_CARTA                     300128 non-null  object \n",
      " 16  POB_TOTAL                     300128 non-null  object \n",
      " 17  POB_MASCULINA                 300128 non-null  object \n",
      " 18  POB_FEMENINA                  300128 non-null  object \n",
      " 19  TOTAL DE VIVIENDAS HABITADAS  300128 non-null  object \n",
      "dtypes: float64(3), int64(5), object(12)\n",
      "memory usage: 45.8+ MB\n"
     ]
    }
   ],
   "source": [
    "# Lectura de datos de áreas geoestadísticas\n",
    "geoDf = pd.read_csv(\"./data/geo/AGEEML_2023318115324.csv\")\n",
    "## impresion de info\n",
    "geoDf.info()"
   ]
  },
  {
   "cell_type": "code",
   "execution_count": 16,
   "id": "1a9d22c7-2465-4334-be2b-0c3589e3a25e",
   "metadata": {},
   "outputs": [],
   "source": [
    "# usaremos estos datos para crear una tabla de estados\n",
    "# vamos a hacer una columna con nombre abreviado pero que sea de maximo 3 caracteres, sin puntos ni espacios y en mayuscula:\n",
    "def crea_abr(x):\n",
    "    return str(x).replace('.','').lower().replace(' ','')[:4]\n",
    "geoDf['estado'] = geoDf['NOM_ABR'].map(crea_abr)\n",
    "geoDf['estado'].value_counts().head(10)\n",
    "# tiramos el nombre abreviado original\n",
    "geoDf.drop('NOM_ABR', axis=1, inplace=True)\n"
   ]
  },
  {
   "cell_type": "code",
   "execution_count": 17,
   "id": "49073c7e",
   "metadata": {},
   "outputs": [
    {
     "data": {
      "text/html": [
       "<div>\n",
       "<style scoped>\n",
       "    .dataframe tbody tr th:only-of-type {\n",
       "        vertical-align: middle;\n",
       "    }\n",
       "\n",
       "    .dataframe tbody tr th {\n",
       "        vertical-align: top;\n",
       "    }\n",
       "\n",
       "    .dataframe thead th {\n",
       "        text-align: right;\n",
       "    }\n",
       "</style>\n",
       "<table border=\"1\" class=\"dataframe\">\n",
       "  <thead>\n",
       "    <tr style=\"text-align: right;\">\n",
       "      <th></th>\n",
       "      <th>CVE_ENT</th>\n",
       "      <th>NOM_ENT</th>\n",
       "      <th>estado</th>\n",
       "    </tr>\n",
       "  </thead>\n",
       "  <tbody>\n",
       "    <tr>\n",
       "      <th>0</th>\n",
       "      <td>1</td>\n",
       "      <td>Aguascalientes</td>\n",
       "      <td>ags</td>\n",
       "    </tr>\n",
       "    <tr>\n",
       "      <th>1</th>\n",
       "      <td>2</td>\n",
       "      <td>Baja California</td>\n",
       "      <td>bc</td>\n",
       "    </tr>\n",
       "    <tr>\n",
       "      <th>2</th>\n",
       "      <td>3</td>\n",
       "      <td>Baja California Sur</td>\n",
       "      <td>bcs</td>\n",
       "    </tr>\n",
       "    <tr>\n",
       "      <th>3</th>\n",
       "      <td>4</td>\n",
       "      <td>Campeche</td>\n",
       "      <td>camp</td>\n",
       "    </tr>\n",
       "    <tr>\n",
       "      <th>4</th>\n",
       "      <td>5</td>\n",
       "      <td>Coahuila de Zaragoza</td>\n",
       "      <td>coah</td>\n",
       "    </tr>\n",
       "    <tr>\n",
       "      <th>5</th>\n",
       "      <td>6</td>\n",
       "      <td>Colima</td>\n",
       "      <td>col</td>\n",
       "    </tr>\n",
       "    <tr>\n",
       "      <th>6</th>\n",
       "      <td>7</td>\n",
       "      <td>Chiapas</td>\n",
       "      <td>chis</td>\n",
       "    </tr>\n",
       "    <tr>\n",
       "      <th>7</th>\n",
       "      <td>8</td>\n",
       "      <td>Chihuahua</td>\n",
       "      <td>chih</td>\n",
       "    </tr>\n",
       "    <tr>\n",
       "      <th>8</th>\n",
       "      <td>9</td>\n",
       "      <td>Ciudad de México</td>\n",
       "      <td>cdmx</td>\n",
       "    </tr>\n",
       "    <tr>\n",
       "      <th>9</th>\n",
       "      <td>10</td>\n",
       "      <td>Durango</td>\n",
       "      <td>dgo</td>\n",
       "    </tr>\n",
       "    <tr>\n",
       "      <th>10</th>\n",
       "      <td>11</td>\n",
       "      <td>Guanajuato</td>\n",
       "      <td>gto</td>\n",
       "    </tr>\n",
       "    <tr>\n",
       "      <th>11</th>\n",
       "      <td>12</td>\n",
       "      <td>Guerrero</td>\n",
       "      <td>gro</td>\n",
       "    </tr>\n",
       "    <tr>\n",
       "      <th>12</th>\n",
       "      <td>13</td>\n",
       "      <td>Hidalgo</td>\n",
       "      <td>hgo</td>\n",
       "    </tr>\n",
       "    <tr>\n",
       "      <th>13</th>\n",
       "      <td>14</td>\n",
       "      <td>Jalisco</td>\n",
       "      <td>jal</td>\n",
       "    </tr>\n",
       "    <tr>\n",
       "      <th>14</th>\n",
       "      <td>15</td>\n",
       "      <td>México</td>\n",
       "      <td>mex</td>\n",
       "    </tr>\n",
       "    <tr>\n",
       "      <th>15</th>\n",
       "      <td>16</td>\n",
       "      <td>Michoacán de Ocampo</td>\n",
       "      <td>mich</td>\n",
       "    </tr>\n",
       "    <tr>\n",
       "      <th>16</th>\n",
       "      <td>17</td>\n",
       "      <td>Morelos</td>\n",
       "      <td>mor</td>\n",
       "    </tr>\n",
       "    <tr>\n",
       "      <th>17</th>\n",
       "      <td>18</td>\n",
       "      <td>Nayarit</td>\n",
       "      <td>nay</td>\n",
       "    </tr>\n",
       "    <tr>\n",
       "      <th>18</th>\n",
       "      <td>19</td>\n",
       "      <td>Nuevo León</td>\n",
       "      <td>nl</td>\n",
       "    </tr>\n",
       "    <tr>\n",
       "      <th>19</th>\n",
       "      <td>20</td>\n",
       "      <td>Oaxaca</td>\n",
       "      <td>oax</td>\n",
       "    </tr>\n",
       "    <tr>\n",
       "      <th>20</th>\n",
       "      <td>21</td>\n",
       "      <td>Puebla</td>\n",
       "      <td>pue</td>\n",
       "    </tr>\n",
       "    <tr>\n",
       "      <th>21</th>\n",
       "      <td>22</td>\n",
       "      <td>Querétaro</td>\n",
       "      <td>qro</td>\n",
       "    </tr>\n",
       "    <tr>\n",
       "      <th>22</th>\n",
       "      <td>23</td>\n",
       "      <td>Quintana Roo</td>\n",
       "      <td>qroo</td>\n",
       "    </tr>\n",
       "    <tr>\n",
       "      <th>23</th>\n",
       "      <td>24</td>\n",
       "      <td>San Luis Potosí</td>\n",
       "      <td>slp</td>\n",
       "    </tr>\n",
       "    <tr>\n",
       "      <th>24</th>\n",
       "      <td>25</td>\n",
       "      <td>Sinaloa</td>\n",
       "      <td>sin</td>\n",
       "    </tr>\n",
       "    <tr>\n",
       "      <th>25</th>\n",
       "      <td>26</td>\n",
       "      <td>Sonora</td>\n",
       "      <td>son</td>\n",
       "    </tr>\n",
       "    <tr>\n",
       "      <th>26</th>\n",
       "      <td>27</td>\n",
       "      <td>Tabasco</td>\n",
       "      <td>tab</td>\n",
       "    </tr>\n",
       "    <tr>\n",
       "      <th>27</th>\n",
       "      <td>28</td>\n",
       "      <td>Tamaulipas</td>\n",
       "      <td>tamp</td>\n",
       "    </tr>\n",
       "    <tr>\n",
       "      <th>28</th>\n",
       "      <td>29</td>\n",
       "      <td>Tlaxcala</td>\n",
       "      <td>tlax</td>\n",
       "    </tr>\n",
       "    <tr>\n",
       "      <th>29</th>\n",
       "      <td>30</td>\n",
       "      <td>Veracruz de Ignacio de la Llave</td>\n",
       "      <td>ver</td>\n",
       "    </tr>\n",
       "    <tr>\n",
       "      <th>30</th>\n",
       "      <td>31</td>\n",
       "      <td>Yucatán</td>\n",
       "      <td>yuc</td>\n",
       "    </tr>\n",
       "    <tr>\n",
       "      <th>31</th>\n",
       "      <td>32</td>\n",
       "      <td>Zacatecas</td>\n",
       "      <td>zac</td>\n",
       "    </tr>\n",
       "  </tbody>\n",
       "</table>\n",
       "</div>"
      ],
      "text/plain": [
       "    CVE_ENT                          NOM_ENT estado\n",
       "0         1                   Aguascalientes    ags\n",
       "1         2                  Baja California     bc\n",
       "2         3              Baja California Sur    bcs\n",
       "3         4                         Campeche   camp\n",
       "4         5             Coahuila de Zaragoza   coah\n",
       "5         6                           Colima    col\n",
       "6         7                          Chiapas   chis\n",
       "7         8                        Chihuahua   chih\n",
       "8         9                 Ciudad de México   cdmx\n",
       "9        10                          Durango    dgo\n",
       "10       11                       Guanajuato    gto\n",
       "11       12                         Guerrero    gro\n",
       "12       13                          Hidalgo    hgo\n",
       "13       14                          Jalisco    jal\n",
       "14       15                           México    mex\n",
       "15       16              Michoacán de Ocampo   mich\n",
       "16       17                          Morelos    mor\n",
       "17       18                          Nayarit    nay\n",
       "18       19                       Nuevo León     nl\n",
       "19       20                           Oaxaca    oax\n",
       "20       21                           Puebla    pue\n",
       "21       22                        Querétaro    qro\n",
       "22       23                     Quintana Roo   qroo\n",
       "23       24                  San Luis Potosí    slp\n",
       "24       25                          Sinaloa    sin\n",
       "25       26                           Sonora    son\n",
       "26       27                          Tabasco    tab\n",
       "27       28                       Tamaulipas   tamp\n",
       "28       29                         Tlaxcala   tlax\n",
       "29       30  Veracruz de Ignacio de la Llave    ver\n",
       "30       31                          Yucatán    yuc\n",
       "31       32                        Zacatecas    zac"
      ]
     },
     "execution_count": 17,
     "metadata": {},
     "output_type": "execute_result"
    }
   ],
   "source": [
    "# vamos a obtener los valores únicos para las columnas CVE_ENT y NOM_ENT,\n",
    "geoDf_estados = geoDf.groupby(['CVE_ENT','NOM_ENT','estado']).size().reset_index().rename(columns={0:'count'})\n",
    "geoDf_estados.drop('count', axis=1, inplace=True)\n",
    "geoDf_estados"
   ]
  },
  {
   "cell_type": "markdown",
   "id": "6a4afecd-0a26-4550-949e-9d63aeb9eb4f",
   "metadata": {},
   "source": [
    "### Continuamos ahora con la tabla de muertesDf y agregaremos el nombre de la entidad"
   ]
  },
  {
   "cell_type": "code",
   "execution_count": 18,
   "id": "be005aed-a78c-4126-b879-df257ef77b0f",
   "metadata": {},
   "outputs": [],
   "source": [
    "# merge\n",
    "muertesDf_resp = pd.merge(left=muertesDf_resp, right=geoDf_estados, how='left', left_on='ent_ocurr', right_on='CVE_ENT')\n",
    "# tiramos la columna ent_ocurr para no tener información repetida\n",
    "muertesDf_resp.drop('ent_ocurr', axis=1, inplace=True)"
   ]
  },
  {
   "cell_type": "code",
   "execution_count": 19,
   "id": "363ed78e-c52d-468b-8e1e-010ffed8a21c",
   "metadata": {},
   "outputs": [
    {
     "data": {
      "text/plain": [
       "NOM_ENT\n",
       "Ciudad de México                   35392\n",
       "México                             32852\n",
       "Jalisco                            25510\n",
       "Veracruz de Ignacio de la Llave    19822\n",
       "Puebla                             17185\n",
       "dtype: int64"
      ]
     },
     "execution_count": 19,
     "metadata": {},
     "output_type": "execute_result"
    }
   ],
   "source": [
    "# volvamos a ver qué estados tuvieron más muertes relacionadas a vías respiratorias ya con los nombres de\n",
    "# los estados:\n",
    "muertesDf_resp.groupby('NOM_ENT').size().sort_values(ascending=False).head(5)"
   ]
  },
  {
   "cell_type": "code",
   "execution_count": 20,
   "id": "2bbe1326-536a-4009-a808-c2c42d433564",
   "metadata": {},
   "outputs": [],
   "source": [
    "# Guardamos los nombres de estas ciudades en una variable (para usar en gráficas)\n",
    "estadosTop5=muertesDf_resp.groupby('NOM_ENT').size().sort_values(ascending=False).head(5).index\n",
    "estadosTop5Clave=muertesDf_resp.groupby('estado').size().sort_values(ascending=False).head(5).index"
   ]
  },
  {
   "cell_type": "code",
   "execution_count": 21,
   "id": "8bff52de-d8c9-409e-ba18-8084f0a5b086",
   "metadata": {},
   "outputs": [
    {
     "data": {
      "text/plain": [
       "(130761, 7)"
      ]
     },
     "execution_count": 21,
     "metadata": {},
     "output_type": "execute_result"
    }
   ],
   "source": [
    "##### ahora filtremos sólo esos estados:\n",
    "topEstados = muertesDf_resp.groupby('NOM_ENT').size().sort_values(ascending=False).head(5).index\n",
    "muertesDf_resp_top = muertesDf_resp[muertesDf_resp.NOM_ENT.isin(topEstados)]\n",
    "muertesDf_resp_top.shape"
   ]
  },
  {
   "cell_type": "code",
   "execution_count": 22,
   "id": "158a0b61-6c4d-4f23-8604-819007a3ccf0",
   "metadata": {},
   "outputs": [
    {
     "data": {
      "text/plain": [
       "date                                      2020-01-06 00:00:00\n",
       "gr_lismex                                                  33\n",
       "gr_lismex_name    Otras enfermedades del aparato respiratorio\n",
       "causa_def                                                J189\n",
       "CVE_ENT                                                     9\n",
       "NOM_ENT                                      Ciudad de México\n",
       "estado                                                   cdmx\n",
       "Name: 19617, dtype: object"
      ]
     },
     "execution_count": 22,
     "metadata": {},
     "output_type": "execute_result"
    }
   ],
   "source": [
    "# Ejemplo de un registro en muertesDf_resp_top\n",
    "muertesDf_resp_top.iloc[16]"
   ]
  },
  {
   "cell_type": "code",
   "execution_count": 23,
   "id": "5513b0a6-8570-4489-b066-5cb1cf047163",
   "metadata": {},
   "outputs": [
    {
     "name": "stdout",
     "output_type": "stream",
     "text": [
      "totales 2773923\n",
      "respiratorias, top5 estados 130761\n"
     ]
    }
   ],
   "source": [
    "print('totales',len(muertesDf.index))\n",
    "print('respiratorias, top5 estados',len(muertesDf_resp_top.index))"
   ]
  },
  {
   "cell_type": "code",
   "execution_count": 24,
   "id": "acfede09-c12a-40f9-b8c7-71fc4cd44924",
   "metadata": {},
   "outputs": [
    {
     "data": {
      "text/plain": [
       "Text(0, 0.5, 'Número de muertes')"
      ]
     },
     "execution_count": 24,
     "metadata": {},
     "output_type": "execute_result"
    },
    {
     "data": {
      "image/png": "[encoded data removed]",
      "text/plain": [
       "<Figure size 864x720 with 2 Axes>"
      ]
     },
     "metadata": {
      "needs_background": "light"
     },
     "output_type": "display_data"
    }
   ],
   "source": [
    "# Comparemos los histogramas, el original con todos los datos de todos los estados y el de nuestro set de muertes debidas a\n",
    "# causas respiratorias y sólo de los 5 estados con más muertes por esta causa\n",
    "\n",
    "data1=muertesDf.groupby('date').ent_ocurr.size().to_frame() \n",
    "#sns.lineplot(data=data, x=data.index, y=data1.ent_ocurr)\n",
    "\n",
    "data2=muertesDf_resp_top.groupby('date').estado.size().to_frame() \n",
    "#sns.lineplot(data=data, x=data.index, y=data2.estado)\n",
    "\n",
    "# podemos ver la distribución de las muertes (en todos los estados y por todas las causas):\n",
    "fig, axs = plt.subplots(nrows=2, ncols=1,figsize=(12, 10))\n",
    "fig.suptitle('Comparación de número de muertes díarias. Todo México y todas las causas vs. causas respiratorias y top 5 estados')\n",
    "plt.xlabel(\"Fecha\")\n",
    "\n",
    "label = 'Muertes por enfermedades respiratorias en ' + \", \".join([ i for i in estadosTop5 ])\n",
    "sns.lineplot(ax=axs[0], data=data1, x=data1.index, y=data1.ent_ocurr, label='Muertes totales en México')\n",
    "sns.lineplot(ax=axs[0], data=data2, x=data2.index, y=data2.estado, label=label)\n",
    "sns.lineplot(ax=axs[1], data=data2, x=data2.index, y=data2.estado, label=label)\n",
    "\n",
    "axs[0].legend()\n",
    "axs[0].set_ylabel('Número de muertes')\n",
    "axs[1].set_ylabel('Número de muertes')"
   ]
  },
  {
   "cell_type": "markdown",
   "id": "d46cece5-0e7a-424b-a7dd-9f40e8b308b5",
   "metadata": {},
   "source": [
    "## Datos de contaminación en México"
   ]
  },
  {
   "cell_type": "code",
   "execution_count": 25,
   "id": "49e4a7de-8873-49e0-8443-1b7b03ac5029",
   "metadata": {},
   "outputs": [],
   "source": [
    "## Lectura de datos\n",
    "# este dataset contiene las mediciones promedio de varios tipos de partículas por día de cada una de las estaciones en todo el país\n",
    "aire_diario = pd.read_csv(\"./data/air_mexico/stations_daily.csv\")"
   ]
  },
  {
   "cell_type": "code",
   "execution_count": 26,
   "id": "fba69e0b-6bcd-40a1-be8d-0cafc4a54224",
   "metadata": {},
   "outputs": [
    {
     "name": "stdout",
     "output_type": "stream",
     "text": [
      "<class 'pandas.core.frame.DataFrame'>\n",
      "RangeIndex: 231592 entries, 0 to 231591\n",
      "Data columns (total 27 columns):\n",
      " #   Column      Non-Null Count   Dtype  \n",
      "---  ------      --------------   -----  \n",
      " 0   datetime    231592 non-null  object \n",
      " 1   station_id  231592 non-null  int64  \n",
      " 2   PM2.5       161698 non-null  float64\n",
      " 3   PM10        180481 non-null  float64\n",
      " 4   NOx         112881 non-null  float64\n",
      " 5   O3          192957 non-null  float64\n",
      " 6   CO          175493 non-null  float64\n",
      " 7   HR          123285 non-null  float64\n",
      " 8   NO          118154 non-null  float64\n",
      " 9   NO2         169286 non-null  float64\n",
      " 10  TMP         127015 non-null  float64\n",
      " 11  BEN         775 non-null     float64\n",
      " 12  CH4         270 non-null     float64\n",
      " 13  CN          595 non-null     float64\n",
      " 14  CO2         56 non-null      float64\n",
      " 15  H2S         280 non-null     float64\n",
      " 16  HCNM        279 non-null     float64\n",
      " 17  HCT         0 non-null       float64\n",
      " 18  HRI         10205 non-null   float64\n",
      " 19  IUV         4936 non-null    float64\n",
      " 20  PB          91738 non-null   float64\n",
      " 21  PP          75346 non-null   float64\n",
      " 22  PST         0 non-null       float64\n",
      " 23  RS          75507 non-null   float64\n",
      " 24  TMPI        34385 non-null   float64\n",
      " 25  UVA         16090 non-null   float64\n",
      " 26  XIL         775 non-null     float64\n",
      "dtypes: float64(25), int64(1), object(1)\n",
      "memory usage: 47.7+ MB\n"
     ]
    }
   ],
   "source": [
    "aire_diario.info()"
   ]
  },
  {
   "cell_type": "code",
   "execution_count": 27,
   "id": "a945b935-8eb2-4b8c-8ab8-5400f04b39d1",
   "metadata": {},
   "outputs": [
    {
     "name": "stdout",
     "output_type": "stream",
     "text": [
      "<class 'pandas.core.frame.DataFrame'>\n",
      "RangeIndex: 231592 entries, 0 to 231591\n",
      "Data columns (total 4 columns):\n",
      " #   Column      Non-Null Count   Dtype  \n",
      "---  ------      --------------   -----  \n",
      " 0   datetime    231592 non-null  object \n",
      " 1   station_id  231592 non-null  int64  \n",
      " 2   PM2.5       161698 non-null  float64\n",
      " 3   PM10        180481 non-null  float64\n",
      "dtypes: float64(2), int64(1), object(1)\n",
      "memory usage: 7.1+ MB\n"
     ]
    }
   ],
   "source": [
    "# pero en este estudio sólo consideremos las lecturas de partículas PM10 y PM2.5:\n",
    "cols2drop = [ 'NOx', 'O3', 'CO', 'HR', 'NO', 'NO2', 'TMP', 'BEN', 'CH4', 'CN', 'CO2', 'H2S', 'HCNM', 'HCT', 'HRI', 'IUV', 'PB', 'PP', 'PST', 'RS', 'TMPI', 'UVA', 'XIL']\n",
    "aire_diario.drop(cols2drop,inplace=True, axis=1)\n",
    "aire_diario.info()"
   ]
  },
  {
   "cell_type": "code",
   "execution_count": 28,
   "id": "92ee256f-bc7a-4a71-8ffe-78a676b95b78",
   "metadata": {},
   "outputs": [
    {
     "name": "stdout",
     "output_type": "stream",
     "text": [
      "0    2015-04-02\n",
      "1    2015-05-21\n",
      "2    2015-05-22\n",
      "Name: datetime, dtype: object\n",
      "0   2015-04-02\n",
      "1   2015-05-21\n",
      "2   2015-05-22\n",
      "Name: datetime, dtype: datetime64[ns]\n"
     ]
    }
   ],
   "source": [
    "# convirtamos la columna datetime a pandas datetime\n",
    "print(aire_diario.datetime.head(3))\n",
    "aire_diario.datetime = pd.to_datetime(aire_diario.datetime)\n",
    "print(aire_diario.datetime.head(3))"
   ]
  },
  {
   "cell_type": "code",
   "execution_count": 29,
   "id": "13b66a8f-ef2f-4cca-860e-8e5c28e34f1c",
   "metadata": {},
   "outputs": [
    {
     "name": "stdout",
     "output_type": "stream",
     "text": [
      "(231592, 4)\n",
      "(73988, 4)\n",
      "rango de fechas de los datos de contaminación:\n",
      "2019-01-02  -  2021-12-30\n"
     ]
    }
   ],
   "source": [
    "# sólo utilizaremos datos dentro del rango de fechas que tenemos en el dataset de muertes en México así\n",
    "# que filtremos:\n",
    "print(aire_diario.shape)\n",
    "aire_diario = aire_diario[(aire_diario.datetime>muertes_inicio) & (aire_diario.datetime<muertes_fin)]\n",
    "print(aire_diario.shape)\n",
    "print('rango de fechas de los datos de contaminación:')\n",
    "print(aire_diario.datetime.min().strftime('%Y-%m-%d'), ' - ',aire_diario.datetime.max().strftime('%Y-%m-%d'))\n"
   ]
  },
  {
   "cell_type": "markdown",
   "id": "381fb2b4-6230-42e6-b5a8-480ce8e15909",
   "metadata": {},
   "source": [
    "### Estaciones de monitoreo"
   ]
  },
  {
   "cell_type": "code",
   "execution_count": 30,
   "id": "2d1e9a69-04a6-4ea6-9ae0-cadf498996b6",
   "metadata": {},
   "outputs": [
    {
     "name": "stdout",
     "output_type": "stream",
     "text": [
      "aire_estaciones.shape(): (341, 27)\n"
     ]
    },
    {
     "data": {
      "text/html": [
       "<div>\n",
       "<style scoped>\n",
       "    .dataframe tbody tr th:only-of-type {\n",
       "        vertical-align: middle;\n",
       "    }\n",
       "\n",
       "    .dataframe tbody tr th {\n",
       "        vertical-align: top;\n",
       "    }\n",
       "\n",
       "    .dataframe thead th {\n",
       "        text-align: right;\n",
       "    }\n",
       "</style>\n",
       "<table border=\"1\" class=\"dataframe\">\n",
       "  <thead>\n",
       "    <tr style=\"text-align: right;\">\n",
       "      <th></th>\n",
       "      <th>0</th>\n",
       "    </tr>\n",
       "  </thead>\n",
       "  <tbody>\n",
       "    <tr>\n",
       "      <th>station_id</th>\n",
       "      <td>0</td>\n",
       "    </tr>\n",
       "    <tr>\n",
       "      <th>station_name</th>\n",
       "      <td>0</td>\n",
       "    </tr>\n",
       "    <tr>\n",
       "      <th>station_code</th>\n",
       "      <td>0</td>\n",
       "    </tr>\n",
       "    <tr>\n",
       "      <th>network_id</th>\n",
       "      <td>0</td>\n",
       "    </tr>\n",
       "    <tr>\n",
       "      <th>network_name</th>\n",
       "      <td>7</td>\n",
       "    </tr>\n",
       "    <tr>\n",
       "      <th>network_code</th>\n",
       "      <td>1</td>\n",
       "    </tr>\n",
       "    <tr>\n",
       "      <th>street</th>\n",
       "      <td>154</td>\n",
       "    </tr>\n",
       "    <tr>\n",
       "      <th>ext</th>\n",
       "      <td>187</td>\n",
       "    </tr>\n",
       "    <tr>\n",
       "      <th>interior</th>\n",
       "      <td>267</td>\n",
       "    </tr>\n",
       "    <tr>\n",
       "      <th>colonia</th>\n",
       "      <td>155</td>\n",
       "    </tr>\n",
       "    <tr>\n",
       "      <th>zip</th>\n",
       "      <td>198</td>\n",
       "    </tr>\n",
       "    <tr>\n",
       "      <th>state_code</th>\n",
       "      <td>42</td>\n",
       "    </tr>\n",
       "    <tr>\n",
       "      <th>municipio_code</th>\n",
       "      <td>42</td>\n",
       "    </tr>\n",
       "    <tr>\n",
       "      <th>year_started</th>\n",
       "      <td>203</td>\n",
       "    </tr>\n",
       "    <tr>\n",
       "      <th>altitude</th>\n",
       "      <td>21</td>\n",
       "    </tr>\n",
       "    <tr>\n",
       "      <th>address</th>\n",
       "      <td>203</td>\n",
       "    </tr>\n",
       "    <tr>\n",
       "      <th>date_validated</th>\n",
       "      <td>321</td>\n",
       "    </tr>\n",
       "    <tr>\n",
       "      <th>date_validated2</th>\n",
       "      <td>198</td>\n",
       "    </tr>\n",
       "    <tr>\n",
       "      <th>passed_validation</th>\n",
       "      <td>179</td>\n",
       "    </tr>\n",
       "    <tr>\n",
       "      <th>video</th>\n",
       "      <td>286</td>\n",
       "    </tr>\n",
       "    <tr>\n",
       "      <th>lat</th>\n",
       "      <td>25</td>\n",
       "    </tr>\n",
       "    <tr>\n",
       "      <th>lon</th>\n",
       "      <td>25</td>\n",
       "    </tr>\n",
       "    <tr>\n",
       "      <th>date_started</th>\n",
       "      <td>149</td>\n",
       "    </tr>\n",
       "    <tr>\n",
       "      <th>timezone</th>\n",
       "      <td>0</td>\n",
       "    </tr>\n",
       "    <tr>\n",
       "      <th>street_view</th>\n",
       "      <td>289</td>\n",
       "    </tr>\n",
       "    <tr>\n",
       "      <th>video_interior</th>\n",
       "      <td>303</td>\n",
       "    </tr>\n",
       "    <tr>\n",
       "      <th>color</th>\n",
       "      <td>0</td>\n",
       "    </tr>\n",
       "  </tbody>\n",
       "</table>\n",
       "</div>"
      ],
      "text/plain": [
       "                     0\n",
       "station_id           0\n",
       "station_name         0\n",
       "station_code         0\n",
       "network_id           0\n",
       "network_name         7\n",
       "network_code         1\n",
       "street             154\n",
       "ext                187\n",
       "interior           267\n",
       "colonia            155\n",
       "zip                198\n",
       "state_code          42\n",
       "municipio_code      42\n",
       "year_started       203\n",
       "altitude            21\n",
       "address            203\n",
       "date_validated     321\n",
       "date_validated2    198\n",
       "passed_validation  179\n",
       "video              286\n",
       "lat                 25\n",
       "lon                 25\n",
       "date_started       149\n",
       "timezone             0\n",
       "street_view        289\n",
       "video_interior     303\n",
       "color                0"
      ]
     },
     "execution_count": 30,
     "metadata": {},
     "output_type": "execute_result"
    }
   ],
   "source": [
    "# este dataset contiene información de las estaciones, varios campos son de dirección pero están muy incompletos\n",
    "aire_estaciones = pd.read_csv(\"./data/air_mexico/stations_rsinaica.csv\")\n",
    "print('aire_estaciones.shape():',aire_estaciones.shape)\n",
    "#print(aire_estaciones.info())\n",
    " \n",
    "# muchas columnas tienem datos incompletos:\n",
    "aire_estaciones.isna().sum(axis=0).to_frame()"
   ]
  },
  {
   "cell_type": "code",
   "execution_count": 31,
   "id": "a03a1241-dd7b-460a-b619-71a691b53ee7",
   "metadata": {},
   "outputs": [
    {
     "name": "stdout",
     "output_type": "stream",
     "text": [
      "<class 'pandas.core.frame.DataFrame'>\n",
      "RangeIndex: 341 entries, 0 to 340\n",
      "Data columns (total 4 columns):\n",
      " #   Column        Non-Null Count  Dtype  \n",
      "---  ------        --------------  -----  \n",
      " 0   station_id    341 non-null    int64  \n",
      " 1   station_name  341 non-null    object \n",
      " 2   lat           316 non-null    float64\n",
      " 3   lon           316 non-null    float64\n",
      "dtypes: float64(2), int64(1), object(1)\n",
      "memory usage: 10.8+ KB\n",
      "None\n"
     ]
    },
    {
     "data": {
      "text/html": [
       "<div>\n",
       "<style scoped>\n",
       "    .dataframe tbody tr th:only-of-type {\n",
       "        vertical-align: middle;\n",
       "    }\n",
       "\n",
       "    .dataframe tbody tr th {\n",
       "        vertical-align: top;\n",
       "    }\n",
       "\n",
       "    .dataframe thead th {\n",
       "        text-align: right;\n",
       "    }\n",
       "</style>\n",
       "<table border=\"1\" class=\"dataframe\">\n",
       "  <thead>\n",
       "    <tr style=\"text-align: right;\">\n",
       "      <th></th>\n",
       "      <th>0</th>\n",
       "    </tr>\n",
       "  </thead>\n",
       "  <tbody>\n",
       "    <tr>\n",
       "      <th>station_id</th>\n",
       "      <td>0</td>\n",
       "    </tr>\n",
       "    <tr>\n",
       "      <th>station_name</th>\n",
       "      <td>0</td>\n",
       "    </tr>\n",
       "    <tr>\n",
       "      <th>lat</th>\n",
       "      <td>25</td>\n",
       "    </tr>\n",
       "    <tr>\n",
       "      <th>lon</th>\n",
       "      <td>25</td>\n",
       "    </tr>\n",
       "  </tbody>\n",
       "</table>\n",
       "</div>"
      ],
      "text/plain": [
       "               0\n",
       "station_id     0\n",
       "station_name   0\n",
       "lat           25\n",
       "lon           25"
      ]
     },
     "execution_count": 31,
     "metadata": {},
     "output_type": "execute_result"
    }
   ],
   "source": [
    "# vamos a quitar todo lo que no usaremos\n",
    "# nos quedamos con id_station, su nombre y sus coordenadas geográficas\n",
    "cols2drop = [ 'station_code', 'network_id', 'network_name', 'network_code','street', 'ext', 'interior', 'colonia', 'zip', 'state_code', 'municipio_code','year_started', 'altitude', 'address', 'date_validated', 'date_validated2','passed_validation', 'video','date_started', 'timezone','street_view', 'video_interior', 'color']\n",
    "aire_estaciones.drop(cols2drop,axis=1,inplace=True)\n",
    "print(aire_estaciones.info())\n",
    "aire_estaciones.isna().sum(axis=0).to_frame()"
   ]
  },
  {
   "cell_type": "code",
   "execution_count": 32,
   "id": "f939229c-4636-4d00-a988-e4fc3a23bafb",
   "metadata": {},
   "outputs": [],
   "source": [
    "# nos interesa saber en qué estado o municipio se encuentra cada estación, porque queremos saber cuales\n",
    "# están en los estados de nuestro interés\n",
    "\n",
    "# sólo 25 estaciones no tienen latitud y longitud (en decimales). trataremos de obtener la información\n",
    "# de estado o municipio a partir de sus coordenadas geográficas y los datos que tenemos de INEGI de\n",
    "# Áreas Geoestadísticas Estatales, Municipales y Localidades ya que esos datos cuentan con tienen coordenas geográficas\n",
    "\n",
    "# iteraramos las estaciones y calculamos qué municipio es el más cercano, tomamos el estado de ese municipio:\n",
    "\n",
    "aire_estaciones['estado_clave'] = None\n",
    "aire_estaciones['estado'] = None\n",
    "\n",
    "import numpy as np\n",
    "for index,station in aire_estaciones.iterrows():\n",
    "   \n",
    "    station_coords = [float(station['lat']),float(station['lon'])]\n",
    "    if pd.isna(station_coords[0]) or  pd.isna(station_coords[1]):\n",
    "        pass\n",
    "    else:\n",
    "        # usamos distancia euclidiana para mapear a la ubicacion geoestadística más cercana\n",
    "        min_dist_index = (geoDf[['LAT_DECIMAL','LON_DECIMAL']] - np.array(station_coords)).pow(2).sum(1).pow(0.5).argmin()\n",
    "        if False:\n",
    "            print()\n",
    "            print(station.station_name)\n",
    "            print(station_coords, geoDf.iloc[min_dist_index][['LAT_DECIMAL','LON_DECIMAL']].to_numpy())\n",
    "            print(geoDf.iloc[min_dist_index][['estado','CVE_ENT','NOM_ENT','NOM_MUN']].to_numpy())\n",
    "        aire_estaciones.loc[index,'estado_clave'] = int(geoDf.iloc[min_dist_index].CVE_ENT)\n",
    "        aire_estaciones.loc[index,'estado'] = geoDf.iloc[min_dist_index].estado\n",
    "        \n",
    "\n"
   ]
  },
  {
   "cell_type": "code",
   "execution_count": 33,
   "id": "10557ad9-1029-414d-8eb6-831f76af3862",
   "metadata": {},
   "outputs": [
    {
     "data": {
      "text/plain": [
       "station_id            223\n",
       "station_name      Apizaco\n",
       "lat                 19.42\n",
       "lon            -98.145278\n",
       "estado_clave           29\n",
       "estado               tlax\n",
       "Name: 21, dtype: object"
      ]
     },
     "execution_count": 33,
     "metadata": {},
     "output_type": "execute_result"
    }
   ],
   "source": [
    "# ejemplo de datos de una estación\n",
    "aire_estaciones.iloc[21]"
   ]
  },
  {
   "cell_type": "code",
   "execution_count": 34,
   "id": "4876da06-252f-4419-a08f-dfdbb09cc2e6",
   "metadata": {},
   "outputs": [
    {
     "name": "stdout",
     "output_type": "stream",
     "text": [
      "32\n"
     ]
    },
    {
     "data": {
      "text/html": [
       "<div>\n",
       "<style scoped>\n",
       "    .dataframe tbody tr th:only-of-type {\n",
       "        vertical-align: middle;\n",
       "    }\n",
       "\n",
       "    .dataframe tbody tr th {\n",
       "        vertical-align: top;\n",
       "    }\n",
       "\n",
       "    .dataframe thead th {\n",
       "        text-align: right;\n",
       "    }\n",
       "</style>\n",
       "<table border=\"1\" class=\"dataframe\">\n",
       "  <thead>\n",
       "    <tr style=\"text-align: right;\">\n",
       "      <th></th>\n",
       "      <th>station_id</th>\n",
       "      <th>station_name</th>\n",
       "      <th>lat</th>\n",
       "      <th>lon</th>\n",
       "      <th>estado_clave</th>\n",
       "      <th>estado</th>\n",
       "    </tr>\n",
       "  </thead>\n",
       "  <tbody>\n",
       "    <tr>\n",
       "      <th>276</th>\n",
       "      <td>242</td>\n",
       "      <td>Ajusco Medio</td>\n",
       "      <td>19.272222</td>\n",
       "      <td>-99.207778</td>\n",
       "      <td>9</td>\n",
       "      <td>cdmx</td>\n",
       "    </tr>\n",
       "    <tr>\n",
       "      <th>277</th>\n",
       "      <td>241</td>\n",
       "      <td>Ajusco</td>\n",
       "      <td>19.154286</td>\n",
       "      <td>-99.162778</td>\n",
       "      <td>9</td>\n",
       "      <td>cdmx</td>\n",
       "    </tr>\n",
       "    <tr>\n",
       "      <th>280</th>\n",
       "      <td>315</td>\n",
       "      <td>Azcapotzalco</td>\n",
       "      <td>19.489389</td>\n",
       "      <td>-99.198972</td>\n",
       "      <td>9</td>\n",
       "      <td>cdmx</td>\n",
       "    </tr>\n",
       "    <tr>\n",
       "      <th>281</th>\n",
       "      <td>300</td>\n",
       "      <td>Benito Juárez</td>\n",
       "      <td>19.371667</td>\n",
       "      <td>-99.159167</td>\n",
       "      <td>9</td>\n",
       "      <td>cdmx</td>\n",
       "    </tr>\n",
       "    <tr>\n",
       "      <th>282</th>\n",
       "      <td>244</td>\n",
       "      <td>Camarones</td>\n",
       "      <td>19.468611</td>\n",
       "      <td>-99.170000</td>\n",
       "      <td>9</td>\n",
       "      <td>cdmx</td>\n",
       "    </tr>\n",
       "  </tbody>\n",
       "</table>\n",
       "</div>"
      ],
      "text/plain": [
       "     station_id   station_name        lat        lon estado_clave estado\n",
       "276         242   Ajusco Medio  19.272222 -99.207778            9   cdmx\n",
       "277         241         Ajusco  19.154286 -99.162778            9   cdmx\n",
       "280         315   Azcapotzalco  19.489389 -99.198972            9   cdmx\n",
       "281         300  Benito Juárez  19.371667 -99.159167            9   cdmx\n",
       "282         244      Camarones  19.468611 -99.170000            9   cdmx"
      ]
     },
     "execution_count": 34,
     "metadata": {},
     "output_type": "execute_result"
    }
   ],
   "source": [
    "# estaciones de CDMX\n",
    "estacionesCDMX = aire_estaciones[aire_estaciones.estado=='cdmx']\n",
    "print(estacionesCDMX.shape[0])\n",
    "estacionesCDMX.head()"
   ]
  },
  {
   "cell_type": "code",
   "execution_count": 35,
   "id": "22ebbf01-7843-4888-9775-c9478f68b08f",
   "metadata": {},
   "outputs": [
    {
     "data": {
      "text/plain": [
       "estado\n",
       "ags      6\n",
       "bc      19\n",
       "camp     1\n",
       "cdmx    32\n",
       "chih    17\n",
       "chis     3\n",
       "coah     9\n",
       "col      1\n",
       "dgo     11\n",
       "gro      1\n",
       "gto     27\n",
       "hgo     24\n",
       "jal     10\n",
       "mex     44\n",
       "mich     4\n",
       "mor      4\n",
       "nay      3\n",
       "nl      13\n",
       "oax      2\n",
       "pue      6\n",
       "qro      8\n",
       "sin     15\n",
       "slp      4\n",
       "son      4\n",
       "tab     11\n",
       "tamp    19\n",
       "tlax     6\n",
       "ver      5\n",
       "yuc      1\n",
       "zac      6\n",
       "dtype: int64"
      ]
     },
     "execution_count": 35,
     "metadata": {},
     "output_type": "execute_result"
    }
   ],
   "source": [
    "# número de estaciones que hay por estado (después veremos que muchas no tienen datos)\n",
    "#aire_estaciones.groupby(['eq6_ent_nom','eq6_ent_cve']).size()\n",
    "aire_estaciones.groupby(['estado']).size()"
   ]
  },
  {
   "cell_type": "code",
   "execution_count": 36,
   "id": "e7845dd4-e4e5-4e3e-803e-da0e7b2bda5b",
   "metadata": {},
   "outputs": [
    {
     "data": {
      "text/html": [
       "<div>\n",
       "<style scoped>\n",
       "    .dataframe tbody tr th:only-of-type {\n",
       "        vertical-align: middle;\n",
       "    }\n",
       "\n",
       "    .dataframe tbody tr th {\n",
       "        vertical-align: top;\n",
       "    }\n",
       "\n",
       "    .dataframe thead th {\n",
       "        text-align: right;\n",
       "    }\n",
       "</style>\n",
       "<table border=\"1\" class=\"dataframe\">\n",
       "  <thead>\n",
       "    <tr style=\"text-align: right;\">\n",
       "      <th></th>\n",
       "      <th>datetime</th>\n",
       "      <th>station_id</th>\n",
       "      <th>PM2.5</th>\n",
       "      <th>PM10</th>\n",
       "      <th>station_name</th>\n",
       "      <th>estado_clave</th>\n",
       "      <th>estado</th>\n",
       "    </tr>\n",
       "  </thead>\n",
       "  <tbody>\n",
       "    <tr>\n",
       "      <th>0</th>\n",
       "      <td>2019-01-02</td>\n",
       "      <td>32</td>\n",
       "      <td>0.036260</td>\n",
       "      <td>0.386339</td>\n",
       "      <td>Secretaría de Medio Ambiente</td>\n",
       "      <td>1</td>\n",
       "      <td>ags</td>\n",
       "    </tr>\n",
       "    <tr>\n",
       "      <th>1</th>\n",
       "      <td>2019-01-03</td>\n",
       "      <td>32</td>\n",
       "      <td>0.031708</td>\n",
       "      <td>0.565657</td>\n",
       "      <td>Secretaría de Medio Ambiente</td>\n",
       "      <td>1</td>\n",
       "      <td>ags</td>\n",
       "    </tr>\n",
       "    <tr>\n",
       "      <th>2</th>\n",
       "      <td>2019-01-04</td>\n",
       "      <td>32</td>\n",
       "      <td>0.038459</td>\n",
       "      <td>0.429684</td>\n",
       "      <td>Secretaría de Medio Ambiente</td>\n",
       "      <td>1</td>\n",
       "      <td>ags</td>\n",
       "    </tr>\n",
       "    <tr>\n",
       "      <th>3</th>\n",
       "      <td>2019-01-05</td>\n",
       "      <td>32</td>\n",
       "      <td>0.439551</td>\n",
       "      <td>0.753832</td>\n",
       "      <td>Secretaría de Medio Ambiente</td>\n",
       "      <td>1</td>\n",
       "      <td>ags</td>\n",
       "    </tr>\n",
       "    <tr>\n",
       "      <th>4</th>\n",
       "      <td>2019-01-06</td>\n",
       "      <td>32</td>\n",
       "      <td>1.001204</td>\n",
       "      <td>0.765408</td>\n",
       "      <td>Secretaría de Medio Ambiente</td>\n",
       "      <td>1</td>\n",
       "      <td>ags</td>\n",
       "    </tr>\n",
       "  </tbody>\n",
       "</table>\n",
       "</div>"
      ],
      "text/plain": [
       "    datetime  station_id     PM2.5      PM10                  station_name  \\\n",
       "0 2019-01-02          32  0.036260  0.386339  Secretaría de Medio Ambiente   \n",
       "1 2019-01-03          32  0.031708  0.565657  Secretaría de Medio Ambiente   \n",
       "2 2019-01-04          32  0.038459  0.429684  Secretaría de Medio Ambiente   \n",
       "3 2019-01-05          32  0.439551  0.753832  Secretaría de Medio Ambiente   \n",
       "4 2019-01-06          32  1.001204  0.765408  Secretaría de Medio Ambiente   \n",
       "\n",
       "  estado_clave estado  \n",
       "0            1    ags  \n",
       "1            1    ags  \n",
       "2            1    ags  \n",
       "3            1    ags  \n",
       "4            1    ags  "
      ]
     },
     "execution_count": 36,
     "metadata": {},
     "output_type": "execute_result"
    }
   ],
   "source": [
    "# ahora tenemos la tabla de estaciones con los datos completos que necesitaremos y podemos hacer merge\n",
    "# con la tabla de medidas diarias de condiciones del aire.\n",
    "# la tabla nueva contendrá la infomrmación del estado donde se tomó la medición\n",
    "aire_diario_wstations = pd.merge(aire_diario, aire_estaciones, how='left', on='station_id')\n",
    "\n",
    "# ya no necesitamos lat ni lon\n",
    "aire_diario_wstations.drop(['lat','lon'],axis=1,inplace=True)\n",
    "\n",
    "aire_diario = aire_diario_wstations\n",
    "aire_diario.head()"
   ]
  },
  {
   "cell_type": "code",
   "execution_count": 37,
   "id": "b91789f4-77d4-4af3-9390-84eb4f699050",
   "metadata": {},
   "outputs": [
    {
     "data": {
      "text/html": [
       "<div>\n",
       "<style scoped>\n",
       "    .dataframe tbody tr th:only-of-type {\n",
       "        vertical-align: middle;\n",
       "    }\n",
       "\n",
       "    .dataframe tbody tr th {\n",
       "        vertical-align: top;\n",
       "    }\n",
       "\n",
       "    .dataframe thead th {\n",
       "        text-align: right;\n",
       "    }\n",
       "</style>\n",
       "<table border=\"1\" class=\"dataframe\">\n",
       "  <thead>\n",
       "    <tr style=\"text-align: right;\">\n",
       "      <th></th>\n",
       "      <th>datetime</th>\n",
       "      <th>station_id</th>\n",
       "      <th>PM2.5</th>\n",
       "      <th>PM10</th>\n",
       "      <th>station_name</th>\n",
       "      <th>estado_clave</th>\n",
       "      <th>estado</th>\n",
       "    </tr>\n",
       "  </thead>\n",
       "  <tbody>\n",
       "    <tr>\n",
       "      <th>18923</th>\n",
       "      <td>2019-01-08</td>\n",
       "      <td>102</td>\n",
       "      <td>NaN</td>\n",
       "      <td>NaN</td>\n",
       "      <td>Centro</td>\n",
       "      <td>14</td>\n",
       "      <td>jal</td>\n",
       "    </tr>\n",
       "    <tr>\n",
       "      <th>18924</th>\n",
       "      <td>2019-01-09</td>\n",
       "      <td>102</td>\n",
       "      <td>NaN</td>\n",
       "      <td>NaN</td>\n",
       "      <td>Centro</td>\n",
       "      <td>14</td>\n",
       "      <td>jal</td>\n",
       "    </tr>\n",
       "    <tr>\n",
       "      <th>18925</th>\n",
       "      <td>2019-01-10</td>\n",
       "      <td>102</td>\n",
       "      <td>NaN</td>\n",
       "      <td>78.700250</td>\n",
       "      <td>Centro</td>\n",
       "      <td>14</td>\n",
       "      <td>jal</td>\n",
       "    </tr>\n",
       "    <tr>\n",
       "      <th>18926</th>\n",
       "      <td>2019-01-11</td>\n",
       "      <td>102</td>\n",
       "      <td>19.320886</td>\n",
       "      <td>45.517637</td>\n",
       "      <td>Centro</td>\n",
       "      <td>14</td>\n",
       "      <td>jal</td>\n",
       "    </tr>\n",
       "    <tr>\n",
       "      <th>18927</th>\n",
       "      <td>2019-01-12</td>\n",
       "      <td>102</td>\n",
       "      <td>19.262604</td>\n",
       "      <td>29.540292</td>\n",
       "      <td>Centro</td>\n",
       "      <td>14</td>\n",
       "      <td>jal</td>\n",
       "    </tr>\n",
       "    <tr>\n",
       "      <th>...</th>\n",
       "      <td>...</td>\n",
       "      <td>...</td>\n",
       "      <td>...</td>\n",
       "      <td>...</td>\n",
       "      <td>...</td>\n",
       "      <td>...</td>\n",
       "      <td>...</td>\n",
       "    </tr>\n",
       "    <tr>\n",
       "      <th>62571</th>\n",
       "      <td>2021-12-26</td>\n",
       "      <td>302</td>\n",
       "      <td>NaN</td>\n",
       "      <td>NaN</td>\n",
       "      <td>Gustavo A. Madero</td>\n",
       "      <td>9</td>\n",
       "      <td>cdmx</td>\n",
       "    </tr>\n",
       "    <tr>\n",
       "      <th>62572</th>\n",
       "      <td>2021-12-27</td>\n",
       "      <td>302</td>\n",
       "      <td>NaN</td>\n",
       "      <td>NaN</td>\n",
       "      <td>Gustavo A. Madero</td>\n",
       "      <td>9</td>\n",
       "      <td>cdmx</td>\n",
       "    </tr>\n",
       "    <tr>\n",
       "      <th>62573</th>\n",
       "      <td>2021-12-28</td>\n",
       "      <td>302</td>\n",
       "      <td>NaN</td>\n",
       "      <td>NaN</td>\n",
       "      <td>Gustavo A. Madero</td>\n",
       "      <td>9</td>\n",
       "      <td>cdmx</td>\n",
       "    </tr>\n",
       "    <tr>\n",
       "      <th>62574</th>\n",
       "      <td>2021-12-29</td>\n",
       "      <td>302</td>\n",
       "      <td>NaN</td>\n",
       "      <td>NaN</td>\n",
       "      <td>Gustavo A. Madero</td>\n",
       "      <td>9</td>\n",
       "      <td>cdmx</td>\n",
       "    </tr>\n",
       "    <tr>\n",
       "      <th>62575</th>\n",
       "      <td>2021-12-30</td>\n",
       "      <td>302</td>\n",
       "      <td>NaN</td>\n",
       "      <td>NaN</td>\n",
       "      <td>Gustavo A. Madero</td>\n",
       "      <td>9</td>\n",
       "      <td>cdmx</td>\n",
       "    </tr>\n",
       "  </tbody>\n",
       "</table>\n",
       "<p>26647 rows × 7 columns</p>\n",
       "</div>"
      ],
      "text/plain": [
       "        datetime  station_id      PM2.5       PM10       station_name  \\\n",
       "18923 2019-01-08         102        NaN        NaN             Centro   \n",
       "18924 2019-01-09         102        NaN        NaN             Centro   \n",
       "18925 2019-01-10         102        NaN  78.700250             Centro   \n",
       "18926 2019-01-11         102  19.320886  45.517637             Centro   \n",
       "18927 2019-01-12         102  19.262604  29.540292             Centro   \n",
       "...          ...         ...        ...        ...                ...   \n",
       "62571 2021-12-26         302        NaN        NaN  Gustavo A. Madero   \n",
       "62572 2021-12-27         302        NaN        NaN  Gustavo A. Madero   \n",
       "62573 2021-12-28         302        NaN        NaN  Gustavo A. Madero   \n",
       "62574 2021-12-29         302        NaN        NaN  Gustavo A. Madero   \n",
       "62575 2021-12-30         302        NaN        NaN  Gustavo A. Madero   \n",
       "\n",
       "      estado_clave estado  \n",
       "18923           14    jal  \n",
       "18924           14    jal  \n",
       "18925           14    jal  \n",
       "18926           14    jal  \n",
       "18927           14    jal  \n",
       "...            ...    ...  \n",
       "62571            9   cdmx  \n",
       "62572            9   cdmx  \n",
       "62573            9   cdmx  \n",
       "62574            9   cdmx  \n",
       "62575            9   cdmx  \n",
       "\n",
       "[26647 rows x 7 columns]"
      ]
     },
     "execution_count": 37,
     "metadata": {},
     "output_type": "execute_result"
    }
   ],
   "source": [
    "# ahora filtemos para tener solo nuestros estados de interés:\n",
    "aire_diario = aire_diario.loc[aire_diario.estado.isin(estadosTop5Clave)]\n",
    "aire_diario"
   ]
  },
  {
   "cell_type": "code",
   "execution_count": 38,
   "id": "bb923228-6fe8-497b-8faf-6b371879205f",
   "metadata": {},
   "outputs": [
    {
     "data": {
      "text/plain": [
       "estado\n",
       "cdmx    9476\n",
       "jal     4223\n",
       "mex     8157\n",
       "pue     2724\n",
       "ver     2067\n",
       "dtype: int64"
      ]
     },
     "execution_count": 38,
     "metadata": {},
     "output_type": "execute_result"
    }
   ],
   "source": [
    "# vemos cuantas lecturas tiene cada estado tomando en cuenta todas las estaciones de ese estado\n",
    "aire_diario.groupby(['estado']).size()"
   ]
  },
  {
   "cell_type": "code",
   "execution_count": 39,
   "id": "1280d7a6-2e88-4ff9-ac24-5666cffd723d",
   "metadata": {},
   "outputs": [
    {
     "data": {
      "text/plain": [
       "datetime           0\n",
       "station_id         0\n",
       "PM2.5           5946\n",
       "PM10            8892\n",
       "station_name       0\n",
       "estado_clave       0\n",
       "estado             0\n",
       "dtype: int64"
      ]
     },
     "execution_count": 39,
     "metadata": {},
     "output_type": "execute_result"
    }
   ],
   "source": [
    "# valores vacíos\n",
    "aire_diario.isna().sum(axis=0)"
   ]
  },
  {
   "cell_type": "code",
   "execution_count": 40,
   "id": "4cd34c41-dbaf-4b36-a14a-256ba31d454d",
   "metadata": {},
   "outputs": [
    {
     "data": {
      "text/plain": [
       "estado  station_id\n",
       "cdmx    256           1071\n",
       "        245           1055\n",
       "        263           1050\n",
       "        269           1047\n",
       "        302           1008\n",
       "        262            986\n",
       "        268            964\n",
       "        244            915\n",
       "        242            545\n",
       "        251            544\n",
       "        241            291\n",
       "jal     109           1090\n",
       "        103           1070\n",
       "        106           1060\n",
       "        102           1003\n",
       "mex     123           1094\n",
       "        125           1094\n",
       "        128           1082\n",
       "        266           1078\n",
       "        126           1077\n",
       "        258           1030\n",
       "        260            914\n",
       "        271            432\n",
       "        301            356\n",
       "pue     162           1086\n",
       "        161            869\n",
       "        163            769\n",
       "ver     234           1066\n",
       "        291           1001\n",
       "Name: station_id, dtype: int64"
      ]
     },
     "execution_count": 40,
     "metadata": {},
     "output_type": "execute_result"
    }
   ],
   "source": [
    "# vemos cuantas lecturas tiene cada estación de cada estado\n",
    "aire_diario.groupby(['estado'])['station_id'].value_counts()"
   ]
  },
  {
   "cell_type": "markdown",
   "id": "c456d0d1-0174-4530-ad63-30c3cdbfd6b2",
   "metadata": {},
   "source": [
    "## Merge de muertes con contaminación"
   ]
  },
  {
   "cell_type": "code",
   "execution_count": 41,
   "id": "71c6104b-7f08-4492-b3da-59c816fe8431",
   "metadata": {},
   "outputs": [
    {
     "data": {
      "text/plain": [
       "<AxesSubplot: xlabel='cdmx', ylabel='Fecha'>"
      ]
     },
     "execution_count": 41,
     "metadata": {},
     "output_type": "execute_result"
    },
    {
     "data": {
      "image/png": "[encoded data removed]",
      "text/plain": [
       "<Figure size 1080x360 with 1 Axes>"
      ]
     },
     "metadata": {
      "needs_background": "light"
     },
     "output_type": "display_data"
    }
   ],
   "source": [
    "# promedios diarios de lecturas para un estado (de todas las estaciones):\n",
    "estado = 'cdmx'\n",
    "dataPM10 = aire_diario[aire_diario.estado==estado].groupby('datetime')['PM10'].mean().to_frame()\n",
    "dataPM25 = aire_diario[aire_diario.estado==estado].groupby('datetime')['PM2.5'].mean().to_frame()\n",
    "\n",
    "# suma de muertes en por día en un estado:\n",
    "dataMuertes = muertesDf_resp_top[muertesDf_resp_top.estado==estado].groupby('date').size().to_frame().rename(columns={0:'Muertes'})\n",
    "\n",
    "fig, axs = plt.subplots(nrows=1, ncols=1,figsize=(15, 5))\n",
    "fig.suptitle('Datos de contaminación y muertes para '+estado.upper()+' ('+ muertes_inicio.strftime('%Y-%m-%d')+' - '+muertes_fin.strftime('%Y-%m-%d')+')')\n",
    "plt.ylabel(\"Fecha\")\n",
    "plt.xlabel(estado)\n",
    "\n",
    "sns.set_palette(\"PuBuGn_d\")\n",
    "\n",
    "data=dataPM10\n",
    "sns.lineplot(data=data, palette=['cyan'])\n",
    "\n",
    "data=dataPM25\n",
    "sns.lineplot(data=data, palette=['orange'])\n",
    "\n",
    "data=dataMuertes\n",
    "sns.lineplot(data=data, palette=['purple'])"
   ]
  },
  {
   "cell_type": "code",
   "execution_count": 42,
   "id": "3c134f0a-2667-4d87-a33b-a27a0c17dd94",
   "metadata": {},
   "outputs": [],
   "source": [
    "# el proceso siguiente hará una tabla que consolide la información que necesitamos para el resto de nuestro analisis\n",
    "# realizamos un merge para los estados que decidimos analizar en una serie de tiempo:\n",
    "\n",
    "# este es una time series vacía con fechas diarias de inicio y fin que hemos estado usando\n",
    "myc_consolidado_index = pd.date_range(muertes_inicio,muertes_fin,freq='D')\n",
    "myc_consolidado = pd.DataFrame(index=myc_consolidado_index)\n",
    "\n",
    "for estado in estadosTop5Clave: # ['cdmx','mex','pue', 'jal', 'ver']\n",
    "    # promedio diario de todas las estaciones de un estado:\n",
    "    dataPM10 = aire_diario[aire_diario.estado==estado].groupby('datetime')['PM10'].mean().to_frame()\n",
    "    dataPM25 = aire_diario[aire_diario.estado==estado].groupby('datetime')['PM2.5'].mean().to_frame()\n",
    "    # para las muertes es diferente porque aquí cada fila es una muerte y hay que sumarlas en vez de promediarlas:\n",
    "    dataMuertes = muertesDf_resp_top[muertesDf_resp_top.estado==estado].groupby('date').size().to_frame().rename(columns={0:'Muertes'})\n",
    "    # hacemos merge usando la FECHA como llave común:\n",
    "    myc_consolidado = pd.merge(myc_consolidado,dataMuertes,left_index=True, right_index=True, how='left')\n",
    "    myc_consolidado = pd.merge(myc_consolidado,dataPM10,left_index=True, right_index=True, how='left')\n",
    "    myc_consolidado = pd.merge(myc_consolidado,dataPM25,left_index=True, right_index=True, how='left')\n",
    "    myc_consolidado.rename(columns={'Muertes':'muertes_'+estado,'PM10':'pm10_'+estado,'PM2.5':'pm2.5_'+estado},inplace=True)\n"
   ]
  },
  {
   "cell_type": "markdown",
   "id": "a66fa4fd-deef-470a-8672-d848606cb0dc",
   "metadata": {},
   "source": [
    "# !Lo logramos!\n",
    "## Tenemos un dataset consolidado con información de contaminación con datos de estaciones completos y muertes por día."
   ]
  },
  {
   "cell_type": "code",
   "execution_count": 43,
   "id": "4e33ebec-7070-4ea9-a38d-bbb8077d5cf9",
   "metadata": {},
   "outputs": [
    {
     "data": {
      "text/plain": [
       "muertes_cdmx      0\n",
       "pm10_cdmx        17\n",
       "muertes_mex       0\n",
       "pm10_mex          2\n",
       "muertes_jal       0\n",
       "pm10_jal         87\n",
       "muertes_ver       0\n",
       "pm10_ver        111\n",
       "muertes_pue       0\n",
       "pm10_pue         18\n",
       "dtype: int64"
      ]
     },
     "execution_count": 43,
     "metadata": {},
     "output_type": "execute_result"
    }
   ],
   "source": [
    "# podemos ver cu[antos registros y de qu[e columnas tienen datos incompletos:\n",
    "myc_consolidado.isna().sum(axis=0)"
   ]
  },
  {
   "cell_type": "code",
   "execution_count": 44,
   "id": "cf80d092-3aef-41a5-abde-f6fc17a9fe24",
   "metadata": {},
   "outputs": [
    {
     "data": {
      "text/plain": [
       "muertes_cdmx      32.000000\n",
       "pm10_cdmx         36.996839\n",
       "muertes_mex       32.000000\n",
       "pm10_mex          67.997736\n",
       "muertes_jal       33.000000\n",
       "pm10_jal        6815.562413\n",
       "muertes_ver       20.000000\n",
       "pm10_ver          46.375000\n",
       "muertes_pue        5.000000\n",
       "pm10_pue          34.974005\n",
       "Name: 2020-01-29 00:00:00, dtype: float64"
      ]
     },
     "execution_count": 44,
     "metadata": {},
     "output_type": "execute_result"
    }
   ],
   "source": [
    "# aquí vemos un ejemplo del máximo valor de PM10 para Jalisco que es sumamente improbable:\n",
    "myc_consolidado.loc[myc_consolidado.pm10_jal.idxmax()]"
   ]
  },
  {
   "cell_type": "code",
   "execution_count": 45,
   "id": "6cc37b94-bfc7-4c19-8eb6-b1b60a13eeb9",
   "metadata": {},
   "outputs": [
    {
     "name": "stdout",
     "output_type": "stream",
     "text": [
      "limpiando valores para  pm10_cdmx\n",
      "limpiando valores para  pm10_mex\n",
      "limpiando valores para  pm10_jal\n",
      "limpiando valores para  pm10_ver\n",
      "limpiando valores para  pm10_pue\n"
     ]
    }
   ],
   "source": [
    "# como estos valores tan extremos hay otros en nuestros datos y probablemente se deben a errores de instrumentos\n",
    "# de medición\n",
    "\n",
    "# definimos un cutoff value y para cada columna de pm10 y pm2.5 remplazemos por numpy.nan:\n",
    "limite_mas_alto_permitido = 120\n",
    "data = myc_consolidado\n",
    "data_fields_to_clean = 'pm10' # encontrará las columnas que contengan este substring en su nombre\n",
    "for field in [ c for c in list(data) if data_fields_to_clean in c]:\n",
    "    print('limpiando valores para ',field)\n",
    "    data.loc[(data[field] > limite_mas_alto_permitido),field]=np.nan\n",
    "    \n",
    "data_fields_to_clean = 'pm2.5'\n",
    "for field in [ c for c in list(data) if data_fields_to_clean in c]:\n",
    "    print('limpiando valores para ',field)\n",
    "    data.loc[(data[field] > limite_mas_alto_permitido),field]=np.nan\n"
   ]
  },
  {
   "cell_type": "code",
   "execution_count": 46,
   "id": "44d2189f-97b1-444f-ab76-cdb88c0778de",
   "metadata": {},
   "outputs": [
    {
     "data": {
      "text/plain": [
       "muertes_cdmx      0\n",
       "pm10_cdmx        18\n",
       "muertes_mex       0\n",
       "pm10_mex          3\n",
       "muertes_jal       0\n",
       "pm10_jal         96\n",
       "muertes_ver       0\n",
       "pm10_ver        164\n",
       "muertes_pue       0\n",
       "pm10_pue         33\n",
       "dtype: int64"
      ]
     },
     "execution_count": 46,
     "metadata": {},
     "output_type": "execute_result"
    }
   ],
   "source": [
    "# vemos nuevamente cu[antos registros y de qu[e columnas tienen datos incompletos (ahora hay más porque los añadimos):\n",
    "myc_consolidado.isna().sum(axis=0)"
   ]
  },
  {
   "cell_type": "code",
   "execution_count": 49,
   "id": "4c22137d-6e2b-43c1-843f-7e452897c33a",
   "metadata": {},
   "outputs": [
    {
     "data": {
      "text/plain": [
       "muertes_cdmx    0\n",
       "pm10_cdmx       1\n",
       "muertes_mex     0\n",
       "pm10_mex        1\n",
       "muertes_jal     0\n",
       "pm10_jal        1\n",
       "muertes_ver     0\n",
       "pm10_ver        1\n",
       "muertes_pue     0\n",
       "pm10_pue        1\n",
       "dtype: int64"
      ]
     },
     "execution_count": 49,
     "metadata": {},
     "output_type": "execute_result"
    }
   ],
   "source": [
    "# rellenamos los nan que introdujimos y los que ya estaban presentes\n",
    "myc_consolidado = myc_consolidado.interpolate()\n",
    "#myc_consolidado = myc_consolidado.ffill()\n",
    "# vemos nuevamente cu[antos registros y de qu[e columnas tienen datos incompletos:\n",
    "myc_consolidado.isna().sum(axis=0)"
   ]
  },
  {
   "cell_type": "code",
   "execution_count": 51,
   "id": "16179fd9-8e91-40b0-9f66-2218038af30e",
   "metadata": {},
   "outputs": [
    {
     "ename": "KeyError",
     "evalue": "\"['pm2.5_ver'] not in index\"",
     "output_type": "error",
     "traceback": [
      "\u001b[0;31m---------------------------------------------------------------------------\u001b[0m",
      "\u001b[0;31mKeyError\u001b[0m                                  Traceback (most recent call last)",
      "\u001b[0;32m/tmp/ipykernel_747833/672520665.py\u001b[0m in \u001b[0;36m<module>\u001b[0;34m\u001b[0m\n\u001b[1;32m      7\u001b[0m \u001b[0mplt\u001b[0m\u001b[0;34m.\u001b[0m\u001b[0mxlabel\u001b[0m\u001b[0;34m(\u001b[0m\u001b[0mestado\u001b[0m\u001b[0;34m)\u001b[0m\u001b[0;34m\u001b[0m\u001b[0;34m\u001b[0m\u001b[0m\n\u001b[1;32m      8\u001b[0m \u001b[0;34m\u001b[0m\u001b[0m\n\u001b[0;32m----> 9\u001b[0;31m \u001b[0msns\u001b[0m\u001b[0;34m.\u001b[0m\u001b[0mlineplot\u001b[0m\u001b[0;34m(\u001b[0m\u001b[0mdata\u001b[0m\u001b[0;34m=\u001b[0m\u001b[0mmyc_consolidado\u001b[0m\u001b[0;34m[\u001b[0m\u001b[0;34m[\u001b[0m\u001b[0;34m'pm10_'\u001b[0m\u001b[0;34m+\u001b[0m\u001b[0mestado\u001b[0m\u001b[0;34m,\u001b[0m\u001b[0;34m'pm2.5_'\u001b[0m\u001b[0;34m+\u001b[0m\u001b[0mestado\u001b[0m\u001b[0;34m,\u001b[0m\u001b[0;34m'muertes_'\u001b[0m\u001b[0;34m+\u001b[0m\u001b[0mestado\u001b[0m\u001b[0;34m]\u001b[0m\u001b[0;34m]\u001b[0m\u001b[0;34m,\u001b[0m \u001b[0mpalette\u001b[0m \u001b[0;34m=\u001b[0m \u001b[0;34m[\u001b[0m\u001b[0;34m'orange'\u001b[0m\u001b[0;34m,\u001b[0m\u001b[0;34m'cyan'\u001b[0m\u001b[0;34m,\u001b[0m\u001b[0;34m'purple'\u001b[0m\u001b[0;34m]\u001b[0m\u001b[0;34m)\u001b[0m\u001b[0;34m\u001b[0m\u001b[0;34m\u001b[0m\u001b[0m\n\u001b[0m",
      "\u001b[0;32m/mnt/LENG/dev/anaconda3/envs/training9/lib/python3.9/site-packages/pandas/core/frame.py\u001b[0m in \u001b[0;36m__getitem__\u001b[0;34m(self, key)\u001b[0m\n\u001b[1;32m   3509\u001b[0m             \u001b[0;32mif\u001b[0m \u001b[0mis_iterator\u001b[0m\u001b[0;34m(\u001b[0m\u001b[0mkey\u001b[0m\u001b[0;34m)\u001b[0m\u001b[0;34m:\u001b[0m\u001b[0;34m\u001b[0m\u001b[0;34m\u001b[0m\u001b[0m\n\u001b[1;32m   3510\u001b[0m                 \u001b[0mkey\u001b[0m \u001b[0;34m=\u001b[0m \u001b[0mlist\u001b[0m\u001b[0;34m(\u001b[0m\u001b[0mkey\u001b[0m\u001b[0;34m)\u001b[0m\u001b[0;34m\u001b[0m\u001b[0;34m\u001b[0m\u001b[0m\n\u001b[0;32m-> 3511\u001b[0;31m             \u001b[0mindexer\u001b[0m \u001b[0;34m=\u001b[0m \u001b[0mself\u001b[0m\u001b[0;34m.\u001b[0m\u001b[0mcolumns\u001b[0m\u001b[0;34m.\u001b[0m\u001b[0m_get_indexer_strict\u001b[0m\u001b[0;34m(\u001b[0m\u001b[0mkey\u001b[0m\u001b[0;34m,\u001b[0m \u001b[0;34m\"columns\"\u001b[0m\u001b[0;34m)\u001b[0m\u001b[0;34m[\u001b[0m\u001b[0;36m1\u001b[0m\u001b[0;34m]\u001b[0m\u001b[0;34m\u001b[0m\u001b[0;34m\u001b[0m\u001b[0m\n\u001b[0m\u001b[1;32m   3512\u001b[0m \u001b[0;34m\u001b[0m\u001b[0m\n\u001b[1;32m   3513\u001b[0m         \u001b[0;31m# take() does not accept boolean indexers\u001b[0m\u001b[0;34m\u001b[0m\u001b[0;34m\u001b[0m\u001b[0m\n",
      "\u001b[0;32m/mnt/LENG/dev/anaconda3/envs/training9/lib/python3.9/site-packages/pandas/core/indexes/base.py\u001b[0m in \u001b[0;36m_get_indexer_strict\u001b[0;34m(self, key, axis_name)\u001b[0m\n\u001b[1;32m   5780\u001b[0m             \u001b[0mkeyarr\u001b[0m\u001b[0;34m,\u001b[0m \u001b[0mindexer\u001b[0m\u001b[0;34m,\u001b[0m \u001b[0mnew_indexer\u001b[0m \u001b[0;34m=\u001b[0m \u001b[0mself\u001b[0m\u001b[0;34m.\u001b[0m\u001b[0m_reindex_non_unique\u001b[0m\u001b[0;34m(\u001b[0m\u001b[0mkeyarr\u001b[0m\u001b[0;34m)\u001b[0m\u001b[0;34m\u001b[0m\u001b[0;34m\u001b[0m\u001b[0m\n\u001b[1;32m   5781\u001b[0m \u001b[0;34m\u001b[0m\u001b[0m\n\u001b[0;32m-> 5782\u001b[0;31m         \u001b[0mself\u001b[0m\u001b[0;34m.\u001b[0m\u001b[0m_raise_if_missing\u001b[0m\u001b[0;34m(\u001b[0m\u001b[0mkeyarr\u001b[0m\u001b[0;34m,\u001b[0m \u001b[0mindexer\u001b[0m\u001b[0;34m,\u001b[0m \u001b[0maxis_name\u001b[0m\u001b[0;34m)\u001b[0m\u001b[0;34m\u001b[0m\u001b[0;34m\u001b[0m\u001b[0m\n\u001b[0m\u001b[1;32m   5783\u001b[0m \u001b[0;34m\u001b[0m\u001b[0m\n\u001b[1;32m   5784\u001b[0m         \u001b[0mkeyarr\u001b[0m \u001b[0;34m=\u001b[0m \u001b[0mself\u001b[0m\u001b[0;34m.\u001b[0m\u001b[0mtake\u001b[0m\u001b[0;34m(\u001b[0m\u001b[0mindexer\u001b[0m\u001b[0;34m)\u001b[0m\u001b[0;34m\u001b[0m\u001b[0;34m\u001b[0m\u001b[0m\n",
      "\u001b[0;32m/mnt/LENG/dev/anaconda3/envs/training9/lib/python3.9/site-packages/pandas/core/indexes/base.py\u001b[0m in \u001b[0;36m_raise_if_missing\u001b[0;34m(self, key, indexer, axis_name)\u001b[0m\n\u001b[1;32m   5843\u001b[0m \u001b[0;34m\u001b[0m\u001b[0m\n\u001b[1;32m   5844\u001b[0m             \u001b[0mnot_found\u001b[0m \u001b[0;34m=\u001b[0m \u001b[0mlist\u001b[0m\u001b[0;34m(\u001b[0m\u001b[0mensure_index\u001b[0m\u001b[0;34m(\u001b[0m\u001b[0mkey\u001b[0m\u001b[0;34m)\u001b[0m\u001b[0;34m[\u001b[0m\u001b[0mmissing_mask\u001b[0m\u001b[0;34m.\u001b[0m\u001b[0mnonzero\u001b[0m\u001b[0;34m(\u001b[0m\u001b[0;34m)\u001b[0m\u001b[0;34m[\u001b[0m\u001b[0;36m0\u001b[0m\u001b[0;34m]\u001b[0m\u001b[0;34m]\u001b[0m\u001b[0;34m.\u001b[0m\u001b[0munique\u001b[0m\u001b[0;34m(\u001b[0m\u001b[0;34m)\u001b[0m\u001b[0;34m)\u001b[0m\u001b[0;34m\u001b[0m\u001b[0;34m\u001b[0m\u001b[0m\n\u001b[0;32m-> 5845\u001b[0;31m             \u001b[0;32mraise\u001b[0m \u001b[0mKeyError\u001b[0m\u001b[0;34m(\u001b[0m\u001b[0;34mf\"{not_found} not in index\"\u001b[0m\u001b[0;34m)\u001b[0m\u001b[0;34m\u001b[0m\u001b[0;34m\u001b[0m\u001b[0m\n\u001b[0m\u001b[1;32m   5846\u001b[0m \u001b[0;34m\u001b[0m\u001b[0m\n\u001b[1;32m   5847\u001b[0m     \u001b[0;34m@\u001b[0m\u001b[0moverload\u001b[0m\u001b[0;34m\u001b[0m\u001b[0;34m\u001b[0m\u001b[0m\n",
      "\u001b[0;31mKeyError\u001b[0m: \"['pm2.5_ver'] not in index\""
     ]
    },
    {
     "data": {
      "image/png": "[encoded data removed]",
      "text/plain": [
       "<Figure size 1080x360 with 1 Axes>"
      ]
     },
     "metadata": {
      "needs_background": "light"
     },
     "output_type": "display_data"
    }
   ],
   "source": [
    "# promedios diarios de lecturas para un estado (de todas las estaciones):\n",
    "estado = 'ver'\n",
    "\n",
    "fig, axs = plt.subplots(nrows=1, ncols=1,figsize=(15, 5))\n",
    "fig.suptitle('Datos de contaminación y muertes para '+estado.upper()+' ('+ muertes_inicio.strftime('%Y-%m-%d')+' - '+muertes_fin.strftime('%Y-%m-%d')+')')\n",
    "plt.ylabel(\"Fecha\")\n",
    "plt.xlabel(estado)\n",
    "\n",
    "sns.lineplot(data=myc_consolidado[['pm10_'+estado,'pm2.5_'+estado,'muertes_'+estado]], palette = ['orange','cyan','purple'])\n"
   ]
  },
  {
   "cell_type": "code",
   "execution_count": null,
   "id": "b65b6e03-b4cb-46c3-aba0-2402da047254",
   "metadata": {},
   "outputs": [],
   "source": [
    "# veamos las gr[aficas de muertes en cada uno de los estados seleccionados\n",
    "fig, axs = plt.subplots(figsize=(22, 8))\n",
    "plt.ylabel(\"Fecha\")\n",
    "plt.xlabel(\"Muertes por Estado\")\n",
    "data = myc_consolidado\n",
    "field = 'pm10'\n",
    "for col in [ c for c in list(data) if field in c]:\n",
    "    sns.lineplot(data=myc_consolidado, x=myc_consolidado.index, y=col, label=col)"
   ]
  },
  {
   "cell_type": "code",
   "execution_count": null,
   "id": "61566346-0930-49e2-9621-95ce04fa6132",
   "metadata": {},
   "outputs": [],
   "source": [
    "# graficaremos las correlaciones de niveles de contaminación contra muertes\n",
    "estado = 'pue'\n",
    "plt.figure(figsize=(9,9))\n",
    "my_corr = myc_consolidado[['pm10_'+estado,'pm2.5_'+estado,'muertes_'+estado]].corr() \n",
    "mask = np.zeros_like(my_corr) \n",
    "mask[np.triu_indices_from(mask)] = True \n",
    "with sns.axes_style(\"white\"):\n",
    "     ax = sns.heatmap(my_corr, mask=mask, square=True, cmap=sns.color_palette('mako'), vmax=np.max(np.sort(my_corr.values)[:,-2]), linewidths=0.3)"
   ]
  },
  {
   "cell_type": "code",
   "execution_count": null,
   "id": "7a0e07e9-4c34-485e-bc0a-743a0774344c",
   "metadata": {},
   "outputs": [],
   "source": [
    "myc_consolidado.groupby(myc_consolidado.index.year)['muertes_cdmx'].sum()\n"
   ]
  },
  {
   "cell_type": "markdown",
   "id": "9722ece9-ccec-4c4a-a2fe-a1372ecab46e",
   "metadata": {},
   "source": [
    "## Otras formas de visualizar los datos"
   ]
  },
  {
   "cell_type": "code",
   "execution_count": null,
   "id": "3e48c3cd-5d57-47d2-bbc7-03a6dbef8d58",
   "metadata": {},
   "outputs": [],
   "source": [
    "cols_plot = ['pm10_cdmx', 'pm10_pue','pm10_ver','pm10_jal','pm10_mex']\n",
    "axes = myc_consolidado[cols_plot].plot(marker='.', alpha=0.5, linestyle='None', figsize=(11, 9), subplots=True)\n",
    "for ax in axes:\n",
    "    ax.set_ylabel('PM10')"
   ]
  },
  {
   "cell_type": "code",
   "execution_count": null,
   "id": "c4ad2a10-f7ca-47e1-950e-485fc9498970",
   "metadata": {},
   "outputs": [],
   "source": [
    "cols_plot = ['pm2.5_cdmx', 'pm2.5_pue','pm2.5_ver','pm2.5_jal','pm2.5_mex']\n",
    "axes = myc_consolidado[cols_plot].plot(marker='.', alpha=0.5, linestyle='None', figsize=(11, 9), subplots=True)\n",
    "for ax in axes:\n",
    "    ax.set_ylabel('PM2.5')"
   ]
  },
  {
   "cell_type": "code",
   "execution_count": null,
   "id": "43c977dd-7d20-43e2-b4b3-0013051202ed",
   "metadata": {},
   "outputs": [],
   "source": [
    "cols_plot = ['muertes_cdmx', 'muertes_pue','muertes_ver','muertes_jal','muertes_mex']\n",
    "axes = myc_consolidado[cols_plot].plot(marker='.', alpha=0.5, linestyle='None', figsize=(11, 9), subplots=True)\n",
    "for ax in axes:\n",
    "    ax.set_ylabel('Muertes')"
   ]
  },
  {
   "cell_type": "markdown",
   "id": "3ac8a37b-f0a3-4d54-bb3c-7d0ff92b9365",
   "metadata": {},
   "source": [
    "## Estacionalidad en datos de partículas"
   ]
  },
  {
   "cell_type": "code",
   "execution_count": null,
   "id": "acf516ad-8f49-4ff6-b2ee-b32f29918585",
   "metadata": {},
   "outputs": [],
   "source": [
    "# por mes\n",
    "myc_consolidado['mes'] = myc_consolidado.index.month\n",
    "fig, axes = plt.subplots(3, 1, figsize=(11, 10), sharex=True)\n",
    "for name, ax in zip(['pm10_cdmx', 'pm2.5_cdmx', 'muertes_cdmx'], axes):\n",
    "    sns.boxplot(data=myc_consolidado, x='mes', y=name, ax=ax)\n",
    "    #ax.set_ylabel('')\n",
    "    ax.set_title(name)\n",
    "    # Remove the automatic x-axis label from all but the bottom subplot\n",
    "    if ax != axes[-1]:\n",
    "        ax.set_xlabel('')"
   ]
  },
  {
   "cell_type": "markdown",
   "id": "a763276e-d0eb-4fe7-b2fd-0ab50a87e8b9",
   "metadata": {},
   "source": [
    "## Corelación entre series de tiempo"
   ]
  },
  {
   "cell_type": "code",
   "execution_count": null,
   "id": "ccbde009-6546-4823-afb3-f720fb6b0f44",
   "metadata": {},
   "outputs": [],
   "source": [
    "estado='ver'\n",
    "correlacion = myc_consolidado['muertes_'+estado].corr(myc_consolidado['pm10_'+estado])\n",
    "print('Correlación de muertes con PM10 para '+estado.upper()+':',correlacion)\n",
    "\n",
    "plt.figure(figsize=(13,9))\n",
    "x=myc_consolidado['muertes_'+estado]\n",
    "y=myc_consolidado['pm10_'+estado]\n",
    "sns.jointplot(data=myc_consolidado, x=x, y=y, kind=\"reg\")\n"
   ]
  },
  {
   "cell_type": "markdown",
   "id": "b75005c2-be58-4d05-bf4c-9ec0f49d8c8d",
   "metadata": {},
   "source": [
    "## Conclusiones"
   ]
  },
  {
   "cell_type": "markdown",
   "id": "8708334e-807c-4a03-83d8-29298f61f280",
   "metadata": {},
   "source": [
    "En este proyecto nos enfocamos mucho en el proceso de manipulación y limpieza de datos. Este proceso puede ser una labor extenuante, pero resulta necesaria en muchas ocasiones para poder analizar los datos de maneras más limpias y ordenadas. \n",
    "\n",
    "Con este trabajo se consolidó un set de datos final permite explorar los datos de maneras que eran imposibles en un comienzo.\n",
    "\n",
    "Takeaways:\n",
    "- Es importante definir un objetivo, ya sea para el set de datos final o para los análisis que se desean hacer\n",
    "- Se deben asignar nombres simples pero descripivos a las variables\n",
    "- Muchos procesos se pueden simplificar a través de ciclos\n",
    "- Mientras más funciones se conozcan de Numpy y Pandas, más fácilmente se puede avanzar en todo este proceso\n",
    "\n"
   ]
  },
  {
   "cell_type": "code",
   "execution_count": null,
   "id": "cb0c30c8-6285-4b78-8bdc-484327ad223b",
   "metadata": {},
   "outputs": [],
   "source": []
  }
 ],
 "metadata": {
  "kernelspec": {
   "display_name": "Python 3 (ipykernel)",
   "language": "python",
   "name": "python3"
  },
  "language_info": {
   "codemirror_mode": {
    "name": "ipython",
    "version": 3
   },
   "file_extension": ".py",
   "mimetype": "text/x-python",
   "name": "python",
   "nbconvert_exporter": "python",
   "pygments_lexer": "ipython3",
   "version": "3.9.12"
  }
 },
 "nbformat": 4,
 "nbformat_minor": 5
}
