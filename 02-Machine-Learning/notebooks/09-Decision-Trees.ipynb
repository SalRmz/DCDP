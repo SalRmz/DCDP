{
  "nbformat": 4,
  "nbformat_minor": 0,
  "metadata": {
    "colab": {
      "provenance": [],
      "toc_visible": true
    },
    "kernelspec": {
      "name": "python3",
      "display_name": "Python 3"
    },
    "language_info": {
      "name": "python"
    }
  },
  "cells": [
    {
      "cell_type": "markdown",
      "source": [
        "<a href=\"https://colab.research.google.com/github/DCDPUAEM/DCDP_2022/blob/main/02-Machine-Learning/notebooks/09-Decision-Trees.ipynb\" target=\"_parent\"><img src=\"https://colab.research.google.com/assets/colab-badge.svg\" alt=\"Open In Colab\"/></a>"
      ],
      "metadata": {
        "id": "n3cv9-x_gKat"
      }
    },
    {
      "cell_type": "markdown",
      "source": [
        "# Árboles de decisión"
      ],
      "metadata": {
        "id": "o6TaZpW8qma6"
      }
    },
    {
      "cell_type": "markdown",
      "source": [
        "En esta notebook usaremos el clasificador [Decision Tree](https://scikit-learn.org/stable/modules/generated/sklearn.tree.DecisionTreeClassifier.html) de scikit-learn. \n",
        "\n",
        "Primero, observaremos algunas caracteristicas generales del método y después, lo usaremos en un problema de clasificación con un dataset clásico del machine learning."
      ],
      "metadata": {
        "id": "DHVlH2Bud4Da"
      }
    },
    {
      "cell_type": "code",
      "source": [
        "import pandas as pd\n",
        "import matplotlib.pyplot as plt"
      ],
      "metadata": {
        "id": "FcheG_cRD9_a"
      },
      "execution_count": null,
      "outputs": []
    },
    {
      "cell_type": "markdown",
      "source": [
        "# Ejemplo 1: Un ejemplo para explorar las características del clasificador DT"
      ],
      "metadata": {
        "id": "hHm65FMfuY4K"
      }
    },
    {
      "cell_type": "markdown",
      "source": [
        "## 1. Datos linealmente separables con una línea horizontal\n",
        "\n",
        "En este primer ejemplo generamos un conjunto de datos linealmente separables con `make_blobs`. Estos datos pueden ser separados con una línea vértical, es decir con una condición de tipo\n",
        "\n",
        "* Si $x>\\alpha$ entonces $(x,y)\\in\\text{clase}_0$.\n",
        "* Si $x<\\alpha$ entonces $(x,y)\\in\\text{clase}_1$."
      ],
      "metadata": {
        "id": "_Tia5xfFLylY"
      }
    },
    {
      "cell_type": "markdown",
      "source": [
        "Primero, generamos y visualizamos los datos"
      ],
      "metadata": {
        "id": "d9r0a-hD4Uli"
      }
    },
    {
      "cell_type": "code",
      "source": [
        "from sklearn.datasets import make_blobs\n",
        "\n",
        "X, y = make_blobs(n_samples=600,centers=2,random_state=31)\n",
        "\n",
        "plt.figure()\n",
        "plt.scatter(X[:,0],X[:,1],c=y)\n",
        "plt.show()"
      ],
      "metadata": {
        "id": "lqZPXmUYN9ro"
      },
      "execution_count": null,
      "outputs": []
    },
    {
      "cell_type": "markdown",
      "source": [
        "Dividimos los datos en *train/test*. Entrenamos el árbol de decisión usando la implementación de scikit-learn `sklearn.tree.DecisionTreeClassifier`. Realizamos la predicción sobre el conjunto de prueba."
      ],
      "metadata": {
        "id": "AkBPTaa84anV"
      }
    },
    {
      "cell_type": "code",
      "source": [
        "from sklearn.model_selection import train_test_split\n",
        "from sklearn.tree import DecisionTreeClassifier\n",
        "\n",
        "X_train, X_test, y_train, y_test = train_test_split(X, y, test_size=0.3, random_state=101) # 70% training and 30% test\n",
        "\n",
        "clf = DecisionTreeClassifier()  # Inicializar el modelo\n",
        "clf = clf.fit(X_train,y_train)  # Entrenar el modelo\n",
        "y_pred = clf.predict(X_test)    # Predecir las etiquetas para el conjunto de prueba"
      ],
      "metadata": {
        "id": "N36oEEHK4YK4"
      },
      "execution_count": null,
      "outputs": []
    },
    {
      "cell_type": "markdown",
      "source": [
        "Como es de esperar, obtenemos el 100% en todas las métricas"
      ],
      "metadata": {
        "id": "AVBqAM525NRI"
      }
    },
    {
      "cell_type": "code",
      "source": [
        "from sklearn.metrics import confusion_matrix\n",
        "import seaborn as sns\n",
        "from sklearn.metrics import accuracy_score, recall_score, precision_score\n",
        "\n",
        "print(f\"Accuracy: {round(accuracy_score(y_test,y_pred),3)}\")\n",
        "print(f\"Recall: {round(recall_score(y_test,y_pred),5)}\")\n",
        "print(f\"Precision: {round(precision_score(y_test,y_pred),3)}\")\n",
        "\n",
        "plt.figure(figsize=(3,3))\n",
        "cm = confusion_matrix(y_test,y_pred)\n",
        "s_cm = sns.heatmap(cm,cmap='plasma',annot=True)\n",
        "plt.show()"
      ],
      "metadata": {
        "id": "paSzESRGOEOh"
      },
      "execution_count": null,
      "outputs": []
    },
    {
      "cell_type": "markdown",
      "source": [
        "Veamos el árbol de decisión usando el módulo `tree` de scikit-learn."
      ],
      "metadata": {
        "id": "CawGwBEF5Yhs"
      }
    },
    {
      "cell_type": "code",
      "source": [
        "from sklearn import tree\n",
        "\n",
        "text_representation = tree.export_text(decision_tree=clf)\n",
        "print(text_representation)"
      ],
      "metadata": {
        "id": "no7nskN-OhcG"
      },
      "execution_count": null,
      "outputs": []
    },
    {
      "cell_type": "markdown",
      "source": [
        "Visualizamos la *frontera de decisión* usando `dtreeviz`. Esta es una biblioteca python para la visualización de árboles de decisión y la interpretación de modelos ([documentación](https://github.com/parrt/dtreeviz))."
      ],
      "metadata": {
        "id": "h6vhe29d5uVK"
      }
    },
    {
      "cell_type": "code",
      "source": [
        "!pip install -qq dtreeviz"
      ],
      "metadata": {
        "id": "YKhWGzhP5hNG",
        "colab": {
          "base_uri": "https://localhost:8080/"
        },
        "outputId": "5f8320a8-c902-4143-c220-3657d0fef522"
      },
      "execution_count": null,
      "outputs": [
        {
          "output_type": "stream",
          "name": "stdout",
          "text": [
            "\u001b[?25l     \u001b[90m━━━━━━━━━━━━━━━━━━━━━━━━━━━━━━━━━━━━━━━━\u001b[0m \u001b[32m0.0/91.5 kB\u001b[0m \u001b[31m?\u001b[0m eta \u001b[36m-:--:--\u001b[0m\r\u001b[2K     \u001b[90m━━━━━━━━━━━━━━━━━━━━━━━━━━━━━━━━━━━━━━━━\u001b[0m \u001b[32m91.5/91.5 kB\u001b[0m \u001b[31m5.6 MB/s\u001b[0m eta \u001b[36m0:00:00\u001b[0m\n",
            "\u001b[?25h"
          ]
        }
      ]
    },
    {
      "cell_type": "code",
      "source": [
        "# from dtreeviz.trees import ctreeviz_bivar\n",
        "from dtreeviz import model\n",
        "\n",
        "# ct = ctreeviz_bivar(clf, X, y, feature_names = ['0','1'],fontname='DejaVu Sans')\n",
        "ct = model(clf, X, y, feature_names = ['0','1'])\n",
        "ct.ctree_feature_space(fontname='DejaVu Sans')\n",
        "\n",
        "plt.tight_layout()\n",
        "plt.show()"
      ],
      "metadata": {
        "id": "JkmSBhGdPPS1"
      },
      "execution_count": null,
      "outputs": []
    },
    {
      "cell_type": "markdown",
      "source": [
        "## Datos linealmente separables con una línea con pendiente $m\\neq 0$."
      ],
      "metadata": {
        "id": "ArjtpE4M3nEh"
      }
    },
    {
      "cell_type": "markdown",
      "source": [
        "Transformamos los datos para ahora sean separables con línea no horizontal. Para esto, rotamos cada punto un ángulo $\\theta=\\frac{\\pi}{4}=45°$; esto lo hacemos multiplicando por la matriz de rotación:\n",
        "\n",
        "$$R=\\left(\\begin{array}{cc}\\cos(\\frac{\\pi}{4}) & -\\sin(\\frac{\\pi}{4}) \\\\\n",
        "\\sin(\\frac{\\pi}{4}) & \\cos(\\frac{\\pi}{4})\\end{array}\\right)$$\n",
        "\n",
        "<br>\n",
        "\n",
        "$$X_r = (R\\cdot X^T)^T$$\n",
        "\n",
        "Después trasladamos la clase *amarilla* con el vector $z=(-1,-2)$.\n"
      ],
      "metadata": {
        "id": "BkozO0Ay6UD1"
      }
    },
    {
      "cell_type": "code",
      "source": [
        "import numpy as np\n",
        "\n",
        "theta = np.pi/4 # Ángulo de rotación\n",
        "R = np.array([[np.cos(theta),-np.sin(theta)],[np.sin(theta),np.cos(theta)]]) # Matriz de rotación\n",
        "\n",
        "Xr = np.transpose(R@np.transpose(X)) # Rotamos el dataset\n",
        "\n",
        "idxs = np.where(y==1)[0]   # Obtenemos los índices donde y=1\n",
        "\n",
        "Xr[idxs,:] = Xr[idxs,:] + np.array([-1,-2])\n",
        "\n",
        "fig, axs = plt.subplots(1,2,figsize=(9,5),sharey=True)\n",
        "axs[0].scatter(X[:,0],X[:,1],c=y)\n",
        "axs[0].set_title(\"Original dataset\")\n",
        "axs[1].scatter(Xr[:,0],Xr[:,1],c=y)\n",
        "axs[1].set_title(\"Transformed dataset\")\n",
        "fig.show()"
      ],
      "metadata": {
        "id": "AsmIGzTx6TmQ"
      },
      "execution_count": null,
      "outputs": []
    },
    {
      "cell_type": "code",
      "source": [
        "from sklearn.model_selection import train_test_split\n",
        "from sklearn.tree import DecisionTreeClassifier\n",
        "\n",
        "X_train, X_test, y_train, y_test = train_test_split(Xr, y, test_size=0.3, random_state=101) # 70% training and 30% test\n",
        "\n",
        "clf = DecisionTreeClassifier()  # Create Decision Tree classifier object\n",
        "clf = clf.fit(X_train,y_train)  # Train Decision Tree Classifier\n",
        "y_pred = clf.predict(X_test)    # Predict the response for test dataset"
      ],
      "metadata": {
        "id": "ehKSVwpH_r0B"
      },
      "execution_count": null,
      "outputs": []
    },
    {
      "cell_type": "markdown",
      "source": [
        "Dados que los datos siguen siendo linealmente separables, seguimos obteniendo el 100% en todas las métricas."
      ],
      "metadata": {
        "id": "TYrghH9rC-F9"
      }
    },
    {
      "cell_type": "code",
      "source": [
        "from sklearn.metrics import confusion_matrix\n",
        "import seaborn as sns\n",
        "from sklearn.metrics import accuracy_score, recall_score, precision_score\n",
        "\n",
        "print(f\"Accuracy: {round(accuracy_score(y_test,y_pred),3)}\")\n",
        "print(f\"Recall: {round(recall_score(y_test,y_pred),5)}\")\n",
        "print(f\"Precision: {round(precision_score(y_test,y_pred),3)}\")\n",
        "\n",
        "plt.figure(figsize=(3,3))\n",
        "cm = confusion_matrix(y_test,y_pred)\n",
        "s_cm = sns.heatmap(cm,cmap='plasma',annot=True, fmt='g')\n",
        "plt.show()"
      ],
      "metadata": {
        "id": "1lSQ8DO4_zwA"
      },
      "execution_count": null,
      "outputs": []
    },
    {
      "cell_type": "markdown",
      "source": [
        "Sin embargo, el árbol empieza a hacerse más complejo."
      ],
      "metadata": {
        "id": "tNNNHtZ2DHm-"
      }
    },
    {
      "cell_type": "code",
      "source": [
        "from sklearn import tree\n",
        "\n",
        "text_representation = tree.export_text(decision_tree=clf)\n",
        "print(text_representation)"
      ],
      "metadata": {
        "id": "eK2bQQc5_4yd"
      },
      "execution_count": null,
      "outputs": []
    },
    {
      "cell_type": "markdown",
      "source": [
        "La frontera de decisión no es la que esperaríamos:"
      ],
      "metadata": {
        "id": "M0smc2XnR1F3"
      }
    },
    {
      "cell_type": "code",
      "source": [
        "from dtreeviz import model\n",
        "\n",
        "ct = model(clf, Xr, y, feature_names = ['0','1'])\n",
        "ct.ctree_feature_space(fontname='DejaVu Sans')\n",
        "plt.tight_layout()\n",
        "plt.show()"
      ],
      "metadata": {
        "id": "mx8i-5bGCUUq"
      },
      "execution_count": null,
      "outputs": []
    },
    {
      "cell_type": "markdown",
      "source": [
        "Como podemos ver, este clasificador no separa con una línea en general, aún si los datos son linealmente separables. Separa con una FD compuesta de segmentos de línea verticales y horizontales."
      ],
      "metadata": {
        "id": "fMZFacpJqyQj"
      }
    },
    {
      "cell_type": "markdown",
      "source": [
        "## Efecto de perturbaciones"
      ],
      "metadata": {
        "id": "11W12kCidBep"
      }
    },
    {
      "cell_type": "markdown",
      "source": [
        "Ahora, observemos el efecto de perturbar levemente el conjunto de datos. ¿Qué le pasa al arbol de decisión?\n",
        "\n",
        "Movemos un par de puntos cerca de la FD."
      ],
      "metadata": {
        "id": "Mr0pJ-nKSfQo"
      }
    },
    {
      "cell_type": "code",
      "source": [
        "Xrp = Xr.copy()\n",
        "Xrp[192] = Xrp[192] + np.array([-1,-2])\n",
        "Xrp[486] = Xrp[486] + np.array([2,1])\n",
        "\n",
        "fig, axs = plt.subplots(1,2,figsize=(9,5),sharey=True)\n",
        "axs[0].scatter(Xr[:,0],Xr[:,1],c=y)\n",
        "axs[0].set_title(\"Original dataset\")\n",
        "axs[1].scatter(Xrp[:,0],Xrp[:,1],c=y)\n",
        "axs[1].set_title(\"Perturbed dataset\")\n",
        "fig.show()"
      ],
      "metadata": {
        "id": "8hUiUrdOdH9b"
      },
      "execution_count": null,
      "outputs": []
    },
    {
      "cell_type": "code",
      "source": [
        "from sklearn.model_selection import train_test_split\n",
        "from sklearn.tree import DecisionTreeClassifier\n",
        "\n",
        "X_train, X_test, y_train, y_test = train_test_split(Xrp, y, test_size=0.3, random_state=101) # 70% training and 30% test\n",
        "\n",
        "clf = DecisionTreeClassifier()  # Create Decision Tree classifier object\n",
        "clf = clf.fit(X_train,y_train)  # Train Decision Tree Classifier\n",
        "y_pred = clf.predict(X_test)    # Predict the response for test dataset"
      ],
      "metadata": {
        "id": "PiWGKgphQJFU"
      },
      "execution_count": null,
      "outputs": []
    },
    {
      "cell_type": "code",
      "source": [
        "from sklearn.metrics import confusion_matrix\n",
        "import seaborn as sns\n",
        "from sklearn.metrics import accuracy_score, recall_score, precision_score\n",
        "\n",
        "print(f\"Accuracy: {round(accuracy_score(y_test,y_pred),3)}\")\n",
        "print(f\"Recall: {round(recall_score(y_test,y_pred),5)}\")\n",
        "print(f\"Precision: {round(precision_score(y_test,y_pred),3)}\")\n",
        "\n",
        "plt.figure(figsize=(3,3))\n",
        "cm = confusion_matrix(y_test,y_pred)\n",
        "s_cm = sns.heatmap(cm,cmap='plasma',annot=True, fmt='g')\n",
        "plt.show()"
      ],
      "metadata": {
        "id": "dl_M9fD2QJFW"
      },
      "execution_count": null,
      "outputs": []
    },
    {
      "cell_type": "code",
      "source": [
        "from sklearn import tree\n",
        "\n",
        "text_representation = tree.export_text(decision_tree=clf)\n",
        "print(text_representation)"
      ],
      "metadata": {
        "id": "L5f2V5DEQJFX"
      },
      "execution_count": null,
      "outputs": []
    },
    {
      "cell_type": "code",
      "source": [
        "from dtreeviz import model\n",
        "\n",
        "ct = model(clf, Xrp, y, feature_names = ['0','1'])\n",
        "ct.ctree_feature_space(fontname='DejaVu Sans')\n",
        "plt.tight_layout()\n",
        "plt.show()"
      ],
      "metadata": {
        "id": "fbmVDMdXQJFY"
      },
      "execution_count": null,
      "outputs": []
    },
    {
      "cell_type": "markdown",
      "source": [
        "# Ejemplo 2"
      ],
      "metadata": {
        "id": "l744DLSs6FIg"
      }
    },
    {
      "cell_type": "markdown",
      "source": [
        "## 1. El conjunto de datos"
      ],
      "metadata": {
        "id": "VupVs1qxEAIR"
      }
    },
    {
      "cell_type": "markdown",
      "source": [
        "Este dataset fue creado por el *National Institute of Diabetes and Digestive and Kidney Diseases* de Estados Unidos. El objetivo del dataset es predecir el diagnostico de cuándo un paciente tiene diabetes o no, basado en ciertas mediciones incluidas en el dataset. Varias restricciones fueron usadas en la selección de estas instancias para filtrar el dataset. En particular, se trata pacientes femeninas de al menos 21 años de edad pertenecientes al grupo indígena Pima de Arizona.\n",
        "\n",
        "Las variables incluidas son el numero de embarazos la paciente ha tenido, su BMI, nivel de insulina, edad, entre otras.\n",
        "\n",
        "El dataset se encuentra en https://www.kaggle.com/datasets/uciml/pima-indians-diabetes-database."
      ],
      "metadata": {
        "id": "G3vFmHPULcpU"
      }
    },
    {
      "cell_type": "code",
      "source": [
        "import pandas as pd\n",
        "\n",
        "url = 'https://github.com/DCDPUAEM/DCDP/raw/main/02-Machine-Learning/data/diabetes.csv'\n",
        "df = pd.read_csv(url,index_col=0)\n",
        "df"
      ],
      "metadata": {
        "id": "WvSDcCiBD_4M"
      },
      "execution_count": null,
      "outputs": []
    },
    {
      "cell_type": "markdown",
      "source": [
        "## Entrenar el clasificador y resultados"
      ],
      "metadata": {
        "id": "8OBIK856IEcw"
      }
    },
    {
      "cell_type": "markdown",
      "source": [
        "Escogemos las *features* que usaremos y definimos el dataset de features y el vector de etiquetas"
      ],
      "metadata": {
        "id": "6qMqoQT3IPXY"
      }
    },
    {
      "cell_type": "code",
      "source": [
        "feature_cols = ['pregnant', 'insulin', 'bmi', 'age','glucose','bp','pedigree']\n",
        "\n",
        "X = df[feature_cols].values    # Features\n",
        "y = df['label'].values         # Target variable"
      ],
      "metadata": {
        "id": "qOUwwCd5S3DO"
      },
      "execution_count": null,
      "outputs": []
    },
    {
      "cell_type": "markdown",
      "source": [
        "Dividimos los datos en train/test. Entrenamos el árbol de decisión usando la implementación de scikit-learn sklearn.tree.DecisionTreeClassifier. Realizamos la predicción sobre el conjunto de prueba."
      ],
      "metadata": {
        "id": "zOLVREgOIhWN"
      }
    },
    {
      "cell_type": "code",
      "source": [
        "from sklearn.model_selection import train_test_split\n",
        "from sklearn.tree import DecisionTreeClassifier\n",
        "\n",
        "X_train, X_test, y_train, y_test = train_test_split(X, y, test_size=0.3, random_state=1) # 70% training and 30% test\n",
        "\n",
        "clf = DecisionTreeClassifier()  \n",
        "clf = clf.fit(X_train,y_train) \n",
        "y_pred = clf.predict(X_test)   "
      ],
      "metadata": {
        "id": "PpZUvwi7Ig1u"
      },
      "execution_count": null,
      "outputs": []
    },
    {
      "cell_type": "code",
      "source": [
        "from sklearn.metrics import confusion_matrix\n",
        "import seaborn as sns\n",
        "from sklearn.metrics import accuracy_score, recall_score, precision_score\n",
        "\n",
        "print(f\"Accuracy: {round(accuracy_score(y_test,y_pred),3)}\")\n",
        "print(f\"Recall: {round(recall_score(y_test,y_pred),5)}\")\n",
        "print(f\"Precision: {round(precision_score(y_test,y_pred),3)}\")\n",
        "\n",
        "target_labels = ['no diabetes','diabetes']\n",
        "\n",
        "plt.figure(figsize=(3,3))\n",
        "cm = confusion_matrix(y_test,y_pred)\n",
        "s_cm = sns.heatmap(cm,cmap='plasma',annot=True, fmt='g',\n",
        "            xticklabels=target_labels,\n",
        "            yticklabels=target_labels)\n",
        "s_cm.set(xlabel='Predicted',ylabel='Real')\n",
        "plt.show()"
      ],
      "metadata": {
        "id": "rsso9OE3BVk_"
      },
      "execution_count": null,
      "outputs": []
    },
    {
      "cell_type": "markdown",
      "source": [
        "Podemos obtener la importancia de las features"
      ],
      "metadata": {
        "id": "004cEhuKaxFb"
      }
    },
    {
      "cell_type": "code",
      "source": [
        "clf.feature_importances_"
      ],
      "metadata": {
        "id": "vTVRCjRpaw1z"
      },
      "execution_count": null,
      "outputs": []
    },
    {
      "cell_type": "code",
      "source": [
        "importances_df = pd.DataFrame({'feature':feature_cols,'importancia':np.round(clf.feature_importances_,3)})\n",
        "importances_df.sort_values(by='importancia',ascending=False,inplace=True)\n",
        "importances_df.set_index('feature')"
      ],
      "metadata": {
        "id": "O4RvkQpOamub"
      },
      "execution_count": null,
      "outputs": []
    },
    {
      "cell_type": "markdown",
      "source": [
        "## Visualizar el árbol"
      ],
      "metadata": {
        "id": "8vsLz1q6tUML"
      }
    },
    {
      "cell_type": "markdown",
      "source": [
        "### Text representation with sklearn"
      ],
      "metadata": {
        "id": "2pt7UkHNwTNm"
      }
    },
    {
      "cell_type": "code",
      "source": [
        "from sklearn import tree\n",
        "\n",
        "text_representation = tree.export_text(decision_tree=clf,\n",
        "                                       feature_names=feature_cols)\n",
        "print(text_representation)"
      ],
      "metadata": {
        "id": "qbTJWO-LtWSO"
      },
      "execution_count": null,
      "outputs": []
    },
    {
      "cell_type": "code",
      "source": [
        "with open(\"decistion_tree_textrep.log\", \"w\") as txt_file:\n",
        "    txt_file.write(text_representation)"
      ],
      "metadata": {
        "id": "r3dPmoV0v3Dg"
      },
      "execution_count": null,
      "outputs": []
    },
    {
      "cell_type": "markdown",
      "source": [
        "### Plot tree with sklearn"
      ],
      "metadata": {
        "id": "UHmvPeG2wLFA"
      }
    },
    {
      "cell_type": "code",
      "source": [
        "fig = plt.figure(figsize=(25,20))\n",
        "_ = tree.plot_tree(clf, \n",
        "                   feature_names=feature_cols,  \n",
        "                   class_names=['0','1'],\n",
        "                   filled=True)\n"
      ],
      "metadata": {
        "id": "O9VFrN-8wLTT"
      },
      "execution_count": null,
      "outputs": []
    },
    {
      "cell_type": "markdown",
      "source": [
        "### Using [graphviz](https://graphviz.org/)"
      ],
      "metadata": {
        "id": "nbHmh8pCWmzi"
      }
    },
    {
      "cell_type": "code",
      "source": [
        "from sklearn.tree import export_graphviz\n",
        "from six import StringIO  \n",
        "from IPython.display import Image  \n",
        "import pydotplus\n",
        "\n",
        "dot_data = StringIO()\n",
        "export_graphviz(clf, out_file=dot_data,  \n",
        "                filled=True, rounded=True,\n",
        "                special_characters=True,feature_names = feature_cols,class_names=['0','1'])\n",
        "graph = pydotplus.graph_from_dot_data(dot_data.getvalue())  \n",
        "graph.write_png('diabetes.png')\n",
        "Image(graph.create_png())"
      ],
      "metadata": {
        "id": "4d_KAeh3SOpv"
      },
      "execution_count": null,
      "outputs": []
    },
    {
      "cell_type": "markdown",
      "source": [
        "### Plot tree with [dtreeviz](https://github.com/parrt/dtreeviz)"
      ],
      "metadata": {
        "id": "c3PQex_sRsnz"
      }
    },
    {
      "cell_type": "code",
      "source": [
        "from dtreeviz import model\n",
        "\n",
        "ct = model(clf, X, y, feature_names = feature_cols)\n",
        "ct.view(fontname='DejaVu Sans')"
      ],
      "metadata": {
        "id": "dvKybSONxSut"
      },
      "execution_count": null,
      "outputs": []
    },
    {
      "cell_type": "markdown",
      "source": [
        "Podemos ver el proceso de visualización con una instancia concreta."
      ],
      "metadata": {
        "id": "JzWOgns4gs6i"
      }
    },
    {
      "cell_type": "code",
      "source": [
        "x = X[0]\n",
        "\n",
        "ct.view(fontname='DejaVu Sans',\n",
        "        x=x,\n",
        "        orientation=\"LR\")"
      ],
      "metadata": {
        "id": "MqtvM63XYDbG"
      },
      "execution_count": null,
      "outputs": []
    },
    {
      "cell_type": "markdown",
      "source": [
        "⭕ **Práctica**:\n",
        "\n",
        "¿Puedes subir las métricas de desempeño de este clasificador en este dataset? Considera las siguientes modificaciones:\n",
        "\n",
        "* Observar la variable 'bmi', tiene valores 0, ¿qué sentido tienen estos?\n",
        "    * Puedes quitar esas instancias.\n",
        "    * Puedes quitar la variable.\n",
        "* Cambiar el conjunto de features, ya sea manualmente o con algún método como [VarianceThreshold](https://scikit-learn.org/stable/modules/generated/sklearn.feature_selection.VarianceThreshold.html#sklearn.feature_selection.VarianceThreshold), [SelectKBest](https://scikit-learn.org/stable/modules/generated/sklearn.feature_selection.SelectKBest.html), etc.\n",
        "* Normalizar o estadarizar los datos.\n",
        "* Realizar un gridsearch en los parámetros del clasificador."
      ],
      "metadata": {
        "id": "XH4LAHlzH97g"
      }
    },
    {
      "cell_type": "code",
      "source": [],
      "metadata": {
        "id": "okyzVpWng00B"
      },
      "execution_count": null,
      "outputs": []
    }
  ]
}