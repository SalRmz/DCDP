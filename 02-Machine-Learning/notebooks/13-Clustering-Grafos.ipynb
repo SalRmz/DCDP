{
  "nbformat": 4,
  "nbformat_minor": 0,
  "metadata": {
    "colab": {
      "provenance": [],
      "toc_visible": true
    },
    "kernelspec": {
      "name": "python3",
      "display_name": "Python 3"
    },
    "language_info": {
      "name": "python"
    }
  },
  "cells": [
    {
      "cell_type": "markdown",
      "source": [
        "<a href=\"https://colab.research.google.com/github/DCDPUAEM/DCDP_2022/blob/main/02-Machine-Learning/notebooks/13-Clustering-Grafos.ipynb\" target=\"_parent\"><img src=\"https://colab.research.google.com/assets/colab-badge.svg\" alt=\"Open In Colab\"/></a>"
      ],
      "metadata": {
        "id": "3FEq_dRT_H2n"
      }
    },
    {
      "cell_type": "markdown",
      "source": [
        "# Clusterizando nodos de un grafo\n",
        "\n",
        "En esta notebook se muestra un ejemplo de clusterización de nodos de grafos usando una matriz de features para los nodos."
      ],
      "metadata": {
        "id": "AwibwlobXTL_"
      }
    },
    {
      "cell_type": "code",
      "execution_count": 1,
      "metadata": {
        "id": "DaxMciubCf8e"
      },
      "outputs": [],
      "source": [
        "import networkx as nx\n",
        "import numpy as np\n",
        "import matplotlib.pyplot as plt"
      ]
    },
    {
      "cell_type": "markdown",
      "source": [
        "## 1. El conjunto de datos "
      ],
      "metadata": {
        "id": "p59Fdj8yXWvh"
      }
    },
    {
      "cell_type": "markdown",
      "source": [
        "Este dataset del módulo networkx es contiene información de los miembros de un club de karate universitario. El grafo representa la presencia o ausencia de lazos entre los miembros del club. Los pesos de las aristas indican la fuerza del lazo entre miembros (el número de situaciones dentro y fuera del club en las cuales las interacciones occurren).\n",
        "\n",
        "Estos datos primero se usaron para explicar la ruptura de este grupo como consecuencia de las disuputas entre miembros. \n",
        "\n",
        "[Link](http://vlado.fmf.uni-lj.si/pub/networks/data/Ucinet/UciData.htm#zachary) del dataset."
      ],
      "metadata": {
        "id": "_Yoylrv4P3OF"
      }
    },
    {
      "cell_type": "code",
      "source": [
        "kn = nx.karate_club_graph()\n",
        "\n",
        "num_nodes = kn.number_of_nodes()\n",
        "print(f\"Number of nodes: {str(num_nodes)}\")\n",
        "num_edges = kn.number_of_edges()\n",
        "print(f\"Number of edges: {str(num_edges)}\")"
      ],
      "metadata": {
        "id": "_uVxbbBACmrt"
      },
      "execution_count": null,
      "outputs": []
    },
    {
      "cell_type": "markdown",
      "source": [
        "Graficamos el grafo:"
      ],
      "metadata": {
        "id": "Z_s_H_qlRsvT"
      }
    },
    {
      "cell_type": "code",
      "source": [
        "plt.figure(figsize=(12,10))\n",
        "nx.draw_networkx(kn, edge_color='silver', with_labels=True, font_color='white')\n",
        "plt.axis('off')\n",
        "plt.show()"
      ],
      "metadata": {
        "id": "kwim8IaNDhDl"
      },
      "execution_count": null,
      "outputs": []
    },
    {
      "cell_type": "markdown",
      "source": [
        "Calculamos la centralidad de los nodos en un diccionario:"
      ],
      "metadata": {
        "id": "AVV-vFyhR9eR"
      }
    },
    {
      "cell_type": "code",
      "source": [
        "deg_centrality_dict = nx.degree_centrality(kn).copy()"
      ],
      "metadata": {
        "id": "Ch65k1pYDz-i"
      },
      "execution_count": 4,
      "outputs": []
    },
    {
      "cell_type": "markdown",
      "source": [
        "Ordenamos el diccionario por los valores de centralidad"
      ],
      "metadata": {
        "id": "29w_oRuTSIIa"
      }
    },
    {
      "cell_type": "code",
      "source": [
        "deg_centrality_dict_sorted = dict(sorted(deg_centrality_dict.items(), \n",
        "                                         key=lambda x:x[1],reverse=True))\n",
        "print(deg_centrality_dict_sorted)"
      ],
      "metadata": {
        "colab": {
          "base_uri": "https://localhost:8080/"
        },
        "id": "sLobYWpUEJY5",
        "outputId": "e37851e8-728e-40e4-d772-c1eb3bee212b"
      },
      "execution_count": 5,
      "outputs": [
        {
          "output_type": "stream",
          "name": "stdout",
          "text": [
            "{33: 0.5151515151515151, 0: 0.48484848484848486, 32: 0.36363636363636365, 2: 0.30303030303030304, 1: 0.2727272727272727, 3: 0.18181818181818182, 31: 0.18181818181818182, 8: 0.15151515151515152, 13: 0.15151515151515152, 23: 0.15151515151515152, 5: 0.12121212121212122, 6: 0.12121212121212122, 7: 0.12121212121212122, 27: 0.12121212121212122, 29: 0.12121212121212122, 30: 0.12121212121212122, 4: 0.09090909090909091, 10: 0.09090909090909091, 19: 0.09090909090909091, 24: 0.09090909090909091, 25: 0.09090909090909091, 28: 0.09090909090909091, 9: 0.06060606060606061, 12: 0.06060606060606061, 14: 0.06060606060606061, 15: 0.06060606060606061, 16: 0.06060606060606061, 17: 0.06060606060606061, 18: 0.06060606060606061, 20: 0.06060606060606061, 21: 0.06060606060606061, 22: 0.06060606060606061, 26: 0.06060606060606061, 11: 0.030303030303030304}\n"
          ]
        }
      ]
    },
    {
      "cell_type": "markdown",
      "source": [
        "Dibujamos los 5 nodos con centralidad más alta"
      ],
      "metadata": {
        "id": "5gbNDvGYSRoC"
      }
    },
    {
      "cell_type": "code",
      "source": [
        "top_num = 5\n",
        "top_nodes = list(deg_centrality_dict_sorted.keys())[:top_num]\n",
        "print(f\"Los {top_num} nodos con centralidad más alta: {top_nodes}\")\n",
        "\n",
        "colores = ['red' if x in top_nodes else 'blue' for x in kn.nodes() ]\n",
        "\n",
        "fig = plt.figure(figsize=(12,10))\n",
        "nx.draw_spring(kn,node_color=colores,with_labels=True)\n",
        "fig.show()"
      ],
      "metadata": {
        "id": "gLsa-hdbEP91"
      },
      "execution_count": null,
      "outputs": []
    },
    {
      "cell_type": "markdown",
      "source": [
        "## 2. Extrayendo features"
      ],
      "metadata": {
        "id": "H-BAT7ZVXasU"
      }
    },
    {
      "cell_type": "markdown",
      "source": [
        "La matriz de adyacencia de un grafo finito es una matriz cuadrada utilizada para representar el grafo. Los elementos $(i,j)$ de la matriz indican si los pares de nodos $i$ y $j$ son adyacentes o no en el grafo (con valores 0 y 1). En caso de ser un grafo pesado, el valor de la entrada $(i,j)$ es el peso de la arista.  \n",
        "\n",
        "El grado de cada nodo, en el caso de un grafo no pesado, es la cantidad de aristas que salen (o entran) del nodo. En el caso de un grafo pesado, es la suma de los pesos de las aristas que salen (o entran).\n",
        "\n",
        "La matriz laplaciana es otra matriz que representa el grafo. Se define como\n",
        "\n",
        "$$L = D - A,$$\n",
        "\n",
        "donde $D$ es la matriz que contiene el grado de cada nodo en la diagonal y $A$, la matriz de adyacencia.\n",
        "\n",
        "Tanto la [matriz de adyancencia](https://networkx.org/documentation/stable/reference/generated/networkx.linalg.graphmatrix.adjacency_matrix.html), como la [matriz Laplaciana](https://networkx.org/documentation/stable/reference/generated/networkx.linalg.laplacianmatrix.laplacian_matrix.html), se obtienen con métodos de networkx."
      ],
      "metadata": {
        "id": "Rw03E2D8StJC"
      }
    },
    {
      "cell_type": "code",
      "source": [
        "A = nx.adjacency_matrix(kn)\n",
        "print(\"Matriz de adyacencia:\")\n",
        "print(A.todense())\n",
        "print('-'*50)\n",
        "print(\"Grado (con peso) de cada nodo:\")\n",
        "print(kn.degree(weight='weight'))\n",
        "L = nx.laplacian_matrix(kn).astype(float)\n",
        "print('-'*50)\n",
        "print(\"Matriz Laplaciana:\")\n",
        "print(L.todense())\n"
      ],
      "metadata": {
        "id": "NODljut2GzMo"
      },
      "execution_count": null,
      "outputs": []
    },
    {
      "cell_type": "markdown",
      "source": [
        "Obtenemos los $k$ primeros eigenvalores y eigenvectores."
      ],
      "metadata": {
        "id": "VXWqy6kETQNl"
      }
    },
    {
      "cell_type": "code",
      "source": [
        "import scipy as sp\n",
        "\n",
        "eigenvalues, eigenvectors = sp.sparse.linalg.eigsh(L, k = 3, which='SM')\n",
        "print(eigenvalues.shape,eigenvectors.shape)"
      ],
      "metadata": {
        "id": "zUNaimOJL4yH"
      },
      "execution_count": null,
      "outputs": []
    },
    {
      "cell_type": "markdown",
      "source": [
        "Obtenemos una representación espectral de cada nodo con 3 componentes. Esta es la matriz de features que usaremos, en esta, cada nodo está representado por 3 features."
      ],
      "metadata": {
        "id": "C9WR5-ySY3aw"
      }
    },
    {
      "cell_type": "code",
      "source": [
        "X = eigenvectors*eigenvalues\n",
        "print(X.shape)\n",
        "print(X)"
      ],
      "metadata": {
        "id": "cyFmhFbjMpvq"
      },
      "execution_count": null,
      "outputs": []
    },
    {
      "cell_type": "markdown",
      "source": [
        "## 3. Clustering"
      ],
      "metadata": {
        "id": "h9UeT3L2Xfk_"
      }
    },
    {
      "cell_type": "markdown",
      "source": [
        "Usaremos la matriz $X$ de features para hacer clustering sobre los nodos"
      ],
      "metadata": {
        "id": "3okwuSHpx1EV"
      }
    },
    {
      "cell_type": "code",
      "source": [
        "# def get_cmap(n, name='plasma'):\n",
        "#     '''Returns a function that maps each index in 0, 1, ..., n-1 to a distinct \n",
        "#     RGB color; the keyword argument name must be a standard mpl colormap name.'''\n",
        "#     return plt.cm.get_cmap(name, n)\n",
        "\n",
        "# print([get_cmap(k) for k in range(3)])"
      ],
      "metadata": {
        "id": "M-Ugwpl0O7oL"
      },
      "execution_count": 10,
      "outputs": []
    },
    {
      "cell_type": "markdown",
      "source": [
        "Esta es una función auxiliar para obtener una lista de $n$ colores muy diferentes, los cuales usaremos al graficar los clusters"
      ],
      "metadata": {
        "id": "XZ82IiBYZIh4"
      }
    },
    {
      "cell_type": "code",
      "source": [
        "import random\n",
        "import numpy as np\n",
        "\n",
        "def get_k_colors(k=3):\n",
        "    return [(np.cos(np.pi*j/(k*2)),random.uniform(0, 1),j/k) for j in range(k)]"
      ],
      "metadata": {
        "id": "jCNX6uhmPoda"
      },
      "execution_count": 11,
      "outputs": []
    },
    {
      "cell_type": "code",
      "source": [
        "from sklearn.cluster import KMeans\n",
        "\n",
        "k = 3\n",
        "clusters_colors = get_k_colors(k)\n",
        "\n",
        "model = KMeans(init='k-means++', n_clusters=k, n_init=10)\n",
        "model.fit_predict(X)\n",
        "clusters = model.labels_\n",
        "\n",
        "fig = plt.subplots(1, figsize=(12,10))\n",
        "node_colors = [clusters_colors[clusters[v]] for v in kn.nodes()]\n",
        "nx.draw(kn, node_color=node_colors, with_labels='True')"
      ],
      "metadata": {
        "id": "BBdGVphuLZaD"
      },
      "execution_count": null,
      "outputs": []
    },
    {
      "cell_type": "markdown",
      "source": [
        "Podemos usar el elbow value (ya que estamos con K-means) o el valor de silueta para elegir un buen valor para el número de clusters"
      ],
      "metadata": {
        "id": "87Tou3H1yDWu"
      }
    },
    {
      "cell_type": "code",
      "source": [
        "from sklearn.metrics import silhouette_score\n",
        "\n",
        "sils = []\n",
        "intertias = []\n",
        "\n",
        "ks = list(range(2,21))\n",
        "\n",
        "for k in ks:\n",
        "    model = KMeans(init='k-means++', n_clusters=k, n_init=10,random_state=26)\n",
        "    model.fit_predict(X)\n",
        "    clusters = model.labels_\n",
        "    intertias.append(model.inertia_)\n",
        "    sils.append(silhouette_score(X,clusters))\n",
        "\n",
        "\n",
        "fig, axs = plt.subplots(1,2,figsize=(10,6))\n",
        "axs[0].title.set_text('Inercias')\n",
        "axs[0].plot(ks,intertias)\n",
        "axs[0].scatter(ks,intertias)\n",
        "axs[0].set_xticks(ks)\n",
        "axs[1].title.set_text('Valor de siluetas')\n",
        "axs[1].plot(ks,sils)\n",
        "axs[1].scatter(ks,sils)\n",
        "axs[1].set_xticks(ks)\n",
        "fig.show()"
      ],
      "metadata": {
        "id": "2NglbxoFyDGy"
      },
      "execution_count": null,
      "outputs": []
    },
    {
      "cell_type": "code",
      "source": [
        "from sklearn.cluster import KMeans\n",
        "\n",
        "k = 5\n",
        "clusters_colors = get_k_colors(k)\n",
        "\n",
        "model = KMeans(init='k-means++', n_clusters=k, n_init=10)\n",
        "model.fit_predict(X)\n",
        "clusters = model.labels_\n",
        "\n",
        "fig = plt.subplots(1, figsize=(12,10))\n",
        "node_colors = [clusters_colors[clusters[v]] for v in kn.nodes()]\n",
        "nx.draw(kn, node_color=node_colors, with_labels='True')"
      ],
      "metadata": {
        "id": "hC6nG3i10NAy"
      },
      "execution_count": null,
      "outputs": []
    },
    {
      "cell_type": "markdown",
      "source": [
        "Ahora usemos `AgglomerativeClustering`"
      ],
      "metadata": {
        "id": "DKA1SYsT0W51"
      }
    },
    {
      "cell_type": "code",
      "source": [
        "from sklearn.cluster import AgglomerativeClustering\n",
        "\n",
        "k = 5\n",
        "clusters_colors = get_k_colors(k)\n",
        "\n",
        "model = AgglomerativeClustering(n_clusters=k) #, affinity='precomputed', linkage='complete')\n",
        "model.fit(X)\n",
        "clusters = model.labels_\n",
        "\n",
        "fig = plt.subplots(1, figsize=(12,10))\n",
        "node_colors = [clusters_colors[clusters[v]] for v in kn.nodes()]\n",
        "nx.draw(kn, node_color=node_colors, with_labels='True')"
      ],
      "metadata": {
        "id": "p81f27YaMmKV"
      },
      "execution_count": null,
      "outputs": []
    },
    {
      "cell_type": "markdown",
      "source": [
        "Usemos SpectralClustering y DBSCAN"
      ],
      "metadata": {
        "id": "PyeQllMy4EVE"
      }
    },
    {
      "cell_type": "code",
      "source": [
        "from sklearn.cluster import SpectralClustering\n",
        "\n",
        "k = 5\n",
        "clusters_colors = get_k_colors(k)\n",
        "\n",
        "model = SpectralClustering(n_clusters=k)\n",
        "model.fit(X)\n",
        "clusters = model.labels_\n",
        "\n",
        "print(f\"{len(np.unique(clusters))} clusters encontrados\")\n",
        "\n",
        "plt.figure(figsize=(12,10))\n",
        "node_colors = [clusters_colors[clusters[v]] for v in kn.nodes()]\n",
        "nx.draw(kn, node_color=node_colors, with_labels='True')"
      ],
      "metadata": {
        "id": "u5v2BgZCRU_W"
      },
      "execution_count": null,
      "outputs": []
    },
    {
      "cell_type": "code",
      "source": [
        "from sklearn.cluster import DBSCAN\n",
        "\n",
        "model = DBSCAN(eps=0.1)\n",
        "model.fit(X)\n",
        "clusters = model.labels_\n",
        "\n",
        "num_clusters = len(np.unique(clusters))\n",
        "print(f\"{num_clusters} clusters encontrados\")\n",
        "clusters_colors = get_k_colors(num_clusters)\n",
        "\n",
        "plt.figure(figsize=(10,10))\n",
        "node_colors = [clusters_colors[clusters[v]] for v in kn.nodes()]\n",
        "nx.draw(kn, node_color=node_colors, with_labels='True')"
      ],
      "metadata": {
        "id": "c000UJBM3d7E"
      },
      "execution_count": null,
      "outputs": []
    },
    {
      "cell_type": "markdown",
      "source": [
        "### Usando métricas predefinidas"
      ],
      "metadata": {
        "id": "DATXRvQjxP4o"
      }
    },
    {
      "cell_type": "markdown",
      "source": [
        "La matriz de adyacencia no contiene la información necesaria para distinguir clusters."
      ],
      "metadata": {
        "id": "0F30evxkZWUw"
      }
    },
    {
      "cell_type": "code",
      "source": [
        "print(f\"Matriz de adyancencia:\\n{A.todense()}\")"
      ],
      "metadata": {
        "id": "9zdsST4q1XoT"
      },
      "execution_count": null,
      "outputs": []
    },
    {
      "cell_type": "code",
      "source": [
        "from sklearn.cluster import AgglomerativeClustering\n",
        "\n",
        "k = 3\n",
        "clusters_colors = get_k_colors(k)\n",
        "\n",
        "model = AgglomerativeClustering(n_clusters=k, affinity='precomputed', linkage='complete')\n",
        "model.fit(A.toarray())\n",
        "clusters = model.labels_\n",
        "\n",
        "print(f\"{len(np.unique(clusters))} clusters encontrados\")\n",
        "\n",
        "plt.figure(figsize=(12,10))\n",
        "node_colors = [clusters_colors[clusters[v]] for v in kn.nodes()]\n",
        "nx.draw(kn, node_color=node_colors, with_labels='True')"
      ],
      "metadata": {
        "id": "0VotusqoRH9C"
      },
      "execution_count": null,
      "outputs": []
    },
    {
      "cell_type": "markdown",
      "source": [
        "⭕ ¿Por qué no produce buenos resultados?"
      ],
      "metadata": {
        "id": "Pu24h41G1kF9"
      }
    },
    {
      "cell_type": "markdown",
      "source": [
        "Por otro lado, la matriz de distancias entre nodos, puede dar cuenta de algunos clusters. La usaremos como matriz de distancias para usar la opción `precomputed`."
      ],
      "metadata": {
        "id": "Xt0hT_J1RnWX"
      }
    },
    {
      "cell_type": "code",
      "source": [
        "longs = dict(nx.all_pairs_shortest_path_length(kn))\n",
        "n_nodes = kn.number_of_nodes()\n",
        "\n",
        "distancias = np.zeros(shape=(n_nodes,n_nodes))\n",
        "\n",
        "for i in range(n_nodes):\n",
        "    for j in range(n_nodes):\n",
        "        distancias[i,j] = longs[i][j]\n",
        "print(f\"Matriz de distancias:\\n\\n{distancias}\")"
      ],
      "metadata": {
        "id": "gsHX9-TwvFnT"
      },
      "execution_count": null,
      "outputs": []
    },
    {
      "cell_type": "code",
      "source": [
        "from sklearn.cluster import AgglomerativeClustering\n",
        "\n",
        "k = 5\n",
        "clusters_colors = get_k_colors(k)\n",
        "\n",
        "model = AgglomerativeClustering(n_clusters=k, affinity='precomputed', linkage='complete')\n",
        "model.fit(distancias)\n",
        "clusters = model.labels_\n",
        "\n",
        "print(f\"{len(np.unique(clusters))} clusters encontrados\")\n",
        "\n",
        "plt.figure(figsize=(12,10))\n",
        "node_colors = [clusters_colors[clusters[v]] for v in kn.nodes()]\n",
        "nx.draw(kn, node_color=node_colors, with_labels='True')"
      ],
      "metadata": {
        "id": "aagaKAoO0_-9"
      },
      "execution_count": null,
      "outputs": []
    },
    {
      "cell_type": "code",
      "source": [],
      "metadata": {
        "id": "GKMxDkwY1q8o"
      },
      "execution_count": 20,
      "outputs": []
    }
  ]
}