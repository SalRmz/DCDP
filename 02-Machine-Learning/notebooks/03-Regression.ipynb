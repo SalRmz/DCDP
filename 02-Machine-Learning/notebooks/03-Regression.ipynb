{
  "nbformat": 4,
  "nbformat_minor": 0,
  "metadata": {
    "colab": {
      "provenance": [],
      "toc_visible": true
    },
    "kernelspec": {
      "name": "python3",
      "display_name": "Python 3"
    },
    "language_info": {
      "name": "python"
    }
  },
  "cells": [
    {
      "cell_type": "markdown",
      "source": [
        "<a href=\"https://colab.research.google.com/github/DCDPUAEM/DCDP/blob/main/02-Machine-Learning/notebooks/03-Regression.ipynb\" target=\"_parent\"><img src=\"https://colab.research.google.com/assets/colab-badge.svg\" alt=\"Open In Colab\"/></a>"
      ],
      "metadata": {
        "id": "8QMq231MZiUS"
      }
    },
    {
      "cell_type": "markdown",
      "source": [
        "# Regresión Lineal\n",
        "\n",
        "En esta notebook exploraremos la regresión lineal (RL) aplicándo este algoritmo a varios conjuntos de datos. Además, usaremos la regresión lineal multiple y polinomial."
      ],
      "metadata": {
        "id": "epextEa5LtcX"
      }
    },
    {
      "cell_type": "markdown",
      "source": [
        "La **RL** es el modelo más simple para entender los problemas de regresión:\n",
        "\n",
        "$$y=f(\\mathbf{x},\\mathbf{\\theta})\\\\\n",
        "\\mathbf{x}\\in\\mathbb{R}^N,\\ \\mathbf{\\theta}\\in\\mathbb{R}^P ,\\ y\\in\\mathbb{R}$$\n",
        "\n",
        "Este tipo de modelos son muy populares debido a que:\n",
        "\n",
        "  - Son *baratos* y *rápidos* de estimar, i.e. es fácil de calcular $\\mathbf{\\hat{\\theta}^*}$.\n",
        "  - Son **INTERPRETABLES**.\n",
        "\n",
        "El caso base de una RL consiste en ajustar una linea a un conjunto de puntos (1 variable independiente, 1 variable dependiente). Este modelo se puede extender a comportamientos más complicados (más dimensiones o relaciones no lineales)."
      ],
      "metadata": {
        "id": "aore9-PIrdQ0"
      }
    },
    {
      "cell_type": "markdown",
      "source": [
        "## Ejemplo 1: Regresión Lineal Simple\n",
        "\n",
        "Una Regresión Lineal Simple, es una linea en 2D que es **ajustada** a datos y tiene la siguiente forma:\n",
        "\n",
        "\\begin{equation}\n",
        "y=\\beta_0+\\beta_1x_1,\n",
        "\\end{equation}\n",
        "\n",
        "tal que $y$ y $\\mathbf{x}$ son las variable dependiente e independiente, respectivamente. \n",
        "\n",
        "$\\beta_0$ es la *ordenada al origen* (*intercepto*) y $\\beta_1$ es la *pendiente* de la linea. "
      ],
      "metadata": {
        "id": "whebPAzoDyi0"
      }
    },
    {
      "cell_type": "markdown",
      "source": [
        "Generaremos datos sintéticos que provienen de una linea con $\\beta_0=2$ y $\\beta_1=5$. Este ejemplo será útil para desarrollar la intuición detrás del método. "
      ],
      "metadata": {
        "id": "8rQPxKXhiigK"
      }
    },
    {
      "cell_type": "code",
      "execution_count": null,
      "metadata": {
        "id": "HTVPS6oOLF3_"
      },
      "outputs": [],
      "source": [
        "import numpy as np\n",
        "\n",
        "rng = np.random.RandomState(4595)\n",
        "size = 100\n",
        "\n",
        "b0 = 2\n",
        "b1 = 5\n",
        "\n",
        "x = 3 * rng.rand(size)\n",
        "y = (b0 + (b1 * x)) + rng.randn(size) # Distribución Normal"
      ]
    },
    {
      "cell_type": "code",
      "source": [
        "import matplotlib.pyplot as plt\n",
        "\n",
        "plt.figure(figsize=(7,4))\n",
        "plt.subplot(1,2,1)\n",
        "plt.scatter(x,b0 + (b1 * x))\n",
        "plt.subplot(1,2,2)\n",
        "plt.scatter(x,y)\n",
        "plt.show()"
      ],
      "metadata": {
        "colab": {
          "base_uri": "https://localhost:8080/",
          "height": 368
        },
        "id": "Opt-hqTEio6_",
        "outputId": "fa7c419a-5ac3-4439-f304-33e2d54c998e"
      },
      "execution_count": null,
      "outputs": [
        {
          "output_type": "display_data",
          "data": {
            "text/plain": [
              "<Figure size 700x400 with 2 Axes>"
            ],
            "image/png": "[encoded data removed]"
          },
          "metadata": {}
        }
      ]
    },
    {
      "cell_type": "markdown",
      "source": [
        "<iframe scrolling=\"no\" title=\"Regresión Lineal\" src=\"https://www.geogebra.org/material/iframe/id/sv32x27d/width/700/height/500/border/888888/sfsb/true/smb/false/stb/false/stbh/false/ai/false/asb/false/sri/false/rc/false/ld/false/sdz/true/ctl/false\" width=\"700px\" height=\"500px\" style=\"border:0px;\"> </iframe>"
      ],
      "metadata": {
        "id": "iTrixyDLkxrA"
      }
    },
    {
      "cell_type": "markdown",
      "source": [
        "### Solución usando OLS\n",
        "\n",
        "Para ejemplificar, volvamos a una variable independiente. El **ajuste óptimo** se puede determinar de varias formas, pero la manera más común (y la utilizada por `Scikit-Learn`) es mediante el **método de OLS**, el cual minimiza una cantidad denominada *suma de cuadrados de los residuos* (RSS):\n",
        "\n",
        "\\begin{align}\n",
        "RSS(\\hat{\\beta_0},\\hat{\\beta_1}) &= \\sum_{i=1}^n [y_i - (\\hat{\\beta_0}+\\hat{\\beta_1} x_i)]^2,\\\\\n",
        "\\end{align}\n",
        "\n",
        "en esta ecuación el **residuo** corresponde al valor $e_i$, tal que $e_i=y_i - (\\hat{\\beta_0}+\\hat{\\beta_1} x_i)$. Geométricamente, un residuo es la distancia vertical entre la **linea ajustada** y el valor real $y_i$.\n",
        "\n",
        "<img src=\"https://docs.google.com/uc?export=download&id=13gFpVnLx56mrQ1j4pGuZFlfXVl-EkoJK\" width=\"600\" align=\"middle\">\n",
        "\n"
      ],
      "metadata": {
        "id": "O56S_0HeTnMy"
      }
    },
    {
      "cell_type": "code",
      "source": [
        "#@title\n",
        "##@title Applet de geogebra\n",
        "\n",
        "import IPython\n",
        "\n",
        "iframe = '<iframe scrolling=\"no\" title=\"Regresión Lineal\" src=\"https://www.geogebra.org/material/iframe/id/sv32x27d/width/700/height/500/border/888888/sfsb/true/smb/false/stb/false/stbh/false/ai/false/asb/false/sri/false/rc/false/ld/false/sdz/true/ctl/false\" width=\"700px\" height=\"500px\" style=\"border:0px;\"> </iframe>'\n",
        "\n",
        "IPython.display.HTML(iframe)"
      ],
      "metadata": {
        "colab": {
          "base_uri": "https://localhost:8080/",
          "height": 521
        },
        "cellView": "form",
        "id": "IFeyyrA2lQ0J",
        "outputId": "d92ad8f5-033a-4c77-fd81-a5d65a7d7a09"
      },
      "execution_count": null,
      "outputs": [
        {
          "output_type": "execute_result",
          "data": {
            "text/plain": [
              "<IPython.core.display.HTML object>"
            ],
            "text/html": [
              "<iframe scrolling=\"no\" title=\"Regresión Lineal\" src=\"https://www.geogebra.org/material/iframe/id/sv32x27d/width/700/height/500/border/888888/sfsb/true/smb/false/stb/false/stbh/false/ai/false/asb/false/sri/false/rc/false/ld/false/sdz/true/ctl/false\" width=\"700px\" height=\"500px\" style=\"border:0px;\"> </iframe>"
            ]
          },
          "metadata": {},
          "execution_count": 148
        }
      ]
    },
    {
      "cell_type": "markdown",
      "source": [
        "Otra precisión importante, es que OLS produce estimados de los parámetros, es decir que se obtienen $\\hat{\\beta_0}$ y $\\hat{\\beta_1}$, y no los verdaderos $\\beta_0$ y $\\beta_1$.\n",
        "\n",
        "**Representación Algebraica**\n",
        "\n",
        "Un modelo de regresión lineal para una sola variable independiente, lo podemos escribir como un sistema de ecuaciones lineales utilizando matrices de la siguiente forma:\n",
        "\n",
        "$$\n",
        "\\begin{bmatrix}\n",
        "y_1 \\\\ y_2 \\\\ \\dots \\\\ y_n \n",
        "\\end{bmatrix}\n",
        "=\n",
        "\\begin{bmatrix}\n",
        "1 & x_{1} \\\\\n",
        "1 & x_{2} \\\\\n",
        "1 & \\dots \\\\\n",
        "1 & x_{n} \n",
        "\\end{bmatrix}\n",
        "\\begin{bmatrix}\n",
        "\\hat{\\beta}_0 \\\\\n",
        "\\hat{\\beta}_1 \\\\\n",
        "\\end{bmatrix}\n",
        "+\n",
        "\\begin{bmatrix}\n",
        "e_0 \\\\\n",
        "e_1 \\\\\n",
        "\\dots \\\\\n",
        "e_n \n",
        "\\end{bmatrix}\n",
        "=\n",
        "X\\hat{\\beta}+\\mathbf{e}\n",
        "$$\n",
        "\n",
        "**Geométricamente**\n",
        "\n",
        "Como ya lo dijimos, buscamos minimizar la distancia entre la $\\mathbf{y}$ y nuestra estimación $X\\hat{\\beta}$. Sin embargo, $\\mathbf{y}=X\\hat{\\beta}$ solo es posible en raras ocasiones y lo que usualmente podemos lograr es $\\mathbf{y}\\approx X\\hat{\\beta}$. Esto significa que $X\\hat{\\beta}$ yace en el **espacio de características** mientras que $\\mathbf{y}$ no, por lo tanto, existe una diferencia (vector de residuos $\\mathbf{e}$). La siguiente figura ejemplifica esta relación para 2 variables independientes:\n",
        "\n",
        "<img src=\"https://docs.google.com/uc?export=download&id=1y3sInYKdSv5uFEvk-f01S-omV-T9JBTV\" width=\"600\" align=\"middle\">\n",
        "\n",
        "**Estimación de las $\\hat{\\beta}$s**\n",
        "\n",
        "En este sentido, para estimar las $\\hat{\\beta}$s sus valores deben ser tales que el vector $\\mathbf{e}=\\mathbf{y}-X\\hat{\\beta}$ sea **perpendicular** (ortogonal en N dimensiones) al espacio de caracteristicas de $X$. \n",
        "\n",
        "Dado que dos vectores $u$ y $v$, son ortogonales si $\\mathbf{u}^T\\mathbf{v}=u_1v_1+u_2v_2+\\ldots+u_nv_n=0$. Entonces, $\\mathbf{e}$ es ortogonal a $X$ si $\\mathbf{e}$ es ortogonal a cada vector columna de $X$. Esto es\n",
        "\n",
        "\\begin{align}\n",
        "(\\mathbf{y}-X\\hat{\\beta})^T X=0,\\\\\n",
        "\\mathbf{e}^T X=0\n",
        "\\end{align}\n",
        "\n",
        "De lo anterior se sigue: \n",
        "\n",
        "\\begin{align}\n",
        "X^T (\\mathbf{y}-X\\hat{\\beta}) &=0 \\Leftrightarrow \\\\\n",
        "X^T\\mathbf{y} - X^TX\\hat{\\beta} &= 0 \\Leftrightarrow \\\\\n",
        "X^T\\mathbf{y} &= X^TX\\hat{\\beta}  \\Leftrightarrow \\\\\n",
        "(X^T X)^{-1} X^T\\mathbf{y} &= \\hat{\\beta} \\\\\n",
        "\\end{align}"
      ],
      "metadata": {
        "id": "yJsVvAVKmH9Y"
      }
    },
    {
      "cell_type": "markdown",
      "source": [
        "### Implementación manual"
      ],
      "metadata": {
        "id": "YBCdzgGRjrrj"
      }
    },
    {
      "cell_type": "markdown",
      "source": [
        "⭕ Primero, añadimos el vector columna de 1s. Obtener la matriz\n",
        "\n",
        "\\begin{bmatrix}\n",
        "1 & x_{1} \\\\\n",
        "1 & x_{2} \\\\\n",
        "1 & \\dots \\\\\n",
        "1 & x_{n} \n",
        "\\end{bmatrix}"
      ],
      "metadata": {
        "id": "81AH9m4KnCH7"
      }
    },
    {
      "cell_type": "code",
      "source": [
        "# CÓDIGO:\n",
        "\n",
        "\n",
        "assert X.shape == (size,2)"
      ],
      "metadata": {
        "id": "2aIJT3BUj0VD"
      },
      "execution_count": null,
      "outputs": []
    },
    {
      "cell_type": "markdown",
      "source": [
        "⭕ Resolver usando mínimos cuadrados (OLS). Es decir,\n",
        "\n",
        "$$\\hat{\\beta} = (X^T X)^{-1} X^T\\mathbf{y}$$"
      ],
      "metadata": {
        "id": "gfvE_jRcoGJb"
      }
    },
    {
      "cell_type": "code",
      "source": [
        "# CÓDIGO:\n",
        "\n",
        "print(beta_0,beta_1)"
      ],
      "metadata": {
        "id": "RS8Teb3JnPhm"
      },
      "execution_count": null,
      "outputs": []
    },
    {
      "cell_type": "markdown",
      "source": [
        "Visualicemos la línea ajustada"
      ],
      "metadata": {
        "id": "gEEHwmKMoO5E"
      }
    },
    {
      "cell_type": "code",
      "source": [
        "x_values = np.linspace(0, 3, 100)\n",
        "\n",
        "y_hat = beta_0 + beta_1 * x_values\n",
        "plt.figure()\n",
        "plt.scatter(x, y, marker='x',color='red')\n",
        "plt.plot(x_values, y_hat, color='black')\n",
        "plt.show()"
      ],
      "metadata": {
        "id": "cLaxwtxpni9B"
      },
      "execution_count": null,
      "outputs": []
    },
    {
      "cell_type": "markdown",
      "source": [
        "### Implementación con `scikit-learn`"
      ],
      "metadata": {
        "id": "SAwtn5TGjvRA"
      }
    },
    {
      "cell_type": "code",
      "source": [
        "x = x.reshape(-1,1)\n",
        "x.shape"
      ],
      "metadata": {
        "colab": {
          "base_uri": "https://localhost:8080/"
        },
        "id": "y-QMILb9on4e",
        "outputId": "31852a6e-6439-4b4c-9076-534eacb3280d"
      },
      "execution_count": null,
      "outputs": [
        {
          "output_type": "execute_result",
          "data": {
            "text/plain": [
              "(100, 1)"
            ]
          },
          "metadata": {},
          "execution_count": 160
        }
      ]
    },
    {
      "cell_type": "code",
      "source": [
        "from sklearn.linear_model import LinearRegression\n",
        "\n",
        "lr = LinearRegression(fit_intercept=True)\n",
        "lr.fit(x,y)"
      ],
      "metadata": {
        "id": "8vYm8QJUj06z"
      },
      "execution_count": null,
      "outputs": []
    },
    {
      "cell_type": "markdown",
      "source": [
        "Por convención, en Scikit-Learn todos los parámetros del modelo que se aprendieron durante el proceso `fit()` son nombrados con guiones bajos al final. En este modelo podemos recuperar los valores de $\\beta_0$ (el intercepto) y $\\beta_1$ (el coeficiente)."
      ],
      "metadata": {
        "id": "S7p28tuupMT4"
      }
    },
    {
      "cell_type": "code",
      "source": [
        "lr.intercept_"
      ],
      "metadata": {
        "id": "gIHv_02To2mn"
      },
      "execution_count": null,
      "outputs": []
    },
    {
      "cell_type": "code",
      "source": [
        "lr.coef_"
      ],
      "metadata": {
        "id": "wpR_bvijo0cM"
      },
      "execution_count": null,
      "outputs": []
    },
    {
      "cell_type": "markdown",
      "source": [
        "Realizamos predicciones"
      ],
      "metadata": {
        "id": "4P1hCZoLqdDX"
      }
    },
    {
      "cell_type": "code",
      "source": [
        "beta_0 = lr.intercept_\n",
        "beta_1 = lr.coef_\n",
        "\n",
        "y_hat = beta_0 + beta_1 * x_values"
      ],
      "metadata": {
        "id": "BO5Im5Ifqc1o"
      },
      "execution_count": null,
      "outputs": []
    },
    {
      "cell_type": "code",
      "source": [
        "x_values = np.linspace(0, 3, 100)\n",
        "\n",
        "plt.figure()\n",
        "plt.scatter(x, y, marker='x',color='red')\n",
        "plt.plot(x_values, y_hat, color='black')\n",
        "plt.show()"
      ],
      "metadata": {
        "id": "QN_lBG19o9hz"
      },
      "execution_count": null,
      "outputs": []
    },
    {
      "cell_type": "markdown",
      "source": [
        "### Condiciones"
      ],
      "metadata": {
        "id": "AGXGiqoloW7_"
      }
    },
    {
      "cell_type": "markdown",
      "source": [
        "La regresión lineal tiene varias suposiciones: \n",
        "\n",
        "* **Linealidad**: la relación entre $X$ y $y$ es lineal.\n",
        "* **Variables Independientes Estandarizadas** \n",
        "    $$x'=\\frac{(x - \\bar{x})}{\\sigma}$$\n",
        "* **Independencia**: las observaciones son independientes entre sí.\n",
        "* **Normalidad**: los residuos, $e_i$ se distribuye normalmente.\n",
        "$$e_i \\sim \\mathcal{N}(\\mu,\\,\\sigma^{2})$$\n",
        "\n",
        "\n",
        "\n"
      ],
      "metadata": {
        "id": "ejuioOQyobRD"
      }
    },
    {
      "cell_type": "code",
      "source": [
        "import seaborn as sns\n",
        "\n",
        "residuals = y-y_hat\n",
        "\n",
        "sns.displot(residuals, kde=True)\n",
        "plt.show()"
      ],
      "metadata": {
        "id": "4Tbotiqloa35"
      },
      "execution_count": null,
      "outputs": []
    },
    {
      "cell_type": "markdown",
      "source": [
        "**¿Qué pasa si no se satisface la hipótesis de la normalidad de los residuos?**\n",
        "\n",
        "*Misspecifying the Shape of a Random Effects Distribution: Why Getting It Wrong May Not Matter*, Statistical Science, 2011, Vol. 26, No. 3, 388–402"
      ],
      "metadata": {
        "id": "hNOfeF0_sBa-"
      }
    },
    {
      "cell_type": "markdown",
      "source": [
        "**¿Qué pasa si el ruido que contamina la serie de tiempo NO es normal?**\n",
        "\n",
        "Considere que los siguientes datos sintéticos provienen de una linea con $\\beta_0=2$ y $\\beta_1=5$. Los cuatro conjuntos de datos son contaminados por diferentes fuentes de ruido:\n",
        "\n",
        "- Distribución Beta $P(x:\\alpha,\\beta) = \\frac{\\Gamma(\\alpha +\\beta)}{\\Gamma(\\alpha)\\Gamma(\\beta)}x^{\\alpha - 1}(1 -x)^{\\beta - 1}$\n",
        "\n",
        "- Distribución uniforme $P(x:a,b)=\\frac{1}{b-a}\\mid a\\geq x\\geq b$\n",
        "\n",
        "- Distribución Logarítmica $P(x: p,k\\geq1)=\\frac{-1}{ln(1-p)}\\frac{p^k}{k}$\n",
        "\n",
        "- Distribución Log-Normal $P(x: \\mu,\\sigma) = \\frac{1}{x}\\cdot \\frac{1}{\\sigma \\sqrt{2\\pi}} exp(\\frac{(ln(x)-\\mu)^2}{2\\sigma^2})$"
      ],
      "metadata": {
        "id": "JpvaNbHWsVg9"
      }
    },
    {
      "cell_type": "code",
      "source": [
        "rng = np.random.RandomState(1)\n",
        "size = 100\n",
        "\n",
        "b0 = 2\n",
        "b1 = 5\n",
        "scl= 5\n",
        "\n",
        "x = scl * rng.rand(size)\n",
        "y_beta = (b0 + (b1 * x)) + rng.beta(a=2,b=5, size=size)*scl#Distribución Beta\n",
        "y_unif = (b0 + (b1 * x)) + rng.uniform(low=-3, high = 3, size = size)*scl#Distribución uniforme\n",
        "y_logs = (b0 + (b1 * x)) + rng.logseries(p=.66, size = size)*scl #Distribución logaritmica\n",
        "y_lognorm = (b0 + (b1 * x)) + rng.lognormal(size=size)*scl #Distribución log-nor"
      ],
      "metadata": {
        "id": "CMEuqENksmJ7"
      },
      "execution_count": null,
      "outputs": []
    },
    {
      "cell_type": "markdown",
      "source": [
        "⭕ Ejercicio\n",
        "\n",
        "1. Realice las regresiones y grafíquelas en un grid de 2x2\n",
        "2. Grafique los histogramas de los residuos en un grid de 2x2"
      ],
      "metadata": {
        "id": "yE0uZQpRswx6"
      }
    },
    {
      "cell_type": "code",
      "source": [],
      "metadata": {
        "id": "DcZhEHams6x7"
      },
      "execution_count": null,
      "outputs": []
    },
    {
      "cell_type": "markdown",
      "source": [
        "## Ejemplo 2: Regresión Lineal Multiple"
      ],
      "metadata": {
        "id": "roxwYBGXRCgq"
      }
    },
    {
      "cell_type": "markdown",
      "source": [
        "Usaremos un dataset de precios de automóviles. Una empresa automovilística china aspira a entrar en el mercado estadounidense estableciendo allí su unidad de fabricación y produciendo coches localmente para hacer la competencia a sus homólogos estadounidenses y europeos.\n",
        "\n",
        "La empresa quiere conocer los factores que afectan al precio de los coches en el mercado estadounidense, ya que pueden ser muy diferentes de los del mercado chino. La empresa quiere saber:\n",
        "\n",
        "* Qué variables son significativas para predecir el precio de un coche.\n",
        "* En qué medida esas variables describen el precio de un coche\n",
        "\n",
        "Basándose en varios estudios de mercado, la consultora ha reunido este conjunto de datos sobre distintos tipos de coches en el mercado estadounidense. Más información sobre el dataset: https://www.kaggle.com/datasets/hellbuoy/car-price-prediction"
      ],
      "metadata": {
        "id": "Dy7FdyO8R3-w"
      }
    },
    {
      "cell_type": "code",
      "source": [
        "import pandas as pd\n",
        "\n",
        "url = 'https://github.com/DCDPUAEM/DCDP/raw/main/02-Machine-Learning/data/cars-prices.csv'\n",
        "df = pd.read_csv(url)\n",
        "df"
      ],
      "metadata": {
        "id": "PzwYqd_qRLUx"
      },
      "execution_count": null,
      "outputs": []
    },
    {
      "cell_type": "markdown",
      "source": [
        "### Preprocesamiento"
      ],
      "metadata": {
        "id": "y_RUR38T4DX-"
      }
    },
    {
      "cell_type": "code",
      "source": [
        "df.drop(columns=['car_ID','CarName'],inplace=True)\n",
        "df.head(5)"
      ],
      "metadata": {
        "id": "9uevNY0pSRUT"
      },
      "execution_count": null,
      "outputs": []
    },
    {
      "cell_type": "code",
      "source": [
        "print(f\"Forma del dataframe {df.shape}\")"
      ],
      "metadata": {
        "id": "Gpl1eCu-RioX"
      },
      "execution_count": null,
      "outputs": []
    },
    {
      "cell_type": "code",
      "source": [
        "df.columns.to_list()"
      ],
      "metadata": {
        "id": "i2KGybxRSsJC"
      },
      "execution_count": null,
      "outputs": []
    },
    {
      "cell_type": "markdown",
      "source": [
        "Podemos ver que no hay datos faltantes"
      ],
      "metadata": {
        "id": "uvTvVuv6cmyH"
      }
    },
    {
      "cell_type": "code",
      "source": [
        "df.info()"
      ],
      "metadata": {
        "id": "9byBZCe6S20Q"
      },
      "execution_count": null,
      "outputs": []
    },
    {
      "cell_type": "code",
      "source": [
        "df.describe()"
      ],
      "metadata": {
        "id": "N7zTVJOezZ5G"
      },
      "execution_count": null,
      "outputs": []
    },
    {
      "cell_type": "markdown",
      "source": [
        "Inspeccionemos las *features* que contienen datos no numéricos"
      ],
      "metadata": {
        "id": "Rhf9kslbZCRR"
      }
    },
    {
      "cell_type": "code",
      "source": [
        "columns_object = df.select_dtypes('object').columns.to_list()\n",
        "len(columns_object),columns_object"
      ],
      "metadata": {
        "id": "xzoE12YVYn37"
      },
      "execution_count": null,
      "outputs": []
    },
    {
      "cell_type": "markdown",
      "source": [
        "Hagamos un conteo de los valores únicos en cada una de las *features* categóricas"
      ],
      "metadata": {
        "id": "hX6hfC_EdLS_"
      }
    },
    {
      "cell_type": "code",
      "source": [
        "import matplotlib.pyplot as plt\n",
        "import seaborn as sns \n",
        "\n",
        "fig = plt.figure(figsize=(15,15))\n",
        "for idx,col_name in enumerate(columns_object):\n",
        "    plt.subplot(3,3,idx+1)\n",
        "    sns.countplot(x=df.loc[:,col_name])\n",
        "plt.tight_layout()\n",
        "plt.show()"
      ],
      "metadata": {
        "id": "WqUWwEjPcvOp"
      },
      "execution_count": null,
      "outputs": []
    },
    {
      "cell_type": "markdown",
      "source": [
        "⭕ Reemplazar los datos de las columnas `cylindernumber` con número"
      ],
      "metadata": {
        "id": "Q2ikZkJLzlIE"
      }
    },
    {
      "cell_type": "code",
      "source": [
        "cols = ['cylindernumber','doornumber']\n",
        "replacing_dict = {'four':4, 'six':6, 'five':5, 'three':3, 'twelve':12, 'two':2, 'eight':8}\n",
        "\n",
        "for col in cols:\n",
        "    df[col].replace(replacing_dict,inplace=True)\n",
        "df"
      ],
      "metadata": {
        "id": "ZSXLPvltzkar"
      },
      "execution_count": null,
      "outputs": []
    },
    {
      "cell_type": "markdown",
      "source": [
        "Separamos la variable de salida y preparamos las variables predictoras"
      ],
      "metadata": {
        "id": "JNig4uEi2ArB"
      }
    },
    {
      "cell_type": "code",
      "source": [
        "y = df['price'].values\n",
        "print(y.shape)"
      ],
      "metadata": {
        "id": "sCkOCYW71_dQ"
      },
      "execution_count": null,
      "outputs": []
    },
    {
      "cell_type": "code",
      "source": [
        "df.drop(columns='price',inplace=True)"
      ],
      "metadata": {
        "id": "Xzc1xeoC3tqp"
      },
      "execution_count": null,
      "outputs": []
    },
    {
      "cell_type": "markdown",
      "source": [
        "Hacemos la codificación *one-hot* para las variables categóricas"
      ],
      "metadata": {
        "id": "vTOihzuR3ZS2"
      }
    },
    {
      "cell_type": "code",
      "source": [
        "X_df = pd.get_dummies(df)\n",
        "X_df.head()"
      ],
      "metadata": {
        "id": "gHfVl_3n2gg7"
      },
      "execution_count": null,
      "outputs": []
    },
    {
      "cell_type": "markdown",
      "source": [
        "Podríamos realizar una selección de *features*."
      ],
      "metadata": {
        "id": "zCJRjfcBXzK2"
      }
    },
    {
      "cell_type": "code",
      "source": [
        "# from sklearn.feature_selection import VarianceThreshold\n",
        "\n",
        "# selector = VarianceThreshold()\n",
        "# X = selector.fit_transform(X_df)\n",
        "# X_df = pd.DataFrame(X,columns=selector.get_feature_names_out())  \n",
        "# X_df"
      ],
      "metadata": {
        "id": "0OPx_bs-VwuA"
      },
      "execution_count": null,
      "outputs": []
    },
    {
      "cell_type": "markdown",
      "source": [
        "Hacemos normalización"
      ],
      "metadata": {
        "id": "TK_aqheQ4Fj_"
      }
    },
    {
      "cell_type": "code",
      "source": [
        "from sklearn.preprocessing import StandardScaler, MinMaxScaler\n",
        "\n",
        "scaler = StandardScaler()\n",
        "# scaler = MinMaxScaler()\n",
        "X = scaler.fit_transform(X_df)\n",
        "pd.DataFrame(X,columns=X_df.columns)  # Sólo para visualizar los datos\n",
        "\n",
        "#---- Sin escalamiento ---\n",
        "# X = X_df.values"
      ],
      "metadata": {
        "id": "3ocPjPMX36Ip"
      },
      "execution_count": null,
      "outputs": []
    },
    {
      "cell_type": "markdown",
      "source": [
        "### Entrenamiento"
      ],
      "metadata": {
        "id": "RNvSHbPK4lLV"
      }
    },
    {
      "cell_type": "code",
      "source": [
        "from sklearn.model_selection import train_test_split\n",
        "\n",
        "X_train, X_test, y_train, y_test = train_test_split(X,y, train_size=0.75, random_state=4595) \n",
        "\n",
        "print(f\"Entrenamiento: {X_train.shape,y_train.shape}\")\n",
        "print(f\"Prueba: {X_test.shape,y_test.shape}\")"
      ],
      "metadata": {
        "id": "6xQmGO4H4p-6"
      },
      "execution_count": null,
      "outputs": []
    },
    {
      "cell_type": "code",
      "source": [
        "from sklearn.linear_model import LinearRegression\n",
        "\n",
        "lr = LinearRegression()\n",
        "lr.fit(X_train, y_train)"
      ],
      "metadata": {
        "id": "_b3P99dl5ABZ"
      },
      "execution_count": null,
      "outputs": []
    },
    {
      "cell_type": "markdown",
      "source": [
        "Veamos el coeficiente de determinación del desempeño en el conjunto de prueba"
      ],
      "metadata": {
        "id": "lgFBGCgQ5x9R"
      }
    },
    {
      "cell_type": "code",
      "source": [
        "lr.score(X_train,y_train)"
      ],
      "metadata": {
        "id": "DcFJlggV5ZbE"
      },
      "execution_count": null,
      "outputs": []
    },
    {
      "cell_type": "markdown",
      "source": [
        "### Predicciones"
      ],
      "metadata": {
        "id": "EZiaHInd587I"
      }
    },
    {
      "cell_type": "markdown",
      "source": [
        "Predecimos usando las variables predictoras del conjunto de prueba"
      ],
      "metadata": {
        "id": "oUPLujlPBD3b"
      }
    },
    {
      "cell_type": "code",
      "source": [
        "y_pred_test = lr.predict(X_test)"
      ],
      "metadata": {
        "id": "BU3g66svBDh2"
      },
      "execution_count": null,
      "outputs": []
    },
    {
      "cell_type": "markdown",
      "source": [
        "Veamos cómo se ven las predicciones"
      ],
      "metadata": {
        "id": "-vkAvFVWBeO_"
      }
    },
    {
      "cell_type": "code",
      "source": [
        "print(f\"Valores de prueba:\\n{y_test[:5]}\")\n",
        "print(f\"Valores predichos:\\n{np.round(y_pred_test[:5],2)}\")"
      ],
      "metadata": {
        "id": "Nph8otk7Bg82"
      },
      "execution_count": null,
      "outputs": []
    },
    {
      "cell_type": "markdown",
      "source": [
        "Representemos gráficamente esta comparación"
      ],
      "metadata": {
        "id": "lff39ts2CZOP"
      }
    },
    {
      "cell_type": "code",
      "source": [
        "xaxis = np.linspace(np.min(y_test),np.max(y_test),100)\n",
        "\n",
        "plt.figure(dpi=100)\n",
        "plt.scatter(y_test, y_pred_test, c='red',alpha=0.85)\n",
        "plt.plot(xaxis,xaxis,'k--')\n",
        "# plt.plot(y_tr, y_predict_train_lr, 'bx')\n",
        "# plt.legend(['Prediction on Test Data', 'Prediction on Training Data'])\n",
        "plt.xlabel(\"Valores reales\")\n",
        "plt.ylabel(\"Valores predichos\")\n",
        "plt.show()"
      ],
      "metadata": {
        "id": "1FLN_K0sCUZH"
      },
      "execution_count": null,
      "outputs": []
    },
    {
      "cell_type": "markdown",
      "source": [
        "Podemos usar otras métricas de rendimiento.\n",
        "\n",
        "Más información: https://scikit-learn.org/stable/modules/model_evaluation.html"
      ],
      "metadata": {
        "id": "5PyNW03QEpWH"
      }
    },
    {
      "cell_type": "code",
      "source": [
        "from sklearn.metrics import mean_absolute_error, mean_squared_error\n",
        "\n",
        "print(mean_absolute_error(y_test,y_pred_test))\n",
        "print(mean_squared_error(y_test,y_pred_test))"
      ],
      "metadata": {
        "id": "pQdig7f_EsMX"
      },
      "execution_count": null,
      "outputs": []
    },
    {
      "cell_type": "markdown",
      "source": [
        "También podemos comparar usando los valores de entrenamiento"
      ],
      "metadata": {
        "id": "_Iak4IlzEg2R"
      }
    },
    {
      "cell_type": "code",
      "source": [
        "y_pred_train = lr.predict(X_train)"
      ],
      "metadata": {
        "id": "jZcUKPEG5_aB"
      },
      "execution_count": null,
      "outputs": []
    },
    {
      "cell_type": "code",
      "source": [
        "print(f\"Valores de prueba:\\n{y_train[:5]}\")\n",
        "print(f\"Valores predichos:\\n{np.round(y_pred_train[:5],2)}\")"
      ],
      "metadata": {
        "id": "A-wU7ngqPk9X"
      },
      "execution_count": null,
      "outputs": []
    },
    {
      "cell_type": "code",
      "source": [
        "xaxis = np.linspace(np.min(y_test),np.max(y_test),100)\n",
        "\n",
        "plt.figure(dpi=100)\n",
        "plt.scatter(y_test, y_pred_test, c='red',alpha=0.5)\n",
        "plt.scatter(y_train, y_pred_train, c='blue',alpha=0.5)\n",
        "plt.plot(xaxis,xaxis,'k--')\n",
        "plt.legend(['Prediction on Test Data', 'Prediction on Training Data'])\n",
        "plt.xlabel(\"Valores reales\")\n",
        "plt.ylabel(\"Valores predichos\")\n",
        "plt.show()"
      ],
      "metadata": {
        "id": "Q-Wr7vUnPiDt"
      },
      "execution_count": null,
      "outputs": []
    },
    {
      "cell_type": "code",
      "source": [
        "print(f\"Entrenamiento: {lr.score(X_train,y_train)}\")\n",
        "print(f\"Prueba: {lr.score(X_test,y_test)}\")"
      ],
      "metadata": {
        "id": "DCV7di21Tk-2"
      },
      "execution_count": null,
      "outputs": []
    },
    {
      "cell_type": "markdown",
      "source": [
        "### Interpretación de los resultados"
      ],
      "metadata": {
        "id": "Q308hPdwTegf"
      }
    },
    {
      "cell_type": "markdown",
      "source": [
        "Podemos acceder a los coeficientes de la regresión. Vemos que hay un coeficiente por cada feature. "
      ],
      "metadata": {
        "id": "PVAiHbgSUjY3"
      }
    },
    {
      "cell_type": "code",
      "source": [
        "print(lr.coef_.shape)\n",
        "print(lr.coef_)"
      ],
      "metadata": {
        "id": "gAod1U3HUQxe"
      },
      "execution_count": null,
      "outputs": []
    },
    {
      "cell_type": "markdown",
      "source": [
        "Los organizamos con el nombre de cada *feature*"
      ],
      "metadata": {
        "id": "Rg4uq2BFW_n9"
      }
    },
    {
      "cell_type": "code",
      "source": [
        "pd.DataFrame(lr.coef_.reshape(1,-1),columns=X_df.columns)"
      ],
      "metadata": {
        "id": "HuV2XddBThm2"
      },
      "execution_count": null,
      "outputs": []
    },
    {
      "cell_type": "markdown",
      "source": [
        "Veamos cuales tienen más peso"
      ],
      "metadata": {
        "id": "dDo6GtVfXEEM"
      }
    },
    {
      "cell_type": "code",
      "source": [
        "columns = X_df.columns.to_list()\n",
        "coefs_dict = dict(zip(columns,lr.coef_))\n",
        "coefs_dict"
      ],
      "metadata": {
        "id": "783tAAkqWt8N"
      },
      "execution_count": null,
      "outputs": []
    },
    {
      "cell_type": "code",
      "source": [
        "dict(sorted(coefs_dict.items(),key=lambda x:x[1],reverse=True))"
      ],
      "metadata": {
        "id": "c6cLsk_KXG2V"
      },
      "execution_count": null,
      "outputs": []
    },
    {
      "cell_type": "markdown",
      "source": [
        "Una pregunta que surge con frecuencia se refiere a la incertidumbre acerca de los parámetros del modelo, ya que estos también son variables aleatorias.\n",
        "\n",
        "En general, Scikit-Learn no proporciona herramientas para obtener conclusiones acerca de los parámetros internos del modelo: la interpretación de los parámetros del modelo es mucho más una *pregunta de modelaje estadístico* que una pregunta de *aprendizaje automático*. El aprendizaje automático se centra más la *predicción*.\n",
        "\n",
        "No obstante, si se desea profundizar en el significado de los parámetros del modelo, hay herramientas como las incluidas en el [paquete de Statsmodels de Python](http://statsmodels.sourceforge.net/)."
      ],
      "metadata": {
        "id": "tkqMX7SVPsxO"
      }
    },
    {
      "cell_type": "code",
      "source": [
        "import statsmodels.api as sm\n",
        "\n",
        "X_train_1 = sm.add_constant(X_train)\n",
        "X_train_1_df = pd.DataFrame(X_train_1, columns=['const']+X_df.columns.to_list()) \n",
        "display(X_train_1_df.head())\n",
        "results = sm.OLS(y_train, X_train_1_df).fit()\n",
        "print(results.summary())"
      ],
      "metadata": {
        "id": "A4TID5B_XGui"
      },
      "execution_count": null,
      "outputs": []
    },
    {
      "cell_type": "markdown",
      "source": [
        "**Algunas observaciones**\n",
        "\n",
        "* `R-squared` nos dice que nuestro modelo explica 93.2% del cambio en la variable dependiente (el precio del automovil).\n",
        "* `Adj. R-squared` ajusta el coeficiente `R-squared` tomando en cuenta el número de variables (features).\n",
        "* Los p-values `P>|t|` nos dice qué tan probable es que el coeficiente de la población haya sido medido por azar. Es decir, pone a prueba la hipótesis nula de que la variable independiente no tiene correlación con la variable dependiente. Hay dos escenarios:\n",
        "    * El valor es superior al nivel de significancia, no hay asociación entre los cambios en la variable independiente y los cambios en la variable dependiente. En otras palabras, no hay pruebas suficientes para concluir que existe un efecto a nivel de población.\n",
        "    * Si el valor p de una variable es inferior al nivel de significancia, los datos de la muestra proporcionan pruebas suficientes para rechazar la hipótesis nula de toda la población. Sus datos favorecen la hipótesis de que existe una correlación distinta de cero. Los cambios en la variable independiente están asociados a cambios en la variable dependiente a nivel poblacional. Esta variable es estadísticamente significativa y probablemente merezca la pena añadirla a su modelo de regresión."
      ],
      "metadata": {
        "id": "l_iZumH9Q7Tv"
      }
    },
    {
      "cell_type": "markdown",
      "source": [
        "## Ejemplo 3: Regularización\n",
        "\n",
        "La regularización es una técnica de regresión lineal que penaliza la magnitud de los coeficientes de la regresión. Los coeficientes minimizan una suma de cuadrados residual penalizada:\n",
        "\n",
        "$$\\text{min}_w \\|Xw - y \\|^2+α\\|w\\|^2$$\n",
        "\n",
        "El parámetro de complejidad $\\alpha>0$ controla la cantidad de contracción: cuanto mayor sea el valor de $\\alpha$, mayor será la cantidad de contracción y, por tanto, los coeficientes serán más resistentes a la colinealidad."
      ],
      "metadata": {
        "id": "YfxfQA4LYZ3c"
      }
    },
    {
      "cell_type": "code",
      "source": [
        "import pandas as pd\n",
        "\n",
        "url = 'https://github.com/DCDPUAEM/DCDP/raw/main/02-Machine-Learning/data/cars-prices.csv'\n",
        "df = pd.read_csv(url)\n",
        "df.drop(columns=['car_ID','CarName'],inplace=True)\n",
        "cols = ['cylindernumber','doornumber']\n",
        "replacing_dict = {'four':4, 'six':6, 'five':5, 'three':3, 'twelve':12, 'two':2, 'eight':8}\n",
        "\n",
        "for col in cols:\n",
        "    df[col].replace(replacing_dict,inplace=True)\n",
        "df"
      ],
      "metadata": {
        "colab": {
          "base_uri": "https://localhost:8080/",
          "height": 488
        },
        "id": "SZfSUKKkYdmg",
        "outputId": "a9fb31d9-102e-4eb9-cf3f-83ec66b06d5b"
      },
      "execution_count": null,
      "outputs": [
        {
          "output_type": "execute_result",
          "data": {
            "text/plain": [
              "     symboling fueltype aspiration  doornumber      carbody drivewheel  \\\n",
              "0            3      gas        std           2  convertible        rwd   \n",
              "1            3      gas        std           2  convertible        rwd   \n",
              "2            1      gas        std           2    hatchback        rwd   \n",
              "3            2      gas        std           4        sedan        fwd   \n",
              "4            2      gas        std           4        sedan        4wd   \n",
              "..         ...      ...        ...         ...          ...        ...   \n",
              "200         -1      gas        std           4        sedan        rwd   \n",
              "201         -1      gas      turbo           4        sedan        rwd   \n",
              "202         -1      gas        std           4        sedan        rwd   \n",
              "203         -1   diesel      turbo           4        sedan        rwd   \n",
              "204         -1      gas      turbo           4        sedan        rwd   \n",
              "\n",
              "    enginelocation  wheelbase  carlength  carwidth  ...  enginesize  \\\n",
              "0            front       88.6      168.8      64.1  ...         130   \n",
              "1            front       88.6      168.8      64.1  ...         130   \n",
              "2            front       94.5      171.2      65.5  ...         152   \n",
              "3            front       99.8      176.6      66.2  ...         109   \n",
              "4            front       99.4      176.6      66.4  ...         136   \n",
              "..             ...        ...        ...       ...  ...         ...   \n",
              "200          front      109.1      188.8      68.9  ...         141   \n",
              "201          front      109.1      188.8      68.8  ...         141   \n",
              "202          front      109.1      188.8      68.9  ...         173   \n",
              "203          front      109.1      188.8      68.9  ...         145   \n",
              "204          front      109.1      188.8      68.9  ...         141   \n",
              "\n",
              "     fuelsystem boreratio  stroke  compressionratio horsepower  peakrpm  \\\n",
              "0          mpfi      3.47    2.68               9.0        111     5000   \n",
              "1          mpfi      3.47    2.68               9.0        111     5000   \n",
              "2          mpfi      2.68    3.47               9.0        154     5000   \n",
              "3          mpfi      3.19    3.40              10.0        102     5500   \n",
              "4          mpfi      3.19    3.40               8.0        115     5500   \n",
              "..          ...       ...     ...               ...        ...      ...   \n",
              "200        mpfi      3.78    3.15               9.5        114     5400   \n",
              "201        mpfi      3.78    3.15               8.7        160     5300   \n",
              "202        mpfi      3.58    2.87               8.8        134     5500   \n",
              "203         idi      3.01    3.40              23.0        106     4800   \n",
              "204        mpfi      3.78    3.15               9.5        114     5400   \n",
              "\n",
              "     citympg  highwaympg    price  \n",
              "0         21          27  13495.0  \n",
              "1         21          27  16500.0  \n",
              "2         19          26  16500.0  \n",
              "3         24          30  13950.0  \n",
              "4         18          22  17450.0  \n",
              "..       ...         ...      ...  \n",
              "200       23          28  16845.0  \n",
              "201       19          25  19045.0  \n",
              "202       18          23  21485.0  \n",
              "203       26          27  22470.0  \n",
              "204       19          25  22625.0  \n",
              "\n",
              "[205 rows x 24 columns]"
            ],
            "text/html": [
              "\n",
              "  <div id=\"df-3e1e8aa4-1e0e-4d6a-b129-70e0150f77af\">\n",
              "    <div class=\"colab-df-container\">\n",
              "      <div>\n",
              "<style scoped>\n",
              "    .dataframe tbody tr th:only-of-type {\n",
              "        vertical-align: middle;\n",
              "    }\n",
              "\n",
              "    .dataframe tbody tr th {\n",
              "        vertical-align: top;\n",
              "    }\n",
              "\n",
              "    .dataframe thead th {\n",
              "        text-align: right;\n",
              "    }\n",
              "</style>\n",
              "<table border=\"1\" class=\"dataframe\">\n",
              "  <thead>\n",
              "    <tr style=\"text-align: right;\">\n",
              "      <th></th>\n",
              "      <th>symboling</th>\n",
              "      <th>fueltype</th>\n",
              "      <th>aspiration</th>\n",
              "      <th>doornumber</th>\n",
              "      <th>carbody</th>\n",
              "      <th>drivewheel</th>\n",
              "      <th>enginelocation</th>\n",
              "      <th>wheelbase</th>\n",
              "      <th>carlength</th>\n",
              "      <th>carwidth</th>\n",
              "      <th>...</th>\n",
              "      <th>enginesize</th>\n",
              "      <th>fuelsystem</th>\n",
              "      <th>boreratio</th>\n",
              "      <th>stroke</th>\n",
              "      <th>compressionratio</th>\n",
              "      <th>horsepower</th>\n",
              "      <th>peakrpm</th>\n",
              "      <th>citympg</th>\n",
              "      <th>highwaympg</th>\n",
              "      <th>price</th>\n",
              "    </tr>\n",
              "  </thead>\n",
              "  <tbody>\n",
              "    <tr>\n",
              "      <th>0</th>\n",
              "      <td>3</td>\n",
              "      <td>gas</td>\n",
              "      <td>std</td>\n",
              "      <td>2</td>\n",
              "      <td>convertible</td>\n",
              "      <td>rwd</td>\n",
              "      <td>front</td>\n",
              "      <td>88.6</td>\n",
              "      <td>168.8</td>\n",
              "      <td>64.1</td>\n",
              "      <td>...</td>\n",
              "      <td>130</td>\n",
              "      <td>mpfi</td>\n",
              "      <td>3.47</td>\n",
              "      <td>2.68</td>\n",
              "      <td>9.0</td>\n",
              "      <td>111</td>\n",
              "      <td>5000</td>\n",
              "      <td>21</td>\n",
              "      <td>27</td>\n",
              "      <td>13495.0</td>\n",
              "    </tr>\n",
              "    <tr>\n",
              "      <th>1</th>\n",
              "      <td>3</td>\n",
              "      <td>gas</td>\n",
              "      <td>std</td>\n",
              "      <td>2</td>\n",
              "      <td>convertible</td>\n",
              "      <td>rwd</td>\n",
              "      <td>front</td>\n",
              "      <td>88.6</td>\n",
              "      <td>168.8</td>\n",
              "      <td>64.1</td>\n",
              "      <td>...</td>\n",
              "      <td>130</td>\n",
              "      <td>mpfi</td>\n",
              "      <td>3.47</td>\n",
              "      <td>2.68</td>\n",
              "      <td>9.0</td>\n",
              "      <td>111</td>\n",
              "      <td>5000</td>\n",
              "      <td>21</td>\n",
              "      <td>27</td>\n",
              "      <td>16500.0</td>\n",
              "    </tr>\n",
              "    <tr>\n",
              "      <th>2</th>\n",
              "      <td>1</td>\n",
              "      <td>gas</td>\n",
              "      <td>std</td>\n",
              "      <td>2</td>\n",
              "      <td>hatchback</td>\n",
              "      <td>rwd</td>\n",
              "      <td>front</td>\n",
              "      <td>94.5</td>\n",
              "      <td>171.2</td>\n",
              "      <td>65.5</td>\n",
              "      <td>...</td>\n",
              "      <td>152</td>\n",
              "      <td>mpfi</td>\n",
              "      <td>2.68</td>\n",
              "      <td>3.47</td>\n",
              "      <td>9.0</td>\n",
              "      <td>154</td>\n",
              "      <td>5000</td>\n",
              "      <td>19</td>\n",
              "      <td>26</td>\n",
              "      <td>16500.0</td>\n",
              "    </tr>\n",
              "    <tr>\n",
              "      <th>3</th>\n",
              "      <td>2</td>\n",
              "      <td>gas</td>\n",
              "      <td>std</td>\n",
              "      <td>4</td>\n",
              "      <td>sedan</td>\n",
              "      <td>fwd</td>\n",
              "      <td>front</td>\n",
              "      <td>99.8</td>\n",
              "      <td>176.6</td>\n",
              "      <td>66.2</td>\n",
              "      <td>...</td>\n",
              "      <td>109</td>\n",
              "      <td>mpfi</td>\n",
              "      <td>3.19</td>\n",
              "      <td>3.40</td>\n",
              "      <td>10.0</td>\n",
              "      <td>102</td>\n",
              "      <td>5500</td>\n",
              "      <td>24</td>\n",
              "      <td>30</td>\n",
              "      <td>13950.0</td>\n",
              "    </tr>\n",
              "    <tr>\n",
              "      <th>4</th>\n",
              "      <td>2</td>\n",
              "      <td>gas</td>\n",
              "      <td>std</td>\n",
              "      <td>4</td>\n",
              "      <td>sedan</td>\n",
              "      <td>4wd</td>\n",
              "      <td>front</td>\n",
              "      <td>99.4</td>\n",
              "      <td>176.6</td>\n",
              "      <td>66.4</td>\n",
              "      <td>...</td>\n",
              "      <td>136</td>\n",
              "      <td>mpfi</td>\n",
              "      <td>3.19</td>\n",
              "      <td>3.40</td>\n",
              "      <td>8.0</td>\n",
              "      <td>115</td>\n",
              "      <td>5500</td>\n",
              "      <td>18</td>\n",
              "      <td>22</td>\n",
              "      <td>17450.0</td>\n",
              "    </tr>\n",
              "    <tr>\n",
              "      <th>...</th>\n",
              "      <td>...</td>\n",
              "      <td>...</td>\n",
              "      <td>...</td>\n",
              "      <td>...</td>\n",
              "      <td>...</td>\n",
              "      <td>...</td>\n",
              "      <td>...</td>\n",
              "      <td>...</td>\n",
              "      <td>...</td>\n",
              "      <td>...</td>\n",
              "      <td>...</td>\n",
              "      <td>...</td>\n",
              "      <td>...</td>\n",
              "      <td>...</td>\n",
              "      <td>...</td>\n",
              "      <td>...</td>\n",
              "      <td>...</td>\n",
              "      <td>...</td>\n",
              "      <td>...</td>\n",
              "      <td>...</td>\n",
              "      <td>...</td>\n",
              "    </tr>\n",
              "    <tr>\n",
              "      <th>200</th>\n",
              "      <td>-1</td>\n",
              "      <td>gas</td>\n",
              "      <td>std</td>\n",
              "      <td>4</td>\n",
              "      <td>sedan</td>\n",
              "      <td>rwd</td>\n",
              "      <td>front</td>\n",
              "      <td>109.1</td>\n",
              "      <td>188.8</td>\n",
              "      <td>68.9</td>\n",
              "      <td>...</td>\n",
              "      <td>141</td>\n",
              "      <td>mpfi</td>\n",
              "      <td>3.78</td>\n",
              "      <td>3.15</td>\n",
              "      <td>9.5</td>\n",
              "      <td>114</td>\n",
              "      <td>5400</td>\n",
              "      <td>23</td>\n",
              "      <td>28</td>\n",
              "      <td>16845.0</td>\n",
              "    </tr>\n",
              "    <tr>\n",
              "      <th>201</th>\n",
              "      <td>-1</td>\n",
              "      <td>gas</td>\n",
              "      <td>turbo</td>\n",
              "      <td>4</td>\n",
              "      <td>sedan</td>\n",
              "      <td>rwd</td>\n",
              "      <td>front</td>\n",
              "      <td>109.1</td>\n",
              "      <td>188.8</td>\n",
              "      <td>68.8</td>\n",
              "      <td>...</td>\n",
              "      <td>141</td>\n",
              "      <td>mpfi</td>\n",
              "      <td>3.78</td>\n",
              "      <td>3.15</td>\n",
              "      <td>8.7</td>\n",
              "      <td>160</td>\n",
              "      <td>5300</td>\n",
              "      <td>19</td>\n",
              "      <td>25</td>\n",
              "      <td>19045.0</td>\n",
              "    </tr>\n",
              "    <tr>\n",
              "      <th>202</th>\n",
              "      <td>-1</td>\n",
              "      <td>gas</td>\n",
              "      <td>std</td>\n",
              "      <td>4</td>\n",
              "      <td>sedan</td>\n",
              "      <td>rwd</td>\n",
              "      <td>front</td>\n",
              "      <td>109.1</td>\n",
              "      <td>188.8</td>\n",
              "      <td>68.9</td>\n",
              "      <td>...</td>\n",
              "      <td>173</td>\n",
              "      <td>mpfi</td>\n",
              "      <td>3.58</td>\n",
              "      <td>2.87</td>\n",
              "      <td>8.8</td>\n",
              "      <td>134</td>\n",
              "      <td>5500</td>\n",
              "      <td>18</td>\n",
              "      <td>23</td>\n",
              "      <td>21485.0</td>\n",
              "    </tr>\n",
              "    <tr>\n",
              "      <th>203</th>\n",
              "      <td>-1</td>\n",
              "      <td>diesel</td>\n",
              "      <td>turbo</td>\n",
              "      <td>4</td>\n",
              "      <td>sedan</td>\n",
              "      <td>rwd</td>\n",
              "      <td>front</td>\n",
              "      <td>109.1</td>\n",
              "      <td>188.8</td>\n",
              "      <td>68.9</td>\n",
              "      <td>...</td>\n",
              "      <td>145</td>\n",
              "      <td>idi</td>\n",
              "      <td>3.01</td>\n",
              "      <td>3.40</td>\n",
              "      <td>23.0</td>\n",
              "      <td>106</td>\n",
              "      <td>4800</td>\n",
              "      <td>26</td>\n",
              "      <td>27</td>\n",
              "      <td>22470.0</td>\n",
              "    </tr>\n",
              "    <tr>\n",
              "      <th>204</th>\n",
              "      <td>-1</td>\n",
              "      <td>gas</td>\n",
              "      <td>turbo</td>\n",
              "      <td>4</td>\n",
              "      <td>sedan</td>\n",
              "      <td>rwd</td>\n",
              "      <td>front</td>\n",
              "      <td>109.1</td>\n",
              "      <td>188.8</td>\n",
              "      <td>68.9</td>\n",
              "      <td>...</td>\n",
              "      <td>141</td>\n",
              "      <td>mpfi</td>\n",
              "      <td>3.78</td>\n",
              "      <td>3.15</td>\n",
              "      <td>9.5</td>\n",
              "      <td>114</td>\n",
              "      <td>5400</td>\n",
              "      <td>19</td>\n",
              "      <td>25</td>\n",
              "      <td>22625.0</td>\n",
              "    </tr>\n",
              "  </tbody>\n",
              "</table>\n",
              "<p>205 rows × 24 columns</p>\n",
              "</div>\n",
              "      <button class=\"colab-df-convert\" onclick=\"convertToInteractive('df-3e1e8aa4-1e0e-4d6a-b129-70e0150f77af')\"\n",
              "              title=\"Convert this dataframe to an interactive table.\"\n",
              "              style=\"display:none;\">\n",
              "        \n",
              "  <svg xmlns=\"http://www.w3.org/2000/svg\" height=\"24px\"viewBox=\"0 0 24 24\"\n",
              "       width=\"24px\">\n",
              "    <path d=\"M0 0h24v24H0V0z\" fill=\"none\"/>\n",
              "    <path d=\"M18.56 5.44l.94 2.06.94-2.06 2.06-.94-2.06-.94-.94-2.06-.94 2.06-2.06.94zm-11 1L8.5 8.5l.94-2.06 2.06-.94-2.06-.94L8.5 2.5l-.94 2.06-2.06.94zm10 10l.94 2.06.94-2.06 2.06-.94-2.06-.94-.94-2.06-.94 2.06-2.06.94z\"/><path d=\"M17.41 7.96l-1.37-1.37c-.4-.4-.92-.59-1.43-.59-.52 0-1.04.2-1.43.59L10.3 9.45l-7.72 7.72c-.78.78-.78 2.05 0 2.83L4 21.41c.39.39.9.59 1.41.59.51 0 1.02-.2 1.41-.59l7.78-7.78 2.81-2.81c.8-.78.8-2.07 0-2.86zM5.41 20L4 18.59l7.72-7.72 1.47 1.35L5.41 20z\"/>\n",
              "  </svg>\n",
              "      </button>\n",
              "      \n",
              "  <style>\n",
              "    .colab-df-container {\n",
              "      display:flex;\n",
              "      flex-wrap:wrap;\n",
              "      gap: 12px;\n",
              "    }\n",
              "\n",
              "    .colab-df-convert {\n",
              "      background-color: #E8F0FE;\n",
              "      border: none;\n",
              "      border-radius: 50%;\n",
              "      cursor: pointer;\n",
              "      display: none;\n",
              "      fill: #1967D2;\n",
              "      height: 32px;\n",
              "      padding: 0 0 0 0;\n",
              "      width: 32px;\n",
              "    }\n",
              "\n",
              "    .colab-df-convert:hover {\n",
              "      background-color: #E2EBFA;\n",
              "      box-shadow: 0px 1px 2px rgba(60, 64, 67, 0.3), 0px 1px 3px 1px rgba(60, 64, 67, 0.15);\n",
              "      fill: #174EA6;\n",
              "    }\n",
              "\n",
              "    [theme=dark] .colab-df-convert {\n",
              "      background-color: #3B4455;\n",
              "      fill: #D2E3FC;\n",
              "    }\n",
              "\n",
              "    [theme=dark] .colab-df-convert:hover {\n",
              "      background-color: #434B5C;\n",
              "      box-shadow: 0px 1px 3px 1px rgba(0, 0, 0, 0.15);\n",
              "      filter: drop-shadow(0px 1px 2px rgba(0, 0, 0, 0.3));\n",
              "      fill: #FFFFFF;\n",
              "    }\n",
              "  </style>\n",
              "\n",
              "      <script>\n",
              "        const buttonEl =\n",
              "          document.querySelector('#df-3e1e8aa4-1e0e-4d6a-b129-70e0150f77af button.colab-df-convert');\n",
              "        buttonEl.style.display =\n",
              "          google.colab.kernel.accessAllowed ? 'block' : 'none';\n",
              "\n",
              "        async function convertToInteractive(key) {\n",
              "          const element = document.querySelector('#df-3e1e8aa4-1e0e-4d6a-b129-70e0150f77af');\n",
              "          const dataTable =\n",
              "            await google.colab.kernel.invokeFunction('convertToInteractive',\n",
              "                                                     [key], {});\n",
              "          if (!dataTable) return;\n",
              "\n",
              "          const docLinkHtml = 'Like what you see? Visit the ' +\n",
              "            '<a target=\"_blank\" href=https://colab.research.google.com/notebooks/data_table.ipynb>data table notebook</a>'\n",
              "            + ' to learn more about interactive tables.';\n",
              "          element.innerHTML = '';\n",
              "          dataTable['output_type'] = 'display_data';\n",
              "          await google.colab.output.renderOutput(dataTable, element);\n",
              "          const docLink = document.createElement('div');\n",
              "          docLink.innerHTML = docLinkHtml;\n",
              "          element.appendChild(docLink);\n",
              "        }\n",
              "      </script>\n",
              "    </div>\n",
              "  </div>\n",
              "  "
            ]
          },
          "metadata": {},
          "execution_count": 119
        }
      ]
    },
    {
      "cell_type": "code",
      "source": [
        "y = df['price'].values\n",
        "\n",
        "df.drop(columns='price',inplace=True)\n",
        "X_df = pd.get_dummies(df)\n",
        "X_df.head()"
      ],
      "metadata": {
        "colab": {
          "base_uri": "https://localhost:8080/",
          "height": 299
        },
        "id": "vspzaU2JY0x6",
        "outputId": "bfcbe094-7678-48e7-9625-636fbd4cd983"
      },
      "execution_count": null,
      "outputs": [
        {
          "output_type": "execute_result",
          "data": {
            "text/plain": [
              "   symboling  doornumber  wheelbase  carlength  carwidth  carheight  \\\n",
              "0          3           2       88.6      168.8      64.1       48.8   \n",
              "1          3           2       88.6      168.8      64.1       48.8   \n",
              "2          1           2       94.5      171.2      65.5       52.4   \n",
              "3          2           4       99.8      176.6      66.2       54.3   \n",
              "4          2           4       99.4      176.6      66.4       54.3   \n",
              "\n",
              "   curbweight  cylindernumber  enginesize  boreratio  ...  enginetype_ohcv  \\\n",
              "0        2548               4         130       3.47  ...                0   \n",
              "1        2548               4         130       3.47  ...                0   \n",
              "2        2823               6         152       2.68  ...                1   \n",
              "3        2337               4         109       3.19  ...                0   \n",
              "4        2824               5         136       3.19  ...                0   \n",
              "\n",
              "   enginetype_rotor  fuelsystem_1bbl  fuelsystem_2bbl  fuelsystem_4bbl  \\\n",
              "0                 0                0                0                0   \n",
              "1                 0                0                0                0   \n",
              "2                 0                0                0                0   \n",
              "3                 0                0                0                0   \n",
              "4                 0                0                0                0   \n",
              "\n",
              "   fuelsystem_idi  fuelsystem_mfi  fuelsystem_mpfi  fuelsystem_spdi  \\\n",
              "0               0               0                1                0   \n",
              "1               0               0                1                0   \n",
              "2               0               0                1                0   \n",
              "3               0               0                1                0   \n",
              "4               0               0                1                0   \n",
              "\n",
              "   fuelsystem_spfi  \n",
              "0                0  \n",
              "1                0  \n",
              "2                0  \n",
              "3                0  \n",
              "4                0  \n",
              "\n",
              "[5 rows x 45 columns]"
            ],
            "text/html": [
              "\n",
              "  <div id=\"df-58eb51dc-b9fd-4f1a-ba25-a35d435d4f9c\">\n",
              "    <div class=\"colab-df-container\">\n",
              "      <div>\n",
              "<style scoped>\n",
              "    .dataframe tbody tr th:only-of-type {\n",
              "        vertical-align: middle;\n",
              "    }\n",
              "\n",
              "    .dataframe tbody tr th {\n",
              "        vertical-align: top;\n",
              "    }\n",
              "\n",
              "    .dataframe thead th {\n",
              "        text-align: right;\n",
              "    }\n",
              "</style>\n",
              "<table border=\"1\" class=\"dataframe\">\n",
              "  <thead>\n",
              "    <tr style=\"text-align: right;\">\n",
              "      <th></th>\n",
              "      <th>symboling</th>\n",
              "      <th>doornumber</th>\n",
              "      <th>wheelbase</th>\n",
              "      <th>carlength</th>\n",
              "      <th>carwidth</th>\n",
              "      <th>carheight</th>\n",
              "      <th>curbweight</th>\n",
              "      <th>cylindernumber</th>\n",
              "      <th>enginesize</th>\n",
              "      <th>boreratio</th>\n",
              "      <th>...</th>\n",
              "      <th>enginetype_ohcv</th>\n",
              "      <th>enginetype_rotor</th>\n",
              "      <th>fuelsystem_1bbl</th>\n",
              "      <th>fuelsystem_2bbl</th>\n",
              "      <th>fuelsystem_4bbl</th>\n",
              "      <th>fuelsystem_idi</th>\n",
              "      <th>fuelsystem_mfi</th>\n",
              "      <th>fuelsystem_mpfi</th>\n",
              "      <th>fuelsystem_spdi</th>\n",
              "      <th>fuelsystem_spfi</th>\n",
              "    </tr>\n",
              "  </thead>\n",
              "  <tbody>\n",
              "    <tr>\n",
              "      <th>0</th>\n",
              "      <td>3</td>\n",
              "      <td>2</td>\n",
              "      <td>88.6</td>\n",
              "      <td>168.8</td>\n",
              "      <td>64.1</td>\n",
              "      <td>48.8</td>\n",
              "      <td>2548</td>\n",
              "      <td>4</td>\n",
              "      <td>130</td>\n",
              "      <td>3.47</td>\n",
              "      <td>...</td>\n",
              "      <td>0</td>\n",
              "      <td>0</td>\n",
              "      <td>0</td>\n",
              "      <td>0</td>\n",
              "      <td>0</td>\n",
              "      <td>0</td>\n",
              "      <td>0</td>\n",
              "      <td>1</td>\n",
              "      <td>0</td>\n",
              "      <td>0</td>\n",
              "    </tr>\n",
              "    <tr>\n",
              "      <th>1</th>\n",
              "      <td>3</td>\n",
              "      <td>2</td>\n",
              "      <td>88.6</td>\n",
              "      <td>168.8</td>\n",
              "      <td>64.1</td>\n",
              "      <td>48.8</td>\n",
              "      <td>2548</td>\n",
              "      <td>4</td>\n",
              "      <td>130</td>\n",
              "      <td>3.47</td>\n",
              "      <td>...</td>\n",
              "      <td>0</td>\n",
              "      <td>0</td>\n",
              "      <td>0</td>\n",
              "      <td>0</td>\n",
              "      <td>0</td>\n",
              "      <td>0</td>\n",
              "      <td>0</td>\n",
              "      <td>1</td>\n",
              "      <td>0</td>\n",
              "      <td>0</td>\n",
              "    </tr>\n",
              "    <tr>\n",
              "      <th>2</th>\n",
              "      <td>1</td>\n",
              "      <td>2</td>\n",
              "      <td>94.5</td>\n",
              "      <td>171.2</td>\n",
              "      <td>65.5</td>\n",
              "      <td>52.4</td>\n",
              "      <td>2823</td>\n",
              "      <td>6</td>\n",
              "      <td>152</td>\n",
              "      <td>2.68</td>\n",
              "      <td>...</td>\n",
              "      <td>1</td>\n",
              "      <td>0</td>\n",
              "      <td>0</td>\n",
              "      <td>0</td>\n",
              "      <td>0</td>\n",
              "      <td>0</td>\n",
              "      <td>0</td>\n",
              "      <td>1</td>\n",
              "      <td>0</td>\n",
              "      <td>0</td>\n",
              "    </tr>\n",
              "    <tr>\n",
              "      <th>3</th>\n",
              "      <td>2</td>\n",
              "      <td>4</td>\n",
              "      <td>99.8</td>\n",
              "      <td>176.6</td>\n",
              "      <td>66.2</td>\n",
              "      <td>54.3</td>\n",
              "      <td>2337</td>\n",
              "      <td>4</td>\n",
              "      <td>109</td>\n",
              "      <td>3.19</td>\n",
              "      <td>...</td>\n",
              "      <td>0</td>\n",
              "      <td>0</td>\n",
              "      <td>0</td>\n",
              "      <td>0</td>\n",
              "      <td>0</td>\n",
              "      <td>0</td>\n",
              "      <td>0</td>\n",
              "      <td>1</td>\n",
              "      <td>0</td>\n",
              "      <td>0</td>\n",
              "    </tr>\n",
              "    <tr>\n",
              "      <th>4</th>\n",
              "      <td>2</td>\n",
              "      <td>4</td>\n",
              "      <td>99.4</td>\n",
              "      <td>176.6</td>\n",
              "      <td>66.4</td>\n",
              "      <td>54.3</td>\n",
              "      <td>2824</td>\n",
              "      <td>5</td>\n",
              "      <td>136</td>\n",
              "      <td>3.19</td>\n",
              "      <td>...</td>\n",
              "      <td>0</td>\n",
              "      <td>0</td>\n",
              "      <td>0</td>\n",
              "      <td>0</td>\n",
              "      <td>0</td>\n",
              "      <td>0</td>\n",
              "      <td>0</td>\n",
              "      <td>1</td>\n",
              "      <td>0</td>\n",
              "      <td>0</td>\n",
              "    </tr>\n",
              "  </tbody>\n",
              "</table>\n",
              "<p>5 rows × 45 columns</p>\n",
              "</div>\n",
              "      <button class=\"colab-df-convert\" onclick=\"convertToInteractive('df-58eb51dc-b9fd-4f1a-ba25-a35d435d4f9c')\"\n",
              "              title=\"Convert this dataframe to an interactive table.\"\n",
              "              style=\"display:none;\">\n",
              "        \n",
              "  <svg xmlns=\"http://www.w3.org/2000/svg\" height=\"24px\"viewBox=\"0 0 24 24\"\n",
              "       width=\"24px\">\n",
              "    <path d=\"M0 0h24v24H0V0z\" fill=\"none\"/>\n",
              "    <path d=\"M18.56 5.44l.94 2.06.94-2.06 2.06-.94-2.06-.94-.94-2.06-.94 2.06-2.06.94zm-11 1L8.5 8.5l.94-2.06 2.06-.94-2.06-.94L8.5 2.5l-.94 2.06-2.06.94zm10 10l.94 2.06.94-2.06 2.06-.94-2.06-.94-.94-2.06-.94 2.06-2.06.94z\"/><path d=\"M17.41 7.96l-1.37-1.37c-.4-.4-.92-.59-1.43-.59-.52 0-1.04.2-1.43.59L10.3 9.45l-7.72 7.72c-.78.78-.78 2.05 0 2.83L4 21.41c.39.39.9.59 1.41.59.51 0 1.02-.2 1.41-.59l7.78-7.78 2.81-2.81c.8-.78.8-2.07 0-2.86zM5.41 20L4 18.59l7.72-7.72 1.47 1.35L5.41 20z\"/>\n",
              "  </svg>\n",
              "      </button>\n",
              "      \n",
              "  <style>\n",
              "    .colab-df-container {\n",
              "      display:flex;\n",
              "      flex-wrap:wrap;\n",
              "      gap: 12px;\n",
              "    }\n",
              "\n",
              "    .colab-df-convert {\n",
              "      background-color: #E8F0FE;\n",
              "      border: none;\n",
              "      border-radius: 50%;\n",
              "      cursor: pointer;\n",
              "      display: none;\n",
              "      fill: #1967D2;\n",
              "      height: 32px;\n",
              "      padding: 0 0 0 0;\n",
              "      width: 32px;\n",
              "    }\n",
              "\n",
              "    .colab-df-convert:hover {\n",
              "      background-color: #E2EBFA;\n",
              "      box-shadow: 0px 1px 2px rgba(60, 64, 67, 0.3), 0px 1px 3px 1px rgba(60, 64, 67, 0.15);\n",
              "      fill: #174EA6;\n",
              "    }\n",
              "\n",
              "    [theme=dark] .colab-df-convert {\n",
              "      background-color: #3B4455;\n",
              "      fill: #D2E3FC;\n",
              "    }\n",
              "\n",
              "    [theme=dark] .colab-df-convert:hover {\n",
              "      background-color: #434B5C;\n",
              "      box-shadow: 0px 1px 3px 1px rgba(0, 0, 0, 0.15);\n",
              "      filter: drop-shadow(0px 1px 2px rgba(0, 0, 0, 0.3));\n",
              "      fill: #FFFFFF;\n",
              "    }\n",
              "  </style>\n",
              "\n",
              "      <script>\n",
              "        const buttonEl =\n",
              "          document.querySelector('#df-58eb51dc-b9fd-4f1a-ba25-a35d435d4f9c button.colab-df-convert');\n",
              "        buttonEl.style.display =\n",
              "          google.colab.kernel.accessAllowed ? 'block' : 'none';\n",
              "\n",
              "        async function convertToInteractive(key) {\n",
              "          const element = document.querySelector('#df-58eb51dc-b9fd-4f1a-ba25-a35d435d4f9c');\n",
              "          const dataTable =\n",
              "            await google.colab.kernel.invokeFunction('convertToInteractive',\n",
              "                                                     [key], {});\n",
              "          if (!dataTable) return;\n",
              "\n",
              "          const docLinkHtml = 'Like what you see? Visit the ' +\n",
              "            '<a target=\"_blank\" href=https://colab.research.google.com/notebooks/data_table.ipynb>data table notebook</a>'\n",
              "            + ' to learn more about interactive tables.';\n",
              "          element.innerHTML = '';\n",
              "          dataTable['output_type'] = 'display_data';\n",
              "          await google.colab.output.renderOutput(dataTable, element);\n",
              "          const docLink = document.createElement('div');\n",
              "          docLink.innerHTML = docLinkHtml;\n",
              "          element.appendChild(docLink);\n",
              "        }\n",
              "      </script>\n",
              "    </div>\n",
              "  </div>\n",
              "  "
            ]
          },
          "metadata": {},
          "execution_count": 120
        }
      ]
    },
    {
      "cell_type": "code",
      "source": [
        "from sklearn.preprocessing import StandardScaler, MinMaxScaler\n",
        "\n",
        "# scaler = StandardScaler()\n",
        "scaler = MinMaxScaler()\n",
        "X = scaler.fit_transform(X_df)\n",
        "pd.DataFrame(X,columns=X_df.columns)  # Sólo para visualizar los datos"
      ],
      "metadata": {
        "colab": {
          "base_uri": "https://localhost:8080/",
          "height": 488
        },
        "id": "0CrfyH9OY9vL",
        "outputId": "912088c9-b7b8-4370-c00a-04304260ea4f"
      },
      "execution_count": null,
      "outputs": [
        {
          "output_type": "execute_result",
          "data": {
            "text/plain": [
              "     symboling  doornumber  wheelbase  carlength  carwidth  carheight  \\\n",
              "0          1.0         0.0   0.058309   0.413433  0.316667   0.083333   \n",
              "1          1.0         0.0   0.058309   0.413433  0.316667   0.083333   \n",
              "2          0.6         0.0   0.230321   0.449254  0.433333   0.383333   \n",
              "3          0.8         1.0   0.384840   0.529851  0.491667   0.541667   \n",
              "4          0.8         1.0   0.373178   0.529851  0.508333   0.541667   \n",
              "..         ...         ...        ...        ...       ...        ...   \n",
              "200        0.2         1.0   0.655977   0.711940  0.716667   0.641667   \n",
              "201        0.2         1.0   0.655977   0.711940  0.708333   0.641667   \n",
              "202        0.2         1.0   0.655977   0.711940  0.716667   0.641667   \n",
              "203        0.2         1.0   0.655977   0.711940  0.716667   0.641667   \n",
              "204        0.2         1.0   0.655977   0.711940  0.716667   0.641667   \n",
              "\n",
              "     curbweight  cylindernumber  enginesize  boreratio  ...  enginetype_ohcv  \\\n",
              "0      0.411171             0.2    0.260377   0.664286  ...              0.0   \n",
              "1      0.411171             0.2    0.260377   0.664286  ...              0.0   \n",
              "2      0.517843             0.4    0.343396   0.100000  ...              1.0   \n",
              "3      0.329325             0.2    0.181132   0.464286  ...              0.0   \n",
              "4      0.518231             0.3    0.283019   0.464286  ...              0.0   \n",
              "..          ...             ...         ...        ...  ...              ...   \n",
              "200    0.567882             0.2    0.301887   0.885714  ...              0.0   \n",
              "201    0.605508             0.2    0.301887   0.885714  ...              0.0   \n",
              "202    0.591156             0.4    0.422642   0.742857  ...              1.0   \n",
              "203    0.670675             0.4    0.316981   0.335714  ...              0.0   \n",
              "204    0.610551             0.2    0.301887   0.885714  ...              0.0   \n",
              "\n",
              "     enginetype_rotor  fuelsystem_1bbl  fuelsystem_2bbl  fuelsystem_4bbl  \\\n",
              "0                 0.0              0.0              0.0              0.0   \n",
              "1                 0.0              0.0              0.0              0.0   \n",
              "2                 0.0              0.0              0.0              0.0   \n",
              "3                 0.0              0.0              0.0              0.0   \n",
              "4                 0.0              0.0              0.0              0.0   \n",
              "..                ...              ...              ...              ...   \n",
              "200               0.0              0.0              0.0              0.0   \n",
              "201               0.0              0.0              0.0              0.0   \n",
              "202               0.0              0.0              0.0              0.0   \n",
              "203               0.0              0.0              0.0              0.0   \n",
              "204               0.0              0.0              0.0              0.0   \n",
              "\n",
              "     fuelsystem_idi  fuelsystem_mfi  fuelsystem_mpfi  fuelsystem_spdi  \\\n",
              "0               0.0             0.0              1.0              0.0   \n",
              "1               0.0             0.0              1.0              0.0   \n",
              "2               0.0             0.0              1.0              0.0   \n",
              "3               0.0             0.0              1.0              0.0   \n",
              "4               0.0             0.0              1.0              0.0   \n",
              "..              ...             ...              ...              ...   \n",
              "200             0.0             0.0              1.0              0.0   \n",
              "201             0.0             0.0              1.0              0.0   \n",
              "202             0.0             0.0              1.0              0.0   \n",
              "203             1.0             0.0              0.0              0.0   \n",
              "204             0.0             0.0              1.0              0.0   \n",
              "\n",
              "     fuelsystem_spfi  \n",
              "0                0.0  \n",
              "1                0.0  \n",
              "2                0.0  \n",
              "3                0.0  \n",
              "4                0.0  \n",
              "..               ...  \n",
              "200              0.0  \n",
              "201              0.0  \n",
              "202              0.0  \n",
              "203              0.0  \n",
              "204              0.0  \n",
              "\n",
              "[205 rows x 45 columns]"
            ],
            "text/html": [
              "\n",
              "  <div id=\"df-9afc47e2-dec8-433b-811e-eeaf50e2adde\">\n",
              "    <div class=\"colab-df-container\">\n",
              "      <div>\n",
              "<style scoped>\n",
              "    .dataframe tbody tr th:only-of-type {\n",
              "        vertical-align: middle;\n",
              "    }\n",
              "\n",
              "    .dataframe tbody tr th {\n",
              "        vertical-align: top;\n",
              "    }\n",
              "\n",
              "    .dataframe thead th {\n",
              "        text-align: right;\n",
              "    }\n",
              "</style>\n",
              "<table border=\"1\" class=\"dataframe\">\n",
              "  <thead>\n",
              "    <tr style=\"text-align: right;\">\n",
              "      <th></th>\n",
              "      <th>symboling</th>\n",
              "      <th>doornumber</th>\n",
              "      <th>wheelbase</th>\n",
              "      <th>carlength</th>\n",
              "      <th>carwidth</th>\n",
              "      <th>carheight</th>\n",
              "      <th>curbweight</th>\n",
              "      <th>cylindernumber</th>\n",
              "      <th>enginesize</th>\n",
              "      <th>boreratio</th>\n",
              "      <th>...</th>\n",
              "      <th>enginetype_ohcv</th>\n",
              "      <th>enginetype_rotor</th>\n",
              "      <th>fuelsystem_1bbl</th>\n",
              "      <th>fuelsystem_2bbl</th>\n",
              "      <th>fuelsystem_4bbl</th>\n",
              "      <th>fuelsystem_idi</th>\n",
              "      <th>fuelsystem_mfi</th>\n",
              "      <th>fuelsystem_mpfi</th>\n",
              "      <th>fuelsystem_spdi</th>\n",
              "      <th>fuelsystem_spfi</th>\n",
              "    </tr>\n",
              "  </thead>\n",
              "  <tbody>\n",
              "    <tr>\n",
              "      <th>0</th>\n",
              "      <td>1.0</td>\n",
              "      <td>0.0</td>\n",
              "      <td>0.058309</td>\n",
              "      <td>0.413433</td>\n",
              "      <td>0.316667</td>\n",
              "      <td>0.083333</td>\n",
              "      <td>0.411171</td>\n",
              "      <td>0.2</td>\n",
              "      <td>0.260377</td>\n",
              "      <td>0.664286</td>\n",
              "      <td>...</td>\n",
              "      <td>0.0</td>\n",
              "      <td>0.0</td>\n",
              "      <td>0.0</td>\n",
              "      <td>0.0</td>\n",
              "      <td>0.0</td>\n",
              "      <td>0.0</td>\n",
              "      <td>0.0</td>\n",
              "      <td>1.0</td>\n",
              "      <td>0.0</td>\n",
              "      <td>0.0</td>\n",
              "    </tr>\n",
              "    <tr>\n",
              "      <th>1</th>\n",
              "      <td>1.0</td>\n",
              "      <td>0.0</td>\n",
              "      <td>0.058309</td>\n",
              "      <td>0.413433</td>\n",
              "      <td>0.316667</td>\n",
              "      <td>0.083333</td>\n",
              "      <td>0.411171</td>\n",
              "      <td>0.2</td>\n",
              "      <td>0.260377</td>\n",
              "      <td>0.664286</td>\n",
              "      <td>...</td>\n",
              "      <td>0.0</td>\n",
              "      <td>0.0</td>\n",
              "      <td>0.0</td>\n",
              "      <td>0.0</td>\n",
              "      <td>0.0</td>\n",
              "      <td>0.0</td>\n",
              "      <td>0.0</td>\n",
              "      <td>1.0</td>\n",
              "      <td>0.0</td>\n",
              "      <td>0.0</td>\n",
              "    </tr>\n",
              "    <tr>\n",
              "      <th>2</th>\n",
              "      <td>0.6</td>\n",
              "      <td>0.0</td>\n",
              "      <td>0.230321</td>\n",
              "      <td>0.449254</td>\n",
              "      <td>0.433333</td>\n",
              "      <td>0.383333</td>\n",
              "      <td>0.517843</td>\n",
              "      <td>0.4</td>\n",
              "      <td>0.343396</td>\n",
              "      <td>0.100000</td>\n",
              "      <td>...</td>\n",
              "      <td>1.0</td>\n",
              "      <td>0.0</td>\n",
              "      <td>0.0</td>\n",
              "      <td>0.0</td>\n",
              "      <td>0.0</td>\n",
              "      <td>0.0</td>\n",
              "      <td>0.0</td>\n",
              "      <td>1.0</td>\n",
              "      <td>0.0</td>\n",
              "      <td>0.0</td>\n",
              "    </tr>\n",
              "    <tr>\n",
              "      <th>3</th>\n",
              "      <td>0.8</td>\n",
              "      <td>1.0</td>\n",
              "      <td>0.384840</td>\n",
              "      <td>0.529851</td>\n",
              "      <td>0.491667</td>\n",
              "      <td>0.541667</td>\n",
              "      <td>0.329325</td>\n",
              "      <td>0.2</td>\n",
              "      <td>0.181132</td>\n",
              "      <td>0.464286</td>\n",
              "      <td>...</td>\n",
              "      <td>0.0</td>\n",
              "      <td>0.0</td>\n",
              "      <td>0.0</td>\n",
              "      <td>0.0</td>\n",
              "      <td>0.0</td>\n",
              "      <td>0.0</td>\n",
              "      <td>0.0</td>\n",
              "      <td>1.0</td>\n",
              "      <td>0.0</td>\n",
              "      <td>0.0</td>\n",
              "    </tr>\n",
              "    <tr>\n",
              "      <th>4</th>\n",
              "      <td>0.8</td>\n",
              "      <td>1.0</td>\n",
              "      <td>0.373178</td>\n",
              "      <td>0.529851</td>\n",
              "      <td>0.508333</td>\n",
              "      <td>0.541667</td>\n",
              "      <td>0.518231</td>\n",
              "      <td>0.3</td>\n",
              "      <td>0.283019</td>\n",
              "      <td>0.464286</td>\n",
              "      <td>...</td>\n",
              "      <td>0.0</td>\n",
              "      <td>0.0</td>\n",
              "      <td>0.0</td>\n",
              "      <td>0.0</td>\n",
              "      <td>0.0</td>\n",
              "      <td>0.0</td>\n",
              "      <td>0.0</td>\n",
              "      <td>1.0</td>\n",
              "      <td>0.0</td>\n",
              "      <td>0.0</td>\n",
              "    </tr>\n",
              "    <tr>\n",
              "      <th>...</th>\n",
              "      <td>...</td>\n",
              "      <td>...</td>\n",
              "      <td>...</td>\n",
              "      <td>...</td>\n",
              "      <td>...</td>\n",
              "      <td>...</td>\n",
              "      <td>...</td>\n",
              "      <td>...</td>\n",
              "      <td>...</td>\n",
              "      <td>...</td>\n",
              "      <td>...</td>\n",
              "      <td>...</td>\n",
              "      <td>...</td>\n",
              "      <td>...</td>\n",
              "      <td>...</td>\n",
              "      <td>...</td>\n",
              "      <td>...</td>\n",
              "      <td>...</td>\n",
              "      <td>...</td>\n",
              "      <td>...</td>\n",
              "      <td>...</td>\n",
              "    </tr>\n",
              "    <tr>\n",
              "      <th>200</th>\n",
              "      <td>0.2</td>\n",
              "      <td>1.0</td>\n",
              "      <td>0.655977</td>\n",
              "      <td>0.711940</td>\n",
              "      <td>0.716667</td>\n",
              "      <td>0.641667</td>\n",
              "      <td>0.567882</td>\n",
              "      <td>0.2</td>\n",
              "      <td>0.301887</td>\n",
              "      <td>0.885714</td>\n",
              "      <td>...</td>\n",
              "      <td>0.0</td>\n",
              "      <td>0.0</td>\n",
              "      <td>0.0</td>\n",
              "      <td>0.0</td>\n",
              "      <td>0.0</td>\n",
              "      <td>0.0</td>\n",
              "      <td>0.0</td>\n",
              "      <td>1.0</td>\n",
              "      <td>0.0</td>\n",
              "      <td>0.0</td>\n",
              "    </tr>\n",
              "    <tr>\n",
              "      <th>201</th>\n",
              "      <td>0.2</td>\n",
              "      <td>1.0</td>\n",
              "      <td>0.655977</td>\n",
              "      <td>0.711940</td>\n",
              "      <td>0.708333</td>\n",
              "      <td>0.641667</td>\n",
              "      <td>0.605508</td>\n",
              "      <td>0.2</td>\n",
              "      <td>0.301887</td>\n",
              "      <td>0.885714</td>\n",
              "      <td>...</td>\n",
              "      <td>0.0</td>\n",
              "      <td>0.0</td>\n",
              "      <td>0.0</td>\n",
              "      <td>0.0</td>\n",
              "      <td>0.0</td>\n",
              "      <td>0.0</td>\n",
              "      <td>0.0</td>\n",
              "      <td>1.0</td>\n",
              "      <td>0.0</td>\n",
              "      <td>0.0</td>\n",
              "    </tr>\n",
              "    <tr>\n",
              "      <th>202</th>\n",
              "      <td>0.2</td>\n",
              "      <td>1.0</td>\n",
              "      <td>0.655977</td>\n",
              "      <td>0.711940</td>\n",
              "      <td>0.716667</td>\n",
              "      <td>0.641667</td>\n",
              "      <td>0.591156</td>\n",
              "      <td>0.4</td>\n",
              "      <td>0.422642</td>\n",
              "      <td>0.742857</td>\n",
              "      <td>...</td>\n",
              "      <td>1.0</td>\n",
              "      <td>0.0</td>\n",
              "      <td>0.0</td>\n",
              "      <td>0.0</td>\n",
              "      <td>0.0</td>\n",
              "      <td>0.0</td>\n",
              "      <td>0.0</td>\n",
              "      <td>1.0</td>\n",
              "      <td>0.0</td>\n",
              "      <td>0.0</td>\n",
              "    </tr>\n",
              "    <tr>\n",
              "      <th>203</th>\n",
              "      <td>0.2</td>\n",
              "      <td>1.0</td>\n",
              "      <td>0.655977</td>\n",
              "      <td>0.711940</td>\n",
              "      <td>0.716667</td>\n",
              "      <td>0.641667</td>\n",
              "      <td>0.670675</td>\n",
              "      <td>0.4</td>\n",
              "      <td>0.316981</td>\n",
              "      <td>0.335714</td>\n",
              "      <td>...</td>\n",
              "      <td>0.0</td>\n",
              "      <td>0.0</td>\n",
              "      <td>0.0</td>\n",
              "      <td>0.0</td>\n",
              "      <td>0.0</td>\n",
              "      <td>1.0</td>\n",
              "      <td>0.0</td>\n",
              "      <td>0.0</td>\n",
              "      <td>0.0</td>\n",
              "      <td>0.0</td>\n",
              "    </tr>\n",
              "    <tr>\n",
              "      <th>204</th>\n",
              "      <td>0.2</td>\n",
              "      <td>1.0</td>\n",
              "      <td>0.655977</td>\n",
              "      <td>0.711940</td>\n",
              "      <td>0.716667</td>\n",
              "      <td>0.641667</td>\n",
              "      <td>0.610551</td>\n",
              "      <td>0.2</td>\n",
              "      <td>0.301887</td>\n",
              "      <td>0.885714</td>\n",
              "      <td>...</td>\n",
              "      <td>0.0</td>\n",
              "      <td>0.0</td>\n",
              "      <td>0.0</td>\n",
              "      <td>0.0</td>\n",
              "      <td>0.0</td>\n",
              "      <td>0.0</td>\n",
              "      <td>0.0</td>\n",
              "      <td>1.0</td>\n",
              "      <td>0.0</td>\n",
              "      <td>0.0</td>\n",
              "    </tr>\n",
              "  </tbody>\n",
              "</table>\n",
              "<p>205 rows × 45 columns</p>\n",
              "</div>\n",
              "      <button class=\"colab-df-convert\" onclick=\"convertToInteractive('df-9afc47e2-dec8-433b-811e-eeaf50e2adde')\"\n",
              "              title=\"Convert this dataframe to an interactive table.\"\n",
              "              style=\"display:none;\">\n",
              "        \n",
              "  <svg xmlns=\"http://www.w3.org/2000/svg\" height=\"24px\"viewBox=\"0 0 24 24\"\n",
              "       width=\"24px\">\n",
              "    <path d=\"M0 0h24v24H0V0z\" fill=\"none\"/>\n",
              "    <path d=\"M18.56 5.44l.94 2.06.94-2.06 2.06-.94-2.06-.94-.94-2.06-.94 2.06-2.06.94zm-11 1L8.5 8.5l.94-2.06 2.06-.94-2.06-.94L8.5 2.5l-.94 2.06-2.06.94zm10 10l.94 2.06.94-2.06 2.06-.94-2.06-.94-.94-2.06-.94 2.06-2.06.94z\"/><path d=\"M17.41 7.96l-1.37-1.37c-.4-.4-.92-.59-1.43-.59-.52 0-1.04.2-1.43.59L10.3 9.45l-7.72 7.72c-.78.78-.78 2.05 0 2.83L4 21.41c.39.39.9.59 1.41.59.51 0 1.02-.2 1.41-.59l7.78-7.78 2.81-2.81c.8-.78.8-2.07 0-2.86zM5.41 20L4 18.59l7.72-7.72 1.47 1.35L5.41 20z\"/>\n",
              "  </svg>\n",
              "      </button>\n",
              "      \n",
              "  <style>\n",
              "    .colab-df-container {\n",
              "      display:flex;\n",
              "      flex-wrap:wrap;\n",
              "      gap: 12px;\n",
              "    }\n",
              "\n",
              "    .colab-df-convert {\n",
              "      background-color: #E8F0FE;\n",
              "      border: none;\n",
              "      border-radius: 50%;\n",
              "      cursor: pointer;\n",
              "      display: none;\n",
              "      fill: #1967D2;\n",
              "      height: 32px;\n",
              "      padding: 0 0 0 0;\n",
              "      width: 32px;\n",
              "    }\n",
              "\n",
              "    .colab-df-convert:hover {\n",
              "      background-color: #E2EBFA;\n",
              "      box-shadow: 0px 1px 2px rgba(60, 64, 67, 0.3), 0px 1px 3px 1px rgba(60, 64, 67, 0.15);\n",
              "      fill: #174EA6;\n",
              "    }\n",
              "\n",
              "    [theme=dark] .colab-df-convert {\n",
              "      background-color: #3B4455;\n",
              "      fill: #D2E3FC;\n",
              "    }\n",
              "\n",
              "    [theme=dark] .colab-df-convert:hover {\n",
              "      background-color: #434B5C;\n",
              "      box-shadow: 0px 1px 3px 1px rgba(0, 0, 0, 0.15);\n",
              "      filter: drop-shadow(0px 1px 2px rgba(0, 0, 0, 0.3));\n",
              "      fill: #FFFFFF;\n",
              "    }\n",
              "  </style>\n",
              "\n",
              "      <script>\n",
              "        const buttonEl =\n",
              "          document.querySelector('#df-9afc47e2-dec8-433b-811e-eeaf50e2adde button.colab-df-convert');\n",
              "        buttonEl.style.display =\n",
              "          google.colab.kernel.accessAllowed ? 'block' : 'none';\n",
              "\n",
              "        async function convertToInteractive(key) {\n",
              "          const element = document.querySelector('#df-9afc47e2-dec8-433b-811e-eeaf50e2adde');\n",
              "          const dataTable =\n",
              "            await google.colab.kernel.invokeFunction('convertToInteractive',\n",
              "                                                     [key], {});\n",
              "          if (!dataTable) return;\n",
              "\n",
              "          const docLinkHtml = 'Like what you see? Visit the ' +\n",
              "            '<a target=\"_blank\" href=https://colab.research.google.com/notebooks/data_table.ipynb>data table notebook</a>'\n",
              "            + ' to learn more about interactive tables.';\n",
              "          element.innerHTML = '';\n",
              "          dataTable['output_type'] = 'display_data';\n",
              "          await google.colab.output.renderOutput(dataTable, element);\n",
              "          const docLink = document.createElement('div');\n",
              "          docLink.innerHTML = docLinkHtml;\n",
              "          element.appendChild(docLink);\n",
              "        }\n",
              "      </script>\n",
              "    </div>\n",
              "  </div>\n",
              "  "
            ]
          },
          "metadata": {},
          "execution_count": 121
        }
      ]
    },
    {
      "cell_type": "code",
      "source": [
        "from sklearn.model_selection import train_test_split\n",
        "\n",
        "X_train, X_test, y_train, y_test = train_test_split(X,y, train_size=0.75, random_state=4595) \n",
        "\n",
        "print(f\"Entrenamiento: {X_train.shape,y_train.shape}\")\n",
        "print(f\"Prueba: {X_test.shape,y_test.shape}\")"
      ],
      "metadata": {
        "colab": {
          "base_uri": "https://localhost:8080/"
        },
        "id": "A6TBsAmGZBnY",
        "outputId": "0fc4b15a-d518-47e0-a09c-745eb052f4f8"
      },
      "execution_count": null,
      "outputs": [
        {
          "output_type": "stream",
          "name": "stdout",
          "text": [
            "Entrenamiento: ((153, 45), (153,))\n",
            "Prueba: ((52, 45), (52,))\n"
          ]
        }
      ]
    },
    {
      "cell_type": "code",
      "source": [
        "from sklearn.linear_model import Ridge\n",
        "\n",
        "lr = Ridge(alpha=2)\n",
        "lr.fit(X_train,y_train)\n",
        "\n",
        "print(f\"Entrenamiento: {lr.score(X_train,y_train)}\")\n",
        "print(f\"Prueba: {lr.score(X_test,y_test)}\")"
      ],
      "metadata": {
        "colab": {
          "base_uri": "https://localhost:8080/"
        },
        "id": "eUCybDwIZIFF",
        "outputId": "e7a89592-bf88-4440-e6e4-14f34cdf7c2d"
      },
      "execution_count": null,
      "outputs": [
        {
          "output_type": "stream",
          "name": "stdout",
          "text": [
            "Entrenamiento: 0.8830364016598058\n",
            "Prueba: 0.8144370587719083\n"
          ]
        }
      ]
    },
    {
      "cell_type": "code",
      "source": [
        "columns = X_df.columns.to_list()\n",
        "coefs_dict = dict(zip(columns,lr.coef_))\n",
        "dict(sorted(coefs_dict.items(),key=lambda x:x[1],reverse=True))"
      ],
      "metadata": {
        "colab": {
          "base_uri": "https://localhost:8080/"
        },
        "id": "CpZKP4WsZiZr",
        "outputId": "3e03edf1-e944-4da9-f122-e23e8693b67d"
      },
      "execution_count": null,
      "outputs": [
        {
          "output_type": "execute_result",
          "data": {
            "text/plain": [
              "{'enginesize': 6430.5687848423195,\n",
              " 'horsepower': 6360.05273153488,\n",
              " 'curbweight': 5989.951749873892,\n",
              " 'cylindernumber': 5720.791213962642,\n",
              " 'carwidth': 5237.397846284262,\n",
              " 'enginelocation_rear': 4316.19553812702,\n",
              " 'carbody_convertible': 2685.114984358782,\n",
              " 'wheelbase': 2214.094736769999,\n",
              " 'drivewheel_rwd': 1952.1094318389123,\n",
              " 'enginetype_dohcv': 1202.1714885298577,\n",
              " 'carlength': 1161.607606260188,\n",
              " 'symboling': 1152.1307451443174,\n",
              " 'peakrpm': 1053.2744505476976,\n",
              " 'carheight': 919.0458465798479,\n",
              " 'enginetype_rotor': 832.5798128553773,\n",
              " 'enginetype_ohcf': 781.455092275552,\n",
              " 'fuelsystem_1bbl': 631.9128367459502,\n",
              " 'fuelsystem_idi': 611.9523763713415,\n",
              " 'fueltype_diesel': 611.9523763713385,\n",
              " 'fuelsystem_mpfi': 594.6380829846324,\n",
              " 'aspiration_turbo': 461.4059221370489,\n",
              " 'fuelsystem_2bbl': 387.0887150197111,\n",
              " 'enginetype_ohc': 351.12656517971254,\n",
              " 'compressionratio': 269.9238841878662,\n",
              " 'enginetype_ohcv': 224.90265028830333,\n",
              " 'carbody_sedan': 172.73311734527312,\n",
              " 'doornumber': 139.96173449082417,\n",
              " 'fuelsystem_4bbl': 63.58570288742909,\n",
              " 'fuelsystem_mfi': -434.23156730553643,\n",
              " 'aspiration_std': -461.4059221370503,\n",
              " 'carbody_hardtop': -521.8310265467089,\n",
              " 'fueltype_gas': -611.9523763713416,\n",
              " 'fuelsystem_spfi': -674.5468758657719,\n",
              " 'carbody_hatchback': -700.6862311757731,\n",
              " 'enginetype_dohc': -700.932592276858,\n",
              " 'stroke': -917.6489596998812,\n",
              " 'drivewheel_fwd': -965.5654805989457,\n",
              " 'drivewheel_4wd': -986.5439512400291,\n",
              " 'boreratio': -1061.1916049262134,\n",
              " 'fuelsystem_spdi': -1180.3992708376923,\n",
              " 'carbody_wagon': -1635.3308439816683,\n",
              " 'highwaympg': -1658.0174215893505,\n",
              " 'citympg': -1970.4009478882801,\n",
              " 'enginetype_l': -2691.3030168519363,\n",
              " 'enginelocation_front': -4316.195538127022}"
            ]
          },
          "metadata": {},
          "execution_count": 124
        }
      ]
    },
    {
      "cell_type": "markdown",
      "source": [
        "¿Qué efecto tiene el parámetro $\\alpha$ sobre la magnitud de los coeficientes?"
      ],
      "metadata": {
        "id": "9JJ4lL1edsC4"
      }
    },
    {
      "cell_type": "code",
      "source": [
        "import matplotlib.pyplot as plt\n",
        "\n",
        "alphas = np.logspace(-12,0,num=10)\n",
        "normas = []\n",
        "\n",
        "for alpha in alphas:\n",
        "    lr = Ridge(alpha=alpha)\n",
        "    lr.fit(X_train,y_train)\n",
        "    normas.append(np.mean(np.abs(lr.coef_)))\n",
        "\n",
        "plt.figure()\n",
        "plt.plot(alphas,normas)\n",
        "plt.xlabel(\"alpha\")\n",
        "plt.ylabel(\"Norma promedio\")\n",
        "plt.show()"
      ],
      "metadata": {
        "colab": {
          "base_uri": "https://localhost:8080/",
          "height": 449
        },
        "id": "0kgxYigjdrlQ",
        "outputId": "9ef868d1-174d-4d93-dcac-fcfd72e2e0e5"
      },
      "execution_count": null,
      "outputs": [
        {
          "output_type": "display_data",
          "data": {
            "text/plain": [
              "<Figure size 640x480 with 1 Axes>"
            ],
            "image/png": "[encoded data removed]"
          },
          "metadata": {}
        }
      ]
    },
    {
      "cell_type": "markdown",
      "source": [
        "¿Qué efecto tiene el parámetro $\\alpha$ en el score?"
      ],
      "metadata": {
        "id": "jZo0bkkRbFkF"
      }
    },
    {
      "cell_type": "code",
      "source": [
        "import matplotlib.pyplot as plt\n",
        "\n",
        "alphas = np.logspace(-12,0,num=10)\n",
        "train_scores = []\n",
        "test_scores = []\n",
        "\n",
        "for alpha in alphas:\n",
        "    lr = Ridge(alpha=alpha)\n",
        "    lr.fit(X_train,y_train)\n",
        "    train_scores.append(lr.score(X_train,y_train))\n",
        "    test_scores.append(lr.score(X_test,y_test))\n",
        "\n",
        "plt.figure()\n",
        "plt.plot(alphas,train_scores,label=\"Train\")\n",
        "plt.plot(alphas,test_scores,label=\"Test\")\n",
        "plt.xlabel(\"alpha\")\n",
        "plt.ylabel(\"score\")\n",
        "plt.legend()\n",
        "plt.show()"
      ],
      "metadata": {
        "colab": {
          "base_uri": "https://localhost:8080/",
          "height": 449
        },
        "id": "jaAojk0VZ56J",
        "outputId": "8a67e72d-3a20-4eb2-b78f-7063f9c149b1"
      },
      "execution_count": null,
      "outputs": [
        {
          "output_type": "display_data",
          "data": {
            "text/plain": [
              "<Figure size 640x480 with 1 Axes>"
            ],
            "image/png": "[encoded data removed]"
          },
          "metadata": {}
        }
      ]
    },
    {
      "cell_type": "markdown",
      "source": [
        "Como podemos ver, en este ejemplo concreto, la regularización no beneficia al problema en cuestión de la métrica de rendimiento."
      ],
      "metadata": {
        "id": "rdKwtizBchJe"
      }
    },
    {
      "cell_type": "markdown",
      "source": [
        "#⭕ Ejercicio\n",
        "\n",
        "Usaremos un dataset sobre publicidad. Este dataset consta de 200 registros, cada registro consta de las variables.\n",
        "\n",
        "* TV: dólares de publicidad gastados en TV para un solo producto en un mercado determinado (en miles de dólares)\n",
        "* Radio: inversión publicitaria en radio\n",
        "* Newspaper: inversión publicitaria en periódicos\n",
        "* Sales: ventas de un solo producto en un mercado determinado (en miles de unidades).\n"
      ],
      "metadata": {
        "id": "apVBBVhOTnnw"
      }
    },
    {
      "cell_type": "code",
      "source": [
        "import pandas as pd\n",
        "\n",
        "url = 'https://github.com/DCDPUAEM/DCDP/raw/main/02-Machine-Learning/data/advertising.csv'\n",
        "df = pd.read_csv(url,index_col=0)\n",
        "df"
      ],
      "metadata": {
        "id": "qeCumkNlT_ds"
      },
      "execution_count": null,
      "outputs": []
    },
    {
      "cell_type": "code",
      "source": [
        "import seaborn as sns\n",
        "import matplotlib.pyplot as plt\n",
        "\n",
        "sns.pairplot(df, x_vars=['TV','Radio','Newspaper'], y_vars='Sales', height=5, aspect=1, kind='reg')\n",
        "plt.show()"
      ],
      "metadata": {
        "id": "4jD08YrJ4hWr"
      },
      "execution_count": null,
      "outputs": []
    },
    {
      "cell_type": "markdown",
      "source": [
        "Entrenar un modelo de regresión lineal usando el 85% de las instancias, separar el resto para prueba. Reportar la métrica de rendimiento en las predicciones con el conjunto de prueba.\n",
        "\n",
        "Considera las siguientes situaciones en el preprocesamiento:\n",
        "\n",
        "* ¿Hay valores faltantes?\n",
        "* ¿Cuál es el rango de las 3 variables?\n",
        "* ¿Hay alguna variable que consideres que no es muy relevante?\n",
        "* Realiza la técnica de normalización que consideres necesario.\n",
        "\n",
        "¿Cuál es el menor MAE que puedes obtener en el conjunto de prueba? Junto con este número, reporta los parámetros y la combinación de técnicas que usaste.\n",
        "\n",
        "\n",
        "\n"
      ],
      "metadata": {
        "id": "BqNvUwqQ9O9e"
      }
    },
    {
      "cell_type": "code",
      "source": [],
      "metadata": {
        "id": "uyxln7Cd8ltU"
      },
      "execution_count": null,
      "outputs": []
    }
  ]
}