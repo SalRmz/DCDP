{
  "nbformat": 4,
  "nbformat_minor": 0,
  "metadata": {
    "colab": {
      "provenance": []
    },
    "kernelspec": {
      "name": "python3",
      "display_name": "Python 3"
    },
    "language_info": {
      "name": "python"
    }
  },
  "cells": [
    {
      "cell_type": "markdown",
      "source": [
        "<a href=\"https://colab.research.google.com/github/DCDPUAEM/DCDP/blob/main/02-Machine-Learning/notebooks/02-ScikitLearn.ipynb\" target=\"_parent\"><img src=\"https://colab.research.google.com/assets/colab-badge.svg\" alt=\"Open In Colab\"/></a>"
      ],
      "metadata": {
        "id": "gblJy448RCNz"
      }
    },
    {
      "cell_type": "markdown",
      "source": [
        "# Introducción a Scikit Learn\n",
        "\n",
        "\n",
        "![](https://upload.wikimedia.org/wikipedia/commons/thumb/5/54/Scikit_learn_logo.svg/621px-Scikit_learn_logo.svg.png)\n",
        "\n",
        "En esta notebook se da una pequeña introducción al módulo Scikit Learn con la finalidad de familiarizarse con la mecánica de su funcionamiento."
      ],
      "metadata": {
        "id": "OJWOSC2UDz8D"
      }
    },
    {
      "cell_type": "markdown",
      "source": [
        "En general, un problema de Machine Learning considera un conjunto de $n$ muestras de datos y, con ellos, se intenta predecir propiedades de datos desconocidos. Si cada muestra consiste de más de un único número, se dice que tiene varios atributos o características.\n",
        "\n",
        "Consideraremos un ejemplo de clasificación para ilustrar el funcionamiento general de las herramientas y estimadores de Scikit-Learn. "
      ],
      "metadata": {
        "id": "sumDKCRxD5AY"
      }
    },
    {
      "cell_type": "markdown",
      "source": [
        "## El conjunto de datos\n",
        "\n",
        "Consideraremos el dataset de dígitos, en este la tarea consiste en predecir, dada una imagen, qué dígito representa. Se nos dan muestras de cada una de las 10 clases posibles (los dígitos del cero al nueve) sobre las que ajustamos un estimador para poder predecir las clases a las que pertenecen las muestras no vistas."
      ],
      "metadata": {
        "id": "QE679GkHPTxn"
      }
    },
    {
      "cell_type": "code",
      "execution_count": 45,
      "metadata": {
        "id": "RbVILVY-8tK0"
      },
      "outputs": [],
      "source": [
        "from sklearn import datasets\n",
        "\n",
        "digits = datasets.load_digits()"
      ]
    },
    {
      "cell_type": "markdown",
      "source": [
        "Este dataset contiene 1794 imágenes de $8\\times 8$, cada imagen es un dígito escrito a mano.  "
      ],
      "metadata": {
        "id": "MtV8OhzbLfWY"
      }
    },
    {
      "cell_type": "code",
      "source": [
        "digits.data.shape"
      ],
      "metadata": {
        "colab": {
          "base_uri": "https://localhost:8080/"
        },
        "id": "g-1S7E-jJTJR",
        "outputId": "2fe300a9-5f5b-4449-f5ca-e97cbb0fabe1"
      },
      "execution_count": 11,
      "outputs": [
        {
          "output_type": "execute_result",
          "data": {
            "text/plain": [
              "(1797, 64)"
            ]
          },
          "metadata": {},
          "execution_count": 11
        }
      ]
    },
    {
      "cell_type": "code",
      "source": [
        "digits.data[0]"
      ],
      "metadata": {
        "colab": {
          "base_uri": "https://localhost:8080/"
        },
        "id": "e170VIB7LX_S",
        "outputId": "6335e516-8c47-44cf-be0f-859257499ccf"
      },
      "execution_count": 12,
      "outputs": [
        {
          "output_type": "execute_result",
          "data": {
            "text/plain": [
              "array([ 0.,  0.,  5., 13.,  9.,  1.,  0.,  0.,  0.,  0., 13., 15., 10.,\n",
              "       15.,  5.,  0.,  0.,  3., 15.,  2.,  0., 11.,  8.,  0.,  0.,  4.,\n",
              "       12.,  0.,  0.,  8.,  8.,  0.,  0.,  5.,  8.,  0.,  0.,  9.,  8.,\n",
              "        0.,  0.,  4., 11.,  0.,  1., 12.,  7.,  0.,  0.,  2., 14.,  5.,\n",
              "       10., 12.,  0.,  0.,  0.,  0.,  6., 13., 10.,  0.,  0.,  0.])"
            ]
          },
          "metadata": {},
          "execution_count": 12
        }
      ]
    },
    {
      "cell_type": "code",
      "source": [
        "import matplotlib.pyplot as plt\n",
        "\n",
        "plt.figure(figsize=(2,2))\n",
        "plt.imshow(digits.data[0].reshape(8,8),cmap='gray')\n",
        "plt.xticks([])\n",
        "plt.yticks([])\n",
        "plt.show()"
      ],
      "metadata": {
        "colab": {
          "base_uri": "https://localhost:8080/",
          "height": 191
        },
        "id": "L0TzSUFsL1UL",
        "outputId": "29537b59-1a7c-46dd-8370-5cc98955e403"
      },
      "execution_count": 46,
      "outputs": [
        {
          "output_type": "display_data",
          "data": {
            "text/plain": [
              "<Figure size 200x200 with 1 Axes>"
            ],
            "image/png": "[encoded data removed]"
          },
          "metadata": {}
        }
      ]
    },
    {
      "cell_type": "markdown",
      "source": [
        "Las etiquetas se encuentran en el siguiente arreglo."
      ],
      "metadata": {
        "id": "vhhLgayHMaOq"
      }
    },
    {
      "cell_type": "code",
      "source": [
        "digits.target"
      ],
      "metadata": {
        "colab": {
          "base_uri": "https://localhost:8080/"
        },
        "id": "sftQ6yBbMfEY",
        "outputId": "cbb99f03-fa02-47cb-bf9e-4dfd409de29b"
      },
      "execution_count": 21,
      "outputs": [
        {
          "output_type": "execute_result",
          "data": {
            "text/plain": [
              "array([0, 1, 2, ..., 8, 9, 8])"
            ]
          },
          "metadata": {},
          "execution_count": 21
        }
      ]
    },
    {
      "cell_type": "markdown",
      "source": [
        "En scikit-learn, un estimador para la clasificación es un objeto Python que implementa los métodos fit(X, y) y predict(T). Estos métodos entrenan el modelo y realizan predicciones, respectivamente.\n",
        "\n",
        "Un ejemplo de estimador es la clase [sklearn.svm.SVC](https://scikit-learn.org/stable/modules/generated/sklearn.svm.SVC.html), que implementa la clasificación usando una maquina de vectores de soporte (support vector machine).\n",
        "\n",
        "Por ahora, veamos este estimador como una caja negra.\n",
        "\n",
        "Primero, inicializamos el estimador usando su constructor, el cual toma como argumentos los hiper-parámetros del modelo (aún no sabemos qué significan estos parámetros).\n",
        "\n",
        "**¿Cómo escogemos estos parámetros?**\n",
        "\n",
        "Por ahora, manualmente. Existen herramientas, como [Grid Search](https://scikit-learn.org/stable/modules/generated/sklearn.model_selection.GridSearchCV.html) y [Cross Validation](https://scikit-learn.org/stable/modules/generated/sklearn.model_selection.cross_val_score.html#sklearn.model_selection.cross_val_score)."
      ],
      "metadata": {
        "id": "R_3bbRlCGDog"
      }
    },
    {
      "cell_type": "code",
      "source": [
        "from sklearn.svm import SVC\n",
        "\n",
        "clf = SVC(gamma=0.001, C=100)"
      ],
      "metadata": {
        "id": "dRDExS6OF5Yr"
      },
      "execution_count": 47,
      "outputs": []
    },
    {
      "cell_type": "markdown",
      "source": [
        "La instancia del estimador `clf` se ajusta primero al modelo; es decir, debe aprender de los datos de entrenamiento. Esto se hace pasando nuestro conjunto de entrenamiento al método de ajuste. Para el conjunto de entrenamiento, utilizaremos todas las imágenes de nuestro conjunto de datos, excepto las últimas imágenes, que reservaremos para realizar la tarea de predicción."
      ],
      "metadata": {
        "id": "TH4s1oLgQCPY"
      }
    },
    {
      "cell_type": "markdown",
      "source": [
        "### Otro estimador\n",
        "\n",
        "Podemos cambiar el clasificador, ahora por K vecinos más cercanos. Todo sigue funcionando igual."
      ],
      "metadata": {
        "id": "rAkoRdQYPfyR"
      }
    },
    {
      "cell_type": "code",
      "source": [
        "from sklearn.neighbors import KNeighborsClassifier\n",
        "\n",
        "clf = KNeighborsClassifier(n_neighbors=3)"
      ],
      "metadata": {
        "id": "q_1JoULgPfa4"
      },
      "execution_count": 39,
      "outputs": []
    },
    {
      "cell_type": "markdown",
      "source": [
        "## División del conjunto de datos"
      ],
      "metadata": {
        "id": "crE5eBUIQDNu"
      }
    },
    {
      "cell_type": "markdown",
      "source": [
        "\n",
        "\n",
        "Por lo anterior, dividimos el conjunto de datos en entrenamiento (*train*) y prueba (*test*) antes de realizar el entrenamiento y cualquier tipo de preprocesamiento."
      ],
      "metadata": {
        "id": "2gtmr_mlIhQE"
      }
    },
    {
      "cell_type": "code",
      "source": [
        "X_train = digits.data[:-2]\n",
        "y_train = digits.target[:-2]"
      ],
      "metadata": {
        "id": "8BU5utwLGyY5"
      },
      "execution_count": 48,
      "outputs": []
    },
    {
      "cell_type": "markdown",
      "source": [
        "## Un poco de preprocesamiento"
      ],
      "metadata": {
        "id": "f77uywv4O85q"
      }
    },
    {
      "cell_type": "markdown",
      "source": [
        "Observa que el escalador, es también un estimador, en este caso no tenemos el método `predict`."
      ],
      "metadata": {
        "id": "CYyExknGPEIv"
      }
    },
    {
      "cell_type": "code",
      "source": [
        "from sklearn.preprocessing import StandardScaler\n",
        "\n",
        "scaler = StandardScaler()\n",
        "X_train = scaler.fit_transform(X_train)"
      ],
      "metadata": {
        "id": "OIldhFkYOiir"
      },
      "execution_count": 49,
      "outputs": []
    },
    {
      "cell_type": "code",
      "source": [
        "plt.figure(figsize=(2,2))\n",
        "plt.imshow(X_train[0].reshape(8,8),cmap='gray')\n",
        "plt.xticks([])\n",
        "plt.yticks([])\n",
        "plt.show()"
      ],
      "metadata": {
        "id": "4lrw8CC7O19w"
      },
      "execution_count": null,
      "outputs": []
    },
    {
      "cell_type": "markdown",
      "source": [
        "## Entrenamiento"
      ],
      "metadata": {
        "id": "hW8gzc0_PQjB"
      }
    },
    {
      "cell_type": "markdown",
      "source": [
        "Ahora, realizamos el entrenamiento. Para esto, usamos el método `fit`. Observemos que el método no regresa nada."
      ],
      "metadata": {
        "id": "nvFWKOwFNDfn"
      }
    },
    {
      "cell_type": "code",
      "source": [
        "clf.fit(X=X_train,y=y_train)"
      ],
      "metadata": {
        "colab": {
          "base_uri": "https://localhost:8080/",
          "height": 75
        },
        "id": "oyIBBTW8MzdZ",
        "outputId": "e9e278af-7d89-4a26-f7f1-f4eadcd683d2"
      },
      "execution_count": 50,
      "outputs": [
        {
          "output_type": "execute_result",
          "data": {
            "text/plain": [
              "SVC(C=100, gamma=0.001)"
            ],
            "text/html": [
              "<style>#sk-container-id-4 {color: black;background-color: white;}#sk-container-id-4 pre{padding: 0;}#sk-container-id-4 div.sk-toggleable {background-color: white;}#sk-container-id-4 label.sk-toggleable__label {cursor: pointer;display: block;width: 100%;margin-bottom: 0;padding: 0.3em;box-sizing: border-box;text-align: center;}#sk-container-id-4 label.sk-toggleable__label-arrow:before {content: \"▸\";float: left;margin-right: 0.25em;color: #696969;}#sk-container-id-4 label.sk-toggleable__label-arrow:hover:before {color: black;}#sk-container-id-4 div.sk-estimator:hover label.sk-toggleable__label-arrow:before {color: black;}#sk-container-id-4 div.sk-toggleable__content {max-height: 0;max-width: 0;overflow: hidden;text-align: left;background-color: #f0f8ff;}#sk-container-id-4 div.sk-toggleable__content pre {margin: 0.2em;color: black;border-radius: 0.25em;background-color: #f0f8ff;}#sk-container-id-4 input.sk-toggleable__control:checked~div.sk-toggleable__content {max-height: 200px;max-width: 100%;overflow: auto;}#sk-container-id-4 input.sk-toggleable__control:checked~label.sk-toggleable__label-arrow:before {content: \"▾\";}#sk-container-id-4 div.sk-estimator input.sk-toggleable__control:checked~label.sk-toggleable__label {background-color: #d4ebff;}#sk-container-id-4 div.sk-label input.sk-toggleable__control:checked~label.sk-toggleable__label {background-color: #d4ebff;}#sk-container-id-4 input.sk-hidden--visually {border: 0;clip: rect(1px 1px 1px 1px);clip: rect(1px, 1px, 1px, 1px);height: 1px;margin: -1px;overflow: hidden;padding: 0;position: absolute;width: 1px;}#sk-container-id-4 div.sk-estimator {font-family: monospace;background-color: #f0f8ff;border: 1px dotted black;border-radius: 0.25em;box-sizing: border-box;margin-bottom: 0.5em;}#sk-container-id-4 div.sk-estimator:hover {background-color: #d4ebff;}#sk-container-id-4 div.sk-parallel-item::after {content: \"\";width: 100%;border-bottom: 1px solid gray;flex-grow: 1;}#sk-container-id-4 div.sk-label:hover label.sk-toggleable__label {background-color: #d4ebff;}#sk-container-id-4 div.sk-serial::before {content: \"\";position: absolute;border-left: 1px solid gray;box-sizing: border-box;top: 0;bottom: 0;left: 50%;z-index: 0;}#sk-container-id-4 div.sk-serial {display: flex;flex-direction: column;align-items: center;background-color: white;padding-right: 0.2em;padding-left: 0.2em;position: relative;}#sk-container-id-4 div.sk-item {position: relative;z-index: 1;}#sk-container-id-4 div.sk-parallel {display: flex;align-items: stretch;justify-content: center;background-color: white;position: relative;}#sk-container-id-4 div.sk-item::before, #sk-container-id-4 div.sk-parallel-item::before {content: \"\";position: absolute;border-left: 1px solid gray;box-sizing: border-box;top: 0;bottom: 0;left: 50%;z-index: -1;}#sk-container-id-4 div.sk-parallel-item {display: flex;flex-direction: column;z-index: 1;position: relative;background-color: white;}#sk-container-id-4 div.sk-parallel-item:first-child::after {align-self: flex-end;width: 50%;}#sk-container-id-4 div.sk-parallel-item:last-child::after {align-self: flex-start;width: 50%;}#sk-container-id-4 div.sk-parallel-item:only-child::after {width: 0;}#sk-container-id-4 div.sk-dashed-wrapped {border: 1px dashed gray;margin: 0 0.4em 0.5em 0.4em;box-sizing: border-box;padding-bottom: 0.4em;background-color: white;}#sk-container-id-4 div.sk-label label {font-family: monospace;font-weight: bold;display: inline-block;line-height: 1.2em;}#sk-container-id-4 div.sk-label-container {text-align: center;}#sk-container-id-4 div.sk-container {/* jupyter's `normalize.less` sets `[hidden] { display: none; }` but bootstrap.min.css set `[hidden] { display: none !important; }` so we also need the `!important` here to be able to override the default hidden behavior on the sphinx rendered scikit-learn.org. See: https://github.com/scikit-learn/scikit-learn/issues/21755 */display: inline-block !important;position: relative;}#sk-container-id-4 div.sk-text-repr-fallback {display: none;}</style><div id=\"sk-container-id-4\" class=\"sk-top-container\"><div class=\"sk-text-repr-fallback\"><pre>SVC(C=100, gamma=0.001)</pre><b>In a Jupyter environment, please rerun this cell to show the HTML representation or trust the notebook. <br />On GitHub, the HTML representation is unable to render, please try loading this page with nbviewer.org.</b></div><div class=\"sk-container\" hidden><div class=\"sk-item\"><div class=\"sk-estimator sk-toggleable\"><input class=\"sk-toggleable__control sk-hidden--visually\" id=\"sk-estimator-id-4\" type=\"checkbox\" checked><label for=\"sk-estimator-id-4\" class=\"sk-toggleable__label sk-toggleable__label-arrow\">SVC</label><div class=\"sk-toggleable__content\"><pre>SVC(C=100, gamma=0.001)</pre></div></div></div></div></div>"
            ]
          },
          "metadata": {},
          "execution_count": 50
        }
      ]
    },
    {
      "cell_type": "markdown",
      "source": [
        "El modelo ya ha sido entrenado, dentro del estimador ya se pueden hacer varias cosas con el modelo. Por ejemplo, ver las métricas de desempeño."
      ],
      "metadata": {
        "id": "CttMPhDLN6uR"
      }
    },
    {
      "cell_type": "code",
      "source": [
        "clf.score(X_train,y_train)"
      ],
      "metadata": {
        "colab": {
          "base_uri": "https://localhost:8080/"
        },
        "id": "vBR8er-KNt7i",
        "outputId": "266dbe84-9596-4202-9a01-02c4847ebd09"
      },
      "execution_count": 51,
      "outputs": [
        {
          "output_type": "execute_result",
          "data": {
            "text/plain": [
              "0.9994428969359331"
            ]
          },
          "metadata": {},
          "execution_count": 51
        }
      ]
    },
    {
      "cell_type": "markdown",
      "source": [
        "## Las predicciones"
      ],
      "metadata": {
        "id": "kbrj3OWfPbYB"
      }
    },
    {
      "cell_type": "markdown",
      "source": [
        "Ahora, realizamos las predicciones. Esto lo hacemos con el método `predict`. El método regresa las predicciones, como un arreglo."
      ],
      "metadata": {
        "id": "qoEBfMlvNYzY"
      }
    },
    {
      "cell_type": "code",
      "source": [
        "clf.predict(digits.data[-2:])"
      ],
      "metadata": {
        "colab": {
          "base_uri": "https://localhost:8080/"
        },
        "id": "QeX4s4udNP1u",
        "outputId": "98a72ab2-6a19-4d3b-9797-a7361ee7b660"
      },
      "execution_count": 56,
      "outputs": [
        {
          "output_type": "execute_result",
          "data": {
            "text/plain": [
              "array([1, 1])"
            ]
          },
          "metadata": {},
          "execution_count": 56
        }
      ]
    },
    {
      "cell_type": "code",
      "source": [
        "clf.predict(digits.data[-2].reshape(1,-1))"
      ],
      "metadata": {
        "colab": {
          "base_uri": "https://localhost:8080/"
        },
        "id": "6DvvwzByNkPj",
        "outputId": "2d7b7705-b120-4a05-d4e1-010cf5e3eeaf"
      },
      "execution_count": 29,
      "outputs": [
        {
          "output_type": "execute_result",
          "data": {
            "text/plain": [
              "array([9])"
            ]
          },
          "metadata": {},
          "execution_count": 29
        }
      ]
    },
    {
      "cell_type": "code",
      "source": [
        "import matplotlib.pyplot as plt\n",
        "\n",
        "plt.figure(figsize=(4,2))\n",
        "plt.subplot(1,2,1)\n",
        "plt.imshow(digits.data[-2].reshape(8,8),cmap='gray')\n",
        "plt.xticks([])\n",
        "plt.yticks([])\n",
        "plt.subplot(1,2,2)\n",
        "plt.imshow(digits.data[-1].reshape(8,8),cmap='gray')\n",
        "plt.xticks([])\n",
        "plt.yticks([])\n",
        "plt.show()"
      ],
      "metadata": {
        "colab": {
          "base_uri": "https://localhost:8080/",
          "height": 177
        },
        "id": "Jn-K-azUOOsz",
        "outputId": "60399bb9-17f1-4730-be60-cddb75ee9fc6"
      },
      "execution_count": 54,
      "outputs": [
        {
          "output_type": "display_data",
          "data": {
            "text/plain": [
              "<Figure size 400x200 with 2 Axes>"
            ],
            "image/png": "[encoded data removed]"
          },
          "metadata": {}
        }
      ]
    },
    {
      "cell_type": "markdown",
      "source": [
        "### Si transformamos los datos, también hay que transformar los datos de prueba."
      ],
      "metadata": {
        "id": "LSxjxmj4QwIR"
      }
    },
    {
      "cell_type": "code",
      "source": [
        "test_escalados = scaler.transform(digits.data[-2:])"
      ],
      "metadata": {
        "id": "C-3cexuiOchf"
      },
      "execution_count": 52,
      "outputs": []
    },
    {
      "cell_type": "code",
      "source": [
        "plt.figure(figsize=(4,2))\n",
        "plt.subplot(1,2,1)\n",
        "plt.imshow(test_escalados[-2].reshape(8,8),cmap='gray')\n",
        "plt.xticks([])\n",
        "plt.yticks([])\n",
        "plt.subplot(1,2,2)\n",
        "plt.imshow(test_escalados[-1].reshape(8,8),cmap='gray')\n",
        "plt.xticks([])\n",
        "plt.yticks([])\n",
        "plt.show()"
      ],
      "metadata": {
        "colab": {
          "base_uri": "https://localhost:8080/",
          "height": 177
        },
        "id": "PvmKORL0QjNg",
        "outputId": "0d60601c-901e-4c26-8e21-313dc159e891"
      },
      "execution_count": 55,
      "outputs": [
        {
          "output_type": "display_data",
          "data": {
            "text/plain": [
              "<Figure size 400x200 with 2 Axes>"
            ],
            "image/png": "[encoded data removed]"
          },
          "metadata": {}
        }
      ]
    },
    {
      "cell_type": "code",
      "source": [
        "clf.predict(digits.data[-2:])"
      ],
      "metadata": {
        "colab": {
          "base_uri": "https://localhost:8080/"
        },
        "id": "8s7o1UGZQc_H",
        "outputId": "9ee2551a-6e6e-460a-f13c-b5b0604ee126"
      },
      "execution_count": 53,
      "outputs": [
        {
          "output_type": "execute_result",
          "data": {
            "text/plain": [
              "array([1, 1])"
            ]
          },
          "metadata": {},
          "execution_count": 53
        }
      ]
    }
  ]
}