{
  "nbformat": 4,
  "nbformat_minor": 0,
  "metadata": {
    "colab": {
      "provenance": [],
      "toc_visible": true
    },
    "kernelspec": {
      "name": "python3",
      "display_name": "Python 3"
    },
    "language_info": {
      "name": "python"
    },
    "accelerator": "GPU"
  },
  "cells": [
    {
      "cell_type": "markdown",
      "source": [
        "<a href=\"https://colab.research.google.com/github/DCDPUAEM/DCDP/blob/main/03-Deep-Learning/notebooks/02-MLP.ipynb\" target=\"_parent\"><img src=\"https://colab.research.google.com/assets/colab-badge.svg\" alt=\"Open In Colab\"/></a>"
      ],
      "metadata": {
        "id": "OCYJbEwVkjda"
      }
    },
    {
      "cell_type": "markdown",
      "source": [
        "✅ Conectar la notebook en modo GPU\n",
        "\n",
        "Entorno de ejecución → Cambiar tipo de entorno de ejecución\n",
        "\n",
        "Algunas consideraciones:\n",
        "\n",
        "* No dejar la notebook conectada sin actividad ya que Colab penaliza esto al asignar un entorno con GPU.\n",
        "* No pedir el entorno con GPU si no se va a usar."
      ],
      "metadata": {
        "id": "GFJ63s_YhFD7"
      }
    },
    {
      "cell_type": "markdown",
      "source": [
        "# Redes Neuronales MLP para clasificación\n",
        "\n",
        "<img align=\"center\" width=\"50%\" src=\"../img/mlp.png\"/>\n",
        "\n",
        "En esta notebook usaremos una red neuronal de tipo **MultiLayer Perceptron (MLP)** para el problema de clasificación en el dataset MNIST. \n",
        "\n",
        "Al final, practicaremos el uso de estas redes para buscar un mejor modelo para esta tarea."
      ],
      "metadata": {
        "id": "jVMPmLi1VBRV"
      }
    },
    {
      "cell_type": "markdown",
      "source": [
        "Benchmarks para el dataset MNIST\n",
        "\n",
        "1. **No Routing Needed Between Capsules**, 2020. *Accuracy: 99.87%* \n",
        "\n",
        "    Modelo de redes CNN con Homogeneous Vector Capsules (HVCs) que modifican el flujo de datos entre capas. [Artículo](https://arxiv.org/abs/2001.09136), [código](https://github.com/AdamByerly/BMCNNwHFCs).\n",
        "\n",
        "2. **An Ensemble of Simple Convolutional Neural Network Models for MNIST Digit Recognition**, 2020. *Accuracy: 99.87%*\n",
        "\n",
        "    Modelo de ensamble de redes CNN [Artículo](https://arxiv.org/abs/2008.10400), [código](https://github.com/ansh941/MnistSimpleCNN)."
      ],
      "metadata": {
        "id": "VU2YX1qiLBpd"
      }
    },
    {
      "cell_type": "markdown",
      "source": [
        "## 1. El conjunto de datos"
      ],
      "metadata": {
        "id": "QqvYSnkjVIzR"
      }
    },
    {
      "cell_type": "markdown",
      "source": [
        "Observar que, ahora sí, usamos todo el conjunto de datos completo."
      ],
      "metadata": {
        "id": "_d9wyeG1tpKA"
      }
    },
    {
      "cell_type": "code",
      "execution_count": null,
      "metadata": {
        "id": "gyilk52n8rbV",
        "colab": {
          "base_uri": "https://localhost:8080/"
        },
        "outputId": "75ddbc9e-7d0e-441d-c75f-3a7de2bd8468"
      },
      "outputs": [
        {
          "output_type": "stream",
          "name": "stdout",
          "text": [
            "X_train shape: (60000, 28, 28)\n",
            "y_train shape: (60000,)\n",
            "X_test shape: (10000, 28, 28)\n",
            "y_test shape: (10000,)\n"
          ]
        }
      ],
      "source": [
        "import numpy as np\n",
        "import matplotlib.pyplot as plt\n",
        "from keras.datasets import mnist\n",
        "\n",
        "# Load MNIST handwritten digit data\n",
        "(X_train, y_train), (X_test, y_test) = mnist.load_data()\n",
        "\n",
        "print(f\"X_train shape: {X_train.shape}\")\n",
        "print(f\"y_train shape: {y_train.shape}\")\n",
        "print(f\"X_test shape: {X_test.shape}\")\n",
        "print(f\"y_test shape: {y_test.shape}\")\n",
        "\n",
        "y_test_original = y_test.copy()  # Hacemos una copia del 'y_test', la usaremos al final"
      ]
    },
    {
      "cell_type": "markdown",
      "source": [
        "Visualizamos 6 ejemplos, junto con sus etiquetas"
      ],
      "metadata": {
        "id": "aMaXApsBWk4v"
      }
    },
    {
      "cell_type": "code",
      "source": [
        "# ------ Obtenemos algunos índices aleatorios:\n",
        "some_idxs = np.random.choice(list(range(y_train.shape[0])),size=6,replace=False)\n",
        "\n",
        "fig, axes = plt.subplots(ncols=6, sharex=False,\n",
        "\t\t\t sharey=True, figsize=(10, 4))\n",
        "for i,idx in enumerate(some_idxs):\n",
        "\taxes[i].set_title(y_train[idx],fontsize=15)\n",
        "\taxes[i].imshow(X_train[idx], cmap='gray')\n",
        "\taxes[i].get_xaxis().set_visible(False)\n",
        "\taxes[i].get_yaxis().set_visible(False)\n",
        "plt.show()"
      ],
      "metadata": {
        "id": "bUTt4ZizVYwv"
      },
      "execution_count": null,
      "outputs": []
    },
    {
      "cell_type": "markdown",
      "source": [
        "## Definiendo la red"
      ],
      "metadata": {
        "id": "mW1Z8KJlcrzo"
      }
    },
    {
      "cell_type": "markdown",
      "source": [
        "Al usar redes neuronales, usalmente el vector de etiquetas debe estar codificado como vectores **one-hot**. Es decir:\n",
        "\n",
        "$$1 → (1,0,...,0) $$\n",
        "$$2 → (0,1,...,0) $$\n",
        "$$ ... $$\n",
        "\n",
        "Entonces, las etiquetas $y$ son matrices de tamaño $N\\times m$ donde \n",
        "\n",
        "* $N$: número de instancias\n",
        "* $m$: número de clases\n",
        "\n",
        "Hacemos la codificación usando la función [`to_categorical`](https://www.tensorflow.org/api_docs/python/tf/keras/utils/to_categorical) de [keras](https://www.tensorflow.org/guide/keras)."
      ],
      "metadata": {
        "id": "LhgR_BXxQh1c"
      }
    },
    {
      "cell_type": "code",
      "source": [
        "from tensorflow.keras.utils import to_categorical\n",
        "\n",
        "print(\"---------- Antes de la codificación ----------\")\n",
        "print(f\"Primeras 5 etiquetas: {y_train[:5]}\")\n",
        "print(f\"Shape: {y_train.shape}\")\n",
        "\n",
        "y_train = to_categorical(y_train,num_classes=10)\n",
        "\n",
        "print(\"---------- Después de la codificación ----------\")\n",
        "print(f\"Primeras 5 etiquetas:\\n{y_train[:5]}\")\n",
        "print(f\"Shape: {y_train.shape}\")\n",
        "\n",
        "y_test = to_categorical(y_test,num_classes=10)"
      ],
      "metadata": {
        "id": "e6m0Lsa287SE"
      },
      "execution_count": null,
      "outputs": []
    },
    {
      "cell_type": "markdown",
      "source": [
        "En TensorFlow las redes se definen a partir de los tipos de capas y elementos, de manera secuencial y por separado:\n",
        "\n",
        "* **Dense**: implementa la operación: output = activation(dot(input, kernel) + bias) donde activation es la función de activación por elementos pasada como argumento de activación, kernel es una matriz de pesos creada por la capa, y bias es un vector de sesgo creado por la capa (sólo aplicable si use_bias es True). \n",
        "* **Flatten**: Aplana los datos para tener un arreglo unidimensional.\n",
        "* **Sequential**: Agrupa una secuencia de capas para formar un modelo."
      ],
      "metadata": {
        "id": "4d6agAfTRbbI"
      }
    },
    {
      "cell_type": "code",
      "source": [
        "from keras.layers import Dense, Flatten\n",
        "from keras.models import Sequential"
      ],
      "metadata": {
        "id": "rACJOLUmVPKn"
      },
      "execution_count": null,
      "outputs": []
    },
    {
      "cell_type": "markdown",
      "source": [
        "Definimos la arquitectura de la red neuronal. Observa la elección de:\n",
        "* Activaciones\n",
        "* Función de perdida\n",
        "* Optimizador\n",
        "* Métrica de desempeño "
      ],
      "metadata": {
        "id": "buR2gumKxqlB"
      }
    },
    {
      "cell_type": "code",
      "source": [
        "model = Sequential()\n",
        "model.add(Flatten(input_shape=(28,28)))\n",
        "model.add(Dense(8, activation='tanh'))\n",
        "model.add(Dense(10, activation='softmax'))  # Cuando se trata de tareas de clasificación multiclase, ponemos una activación softmax en la capa de salida\n",
        "\n",
        "model.summary()\n",
        "\n",
        "model.compile(loss='categorical_crossentropy', \n",
        "\t      optimizer='adam',\n",
        "\t      metrics=['acc']\n",
        "\t\t  )"
      ],
      "metadata": {
        "id": "60jIjz2c9gpR"
      },
      "execution_count": null,
      "outputs": []
    },
    {
      "cell_type": "markdown",
      "source": [
        "## ➖ Visualizando la arquitectura de la red \n",
        "\n",
        "Esto es opcional"
      ],
      "metadata": {
        "id": "FyrmUWeEh_N5"
      }
    },
    {
      "cell_type": "markdown",
      "source": [
        "A continuación se presentan dos maneras de visualizar la arquitectura de la red."
      ],
      "metadata": {
        "id": "uqMnufm6iCm9"
      }
    },
    {
      "cell_type": "markdown",
      "source": [
        "### 1. Usando visualkeras"
      ],
      "metadata": {
        "id": "GBcIozjp111I"
      }
    },
    {
      "cell_type": "code",
      "source": [
        "!pip install -q visualkeras"
      ],
      "metadata": {
        "colab": {
          "base_uri": "https://localhost:8080/"
        },
        "id": "gkViMsYljCUd",
        "outputId": "0c79a867-67ca-4d79-b3df-fc946fdbbf63"
      },
      "execution_count": null,
      "outputs": [
        {
          "output_type": "stream",
          "name": "stdout",
          "text": [
            "\u001b[?25l     \u001b[90m━━━━━━━━━━━━━━━━━━━━━━━━━━━━━━━━━━━━━━━━\u001b[0m \u001b[32m0.0/993.0 kB\u001b[0m \u001b[31m?\u001b[0m eta \u001b[36m-:--:--\u001b[0m\r\u001b[2K     \u001b[91m━━━━━━━━━━\u001b[0m\u001b[90m╺\u001b[0m\u001b[90m━━━━━━━━━━━━━━━━━━━━━━━━━━━━\u001b[0m \u001b[32m256.0/993.0 kB\u001b[0m \u001b[31m8.5 MB/s\u001b[0m eta \u001b[36m0:00:01\u001b[0m\r\u001b[2K     \u001b[91m━━━━━━━━━━━━━━━━━━━━━━━━━━━━━━━━━━━━━\u001b[0m\u001b[91m╸\u001b[0m \u001b[32m983.0/993.0 kB\u001b[0m \u001b[31m16.9 MB/s\u001b[0m eta \u001b[36m0:00:01\u001b[0m\r\u001b[2K     \u001b[90m━━━━━━━━━━━━━━━━━━━━━━━━━━━━━━━━━━━━━━\u001b[0m \u001b[32m993.0/993.0 kB\u001b[0m \u001b[31m13.0 MB/s\u001b[0m eta \u001b[36m0:00:00\u001b[0m\n",
            "\u001b[?25h"
          ]
        }
      ]
    },
    {
      "cell_type": "code",
      "source": [
        "from visualkeras import layered_view\n",
        "\n",
        "layered_view(model,legend=True, draw_volume=True,draw_funnel=True)"
      ],
      "metadata": {
        "id": "Cls-tBPcjG-N"
      },
      "execution_count": null,
      "outputs": []
    },
    {
      "cell_type": "markdown",
      "source": [
        "### Usando `plot_model` de keras"
      ],
      "metadata": {
        "id": "-RlbmEMl16SR"
      }
    },
    {
      "cell_type": "code",
      "source": [
        "from keras.utils.vis_utils import plot_model\n",
        "\n",
        "plot_model(model, to_file='model_architecture.png', show_shapes=True, show_layer_names=True)"
      ],
      "metadata": {
        "id": "vfCezyaNXgfQ"
      },
      "execution_count": null,
      "outputs": []
    },
    {
      "cell_type": "markdown",
      "source": [
        "## Entrenando la red"
      ],
      "metadata": {
        "id": "SCWhDOIhcx6V"
      }
    },
    {
      "cell_type": "markdown",
      "source": [
        "Entrenamos la red con el método `fit`, usamos 8 épocas\n",
        "\n",
        "Observa que, para realizar el entrenamiento, usamos el conjunto de validación también. Este sirve para proporcionar un indicador no sesgado del desempeño del modelo.\n",
        "\n",
        "<img align=\"left\" width=\"50%\" src=\"../img/training-validation-test.png\"/> "
      ],
      "metadata": {
        "id": "uFawgzy6iQBO"
      }
    },
    {
      "cell_type": "code",
      "source": [
        "n_epocas = 8\n",
        "\n",
        "history = model.fit(X_train, y_train, epochs=n_epocas, validation_data=(X_test,y_test))"
      ],
      "metadata": {
        "id": "AiR8OwXtcxlg"
      },
      "execution_count": null,
      "outputs": []
    },
    {
      "cell_type": "markdown",
      "source": [
        "Graficamos la función de perdida en cada época, tanto en el conjunto de entrenamiento, como en el de validación."
      ],
      "metadata": {
        "id": "W_gbtP6biie8"
      }
    },
    {
      "cell_type": "code",
      "source": [
        "loss_train = history.history['loss']\n",
        "loss_val = history.history['val_loss']\n",
        "\n",
        "epochs = range(1,n_epocas+1)\n",
        "\n",
        "plt.figure(figsize=(7,5))\n",
        "plt.plot(epochs, loss_train, 'g', label='Training loss')\n",
        "plt.plot(epochs, loss_val, 'b', label='validation loss')\n",
        "plt.title('Training and Validation loss',fontsize=15)\n",
        "plt.xlabel('Epochs',fontsize=14)\n",
        "plt.ylabel('Loss',fontsize=14)\n",
        "plt.legend()\n",
        "plt.show()"
      ],
      "metadata": {
        "id": "kxTBG2maTJ8c"
      },
      "execution_count": null,
      "outputs": []
    },
    {
      "cell_type": "markdown",
      "source": [
        "Ahora, graficamos el accuracy a lo largo del entrenamiento, tanto en el conjunto de entrenamiento como en el validación."
      ],
      "metadata": {
        "id": "axnQmzhk68yK"
      }
    },
    {
      "cell_type": "code",
      "source": [
        "loss_train = history.history['acc']\n",
        "loss_val = history.history['val_acc']\n",
        "\n",
        "epochs = range(1,n_epocas+1)\n",
        "\n",
        "plt.figure(figsize=(7,5))\n",
        "plt.plot(epochs, loss_train, 'g', label='Training Accuracy')\n",
        "plt.plot(epochs, loss_val, 'b', label='Validation Accuracy')\n",
        "plt.title('Training and Validation Accuracy',fontsize=15)\n",
        "plt.xlabel('Epochs',fontsize=14)\n",
        "plt.ylabel('Accuracy',fontsize=14)\n",
        "plt.xticks(epochs)\n",
        "plt.legend()\n",
        "plt.show()"
      ],
      "metadata": {
        "id": "eRqEPhINf5bL"
      },
      "execution_count": null,
      "outputs": []
    },
    {
      "cell_type": "markdown",
      "source": [
        "De la siguiente forma podemos acceder a la matriz de pesos y sesgos en cada capa. Las guardamos como arreglos de numpy. Son los pesos usados en la notebook anterior."
      ],
      "metadata": {
        "id": "il-DfAt8iaAa"
      }
    },
    {
      "cell_type": "code",
      "source": [
        "first_layer_weights = model.layers[1].get_weights()[0]\n",
        "first_layer_biases  = model.layers[1].get_weights()[1]\n",
        "\n",
        "np.save(\"mnist_weights1.npy\",first_layer_weights)\n",
        "np.save(\"mnist_biases1.npy\",first_layer_biases)"
      ],
      "metadata": {
        "id": "gBNBoNKvVBqx"
      },
      "execution_count": null,
      "outputs": []
    },
    {
      "cell_type": "code",
      "source": [
        "second_layer_weights = model.layers[2].get_weights()[0]\n",
        "second_layer_biases  = model.layers[2].get_weights()[1]\n",
        "\n",
        "np.save(\"mnist_weights2.npy\",second_layer_weights)\n",
        "np.save(\"mnist_biases2.npy\",second_layer_biases)"
      ],
      "metadata": {
        "id": "vdfwdS6HWQXP"
      },
      "execution_count": null,
      "outputs": []
    },
    {
      "cell_type": "markdown",
      "source": [
        "## Predicciones y rendimiento"
      ],
      "metadata": {
        "id": "_qz0K0NOIyFy"
      }
    },
    {
      "cell_type": "markdown",
      "source": [
        "¿Cómo se ven las predicciones?"
      ],
      "metadata": {
        "id": "aGZMU7s6Xr30"
      }
    },
    {
      "cell_type": "code",
      "source": [
        "x = X_test[0].copy()\n",
        "\n",
        "# ----- Graficamos este primer ejemplo de prueba:\n",
        "plt.figure()\n",
        "plt.suptitle(y_test_original[0],fontsize=15)\n",
        "plt.imshow(x, cmap='gray')\n",
        "plt.xticks([])\n",
        "plt.yticks([])\n",
        "plt.show()\n",
        "\n",
        "# ----- Cambiamos a la forma adecuada para entrar a la red neuronal:\n",
        "x_input = x.reshape(-1,x.shape[0],x.shape[1])\n",
        "\n",
        "# ----- Lo pasamos por la red neuronal ya entrenada:\n",
        "prediction = model.predict(x_input)\n",
        "print(f\"\\nSalida de la red neuronal para este primer elemento:\\n {np.round(prediction,3)}\\n\")\n",
        "\n",
        "print(f\"Son probabilidades, la suma de las entradas es {np.sum(prediction)}\")\n",
        "\n",
        "# ----- Tomamos el argmax:\n",
        "prediction = np.argmax(prediction, axis=1)\n",
        "print(f\"\\nTomamos el índice de la entrada con mayor probabilidad: {prediction}\")"
      ],
      "metadata": {
        "id": "FnIT0a9oXpWT"
      },
      "execution_count": null,
      "outputs": []
    },
    {
      "cell_type": "markdown",
      "source": [
        "Obtenemos todas las predicciones sobre el conjunto de prueba:"
      ],
      "metadata": {
        "id": "sZGUKuY5aFWV"
      }
    },
    {
      "cell_type": "code",
      "source": [
        "predictions_matrix = model.predict(X_test)\n",
        "predictions = np.argmax(predictions_matrix, axis=1)"
      ],
      "metadata": {
        "id": "x0YY_HBa9jAa",
        "colab": {
          "base_uri": "https://localhost:8080/"
        },
        "outputId": "72362355-739e-48ba-9536-367639a9ea8e"
      },
      "execution_count": null,
      "outputs": [
        {
          "output_type": "stream",
          "name": "stdout",
          "text": [
            "313/313 [==============================] - 1s 3ms/step\n"
          ]
        }
      ]
    },
    {
      "cell_type": "markdown",
      "source": [
        "Visualizamos algunas predicciones"
      ],
      "metadata": {
        "id": "HlXiyLiGaLJv"
      }
    },
    {
      "cell_type": "code",
      "source": [
        "fig, axes = plt.subplots(ncols=10, sharex=False,\n",
        "\t\t\t sharey=True, figsize=(18, 4))\n",
        "for i in range(10):\n",
        "\taxes[i].set_title(predictions[i])\n",
        "\taxes[i].imshow(X_test[i], cmap='gray')\n",
        "\taxes[i].get_xaxis().set_visible(False)\n",
        "\taxes[i].get_yaxis().set_visible(False)\n",
        "plt.show()"
      ],
      "metadata": {
        "id": "daQYjWh99iq0"
      },
      "execution_count": null,
      "outputs": []
    },
    {
      "cell_type": "markdown",
      "source": [
        "Obtenemos las métricas de desempeño de la tarea de clasificación. Observar que ambas son **vectores** de etiquetas"
      ],
      "metadata": {
        "id": "1cUoiJrvir5a"
      }
    },
    {
      "cell_type": "code",
      "source": [
        "print(predictions.shape)\n",
        "print(y_test_original.shape)"
      ],
      "metadata": {
        "id": "WCz6DqTG7vwa"
      },
      "execution_count": null,
      "outputs": []
    },
    {
      "cell_type": "code",
      "source": [
        "from sklearn.metrics import accuracy_score, recall_score, precision_score\n",
        "\n",
        "print(f\"Test Accuracy: {accuracy_score(y_pred=predictions,y_true=y_test_original)}\")\n",
        "print(f\"Test Recall: {recall_score(y_pred=predictions,y_true=y_test_original,average='macro')}\")\n",
        "print(f\"Test Precision: {precision_score(y_pred=predictions,y_true=y_test_original,average='macro')}\")"
      ],
      "metadata": {
        "id": "GxxW6UUA9qP2"
      },
      "execution_count": null,
      "outputs": []
    },
    {
      "cell_type": "markdown",
      "source": [
        "Calculamos el roc-auc score"
      ],
      "metadata": {
        "id": "15IH0ptN_HJ7"
      }
    },
    {
      "cell_type": "code",
      "source": [
        "from sklearn.metrics import roc_auc_score\n",
        "\n",
        "print(f\"Shape de y_test: {y_test.shape}\")\n",
        "print(f\"Shape de las predicciones para el conjunto de prueba: {predictions_matrix.shape}\")\n",
        "\n",
        "roc_auc_score(y_test,predictions_matrix)"
      ],
      "metadata": {
        "id": "CGdLt3Jq-hDS"
      },
      "execution_count": null,
      "outputs": []
    },
    {
      "cell_type": "markdown",
      "source": [
        "Mostramos la matriz de confusión"
      ],
      "metadata": {
        "id": "7ZCs1TCsiwr4"
      }
    },
    {
      "cell_type": "code",
      "source": [
        "import seaborn as sns\n",
        "from sklearn.metrics import confusion_matrix\n",
        "import matplotlib.pyplot as plt\n",
        "\n",
        "def show_confusion_matrix(confusion_matrix):\n",
        "  plt.figure(dpi=120)\n",
        "  hmap = sns.heatmap(confusion_matrix, annot=True, fmt=\"d\", cmap=\"Blues\")\n",
        "  new_xticks =  [str(int(x.get_text())+1) for x in hmap.xaxis.get_ticklabels()]\n",
        "  new_yticks =  [str(int(x.get_text())+1) for x in hmap.yaxis.get_ticklabels()]\n",
        "  hmap.xaxis.set_ticklabels(new_xticks, rotation=0, ha='right')\n",
        "  hmap.yaxis.set_ticklabels(new_yticks, rotation=0, ha='right')\n",
        "  plt.ylabel('True label')\n",
        "  plt.xlabel('Predicted label')\n",
        "  plt.show()\n",
        "\n",
        "cm = confusion_matrix(y_test_original,predictions)\n",
        "show_confusion_matrix(cm)"
      ],
      "metadata": {
        "id": "3bswIZT1EBjd"
      },
      "execution_count": null,
      "outputs": []
    },
    {
      "cell_type": "markdown",
      "source": [
        "⭕ ¿Qué dígitos son los que más confunde la red?"
      ],
      "metadata": {
        "id": "XebS2v79iy74"
      }
    },
    {
      "cell_type": "markdown",
      "source": [
        "---\n",
        "\n",
        "## ⭕ Práctica\n",
        "\n",
        "Modifica el módelo de red neuronal MLP cambiando los siguientes hiperparámetros:\n",
        "\n",
        "* Número de capas ocultas (prueba al menos con una y dos capas ocultas).\n",
        "* Número de neuronas en cada capa oculta.\n",
        "* Función de activación de la capa oculta.\n",
        "* Optimizador ([opciones](https://keras.io/api/optimizers/)).\n",
        "\n",
        "**Objetivo:** Subir las métricas de desempeño: accuracy y roc-auc score.\n",
        "\n",
        "Como referencia, el mejor resultado hasta ahora, sin usar redes convolucionales, es un accuracy de 99.65% (https://arxiv.org/abs/1003.0358)\n",
        "\n",
        "Lista de resultados: http://yann.lecun.com/exdb/mnist/, https://paperswithcode.com/sota/image-classification-on-mnist"
      ],
      "metadata": {
        "id": "vDSCKhUMkOUL"
      }
    },
    {
      "cell_type": "code",
      "source": [],
      "metadata": {
        "id": "1vi8S0nqWBm4"
      },
      "execution_count": null,
      "outputs": []
    }
  ]
}