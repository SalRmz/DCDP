{
  "nbformat": 4,
  "nbformat_minor": 0,
  "metadata": {
    "colab": {
      "provenance": [],
      "toc_visible": true
    },
    "kernelspec": {
      "name": "python3",
      "display_name": "Python 3"
    },
    "language_info": {
      "name": "python"
    },
    "accelerator": "GPU",
    "gpuClass": "standard"
  },
  "cells": [
    {
      "cell_type": "markdown",
      "source": [
        "<a href=\"https://colab.research.google.com/github/DCDPUAEM/DCDP/blob/main/03-Deep-Learning/notebooks/07-LSTM.ipynb\" target=\"_parent\"><img src=\"https://colab.research.google.com/assets/colab-badge.svg\" alt=\"Open In Colab\"/></a>"
      ],
      "metadata": {
        "id": "1CTBVWYRWYO1"
      }
    },
    {
      "cell_type": "markdown",
      "source": [
        "<h1>Long Short-Term Memory Networks: Time Series</h1>\n",
        "\n",
        "En esta notebook usaremos redes LSTM, el cual es una de las arquitectura de red RNN más usadas. Usaremos una red LSTM para predecir series de tiempo. Estudiaremos el problema de predecir el número de pasajeros en diferentes meses usanndo la información de periodos de tiempo anteriores. Es un problema de **regresión**.\n",
        "\n",
        "Describiremos diferentes modelos basados en LSTM y compararemos sus desempeños.\n",
        "\n",
        "\n",
        "<img align=\"left\" width=\"50%\" src=\"../img/LSTM.png\"/>"
      ],
      "metadata": {
        "id": "0-QiMUBj-xrJ"
      }
    },
    {
      "cell_type": "code",
      "source": [
        "import tensorflow as tf\n",
        "\n",
        "print('GPU presente en: {}'.format(tf.test.gpu_device_name()))"
      ],
      "metadata": {
        "colab": {
          "base_uri": "https://localhost:8080/"
        },
        "id": "WtXXpPwLBFOa",
        "outputId": "1decfdae-6c66-4da8-d80e-151f3f4a34f6"
      },
      "execution_count": 54,
      "outputs": [
        {
          "output_type": "stream",
          "name": "stdout",
          "text": [
            "GPU presente en: /device:GPU:0\n"
          ]
        }
      ]
    },
    {
      "cell_type": "code",
      "execution_count": 55,
      "metadata": {
        "id": "QsQlfmy8YYDK"
      },
      "outputs": [],
      "source": [
        "import numpy as np\n",
        "import matplotlib.pyplot as plt\n",
        "import math\n",
        "\n",
        "from sklearn.metrics import mean_squared_error"
      ]
    },
    {
      "cell_type": "markdown",
      "source": [
        "# Primer método"
      ],
      "metadata": {
        "id": "cCAbMc5gD32H"
      }
    },
    {
      "cell_type": "markdown",
      "source": [
        "## El conjunto de datos"
      ],
      "metadata": {
        "id": "Tje27BV-GVdi"
      }
    },
    {
      "cell_type": "markdown",
      "source": [
        "Usaremos un conjunto de datos para predecir el número de pasajeros de líneas aéreas internacionales. Se trata de un problema en el que, dados un año y un mes, la tarea consiste en predecir el número de pasajeros de líneas aéreas internacionales en unidades de 1.000. Los datos van de enero de 1949 a diciembre de 1960, es decir, 12 años, con 144 observaciones. El conjunto original de datos se puede encontrar [aquí](https://www.kaggle.com/datasets/rakannimer/air-passengers)."
      ],
      "metadata": {
        "id": "xmH2IBtuGXaQ"
      }
    },
    {
      "cell_type": "code",
      "source": [
        "url = \"https://raw.githubusercontent.com/DCDPUAEM/DCDP/main/03-Deep-Learning/data/AirPassengers.csv\"\n",
        "!wget --no-cache --backups=1 {url}"
      ],
      "metadata": {
        "id": "BZdL4WviOUJF"
      },
      "execution_count": null,
      "outputs": []
    },
    {
      "cell_type": "markdown",
      "source": [
        "Leemos el dataframe"
      ],
      "metadata": {
        "id": "P5-xL-av1NaY"
      }
    },
    {
      "cell_type": "code",
      "source": [
        "import pandas as pd\n",
        "\n",
        "np.random.seed(7)\n",
        "\n",
        "dataframe = pd.read_csv('AirPassengers.csv')\n",
        "display(dataframe)"
      ],
      "metadata": {
        "id": "l4E4bIiAZuUf"
      },
      "execution_count": null,
      "outputs": []
    },
    {
      "cell_type": "markdown",
      "source": [
        "Visualizamos los datos"
      ],
      "metadata": {
        "id": "drRDMlf4Rjvq"
      }
    },
    {
      "cell_type": "code",
      "source": [
        "# ----- Cambiamos el índice del dataframe por la fecha de la observación -----\n",
        "dataframe.columns = ['Date', 'Passengers']\n",
        "dataframe['Date'] = pd.to_datetime(dataframe['Date'], format='%Y-%m')\n",
        "dataframe = dataframe.set_index('Date')\n",
        "dataframe.head()\n",
        "\n",
        "plt.plot(dataframe, color='black')\n",
        "plt.xticks(fontsize=15)\n",
        "plt.yticks(fontsize=15)\n",
        "plt.show()"
      ],
      "metadata": {
        "id": "112vyktaQ_LR"
      },
      "execution_count": null,
      "outputs": []
    },
    {
      "cell_type": "markdown",
      "source": [
        "Nos quedamos con la serie de valores del dataframe"
      ],
      "metadata": {
        "id": "aMoZPqQp18z0"
      }
    },
    {
      "cell_type": "code",
      "source": [
        "dataset = dataframe.values\n",
        "dataset = dataset.astype('float32')\n",
        "print(f\"Serie de tiempo: {dataset[:3].reshape(-1,)} ... {dataset[-4:].reshape(-1,)}\")"
      ],
      "metadata": {
        "id": "lSDO4QoRBq-e"
      },
      "execution_count": null,
      "outputs": []
    },
    {
      "cell_type": "markdown",
      "source": [
        "## Preprocesamiento de los datos"
      ],
      "metadata": {
        "id": "qboFwH1u9fW4"
      }
    },
    {
      "cell_type": "markdown",
      "source": [
        "Necesitamos generar los conjunto $X$, $Y$ para la red LSTM. El conjunto $X$ es el conjunto que ya tenemos de datos de la serie de tiempo. El conjunto $y$ es la misma serie de tiempo, *adelantada* $l_b=1$ observación. Es decir, si la serie de tiempo esta dada por $x_0,x_1,...,x_n$, tendremos:\n",
        "\n",
        "$$X = (x_0,x_1,...,x_{n-2})$$\n",
        "$$Y = (x_1,x_2,...,x_{n-1})$$\n",
        "\n",
        "Podemos variar el parámetro $l_b$ (look back). **Ahorita no lo haremos, sino hasta el final del ejemplo**\n",
        "\n",
        "Definimos una función que genere los arreglos $X$, $Y$."
      ],
      "metadata": {
        "id": "cY0UH6Mb2B4e"
      }
    },
    {
      "cell_type": "code",
      "source": [
        "def create_dataset(x, look_back=1):\n",
        "\tdataX, dataY = [], []\n",
        "\tfor i in range(len(x)-look_back-1):\n",
        "\t\ta = x[i:(i+look_back), 0]\n",
        "\t\tdataX.append(a)\n",
        "\t\tdataY.append(x[i + look_back, 0])\n",
        "\treturn np.array(dataX), np.array(dataY)"
      ],
      "metadata": {
        "id": "YXXRFE04AUWi"
      },
      "execution_count": 60,
      "outputs": []
    },
    {
      "cell_type": "markdown",
      "source": [
        "Veamos como quedarían los datos. **Regresaremos a probar con varios valores de *look_back* $l_b$ al final del ejercicio, por ahora, nos quedamos con $l_b=1$.**"
      ],
      "metadata": {
        "id": "lIgsBtua5OD1"
      }
    },
    {
      "cell_type": "code",
      "source": [
        "look_back = 2"
      ],
      "metadata": {
        "id": "nbN4DRu06Plm"
      },
      "execution_count": 61,
      "outputs": []
    },
    {
      "cell_type": "code",
      "source": [
        "print(f\"Tamaño de la serie inicial: {dataset.shape[0]}\")\n",
        "print(f\"Serie de tiempo original: {dataset[:3].reshape(-1,)} ... {dataset[-4:].reshape(-1,)}\")\n",
        "\n",
        "X, y = create_dataset(dataset,look_back)\n",
        "\n",
        "print(X.shape, y.shape)\n",
        "\n",
        "if lb==1:\n",
        "    print(f\"\\nTamaño de las series para la LSTM: {X.shape[0]}\")\n",
        "    print(f\"Serie de tiempo modificada X: {X[:3].reshape(-1,)} ... {X[-3:].reshape(-1,)}\")\n",
        "    print(f\"Serie de tiempo modificada Y: {y[:3].reshape(-1,)} ... {y[-3:].reshape(-1,)}\")\n",
        "else:\n",
        "    print(f\"\\nTamaño de las series para la LSTM: {X.shape}\")\n",
        "    print(f\"Serie de tiempo modificada X:\\n {X[:3]}\")\n",
        "    print(f\"Serie de tiempo modificada Y: {y[:3]}\")"
      ],
      "metadata": {
        "id": "Hs8kANPP2pg1"
      },
      "execution_count": null,
      "outputs": []
    },
    {
      "cell_type": "markdown",
      "source": [
        "Re-escalamos los datos para que queden en el intervalo $[0,1]$."
      ],
      "metadata": {
        "id": "XNjXY9DM_g2Y"
      }
    },
    {
      "cell_type": "code",
      "source": [
        "from sklearn.preprocessing import MinMaxScaler\n",
        "\n",
        "scaler = MinMaxScaler(feature_range=(0, 1))\n",
        "dataset = scaler.fit_transform(dataset)\n",
        "dataset[:5]"
      ],
      "metadata": {
        "id": "XMg5XQjBAXRt"
      },
      "execution_count": null,
      "outputs": []
    },
    {
      "cell_type": "markdown",
      "source": [
        "Dividimos en entrenamiento y prueba. Observar que los datos deben ser divididos en forma *ordenada*, es decir:\n",
        "\n",
        "$$X_{train} = \\{ x_0, ... , x_k\\} $$\n",
        "$$X_{test} = \\{ x_{k+1}, ... , x_n\\} $$"
      ],
      "metadata": {
        "id": "m1wOeF6V_nTL"
      }
    },
    {
      "cell_type": "code",
      "source": [
        "train_ratio = 0.7\n",
        "\n",
        "train_size = int(len(dataset) * train_ratio)\n",
        "test_size = len(dataset) - train_size\n",
        "train, test = dataset[0:train_size,:], dataset[train_size:len(dataset),:]\n",
        "\n",
        "# ----- Generamos los conjuntos X,Y de entrenamiento y prueba -----\n",
        "X_train, Y_train = create_dataset(train, look_back)\n",
        "X_test, Y_test = create_dataset(test, look_back)\n",
        "print(f\"Shape of X_train: {X_train.shape}\")\n",
        "print(f\"Shape of X_test: {X_test.shape}\")\n",
        "\n",
        "# ----- reshape input to be [samples, time steps, features] -----\n",
        "X_train = np.reshape(X_train, (X_train.shape[0], 1, X_train.shape[1]))\n",
        "X_test = np.reshape(X_test, (X_test.shape[0], 1, X_test.shape[1]))\n",
        "print(f\"Shape of X_train: {X_train.shape}\")\n",
        "print(f\"Shape of X_test: {X_test.shape}\")"
      ],
      "metadata": {
        "id": "wO8b6JebAZ03"
      },
      "execution_count": null,
      "outputs": []
    },
    {
      "cell_type": "markdown",
      "source": [
        "## Definimos y entrenamos el modelo"
      ],
      "metadata": {
        "id": "xDEp2UvxDptI"
      }
    },
    {
      "cell_type": "markdown",
      "source": [
        "La célula de LSTM se encuentra implementada en [Keras](https://keras.io/api/layers/recurrent_layers/lstm/) como `LSTM`. Algunos de los parámetros importantes son:\n",
        "\n",
        "* `units`: Positive integer, dimensionality of the output space. En este ejemplo, el valor es 4.\n",
        "* `activation`: Activation function to use. Default: hyperbolic tangent (tanh). If you pass None, no activation is applied (ie. \"linear\" activation: a(x) = x).\n",
        "* `recurrent_activation`: Activation function to use for the recurrent step. Default: sigmoid (sigmoid). If you pass None, no activation is applied (ie. \"linear\" activation: a(x) = x)."
      ],
      "metadata": {
        "id": "pqNgNTKvF1Ys"
      }
    },
    {
      "cell_type": "code",
      "source": [
        "from tensorflow.keras.callbacks import EarlyStopping\n",
        "\n",
        "es = EarlyStopping(monitor='val_loss', mode='min', verbose=1, patience=2)"
      ],
      "metadata": {
        "id": "Tis-iCAJcYxI"
      },
      "execution_count": 65,
      "outputs": []
    },
    {
      "cell_type": "code",
      "source": [
        "from keras.models import Sequential\n",
        "from keras.layers import Dense\n",
        "from keras.layers import LSTM\n",
        "\n",
        "# ------ Creamos el modelo ------\n",
        "model = Sequential()\n",
        "model.add(LSTM(4, input_shape=(1, look_back)))\n",
        "model.add(Dense(1))\n",
        "\n",
        "# ------ Compilamos el modelo ------\n",
        "model.compile(loss='mean_squared_error', optimizer='adam', metrics=['mae'])"
      ],
      "metadata": {
        "id": "X6Xmo4iEAeI4"
      },
      "execution_count": 66,
      "outputs": []
    },
    {
      "cell_type": "markdown",
      "source": [
        "**¿Cómo podemos combinar capas LSTM?**\n",
        "\n",
        "Es posible apilar capas LSTM en arquitecturas de redes profundas para entrenarse juntas, compartiendo la memoría entre ellas.\n",
        "\n",
        "Las capas LSTM pueden apilarse en Keras de la misma manera que otros tipos de capas. El requisito para hacerlo es que la primer capa devuelva la secuencia para que sea recibida por la segunda capa. Esto se puede hacer estableciendo el parámetro `return_sequence` como *True*."
      ],
      "metadata": {
        "id": "6bf6Bkg2b5zL"
      }
    },
    {
      "cell_type": "code",
      "source": [
        "# from keras.models import Sequential\n",
        "# from keras.layers import Dense\n",
        "# from keras.layers import LSTM\n",
        "\n",
        "# # ------ Creamos el modelo ------\n",
        "# model = Sequential()\n",
        "# model.add(LSTM(4, input_shape=(1, look_back)),return_sequence=True)\n",
        "# model.add(LSTM(4))\n",
        "# model.add(Dense(1))\n",
        "\n",
        "# # ------ Compilamos el modelo ------\n",
        "# model.compile(loss='mean_squared_error', optimizer='adam')"
      ],
      "metadata": {
        "id": "YW1AVg0wb5Ft"
      },
      "execution_count": 67,
      "outputs": []
    },
    {
      "cell_type": "markdown",
      "source": [
        "Entrenamos el modelo"
      ],
      "metadata": {
        "id": "Q_qiS1LtIaNo"
      }
    },
    {
      "cell_type": "code",
      "source": [
        "history = model.fit(X_train, Y_train, epochs=100, batch_size=1, verbose=2,\n",
        "                    validation_split=0.1,callbacks=[es])"
      ],
      "metadata": {
        "id": "xU982WFBAgO4"
      },
      "execution_count": null,
      "outputs": []
    },
    {
      "cell_type": "markdown",
      "source": [
        "## Obtenemos las predicciones y evaluamos el desempeño de la red"
      ],
      "metadata": {
        "id": "lnGjOjfxDu9N"
      }
    },
    {
      "cell_type": "code",
      "source": [
        "plt.figure(figsize=(5, 5),dpi=100)\n",
        "plt.suptitle(\"Validation and Training Loss\",fontsize=14)\n",
        "plt.plot(history.history['loss'], label='train')\n",
        "plt.plot(history.history['val_loss'], label='validation')\n",
        "plt.ylabel(\"Loss\")\n",
        "plt.xlabel(\"Epochs\")\n",
        "plt.legend()\n",
        "plt.show()"
      ],
      "metadata": {
        "id": "RODGcel6cQ2C"
      },
      "execution_count": null,
      "outputs": []
    },
    {
      "cell_type": "markdown",
      "source": [
        "Realizamos las predicciones"
      ],
      "metadata": {
        "id": "WEK3BcbpIb7Y"
      }
    },
    {
      "cell_type": "code",
      "source": [
        "train_predict = model.predict(X_train)\n",
        "test_predict = model.predict(X_test)"
      ],
      "metadata": {
        "id": "ve-yYn4RAhpJ"
      },
      "execution_count": null,
      "outputs": []
    },
    {
      "cell_type": "markdown",
      "source": [
        "Aplicamos la transformación inversa del escalador, para obtener los valores en su escala original."
      ],
      "metadata": {
        "id": "A7VQjpQ-DT0H"
      }
    },
    {
      "cell_type": "code",
      "source": [
        "train_predict = scaler.inverse_transform(train_predict)\n",
        "Y_train = scaler.inverse_transform([Y_train])\n",
        "test_predict = scaler.inverse_transform(test_predict)\n",
        "Y_test = scaler.inverse_transform([Y_test])"
      ],
      "metadata": {
        "id": "nuJOMORCAjAG"
      },
      "execution_count": 71,
      "outputs": []
    },
    {
      "cell_type": "markdown",
      "source": [
        "Calculamos el error en las predicciones. Al ser un problema de regresión, usamos una pérdida y métrica de regresión: RMSE, MSE, MAE, etc."
      ],
      "metadata": {
        "id": "f4zdQU3YDajg"
      }
    },
    {
      "cell_type": "markdown",
      "source": [
        "Podemos evaluar para ver el MAE y RMSE"
      ],
      "metadata": {
        "id": "3gXipmyN-g2t"
      }
    },
    {
      "cell_type": "code",
      "source": [
        "print(model.evaluate(X_train, Y_train.reshape(-1,)))\n",
        "print(model.evaluate(X_test, Y_test.reshape(-1,)))"
      ],
      "metadata": {
        "id": "fLT-mpTV7Kj-"
      },
      "execution_count": null,
      "outputs": []
    },
    {
      "cell_type": "code",
      "source": [
        "train_score = math.sqrt(mean_squared_error(Y_train[0], train_predict[:,0]))\n",
        "print('Train Score RMSE: %.2f' % (train_score))\n",
        "test_score = math.sqrt(mean_squared_error(Y_test[0], test_predict[:,0]))\n",
        "print('Test Score RMSE: %.2f' % (test_score))"
      ],
      "metadata": {
        "id": "_Iyt2VS6Ak3z"
      },
      "execution_count": null,
      "outputs": []
    },
    {
      "cell_type": "markdown",
      "source": [
        "Graficamos las predicciones, tanto en train como en test"
      ],
      "metadata": {
        "id": "4qBs4BkuDkyh"
      }
    },
    {
      "cell_type": "code",
      "source": [
        "# shift train predictions for plotting\n",
        "trainPredictPlot = np.empty_like(dataset)\n",
        "trainPredictPlot[:, :] = np.nan\n",
        "trainPredictPlot[look_back:len(train_predict)+look_back, :] = train_predict\n",
        "\n",
        "# shift test predictions for plotting\n",
        "testPredictPlot = np.empty_like(dataset)\n",
        "testPredictPlot[:, :] = np.nan\n",
        "testPredictPlot[len(train_predict)+(look_back*2)+1:len(dataset)-1, :] = test_predict\n",
        "\n",
        "# plot baseline and predictions\n",
        "plt.figure(figsize=(10,10))\n",
        "plt.plot(scaler.inverse_transform(dataset),label='Dataset',linestyle='--',color='black')\n",
        "plt.plot(trainPredictPlot,label='Train prediction',color='green',linewidth=3,alpha=0.55)\n",
        "plt.plot(testPredictPlot,label='Test prediction',color='orange',linewidth=3,alpha=0.55)\n",
        "plt.legend(loc='best')\n",
        "plt.show()"
      ],
      "metadata": {
        "colab": {
          "base_uri": "https://localhost:8080/",
          "height": 830
        },
        "id": "2a2aA-N0Aolx",
        "outputId": "e23568c2-a7b9-4571-bf4d-7869da5fe8ae"
      },
      "execution_count": 74,
      "outputs": [
        {
          "output_type": "display_data",
          "data": {
            "text/plain": [
              "<Figure size 1000x1000 with 1 Axes>"
            ],
            "image/png": "[encoded data removed]"
          },
          "metadata": {}
        }
      ]
    },
    {
      "cell_type": "markdown",
      "source": [
        "## Una arquitectura más compleja\n",
        "\n",
        "Probemos con una arquitectura más profunda. Observar que las capas LSTM regresan las secuencias, de esta forma, se entrenan juntas y comparten la memoria."
      ],
      "metadata": {
        "id": "MCb-Ank8Vo_O"
      }
    },
    {
      "cell_type": "markdown",
      "source": [
        "Juntamos todo el preprocesamiento en una misma celda"
      ],
      "metadata": {
        "id": "Tdkcz8kkm64C"
      }
    },
    {
      "cell_type": "code",
      "source": [
        "train_ratio = 0.7\n",
        "\n",
        "train_size = int(len(dataset) * train_ratio)\n",
        "test_size = len(dataset) - train_size\n",
        "train, test = dataset[0:train_size,:], dataset[train_size:len(dataset),:]\n",
        "\n",
        "# ----- Generamos los conjuntos X,Y -----\n",
        "X_train, Y_train = create_dataset(train, look_back)\n",
        "X_test, Y_test = create_dataset(test, look_back)\n",
        "\n",
        "# ----- reshape input to be [samples, time steps, features] -----\n",
        "X_train = np.reshape(X_train, (X_train.shape[0], 1, X_train.shape[1]))\n",
        "X_test = np.reshape(X_test, (X_test.shape[0], 1, X_test.shape[1]))\n",
        "print(f\"Shape of X_train: {X_train.shape}\")\n",
        "print(f\"Shape of X_test: {X_test.shape}\")"
      ],
      "metadata": {
        "id": "X5Jw2CEQm6hs"
      },
      "execution_count": null,
      "outputs": []
    },
    {
      "cell_type": "code",
      "source": [
        "from keras.models import Sequential\n",
        "from keras.layers import Dense, Dropout\n",
        "from keras.layers import LSTM\n",
        "\n",
        "model_3 = Sequential()\n",
        "model_3.add(LSTM(100, return_sequences=True, input_shape=(1, look_back)))\n",
        "model_3.add(Dropout(0.2))\n",
        "model_3.add(LSTM(80, return_sequences=True))\n",
        "model_3.add(Dropout(0.2))\n",
        "model_3.add(LSTM(50, return_sequences=True))\n",
        "model_3.add(Dropout(0.2))\n",
        "model_3.add(LSTM(30, activation=\"ReLU\"))\n",
        "model_3.add(Dense(1))\n",
        "\n",
        "model_3.summary()\n",
        "\n",
        "model_3.compile(loss='mean_squared_error', optimizer='adam')"
      ],
      "metadata": {
        "id": "RIj69MTnSepn"
      },
      "execution_count": null,
      "outputs": []
    },
    {
      "cell_type": "code",
      "source": [
        "from tensorflow.keras.callbacks import EarlyStopping\n",
        "\n",
        "es = EarlyStopping(monitor='val_loss', mode='min', verbose=1, patience=2)"
      ],
      "metadata": {
        "id": "H7Tcr6y_lZyt"
      },
      "execution_count": 77,
      "outputs": []
    },
    {
      "cell_type": "markdown",
      "source": [
        "Entrenamos el modelo"
      ],
      "metadata": {
        "id": "FeQFPMNxg8pD"
      }
    },
    {
      "cell_type": "code",
      "source": [
        "history = model_3.fit(X_train, Y_train, epochs=100, batch_size=1, verbose=2,\n",
        "                    validation_split=0.1,callbacks=[es])"
      ],
      "metadata": {
        "id": "HXRpvNcTa264"
      },
      "execution_count": null,
      "outputs": []
    },
    {
      "cell_type": "code",
      "source": [
        "plt.figure(figsize=(5, 5),dpi=100)\n",
        "plt.suptitle(\"Validation and Training Loss\",fontsize=14)\n",
        "plt.plot(history.history['loss'], label='train')\n",
        "plt.plot(history.history['val_loss'], label='validation')\n",
        "plt.ylabel(\"Loss\")\n",
        "plt.xlabel(\"Epochs\")\n",
        "plt.legend()\n",
        "plt.show()"
      ],
      "metadata": {
        "id": "oEyAQOn2msu5"
      },
      "execution_count": null,
      "outputs": []
    },
    {
      "cell_type": "markdown",
      "source": [
        "Hacemos las predicciones"
      ],
      "metadata": {
        "id": "SD6JZ7m4g--d"
      }
    },
    {
      "cell_type": "code",
      "source": [
        "trainPredict = model_3.predict(X_train)\n",
        "testPredict = model_3.predict(X_test)"
      ],
      "metadata": {
        "id": "HsrCqz4PbTth"
      },
      "execution_count": null,
      "outputs": []
    },
    {
      "cell_type": "markdown",
      "source": [
        "Invertimos las predicciones (des-escalamos)"
      ],
      "metadata": {
        "id": "o01dAc9FhA_6"
      }
    },
    {
      "cell_type": "code",
      "source": [
        "# invert predictions\n",
        "trainPredict = scaler.inverse_transform(trainPredict)\n",
        "Y_train = scaler.inverse_transform([Y_train])\n",
        "testPredict = scaler.inverse_transform(testPredict)\n",
        "Y_test = scaler.inverse_transform([Y_test])"
      ],
      "metadata": {
        "id": "YdrK92pSbWv1"
      },
      "execution_count": 81,
      "outputs": []
    },
    {
      "cell_type": "markdown",
      "source": [
        "Obtenemos las métricas de evaluación"
      ],
      "metadata": {
        "id": "fSSPfhvzhFzx"
      }
    },
    {
      "cell_type": "code",
      "source": [
        "# calculate root mean squared error\n",
        "trainScore = math.sqrt(mean_squared_error(Y_train[0], trainPredict[:,0]))\n",
        "print('Train Score: %.2f RMSE' % (trainScore))\n",
        "testScore = math.sqrt(mean_squared_error(Y_test[0], testPredict[:,0]))\n",
        "print('Test Score: %.2f RMSE' % (testScore))"
      ],
      "metadata": {
        "id": "NIa2ur1yba3x"
      },
      "execution_count": null,
      "outputs": []
    },
    {
      "cell_type": "code",
      "source": [
        "# shift train predictions for plotting\n",
        "trainPredictPlot = np.empty_like(dataset)\n",
        "trainPredictPlot[:, :] = np.nan\n",
        "trainPredictPlot[look_back:len(trainPredict)+look_back, :] = trainPredict\n",
        "\n",
        "# shift test predictions for plotting\n",
        "testPredictPlot = np.empty_like(dataset)\n",
        "testPredictPlot[:, :] = np.nan\n",
        "testPredictPlot[len(trainPredict)+(look_back*2)+1:len(dataset)-1, :] = testPredict\n",
        "\n",
        "# plot baseline and predictions\n",
        "plt.figure(figsize=(10,10))\n",
        "plt.plot(scaler.inverse_transform(dataset),label='Dataset',linestyle='--',color='black')\n",
        "plt.plot(trainPredictPlot,label='Train prediction',color='green',linewidth=3,alpha=0.55)\n",
        "plt.plot(testPredictPlot,label='Test prediction',color='orange',linewidth=3,alpha=0.55)\n",
        "plt.legend(loc='best')\n",
        "plt.show()"
      ],
      "metadata": {
        "id": "PrwnTW1MbeWI"
      },
      "execution_count": null,
      "outputs": []
    },
    {
      "cell_type": "code",
      "source": [
        "print(model.evaluate(X_train, Y_train.reshape(-1,)))\n",
        "print(model.evaluate(X_test, Y_test.reshape(-1,)))"
      ],
      "metadata": {
        "id": "IPphhvvX_t-a"
      },
      "execution_count": null,
      "outputs": []
    },
    {
      "cell_type": "markdown",
      "source": [
        "# Window Method"
      ],
      "metadata": {
        "id": "5whjgoCcHT8M"
      }
    },
    {
      "cell_type": "markdown",
      "source": [
        "Otra manera de plantear el probemas es considerar que varios datos previos pueden ser usado para predecir el siguiente dato de una serie de tiempo.\n",
        "\n",
        "A estos multiples valores pasdos se les llama *ventana*, el tamaño de la ventana puede variarse y depende del problema.\n",
        "\n",
        "Por ejemplo, dado el tiempo actual $t$ queremos predecir el valor en el siguiente tiempo de la secuencia $t+1$, podemos utilizar el tiempo actual (t), así como los dos tiempos anteriores $t-1$ y $t-2$ como variables de entrada.\n",
        "\n",
        "Si se plantea como un problema de regresión, las variables de entrada son $t-2$, $t-1$, $t$ y la variable de salida es $t+1$.\n",
        "\n",
        "Es decir, si la serie de tiempo esta dada por $x_0,x_1,...,x_n$, tendremos:\n",
        "\n",
        "\\begin{align}\n",
        "X =\n",
        "\\begin{pmatrix}\n",
        "    x_0 & x_1 & x_2 \\\\\n",
        "    x_1 & x_2 & x_3 \\\\\n",
        "     & ... & \\\\\n",
        "    x_{n-3} & x_{n-2} & x_{n-1}\n",
        "    \\end{pmatrix}\n",
        "\\end{align}\n",
        "\n",
        "\\begin{align}\n",
        "Y =\n",
        "\\begin{pmatrix}\n",
        "    x_3 \\\\\n",
        "    x_4 \\\\\n",
        "    ...\\\\\n",
        "    x_n\n",
        "    \\end{pmatrix}\n",
        "\\end{align}\n",
        "    \n",
        "Esto lo logramos variando el parámetro *look back* de la función de construcción de los datos. Experimenta con este valor y verifica que los datos tienen la forma dada por las expresiones anteriores.\n",
        "\n",
        "⭕ Ejercicio:\n",
        "* Encuentra un valor para el $l_p$ que mejore el desempeño de la LSTM anterior. Recuerda que, al ser un problema de regresión, lo que estamos tratando de minimizar es la función de perdida.\n",
        "* Puedes usar también capas de dropout y callbacks."
      ],
      "metadata": {
        "id": "A80nr1Cvv38Z"
      }
    },
    {
      "cell_type": "markdown",
      "source": [
        "\n",
        "---\n",
        "\n",
        "\n",
        "Hay varios técnicas más para LSTM, por ejemplo:\n",
        "\n",
        "* **Diferenciación de datos.** Los datos estacionarios son más fáciles de modelar. Este tipo de datos no tiene una estructura que dependa del tiempo. En el caso de los conjuntos de datos no estacionarios, por ejemplo, si los datos tienen una tendencia creciente, la tendencia puede eliminarse de las observaciones y volver a añadirse a las previsiones más adelante para devolver la predicción a la escala original. Una forma estándar de eliminar una tendencia es diferenciar los datos.\n",
        "    \n",
        "    **Esto no lo haremos ahora**"
      ],
      "metadata": {
        "id": "7638mSK5B8xx"
      }
    },
    {
      "cell_type": "code",
      "source": [],
      "metadata": {
        "id": "nPeL6eZdCxkK"
      },
      "execution_count": null,
      "outputs": []
    }
  ]
}