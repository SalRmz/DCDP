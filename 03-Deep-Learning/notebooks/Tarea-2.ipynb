{
  "cells": [
    {
      "cell_type": "markdown",
      "metadata": {
        "id": "loa_XbZHxTJZ"
      },
      "source": [
        "<a href=\"https://colab.research.google.com/github/DCDPUAEM/DCDP/blob/master/03-Deep-Learning/notebooks/Tarea-2.ipynb\" target=\"_parent\"><img src=\"https://colab.research.google.com/assets/colab-badge.svg\" alt=\"Open In Colab\"/></a>"
      ]
    },
    {
      "cell_type": "code",
      "execution_count": null,
      "metadata": {
        "id": "ln6imMSY8vLe"
      },
      "outputs": [],
      "source": [
        "import tensorflow as tf\n",
        "\n",
        "print('GPU presente en: {}'.format(tf.test.gpu_device_name()))"
      ]
    },
    {
      "cell_type": "code",
      "execution_count": null,
      "metadata": {
        "id": "m3e06cMyxTKN"
      },
      "outputs": [],
      "source": [
        "import numpy as np\n",
        "import matplotlib.pyplot as plt\n",
        "import tensorflow as tf\n",
        "import keras"
      ]
    },
    {
      "cell_type": "markdown",
      "metadata": {
        "id": "SaR69EyqDIWI"
      },
      "source": [
        "# Tarea 2: X-rays\n",
        "\n",
        "\n",
        "\n",
        "\n",
        "\n",
        "\n",
        "\n",
        "\n",
        "\n",
        "\n",
        "\n",
        "\n",
        "\n",
        "\n",
        "\n",
        "\n",
        "\n",
        "\n",
        "\n",
        "\n",
        "\n",
        "\n",
        "\n",
        "\n",
        "\n",
        "\n",
        "\n",
        "\n",
        "\n",
        "\n"
      ]
    },
    {
      "cell_type": "markdown",
      "metadata": {
        "id": "w9JnrXSq063u"
      },
      "source": [
        "Este conjunto de entrenamiento consta de 5886 imágenes de rayos X de torax divididas en dos clases: Pneumonia y Normal.\n",
        "\n",
        "Estas imágenes de radiografía de tórax son de pacientes pediátricos de uno a cinco años del Centro Médico de Mujeres y Niños de Guangzhou, Guangzhou. Todas las radiografías de tórax se realizaron como parte de la atención clínica rutinaria de los pacientes.\n",
        "\n",
        "Para el análisis de las imágenes, se sometieron inicialmente a un control de calidad mediante la eliminación de todas las exploraciones de baja calidad o ilegibles. A continuación, los diagnósticos de las imágenes fueron calificados por dos médicos expertos antes de ser autorizados para el entrenamiento del sistema de IA. Para tener en cuenta cualquier error de clasificación, el conjunto de evaluación también fue revisado por un tercer experto.\n",
        "\n",
        "Este conjunto de datos se puede encontrar en [Kaggle](https://www.kaggle.com/datasets/paultimothymooney/chest-xray-pneumonia).\n",
        "\n",
        "La copia con la que trabajaremos se puede bajar de Google Drive: https://drive.google.com/file/d/1jbkvQB4L5y3UKkPurNp6nJonSoYbcYbI/view?usp=sharing"
      ]
    },
    {
      "cell_type": "code",
      "execution_count": null,
      "metadata": {
        "id": "mBcny0EIctzf"
      },
      "outputs": [],
      "source": [
        "!pip install -q gdown"
      ]
    },
    {
      "cell_type": "code",
      "execution_count": null,
      "metadata": {
        "id": "3EOmF72lcvkj"
      },
      "outputs": [],
      "source": [
        "!gdown 1jbkvQB4L5y3UKkPurNp6nJonSoYbcYbI"
      ]
    },
    {
      "cell_type": "markdown",
      "metadata": {
        "id": "tLTjMi1L1_8D"
      },
      "source": [
        "Extraemos los archivos"
      ]
    },
    {
      "cell_type": "code",
      "execution_count": null,
      "metadata": {
        "id": "_2eyCkk4G7wx"
      },
      "outputs": [],
      "source": [
        "from zipfile import ZipFile\n",
        "\n",
        "fname = '/content/x-rays.zip'\n",
        "\n",
        "with ZipFile(fname, 'r') as myzip:\n",
        "    myzip.extractall()\n",
        "    print('Listo')"
      ]
    },
    {
      "cell_type": "markdown",
      "metadata": {
        "id": "mvzRjY8V2Bpq"
      },
      "source": [
        "Definimos las rutas de los archivos"
      ]
    },
    {
      "cell_type": "code",
      "execution_count": null,
      "metadata": {
        "id": "at8-SO3qc1J1"
      },
      "outputs": [],
      "source": [
        "train_dir = 'x-rays/train'\n",
        "validation_dir = 'x-rays/val'\n",
        "test_dir = 'x-rays/test'"
      ]
    },
    {
      "cell_type": "markdown",
      "source": [
        "Graficamos algunas instancias de cada clase"
      ],
      "metadata": {
        "id": "bFq34ydNQmx3"
      }
    },
    {
      "cell_type": "code",
      "execution_count": null,
      "metadata": {
        "id": "CF-hfDf7z_J-"
      },
      "outputs": [],
      "source": [
        "import pathlib\n",
        "import PIL\n",
        "import matplotlib.pyplot as plt\n",
        "\n",
        "train_path = pathlib.Path(train_dir)\n",
        "\n",
        "normal_vis = list(train_path.glob(\"NORMAL/*.jpeg\"))\n",
        "\n",
        "plt.figure(figsize = (8,8))\n",
        "plt.suptitle(\"Clase Normal\")\n",
        "for i in range(16):\n",
        "    plt.subplot(4, 4, i + 1)\n",
        "    img = PIL.Image.open(str(normal_vis[i]))\n",
        "    plt.imshow(img)\n",
        "    plt.axis(False)\n",
        "plt.show()\n",
        "\n",
        "pneumonia_vis = list(train_path.glob(\"PNEUMONIA/*.jpeg\"))\n",
        "\n",
        "plt.figure(figsize = (8,8))\n",
        "plt.suptitle(\"Clase Pneumonia\")\n",
        "for i in range(16):\n",
        "    plt.subplot(4, 4, i + 1)\n",
        "    img = PIL.Image.open(str(pneumonia_vis[i]))\n",
        "    plt.imshow(img)\n",
        "    plt.axis(False)\n",
        "plt.show()"
      ]
    },
    {
      "cell_type": "code",
      "execution_count": null,
      "metadata": {
        "colab": {
          "base_uri": "https://localhost:8080/"
        },
        "id": "FNkKq6k_HLTL",
        "outputId": "c47e197c-346e-40b0-adc6-396025890820"
      },
      "outputs": [
        {
          "output_type": "stream",
          "name": "stdout",
          "text": [
            "Para entrenamiento:\n",
            "1341 Normal.\n",
            "3875 Pneumonia.\n",
            "\n",
            "Para validación:\n",
            "8 Normal.\n",
            "8 Pneumonia.\n",
            "\n",
            "Para prueba:\n",
            "234 Normal.\n",
            "390 Pneumonia.\n"
          ]
        }
      ],
      "source": [
        "import os, shutil\n",
        "\n",
        "print('Para entrenamiento:')\n",
        "train_normal = os.path.join(train_dir,'NORMAL')\n",
        "print(f\"{len(os.listdir(train_normal))} Normal.\")\n",
        "train_pneumonia = os.path.join(train_dir,'PNEUMONIA')\n",
        "print(f\"{len(os.listdir(train_pneumonia))} Pneumonia.\")\n",
        "\n",
        "print('\\nPara validación:')\n",
        "validation_normal = os.path.join(validation_dir,'NORMAL')\n",
        "print(f\"{len(os.listdir(validation_normal))} Normal.\")\n",
        "validation_pneumonia = os.path.join(validation_dir,'PNEUMONIA')\n",
        "print(f\"{len(os.listdir(validation_pneumonia))} Pneumonia.\")\n",
        "\n",
        "print('\\nPara prueba:')\n",
        "test_normal = os.path.join(test_dir,'NORMAL')\n",
        "print(f\"{len(os.listdir(test_normal))} Normal.\")\n",
        "test_pneumonia = os.path.join(test_dir,'PNEUMONIA')\n",
        "print(f\"{len(os.listdir(test_pneumonia))} Pneumonia.\")"
      ]
    },
    {
      "cell_type": "code",
      "execution_count": null,
      "metadata": {
        "id": "NyEgS8ETI-4Y"
      },
      "outputs": [],
      "source": [
        "from keras.preprocessing.image import ImageDataGenerator\n",
        "\n",
        "train_datagen = ImageDataGenerator(rescale=1./255)\n",
        "val_datagen = ImageDataGenerator(rescale=1./255)\n",
        "test_datagen = ImageDataGenerator(rescale=1./255)\n",
        "\n",
        "train_generator = train_datagen.flow_from_directory(\n",
        "        train_dir,\n",
        "        target_size=(256,256),\n",
        "        batch_size=32, # <-------- Este número lo usarás en la siguiente celda\n",
        "        class_mode='binary')\n",
        "\n",
        "validation_generator = val_datagen.flow_from_directory(\n",
        "        validation_dir,\n",
        "        target_size=(256,256),\n",
        "        batch_size=8, # <-------- Este número lo usarás en la siguiente celda\n",
        "        class_mode='binary')\n",
        "\n",
        "test_generator = test_datagen.flow_from_directory(\n",
        "        test_dir,\n",
        "        target_size=(256,256),\n",
        "        batch_size=16,\n",
        "        class_mode='binary')"
      ]
    },
    {
      "cell_type": "markdown",
      "source": [
        "⭕ ¿Cuántos lotes hay que pasar para recorrer todo el conjunto de entrenamiento por cada época? ¿cuántos para recorrer todo el conjunto de validación?"
      ],
      "metadata": {
        "id": "2u2DwxBaNdRv"
      }
    },
    {
      "cell_type": "code",
      "source": [
        "steps_per_epoch = # calcula este número\n",
        "steps_per_epoch = int(steps_per_epoch)\n",
        "validation_steps = # calcula este número\n",
        "validation_steps = int(validation_steps)\n",
        "\n",
        "print(f\"Número de lotes para recorrer el conjunto de entrenamiento: {steps_per_epoch}\")\n",
        "print(f\"Número de lotes para recorrer el conjunto de validación: {validation_steps}\")"
      ],
      "metadata": {
        "id": "PBNvCgE2NdIW"
      },
      "execution_count": null,
      "outputs": []
    },
    {
      "cell_type": "markdown",
      "source": [
        "##  El modelo"
      ],
      "metadata": {
        "id": "wcwgrXZE0vA1"
      }
    },
    {
      "cell_type": "markdown",
      "source": [
        "⭕ Define un módelo de red neuronal CNN para la tarea de clasificación binaria de este conjunto de datos. Puedes usar dropout, el número de capas, épocas y activaciones que consideres necesario.\n",
        "\n",
        "Al final, reporta las métrica Accuracy."
      ],
      "metadata": {
        "id": "5yiNIXjxcjx3"
      }
    },
    {
      "cell_type": "code",
      "source": [
        "# model ="
      ],
      "metadata": {
        "id": "uYKbgbH_vklo"
      },
      "execution_count": null,
      "outputs": []
    },
    {
      "cell_type": "markdown",
      "source": [
        "⭕ Define un callback `EarlyStopping` llamado `e_stopping` para detener el entrenamiento si comienza el overfitting. Puedes experimentar con el hiper-parámetro `patience`"
      ],
      "metadata": {
        "id": "r6Gc0H4adjqN"
      }
    },
    {
      "cell_type": "code",
      "source": [
        "# e_stopping ="
      ],
      "metadata": {
        "id": "pk_jIVSudjf4"
      },
      "execution_count": null,
      "outputs": []
    },
    {
      "cell_type": "markdown",
      "source": [
        "Realiza el entrenamiento del modelo"
      ],
      "metadata": {
        "id": "gitcmTnhdOLQ"
      }
    },
    {
      "cell_type": "code",
      "execution_count": null,
      "metadata": {
        "id": "oQIOMO80JK2Z"
      },
      "outputs": [],
      "source": [
        "num_epocas = 100\n",
        "\n",
        "history = model.fit(\n",
        "      train_generator,\n",
        "      steps_per_epoch=steps_per_epoch,\n",
        "      epochs=num_epocas,\n",
        "      validation_data=validation_generator,\n",
        "      validation_steps=validation_steps,\n",
        "      callbacks=[e_stopping])"
      ]
    },
    {
      "cell_type": "markdown",
      "source": [
        "Evalua el desempeño de tu modelo usando el conjunto de entrenamiento."
      ],
      "metadata": {
        "id": "ptvD_ZEodQx6"
      }
    },
    {
      "cell_type": "code",
      "execution_count": null,
      "metadata": {
        "id": "n-2v9Tm38GbL"
      },
      "outputs": [],
      "source": [
        "score = model.evaluate(test_generator)\n",
        "print ('Test loss:', round(score[0], 3))\n",
        "print ('Test accuracy:', round(score[1]*100, 2))"
      ]
    },
    {
      "cell_type": "markdown",
      "source": [
        "⭕ Grafica las curvas de entrenamiento de loss y accuracy"
      ],
      "metadata": {
        "id": "ldrNbbobdXlx"
      }
    },
    {
      "cell_type": "code",
      "source": [],
      "metadata": {
        "id": "UcsJp_efdbh2"
      },
      "execution_count": null,
      "outputs": []
    }
  ],
  "metadata": {
    "accelerator": "GPU",
    "colab": {
      "provenance": [],
      "toc_visible": true
    },
    "gpuClass": "standard",
    "kernelspec": {
      "display_name": "Python 3",
      "language": "python",
      "name": "python3"
    },
    "language_info": {
      "codemirror_mode": {
        "name": "ipython",
        "version": 3
      },
      "file_extension": ".py",
      "mimetype": "text/x-python",
      "name": "python",
      "nbconvert_exporter": "python",
      "pygments_lexer": "ipython3",
      "version": "3.7.4"
    }
  },
  "nbformat": 4,
  "nbformat_minor": 0
}