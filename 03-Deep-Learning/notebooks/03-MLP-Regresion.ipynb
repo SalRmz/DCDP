{
 "cells": [
  {
   "cell_type": "markdown",
   "metadata": {
    "id": "WOLu-Lu0cVKM"
   },
   "source": [
    "<a href=\"https://colab.research.google.com/github/DCDPUAEM/DCDP/blob/main/03-Deep-Learning/notebooks/03-MLP-Regresion.ipynb\" target=\"_parent\"><img src=\"https://colab.research.google.com/assets/colab-badge.svg\" alt=\"Open In Colab\"/></a>"
   ]
  },
  {
   "cell_type": "markdown",
   "metadata": {
    "id": "EIdT9iu_Z4Rb"
   },
   "source": [
    "# Redes Neuronales MLP para regresión"
   ]
  },
  {
   "cell_type": "markdown",
   "metadata": {
    "id": "J4xDK8oN01Fd"
   },
   "source": [
    "✅ Conectar la notebook en modo GPU (**en este caso no es muy necesario**)\n",
    "\n",
    "Entorno de ejecución → Cambiar tipo de entorno de ejecución\n",
    "\n",
    "Algunas consideraciones:\n",
    "\n",
    "* No dejar la notebook conectada sin actividad ya que Colab penaliza esto al asignar un entorno con GPU.\n",
    "* No pedir el entorno con GPU si no se va a usar."
   ]
  },
  {
   "cell_type": "markdown",
   "metadata": {
    "id": "AHp3M9ZmrIxj"
   },
   "source": [
    "En esta notebook describiremos cómo resolver un problema de regresión usando una red neuronal MLP.\n",
    "\n",
    "Usaremos el conjunto de datos [Auto MPG](https://archive.ics.uci.edu/ml/datasets/auto+mpg) y construiremos un modelo para predecir la eficiencia en el uso de combustible (en MPG, millas por galón) de vehiculos hechos entre 1970 y 1980. La descripción de cada vehículo incluye atributos como: número de cilíndros, potencia, país de origen y peso."
   ]
  },
  {
   "cell_type": "code",
   "execution_count": 1,
   "metadata": {
    "id": "1rRo8oNqZ-Rj"
   },
   "outputs": [
    {
     "name": "stderr",
     "output_type": "stream",
     "text": [
      "2023-06-15 20:16:02.259924: I tensorflow/core/platform/cpu_feature_guard.cc:193] This TensorFlow binary is optimized with oneAPI Deep Neural Network Library (oneDNN) to use the following CPU instructions in performance-critical operations:  SSE4.1 SSE4.2 AVX AVX2 FMA\n",
      "To enable them in other operations, rebuild TensorFlow with the appropriate compiler flags.\n"
     ]
    }
   ],
   "source": [
    "import numpy as np\n",
    "import matplotlib.pyplot as plt\n",
    "import pandas as pd\n",
    "\n",
    "import tensorflow as tf\n",
    "from tensorflow import keras\n",
    "from tensorflow.keras import layers"
   ]
  },
  {
   "cell_type": "markdown",
   "metadata": {
    "id": "F_72b0LCNbjx"
   },
   "source": [
    "## El conjunto de datos\n",
    "\n",
    "El dataset original se puede encontrar en [UCI Machine Learning Repository](archive.ics.uci.edu/ml/machine-learning-databases/auto-mpg/auto-mpg.data).\n"
   ]
  },
  {
   "cell_type": "code",
   "execution_count": 2,
   "metadata": {
    "id": "w3Ail5CFfagf"
   },
   "outputs": [],
   "source": [
    "#url = \"https://raw.githubusercontent.com/DCDPUAEM/DCDP/main/03-Deep-Learning/data/auto-mpg.data\"\n",
    "#!wget --no-cache --backups=1 {url}"
   ]
  },
  {
   "cell_type": "markdown",
   "metadata": {
    "id": "yV-4vQmmtBRF"
   },
   "source": [
    "Leemo el conjunto de datos en un dataframe."
   ]
  },
  {
   "cell_type": "code",
   "execution_count": 3,
   "metadata": {
    "id": "WtdIwDvHn2H4"
   },
   "outputs": [
    {
     "data": {
      "text/html": [
       "<div>\n",
       "<style scoped>\n",
       "    .dataframe tbody tr th:only-of-type {\n",
       "        vertical-align: middle;\n",
       "    }\n",
       "\n",
       "    .dataframe tbody tr th {\n",
       "        vertical-align: top;\n",
       "    }\n",
       "\n",
       "    .dataframe thead th {\n",
       "        text-align: right;\n",
       "    }\n",
       "</style>\n",
       "<table border=\"1\" class=\"dataframe\">\n",
       "  <thead>\n",
       "    <tr style=\"text-align: right;\">\n",
       "      <th></th>\n",
       "      <th>MPG</th>\n",
       "      <th>Cylinders</th>\n",
       "      <th>Displacement</th>\n",
       "      <th>Horsepower</th>\n",
       "      <th>Weight</th>\n",
       "      <th>Acceleration</th>\n",
       "      <th>Model Year</th>\n",
       "      <th>Origin</th>\n",
       "    </tr>\n",
       "  </thead>\n",
       "  <tbody>\n",
       "    <tr>\n",
       "      <th>0</th>\n",
       "      <td>18.0</td>\n",
       "      <td>8</td>\n",
       "      <td>307.0</td>\n",
       "      <td>130.0</td>\n",
       "      <td>3504.0</td>\n",
       "      <td>12.0</td>\n",
       "      <td>70</td>\n",
       "      <td>1</td>\n",
       "    </tr>\n",
       "    <tr>\n",
       "      <th>1</th>\n",
       "      <td>15.0</td>\n",
       "      <td>8</td>\n",
       "      <td>350.0</td>\n",
       "      <td>165.0</td>\n",
       "      <td>3693.0</td>\n",
       "      <td>11.5</td>\n",
       "      <td>70</td>\n",
       "      <td>1</td>\n",
       "    </tr>\n",
       "    <tr>\n",
       "      <th>2</th>\n",
       "      <td>18.0</td>\n",
       "      <td>8</td>\n",
       "      <td>318.0</td>\n",
       "      <td>150.0</td>\n",
       "      <td>3436.0</td>\n",
       "      <td>11.0</td>\n",
       "      <td>70</td>\n",
       "      <td>1</td>\n",
       "    </tr>\n",
       "    <tr>\n",
       "      <th>3</th>\n",
       "      <td>16.0</td>\n",
       "      <td>8</td>\n",
       "      <td>304.0</td>\n",
       "      <td>150.0</td>\n",
       "      <td>3433.0</td>\n",
       "      <td>12.0</td>\n",
       "      <td>70</td>\n",
       "      <td>1</td>\n",
       "    </tr>\n",
       "    <tr>\n",
       "      <th>4</th>\n",
       "      <td>17.0</td>\n",
       "      <td>8</td>\n",
       "      <td>302.0</td>\n",
       "      <td>140.0</td>\n",
       "      <td>3449.0</td>\n",
       "      <td>10.5</td>\n",
       "      <td>70</td>\n",
       "      <td>1</td>\n",
       "    </tr>\n",
       "    <tr>\n",
       "      <th>...</th>\n",
       "      <td>...</td>\n",
       "      <td>...</td>\n",
       "      <td>...</td>\n",
       "      <td>...</td>\n",
       "      <td>...</td>\n",
       "      <td>...</td>\n",
       "      <td>...</td>\n",
       "      <td>...</td>\n",
       "    </tr>\n",
       "    <tr>\n",
       "      <th>391</th>\n",
       "      <td>36.0</td>\n",
       "      <td>4</td>\n",
       "      <td>135.0</td>\n",
       "      <td>84.0</td>\n",
       "      <td>2370.0</td>\n",
       "      <td>13.0</td>\n",
       "      <td>82</td>\n",
       "      <td>1</td>\n",
       "    </tr>\n",
       "    <tr>\n",
       "      <th>392</th>\n",
       "      <td>27.0</td>\n",
       "      <td>4</td>\n",
       "      <td>151.0</td>\n",
       "      <td>90.0</td>\n",
       "      <td>2950.0</td>\n",
       "      <td>17.3</td>\n",
       "      <td>82</td>\n",
       "      <td>1</td>\n",
       "    </tr>\n",
       "    <tr>\n",
       "      <th>393</th>\n",
       "      <td>27.0</td>\n",
       "      <td>4</td>\n",
       "      <td>140.0</td>\n",
       "      <td>86.0</td>\n",
       "      <td>2790.0</td>\n",
       "      <td>15.6</td>\n",
       "      <td>82</td>\n",
       "      <td>1</td>\n",
       "    </tr>\n",
       "    <tr>\n",
       "      <th>394</th>\n",
       "      <td>44.0</td>\n",
       "      <td>4</td>\n",
       "      <td>97.0</td>\n",
       "      <td>52.0</td>\n",
       "      <td>2130.0</td>\n",
       "      <td>24.6</td>\n",
       "      <td>82</td>\n",
       "      <td>2</td>\n",
       "    </tr>\n",
       "    <tr>\n",
       "      <th>395</th>\n",
       "      <td>32.0</td>\n",
       "      <td>4</td>\n",
       "      <td>135.0</td>\n",
       "      <td>84.0</td>\n",
       "      <td>2295.0</td>\n",
       "      <td>11.6</td>\n",
       "      <td>82</td>\n",
       "      <td>1</td>\n",
       "    </tr>\n",
       "  </tbody>\n",
       "</table>\n",
       "<p>396 rows × 8 columns</p>\n",
       "</div>"
      ],
      "text/plain": [
       "      MPG  Cylinders  Displacement  Horsepower  Weight  Acceleration   \n",
       "0    18.0          8         307.0       130.0  3504.0          12.0  \\\n",
       "1    15.0          8         350.0       165.0  3693.0          11.5   \n",
       "2    18.0          8         318.0       150.0  3436.0          11.0   \n",
       "3    16.0          8         304.0       150.0  3433.0          12.0   \n",
       "4    17.0          8         302.0       140.0  3449.0          10.5   \n",
       "..    ...        ...           ...         ...     ...           ...   \n",
       "391  36.0          4         135.0        84.0  2370.0          13.0   \n",
       "392  27.0          4         151.0        90.0  2950.0          17.3   \n",
       "393  27.0          4         140.0        86.0  2790.0          15.6   \n",
       "394  44.0          4          97.0        52.0  2130.0          24.6   \n",
       "395  32.0          4         135.0        84.0  2295.0          11.6   \n",
       "\n",
       "     Model Year  Origin  \n",
       "0            70       1  \n",
       "1            70       1  \n",
       "2            70       1  \n",
       "3            70       1  \n",
       "4            70       1  \n",
       "..          ...     ...  \n",
       "391          82       1  \n",
       "392          82       1  \n",
       "393          82       1  \n",
       "394          82       2  \n",
       "395          82       1  \n",
       "\n",
       "[396 rows x 8 columns]"
      ]
     },
     "execution_count": 3,
     "metadata": {},
     "output_type": "execute_result"
    }
   ],
   "source": [
    "df = pd.read_csv('../data/auto-mpg.data',\n",
    "                header=0,\n",
    "                index_col=0,\n",
    "                na_values = \"?\",\n",
    "                comment='\\t',\n",
    "                skipinitialspace=True)\n",
    "df"
   ]
  },
  {
   "cell_type": "markdown",
   "metadata": {
    "id": "3MWuJTKEDM-f"
   },
   "source": [
    "### Limpieza de los datos\n",
    "\n",
    "El dataset contiene algunos valores desconocidos."
   ]
  },
  {
   "cell_type": "code",
   "execution_count": 4,
   "metadata": {
    "id": "JEJHhN65a2VV"
   },
   "outputs": [
    {
     "data": {
      "text/plain": [
       "MPG             0\n",
       "Cylinders       0\n",
       "Displacement    0\n",
       "Horsepower      6\n",
       "Weight          0\n",
       "Acceleration    0\n",
       "Model Year      0\n",
       "Origin          0\n",
       "dtype: int64"
      ]
     },
     "execution_count": 4,
     "metadata": {},
     "output_type": "execute_result"
    }
   ],
   "source": [
    "df.isna().sum()"
   ]
  },
  {
   "cell_type": "markdown",
   "metadata": {
    "id": "9UPN0KBHa_WI"
   },
   "source": [
    "Eliminemos las filas con valores faltantes, ya que son pocas. También podríamos imputar valores."
   ]
  },
  {
   "cell_type": "code",
   "execution_count": 5,
   "metadata": {},
   "outputs": [
    {
     "data": {
      "text/html": [
       "<div>\n",
       "<style scoped>\n",
       "    .dataframe tbody tr th:only-of-type {\n",
       "        vertical-align: middle;\n",
       "    }\n",
       "\n",
       "    .dataframe tbody tr th {\n",
       "        vertical-align: top;\n",
       "    }\n",
       "\n",
       "    .dataframe thead th {\n",
       "        text-align: right;\n",
       "    }\n",
       "</style>\n",
       "<table border=\"1\" class=\"dataframe\">\n",
       "  <thead>\n",
       "    <tr style=\"text-align: right;\">\n",
       "      <th></th>\n",
       "      <th>MPG</th>\n",
       "      <th>Cylinders</th>\n",
       "      <th>Displacement</th>\n",
       "      <th>Horsepower</th>\n",
       "      <th>Weight</th>\n",
       "      <th>Acceleration</th>\n",
       "      <th>Model Year</th>\n",
       "      <th>Origin</th>\n",
       "    </tr>\n",
       "  </thead>\n",
       "  <tbody>\n",
       "    <tr>\n",
       "      <th>0</th>\n",
       "      <td>18.0</td>\n",
       "      <td>8</td>\n",
       "      <td>307.0</td>\n",
       "      <td>130.0</td>\n",
       "      <td>3504.0</td>\n",
       "      <td>12.0</td>\n",
       "      <td>70</td>\n",
       "      <td>1</td>\n",
       "    </tr>\n",
       "    <tr>\n",
       "      <th>1</th>\n",
       "      <td>15.0</td>\n",
       "      <td>8</td>\n",
       "      <td>350.0</td>\n",
       "      <td>165.0</td>\n",
       "      <td>3693.0</td>\n",
       "      <td>11.5</td>\n",
       "      <td>70</td>\n",
       "      <td>1</td>\n",
       "    </tr>\n",
       "    <tr>\n",
       "      <th>2</th>\n",
       "      <td>18.0</td>\n",
       "      <td>8</td>\n",
       "      <td>318.0</td>\n",
       "      <td>150.0</td>\n",
       "      <td>3436.0</td>\n",
       "      <td>11.0</td>\n",
       "      <td>70</td>\n",
       "      <td>1</td>\n",
       "    </tr>\n",
       "    <tr>\n",
       "      <th>3</th>\n",
       "      <td>16.0</td>\n",
       "      <td>8</td>\n",
       "      <td>304.0</td>\n",
       "      <td>150.0</td>\n",
       "      <td>3433.0</td>\n",
       "      <td>12.0</td>\n",
       "      <td>70</td>\n",
       "      <td>1</td>\n",
       "    </tr>\n",
       "    <tr>\n",
       "      <th>4</th>\n",
       "      <td>17.0</td>\n",
       "      <td>8</td>\n",
       "      <td>302.0</td>\n",
       "      <td>140.0</td>\n",
       "      <td>3449.0</td>\n",
       "      <td>10.5</td>\n",
       "      <td>70</td>\n",
       "      <td>1</td>\n",
       "    </tr>\n",
       "    <tr>\n",
       "      <th>...</th>\n",
       "      <td>...</td>\n",
       "      <td>...</td>\n",
       "      <td>...</td>\n",
       "      <td>...</td>\n",
       "      <td>...</td>\n",
       "      <td>...</td>\n",
       "      <td>...</td>\n",
       "      <td>...</td>\n",
       "    </tr>\n",
       "    <tr>\n",
       "      <th>391</th>\n",
       "      <td>36.0</td>\n",
       "      <td>4</td>\n",
       "      <td>135.0</td>\n",
       "      <td>84.0</td>\n",
       "      <td>2370.0</td>\n",
       "      <td>13.0</td>\n",
       "      <td>82</td>\n",
       "      <td>1</td>\n",
       "    </tr>\n",
       "    <tr>\n",
       "      <th>392</th>\n",
       "      <td>27.0</td>\n",
       "      <td>4</td>\n",
       "      <td>151.0</td>\n",
       "      <td>90.0</td>\n",
       "      <td>2950.0</td>\n",
       "      <td>17.3</td>\n",
       "      <td>82</td>\n",
       "      <td>1</td>\n",
       "    </tr>\n",
       "    <tr>\n",
       "      <th>393</th>\n",
       "      <td>27.0</td>\n",
       "      <td>4</td>\n",
       "      <td>140.0</td>\n",
       "      <td>86.0</td>\n",
       "      <td>2790.0</td>\n",
       "      <td>15.6</td>\n",
       "      <td>82</td>\n",
       "      <td>1</td>\n",
       "    </tr>\n",
       "    <tr>\n",
       "      <th>394</th>\n",
       "      <td>44.0</td>\n",
       "      <td>4</td>\n",
       "      <td>97.0</td>\n",
       "      <td>52.0</td>\n",
       "      <td>2130.0</td>\n",
       "      <td>24.6</td>\n",
       "      <td>82</td>\n",
       "      <td>2</td>\n",
       "    </tr>\n",
       "    <tr>\n",
       "      <th>395</th>\n",
       "      <td>32.0</td>\n",
       "      <td>4</td>\n",
       "      <td>135.0</td>\n",
       "      <td>84.0</td>\n",
       "      <td>2295.0</td>\n",
       "      <td>11.6</td>\n",
       "      <td>82</td>\n",
       "      <td>1</td>\n",
       "    </tr>\n",
       "  </tbody>\n",
       "</table>\n",
       "<p>396 rows × 8 columns</p>\n",
       "</div>"
      ],
      "text/plain": [
       "      MPG  Cylinders  Displacement  Horsepower  Weight  Acceleration   \n",
       "0    18.0          8         307.0       130.0  3504.0          12.0  \\\n",
       "1    15.0          8         350.0       165.0  3693.0          11.5   \n",
       "2    18.0          8         318.0       150.0  3436.0          11.0   \n",
       "3    16.0          8         304.0       150.0  3433.0          12.0   \n",
       "4    17.0          8         302.0       140.0  3449.0          10.5   \n",
       "..    ...        ...           ...         ...     ...           ...   \n",
       "391  36.0          4         135.0        84.0  2370.0          13.0   \n",
       "392  27.0          4         151.0        90.0  2950.0          17.3   \n",
       "393  27.0          4         140.0        86.0  2790.0          15.6   \n",
       "394  44.0          4          97.0        52.0  2130.0          24.6   \n",
       "395  32.0          4         135.0        84.0  2295.0          11.6   \n",
       "\n",
       "     Model Year  Origin  \n",
       "0            70       1  \n",
       "1            70       1  \n",
       "2            70       1  \n",
       "3            70       1  \n",
       "4            70       1  \n",
       "..          ...     ...  \n",
       "391          82       1  \n",
       "392          82       1  \n",
       "393          82       1  \n",
       "394          82       2  \n",
       "395          82       1  \n",
       "\n",
       "[396 rows x 8 columns]"
      ]
     },
     "execution_count": 5,
     "metadata": {},
     "output_type": "execute_result"
    }
   ],
   "source": [
    "# df[df.Horsepower.isna()]\n",
    "df"
   ]
  },
  {
   "cell_type": "code",
   "execution_count": 6,
   "metadata": {
    "id": "4ZUDosChC1UN"
   },
   "outputs": [
    {
     "name": "stdout",
     "output_type": "stream",
     "text": [
      "(396, 8)\n",
      "(390, 8)\n",
      "(396, 8)\n"
     ]
    },
    {
     "data": {
      "text/plain": [
       "MPG             0\n",
       "Cylinders       0\n",
       "Displacement    0\n",
       "Horsepower      0\n",
       "Weight          0\n",
       "Acceleration    0\n",
       "Model Year      0\n",
       "Origin          0\n",
       "dtype: int64"
      ]
     },
     "execution_count": 6,
     "metadata": {},
     "output_type": "execute_result"
    }
   ],
   "source": [
    "print(df.shape)\n",
    "clean_df_drop = df.dropna(how='any')\n",
    "print(clean_df_drop.shape)\n",
    "\n",
    "from sklearn.impute import SimpleImputer\n",
    "imp = SimpleImputer(missing_values=np.nan, strategy='mean')\n",
    "df.Horsepower = imp.fit_transform(df.Horsepower.values.reshape(-1, 1))\n",
    "\n",
    "#clean_df[clean_df.Horsepower.isna()]\n",
    "\n",
    "clean_df = df\n",
    "print(clean_df.shape)\n",
    "clean_df.isna().sum()"
   ]
  },
  {
   "cell_type": "markdown",
   "metadata": {
    "id": "8XKitwaH4v8h"
   },
   "source": [
    "La columna `\"Origin\"` es categorica, la codificamos con \"one-hot\" encoding"
   ]
  },
  {
   "cell_type": "code",
   "execution_count": 7,
   "metadata": {},
   "outputs": [
    {
     "data": {
      "text/plain": [
       "(396, 8)"
      ]
     },
     "execution_count": 7,
     "metadata": {},
     "output_type": "execute_result"
    }
   ],
   "source": [
    "#df.shape: (396, 8)\n",
    "df.shape"
   ]
  },
  {
   "cell_type": "code",
   "execution_count": 8,
   "metadata": {
    "id": "nRF26smsqNrd"
   },
   "outputs": [
    {
     "data": {
      "text/html": [
       "<div>\n",
       "<style scoped>\n",
       "    .dataframe tbody tr th:only-of-type {\n",
       "        vertical-align: middle;\n",
       "    }\n",
       "\n",
       "    .dataframe tbody tr th {\n",
       "        vertical-align: top;\n",
       "    }\n",
       "\n",
       "    .dataframe thead th {\n",
       "        text-align: right;\n",
       "    }\n",
       "</style>\n",
       "<table border=\"1\" class=\"dataframe\">\n",
       "  <thead>\n",
       "    <tr style=\"text-align: right;\">\n",
       "      <th></th>\n",
       "      <th>MPG</th>\n",
       "      <th>Cylinders</th>\n",
       "      <th>Displacement</th>\n",
       "      <th>Horsepower</th>\n",
       "      <th>Weight</th>\n",
       "      <th>Acceleration</th>\n",
       "      <th>Model Year</th>\n",
       "      <th>Origin_1</th>\n",
       "      <th>Origin_2</th>\n",
       "      <th>Origin_3</th>\n",
       "    </tr>\n",
       "  </thead>\n",
       "  <tbody>\n",
       "    <tr>\n",
       "      <th>0</th>\n",
       "      <td>18.0</td>\n",
       "      <td>8</td>\n",
       "      <td>307.0</td>\n",
       "      <td>130.0</td>\n",
       "      <td>3504.0</td>\n",
       "      <td>12.0</td>\n",
       "      <td>70</td>\n",
       "      <td>True</td>\n",
       "      <td>False</td>\n",
       "      <td>False</td>\n",
       "    </tr>\n",
       "    <tr>\n",
       "      <th>1</th>\n",
       "      <td>15.0</td>\n",
       "      <td>8</td>\n",
       "      <td>350.0</td>\n",
       "      <td>165.0</td>\n",
       "      <td>3693.0</td>\n",
       "      <td>11.5</td>\n",
       "      <td>70</td>\n",
       "      <td>True</td>\n",
       "      <td>False</td>\n",
       "      <td>False</td>\n",
       "    </tr>\n",
       "    <tr>\n",
       "      <th>2</th>\n",
       "      <td>18.0</td>\n",
       "      <td>8</td>\n",
       "      <td>318.0</td>\n",
       "      <td>150.0</td>\n",
       "      <td>3436.0</td>\n",
       "      <td>11.0</td>\n",
       "      <td>70</td>\n",
       "      <td>True</td>\n",
       "      <td>False</td>\n",
       "      <td>False</td>\n",
       "    </tr>\n",
       "    <tr>\n",
       "      <th>3</th>\n",
       "      <td>16.0</td>\n",
       "      <td>8</td>\n",
       "      <td>304.0</td>\n",
       "      <td>150.0</td>\n",
       "      <td>3433.0</td>\n",
       "      <td>12.0</td>\n",
       "      <td>70</td>\n",
       "      <td>True</td>\n",
       "      <td>False</td>\n",
       "      <td>False</td>\n",
       "    </tr>\n",
       "    <tr>\n",
       "      <th>4</th>\n",
       "      <td>17.0</td>\n",
       "      <td>8</td>\n",
       "      <td>302.0</td>\n",
       "      <td>140.0</td>\n",
       "      <td>3449.0</td>\n",
       "      <td>10.5</td>\n",
       "      <td>70</td>\n",
       "      <td>True</td>\n",
       "      <td>False</td>\n",
       "      <td>False</td>\n",
       "    </tr>\n",
       "    <tr>\n",
       "      <th>...</th>\n",
       "      <td>...</td>\n",
       "      <td>...</td>\n",
       "      <td>...</td>\n",
       "      <td>...</td>\n",
       "      <td>...</td>\n",
       "      <td>...</td>\n",
       "      <td>...</td>\n",
       "      <td>...</td>\n",
       "      <td>...</td>\n",
       "      <td>...</td>\n",
       "    </tr>\n",
       "    <tr>\n",
       "      <th>391</th>\n",
       "      <td>36.0</td>\n",
       "      <td>4</td>\n",
       "      <td>135.0</td>\n",
       "      <td>84.0</td>\n",
       "      <td>2370.0</td>\n",
       "      <td>13.0</td>\n",
       "      <td>82</td>\n",
       "      <td>True</td>\n",
       "      <td>False</td>\n",
       "      <td>False</td>\n",
       "    </tr>\n",
       "    <tr>\n",
       "      <th>392</th>\n",
       "      <td>27.0</td>\n",
       "      <td>4</td>\n",
       "      <td>151.0</td>\n",
       "      <td>90.0</td>\n",
       "      <td>2950.0</td>\n",
       "      <td>17.3</td>\n",
       "      <td>82</td>\n",
       "      <td>True</td>\n",
       "      <td>False</td>\n",
       "      <td>False</td>\n",
       "    </tr>\n",
       "    <tr>\n",
       "      <th>393</th>\n",
       "      <td>27.0</td>\n",
       "      <td>4</td>\n",
       "      <td>140.0</td>\n",
       "      <td>86.0</td>\n",
       "      <td>2790.0</td>\n",
       "      <td>15.6</td>\n",
       "      <td>82</td>\n",
       "      <td>True</td>\n",
       "      <td>False</td>\n",
       "      <td>False</td>\n",
       "    </tr>\n",
       "    <tr>\n",
       "      <th>394</th>\n",
       "      <td>44.0</td>\n",
       "      <td>4</td>\n",
       "      <td>97.0</td>\n",
       "      <td>52.0</td>\n",
       "      <td>2130.0</td>\n",
       "      <td>24.6</td>\n",
       "      <td>82</td>\n",
       "      <td>False</td>\n",
       "      <td>True</td>\n",
       "      <td>False</td>\n",
       "    </tr>\n",
       "    <tr>\n",
       "      <th>395</th>\n",
       "      <td>32.0</td>\n",
       "      <td>4</td>\n",
       "      <td>135.0</td>\n",
       "      <td>84.0</td>\n",
       "      <td>2295.0</td>\n",
       "      <td>11.6</td>\n",
       "      <td>82</td>\n",
       "      <td>True</td>\n",
       "      <td>False</td>\n",
       "      <td>False</td>\n",
       "    </tr>\n",
       "  </tbody>\n",
       "</table>\n",
       "<p>396 rows × 10 columns</p>\n",
       "</div>"
      ],
      "text/plain": [
       "      MPG  Cylinders  Displacement  Horsepower  Weight  Acceleration   \n",
       "0    18.0          8         307.0       130.0  3504.0          12.0  \\\n",
       "1    15.0          8         350.0       165.0  3693.0          11.5   \n",
       "2    18.0          8         318.0       150.0  3436.0          11.0   \n",
       "3    16.0          8         304.0       150.0  3433.0          12.0   \n",
       "4    17.0          8         302.0       140.0  3449.0          10.5   \n",
       "..    ...        ...           ...         ...     ...           ...   \n",
       "391  36.0          4         135.0        84.0  2370.0          13.0   \n",
       "392  27.0          4         151.0        90.0  2950.0          17.3   \n",
       "393  27.0          4         140.0        86.0  2790.0          15.6   \n",
       "394  44.0          4          97.0        52.0  2130.0          24.6   \n",
       "395  32.0          4         135.0        84.0  2295.0          11.6   \n",
       "\n",
       "     Model Year  Origin_1  Origin_2  Origin_3  \n",
       "0            70      True     False     False  \n",
       "1            70      True     False     False  \n",
       "2            70      True     False     False  \n",
       "3            70      True     False     False  \n",
       "4            70      True     False     False  \n",
       "..          ...       ...       ...       ...  \n",
       "391          82      True     False     False  \n",
       "392          82      True     False     False  \n",
       "393          82      True     False     False  \n",
       "394          82     False      True     False  \n",
       "395          82      True     False     False  \n",
       "\n",
       "[396 rows x 10 columns]"
      ]
     },
     "execution_count": 8,
     "metadata": {},
     "output_type": "execute_result"
    }
   ],
   "source": [
    "oh_df = pd.get_dummies(data=clean_df,columns=['Origin'])\n",
    "oh_df"
   ]
  },
  {
   "cell_type": "markdown",
   "metadata": {
    "id": "lJST2Qb2tkRt"
   },
   "source": [
    "Reemplazamos los nombres del origen"
   ]
  },
  {
   "cell_type": "code",
   "execution_count": 9,
   "metadata": {
    "id": "gWNTD2QjBWFJ"
   },
   "outputs": [
    {
     "data": {
      "text/html": [
       "<div>\n",
       "<style scoped>\n",
       "    .dataframe tbody tr th:only-of-type {\n",
       "        vertical-align: middle;\n",
       "    }\n",
       "\n",
       "    .dataframe tbody tr th {\n",
       "        vertical-align: top;\n",
       "    }\n",
       "\n",
       "    .dataframe thead th {\n",
       "        text-align: right;\n",
       "    }\n",
       "</style>\n",
       "<table border=\"1\" class=\"dataframe\">\n",
       "  <thead>\n",
       "    <tr style=\"text-align: right;\">\n",
       "      <th></th>\n",
       "      <th>MPG</th>\n",
       "      <th>Cylinders</th>\n",
       "      <th>Displacement</th>\n",
       "      <th>Horsepower</th>\n",
       "      <th>Weight</th>\n",
       "      <th>Acceleration</th>\n",
       "      <th>Model Year</th>\n",
       "      <th>USA</th>\n",
       "      <th>Europe</th>\n",
       "      <th>Japan</th>\n",
       "    </tr>\n",
       "  </thead>\n",
       "  <tbody>\n",
       "    <tr>\n",
       "      <th>0</th>\n",
       "      <td>18.0</td>\n",
       "      <td>8</td>\n",
       "      <td>307.0</td>\n",
       "      <td>130.0</td>\n",
       "      <td>3504.0</td>\n",
       "      <td>12.0</td>\n",
       "      <td>70</td>\n",
       "      <td>True</td>\n",
       "      <td>False</td>\n",
       "      <td>False</td>\n",
       "    </tr>\n",
       "    <tr>\n",
       "      <th>1</th>\n",
       "      <td>15.0</td>\n",
       "      <td>8</td>\n",
       "      <td>350.0</td>\n",
       "      <td>165.0</td>\n",
       "      <td>3693.0</td>\n",
       "      <td>11.5</td>\n",
       "      <td>70</td>\n",
       "      <td>True</td>\n",
       "      <td>False</td>\n",
       "      <td>False</td>\n",
       "    </tr>\n",
       "    <tr>\n",
       "      <th>2</th>\n",
       "      <td>18.0</td>\n",
       "      <td>8</td>\n",
       "      <td>318.0</td>\n",
       "      <td>150.0</td>\n",
       "      <td>3436.0</td>\n",
       "      <td>11.0</td>\n",
       "      <td>70</td>\n",
       "      <td>True</td>\n",
       "      <td>False</td>\n",
       "      <td>False</td>\n",
       "    </tr>\n",
       "    <tr>\n",
       "      <th>3</th>\n",
       "      <td>16.0</td>\n",
       "      <td>8</td>\n",
       "      <td>304.0</td>\n",
       "      <td>150.0</td>\n",
       "      <td>3433.0</td>\n",
       "      <td>12.0</td>\n",
       "      <td>70</td>\n",
       "      <td>True</td>\n",
       "      <td>False</td>\n",
       "      <td>False</td>\n",
       "    </tr>\n",
       "    <tr>\n",
       "      <th>4</th>\n",
       "      <td>17.0</td>\n",
       "      <td>8</td>\n",
       "      <td>302.0</td>\n",
       "      <td>140.0</td>\n",
       "      <td>3449.0</td>\n",
       "      <td>10.5</td>\n",
       "      <td>70</td>\n",
       "      <td>True</td>\n",
       "      <td>False</td>\n",
       "      <td>False</td>\n",
       "    </tr>\n",
       "    <tr>\n",
       "      <th>...</th>\n",
       "      <td>...</td>\n",
       "      <td>...</td>\n",
       "      <td>...</td>\n",
       "      <td>...</td>\n",
       "      <td>...</td>\n",
       "      <td>...</td>\n",
       "      <td>...</td>\n",
       "      <td>...</td>\n",
       "      <td>...</td>\n",
       "      <td>...</td>\n",
       "    </tr>\n",
       "    <tr>\n",
       "      <th>391</th>\n",
       "      <td>36.0</td>\n",
       "      <td>4</td>\n",
       "      <td>135.0</td>\n",
       "      <td>84.0</td>\n",
       "      <td>2370.0</td>\n",
       "      <td>13.0</td>\n",
       "      <td>82</td>\n",
       "      <td>True</td>\n",
       "      <td>False</td>\n",
       "      <td>False</td>\n",
       "    </tr>\n",
       "    <tr>\n",
       "      <th>392</th>\n",
       "      <td>27.0</td>\n",
       "      <td>4</td>\n",
       "      <td>151.0</td>\n",
       "      <td>90.0</td>\n",
       "      <td>2950.0</td>\n",
       "      <td>17.3</td>\n",
       "      <td>82</td>\n",
       "      <td>True</td>\n",
       "      <td>False</td>\n",
       "      <td>False</td>\n",
       "    </tr>\n",
       "    <tr>\n",
       "      <th>393</th>\n",
       "      <td>27.0</td>\n",
       "      <td>4</td>\n",
       "      <td>140.0</td>\n",
       "      <td>86.0</td>\n",
       "      <td>2790.0</td>\n",
       "      <td>15.6</td>\n",
       "      <td>82</td>\n",
       "      <td>True</td>\n",
       "      <td>False</td>\n",
       "      <td>False</td>\n",
       "    </tr>\n",
       "    <tr>\n",
       "      <th>394</th>\n",
       "      <td>44.0</td>\n",
       "      <td>4</td>\n",
       "      <td>97.0</td>\n",
       "      <td>52.0</td>\n",
       "      <td>2130.0</td>\n",
       "      <td>24.6</td>\n",
       "      <td>82</td>\n",
       "      <td>False</td>\n",
       "      <td>True</td>\n",
       "      <td>False</td>\n",
       "    </tr>\n",
       "    <tr>\n",
       "      <th>395</th>\n",
       "      <td>32.0</td>\n",
       "      <td>4</td>\n",
       "      <td>135.0</td>\n",
       "      <td>84.0</td>\n",
       "      <td>2295.0</td>\n",
       "      <td>11.6</td>\n",
       "      <td>82</td>\n",
       "      <td>True</td>\n",
       "      <td>False</td>\n",
       "      <td>False</td>\n",
       "    </tr>\n",
       "  </tbody>\n",
       "</table>\n",
       "<p>396 rows × 10 columns</p>\n",
       "</div>"
      ],
      "text/plain": [
       "      MPG  Cylinders  Displacement  Horsepower  Weight  Acceleration   \n",
       "0    18.0          8         307.0       130.0  3504.0          12.0  \\\n",
       "1    15.0          8         350.0       165.0  3693.0          11.5   \n",
       "2    18.0          8         318.0       150.0  3436.0          11.0   \n",
       "3    16.0          8         304.0       150.0  3433.0          12.0   \n",
       "4    17.0          8         302.0       140.0  3449.0          10.5   \n",
       "..    ...        ...           ...         ...     ...           ...   \n",
       "391  36.0          4         135.0        84.0  2370.0          13.0   \n",
       "392  27.0          4         151.0        90.0  2950.0          17.3   \n",
       "393  27.0          4         140.0        86.0  2790.0          15.6   \n",
       "394  44.0          4          97.0        52.0  2130.0          24.6   \n",
       "395  32.0          4         135.0        84.0  2295.0          11.6   \n",
       "\n",
       "     Model Year    USA  Europe  Japan  \n",
       "0            70   True   False  False  \n",
       "1            70   True   False  False  \n",
       "2            70   True   False  False  \n",
       "3            70   True   False  False  \n",
       "4            70   True   False  False  \n",
       "..          ...    ...     ...    ...  \n",
       "391          82   True   False  False  \n",
       "392          82   True   False  False  \n",
       "393          82   True   False  False  \n",
       "394          82  False    True  False  \n",
       "395          82   True   False  False  \n",
       "\n",
       "[396 rows x 10 columns]"
      ]
     },
     "execution_count": 9,
     "metadata": {},
     "output_type": "execute_result"
    }
   ],
   "source": [
    "oh_df.rename(columns={'Origin_1':'USA',\n",
    "                      'Origin_2':'Europe',\n",
    "                      'Origin_3':'Japan'},\n",
    "             inplace=True)\n",
    "oh_df"
   ]
  },
  {
   "cell_type": "markdown",
   "metadata": {
    "id": "W2hkgNdHtoO8"
   },
   "source": [
    "Separamos las features y la variable dependiente."
   ]
  },
  {
   "cell_type": "code",
   "execution_count": 10,
   "metadata": {
    "id": "wR5w7hEksRJG"
   },
   "outputs": [
    {
     "name": "stdout",
     "output_type": "stream",
     "text": [
      "(396, 9) (396,)\n"
     ]
    }
   ],
   "source": [
    "X = oh_df.iloc[:,1:].values\n",
    "y = oh_df['MPG'].values\n",
    "\n",
    "print(X.shape, y.shape)"
   ]
  },
  {
   "cell_type": "markdown",
   "metadata": {
    "id": "Cuym4yvk76vU"
   },
   "source": [
    "### División en conjuntos de entrenamiento y prueba\n",
    "\n",
    "Ahora dividimos el set de datos en un set de entrenamiento y otro de prueba.\n",
    "\n",
    "Usaremos el conjunto de prueba en la evaluacion final de nuestro modelo."
   ]
  },
  {
   "cell_type": "code",
   "execution_count": 11,
   "metadata": {
    "id": "OJj_uC9fsCZ2"
   },
   "outputs": [
    {
     "name": "stdout",
     "output_type": "stream",
     "text": [
      "Train size: 336\n",
      "Test size: 60\n"
     ]
    }
   ],
   "source": [
    "from tensorflow.python import train\n",
    "from sklearn.model_selection import train_test_split\n",
    "\n",
    "X_train, X_test, y_train, y_test = train_test_split(X,y,train_size=0.85,random_state=189)\n",
    "\n",
    "print(f\"Train size: {X_train.shape[0]}\")\n",
    "print(f\"Test size: {X_test.shape[0]}\")"
   ]
  },
  {
   "cell_type": "markdown",
   "metadata": {
    "id": "mRklxK5s388r"
   },
   "source": [
    "### Normalizamos\n",
    "\n",
    "Inspeccionemos los rangos de las variables continuas"
   ]
  },
  {
   "cell_type": "code",
   "execution_count": null,
   "metadata": {
    "id": "zrQeJXuOtNyd"
   },
   "outputs": [
    {
     "data": {
      "text/plain": [
       "array([<Axes: ylabel='Frequency'>, <Axes: ylabel='Frequency'>,\n",
       "       <Axes: ylabel='Frequency'>, <Axes: ylabel='Frequency'>,\n",
       "       <Axes: ylabel='Frequency'>, <Axes: ylabel='Frequency'>],\n",
       "      dtype=object)"
      ]
     },
     "execution_count": 12,
     "metadata": {},
     "output_type": "execute_result"
    },
    {
     "data": {
      "image/png": "[encoded data removed]",
      "text/plain": [
       "<Figure size 640x480 with 6 Axes>"
      ]
     },
     "metadata": {},
     "output_type": "display_data"
    }
   ],
   "source": [
    "oh_df.iloc[:,1:7].plot.hist(subplots=True, legend=True)"
   ]
  },
  {
   "cell_type": "markdown",
   "metadata": {
    "id": "-ywmerQ6dSox"
   },
   "source": [
    "Es una buena práctica normalizar funciones que utilizan diferentes escalas y rangos. Aunque el modelo *podría* converger sin normalización de features, esto suele dificultar el entrenamiento.\n",
    "\n",
    "**Observaciones**:\n",
    "1. Aunque sólo entrenamos el escalador con el conjunto de datos de entrenamiento, este escalador también se utilizará para normalizar el conjunto de datos de prueba. Necesitamos hacer eso para proyectar el conjunto de datos de prueba en la misma distribución en la que el modelo ha sido entrenado.\n",
    "2. El reescalamiento debe aplicarse a cualquier otro dato que entre aal modelo, junto con la codificación de un punto que hicimos anteriormente. Eso incluye el conjunto de pruebas, así como los datos en vivo cuando el modelo se usa en producción."
   ]
  },
  {
   "cell_type": "code",
   "execution_count": 13,
   "metadata": {},
   "outputs": [
    {
     "data": {
      "text/plain": [
       "array([[8, 351.0, 149.0, ..., True, False, False],\n",
       "       [4, 134.0, 95.0, ..., False, False, True],\n",
       "       [6, 231.0, 165.0, ..., True, False, False],\n",
       "       ...,\n",
       "       [4, 91.0, 53.0, ..., False, False, True],\n",
       "       [4, 119.0, 92.0, ..., False, False, True],\n",
       "       [8, 400.0, 175.0, ..., True, False, False]], dtype=object)"
      ]
     },
     "execution_count": 13,
     "metadata": {},
     "output_type": "execute_result"
    }
   ],
   "source": [
    "X_train"
   ]
  },
  {
   "cell_type": "code",
   "execution_count": 138,
   "metadata": {
    "id": "PPL3d9P86bR9"
   },
   "outputs": [],
   "source": [
    "from sklearn.preprocessing import StandardScaler\n",
    "\n",
    "scaler = StandardScaler()\n",
    "X_train_scl = scaler.fit_transform(X_train)\n",
    "X_test_scl = scaler.transform(X_test)"
   ]
  },
  {
   "cell_type": "markdown",
   "metadata": {
    "id": "SmjdzxKzEu1-"
   },
   "source": [
    "## El modelo"
   ]
  },
  {
   "cell_type": "markdown",
   "metadata": {
    "id": "6SWtkIjhrZwa"
   },
   "source": [
    "### Construcción del modelo\n",
    "\n",
    "Construyamos nuestro modelo. Aquí, utilizaremos un modelo `sequential` con dos capas ocultas y una capa de salida que devuelve un único valor continuo.\n",
    "\n",
    "Observa la elección de optimizador, métricas de rendimiento, función de costo y funciones de activación."
   ]
  },
  {
   "cell_type": "markdown",
   "metadata": {
    "id": "t1vbCIpSY3QU"
   },
   "source": [
    "Podemos definir directamente el modelo, como en la notebook pasada:"
   ]
  },
  {
   "cell_type": "code",
   "execution_count": 15,
   "metadata": {
    "id": "c26juK7ZG8j-"
   },
   "outputs": [
    {
     "name": "stderr",
     "output_type": "stream",
     "text": [
      "2023-06-15 20:16:05.913274: I tensorflow/core/platform/cpu_feature_guard.cc:193] This TensorFlow binary is optimized with oneAPI Deep Neural Network Library (oneDNN) to use the following CPU instructions in performance-critical operations:  SSE4.1 SSE4.2 AVX AVX2 FMA\n",
      "To enable them in other operations, rebuild TensorFlow with the appropriate compiler flags.\n"
     ]
    }
   ],
   "source": [
    "model = keras.Sequential([\n",
    "layers.Dense(64, activation='relu', input_shape=[X_train_scl.shape[1]]),\n",
    "layers.Dense(64, activation='relu'),\n",
    "layers.Dense(1)\n",
    "])\n",
    "\n",
    "optimizer = tf.keras.optimizers.RMSprop(0.001)\n",
    "\n",
    "model.compile(loss='mse',\n",
    "            optimizer=optimizer,\n",
    "            metrics=['mae', 'mse'])"
   ]
  },
  {
   "cell_type": "markdown",
   "metadata": {
    "id": "TQ66z0UrY7GZ"
   },
   "source": [
    "Podemos también definirlo por medio de una función para generar nuevos modelos similares posteriormente:"
   ]
  },
  {
   "cell_type": "code",
   "execution_count": 38,
   "metadata": {
    "id": "_vIdIKtQZAAD"
   },
   "outputs": [],
   "source": [
    "def build_model():\n",
    "    model = keras.Sequential([\n",
    "    layers.Dense(64, activation='relu', input_shape=[X_train_scl.shape[1]]),\n",
    "    layers.Dense(64, activation='relu'),\n",
    "    layers.Dense(64, activation='relu'),\n",
    "    layers.Dense(1)\n",
    "    ])\n",
    "    optimizer = tf.keras.optimizers.RMSprop(0.001)\n",
    "    model.compile(loss='mse',\n",
    "                optimizer=optimizer,\n",
    "                metrics=['mae', 'mse'])\n",
    "    return model"
   ]
  },
  {
   "cell_type": "markdown",
   "metadata": {
    "id": "Sj49Og4YGULr"
   },
   "source": [
    "### Inspeccione el modelo\n",
    "\n",
    "Use el método `.summary` para imprimir una descripción simple del modelo"
   ]
  },
  {
   "cell_type": "code",
   "execution_count": 17,
   "metadata": {
    "id": "ReAD0n6MsFK-"
   },
   "outputs": [
    {
     "name": "stdout",
     "output_type": "stream",
     "text": [
      "Model: \"sequential\"\n",
      "_________________________________________________________________\n",
      " Layer (type)                Output Shape              Param #   \n",
      "=================================================================\n",
      " dense (Dense)               (None, 64)                640       \n",
      "                                                                 \n",
      " dense_1 (Dense)             (None, 64)                4160      \n",
      "                                                                 \n",
      " dense_2 (Dense)             (None, 1)                 65        \n",
      "                                                                 \n",
      "=================================================================\n",
      "Total params: 4,865\n",
      "Trainable params: 4,865\n",
      "Non-trainable params: 0\n",
      "_________________________________________________________________\n"
     ]
    }
   ],
   "source": [
    "model.summary()"
   ]
  },
  {
   "cell_type": "markdown",
   "metadata": {
    "id": "Vt6W50qGsJAL"
   },
   "source": [
    "### ➖ A little detour...\n",
    "\n",
    "Observemos que ya podríamos realizar predicciones con el modelo sin entrenar. Es decir, los pesos están inicializados\n",
    "\n",
    "Tomamos un *batch* de 10 ejemplos de los datos de entrenamiento y realizamos las predicciones."
   ]
  },
  {
   "cell_type": "code",
   "execution_count": 18,
   "metadata": {
    "id": "-d-gBaVtGTSC"
   },
   "outputs": [
    {
     "name": "stdout",
     "output_type": "stream",
     "text": [
      "1/1 [==============================] - 0s 72ms/step\n"
     ]
    },
    {
     "data": {
      "text/plain": [
       "array([[ 0.16128173],\n",
       "       [-0.02470293],\n",
       "       [-0.03855474],\n",
       "       [ 0.02584147],\n",
       "       [ 0.46797186],\n",
       "       [ 0.24173222],\n",
       "       [ 0.46564853],\n",
       "       [ 0.5054219 ],\n",
       "       [-0.06444037],\n",
       "       [ 0.37599224]], dtype=float32)"
      ]
     },
     "execution_count": 18,
     "metadata": {},
     "output_type": "execute_result"
    }
   ],
   "source": [
    "example_batch = X_train_scl[:10]\n",
    "example_predictions = model.predict(example_batch)\n",
    "example_predictions"
   ]
  },
  {
   "cell_type": "markdown",
   "metadata": {
    "id": "vIzDOy188yac"
   },
   "source": [
    "Podríamos medir su error MSE, o cualquier otra métrica de rendimiento."
   ]
  },
  {
   "cell_type": "code",
   "execution_count": 19,
   "metadata": {
    "id": "Pac0G5-T8oea"
   },
   "outputs": [
    {
     "data": {
      "text/plain": [
       "357.5098370528619"
      ]
     },
     "execution_count": 19,
     "metadata": {},
     "output_type": "execute_result"
    }
   ],
   "source": [
    "from sklearn.metrics import mean_squared_error\n",
    "\n",
    "mean_squared_error(y_train[:10],example_predictions)"
   ]
  },
  {
   "cell_type": "markdown",
   "metadata": {
    "id": "0-qWCsh6DlyH"
   },
   "source": [
    "### Entrenamos el modelo\n",
    "\n",
    "Entrenamos el modelo durante 1000 épocas, registramos la precisión de entrenamiento y validación en el objeto `history`.\n",
    "\n",
    "*El entrenamiendo debería durar alrededor de 1 minuto.*"
   ]
  },
  {
   "cell_type": "code",
   "execution_count": 20,
   "metadata": {},
   "outputs": [
    {
     "data": {
      "text/plain": [
       "array([[ 1.50649086,  1.52542341,  1.16932108, ...,  0.78942283,\n",
       "        -0.48038446, -0.49441323],\n",
       "       [-0.85608057, -0.56642845, -0.24057442, ..., -1.26674826,\n",
       "        -0.48038446,  2.02259959],\n",
       "       [ 0.32520514,  0.36863897,  1.58706789, ...,  0.78942283,\n",
       "        -0.48038446, -0.49441323],\n",
       "       ...,\n",
       "       [-0.85608057, -0.98094288, -1.3371598 , ..., -1.26674826,\n",
       "        -0.48038446,  2.02259959],\n",
       "       [-0.85608057, -0.71102651, -0.31890194, ..., -1.26674826,\n",
       "        -0.48038446,  2.02259959],\n",
       "       [ 1.50649086,  1.99777706,  1.84815965, ...,  0.78942283,\n",
       "        -0.48038446, -0.49441323]])"
      ]
     },
     "execution_count": 20,
     "metadata": {},
     "output_type": "execute_result"
    }
   ],
   "source": [
    "X_train_scl"
   ]
  },
  {
   "cell_type": "code",
   "execution_count": 21,
   "metadata": {},
   "outputs": [],
   "source": [
    "X_train_prac = pd.DataFrame(X_train).replace(True, 1).replace(False, 0)"
   ]
  },
  {
   "cell_type": "code",
   "execution_count": 22,
   "metadata": {
    "id": "sD7qHCmNIOY0"
   },
   "outputs": [
    {
     "name": "stdout",
     "output_type": "stream",
     "text": [
      "Epoch 1/200\n",
      "9/9 [==============================] - 1s 18ms/step - loss: 32982.6250 - mae: 101.4041 - mse: 32982.6250 - val_loss: 319.5911 - val_mae: 14.7637 - val_mse: 319.5911\n",
      "Epoch 2/200\n",
      "9/9 [==============================] - 0s 3ms/step - loss: 247.0106 - mae: 13.0181 - mse: 247.0106 - val_loss: 321.6292 - val_mae: 14.9711 - val_mse: 321.6292\n",
      "Epoch 3/200\n",
      "9/9 [==============================] - 0s 3ms/step - loss: 273.9231 - mae: 13.7184 - mse: 273.9231 - val_loss: 376.9337 - val_mae: 15.6220 - val_mse: 376.9337\n",
      "Epoch 4/200\n",
      "9/9 [==============================] - 0s 3ms/step - loss: 1052.1547 - mae: 26.6015 - mse: 1052.1547 - val_loss: 3256.6292 - val_mae: 56.7547 - val_mse: 3256.6292\n",
      "Epoch 5/200\n",
      "9/9 [==============================] - 0s 3ms/step - loss: 1853.3339 - mae: 36.9050 - mse: 1853.3339 - val_loss: 406.9442 - val_mae: 15.8946 - val_mse: 406.9442\n",
      "Epoch 6/200\n",
      "9/9 [==============================] - 0s 3ms/step - loss: 1543.4575 - mae: 33.1375 - mse: 1543.4575 - val_loss: 5028.3389 - val_mae: 70.1898 - val_mse: 5028.3389\n",
      "Epoch 7/200\n",
      "9/9 [==============================] - 0s 3ms/step - loss: 1240.6833 - mae: 26.0235 - mse: 1240.6833 - val_loss: 136.2206 - val_mae: 9.4485 - val_mse: 136.2206\n",
      "Epoch 8/200\n",
      "9/9 [==============================] - 0s 3ms/step - loss: 1120.3038 - mae: 24.3634 - mse: 1120.3038 - val_loss: 4305.7544 - val_mae: 59.6674 - val_mse: 4305.7544\n",
      "Epoch 9/200\n",
      "9/9 [==============================] - 0s 4ms/step - loss: 863.5797 - mae: 21.3591 - mse: 863.5797 - val_loss: 765.4870 - val_mae: 26.9086 - val_mse: 765.4870\n",
      "Epoch 10/200\n",
      "9/9 [==============================] - 0s 3ms/step - loss: 2075.8984 - mae: 39.7050 - mse: 2075.8984 - val_loss: 1133.4784 - val_mae: 28.4343 - val_mse: 1133.4784\n",
      "Epoch 11/200\n",
      "9/9 [==============================] - 0s 3ms/step - loss: 1097.5244 - mae: 29.9265 - mse: 1097.5244 - val_loss: 362.0438 - val_mae: 17.5125 - val_mse: 362.0438\n",
      "Epoch 12/200\n",
      "9/9 [==============================] - 0s 3ms/step - loss: 1722.5370 - mae: 35.2158 - mse: 1722.5370 - val_loss: 3336.1108 - val_mae: 52.0664 - val_mse: 3336.1108\n",
      "Epoch 13/200\n",
      "9/9 [==============================] - 0s 3ms/step - loss: 804.8381 - mae: 21.8410 - mse: 804.8381 - val_loss: 506.5884 - val_mae: 21.4545 - val_mse: 506.5884\n",
      "Epoch 14/200\n",
      "9/9 [==============================] - 0s 3ms/step - loss: 1937.2878 - mae: 37.6278 - mse: 1937.2878 - val_loss: 369.0193 - val_mae: 15.3253 - val_mse: 369.0193\n",
      "Epoch 15/200\n",
      "9/9 [==============================] - 0s 3ms/step - loss: 1080.5768 - mae: 28.4229 - mse: 1080.5768 - val_loss: 7308.4248 - val_mae: 84.1229 - val_mse: 7308.4248\n",
      "Epoch 16/200\n",
      "9/9 [==============================] - 0s 3ms/step - loss: 1401.2578 - mae: 27.1144 - mse: 1401.2578 - val_loss: 261.6829 - val_mae: 12.8532 - val_mse: 261.6829\n",
      "Epoch 17/200\n",
      "9/9 [==============================] - 0s 3ms/step - loss: 1396.9446 - mae: 32.0411 - mse: 1396.9446 - val_loss: 2144.5078 - val_mae: 45.7912 - val_mse: 2144.5078\n",
      "Epoch 18/200\n",
      "9/9 [==============================] - 0s 3ms/step - loss: 720.0060 - mae: 22.2093 - mse: 720.0060 - val_loss: 181.0011 - val_mae: 10.5068 - val_mse: 181.0011\n",
      "Epoch 19/200\n",
      "9/9 [==============================] - 0s 3ms/step - loss: 1742.4374 - mae: 36.1982 - mse: 1742.4374 - val_loss: 1474.7482 - val_mae: 37.8564 - val_mse: 1474.7482\n",
      "Epoch 20/200\n",
      "9/9 [==============================] - 0s 3ms/step - loss: 995.8879 - mae: 28.2471 - mse: 995.8879 - val_loss: 900.6876 - val_mae: 25.7929 - val_mse: 900.6876\n",
      "Epoch 21/200\n",
      "9/9 [==============================] - 0s 3ms/step - loss: 1404.8667 - mae: 33.2820 - mse: 1404.8667 - val_loss: 796.8747 - val_mae: 27.5566 - val_mse: 796.8747\n",
      "Epoch 22/200\n",
      "9/9 [==============================] - 0s 3ms/step - loss: 1465.1356 - mae: 33.2144 - mse: 1465.1356 - val_loss: 1866.5874 - val_mae: 38.8865 - val_mse: 1866.5874\n",
      "Epoch 23/200\n",
      "9/9 [==============================] - 0s 3ms/step - loss: 643.2173 - mae: 19.1445 - mse: 643.2173 - val_loss: 966.5887 - val_mae: 30.4311 - val_mse: 966.5887\n",
      "Epoch 24/200\n",
      "9/9 [==============================] - 0s 4ms/step - loss: 1844.8945 - mae: 39.6458 - mse: 1844.8945 - val_loss: 345.3180 - val_mae: 15.2148 - val_mse: 345.3180\n",
      "Epoch 25/200\n",
      "9/9 [==============================] - 0s 4ms/step - loss: 514.3384 - mae: 19.9079 - mse: 514.3384 - val_loss: 4440.2837 - val_mae: 65.4153 - val_mse: 4440.2837\n",
      "Epoch 26/200\n",
      "9/9 [==============================] - 0s 3ms/step - loss: 1412.1008 - mae: 28.2808 - mse: 1412.1008 - val_loss: 614.5686 - val_mae: 20.9637 - val_mse: 614.5686\n",
      "Epoch 27/200\n",
      "9/9 [==============================] - 0s 4ms/step - loss: 1446.5925 - mae: 31.6300 - mse: 1446.5925 - val_loss: 269.9264 - val_mae: 15.2590 - val_mse: 269.9264\n",
      "Epoch 28/200\n",
      "9/9 [==============================] - 0s 3ms/step - loss: 554.0988 - mae: 17.4962 - mse: 554.0988 - val_loss: 4824.6294 - val_mae: 64.7070 - val_mse: 4824.6294\n",
      "Epoch 29/200\n",
      "9/9 [==============================] - 0s 3ms/step - loss: 1166.2789 - mae: 25.9414 - mse: 1166.2789 - val_loss: 88.3668 - val_mae: 7.6748 - val_mse: 88.3668\n",
      "Epoch 30/200\n",
      "9/9 [==============================] - 0s 4ms/step - loss: 475.4940 - mae: 15.0263 - mse: 475.4940 - val_loss: 4269.7314 - val_mae: 64.1945 - val_mse: 4269.7314\n",
      "Epoch 31/200\n",
      "9/9 [==============================] - 0s 3ms/step - loss: 1375.4407 - mae: 31.2282 - mse: 1375.4407 - val_loss: 848.3683 - val_mae: 25.2761 - val_mse: 848.3683\n",
      "Epoch 32/200\n",
      "9/9 [==============================] - 0s 4ms/step - loss: 1139.8254 - mae: 30.5184 - mse: 1139.8254 - val_loss: 265.3211 - val_mae: 15.1741 - val_mse: 265.3211\n",
      "Epoch 33/200\n",
      "9/9 [==============================] - 0s 3ms/step - loss: 550.9452 - mae: 17.7296 - mse: 550.9452 - val_loss: 6174.0776 - val_mae: 73.7018 - val_mse: 6174.0776\n",
      "Epoch 34/200\n",
      "9/9 [==============================] - 0s 3ms/step - loss: 1199.5057 - mae: 24.1497 - mse: 1199.5057 - val_loss: 386.7459 - val_mae: 18.7644 - val_mse: 386.7459\n",
      "Epoch 35/200\n",
      "9/9 [==============================] - 0s 3ms/step - loss: 1546.3719 - mae: 34.0670 - mse: 1546.3719 - val_loss: 95.7901 - val_mae: 7.4487 - val_mse: 95.7901\n",
      "Epoch 36/200\n",
      "9/9 [==============================] - 0s 3ms/step - loss: 183.4875 - mae: 10.9744 - mse: 183.4875 - val_loss: 2561.3250 - val_mae: 49.5887 - val_mse: 2561.3250\n",
      "Epoch 37/200\n",
      "9/9 [==============================] - 0s 3ms/step - loss: 1461.8473 - mae: 28.6869 - mse: 1461.8473 - val_loss: 238.6483 - val_mae: 12.5713 - val_mse: 238.6483\n",
      "Epoch 38/200\n",
      "9/9 [==============================] - 0s 3ms/step - loss: 1321.9071 - mae: 33.1878 - mse: 1321.9071 - val_loss: 584.1577 - val_mae: 23.4192 - val_mse: 584.1577\n",
      "Epoch 39/200\n",
      "9/9 [==============================] - 0s 4ms/step - loss: 930.7433 - mae: 25.9079 - mse: 930.7433 - val_loss: 1633.4326 - val_mae: 36.7542 - val_mse: 1633.4326\n",
      "Epoch 40/200\n",
      "9/9 [==============================] - 0s 3ms/step - loss: 709.6517 - mae: 23.6425 - mse: 709.6517 - val_loss: 730.1433 - val_mae: 26.2507 - val_mse: 730.1433\n",
      "Epoch 41/200\n",
      "9/9 [==============================] - 0s 3ms/step - loss: 1173.1633 - mae: 30.7912 - mse: 1173.1633 - val_loss: 411.9467 - val_mae: 17.2279 - val_mse: 411.9467\n",
      "Epoch 42/200\n",
      "9/9 [==============================] - 0s 4ms/step - loss: 1284.4971 - mae: 32.3660 - mse: 1284.4971 - val_loss: 418.7563 - val_mae: 19.5909 - val_mse: 418.7563\n",
      "Epoch 43/200\n",
      "9/9 [==============================] - 0s 4ms/step - loss: 597.3560 - mae: 21.6366 - mse: 597.3560 - val_loss: 1641.3584 - val_mae: 37.0820 - val_mse: 1641.3584\n",
      "Epoch 44/200\n",
      "9/9 [==============================] - 0s 4ms/step - loss: 1252.6212 - mae: 31.9833 - mse: 1252.6212 - val_loss: 1149.1722 - val_mae: 33.1740 - val_mse: 1149.1722\n",
      "Epoch 45/200\n",
      "9/9 [==============================] - 0s 4ms/step - loss: 679.3371 - mae: 23.2829 - mse: 679.3371 - val_loss: 596.4951 - val_mae: 21.2851 - val_mse: 596.4951\n",
      "Epoch 46/200\n",
      "9/9 [==============================] - 0s 3ms/step - loss: 1208.1160 - mae: 31.1971 - mse: 1208.1160 - val_loss: 1208.4868 - val_mae: 34.0269 - val_mse: 1208.4868\n",
      "Epoch 47/200\n",
      "9/9 [==============================] - 0s 3ms/step - loss: 639.6940 - mae: 21.8169 - mse: 639.6940 - val_loss: 501.9904 - val_mae: 19.4957 - val_mse: 501.9904\n",
      "Epoch 48/200\n"
     ]
    },
    {
     "name": "stdout",
     "output_type": "stream",
     "text": [
      "9/9 [==============================] - 0s 3ms/step - loss: 1329.7675 - mae: 33.3624 - mse: 1329.7675 - val_loss: 549.6196 - val_mae: 22.6676 - val_mse: 549.6196\n",
      "Epoch 49/200\n",
      "9/9 [==============================] - 0s 3ms/step - loss: 241.5269 - mae: 12.4446 - mse: 241.5269 - val_loss: 1349.2754 - val_mae: 33.5945 - val_mse: 1349.2754\n",
      "Epoch 50/200\n",
      "9/9 [==============================] - 0s 3ms/step - loss: 1261.5718 - mae: 26.7074 - mse: 1261.5718 - val_loss: 61.0959 - val_mae: 5.8171 - val_mse: 61.0959\n",
      "Epoch 51/200\n",
      "9/9 [==============================] - 0s 3ms/step - loss: 1114.4849 - mae: 23.1958 - mse: 1114.4849 - val_loss: 1536.2789 - val_mae: 38.2825 - val_mse: 1536.2789\n",
      "Epoch 52/200\n",
      "9/9 [==============================] - 0s 3ms/step - loss: 310.9637 - mae: 13.6453 - mse: 310.9637 - val_loss: 108.1401 - val_mae: 8.0990 - val_mse: 108.1401\n",
      "Epoch 53/200\n",
      "9/9 [==============================] - 0s 3ms/step - loss: 1281.7758 - mae: 27.4881 - mse: 1281.7758 - val_loss: 1000.0875 - val_mae: 30.8563 - val_mse: 1000.0875\n",
      "Epoch 54/200\n",
      "9/9 [==============================] - 0s 3ms/step - loss: 316.4449 - mae: 13.4844 - mse: 316.4449 - val_loss: 55.6096 - val_mae: 5.7246 - val_mse: 55.6096\n",
      "Epoch 55/200\n",
      "9/9 [==============================] - 0s 3ms/step - loss: 906.2687 - mae: 21.7733 - mse: 906.2687 - val_loss: 2020.4230 - val_mae: 43.8224 - val_mse: 2020.4230\n",
      "Epoch 56/200\n",
      "9/9 [==============================] - 0s 4ms/step - loss: 571.4839 - mae: 19.3096 - mse: 571.4839 - val_loss: 67.2474 - val_mae: 6.0014 - val_mse: 67.2474\n",
      "Epoch 57/200\n",
      "9/9 [==============================] - 0s 4ms/step - loss: 972.6981 - mae: 24.0945 - mse: 972.6981 - val_loss: 1971.2146 - val_mae: 43.2564 - val_mse: 1971.2146\n",
      "Epoch 58/200\n",
      "9/9 [==============================] - 0s 3ms/step - loss: 542.7648 - mae: 19.9862 - mse: 542.7648 - val_loss: 516.8206 - val_mae: 19.6928 - val_mse: 516.8206\n",
      "Epoch 59/200\n",
      "9/9 [==============================] - 0s 3ms/step - loss: 966.3469 - mae: 27.9545 - mse: 966.3469 - val_loss: 361.7815 - val_mae: 18.1444 - val_mse: 361.7815\n",
      "Epoch 60/200\n",
      "9/9 [==============================] - 0s 3ms/step - loss: 705.9943 - mae: 23.9525 - mse: 705.9943 - val_loss: 478.8227 - val_mae: 18.7771 - val_mse: 478.8227\n",
      "Epoch 61/200\n",
      "9/9 [==============================] - 0s 3ms/step - loss: 808.5615 - mae: 25.9794 - mse: 808.5615 - val_loss: 373.1414 - val_mae: 18.4500 - val_mse: 373.1414\n",
      "Epoch 62/200\n",
      "9/9 [==============================] - 0s 4ms/step - loss: 742.6180 - mae: 22.9084 - mse: 742.6180 - val_loss: 645.8074 - val_mae: 22.1412 - val_mse: 645.8074\n",
      "Epoch 63/200\n",
      "9/9 [==============================] - 0s 3ms/step - loss: 394.8704 - mae: 16.7283 - mse: 394.8704 - val_loss: 1549.0001 - val_mae: 38.4198 - val_mse: 1549.0001\n",
      "Epoch 64/200\n",
      "9/9 [==============================] - 0s 4ms/step - loss: 997.5129 - mae: 27.8389 - mse: 997.5129 - val_loss: 380.7565 - val_mae: 16.6701 - val_mse: 380.7565\n",
      "Epoch 65/200\n",
      "9/9 [==============================] - 0s 3ms/step - loss: 791.0563 - mae: 24.8562 - mse: 791.0563 - val_loss: 1662.0070 - val_mae: 39.8685 - val_mse: 1662.0070\n",
      "Epoch 66/200\n",
      "9/9 [==============================] - 0s 3ms/step - loss: 468.6419 - mae: 17.7868 - mse: 468.6419 - val_loss: 436.2554 - val_mae: 17.9546 - val_mse: 436.2554\n",
      "Epoch 67/200\n",
      "9/9 [==============================] - 0s 4ms/step - loss: 947.0042 - mae: 28.2344 - mse: 947.0042 - val_loss: 101.3298 - val_mae: 8.7013 - val_mse: 101.3298\n",
      "Epoch 68/200\n",
      "9/9 [==============================] - 0s 3ms/step - loss: 72.7512 - mae: 6.9246 - mse: 72.7512 - val_loss: 289.2968 - val_mae: 16.0206 - val_mse: 289.2968\n",
      "Epoch 69/200\n",
      "9/9 [==============================] - 0s 3ms/step - loss: 1332.6539 - mae: 29.9123 - mse: 1332.6539 - val_loss: 119.1315 - val_mae: 8.5812 - val_mse: 119.1315\n",
      "Epoch 70/200\n",
      "9/9 [==============================] - 0s 3ms/step - loss: 383.1183 - mae: 14.3705 - mse: 383.1183 - val_loss: 3399.7791 - val_mae: 57.1274 - val_mse: 3399.7791\n",
      "Epoch 71/200\n",
      "9/9 [==============================] - 0s 3ms/step - loss: 691.9202 - mae: 20.3542 - mse: 691.9202 - val_loss: 231.0165 - val_mae: 12.5127 - val_mse: 231.0165\n",
      "Epoch 72/200\n",
      "9/9 [==============================] - 0s 3ms/step - loss: 929.6698 - mae: 27.8067 - mse: 929.6698 - val_loss: 2388.2595 - val_mae: 47.8100 - val_mse: 2388.2595\n",
      "Epoch 73/200\n",
      "9/9 [==============================] - 0s 3ms/step - loss: 478.3857 - mae: 16.8750 - mse: 478.3857 - val_loss: 98.4823 - val_mae: 7.7290 - val_mse: 98.4823\n",
      "Epoch 74/200\n",
      "9/9 [==============================] - 0s 3ms/step - loss: 862.4071 - mae: 26.8188 - mse: 862.4071 - val_loss: 1561.5509 - val_mae: 38.5207 - val_mse: 1561.5509\n",
      "Epoch 75/200\n",
      "9/9 [==============================] - 0s 3ms/step - loss: 479.7005 - mae: 19.0044 - mse: 479.7005 - val_loss: 169.6646 - val_mae: 10.5838 - val_mse: 169.6646\n",
      "Epoch 76/200\n",
      "9/9 [==============================] - 0s 3ms/step - loss: 789.4167 - mae: 24.9970 - mse: 789.4167 - val_loss: 1048.5370 - val_mae: 31.5683 - val_mse: 1048.5370\n",
      "Epoch 77/200\n",
      "9/9 [==============================] - 0s 3ms/step - loss: 468.1220 - mae: 19.2966 - mse: 468.1220 - val_loss: 392.4121 - val_mae: 17.1412 - val_mse: 392.4121\n",
      "Epoch 78/200\n",
      "9/9 [==============================] - 0s 3ms/step - loss: 778.8810 - mae: 25.4394 - mse: 778.8810 - val_loss: 888.6294 - val_mae: 28.9539 - val_mse: 888.6294\n",
      "Epoch 79/200\n",
      "9/9 [==============================] - 0s 3ms/step - loss: 595.0610 - mae: 22.2882 - mse: 595.0610 - val_loss: 227.9949 - val_mae: 12.5441 - val_mse: 227.9949\n",
      "Epoch 80/200\n",
      "9/9 [==============================] - 0s 3ms/step - loss: 603.2200 - mae: 22.3107 - mse: 603.2200 - val_loss: 126.0489 - val_mae: 10.0317 - val_mse: 126.0489\n",
      "Epoch 81/200\n",
      "9/9 [==============================] - 0s 3ms/step - loss: 591.7438 - mae: 20.7982 - mse: 591.7438 - val_loss: 809.5181 - val_mae: 25.6511 - val_mse: 809.5181\n",
      "Epoch 82/200\n",
      "9/9 [==============================] - 0s 4ms/step - loss: 643.9871 - mae: 21.4887 - mse: 643.9871 - val_loss: 53.1705 - val_mae: 5.6687 - val_mse: 53.1705\n",
      "Epoch 83/200\n",
      "9/9 [==============================] - 0s 3ms/step - loss: 444.7414 - mae: 14.7836 - mse: 444.7414 - val_loss: 2412.7446 - val_mae: 47.8145 - val_mse: 2412.7446\n",
      "Epoch 84/200\n",
      "9/9 [==============================] - 0s 4ms/step - loss: 667.5228 - mae: 20.4496 - mse: 667.5228 - val_loss: 63.1389 - val_mae: 5.8742 - val_mse: 63.1389\n",
      "Epoch 85/200\n",
      "9/9 [==============================] - 0s 3ms/step - loss: 752.4661 - mae: 21.5724 - mse: 752.4661 - val_loss: 683.0637 - val_mae: 25.2559 - val_mse: 683.0637\n",
      "Epoch 86/200\n",
      "9/9 [==============================] - 0s 3ms/step - loss: 189.8807 - mae: 11.1946 - mse: 189.8807 - val_loss: 155.0728 - val_mae: 10.1383 - val_mse: 155.0728\n",
      "Epoch 87/200\n",
      "9/9 [==============================] - 0s 4ms/step - loss: 925.9233 - mae: 26.9364 - mse: 925.9233 - val_loss: 592.8093 - val_mae: 23.0843 - val_mse: 592.8093\n",
      "Epoch 88/200\n",
      "9/9 [==============================] - 0s 3ms/step - loss: 471.8682 - mae: 19.6089 - mse: 471.8682 - val_loss: 476.6196 - val_mae: 19.0240 - val_mse: 476.6196\n",
      "Epoch 89/200\n",
      "9/9 [==============================] - 0s 3ms/step - loss: 646.3535 - mae: 22.3890 - mse: 646.3535 - val_loss: 332.4755 - val_mae: 17.3744 - val_mse: 332.4755\n",
      "Epoch 90/200\n",
      "9/9 [==============================] - 0s 4ms/step - loss: 701.2039 - mae: 23.6616 - mse: 701.2039 - val_loss: 273.9602 - val_mae: 14.0441 - val_mse: 273.9602\n",
      "Epoch 91/200\n",
      "9/9 [==============================] - 0s 3ms/step - loss: 440.0331 - mae: 17.8141 - mse: 440.0331 - val_loss: 2219.1606 - val_mae: 46.0382 - val_mse: 2219.1606\n",
      "Epoch 92/200\n",
      "9/9 [==============================] - 0s 3ms/step - loss: 543.9359 - mae: 20.3590 - mse: 543.9359 - val_loss: 538.3568 - val_mae: 20.6037 - val_mse: 538.3568\n",
      "Epoch 93/200\n",
      "9/9 [==============================] - 0s 3ms/step - loss: 738.9515 - mae: 22.9980 - mse: 738.9515 - val_loss: 236.3326 - val_mae: 14.4361 - val_mse: 236.3326\n",
      "Epoch 94/200\n",
      "9/9 [==============================] - 0s 4ms/step - loss: 376.3260 - mae: 16.7099 - mse: 376.3259 - val_loss: 1578.2021 - val_mae: 36.7204 - val_mse: 1578.2021\n",
      "Epoch 95/200\n"
     ]
    },
    {
     "name": "stdout",
     "output_type": "stream",
     "text": [
      "9/9 [==============================] - 0s 3ms/step - loss: 718.3477 - mae: 24.3738 - mse: 718.3477 - val_loss: 1590.0031 - val_mae: 38.9492 - val_mse: 1590.0031\n",
      "Epoch 96/200\n",
      "9/9 [==============================] - 0s 3ms/step - loss: 503.9675 - mae: 19.8831 - mse: 503.9675 - val_loss: 459.7188 - val_mae: 18.7419 - val_mse: 459.7188\n",
      "Epoch 97/200\n",
      "9/9 [==============================] - 0s 3ms/step - loss: 741.6429 - mae: 25.0734 - mse: 741.6429 - val_loss: 826.1069 - val_mae: 28.0309 - val_mse: 826.1069\n",
      "Epoch 98/200\n",
      "9/9 [==============================] - 0s 3ms/step - loss: 401.7166 - mae: 17.9467 - mse: 401.7166 - val_loss: 1213.3657 - val_mae: 31.9722 - val_mse: 1213.3657\n",
      "Epoch 99/200\n",
      "9/9 [==============================] - 0s 4ms/step - loss: 729.3910 - mae: 24.5193 - mse: 729.3910 - val_loss: 92.9312 - val_mae: 8.4445 - val_mse: 92.9312\n",
      "Epoch 100/200\n",
      "9/9 [==============================] - 0s 4ms/step - loss: 62.6693 - mae: 6.3140 - mse: 62.6693 - val_loss: 582.9868 - val_mae: 23.3308 - val_mse: 582.9868\n",
      "Epoch 101/200\n",
      "9/9 [==============================] - 0s 4ms/step - loss: 969.7496 - mae: 24.7036 - mse: 969.7496 - val_loss: 89.2774 - val_mae: 8.2414 - val_mse: 89.2774\n",
      "Epoch 102/200\n",
      "9/9 [==============================] - 0s 3ms/step - loss: 453.4783 - mae: 17.5279 - mse: 453.4783 - val_loss: 525.5250 - val_mae: 20.3533 - val_mse: 525.5250\n",
      "Epoch 103/200\n",
      "9/9 [==============================] - 0s 4ms/step - loss: 534.5267 - mae: 20.1139 - mse: 534.5267 - val_loss: 44.1570 - val_mae: 5.0799 - val_mse: 44.1570\n",
      "Epoch 104/200\n",
      "9/9 [==============================] - 0s 4ms/step - loss: 694.7369 - mae: 19.8747 - mse: 694.7369 - val_loss: 503.5452 - val_mae: 20.0312 - val_mse: 503.5452\n",
      "Epoch 105/200\n",
      "9/9 [==============================] - 0s 3ms/step - loss: 175.9858 - mae: 10.3695 - mse: 175.9858 - val_loss: 273.5234 - val_mae: 15.5255 - val_mse: 273.5234\n",
      "Epoch 106/200\n",
      "9/9 [==============================] - 0s 3ms/step - loss: 856.4216 - mae: 25.0860 - mse: 856.4216 - val_loss: 348.9189 - val_mae: 16.2453 - val_mse: 348.9189\n",
      "Epoch 107/200\n",
      "9/9 [==============================] - 0s 4ms/step - loss: 153.6354 - mae: 9.9179 - mse: 153.6354 - val_loss: 461.5327 - val_mae: 20.5567 - val_mse: 461.5327\n",
      "Epoch 108/200\n",
      "9/9 [==============================] - 0s 3ms/step - loss: 752.3021 - mae: 24.9627 - mse: 752.3021 - val_loss: 142.2225 - val_mae: 9.7401 - val_mse: 142.2225\n",
      "Epoch 109/200\n",
      "9/9 [==============================] - 0s 3ms/step - loss: 222.3073 - mae: 12.1943 - mse: 222.3073 - val_loss: 1153.6997 - val_mae: 33.2155 - val_mse: 1153.6997\n",
      "Epoch 110/200\n",
      "9/9 [==============================] - 0s 4ms/step - loss: 658.5049 - mae: 22.4099 - mse: 658.5049 - val_loss: 154.0350 - val_mae: 10.1134 - val_mse: 154.0350\n",
      "Epoch 111/200\n",
      "9/9 [==============================] - 0s 4ms/step - loss: 550.2048 - mae: 21.0310 - mse: 550.2048 - val_loss: 266.3496 - val_mae: 15.5742 - val_mse: 266.3496\n",
      "Epoch 112/200\n",
      "9/9 [==============================] - 0s 3ms/step - loss: 81.3157 - mae: 7.0819 - mse: 81.3157 - val_loss: 62.7037 - val_mae: 6.5519 - val_mse: 62.7037\n",
      "Epoch 113/200\n",
      "9/9 [==============================] - 0s 4ms/step - loss: 968.1944 - mae: 24.8751 - mse: 968.1944 - val_loss: 166.2743 - val_mae: 10.5763 - val_mse: 166.2743\n",
      "Epoch 114/200\n",
      "9/9 [==============================] - 0s 3ms/step - loss: 105.8794 - mae: 8.2999 - mse: 105.8794 - val_loss: 284.3015 - val_mae: 15.7533 - val_mse: 284.3015\n",
      "Epoch 115/200\n",
      "9/9 [==============================] - 0s 4ms/step - loss: 816.5784 - mae: 25.3306 - mse: 816.5784 - val_loss: 84.1060 - val_mae: 7.2608 - val_mse: 84.1060\n",
      "Epoch 116/200\n",
      "9/9 [==============================] - 0s 3ms/step - loss: 189.2123 - mae: 10.8914 - mse: 189.2123 - val_loss: 998.1039 - val_mae: 31.0639 - val_mse: 998.1039\n",
      "Epoch 117/200\n",
      "9/9 [==============================] - 0s 3ms/step - loss: 622.7076 - mae: 22.0265 - mse: 622.7076 - val_loss: 47.3292 - val_mae: 5.3320 - val_mse: 47.3292\n",
      "Epoch 118/200\n",
      "9/9 [==============================] - 0s 4ms/step - loss: 339.6006 - mae: 13.8284 - mse: 339.6006 - val_loss: 772.6336 - val_mae: 27.3060 - val_mse: 772.6336\n",
      "Epoch 119/200\n",
      "9/9 [==============================] - 0s 3ms/step - loss: 410.2328 - mae: 17.8311 - mse: 410.2328 - val_loss: 61.2941 - val_mae: 6.1263 - val_mse: 61.2941\n",
      "Epoch 120/200\n",
      "9/9 [==============================] - 0s 3ms/step - loss: 553.8240 - mae: 19.8968 - mse: 553.8240 - val_loss: 588.5704 - val_mae: 23.8452 - val_mse: 588.5704\n",
      "Epoch 121/200\n",
      "9/9 [==============================] - 0s 3ms/step - loss: 270.9791 - mae: 14.5605 - mse: 270.9791 - val_loss: 236.9098 - val_mae: 12.8982 - val_mse: 236.9098\n",
      "Epoch 122/200\n",
      "9/9 [==============================] - 0s 3ms/step - loss: 591.4788 - mae: 21.9170 - mse: 591.4788 - val_loss: 225.4303 - val_mae: 14.2425 - val_mse: 225.4303\n",
      "Epoch 123/200\n",
      "9/9 [==============================] - 0s 4ms/step - loss: 315.7215 - mae: 15.0140 - mse: 315.7215 - val_loss: 1013.4725 - val_mae: 29.1256 - val_mse: 1013.4725\n",
      "Epoch 124/200\n",
      "9/9 [==============================] - 0s 3ms/step - loss: 480.6920 - mae: 19.9189 - mse: 480.6920 - val_loss: 307.2061 - val_mae: 16.9190 - val_mse: 307.2061\n",
      "Epoch 125/200\n",
      "9/9 [==============================] - 0s 3ms/step - loss: 475.7369 - mae: 19.4225 - mse: 475.7369 - val_loss: 333.2963 - val_mae: 15.8423 - val_mse: 333.2963\n",
      "Epoch 126/200\n",
      "9/9 [==============================] - 0s 4ms/step - loss: 347.0891 - mae: 16.8018 - mse: 347.0891 - val_loss: 611.1637 - val_mae: 24.0535 - val_mse: 611.1637\n",
      "Epoch 127/200\n",
      "9/9 [==============================] - 0s 4ms/step - loss: 467.9632 - mae: 17.7929 - mse: 467.9632 - val_loss: 207.1639 - val_mae: 12.2281 - val_mse: 207.1639\n",
      "Epoch 128/200\n",
      "9/9 [==============================] - 0s 4ms/step - loss: 407.4854 - mae: 18.4229 - mse: 407.4854 - val_loss: 317.1587 - val_mae: 17.0462 - val_mse: 317.1587\n",
      "Epoch 129/200\n",
      "9/9 [==============================] - 0s 4ms/step - loss: 432.2360 - mae: 19.0838 - mse: 432.2360 - val_loss: 316.8949 - val_mae: 15.3855 - val_mse: 316.8949\n",
      "Epoch 130/200\n",
      "9/9 [==============================] - 0s 3ms/step - loss: 474.4644 - mae: 19.7752 - mse: 474.4644 - val_loss: 376.9230 - val_mae: 18.6517 - val_mse: 376.9230\n",
      "Epoch 131/200\n",
      "9/9 [==============================] - 0s 3ms/step - loss: 416.0976 - mae: 18.9550 - mse: 416.0976 - val_loss: 326.2848 - val_mae: 15.9203 - val_mse: 326.2848\n",
      "Epoch 132/200\n",
      "9/9 [==============================] - 0s 4ms/step - loss: 281.8953 - mae: 15.1512 - mse: 281.8953 - val_loss: 1072.5277 - val_mae: 31.7979 - val_mse: 1072.5277\n",
      "Epoch 133/200\n",
      "9/9 [==============================] - 0s 4ms/step - loss: 504.5455 - mae: 19.7697 - mse: 504.5455 - val_loss: 35.6706 - val_mae: 4.5429 - val_mse: 35.6706\n",
      "Epoch 134/200\n",
      "9/9 [==============================] - 0s 4ms/step - loss: 69.7385 - mae: 6.1666 - mse: 69.7385 - val_loss: 964.6060 - val_mae: 30.2465 - val_mse: 964.6060\n",
      "Epoch 135/200\n",
      "9/9 [==============================] - 0s 3ms/step - loss: 692.4268 - mae: 20.7356 - mse: 692.4268 - val_loss: 100.8395 - val_mae: 9.0077 - val_mse: 100.8395\n",
      "Epoch 136/200\n",
      "9/9 [==============================] - 0s 3ms/step - loss: 87.9940 - mae: 7.4533 - mse: 87.9940 - val_loss: 956.1483 - val_mae: 28.6987 - val_mse: 956.1483\n",
      "Epoch 137/200\n",
      "9/9 [==============================] - 0s 4ms/step - loss: 753.1671 - mae: 23.2170 - mse: 753.1671 - val_loss: 47.6714 - val_mae: 5.5380 - val_mse: 47.6714\n",
      "Epoch 138/200\n",
      "9/9 [==============================] - 0s 4ms/step - loss: 48.4503 - mae: 5.5567 - mse: 48.4503 - val_loss: 222.1361 - val_mae: 12.9123 - val_mse: 222.1361\n",
      "Epoch 139/200\n",
      "9/9 [==============================] - 0s 4ms/step - loss: 770.5785 - mae: 23.0111 - mse: 770.5785 - val_loss: 56.7723 - val_mae: 6.2880 - val_mse: 56.7723\n",
      "Epoch 140/200\n",
      "9/9 [==============================] - 0s 4ms/step - loss: 40.4916 - mae: 4.9622 - mse: 40.4916 - val_loss: 60.0709 - val_mae: 6.5466 - val_mse: 60.0709\n",
      "Epoch 141/200\n",
      "9/9 [==============================] - 0s 4ms/step - loss: 592.8934 - mae: 16.8763 - mse: 592.8934 - val_loss: 140.7045 - val_mae: 9.9650 - val_mse: 140.7045\n",
      "Epoch 142/200\n",
      "9/9 [==============================] - 0s 4ms/step - loss: 96.1868 - mae: 7.7572 - mse: 96.1868 - val_loss: 1156.8082 - val_mae: 33.0422 - val_mse: 1156.8082\n"
     ]
    },
    {
     "name": "stdout",
     "output_type": "stream",
     "text": [
      "Epoch 143/200\n",
      "9/9 [==============================] - 0s 4ms/step - loss: 461.3291 - mae: 17.2222 - mse: 461.3291 - val_loss: 65.1037 - val_mae: 6.4442 - val_mse: 65.1037\n",
      "Epoch 144/200\n",
      "9/9 [==============================] - 0s 3ms/step - loss: 470.0353 - mae: 17.4878 - mse: 470.0353 - val_loss: 38.4067 - val_mae: 4.8553 - val_mse: 38.4067\n",
      "Epoch 145/200\n",
      "9/9 [==============================] - 0s 3ms/step - loss: 260.0920 - mae: 12.2867 - mse: 260.0920 - val_loss: 664.1343 - val_mae: 23.5934 - val_mse: 664.1343\n",
      "Epoch 146/200\n",
      "9/9 [==============================] - 0s 4ms/step - loss: 477.5815 - mae: 19.7505 - mse: 477.5815 - val_loss: 230.3036 - val_mae: 14.4378 - val_mse: 230.3036\n",
      "Epoch 147/200\n",
      "9/9 [==============================] - 0s 4ms/step - loss: 168.9536 - mae: 11.4251 - mse: 168.9536 - val_loss: 189.6575 - val_mae: 11.6656 - val_mse: 189.6575\n",
      "Epoch 148/200\n",
      "9/9 [==============================] - 0s 3ms/step - loss: 533.4480 - mae: 20.8428 - mse: 533.4480 - val_loss: 436.6873 - val_mae: 20.3153 - val_mse: 436.6873\n",
      "Epoch 149/200\n",
      "9/9 [==============================] - 0s 3ms/step - loss: 251.2693 - mae: 14.1493 - mse: 251.2693 - val_loss: 84.7695 - val_mae: 7.5051 - val_mse: 84.7695\n",
      "Epoch 150/200\n",
      "9/9 [==============================] - 0s 3ms/step - loss: 523.9279 - mae: 19.9029 - mse: 523.9279 - val_loss: 517.5804 - val_mae: 22.0967 - val_mse: 517.5804\n",
      "Epoch 151/200\n",
      "9/9 [==============================] - 0s 3ms/step - loss: 251.7082 - mae: 13.0808 - mse: 251.7082 - val_loss: 32.5408 - val_mae: 4.3559 - val_mse: 32.5408\n",
      "Epoch 152/200\n",
      "9/9 [==============================] - 0s 3ms/step - loss: 513.3580 - mae: 17.4736 - mse: 513.3580 - val_loss: 590.1682 - val_mae: 22.2075 - val_mse: 590.1682\n",
      "Epoch 153/200\n",
      "9/9 [==============================] - 0s 3ms/step - loss: 165.6980 - mae: 10.0031 - mse: 165.6980 - val_loss: 87.1278 - val_mae: 8.3093 - val_mse: 87.1278\n",
      "Epoch 154/200\n",
      "9/9 [==============================] - 0s 4ms/step - loss: 477.3087 - mae: 18.8927 - mse: 477.3087 - val_loss: 213.6674 - val_mae: 12.6015 - val_mse: 213.6674\n",
      "Epoch 155/200\n",
      "9/9 [==============================] - 0s 4ms/step - loss: 328.7484 - mae: 16.4425 - mse: 328.7484 - val_loss: 798.8453 - val_mae: 27.4565 - val_mse: 798.8453\n",
      "Epoch 156/200\n",
      "9/9 [==============================] - 0s 3ms/step - loss: 286.2490 - mae: 14.1651 - mse: 286.2490 - val_loss: 80.8338 - val_mae: 7.3476 - val_mse: 80.8338\n",
      "Epoch 157/200\n",
      "9/9 [==============================] - 0s 4ms/step - loss: 431.3213 - mae: 18.4617 - mse: 431.3213 - val_loss: 46.7987 - val_mae: 5.6017 - val_mse: 46.7987\n",
      "Epoch 158/200\n",
      "9/9 [==============================] - 0s 3ms/step - loss: 60.4632 - mae: 6.2257 - mse: 60.4632 - val_loss: 365.9953 - val_mae: 17.2122 - val_mse: 365.9953\n",
      "Epoch 159/200\n",
      "9/9 [==============================] - 0s 4ms/step - loss: 552.6157 - mae: 19.9339 - mse: 552.6157 - val_loss: 70.8562 - val_mae: 7.3349 - val_mse: 70.8562\n",
      "Epoch 160/200\n",
      "9/9 [==============================] - 0s 4ms/step - loss: 228.5972 - mae: 11.7850 - mse: 228.5972 - val_loss: 953.6010 - val_mae: 28.7759 - val_mse: 953.6010\n",
      "Epoch 161/200\n",
      "9/9 [==============================] - 0s 4ms/step - loss: 345.9506 - mae: 14.8085 - mse: 345.9506 - val_loss: 48.1539 - val_mae: 5.6850 - val_mse: 48.1539\n",
      "Epoch 162/200\n",
      "9/9 [==============================] - 0s 4ms/step - loss: 423.9047 - mae: 16.4468 - mse: 423.9047 - val_loss: 85.5268 - val_mae: 7.5432 - val_mse: 85.5268\n",
      "Epoch 163/200\n",
      "9/9 [==============================] - 0s 3ms/step - loss: 212.8470 - mae: 11.7249 - mse: 212.8470 - val_loss: 393.1467 - val_mae: 19.2436 - val_mse: 393.1467\n",
      "Epoch 164/200\n",
      "9/9 [==============================] - 0s 4ms/step - loss: 329.6783 - mae: 16.6403 - mse: 329.6783 - val_loss: 322.7006 - val_mae: 16.0762 - val_mse: 322.7006\n",
      "Epoch 165/200\n",
      "9/9 [==============================] - 0s 4ms/step - loss: 359.2505 - mae: 17.3728 - mse: 359.2505 - val_loss: 430.6154 - val_mae: 20.1156 - val_mse: 430.6154\n",
      "Epoch 166/200\n",
      "9/9 [==============================] - 0s 4ms/step - loss: 346.4515 - mae: 17.0549 - mse: 346.4515 - val_loss: 492.6883 - val_mae: 20.2503 - val_mse: 492.6883\n",
      "Epoch 167/200\n",
      "9/9 [==============================] - 0s 4ms/step - loss: 229.3808 - mae: 12.5819 - mse: 229.3808 - val_loss: 47.0196 - val_mae: 5.6364 - val_mse: 47.0196\n",
      "Epoch 168/200\n",
      "9/9 [==============================] - 0s 3ms/step - loss: 394.0349 - mae: 15.4263 - mse: 394.0349 - val_loss: 250.1526 - val_mae: 13.9273 - val_mse: 250.1526\n",
      "Epoch 169/200\n",
      "9/9 [==============================] - 0s 3ms/step - loss: 186.0167 - mae: 11.7792 - mse: 186.0167 - val_loss: 120.2679 - val_mae: 10.0744 - val_mse: 120.2679\n",
      "Epoch 170/200\n",
      "9/9 [==============================] - 0s 3ms/step - loss: 470.3398 - mae: 19.0285 - mse: 470.3398 - val_loss: 35.7656 - val_mae: 4.8009 - val_mse: 35.7656\n",
      "Epoch 171/200\n",
      "9/9 [==============================] - 0s 4ms/step - loss: 95.3258 - mae: 7.5363 - mse: 95.3258 - val_loss: 1622.9425 - val_mae: 39.2356 - val_mse: 1622.9425\n",
      "Epoch 172/200\n",
      "9/9 [==============================] - 0s 3ms/step - loss: 395.1090 - mae: 15.6650 - mse: 395.1090 - val_loss: 30.9013 - val_mae: 4.4183 - val_mse: 30.9013\n",
      "Epoch 173/200\n",
      "9/9 [==============================] - 0s 3ms/step - loss: 471.5003 - mae: 17.3153 - mse: 471.5003 - val_loss: 427.5774 - val_mae: 19.9974 - val_mse: 427.5774\n",
      "Epoch 174/200\n",
      "9/9 [==============================] - 0s 4ms/step - loss: 99.0597 - mae: 7.8409 - mse: 99.0597 - val_loss: 47.6391 - val_mae: 5.5753 - val_mse: 47.6391\n",
      "Epoch 175/200\n",
      "9/9 [==============================] - 0s 3ms/step - loss: 419.5415 - mae: 17.2700 - mse: 419.5415 - val_loss: 510.1687 - val_mae: 21.9921 - val_mse: 510.1687\n",
      "Epoch 176/200\n",
      "9/9 [==============================] - 0s 3ms/step - loss: 230.9591 - mae: 13.3215 - mse: 230.9591 - val_loss: 113.0925 - val_mae: 8.8378 - val_mse: 113.0925\n",
      "Epoch 177/200\n",
      "9/9 [==============================] - 0s 3ms/step - loss: 349.4164 - mae: 17.1510 - mse: 349.4164 - val_loss: 492.4656 - val_mae: 21.7498 - val_mse: 492.4656\n",
      "Epoch 178/200\n",
      "9/9 [==============================] - 0s 3ms/step - loss: 326.6512 - mae: 16.0696 - mse: 326.6512 - val_loss: 56.7352 - val_mae: 6.1170 - val_mse: 56.7352\n",
      "Epoch 179/200\n",
      "9/9 [==============================] - 0s 3ms/step - loss: 213.8927 - mae: 10.6708 - mse: 213.8927 - val_loss: 996.8250 - val_mae: 30.8373 - val_mse: 996.8250\n",
      "Epoch 180/200\n",
      "9/9 [==============================] - 0s 4ms/step - loss: 255.2210 - mae: 12.2751 - mse: 255.2210 - val_loss: 28.9074 - val_mae: 4.1936 - val_mse: 28.9074\n",
      "Epoch 181/200\n",
      "9/9 [==============================] - 0s 4ms/step - loss: 405.6754 - mae: 17.0358 - mse: 405.6754 - val_loss: 284.3464 - val_mae: 16.2198 - val_mse: 284.3464\n",
      "Epoch 182/200\n",
      "9/9 [==============================] - 0s 3ms/step - loss: 204.8947 - mae: 12.7288 - mse: 204.8947 - val_loss: 332.1565 - val_mae: 16.3007 - val_mse: 332.1565\n",
      "Epoch 183/200\n",
      "9/9 [==============================] - 0s 3ms/step - loss: 243.5179 - mae: 13.3939 - mse: 243.5179 - val_loss: 470.4849 - val_mae: 21.0687 - val_mse: 470.4849\n",
      "Epoch 184/200\n",
      "9/9 [==============================] - 0s 3ms/step - loss: 357.3575 - mae: 17.5281 - mse: 357.3575 - val_loss: 381.7357 - val_mae: 17.5389 - val_mse: 381.7357\n",
      "Epoch 185/200\n",
      "9/9 [==============================] - 0s 4ms/step - loss: 282.4769 - mae: 15.3387 - mse: 282.4769 - val_loss: 175.8984 - val_mae: 12.5647 - val_mse: 175.8984\n",
      "Epoch 186/200\n",
      "9/9 [==============================] - 0s 3ms/step - loss: 312.0576 - mae: 16.1111 - mse: 312.0576 - val_loss: 382.8903 - val_mae: 17.7275 - val_mse: 382.8903\n",
      "Epoch 187/200\n",
      "9/9 [==============================] - 0s 4ms/step - loss: 196.5525 - mae: 11.7797 - mse: 196.5525 - val_loss: 27.9330 - val_mae: 4.0960 - val_mse: 27.9330\n",
      "Epoch 188/200\n",
      "9/9 [==============================] - 0s 4ms/step - loss: 353.8782 - mae: 14.8599 - mse: 353.8782 - val_loss: 47.0316 - val_mae: 5.5448 - val_mse: 47.0316\n",
      "Epoch 189/200\n",
      "9/9 [==============================] - 0s 3ms/step - loss: 156.8058 - mae: 10.4664 - mse: 156.8058 - val_loss: 868.0582 - val_mae: 28.7848 - val_mse: 868.0582\n",
      "Epoch 190/200\n",
      "9/9 [==============================] - 0s 4ms/step - loss: 281.4975 - mae: 13.8455 - mse: 281.4975 - val_loss: 103.0737 - val_mae: 8.4789 - val_mse: 103.0737\n"
     ]
    },
    {
     "name": "stdout",
     "output_type": "stream",
     "text": [
      "Epoch 191/200\n",
      "9/9 [==============================] - 0s 4ms/step - loss: 348.1954 - mae: 16.6951 - mse: 348.1954 - val_loss: 164.8666 - val_mae: 12.1261 - val_mse: 164.8666\n",
      "Epoch 192/200\n",
      "9/9 [==============================] - 0s 3ms/step - loss: 214.8055 - mae: 13.0031 - mse: 214.8055 - val_loss: 219.0673 - val_mae: 12.9645 - val_mse: 219.0673\n",
      "Epoch 193/200\n",
      "9/9 [==============================] - 0s 4ms/step - loss: 310.9964 - mae: 16.1767 - mse: 310.9964 - val_loss: 238.7233 - val_mae: 14.8692 - val_mse: 238.7233\n",
      "Epoch 194/200\n",
      "9/9 [==============================] - 0s 3ms/step - loss: 176.7104 - mae: 12.0639 - mse: 176.7104 - val_loss: 273.1088 - val_mae: 14.6557 - val_mse: 273.1088\n",
      "Epoch 195/200\n",
      "9/9 [==============================] - 0s 3ms/step - loss: 360.7165 - mae: 16.2731 - mse: 360.7165 - val_loss: 133.5091 - val_mae: 10.7889 - val_mse: 133.5091\n",
      "Epoch 196/200\n",
      "9/9 [==============================] - 0s 3ms/step - loss: 228.7864 - mae: 13.5738 - mse: 228.7864 - val_loss: 270.3100 - val_mae: 14.7299 - val_mse: 270.3100\n",
      "Epoch 197/200\n",
      "9/9 [==============================] - 0s 3ms/step - loss: 184.1629 - mae: 11.9149 - mse: 184.1629 - val_loss: 100.3919 - val_mae: 9.0403 - val_mse: 100.3919\n",
      "Epoch 198/200\n",
      "9/9 [==============================] - 0s 3ms/step - loss: 330.3982 - mae: 16.3446 - mse: 330.3982 - val_loss: 263.4728 - val_mae: 14.5957 - val_mse: 263.4728\n",
      "Epoch 199/200\n",
      "9/9 [==============================] - 0s 3ms/step - loss: 173.2266 - mae: 11.6740 - mse: 173.2266 - val_loss: 131.2977 - val_mae: 10.7042 - val_mse: 131.2977\n",
      "Epoch 200/200\n",
      "9/9 [==============================] - 0s 3ms/step - loss: 365.3477 - mae: 16.8348 - mse: 365.3477 - val_loss: 97.3433 - val_mae: 8.2642 - val_mse: 97.3433\n"
     ]
    }
   ],
   "source": [
    "EPOCHS = 200\n",
    "\n",
    "history = model.fit(\n",
    "  X_train_prac, y_train,\n",
    "  epochs=EPOCHS, validation_split = 0.2, verbose=1)"
   ]
  },
  {
   "cell_type": "markdown",
   "metadata": {
    "id": "tQm3pc0FYPQB"
   },
   "source": [
    "Podríamos visualizar la historia del entrenamiento durante cada época en un dataframe usando las estadísticas almacenadas en el diccionario `history.history`.\n",
    "\n",
    "Realizaremos algunas manipulaciones adicionales con las historia del entrenamiento."
   ]
  },
  {
   "cell_type": "code",
   "execution_count": 23,
   "metadata": {
    "id": "4Xj91b-dymEy"
   },
   "outputs": [
    {
     "data": {
      "text/html": [
       "<div>\n",
       "<style scoped>\n",
       "    .dataframe tbody tr th:only-of-type {\n",
       "        vertical-align: middle;\n",
       "    }\n",
       "\n",
       "    .dataframe tbody tr th {\n",
       "        vertical-align: top;\n",
       "    }\n",
       "\n",
       "    .dataframe thead th {\n",
       "        text-align: right;\n",
       "    }\n",
       "</style>\n",
       "<table border=\"1\" class=\"dataframe\">\n",
       "  <thead>\n",
       "    <tr style=\"text-align: right;\">\n",
       "      <th></th>\n",
       "      <th>loss</th>\n",
       "      <th>mae</th>\n",
       "      <th>mse</th>\n",
       "      <th>val_loss</th>\n",
       "      <th>val_mae</th>\n",
       "      <th>val_mse</th>\n",
       "      <th>epoch</th>\n",
       "    </tr>\n",
       "  </thead>\n",
       "  <tbody>\n",
       "    <tr>\n",
       "      <th>195</th>\n",
       "      <td>228.786438</td>\n",
       "      <td>13.573795</td>\n",
       "      <td>228.786438</td>\n",
       "      <td>270.310028</td>\n",
       "      <td>14.729947</td>\n",
       "      <td>270.310028</td>\n",
       "      <td>195</td>\n",
       "    </tr>\n",
       "    <tr>\n",
       "      <th>196</th>\n",
       "      <td>184.162949</td>\n",
       "      <td>11.914854</td>\n",
       "      <td>184.162949</td>\n",
       "      <td>100.391876</td>\n",
       "      <td>9.040339</td>\n",
       "      <td>100.391876</td>\n",
       "      <td>196</td>\n",
       "    </tr>\n",
       "    <tr>\n",
       "      <th>197</th>\n",
       "      <td>330.398224</td>\n",
       "      <td>16.344553</td>\n",
       "      <td>330.398224</td>\n",
       "      <td>263.472809</td>\n",
       "      <td>14.595678</td>\n",
       "      <td>263.472809</td>\n",
       "      <td>197</td>\n",
       "    </tr>\n",
       "    <tr>\n",
       "      <th>198</th>\n",
       "      <td>173.226639</td>\n",
       "      <td>11.673950</td>\n",
       "      <td>173.226639</td>\n",
       "      <td>131.297729</td>\n",
       "      <td>10.704225</td>\n",
       "      <td>131.297729</td>\n",
       "      <td>198</td>\n",
       "    </tr>\n",
       "    <tr>\n",
       "      <th>199</th>\n",
       "      <td>365.347717</td>\n",
       "      <td>16.834818</td>\n",
       "      <td>365.347717</td>\n",
       "      <td>97.343277</td>\n",
       "      <td>8.264176</td>\n",
       "      <td>97.343277</td>\n",
       "      <td>199</td>\n",
       "    </tr>\n",
       "  </tbody>\n",
       "</table>\n",
       "</div>"
      ],
      "text/plain": [
       "           loss        mae         mse    val_loss    val_mae     val_mse   \n",
       "195  228.786438  13.573795  228.786438  270.310028  14.729947  270.310028  \\\n",
       "196  184.162949  11.914854  184.162949  100.391876   9.040339  100.391876   \n",
       "197  330.398224  16.344553  330.398224  263.472809  14.595678  263.472809   \n",
       "198  173.226639  11.673950  173.226639  131.297729  10.704225  131.297729   \n",
       "199  365.347717  16.834818  365.347717   97.343277   8.264176   97.343277   \n",
       "\n",
       "     epoch  \n",
       "195    195  \n",
       "196    196  \n",
       "197    197  \n",
       "198    198  \n",
       "199    199  "
      ]
     },
     "execution_count": 23,
     "metadata": {},
     "output_type": "execute_result"
    }
   ],
   "source": [
    "hist = pd.DataFrame(history.history)\n",
    "hist['epoch'] = history.epoch\n",
    "hist.tail()"
   ]
  },
  {
   "cell_type": "markdown",
   "metadata": {
    "id": "y0BirpL1ufpk"
   },
   "source": [
    "Definimos la siguiente función para graficar las métricas de rendimiento durante el entrenamiento."
   ]
  },
  {
   "cell_type": "code",
   "execution_count": 24,
   "metadata": {
    "id": "lguXVmMsioiT"
   },
   "outputs": [],
   "source": [
    "def plot_history(history):\n",
    "    plt.figure()\n",
    "    plt.xlabel('Epoch')\n",
    "    plt.ylabel('Mean Abs Error [MPG]')\n",
    "    plt.plot(history.epoch, history.history['mae'],\n",
    "            label='Train Error')\n",
    "    plt.plot(history.epoch, history.history['val_mae'],\n",
    "            label = 'Val Error')\n",
    "    plt.legend()\n",
    "\n",
    "    plt.figure()\n",
    "    plt.xlabel('Epoch')\n",
    "    plt.ylabel('Mean Square Error [$MPG^2$]')\n",
    "    plt.plot(history.epoch, history.history['mse'],\n",
    "            label='Train Error')\n",
    "    plt.plot(history.epoch, history.history['val_mse'],\n",
    "            label = 'Val Error')\n",
    "    plt.legend()\n",
    "    plt.show()"
   ]
  },
  {
   "cell_type": "code",
   "execution_count": 25,
   "metadata": {
    "id": "B6XriGbVPh2t"
   },
   "outputs": [
    {
     "data": {
      "image/png": "[encoded data removed]",
      "text/plain": [
       "<Figure size 640x480 with 1 Axes>"
      ]
     },
     "metadata": {},
     "output_type": "display_data"
    },
    {
     "data": {
      "image/png": "[encoded data removed]",
      "text/plain": [
       "<Figure size 640x480 with 1 Axes>"
      ]
     },
     "metadata": {},
     "output_type": "display_data"
    }
   ],
   "source": [
    "plot_history(history)"
   ]
  },
  {
   "cell_type": "markdown",
   "metadata": {
    "id": "AqsuANc11FYv"
   },
   "source": [
    "Este gráfico muestra poca mejora, o incluso degradación en el error de validación después de aproximadamente 100 épocas. **Esta es una señal de overfitting**.\n",
    "\n",
    "Repitamos el entrenamiento con menos épocas.\n",
    "\n",
    "Observa el parámetro `verbose`"
   ]
  },
  {
   "cell_type": "code",
   "execution_count": 101,
   "metadata": {},
   "outputs": [],
   "source": [
    "def build_model():\n",
    "    model = keras.Sequential([\n",
    "    layers.Dense(80, activation='sigmoid', input_shape=[X_train_scl.shape[1]]),\n",
    "    layers.Dense(80, activation='sigmoid'),\n",
    "    layers.Dense(80, activation='sigmoid'),\n",
    "    layers.Dense(1)\n",
    "    ])\n",
    "    #optimizer = tf.keras.optimizers.RMSprop(0.001)\n",
    "    #optimizer = keras.optimizers.Adam(learning_rate=0.001)\n",
    "    optimizer = keras.optimizers.experimental.SGD(learning_rate=0.01)\n",
    "    \n",
    "    model.compile(loss='mse',\n",
    "                optimizer=optimizer,\n",
    "                metrics=['mae', 'mse'])\n",
    "    return model"
   ]
  },
  {
   "cell_type": "code",
   "execution_count": 107,
   "metadata": {
    "id": "fdMZuhUgzMZ4"
   },
   "outputs": [
    {
     "name": "stdout",
     "output_type": "stream",
     "text": [
      "Model: \"sequential_36\"\n",
      "_________________________________________________________________\n",
      " Layer (type)                Output Shape              Param #   \n",
      "=================================================================\n",
      " dense_150 (Dense)           (None, 80)                800       \n",
      "                                                                 \n",
      " dense_151 (Dense)           (None, 80)                6480      \n",
      "                                                                 \n",
      " dense_152 (Dense)           (None, 80)                6480      \n",
      "                                                                 \n",
      " dense_153 (Dense)           (None, 1)                 81        \n",
      "                                                                 \n",
      "=================================================================\n",
      "Total params: 13,841\n",
      "Trainable params: 13,841\n",
      "Non-trainable params: 0\n",
      "_________________________________________________________________\n",
      "2/2 - 0s - loss: 5.8949 - mae: 1.6444 - mse: 5.8949 - 17ms/epoch - 9ms/step\n",
      "MAE para las predicciones en el conjunto de prueba: 1.6444 MPG\n"
     ]
    },
    {
     "data": {
      "image/png": "[encoded data removed]",
      "text/plain": [
       "<Figure size 640x480 with 1 Axes>"
      ]
     },
     "metadata": {},
     "output_type": "display_data"
    },
    {
     "data": {
      "image/png": "[encoded data removed]",
      "text/plain": [
       "<Figure size 640x480 with 1 Axes>"
      ]
     },
     "metadata": {},
     "output_type": "display_data"
    }
   ],
   "source": [
    "model_me = build_model()\n",
    "\n",
    "EPOCHS = 500\n",
    "\n",
    "#history = model_me.fit(X_train_scl, y_train, epochs=EPOCHS,\n",
    "#                    validation_split = 0.2, verbose=0)\n",
    "\n",
    "model_me.summary()\n",
    "\n",
    "history = model_me.fit(X_train_scl, y_train, epochs=EPOCHS,\n",
    "                    validation_split = 0.2, verbose=False)\n",
    "\n",
    "loss, mae, mse = model_me.evaluate(X_test_scl, y_test, verbose=2)\n",
    "print(f\"MAE para las predicciones en el conjunto de prueba: {np.round(mae,4)} MPG\")\n",
    "\n",
    "plot_history(history)"
   ]
  },
  {
   "cell_type": "code",
   "execution_count": 140,
   "metadata": {},
   "outputs": [
    {
     "data": {
      "text/plain": [
       "array([[4.000e+00],\n",
       "       [1.200e+02],\n",
       "       [7.900e+01],\n",
       "       [2.625e+03],\n",
       "       [1.860e+01],\n",
       "       [8.200e+01],\n",
       "       [1.000e+00],\n",
       "       [0.000e+00],\n",
       "       [0.000e+00]])"
      ]
     },
     "execution_count": 140,
     "metadata": {},
     "output_type": "execute_result"
    }
   ],
   "source": [
    "valor1"
   ]
  },
  {
   "cell_type": "code",
   "execution_count": 155,
   "metadata": {},
   "outputs": [
    {
     "data": {
      "text/html": [
       "<div>\n",
       "<style scoped>\n",
       "    .dataframe tbody tr th:only-of-type {\n",
       "        vertical-align: middle;\n",
       "    }\n",
       "\n",
       "    .dataframe tbody tr th {\n",
       "        vertical-align: top;\n",
       "    }\n",
       "\n",
       "    .dataframe thead th {\n",
       "        text-align: right;\n",
       "    }\n",
       "</style>\n",
       "<table border=\"1\" class=\"dataframe\">\n",
       "  <thead>\n",
       "    <tr style=\"text-align: right;\">\n",
       "      <th></th>\n",
       "      <th>Cylinders</th>\n",
       "      <th>Displacement</th>\n",
       "      <th>Horsepower</th>\n",
       "      <th>Weight</th>\n",
       "      <th>Acceleration</th>\n",
       "      <th>Model Year</th>\n",
       "      <th>Origin</th>\n",
       "      <th>Origin_2</th>\n",
       "      <th>Origin_3</th>\n",
       "    </tr>\n",
       "  </thead>\n",
       "  <tbody>\n",
       "    <tr>\n",
       "      <th>0</th>\n",
       "      <td>4</td>\n",
       "      <td>120</td>\n",
       "      <td>79</td>\n",
       "      <td>2625</td>\n",
       "      <td>18.6</td>\n",
       "      <td>82</td>\n",
       "      <td>1</td>\n",
       "      <td>0</td>\n",
       "      <td>0</td>\n",
       "    </tr>\n",
       "    <tr>\n",
       "      <th>1</th>\n",
       "      <td>4</td>\n",
       "      <td>119</td>\n",
       "      <td>82</td>\n",
       "      <td>2720</td>\n",
       "      <td>19.4</td>\n",
       "      <td>82</td>\n",
       "      <td>1</td>\n",
       "      <td>0</td>\n",
       "      <td>0</td>\n",
       "    </tr>\n",
       "  </tbody>\n",
       "</table>\n",
       "</div>"
      ],
      "text/plain": [
       "   Cylinders  Displacement  Horsepower  Weight  Acceleration  Model Year   \n",
       "0          4           120          79    2625          18.6          82  \\\n",
       "1          4           119          82    2720          19.4          82   \n",
       "\n",
       "   Origin  Origin_2  Origin_3  \n",
       "0       1         0         0  \n",
       "1       1         0         0  "
      ]
     },
     "metadata": {},
     "output_type": "display_data"
    },
    {
     "name": "stdout",
     "output_type": "stream",
     "text": [
      "Cylinders          4.0\n",
      "Displacement     120.0\n",
      "Horsepower        79.0\n",
      "Weight          2625.0\n",
      "Acceleration      18.6\n",
      "Model Year        82.0\n",
      "Origin             1.0\n",
      "Origin_2           0.0\n",
      "Origin_3           0.0\n",
      "Name: 0, dtype: float64\n",
      "Cylinders          4.0\n",
      "Displacement     120.0\n",
      "Horsepower        79.0\n",
      "Weight          2625.0\n",
      "Acceleration      18.6\n",
      "Model Year        82.0\n",
      "Origin             1.0\n",
      "Origin_2           0.0\n",
      "Origin_3           0.0\n",
      "Name: 0, dtype: float64\n"
     ]
    },
    {
     "ename": "InvalidArgumentError",
     "evalue": "Graph execution error:\n\nDetected at node 'sequential_36/dense_150/BiasAdd' defined at (most recent call last):\n    File \"/mnt/run/anaconda3/envs/training9/lib/python3.9/runpy.py\", line 197, in _run_module_as_main\n      return _run_code(code, main_globals, None,\n    File \"/mnt/run/anaconda3/envs/training9/lib/python3.9/runpy.py\", line 87, in _run_code\n      exec(code, run_globals)\n    File \"/mnt/run/anaconda3/envs/training9/lib/python3.9/site-packages/ipykernel_launcher.py\", line 17, in <module>\n      app.launch_new_instance()\n    File \"/mnt/run/anaconda3/envs/training9/lib/python3.9/site-packages/traitlets/config/application.py\", line 1043, in launch_instance\n      app.start()\n    File \"/mnt/run/anaconda3/envs/training9/lib/python3.9/site-packages/ipykernel/kernelapp.py\", line 725, in start\n      self.io_loop.start()\n    File \"/mnt/run/anaconda3/envs/training9/lib/python3.9/site-packages/tornado/platform/asyncio.py\", line 195, in start\n      self.asyncio_loop.run_forever()\n    File \"/mnt/run/anaconda3/envs/training9/lib/python3.9/asyncio/base_events.py\", line 601, in run_forever\n      self._run_once()\n    File \"/mnt/run/anaconda3/envs/training9/lib/python3.9/asyncio/base_events.py\", line 1905, in _run_once\n      handle._run()\n    File \"/mnt/run/anaconda3/envs/training9/lib/python3.9/asyncio/events.py\", line 80, in _run\n      self._context.run(self._callback, *self._args)\n    File \"/mnt/run/anaconda3/envs/training9/lib/python3.9/site-packages/ipykernel/kernelbase.py\", line 513, in dispatch_queue\n      await self.process_one()\n    File \"/mnt/run/anaconda3/envs/training9/lib/python3.9/site-packages/ipykernel/kernelbase.py\", line 502, in process_one\n      await dispatch(*args)\n    File \"/mnt/run/anaconda3/envs/training9/lib/python3.9/site-packages/ipykernel/kernelbase.py\", line 409, in dispatch_shell\n      await result\n    File \"/mnt/run/anaconda3/envs/training9/lib/python3.9/site-packages/ipykernel/kernelbase.py\", line 729, in execute_request\n      reply_content = await reply_content\n    File \"/mnt/run/anaconda3/envs/training9/lib/python3.9/site-packages/ipykernel/ipkernel.py\", line 422, in do_execute\n      res = shell.run_cell(\n    File \"/mnt/run/anaconda3/envs/training9/lib/python3.9/site-packages/ipykernel/zmqshell.py\", line 540, in run_cell\n      return super().run_cell(*args, **kwargs)\n    File \"/mnt/run/anaconda3/envs/training9/lib/python3.9/site-packages/IPython/core/interactiveshell.py\", line 3006, in run_cell\n      result = self._run_cell(\n    File \"/mnt/run/anaconda3/envs/training9/lib/python3.9/site-packages/IPython/core/interactiveshell.py\", line 3061, in _run_cell\n      result = runner(coro)\n    File \"/mnt/run/anaconda3/envs/training9/lib/python3.9/site-packages/IPython/core/async_helpers.py\", line 129, in _pseudo_sync_runner\n      coro.send(None)\n    File \"/mnt/run/anaconda3/envs/training9/lib/python3.9/site-packages/IPython/core/interactiveshell.py\", line 3266, in run_cell_async\n      has_raised = await self.run_ast_nodes(code_ast.body, cell_name,\n    File \"/mnt/run/anaconda3/envs/training9/lib/python3.9/site-packages/IPython/core/interactiveshell.py\", line 3445, in run_ast_nodes\n      if await self.run_code(code, result, async_=asy):\n    File \"/mnt/run/anaconda3/envs/training9/lib/python3.9/site-packages/IPython/core/interactiveshell.py\", line 3505, in run_code\n      exec(code_obj, self.user_global_ns, self.user_ns)\n    File \"/tmp/ipykernel_11568/3732173780.py\", line 6, in <module>\n      model_me.predict(test.iloc[0,:])\n    File \"/mnt/run/anaconda3/envs/training9/lib/python3.9/site-packages/keras/utils/traceback_utils.py\", line 65, in error_handler\n      return fn(*args, **kwargs)\n    File \"/mnt/run/anaconda3/envs/training9/lib/python3.9/site-packages/keras/engine/training.py\", line 2350, in predict\n      tmp_batch_outputs = self.predict_function(iterator)\n    File \"/mnt/run/anaconda3/envs/training9/lib/python3.9/site-packages/keras/engine/training.py\", line 2137, in predict_function\n      return step_function(self, iterator)\n    File \"/mnt/run/anaconda3/envs/training9/lib/python3.9/site-packages/keras/engine/training.py\", line 2123, in step_function\n      outputs = model.distribute_strategy.run(run_step, args=(data,))\n    File \"/mnt/run/anaconda3/envs/training9/lib/python3.9/site-packages/keras/engine/training.py\", line 2111, in run_step\n      outputs = model.predict_step(data)\n    File \"/mnt/run/anaconda3/envs/training9/lib/python3.9/site-packages/keras/engine/training.py\", line 2079, in predict_step\n      return self(x, training=False)\n    File \"/mnt/run/anaconda3/envs/training9/lib/python3.9/site-packages/keras/utils/traceback_utils.py\", line 65, in error_handler\n      return fn(*args, **kwargs)\n    File \"/mnt/run/anaconda3/envs/training9/lib/python3.9/site-packages/keras/engine/training.py\", line 561, in __call__\n      return super().__call__(*args, **kwargs)\n    File \"/mnt/run/anaconda3/envs/training9/lib/python3.9/site-packages/keras/utils/traceback_utils.py\", line 65, in error_handler\n      return fn(*args, **kwargs)\n    File \"/mnt/run/anaconda3/envs/training9/lib/python3.9/site-packages/keras/engine/base_layer.py\", line 1132, in __call__\n      outputs = call_fn(inputs, *args, **kwargs)\n    File \"/mnt/run/anaconda3/envs/training9/lib/python3.9/site-packages/keras/utils/traceback_utils.py\", line 96, in error_handler\n      return fn(*args, **kwargs)\n    File \"/mnt/run/anaconda3/envs/training9/lib/python3.9/site-packages/keras/engine/sequential.py\", line 413, in call\n      return super().call(inputs, training=training, mask=mask)\n    File \"/mnt/run/anaconda3/envs/training9/lib/python3.9/site-packages/keras/engine/functional.py\", line 511, in call\n      return self._run_internal_graph(inputs, training=training, mask=mask)\n    File \"/mnt/run/anaconda3/envs/training9/lib/python3.9/site-packages/keras/engine/functional.py\", line 668, in _run_internal_graph\n      outputs = node.layer(*args, **kwargs)\n    File \"/mnt/run/anaconda3/envs/training9/lib/python3.9/site-packages/keras/utils/traceback_utils.py\", line 65, in error_handler\n      return fn(*args, **kwargs)\n    File \"/mnt/run/anaconda3/envs/training9/lib/python3.9/site-packages/keras/engine/base_layer.py\", line 1132, in __call__\n      outputs = call_fn(inputs, *args, **kwargs)\n    File \"/mnt/run/anaconda3/envs/training9/lib/python3.9/site-packages/keras/utils/traceback_utils.py\", line 96, in error_handler\n      return fn(*args, **kwargs)\n    File \"/mnt/run/anaconda3/envs/training9/lib/python3.9/site-packages/keras/layers/core/dense.py\", line 252, in call\n      outputs = tf.nn.bias_add(outputs, self.bias)\nNode: 'sequential_36/dense_150/BiasAdd'\nMatrix size-incompatible: In[0]: [9,1], In[1]: [9,80]\n\t [[{{node sequential_36/dense_150/BiasAdd}}]] [Op:__inference_predict_function_2475590]",
     "output_type": "error",
     "traceback": [
      "\u001b[0;31m---------------------------------------------------------------------------\u001b[0m",
      "\u001b[0;31mInvalidArgumentError\u001b[0m                      Traceback (most recent call last)",
      "Cell \u001b[0;32mIn[155], line 12\u001b[0m\n\u001b[1;32m     10\u001b[0m \u001b[38;5;66;03m#valor1=scaler.transform(valor1)\u001b[39;00m\n\u001b[1;32m     11\u001b[0m \u001b[38;5;28mprint\u001b[39m(valor1)\n\u001b[0;32m---> 12\u001b[0m \u001b[43mmodel_me\u001b[49m\u001b[38;5;241;43m.\u001b[39;49m\u001b[43mpredict\u001b[49m\u001b[43m(\u001b[49m\u001b[43mvalor1\u001b[49m\u001b[38;5;241;43m.\u001b[39;49m\u001b[43mvalues\u001b[49m\u001b[38;5;241;43m.\u001b[39;49m\u001b[43mreshape\u001b[49m\u001b[43m(\u001b[49m\u001b[38;5;241;43m-\u001b[39;49m\u001b[38;5;241;43m1\u001b[39;49m\u001b[43m,\u001b[49m\u001b[38;5;241;43m1\u001b[39;49m\u001b[43m)\u001b[49m\u001b[43m)\u001b[49m\n",
      "File \u001b[0;32m/mnt/run/anaconda3/envs/training9/lib/python3.9/site-packages/keras/utils/traceback_utils.py:70\u001b[0m, in \u001b[0;36mfilter_traceback.<locals>.error_handler\u001b[0;34m(*args, **kwargs)\u001b[0m\n\u001b[1;32m     67\u001b[0m     filtered_tb \u001b[38;5;241m=\u001b[39m _process_traceback_frames(e\u001b[38;5;241m.\u001b[39m__traceback__)\n\u001b[1;32m     68\u001b[0m     \u001b[38;5;66;03m# To get the full stack trace, call:\u001b[39;00m\n\u001b[1;32m     69\u001b[0m     \u001b[38;5;66;03m# `tf.debugging.disable_traceback_filtering()`\u001b[39;00m\n\u001b[0;32m---> 70\u001b[0m     \u001b[38;5;28;01mraise\u001b[39;00m e\u001b[38;5;241m.\u001b[39mwith_traceback(filtered_tb) \u001b[38;5;28;01mfrom\u001b[39;00m \u001b[38;5;28;01mNone\u001b[39;00m\n\u001b[1;32m     71\u001b[0m \u001b[38;5;28;01mfinally\u001b[39;00m:\n\u001b[1;32m     72\u001b[0m     \u001b[38;5;28;01mdel\u001b[39;00m filtered_tb\n",
      "File \u001b[0;32m/mnt/run/anaconda3/envs/training9/lib/python3.9/site-packages/tensorflow/python/eager/execute.py:52\u001b[0m, in \u001b[0;36mquick_execute\u001b[0;34m(op_name, num_outputs, inputs, attrs, ctx, name)\u001b[0m\n\u001b[1;32m     50\u001b[0m \u001b[38;5;28;01mtry\u001b[39;00m:\n\u001b[1;32m     51\u001b[0m   ctx\u001b[38;5;241m.\u001b[39mensure_initialized()\n\u001b[0;32m---> 52\u001b[0m   tensors \u001b[38;5;241m=\u001b[39m pywrap_tfe\u001b[38;5;241m.\u001b[39mTFE_Py_Execute(ctx\u001b[38;5;241m.\u001b[39m_handle, device_name, op_name,\n\u001b[1;32m     53\u001b[0m                                       inputs, attrs, num_outputs)\n\u001b[1;32m     54\u001b[0m \u001b[38;5;28;01mexcept\u001b[39;00m core\u001b[38;5;241m.\u001b[39m_NotOkStatusException \u001b[38;5;28;01mas\u001b[39;00m e:\n\u001b[1;32m     55\u001b[0m   \u001b[38;5;28;01mif\u001b[39;00m name \u001b[38;5;129;01mis\u001b[39;00m \u001b[38;5;129;01mnot\u001b[39;00m \u001b[38;5;28;01mNone\u001b[39;00m:\n",
      "\u001b[0;31mInvalidArgumentError\u001b[0m: Graph execution error:\n\nDetected at node 'sequential_36/dense_150/BiasAdd' defined at (most recent call last):\n    File \"/mnt/run/anaconda3/envs/training9/lib/python3.9/runpy.py\", line 197, in _run_module_as_main\n      return _run_code(code, main_globals, None,\n    File \"/mnt/run/anaconda3/envs/training9/lib/python3.9/runpy.py\", line 87, in _run_code\n      exec(code, run_globals)\n    File \"/mnt/run/anaconda3/envs/training9/lib/python3.9/site-packages/ipykernel_launcher.py\", line 17, in <module>\n      app.launch_new_instance()\n    File \"/mnt/run/anaconda3/envs/training9/lib/python3.9/site-packages/traitlets/config/application.py\", line 1043, in launch_instance\n      app.start()\n    File \"/mnt/run/anaconda3/envs/training9/lib/python3.9/site-packages/ipykernel/kernelapp.py\", line 725, in start\n      self.io_loop.start()\n    File \"/mnt/run/anaconda3/envs/training9/lib/python3.9/site-packages/tornado/platform/asyncio.py\", line 195, in start\n      self.asyncio_loop.run_forever()\n    File \"/mnt/run/anaconda3/envs/training9/lib/python3.9/asyncio/base_events.py\", line 601, in run_forever\n      self._run_once()\n    File \"/mnt/run/anaconda3/envs/training9/lib/python3.9/asyncio/base_events.py\", line 1905, in _run_once\n      handle._run()\n    File \"/mnt/run/anaconda3/envs/training9/lib/python3.9/asyncio/events.py\", line 80, in _run\n      self._context.run(self._callback, *self._args)\n    File \"/mnt/run/anaconda3/envs/training9/lib/python3.9/site-packages/ipykernel/kernelbase.py\", line 513, in dispatch_queue\n      await self.process_one()\n    File \"/mnt/run/anaconda3/envs/training9/lib/python3.9/site-packages/ipykernel/kernelbase.py\", line 502, in process_one\n      await dispatch(*args)\n    File \"/mnt/run/anaconda3/envs/training9/lib/python3.9/site-packages/ipykernel/kernelbase.py\", line 409, in dispatch_shell\n      await result\n    File \"/mnt/run/anaconda3/envs/training9/lib/python3.9/site-packages/ipykernel/kernelbase.py\", line 729, in execute_request\n      reply_content = await reply_content\n    File \"/mnt/run/anaconda3/envs/training9/lib/python3.9/site-packages/ipykernel/ipkernel.py\", line 422, in do_execute\n      res = shell.run_cell(\n    File \"/mnt/run/anaconda3/envs/training9/lib/python3.9/site-packages/ipykernel/zmqshell.py\", line 540, in run_cell\n      return super().run_cell(*args, **kwargs)\n    File \"/mnt/run/anaconda3/envs/training9/lib/python3.9/site-packages/IPython/core/interactiveshell.py\", line 3006, in run_cell\n      result = self._run_cell(\n    File \"/mnt/run/anaconda3/envs/training9/lib/python3.9/site-packages/IPython/core/interactiveshell.py\", line 3061, in _run_cell\n      result = runner(coro)\n    File \"/mnt/run/anaconda3/envs/training9/lib/python3.9/site-packages/IPython/core/async_helpers.py\", line 129, in _pseudo_sync_runner\n      coro.send(None)\n    File \"/mnt/run/anaconda3/envs/training9/lib/python3.9/site-packages/IPython/core/interactiveshell.py\", line 3266, in run_cell_async\n      has_raised = await self.run_ast_nodes(code_ast.body, cell_name,\n    File \"/mnt/run/anaconda3/envs/training9/lib/python3.9/site-packages/IPython/core/interactiveshell.py\", line 3445, in run_ast_nodes\n      if await self.run_code(code, result, async_=asy):\n    File \"/mnt/run/anaconda3/envs/training9/lib/python3.9/site-packages/IPython/core/interactiveshell.py\", line 3505, in run_code\n      exec(code_obj, self.user_global_ns, self.user_ns)\n    File \"/tmp/ipykernel_11568/3732173780.py\", line 6, in <module>\n      model_me.predict(test.iloc[0,:])\n    File \"/mnt/run/anaconda3/envs/training9/lib/python3.9/site-packages/keras/utils/traceback_utils.py\", line 65, in error_handler\n      return fn(*args, **kwargs)\n    File \"/mnt/run/anaconda3/envs/training9/lib/python3.9/site-packages/keras/engine/training.py\", line 2350, in predict\n      tmp_batch_outputs = self.predict_function(iterator)\n    File \"/mnt/run/anaconda3/envs/training9/lib/python3.9/site-packages/keras/engine/training.py\", line 2137, in predict_function\n      return step_function(self, iterator)\n    File \"/mnt/run/anaconda3/envs/training9/lib/python3.9/site-packages/keras/engine/training.py\", line 2123, in step_function\n      outputs = model.distribute_strategy.run(run_step, args=(data,))\n    File \"/mnt/run/anaconda3/envs/training9/lib/python3.9/site-packages/keras/engine/training.py\", line 2111, in run_step\n      outputs = model.predict_step(data)\n    File \"/mnt/run/anaconda3/envs/training9/lib/python3.9/site-packages/keras/engine/training.py\", line 2079, in predict_step\n      return self(x, training=False)\n    File \"/mnt/run/anaconda3/envs/training9/lib/python3.9/site-packages/keras/utils/traceback_utils.py\", line 65, in error_handler\n      return fn(*args, **kwargs)\n    File \"/mnt/run/anaconda3/envs/training9/lib/python3.9/site-packages/keras/engine/training.py\", line 561, in __call__\n      return super().__call__(*args, **kwargs)\n    File \"/mnt/run/anaconda3/envs/training9/lib/python3.9/site-packages/keras/utils/traceback_utils.py\", line 65, in error_handler\n      return fn(*args, **kwargs)\n    File \"/mnt/run/anaconda3/envs/training9/lib/python3.9/site-packages/keras/engine/base_layer.py\", line 1132, in __call__\n      outputs = call_fn(inputs, *args, **kwargs)\n    File \"/mnt/run/anaconda3/envs/training9/lib/python3.9/site-packages/keras/utils/traceback_utils.py\", line 96, in error_handler\n      return fn(*args, **kwargs)\n    File \"/mnt/run/anaconda3/envs/training9/lib/python3.9/site-packages/keras/engine/sequential.py\", line 413, in call\n      return super().call(inputs, training=training, mask=mask)\n    File \"/mnt/run/anaconda3/envs/training9/lib/python3.9/site-packages/keras/engine/functional.py\", line 511, in call\n      return self._run_internal_graph(inputs, training=training, mask=mask)\n    File \"/mnt/run/anaconda3/envs/training9/lib/python3.9/site-packages/keras/engine/functional.py\", line 668, in _run_internal_graph\n      outputs = node.layer(*args, **kwargs)\n    File \"/mnt/run/anaconda3/envs/training9/lib/python3.9/site-packages/keras/utils/traceback_utils.py\", line 65, in error_handler\n      return fn(*args, **kwargs)\n    File \"/mnt/run/anaconda3/envs/training9/lib/python3.9/site-packages/keras/engine/base_layer.py\", line 1132, in __call__\n      outputs = call_fn(inputs, *args, **kwargs)\n    File \"/mnt/run/anaconda3/envs/training9/lib/python3.9/site-packages/keras/utils/traceback_utils.py\", line 96, in error_handler\n      return fn(*args, **kwargs)\n    File \"/mnt/run/anaconda3/envs/training9/lib/python3.9/site-packages/keras/layers/core/dense.py\", line 252, in call\n      outputs = tf.nn.bias_add(outputs, self.bias)\nNode: 'sequential_36/dense_150/BiasAdd'\nMatrix size-incompatible: In[0]: [9,1], In[1]: [9,80]\n\t [[{{node sequential_36/dense_150/BiasAdd}}]] [Op:__inference_predict_function_2475590]"
     ]
    }
   ],
   "source": [
    "test = pd.read_csv('../data/mpg_new_data.csv')\n",
    "# 28 y 31\n",
    "test.drop('Unnamed: 0', axis=1, inplace=True)\n",
    "test['Origin_2']=0\n",
    "test['Origin_3']=0\n",
    "display(test)\n",
    "#print(type(model_me))\n",
    "valor1=test.iloc[0]\n",
    "print(valor1)\n",
    "#valor1=scaler.transform(valor1)\n",
    "print(valor1)\n",
    "model_me.predict(valor1.values.reshape(-1,1))"
   ]
  },
  {
   "cell_type": "markdown",
   "metadata": {
    "id": "CeqBAG7Hb9Nm"
   },
   "source": [
    "### Métricas de rendimiento"
   ]
  },
  {
   "cell_type": "markdown",
   "metadata": {
    "id": "3St8-DmrX8P4"
   },
   "source": [
    "Veamos qué tan bien generaliza el modelo al usar el **conjunto de prueba**, el cual no fue usado para entrenar el modelo. Esto nos dice qué tan bien podemos esperar que el modelo prediga cuándo lo usamos en el mundo real."
   ]
  },
  {
   "cell_type": "markdown",
   "metadata": {
    "id": "ft603OzXuEZC"
   },
   "source": [
    "### Predicciones\n",
    "\n",
    "Finalmente, predecimos los valores de MPG utilizando los datos del conjunto de prueba"
   ]
  },
  {
   "cell_type": "code",
   "execution_count": 108,
   "metadata": {
    "id": "Xe7RXH3N3CWU"
   },
   "outputs": [
    {
     "name": "stdout",
     "output_type": "stream",
     "text": [
      "WARNING:tensorflow:6 out of the last 10 calls to <function Model.make_predict_function.<locals>.predict_function at 0x7f88efa4b160> triggered tf.function retracing. Tracing is expensive and the excessive number of tracings could be due to (1) creating @tf.function repeatedly in a loop, (2) passing tensors with different shapes, (3) passing Python objects instead of tensors. For (1), please define your @tf.function outside of the loop. For (2), @tf.function has reduce_retracing=True option that can avoid unnecessary retracing. For (3), please refer to https://www.tensorflow.org/guide/function#controlling_retracing and https://www.tensorflow.org/api_docs/python/tf/function for  more details.\n",
      "2/2 [==============================] - 0s 2ms/step\n"
     ]
    },
    {
     "data": {
      "image/png": "[encoded data removed]",
      "text/plain": [
       "<Figure size 640x480 with 1 Axes>"
      ]
     },
     "metadata": {},
     "output_type": "display_data"
    }
   ],
   "source": [
    "y_pred = model_me.predict(X_test_scl).flatten()\n",
    "\n",
    "plt.scatter(y_test, y_pred)\n",
    "plt.xlabel('True Values [MPG]')\n",
    "plt.ylabel('Predictions [MPG]')\n",
    "plt.axis('equal')\n",
    "plt.axis('square')\n",
    "plt.xlim([0,plt.xlim()[1]])\n",
    "plt.ylim([0,plt.ylim()[1]])\n",
    "_ = plt.plot([-100, 100], [-100, 100])\n"
   ]
  },
  {
   "cell_type": "markdown",
   "metadata": {
    "id": "19wyogbOSU5t"
   },
   "source": [
    "Veamos la distribución de errores."
   ]
  },
  {
   "cell_type": "code",
   "execution_count": 109,
   "metadata": {
    "id": "f-OHX4DiXd8x"
   },
   "outputs": [
    {
     "name": "stdout",
     "output_type": "stream",
     "text": [
      "(60,)\n"
     ]
    },
    {
     "data": {
      "image/png": "[encoded data removed]",
      "text/plain": [
       "<Figure size 640x480 with 1 Axes>"
      ]
     },
     "metadata": {},
     "output_type": "display_data"
    }
   ],
   "source": [
    "error = y_pred - y_test\n",
    "#plt.hist(error, bins = 25)\n",
    "print(error.shape)\n",
    "plt.hist(error, bins = 59 )\n",
    "plt.xlabel(\"Error en la predicción [MPG]\")\n",
    "plt.ylabel(\"Conteos\")\n",
    "plt.show()"
   ]
  },
  {
   "cell_type": "markdown",
   "metadata": {
    "id": "Zl7IlJJgcE9_"
   },
   "source": [
    "## ⭕ Práctica"
   ]
  },
  {
   "cell_type": "markdown",
   "metadata": {
    "id": "wWAn3u8giOxG"
   },
   "source": [
    "1. Repite el experimento usando 100 épocas y sin normalizar los datos, ¿qué le sucede a las métricas de rendimiento?\n",
    "\n",
    "**El objetivo de los siguientes puntos es experimentar para subir las métricas de rendimiento del modelo.**\n",
    "\n",
    "2. Usando los datos normalizados, cambia los parámetros del módelo:\n",
    "    * Número de capas ocultas\n",
    "    * Número de nueronas en las capas ocultas\n",
    "    * Funciones de activación de las capas ocultas\n",
    "    * Optimizador\n",
    "\n",
    "Puedes hacer el modelo más sencillo o más complejo.\n",
    "\n",
    "3. ¿Mejora el rendimiento de tu modelo si imputas los 6 valores faltantes?\n",
    "\n",
    "En cada uno de los 3 puntos anteriores, grafica también un `scatterplot` de los valores reales contra los valores predichos.\n",
    "\n",
    "Ya que tengas tu mejor modelo, toma el archivo `mpg_new_data.csv` del repositorio y obten las predicciones para estos datos. Al final de la práctica las podrás comparar contra los valores reales."
   ]
  },
  {
   "cell_type": "code",
   "execution_count": null,
   "metadata": {
    "id": "EQVNlT6ycEzz"
   },
   "outputs": [],
   "source": []
  },
  {
   "cell_type": "markdown",
   "metadata": {
    "id": "vgGQuV-yqYZH"
   },
   "source": [
    "## Conclusiones\n",
    "\n",
    "* El error cuadrático medio (MSE) es una función de pérdida común utilizada para problemas de regresión. Otra métrica de regresión común es el error absoluto medio (MAE).\n",
    "* Cuando las features de datos de entrada numéricos tienen valores con diferentes rangos, cada característica debe escalarse independientemente al mismo rango.\n",
    "* Si no hay muchos datos de entrenamiento, es preferible usar una red pequeña con pocas capas ocultas para evitar el sobreajuste.\n",
    "* El entrenamiento con pocas épocas es una técnica útil para evitar el sobreajuste. Otra técnica es el *early stopping** (coming soon...)."
   ]
  }
 ],
 "metadata": {
  "colab": {
   "provenance": []
  },
  "kernelspec": {
   "display_name": "Python 3 (ipykernel)",
   "language": "python",
   "name": "python3"
  },
  "language_info": {
   "codemirror_mode": {
    "name": "ipython",
    "version": 3
   },
   "file_extension": ".py",
   "mimetype": "text/x-python",
   "name": "python",
   "nbconvert_exporter": "python",
   "pygments_lexer": "ipython3",
   "version": "3.9.16"
  }
 },
 "nbformat": 4,
 "nbformat_minor": 1
}
